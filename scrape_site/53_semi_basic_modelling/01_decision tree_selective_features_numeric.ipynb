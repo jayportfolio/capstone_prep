{
 "cells": [
  {
   "cell_type": "code",
   "execution_count": 10,
   "metadata": {
    "collapsed": true,
    "pycharm": {
     "name": "#%%\n"
    }
   },
   "outputs": [],
   "source": [
    "from sklearn.model_selection import train_test_split\n",
    "from sklearn.tree import DecisionTreeRegressor\n",
    "import sys\n",
    "sys.path.append('../../globalfunction')  # setting path\n",
    "import globalfunction.vv as vv  # importing\n",
    "import globalfunction.pp as pp  # importing\n",
    "\n",
    "import pandas as pd"
   ]
  },
  {
   "cell_type": "code",
   "execution_count": 11,
   "outputs": [
    {
     "name": "stderr",
     "output_type": "stream",
     "text": [
      "/media/sf_shared_files/Springboard_III/capstone_prep/globalfunction/vv.py:39: DtypeWarning: Columns (23,25,26,28,31,32,40,44,47,51,54,56,59,60,61,62,63,64,74,78,79,80,82,83,84,85,86) have mixed types. Specify dtype option on import or set low_memory=False.\n",
      "  df_json = pd.read_csv(vv.LISTING_JSON_MODEL_FILE)\n"
     ]
    },
    {
     "name": "stdout",
     "output_type": "stream",
     "text": [
      "(26254, 161)\n"
     ]
    },
    {
     "data": {
      "text/plain": "         ids                                              Links  \\\n0  123171899  https://www.rightmove.co.uk/properties/1231718...   \n1   85461000  https://www.rightmove.co.uk/properties/8546100...   \n2   85461000  https://www.rightmove.co.uk/properties/8546100...   \n3   85461000  https://www.rightmove.co.uk/properties/8546100...   \n4   85461000  https://www.rightmove.co.uk/properties/8546100...   \n\n                             Address                        Description  \\\n0                 Springbank, London       3 bedroom apartment for sale   \n1  Bullsmoor Way, Waltham Cross, EN8  3 bedroom terraced house for sale   \n2  Bullsmoor Way, Waltham Cross, EN8  3 bedroom terraced house for sale   \n3  Bullsmoor Way, Waltham Cross, EN8  3 bedroom terraced house for sale   \n4  Bullsmoor Way, Waltham Cross, EN8  3 bedroom terraced house for sale   \n\n      Price       version                 borough  \\\n0  475000.0  v0021_220622  ('Enfield', '5E93950')   \n1  375000.0  v0021_220622  ('Enfield', '5E93950')   \n2  375000.0  v0021_220622  ('Enfield', '5E93950')   \n3  375000.0  v0021_220622  ('Enfield', '5E93950')   \n4  375000.0  v0021_220622  ('Enfield', '5E93950')   \n\n                                    referencing_link  \\\n0  https://www.rightmove.co.uk/property-for-sale/...   \n1  https://www.rightmove.co.uk/property-for-sale/...   \n2  https://www.rightmove.co.uk/property-for-sale/...   \n3  https://www.rightmove.co.uk/property-for-sale/...   \n4  https://www.rightmove.co.uk/property-for-sale/...   \n\n                                            add_info         date_scraped  \\\n0            Added on 09/05/2022 by haart, Southgate  2022-06-26 20:35:34   \n1  Reduced on 17/03/2022 by Christopher Stokes, C...  2022-06-26 20:35:34   \n2  Reduced on 17/03/2022 by Christopher Stokes, C...  2022-06-26 20:35:34   \n3  Reduced on 17/03/2022 by Christopher Stokes, C...  2022-06-26 20:35:34   \n4  Reduced on 17/03/2022 by Christopher Stokes, C...  2022-06-26 20:35:34   \n\n   ... analyticsProperty.propertySubType analyticsProperty.propertyType  \\\n0  ...                         Apartment             Flats / Apartments   \n1  ...                          Terraced                         Houses   \n2  ...                          Terraced                         Houses   \n3  ...                          Terraced                         Houses   \n4  ...                          Terraced                         Houses   \n\n   analyticsProperty.retirement analyticsProperty.selectedCurrency  \\\n0                         False                                NaN   \n1                         False                                NaN   \n2                         False                                NaN   \n3                         False                                NaN   \n4                         False                                NaN   \n\n   analyticsProperty.selectedPrice  analyticsProperty.soldSTC  \\\n0                              NaN                      False   \n1                              NaN                      False   \n2                              NaN                      False   \n3                              NaN                      False   \n4                              NaN                      False   \n\n  analyticsProperty.videoProvider analyticsProperty.viewType  \\\n0                        Embedded                    Current   \n1                        No Video                    Current   \n2                        No Video                    Current   \n3                        No Video                    Current   \n4                        No Video                    Current   \n\n                         analyticsProperty.customUri Unnamed: 46  \n0  https://www.rightmove.co.uk/property-for-sale/...         NaN  \n1  https://www.rightmove.co.uk/property-for-sale/...         NaN  \n2  https://www.rightmove.co.uk/property-for-sale/...         NaN  \n3  https://www.rightmove.co.uk/property-for-sale/...         NaN  \n4  https://www.rightmove.co.uk/property-for-sale/...         NaN  \n\n[5 rows x 161 columns]",
      "text/html": "<div>\n<style scoped>\n    .dataframe tbody tr th:only-of-type {\n        vertical-align: middle;\n    }\n\n    .dataframe tbody tr th {\n        vertical-align: top;\n    }\n\n    .dataframe thead th {\n        text-align: right;\n    }\n</style>\n<table border=\"1\" class=\"dataframe\">\n  <thead>\n    <tr style=\"text-align: right;\">\n      <th></th>\n      <th>ids</th>\n      <th>Links</th>\n      <th>Address</th>\n      <th>Description</th>\n      <th>Price</th>\n      <th>version</th>\n      <th>borough</th>\n      <th>referencing_link</th>\n      <th>add_info</th>\n      <th>date_scraped</th>\n      <th>...</th>\n      <th>analyticsProperty.propertySubType</th>\n      <th>analyticsProperty.propertyType</th>\n      <th>analyticsProperty.retirement</th>\n      <th>analyticsProperty.selectedCurrency</th>\n      <th>analyticsProperty.selectedPrice</th>\n      <th>analyticsProperty.soldSTC</th>\n      <th>analyticsProperty.videoProvider</th>\n      <th>analyticsProperty.viewType</th>\n      <th>analyticsProperty.customUri</th>\n      <th>Unnamed: 46</th>\n    </tr>\n  </thead>\n  <tbody>\n    <tr>\n      <th>0</th>\n      <td>123171899</td>\n      <td>https://www.rightmove.co.uk/properties/1231718...</td>\n      <td>Springbank, London</td>\n      <td>3 bedroom apartment for sale</td>\n      <td>475000.0</td>\n      <td>v0021_220622</td>\n      <td>('Enfield', '5E93950')</td>\n      <td>https://www.rightmove.co.uk/property-for-sale/...</td>\n      <td>Added on 09/05/2022 by haart, Southgate</td>\n      <td>2022-06-26 20:35:34</td>\n      <td>...</td>\n      <td>Apartment</td>\n      <td>Flats / Apartments</td>\n      <td>False</td>\n      <td>NaN</td>\n      <td>NaN</td>\n      <td>False</td>\n      <td>Embedded</td>\n      <td>Current</td>\n      <td>https://www.rightmove.co.uk/property-for-sale/...</td>\n      <td>NaN</td>\n    </tr>\n    <tr>\n      <th>1</th>\n      <td>85461000</td>\n      <td>https://www.rightmove.co.uk/properties/8546100...</td>\n      <td>Bullsmoor Way, Waltham Cross, EN8</td>\n      <td>3 bedroom terraced house for sale</td>\n      <td>375000.0</td>\n      <td>v0021_220622</td>\n      <td>('Enfield', '5E93950')</td>\n      <td>https://www.rightmove.co.uk/property-for-sale/...</td>\n      <td>Reduced on 17/03/2022 by Christopher Stokes, C...</td>\n      <td>2022-06-26 20:35:34</td>\n      <td>...</td>\n      <td>Terraced</td>\n      <td>Houses</td>\n      <td>False</td>\n      <td>NaN</td>\n      <td>NaN</td>\n      <td>False</td>\n      <td>No Video</td>\n      <td>Current</td>\n      <td>https://www.rightmove.co.uk/property-for-sale/...</td>\n      <td>NaN</td>\n    </tr>\n    <tr>\n      <th>2</th>\n      <td>85461000</td>\n      <td>https://www.rightmove.co.uk/properties/8546100...</td>\n      <td>Bullsmoor Way, Waltham Cross, EN8</td>\n      <td>3 bedroom terraced house for sale</td>\n      <td>375000.0</td>\n      <td>v0021_220622</td>\n      <td>('Enfield', '5E93950')</td>\n      <td>https://www.rightmove.co.uk/property-for-sale/...</td>\n      <td>Reduced on 17/03/2022 by Christopher Stokes, C...</td>\n      <td>2022-06-26 20:35:34</td>\n      <td>...</td>\n      <td>Terraced</td>\n      <td>Houses</td>\n      <td>False</td>\n      <td>NaN</td>\n      <td>NaN</td>\n      <td>False</td>\n      <td>No Video</td>\n      <td>Current</td>\n      <td>https://www.rightmove.co.uk/property-for-sale/...</td>\n      <td>NaN</td>\n    </tr>\n    <tr>\n      <th>3</th>\n      <td>85461000</td>\n      <td>https://www.rightmove.co.uk/properties/8546100...</td>\n      <td>Bullsmoor Way, Waltham Cross, EN8</td>\n      <td>3 bedroom terraced house for sale</td>\n      <td>375000.0</td>\n      <td>v0021_220622</td>\n      <td>('Enfield', '5E93950')</td>\n      <td>https://www.rightmove.co.uk/property-for-sale/...</td>\n      <td>Reduced on 17/03/2022 by Christopher Stokes, C...</td>\n      <td>2022-06-26 20:35:34</td>\n      <td>...</td>\n      <td>Terraced</td>\n      <td>Houses</td>\n      <td>False</td>\n      <td>NaN</td>\n      <td>NaN</td>\n      <td>False</td>\n      <td>No Video</td>\n      <td>Current</td>\n      <td>https://www.rightmove.co.uk/property-for-sale/...</td>\n      <td>NaN</td>\n    </tr>\n    <tr>\n      <th>4</th>\n      <td>85461000</td>\n      <td>https://www.rightmove.co.uk/properties/8546100...</td>\n      <td>Bullsmoor Way, Waltham Cross, EN8</td>\n      <td>3 bedroom terraced house for sale</td>\n      <td>375000.0</td>\n      <td>v0021_220622</td>\n      <td>('Enfield', '5E93950')</td>\n      <td>https://www.rightmove.co.uk/property-for-sale/...</td>\n      <td>Reduced on 17/03/2022 by Christopher Stokes, C...</td>\n      <td>2022-06-26 20:35:34</td>\n      <td>...</td>\n      <td>Terraced</td>\n      <td>Houses</td>\n      <td>False</td>\n      <td>NaN</td>\n      <td>NaN</td>\n      <td>False</td>\n      <td>No Video</td>\n      <td>Current</td>\n      <td>https://www.rightmove.co.uk/property-for-sale/...</td>\n      <td>NaN</td>\n    </tr>\n  </tbody>\n</table>\n<p>5 rows × 161 columns</p>\n</div>"
     },
     "execution_count": 11,
     "metadata": {},
     "output_type": "execute_result"
    }
   ],
   "source": [
    "df_original = vv.quick_data(separate_Xy=False,no_cuts=True,\n",
    "                  numeric_values_only=False, nans_forbidden=False,remove_duplicates=True)\n",
    "#X, y = quick_data(separate_Xy=True,\n",
    "#                  numeric_values_only=True, nans_forbidden=True, exceptional_nans=['bedrooms', 'bathrooms'])\n",
    "print(df_original.shape)\n",
    "df_original.head()"
   ],
   "metadata": {
    "collapsed": false,
    "pycharm": {
     "name": "#%%\n"
    }
   }
  },
  {
   "cell_type": "code",
   "execution_count": 12,
   "outputs": [
    {
     "name": "stderr",
     "output_type": "stream",
     "text": [
      "/media/sf_shared_files/Springboard_III/capstone_prep/globalfunction/vv.py:39: DtypeWarning: Columns (23,25,26,28,31,32,40,44,47,51,54,56,59,60,61,62,63,64,74,78,79,80,82,83,84,85,86) have mixed types. Specify dtype option on import or set low_memory=False.\n",
      "  df_json = pd.read_csv(vv.LISTING_JSON_MODEL_FILE)\n"
     ]
    },
    {
     "data": {
      "text/plain": "ids                                                                        123171899\nLinks                              https://www.rightmove.co.uk/properties/1231718...\nAddress                                                           Springbank, London\nDescription                                             3 bedroom apartment for sale\nPrice                                                                       475000.0\n                                                         ...                        \nanalyticsProperty.soldSTC                                                      False\nanalyticsProperty.videoProvider                                             Embedded\nanalyticsProperty.viewType                                                   Current\nanalyticsProperty.customUri        https://www.rightmove.co.uk/property-for-sale/...\nUnnamed: 46                                                                      NaN\nName: 0, Length: 161, dtype: object"
     },
     "execution_count": 12,
     "metadata": {},
     "output_type": "execute_result"
    }
   ],
   "source": [
    "vv.quick_data(no_cuts=True).iloc[0,:]"
   ],
   "metadata": {
    "collapsed": false,
    "pycharm": {
     "name": "#%%\n"
    }
   }
  },
  {
   "cell_type": "code",
   "execution_count": 62,
   "outputs": [
    {
     "data": {
      "text/plain": "          location.latitude  location.longitude  Station_Prox     Price  \\\nids                                                                       \n123171899         51.639738           -0.111822           0.6  475000.0   \n85461000          51.680699           -0.045830           0.6  375000.0   \n85461000          51.680699           -0.045830           0.6  375000.0   \n85461000          51.680699           -0.045830           0.6  375000.0   \n85461000          51.680699           -0.045830           0.6  375000.0   \n...                     ...                 ...           ...       ...   \n96655021          51.420468           -0.139815           0.2  675000.0   \n97404863          51.369314           -0.229459           0.9  175000.0   \n97404863          51.369314           -0.229459           0.9  175000.0   \n97494416           51.35579           -0.190990           0.3  120000.0   \n97494416           51.35579           -0.190990           0.3  120000.0   \n\n           bedrooms  bathrooms analyticsProperty.imageCount  \\\nids                                                           \n123171899       3.0        2.0                           18   \n85461000        3.0        1.0                           12   \n85461000        3.0        1.0                           12   \n85461000        3.0        1.0                           12   \n85461000        3.0        1.0                           12   \n...             ...        ...                          ...   \n96655021        3.0        2.0                            8   \n97404863        1.0        1.0                           14   \n97404863        1.0        1.0                           14   \n97494416        1.0        1.0                            9   \n97494416        1.0        1.0                            9   \n\n          analyticsProperty.added  \nids                                \n123171899                20220509  \n85461000                 20220607  \n85461000                 20220607  \n85461000                 20220607  \n85461000                 20220607  \n...                           ...  \n96655021                 20220530  \n97404863                 20200919  \n97404863                 20200919  \n97494416                 20200921  \n97494416                 20200921  \n\n[26254 rows x 8 columns]",
      "text/html": "<div>\n<style scoped>\n    .dataframe tbody tr th:only-of-type {\n        vertical-align: middle;\n    }\n\n    .dataframe tbody tr th {\n        vertical-align: top;\n    }\n\n    .dataframe thead th {\n        text-align: right;\n    }\n</style>\n<table border=\"1\" class=\"dataframe\">\n  <thead>\n    <tr style=\"text-align: right;\">\n      <th></th>\n      <th>location.latitude</th>\n      <th>location.longitude</th>\n      <th>Station_Prox</th>\n      <th>Price</th>\n      <th>bedrooms</th>\n      <th>bathrooms</th>\n      <th>analyticsProperty.imageCount</th>\n      <th>analyticsProperty.added</th>\n    </tr>\n    <tr>\n      <th>ids</th>\n      <th></th>\n      <th></th>\n      <th></th>\n      <th></th>\n      <th></th>\n      <th></th>\n      <th></th>\n      <th></th>\n    </tr>\n  </thead>\n  <tbody>\n    <tr>\n      <th>123171899</th>\n      <td>51.639738</td>\n      <td>-0.111822</td>\n      <td>0.6</td>\n      <td>475000.0</td>\n      <td>3.0</td>\n      <td>2.0</td>\n      <td>18</td>\n      <td>20220509</td>\n    </tr>\n    <tr>\n      <th>85461000</th>\n      <td>51.680699</td>\n      <td>-0.045830</td>\n      <td>0.6</td>\n      <td>375000.0</td>\n      <td>3.0</td>\n      <td>1.0</td>\n      <td>12</td>\n      <td>20220607</td>\n    </tr>\n    <tr>\n      <th>85461000</th>\n      <td>51.680699</td>\n      <td>-0.045830</td>\n      <td>0.6</td>\n      <td>375000.0</td>\n      <td>3.0</td>\n      <td>1.0</td>\n      <td>12</td>\n      <td>20220607</td>\n    </tr>\n    <tr>\n      <th>85461000</th>\n      <td>51.680699</td>\n      <td>-0.045830</td>\n      <td>0.6</td>\n      <td>375000.0</td>\n      <td>3.0</td>\n      <td>1.0</td>\n      <td>12</td>\n      <td>20220607</td>\n    </tr>\n    <tr>\n      <th>85461000</th>\n      <td>51.680699</td>\n      <td>-0.045830</td>\n      <td>0.6</td>\n      <td>375000.0</td>\n      <td>3.0</td>\n      <td>1.0</td>\n      <td>12</td>\n      <td>20220607</td>\n    </tr>\n    <tr>\n      <th>...</th>\n      <td>...</td>\n      <td>...</td>\n      <td>...</td>\n      <td>...</td>\n      <td>...</td>\n      <td>...</td>\n      <td>...</td>\n      <td>...</td>\n    </tr>\n    <tr>\n      <th>96655021</th>\n      <td>51.420468</td>\n      <td>-0.139815</td>\n      <td>0.2</td>\n      <td>675000.0</td>\n      <td>3.0</td>\n      <td>2.0</td>\n      <td>8</td>\n      <td>20220530</td>\n    </tr>\n    <tr>\n      <th>97404863</th>\n      <td>51.369314</td>\n      <td>-0.229459</td>\n      <td>0.9</td>\n      <td>175000.0</td>\n      <td>1.0</td>\n      <td>1.0</td>\n      <td>14</td>\n      <td>20200919</td>\n    </tr>\n    <tr>\n      <th>97404863</th>\n      <td>51.369314</td>\n      <td>-0.229459</td>\n      <td>0.9</td>\n      <td>175000.0</td>\n      <td>1.0</td>\n      <td>1.0</td>\n      <td>14</td>\n      <td>20200919</td>\n    </tr>\n    <tr>\n      <th>97494416</th>\n      <td>51.35579</td>\n      <td>-0.190990</td>\n      <td>0.3</td>\n      <td>120000.0</td>\n      <td>1.0</td>\n      <td>1.0</td>\n      <td>9</td>\n      <td>20200921</td>\n    </tr>\n    <tr>\n      <th>97494416</th>\n      <td>51.35579</td>\n      <td>-0.190990</td>\n      <td>0.3</td>\n      <td>120000.0</td>\n      <td>1.0</td>\n      <td>1.0</td>\n      <td>9</td>\n      <td>20200921</td>\n    </tr>\n  </tbody>\n</table>\n<p>26254 rows × 8 columns</p>\n</div>"
     },
     "execution_count": 62,
     "metadata": {},
     "output_type": "execute_result"
    }
   ],
   "source": [
    "cols = ['ids']\n",
    "cols.extend(pp.useful_numeric)\n",
    "df = df_original[cols]\n",
    "df.set_index(\"ids\", inplace=True)\n",
    "df"
   ],
   "metadata": {
    "collapsed": false,
    "pycharm": {
     "name": "#%%\n"
    }
   }
  },
  {
   "cell_type": "code",
   "execution_count": 63,
   "outputs": [
    {
     "name": "stdout",
     "output_type": "stream",
     "text": [
      "(26254, 8)\n",
      "(10161, 8)\n"
     ]
    },
    {
     "data": {
      "text/plain": "          location.latitude  location.longitude  Station_Prox     Price  \\\nids                                                                       \n123171899         51.639738           -0.111822           0.6  475000.0   \n85461000          51.680699           -0.045830           0.6  375000.0   \n85174740          51.678833           -0.029207           0.4  375000.0   \n124007903         51.630846           -0.125552           0.2  375000.0   \n85614570          51.620688           -0.112003           0.2  375000.0   \n\n           bedrooms  bathrooms analyticsProperty.imageCount  \\\nids                                                           \n123171899       3.0        2.0                           18   \n85461000        3.0        1.0                           12   \n85174740        2.0        1.0                           17   \n124007903       2.0        1.0                            9   \n85614570        1.0        1.0                           18   \n\n          analyticsProperty.added  \nids                                \n123171899                20220509  \n85461000                 20220607  \n85174740                 20220505  \n124007903                20220617  \n85614570                 20220611  ",
      "text/html": "<div>\n<style scoped>\n    .dataframe tbody tr th:only-of-type {\n        vertical-align: middle;\n    }\n\n    .dataframe tbody tr th {\n        vertical-align: top;\n    }\n\n    .dataframe thead th {\n        text-align: right;\n    }\n</style>\n<table border=\"1\" class=\"dataframe\">\n  <thead>\n    <tr style=\"text-align: right;\">\n      <th></th>\n      <th>location.latitude</th>\n      <th>location.longitude</th>\n      <th>Station_Prox</th>\n      <th>Price</th>\n      <th>bedrooms</th>\n      <th>bathrooms</th>\n      <th>analyticsProperty.imageCount</th>\n      <th>analyticsProperty.added</th>\n    </tr>\n    <tr>\n      <th>ids</th>\n      <th></th>\n      <th></th>\n      <th></th>\n      <th></th>\n      <th></th>\n      <th></th>\n      <th></th>\n      <th></th>\n    </tr>\n  </thead>\n  <tbody>\n    <tr>\n      <th>123171899</th>\n      <td>51.639738</td>\n      <td>-0.111822</td>\n      <td>0.6</td>\n      <td>475000.0</td>\n      <td>3.0</td>\n      <td>2.0</td>\n      <td>18</td>\n      <td>20220509</td>\n    </tr>\n    <tr>\n      <th>85461000</th>\n      <td>51.680699</td>\n      <td>-0.045830</td>\n      <td>0.6</td>\n      <td>375000.0</td>\n      <td>3.0</td>\n      <td>1.0</td>\n      <td>12</td>\n      <td>20220607</td>\n    </tr>\n    <tr>\n      <th>85174740</th>\n      <td>51.678833</td>\n      <td>-0.029207</td>\n      <td>0.4</td>\n      <td>375000.0</td>\n      <td>2.0</td>\n      <td>1.0</td>\n      <td>17</td>\n      <td>20220505</td>\n    </tr>\n    <tr>\n      <th>124007903</th>\n      <td>51.630846</td>\n      <td>-0.125552</td>\n      <td>0.2</td>\n      <td>375000.0</td>\n      <td>2.0</td>\n      <td>1.0</td>\n      <td>9</td>\n      <td>20220617</td>\n    </tr>\n    <tr>\n      <th>85614570</th>\n      <td>51.620688</td>\n      <td>-0.112003</td>\n      <td>0.2</td>\n      <td>375000.0</td>\n      <td>1.0</td>\n      <td>1.0</td>\n      <td>18</td>\n      <td>20220611</td>\n    </tr>\n  </tbody>\n</table>\n</div>"
     },
     "execution_count": 63,
     "metadata": {},
     "output_type": "execute_result"
    }
   ],
   "source": [
    "print(df.shape)\n",
    "df = df[~df.index.duplicated(keep='last')]\n",
    "print(df.shape)\n",
    "df.head()"
   ],
   "metadata": {
    "collapsed": false,
    "pycharm": {
     "name": "#%%\n"
    }
   }
  },
  {
   "cell_type": "code",
   "execution_count": 64,
   "outputs": [
    {
     "name": "stdout",
     "output_type": "stream",
     "text": [
      "<class 'pandas.core.frame.DataFrame'>\n",
      "Int64Index: 10161 entries, 123171899 to 97494416\n",
      "Data columns (total 8 columns):\n",
      " #   Column                        Non-Null Count  Dtype  \n",
      "---  ------                        --------------  -----  \n",
      " 0   location.latitude             10158 non-null  object \n",
      " 1   location.longitude            10158 non-null  float64\n",
      " 2   Station_Prox                  10161 non-null  float64\n",
      " 3   Price                         10161 non-null  object \n",
      " 4   bedrooms                      9758 non-null   float64\n",
      " 5   bathrooms                     9455 non-null   float64\n",
      " 6   analyticsProperty.imageCount  10142 non-null  object \n",
      " 7   analyticsProperty.added       10142 non-null  object \n",
      "dtypes: float64(4), object(4)\n",
      "memory usage: 714.4+ KB\n"
     ]
    }
   ],
   "source": [
    "df.info()"
   ],
   "metadata": {
    "collapsed": false,
    "pycharm": {
     "name": "#%%\n"
    }
   }
  },
  {
   "cell_type": "code",
   "execution_count": 64,
   "outputs": [],
   "source": [],
   "metadata": {
    "collapsed": false,
    "pycharm": {
     "name": "#%%\n"
    }
   }
  },
  {
   "cell_type": "code",
   "execution_count": 65,
   "outputs": [
    {
     "name": "stdout",
     "output_type": "stream",
     "text": [
      "<class 'pandas.core.frame.DataFrame'>\n",
      "Int64Index: 10161 entries, 123171899 to 97494416\n",
      "Data columns (total 8 columns):\n",
      " #   Column                        Non-Null Count  Dtype  \n",
      "---  ------                        --------------  -----  \n",
      " 0   location.latitude             10158 non-null  object \n",
      " 1   location.longitude            10158 non-null  float64\n",
      " 2   Station_Prox                  10161 non-null  float64\n",
      " 3   Price                         10140 non-null  float64\n",
      " 4   bedrooms                      9758 non-null   float64\n",
      " 5   bathrooms                     9455 non-null   float64\n",
      " 6   analyticsProperty.imageCount  10142 non-null  object \n",
      " 7   analyticsProperty.added       10142 non-null  object \n",
      "dtypes: float64(5), object(3)\n",
      "memory usage: 714.4+ KB\n"
     ]
    },
    {
     "name": "stderr",
     "output_type": "stream",
     "text": [
      "/tmp/ipykernel_6752/2731587547.py:2: SettingWithCopyWarning: \n",
      "A value is trying to be set on a copy of a slice from a DataFrame.\n",
      "Try using .loc[row_indexer,col_indexer] = value instead\n",
      "\n",
      "See the caveats in the documentation: https://pandas.pydata.org/pandas-docs/stable/user_guide/indexing.html#returning-a-view-versus-a-copy\n",
      "  df[\"Price\"] = pd.to_numeric(df[\"Price\"], 'coerce').dropna().astype(int)\n"
     ]
    }
   ],
   "source": [
    "#df_original[\"Price\"] = pd.to_numeric(df_original[\"Price\"], 'coerce').fillna(-1).astype(bool)\n",
    "df[\"Price\"] = pd.to_numeric(df[\"Price\"], 'coerce').dropna().astype(int)\n",
    "df.info()"
   ],
   "metadata": {
    "collapsed": false,
    "pycharm": {
     "name": "#%%\n"
    }
   }
  },
  {
   "cell_type": "code",
   "execution_count": 66,
   "outputs": [
    {
     "data": {
      "text/plain": "          location.latitude  location.longitude  Station_Prox     Price  \\\nids                                                                       \n111247943               NaN                 NaN           0.3  290000.0   \n121284314               NaN                 NaN           0.5  600000.0   \n122172239               NaN                 NaN           0.4  185000.0   \n\n           bedrooms  bathrooms analyticsProperty.imageCount  \\\nids                                                           \n111247943       3.0        1.0                           15   \n121284314       3.0        1.0                           17   \n122172239       NaN        1.0                           14   \n\n          analyticsProperty.added  \nids                                \n111247943                20210731  \n121284314                20220319  \n122172239                20220408  ",
      "text/html": "<div>\n<style scoped>\n    .dataframe tbody tr th:only-of-type {\n        vertical-align: middle;\n    }\n\n    .dataframe tbody tr th {\n        vertical-align: top;\n    }\n\n    .dataframe thead th {\n        text-align: right;\n    }\n</style>\n<table border=\"1\" class=\"dataframe\">\n  <thead>\n    <tr style=\"text-align: right;\">\n      <th></th>\n      <th>location.latitude</th>\n      <th>location.longitude</th>\n      <th>Station_Prox</th>\n      <th>Price</th>\n      <th>bedrooms</th>\n      <th>bathrooms</th>\n      <th>analyticsProperty.imageCount</th>\n      <th>analyticsProperty.added</th>\n    </tr>\n    <tr>\n      <th>ids</th>\n      <th></th>\n      <th></th>\n      <th></th>\n      <th></th>\n      <th></th>\n      <th></th>\n      <th></th>\n      <th></th>\n    </tr>\n  </thead>\n  <tbody>\n    <tr>\n      <th>111247943</th>\n      <td>NaN</td>\n      <td>NaN</td>\n      <td>0.3</td>\n      <td>290000.0</td>\n      <td>3.0</td>\n      <td>1.0</td>\n      <td>15</td>\n      <td>20210731</td>\n    </tr>\n    <tr>\n      <th>121284314</th>\n      <td>NaN</td>\n      <td>NaN</td>\n      <td>0.5</td>\n      <td>600000.0</td>\n      <td>3.0</td>\n      <td>1.0</td>\n      <td>17</td>\n      <td>20220319</td>\n    </tr>\n    <tr>\n      <th>122172239</th>\n      <td>NaN</td>\n      <td>NaN</td>\n      <td>0.4</td>\n      <td>185000.0</td>\n      <td>NaN</td>\n      <td>1.0</td>\n      <td>14</td>\n      <td>20220408</td>\n    </tr>\n  </tbody>\n</table>\n</div>"
     },
     "execution_count": 66,
     "metadata": {},
     "output_type": "execute_result"
    }
   ],
   "source": [
    "df[\n",
    "    #['Address', 'analyticsProperty.maxSizeAc', 'analyticsProperty.maxSizeFt', 'analyticsProperty.minSizeAc', 'analyticsProperty.minSizeFt', 'date_scraped', 'date_scraped_model',     'date_scraped_model', 'date_scraped_meta']]\n",
    "    #df['location.latitude'].notnull()]\n",
    "    df['location.latitude'].isnull()]"
   ],
   "metadata": {
    "collapsed": false,
    "pycharm": {
     "name": "#%%\n"
    }
   }
  },
  {
   "cell_type": "code",
   "execution_count": 67,
   "outputs": [
    {
     "name": "stderr",
     "output_type": "stream",
     "text": [
      "/tmp/ipykernel_6752/1910238512.py:2: SettingWithCopyWarning: \n",
      "A value is trying to be set on a copy of a slice from a DataFrame.\n",
      "Try using .loc[row_indexer,col_indexer] = value instead\n",
      "\n",
      "See the caveats in the documentation: https://pandas.pydata.org/pandas-docs/stable/user_guide/indexing.html#returning-a-view-versus-a-copy\n",
      "  df[\"location.latitude\"] = pd.to_numeric(df[\"location.latitude\"], 'coerce').dropna().astype(int)\n"
     ]
    },
    {
     "name": "stdout",
     "output_type": "stream",
     "text": [
      "(10161, 8)\n",
      "(10161, 8)\n",
      "<class 'pandas.core.frame.DataFrame'>\n",
      "Int64Index: 10161 entries, 123171899 to 97494416\n",
      "Data columns (total 8 columns):\n",
      " #   Column                        Non-Null Count  Dtype  \n",
      "---  ------                        --------------  -----  \n",
      " 0   location.latitude             10155 non-null  float64\n",
      " 1   location.longitude            10158 non-null  float64\n",
      " 2   Station_Prox                  10161 non-null  float64\n",
      " 3   Price                         10140 non-null  float64\n",
      " 4   bedrooms                      9758 non-null   float64\n",
      " 5   bathrooms                     9455 non-null   float64\n",
      " 6   analyticsProperty.imageCount  10141 non-null  float64\n",
      " 7   analyticsProperty.added       10141 non-null  float64\n",
      "dtypes: float64(8)\n",
      "memory usage: 714.4 KB\n"
     ]
    },
    {
     "name": "stderr",
     "output_type": "stream",
     "text": [
      "/tmp/ipykernel_6752/1910238512.py:3: SettingWithCopyWarning: \n",
      "A value is trying to be set on a copy of a slice from a DataFrame.\n",
      "Try using .loc[row_indexer,col_indexer] = value instead\n",
      "\n",
      "See the caveats in the documentation: https://pandas.pydata.org/pandas-docs/stable/user_guide/indexing.html#returning-a-view-versus-a-copy\n",
      "  df[\"analyticsProperty.imageCount\"] = pd.to_numeric(df[\"analyticsProperty.imageCount\"], 'coerce').dropna().astype(int)\n",
      "/tmp/ipykernel_6752/1910238512.py:4: SettingWithCopyWarning: \n",
      "A value is trying to be set on a copy of a slice from a DataFrame.\n",
      "Try using .loc[row_indexer,col_indexer] = value instead\n",
      "\n",
      "See the caveats in the documentation: https://pandas.pydata.org/pandas-docs/stable/user_guide/indexing.html#returning-a-view-versus-a-copy\n",
      "  df[\"analyticsProperty.added\"] = pd.to_numeric(df[\"analyticsProperty.added\"], 'coerce').dropna().astype(int)\n"
     ]
    }
   ],
   "source": [
    "print(df.shape)\n",
    "df[\"location.latitude\"] = pd.to_numeric(df[\"location.latitude\"], 'coerce').dropna().astype(int)\n",
    "df[\"analyticsProperty.imageCount\"] = pd.to_numeric(df[\"analyticsProperty.imageCount\"], 'coerce').dropna().astype(int)\n",
    "df[\"analyticsProperty.added\"] = pd.to_numeric(df[\"analyticsProperty.added\"], 'coerce').dropna().astype(int)\n",
    "print(df.shape)\n",
    "df.info()"
   ],
   "metadata": {
    "collapsed": false,
    "pycharm": {
     "name": "#%%\n"
    }
   }
  },
  {
   "cell_type": "code",
   "execution_count": 68,
   "outputs": [],
   "source": [
    "#df[df.isna()]"
   ],
   "metadata": {
    "collapsed": false,
    "pycharm": {
     "name": "#%%\n"
    }
   }
  },
  {
   "cell_type": "code",
   "execution_count": 68,
   "outputs": [],
   "source": [],
   "metadata": {
    "collapsed": false,
    "pycharm": {
     "name": "#%%\n"
    }
   }
  },
  {
   "cell_type": "code",
   "execution_count": 69,
   "outputs": [
    {
     "data": {
      "text/plain": "           location.latitude  location.longitude  Station_Prox     Price  \\\nids                                                                        \n74044017                51.0           -0.113691           0.8  375000.0   \n116414327               51.0           -0.052261           0.6  375000.0   \n85548873                51.0            0.088165           0.6  190000.0   \n118933820               51.0            0.050910           0.3  190000.0   \n117078506               51.0            0.026980           0.0  158750.0   \n...                      ...                 ...           ...       ...   \n96621550                51.0           -0.172881           0.3  650000.0   \n96626284                51.0           -0.178077           0.4  100000.0   \n96627133                51.0           -0.152604           0.2  475000.0   \n96627367                51.0           -0.220618           0.6  899950.0   \n96651661                51.0           -0.233372           0.9  300000.0   \n\n           bedrooms  bathrooms  analyticsProperty.imageCount  \\\nids                                                            \n74044017        2.0        1.0                           NaN   \n116414327       3.0        NaN                          19.0   \n85548873        3.0        NaN                           8.0   \n118933820       1.0        NaN                           6.0   \n117078506       3.0        NaN                          10.0   \n...             ...        ...                           ...   \n96621550        3.0        2.0                           NaN   \n96626284        NaN        NaN                           8.0   \n96627133        3.0        NaN                          14.0   \n96627367        3.0        NaN                          14.0   \n96651661        5.0        NaN                           9.0   \n\n           analyticsProperty.added  \nids                                 \n74044017                       NaN  \n116414327               20211116.0  \n85548873                20220609.0  \n118933820               20220119.0  \n117078506               20211130.0  \n...                            ...  \n96621550                       NaN  \n96626284                20220530.0  \n96627133                20220530.0  \n96627367                20220530.0  \n96651661                20220530.0  \n\n[1089 rows x 8 columns]",
      "text/html": "<div>\n<style scoped>\n    .dataframe tbody tr th:only-of-type {\n        vertical-align: middle;\n    }\n\n    .dataframe tbody tr th {\n        vertical-align: top;\n    }\n\n    .dataframe thead th {\n        text-align: right;\n    }\n</style>\n<table border=\"1\" class=\"dataframe\">\n  <thead>\n    <tr style=\"text-align: right;\">\n      <th></th>\n      <th>location.latitude</th>\n      <th>location.longitude</th>\n      <th>Station_Prox</th>\n      <th>Price</th>\n      <th>bedrooms</th>\n      <th>bathrooms</th>\n      <th>analyticsProperty.imageCount</th>\n      <th>analyticsProperty.added</th>\n    </tr>\n    <tr>\n      <th>ids</th>\n      <th></th>\n      <th></th>\n      <th></th>\n      <th></th>\n      <th></th>\n      <th></th>\n      <th></th>\n      <th></th>\n    </tr>\n  </thead>\n  <tbody>\n    <tr>\n      <th>74044017</th>\n      <td>51.0</td>\n      <td>-0.113691</td>\n      <td>0.8</td>\n      <td>375000.0</td>\n      <td>2.0</td>\n      <td>1.0</td>\n      <td>NaN</td>\n      <td>NaN</td>\n    </tr>\n    <tr>\n      <th>116414327</th>\n      <td>51.0</td>\n      <td>-0.052261</td>\n      <td>0.6</td>\n      <td>375000.0</td>\n      <td>3.0</td>\n      <td>NaN</td>\n      <td>19.0</td>\n      <td>20211116.0</td>\n    </tr>\n    <tr>\n      <th>85548873</th>\n      <td>51.0</td>\n      <td>0.088165</td>\n      <td>0.6</td>\n      <td>190000.0</td>\n      <td>3.0</td>\n      <td>NaN</td>\n      <td>8.0</td>\n      <td>20220609.0</td>\n    </tr>\n    <tr>\n      <th>118933820</th>\n      <td>51.0</td>\n      <td>0.050910</td>\n      <td>0.3</td>\n      <td>190000.0</td>\n      <td>1.0</td>\n      <td>NaN</td>\n      <td>6.0</td>\n      <td>20220119.0</td>\n    </tr>\n    <tr>\n      <th>117078506</th>\n      <td>51.0</td>\n      <td>0.026980</td>\n      <td>0.0</td>\n      <td>158750.0</td>\n      <td>3.0</td>\n      <td>NaN</td>\n      <td>10.0</td>\n      <td>20211130.0</td>\n    </tr>\n    <tr>\n      <th>...</th>\n      <td>...</td>\n      <td>...</td>\n      <td>...</td>\n      <td>...</td>\n      <td>...</td>\n      <td>...</td>\n      <td>...</td>\n      <td>...</td>\n    </tr>\n    <tr>\n      <th>96621550</th>\n      <td>51.0</td>\n      <td>-0.172881</td>\n      <td>0.3</td>\n      <td>650000.0</td>\n      <td>3.0</td>\n      <td>2.0</td>\n      <td>NaN</td>\n      <td>NaN</td>\n    </tr>\n    <tr>\n      <th>96626284</th>\n      <td>51.0</td>\n      <td>-0.178077</td>\n      <td>0.4</td>\n      <td>100000.0</td>\n      <td>NaN</td>\n      <td>NaN</td>\n      <td>8.0</td>\n      <td>20220530.0</td>\n    </tr>\n    <tr>\n      <th>96627133</th>\n      <td>51.0</td>\n      <td>-0.152604</td>\n      <td>0.2</td>\n      <td>475000.0</td>\n      <td>3.0</td>\n      <td>NaN</td>\n      <td>14.0</td>\n      <td>20220530.0</td>\n    </tr>\n    <tr>\n      <th>96627367</th>\n      <td>51.0</td>\n      <td>-0.220618</td>\n      <td>0.6</td>\n      <td>899950.0</td>\n      <td>3.0</td>\n      <td>NaN</td>\n      <td>14.0</td>\n      <td>20220530.0</td>\n    </tr>\n    <tr>\n      <th>96651661</th>\n      <td>51.0</td>\n      <td>-0.233372</td>\n      <td>0.9</td>\n      <td>300000.0</td>\n      <td>5.0</td>\n      <td>NaN</td>\n      <td>9.0</td>\n      <td>20220530.0</td>\n    </tr>\n  </tbody>\n</table>\n<p>1089 rows × 8 columns</p>\n</div>"
     },
     "execution_count": 69,
     "metadata": {},
     "output_type": "execute_result"
    }
   ],
   "source": [
    "sample_incomplete_rows = df[df.isnull().any(axis=1)] #.head()\n",
    "sample_incomplete_rows"
   ],
   "metadata": {
    "collapsed": false,
    "pycharm": {
     "name": "#%%\n"
    }
   }
  },
  {
   "cell_type": "code",
   "execution_count": 70,
   "outputs": [
    {
     "name": "stdout",
     "output_type": "stream",
     "text": [
      "1.0\n"
     ]
    },
    {
     "name": "stderr",
     "output_type": "stream",
     "text": [
      "/tmp/ipykernel_6752/1016379938.py:4: SettingWithCopyWarning: \n",
      "A value is trying to be set on a copy of a slice from a DataFrame\n",
      "\n",
      "See the caveats in the documentation: https://pandas.pydata.org/pandas-docs/stable/user_guide/indexing.html#returning-a-view-versus-a-copy\n",
      "  df['bathrooms'].fillna(median_bathroom, inplace=True)\n"
     ]
    },
    {
     "data": {
      "text/plain": "           location.latitude  location.longitude  Station_Prox     Price  \\\nids                                                                        \n74044017                51.0           -0.113691           0.8  375000.0   \n119396255               51.0            0.098340           0.7  170000.0   \n96623749                51.0            0.072798           0.1  375000.0   \n119736068               51.0           -0.146570           0.1  380000.0   \n124210982               51.0           -0.073600           0.3  425000.0   \n...                      ...                 ...           ...       ...   \n85513170                51.0           -0.247006           0.6   45000.0   \n85674210                 NaN           51.400508           0.3  550000.0   \n96576061                 NaN           51.363727           0.4    3000.0   \n96621550                51.0           -0.172881           0.3  650000.0   \n96626284                51.0           -0.178077           0.4  100000.0   \n\n           bedrooms  bathrooms  analyticsProperty.imageCount  \\\nids                                                            \n74044017        2.0        1.0                           NaN   \n119396255       NaN        1.0                           9.0   \n96623749        NaN        1.0                          12.0   \n119736068       NaN        1.0                          10.0   \n124210982       3.0        1.0                           NaN   \n...             ...        ...                           ...   \n85513170        NaN        1.0                           2.0   \n85674210        NaN        1.0                           6.0   \n96576061        NaN        1.0                           3.0   \n96621550        3.0        2.0                           NaN   \n96626284        NaN        1.0                           8.0   \n\n           analyticsProperty.added  \nids                                 \n74044017                       NaN  \n119396255               20220201.0  \n96623749                20220530.0  \n119736068               20220209.0  \n124210982                      NaN  \n...                            ...  \n85513170                20220608.0  \n85674210                20220614.0  \n96576061                20220519.0  \n96621550                       NaN  \n96626284                20220530.0  \n\n[446 rows x 8 columns]",
      "text/html": "<div>\n<style scoped>\n    .dataframe tbody tr th:only-of-type {\n        vertical-align: middle;\n    }\n\n    .dataframe tbody tr th {\n        vertical-align: top;\n    }\n\n    .dataframe thead th {\n        text-align: right;\n    }\n</style>\n<table border=\"1\" class=\"dataframe\">\n  <thead>\n    <tr style=\"text-align: right;\">\n      <th></th>\n      <th>location.latitude</th>\n      <th>location.longitude</th>\n      <th>Station_Prox</th>\n      <th>Price</th>\n      <th>bedrooms</th>\n      <th>bathrooms</th>\n      <th>analyticsProperty.imageCount</th>\n      <th>analyticsProperty.added</th>\n    </tr>\n    <tr>\n      <th>ids</th>\n      <th></th>\n      <th></th>\n      <th></th>\n      <th></th>\n      <th></th>\n      <th></th>\n      <th></th>\n      <th></th>\n    </tr>\n  </thead>\n  <tbody>\n    <tr>\n      <th>74044017</th>\n      <td>51.0</td>\n      <td>-0.113691</td>\n      <td>0.8</td>\n      <td>375000.0</td>\n      <td>2.0</td>\n      <td>1.0</td>\n      <td>NaN</td>\n      <td>NaN</td>\n    </tr>\n    <tr>\n      <th>119396255</th>\n      <td>51.0</td>\n      <td>0.098340</td>\n      <td>0.7</td>\n      <td>170000.0</td>\n      <td>NaN</td>\n      <td>1.0</td>\n      <td>9.0</td>\n      <td>20220201.0</td>\n    </tr>\n    <tr>\n      <th>96623749</th>\n      <td>51.0</td>\n      <td>0.072798</td>\n      <td>0.1</td>\n      <td>375000.0</td>\n      <td>NaN</td>\n      <td>1.0</td>\n      <td>12.0</td>\n      <td>20220530.0</td>\n    </tr>\n    <tr>\n      <th>119736068</th>\n      <td>51.0</td>\n      <td>-0.146570</td>\n      <td>0.1</td>\n      <td>380000.0</td>\n      <td>NaN</td>\n      <td>1.0</td>\n      <td>10.0</td>\n      <td>20220209.0</td>\n    </tr>\n    <tr>\n      <th>124210982</th>\n      <td>51.0</td>\n      <td>-0.073600</td>\n      <td>0.3</td>\n      <td>425000.0</td>\n      <td>3.0</td>\n      <td>1.0</td>\n      <td>NaN</td>\n      <td>NaN</td>\n    </tr>\n    <tr>\n      <th>...</th>\n      <td>...</td>\n      <td>...</td>\n      <td>...</td>\n      <td>...</td>\n      <td>...</td>\n      <td>...</td>\n      <td>...</td>\n      <td>...</td>\n    </tr>\n    <tr>\n      <th>85513170</th>\n      <td>51.0</td>\n      <td>-0.247006</td>\n      <td>0.6</td>\n      <td>45000.0</td>\n      <td>NaN</td>\n      <td>1.0</td>\n      <td>2.0</td>\n      <td>20220608.0</td>\n    </tr>\n    <tr>\n      <th>85674210</th>\n      <td>NaN</td>\n      <td>51.400508</td>\n      <td>0.3</td>\n      <td>550000.0</td>\n      <td>NaN</td>\n      <td>1.0</td>\n      <td>6.0</td>\n      <td>20220614.0</td>\n    </tr>\n    <tr>\n      <th>96576061</th>\n      <td>NaN</td>\n      <td>51.363727</td>\n      <td>0.4</td>\n      <td>3000.0</td>\n      <td>NaN</td>\n      <td>1.0</td>\n      <td>3.0</td>\n      <td>20220519.0</td>\n    </tr>\n    <tr>\n      <th>96621550</th>\n      <td>51.0</td>\n      <td>-0.172881</td>\n      <td>0.3</td>\n      <td>650000.0</td>\n      <td>3.0</td>\n      <td>2.0</td>\n      <td>NaN</td>\n      <td>NaN</td>\n    </tr>\n    <tr>\n      <th>96626284</th>\n      <td>51.0</td>\n      <td>-0.178077</td>\n      <td>0.4</td>\n      <td>100000.0</td>\n      <td>NaN</td>\n      <td>1.0</td>\n      <td>8.0</td>\n      <td>20220530.0</td>\n    </tr>\n  </tbody>\n</table>\n<p>446 rows × 8 columns</p>\n</div>"
     },
     "execution_count": 70,
     "metadata": {},
     "output_type": "execute_result"
    }
   ],
   "source": [
    "median_bathroom = df['bathrooms'].median()\n",
    "print(median_bathroom)\n",
    "\n",
    "df['bathrooms'].fillna(median_bathroom, inplace=True)\n",
    "\n",
    "sample_incomplete_rows = df[df.isnull().any(axis=1)] #.head()\n",
    "sample_incomplete_rows"
   ],
   "metadata": {
    "collapsed": false,
    "pycharm": {
     "name": "#%%\n"
    }
   }
  },
  {
   "cell_type": "code",
   "execution_count": 71,
   "outputs": [
    {
     "name": "stdout",
     "output_type": "stream",
     "text": [
      "2.0\n"
     ]
    },
    {
     "name": "stderr",
     "output_type": "stream",
     "text": [
      "/tmp/ipykernel_6752/4207204691.py:4: SettingWithCopyWarning: \n",
      "A value is trying to be set on a copy of a slice from a DataFrame\n",
      "\n",
      "See the caveats in the documentation: https://pandas.pydata.org/pandas-docs/stable/user_guide/indexing.html#returning-a-view-versus-a-copy\n",
      "  df['bedrooms'].fillna(median_bedrooms, inplace=True)\n"
     ]
    },
    {
     "data": {
      "text/plain": "           location.latitude  location.longitude  Station_Prox      Price  \\\nids                                                                         \n74044017                51.0           -0.113691           0.8   375000.0   \n124210982               51.0           -0.073600           0.3   425000.0   \n63921069                51.0           -0.299760           0.1        NaN   \n96595405                51.0           -0.319919           0.1   499950.0   \n118871876               51.0           -0.338532           0.4   499950.0   \n122247488               51.0           -0.306608           0.1   399950.0   \n85407393                 0.0            0.000000           0.4   399950.0   \n96574858                51.0            0.032710           0.5        NaN   \n118825013               51.0            0.037298           0.5        NaN   \n82165626                51.0            0.021131           0.2        NaN   \n106827140               51.0            0.039172           0.9        NaN   \n96574750                51.0            0.012470           0.3        NaN   \n115507298               51.0            0.025303           0.3        NaN   \n115507244               51.0            0.025179           0.3        NaN   \n122706701               51.0           -0.001323           0.3        NaN   \n111106427               51.0            0.014527           0.2        NaN   \n120375476               51.0            0.010339           0.3        NaN   \n114904994               51.0            0.057963           1.4   260000.0   \n83605776                51.0            0.019088           0.1        NaN   \n121796048               51.0            0.007611           0.6        NaN   \n123292304               51.0            0.017632           0.1        NaN   \n85354197                51.0            0.091910           0.5   425000.0   \n84898671                51.0            0.082295           0.3   350000.0   \n115818644               51.0            0.139640           1.2   250000.0   \n97893989                51.0           -0.093722           0.2   895000.0   \n119469575               51.0           -0.106408           0.5   220000.0   \n120153674               51.0           -0.112780           0.4   220000.0   \n123777377               51.0           -0.258334           0.3   450000.0   \n113752073               51.0           -0.195000           0.4   450000.0   \n108476417               51.0           -0.150440           0.2   230000.0   \n109078397               51.0           -0.082210           0.0        NaN   \n111247943                NaN                 NaN           0.3   290000.0   \n118568108               51.0           -0.242500           0.2   415000.0   \n118961033               51.0           -0.107893           0.2  1100000.0   \n121284314                NaN                 NaN           0.5   600000.0   \n121699175               51.0           -0.217178           0.5        NaN   \n122172239                NaN                 NaN           0.4   185000.0   \n123350480               51.0           -0.246138           0.6   335000.0   \n123914636               51.0           -0.202250           0.5        NaN   \n123928922               51.0           -0.202250           0.5        NaN   \n123932027               51.0           -0.202250           0.5        NaN   \n123932399               51.0           -0.202250           0.5        NaN   \n123932627               51.0           -0.202250           0.5        NaN   \n85388217                 NaN           51.432040           0.3    50000.0   \n85674210                 NaN           51.400508           0.3   550000.0   \n96576061                 NaN           51.363727           0.4     3000.0   \n96621550                51.0           -0.172881           0.3   650000.0   \n\n           bedrooms  bathrooms  analyticsProperty.imageCount  \\\nids                                                            \n74044017        2.0        1.0                           NaN   \n124210982       3.0        1.0                           NaN   \n63921069        2.0        2.0                          10.0   \n96595405        2.0        1.0                           NaN   \n118871876       2.0        1.0                           NaN   \n122247488       2.0        1.0                           NaN   \n85407393        3.0        2.0                           NaN   \n96574858        3.0        1.0                          14.0   \n118825013       2.0        1.0                          18.0   \n82165626        2.0        2.0                          19.0   \n106827140       2.0        2.0                          10.0   \n96574750        2.0        2.0                          13.0   \n115507298       2.0        1.0                          14.0   \n115507244       2.0        2.0                          14.0   \n122706701       1.0        1.0                          13.0   \n111106427       1.0        1.0                           8.0   \n120375476       1.0        1.0                          13.0   \n114904994       2.0        1.0                           NaN   \n83605776        1.0        1.0                          13.0   \n121796048       1.0        1.0                          14.0   \n123292304       2.0        1.0                          12.0   \n85354197        3.0        1.0                           NaN   \n84898671        2.0        1.0                           NaN   \n115818644       2.0        1.0                           NaN   \n97893989        1.0        1.0                           NaN   \n119469575       1.0        1.0                           NaN   \n120153674       1.0        1.0                           NaN   \n123777377       2.0        1.0                           NaN   \n113752073       2.0        1.0                           NaN   \n108476417       2.0        1.0                           NaN   \n109078397       2.0        2.0                           2.0   \n111247943       3.0        1.0                          15.0   \n118568108       2.0        2.0                           NaN   \n118961033       1.0        1.0                           NaN   \n121284314       3.0        1.0                          17.0   \n121699175       4.0        2.0                          23.0   \n122172239       2.0        1.0                          14.0   \n123350480       2.0        1.0                           NaN   \n123914636       4.0        3.0                          18.0   \n123928922       3.0        1.0                          18.0   \n123932027       1.0        1.0                          18.0   \n123932399       2.0        1.0                          18.0   \n123932627       2.0        1.0                          18.0   \n85388217        2.0        1.0                           3.0   \n85674210        2.0        1.0                           6.0   \n96576061        2.0        1.0                           3.0   \n96621550        3.0        2.0                           NaN   \n\n           analyticsProperty.added  \nids                                 \n74044017                       NaN  \n124210982                      NaN  \n63921069                20190724.0  \n96595405                       NaN  \n118871876                      NaN  \n122247488                      NaN  \n85407393                       NaN  \n96574858                20220519.0  \n118825013               20220117.0  \n82165626                20211021.0  \n106827140               20210513.0  \n96574750                20220519.0  \n115507298               20211028.0  \n115507244               20211028.0  \n122706701               20220422.0  \n111106427               20210728.0  \n120375476               20220225.0  \n114904994                      NaN  \n83605776                20220127.0  \n121796048               20220331.0  \n123292304               20220512.0  \n85354197                       NaN  \n84898671                       NaN  \n115818644                      NaN  \n97893989                       NaN  \n119469575                      NaN  \n120153674                      NaN  \n123777377                      NaN  \n113752073                      NaN  \n108476417                      NaN  \n109078397               20210618.0  \n111247943               20210731.0  \n118568108                      NaN  \n118961033                      NaN  \n121284314               20220319.0  \n121699175               20220329.0  \n122172239               20220408.0  \n123350480                      NaN  \n123914636               20220615.0  \n123928922               20220615.0  \n123932027               20220615.0  \n123932399               20220615.0  \n123932627               20220615.0  \n85388217                20220531.0  \n85674210                20220614.0  \n96576061                20220519.0  \n96621550                       NaN  ",
      "text/html": "<div>\n<style scoped>\n    .dataframe tbody tr th:only-of-type {\n        vertical-align: middle;\n    }\n\n    .dataframe tbody tr th {\n        vertical-align: top;\n    }\n\n    .dataframe thead th {\n        text-align: right;\n    }\n</style>\n<table border=\"1\" class=\"dataframe\">\n  <thead>\n    <tr style=\"text-align: right;\">\n      <th></th>\n      <th>location.latitude</th>\n      <th>location.longitude</th>\n      <th>Station_Prox</th>\n      <th>Price</th>\n      <th>bedrooms</th>\n      <th>bathrooms</th>\n      <th>analyticsProperty.imageCount</th>\n      <th>analyticsProperty.added</th>\n    </tr>\n    <tr>\n      <th>ids</th>\n      <th></th>\n      <th></th>\n      <th></th>\n      <th></th>\n      <th></th>\n      <th></th>\n      <th></th>\n      <th></th>\n    </tr>\n  </thead>\n  <tbody>\n    <tr>\n      <th>74044017</th>\n      <td>51.0</td>\n      <td>-0.113691</td>\n      <td>0.8</td>\n      <td>375000.0</td>\n      <td>2.0</td>\n      <td>1.0</td>\n      <td>NaN</td>\n      <td>NaN</td>\n    </tr>\n    <tr>\n      <th>124210982</th>\n      <td>51.0</td>\n      <td>-0.073600</td>\n      <td>0.3</td>\n      <td>425000.0</td>\n      <td>3.0</td>\n      <td>1.0</td>\n      <td>NaN</td>\n      <td>NaN</td>\n    </tr>\n    <tr>\n      <th>63921069</th>\n      <td>51.0</td>\n      <td>-0.299760</td>\n      <td>0.1</td>\n      <td>NaN</td>\n      <td>2.0</td>\n      <td>2.0</td>\n      <td>10.0</td>\n      <td>20190724.0</td>\n    </tr>\n    <tr>\n      <th>96595405</th>\n      <td>51.0</td>\n      <td>-0.319919</td>\n      <td>0.1</td>\n      <td>499950.0</td>\n      <td>2.0</td>\n      <td>1.0</td>\n      <td>NaN</td>\n      <td>NaN</td>\n    </tr>\n    <tr>\n      <th>118871876</th>\n      <td>51.0</td>\n      <td>-0.338532</td>\n      <td>0.4</td>\n      <td>499950.0</td>\n      <td>2.0</td>\n      <td>1.0</td>\n      <td>NaN</td>\n      <td>NaN</td>\n    </tr>\n    <tr>\n      <th>122247488</th>\n      <td>51.0</td>\n      <td>-0.306608</td>\n      <td>0.1</td>\n      <td>399950.0</td>\n      <td>2.0</td>\n      <td>1.0</td>\n      <td>NaN</td>\n      <td>NaN</td>\n    </tr>\n    <tr>\n      <th>85407393</th>\n      <td>0.0</td>\n      <td>0.000000</td>\n      <td>0.4</td>\n      <td>399950.0</td>\n      <td>3.0</td>\n      <td>2.0</td>\n      <td>NaN</td>\n      <td>NaN</td>\n    </tr>\n    <tr>\n      <th>96574858</th>\n      <td>51.0</td>\n      <td>0.032710</td>\n      <td>0.5</td>\n      <td>NaN</td>\n      <td>3.0</td>\n      <td>1.0</td>\n      <td>14.0</td>\n      <td>20220519.0</td>\n    </tr>\n    <tr>\n      <th>118825013</th>\n      <td>51.0</td>\n      <td>0.037298</td>\n      <td>0.5</td>\n      <td>NaN</td>\n      <td>2.0</td>\n      <td>1.0</td>\n      <td>18.0</td>\n      <td>20220117.0</td>\n    </tr>\n    <tr>\n      <th>82165626</th>\n      <td>51.0</td>\n      <td>0.021131</td>\n      <td>0.2</td>\n      <td>NaN</td>\n      <td>2.0</td>\n      <td>2.0</td>\n      <td>19.0</td>\n      <td>20211021.0</td>\n    </tr>\n    <tr>\n      <th>106827140</th>\n      <td>51.0</td>\n      <td>0.039172</td>\n      <td>0.9</td>\n      <td>NaN</td>\n      <td>2.0</td>\n      <td>2.0</td>\n      <td>10.0</td>\n      <td>20210513.0</td>\n    </tr>\n    <tr>\n      <th>96574750</th>\n      <td>51.0</td>\n      <td>0.012470</td>\n      <td>0.3</td>\n      <td>NaN</td>\n      <td>2.0</td>\n      <td>2.0</td>\n      <td>13.0</td>\n      <td>20220519.0</td>\n    </tr>\n    <tr>\n      <th>115507298</th>\n      <td>51.0</td>\n      <td>0.025303</td>\n      <td>0.3</td>\n      <td>NaN</td>\n      <td>2.0</td>\n      <td>1.0</td>\n      <td>14.0</td>\n      <td>20211028.0</td>\n    </tr>\n    <tr>\n      <th>115507244</th>\n      <td>51.0</td>\n      <td>0.025179</td>\n      <td>0.3</td>\n      <td>NaN</td>\n      <td>2.0</td>\n      <td>2.0</td>\n      <td>14.0</td>\n      <td>20211028.0</td>\n    </tr>\n    <tr>\n      <th>122706701</th>\n      <td>51.0</td>\n      <td>-0.001323</td>\n      <td>0.3</td>\n      <td>NaN</td>\n      <td>1.0</td>\n      <td>1.0</td>\n      <td>13.0</td>\n      <td>20220422.0</td>\n    </tr>\n    <tr>\n      <th>111106427</th>\n      <td>51.0</td>\n      <td>0.014527</td>\n      <td>0.2</td>\n      <td>NaN</td>\n      <td>1.0</td>\n      <td>1.0</td>\n      <td>8.0</td>\n      <td>20210728.0</td>\n    </tr>\n    <tr>\n      <th>120375476</th>\n      <td>51.0</td>\n      <td>0.010339</td>\n      <td>0.3</td>\n      <td>NaN</td>\n      <td>1.0</td>\n      <td>1.0</td>\n      <td>13.0</td>\n      <td>20220225.0</td>\n    </tr>\n    <tr>\n      <th>114904994</th>\n      <td>51.0</td>\n      <td>0.057963</td>\n      <td>1.4</td>\n      <td>260000.0</td>\n      <td>2.0</td>\n      <td>1.0</td>\n      <td>NaN</td>\n      <td>NaN</td>\n    </tr>\n    <tr>\n      <th>83605776</th>\n      <td>51.0</td>\n      <td>0.019088</td>\n      <td>0.1</td>\n      <td>NaN</td>\n      <td>1.0</td>\n      <td>1.0</td>\n      <td>13.0</td>\n      <td>20220127.0</td>\n    </tr>\n    <tr>\n      <th>121796048</th>\n      <td>51.0</td>\n      <td>0.007611</td>\n      <td>0.6</td>\n      <td>NaN</td>\n      <td>1.0</td>\n      <td>1.0</td>\n      <td>14.0</td>\n      <td>20220331.0</td>\n    </tr>\n    <tr>\n      <th>123292304</th>\n      <td>51.0</td>\n      <td>0.017632</td>\n      <td>0.1</td>\n      <td>NaN</td>\n      <td>2.0</td>\n      <td>1.0</td>\n      <td>12.0</td>\n      <td>20220512.0</td>\n    </tr>\n    <tr>\n      <th>85354197</th>\n      <td>51.0</td>\n      <td>0.091910</td>\n      <td>0.5</td>\n      <td>425000.0</td>\n      <td>3.0</td>\n      <td>1.0</td>\n      <td>NaN</td>\n      <td>NaN</td>\n    </tr>\n    <tr>\n      <th>84898671</th>\n      <td>51.0</td>\n      <td>0.082295</td>\n      <td>0.3</td>\n      <td>350000.0</td>\n      <td>2.0</td>\n      <td>1.0</td>\n      <td>NaN</td>\n      <td>NaN</td>\n    </tr>\n    <tr>\n      <th>115818644</th>\n      <td>51.0</td>\n      <td>0.139640</td>\n      <td>1.2</td>\n      <td>250000.0</td>\n      <td>2.0</td>\n      <td>1.0</td>\n      <td>NaN</td>\n      <td>NaN</td>\n    </tr>\n    <tr>\n      <th>97893989</th>\n      <td>51.0</td>\n      <td>-0.093722</td>\n      <td>0.2</td>\n      <td>895000.0</td>\n      <td>1.0</td>\n      <td>1.0</td>\n      <td>NaN</td>\n      <td>NaN</td>\n    </tr>\n    <tr>\n      <th>119469575</th>\n      <td>51.0</td>\n      <td>-0.106408</td>\n      <td>0.5</td>\n      <td>220000.0</td>\n      <td>1.0</td>\n      <td>1.0</td>\n      <td>NaN</td>\n      <td>NaN</td>\n    </tr>\n    <tr>\n      <th>120153674</th>\n      <td>51.0</td>\n      <td>-0.112780</td>\n      <td>0.4</td>\n      <td>220000.0</td>\n      <td>1.0</td>\n      <td>1.0</td>\n      <td>NaN</td>\n      <td>NaN</td>\n    </tr>\n    <tr>\n      <th>123777377</th>\n      <td>51.0</td>\n      <td>-0.258334</td>\n      <td>0.3</td>\n      <td>450000.0</td>\n      <td>2.0</td>\n      <td>1.0</td>\n      <td>NaN</td>\n      <td>NaN</td>\n    </tr>\n    <tr>\n      <th>113752073</th>\n      <td>51.0</td>\n      <td>-0.195000</td>\n      <td>0.4</td>\n      <td>450000.0</td>\n      <td>2.0</td>\n      <td>1.0</td>\n      <td>NaN</td>\n      <td>NaN</td>\n    </tr>\n    <tr>\n      <th>108476417</th>\n      <td>51.0</td>\n      <td>-0.150440</td>\n      <td>0.2</td>\n      <td>230000.0</td>\n      <td>2.0</td>\n      <td>1.0</td>\n      <td>NaN</td>\n      <td>NaN</td>\n    </tr>\n    <tr>\n      <th>109078397</th>\n      <td>51.0</td>\n      <td>-0.082210</td>\n      <td>0.0</td>\n      <td>NaN</td>\n      <td>2.0</td>\n      <td>2.0</td>\n      <td>2.0</td>\n      <td>20210618.0</td>\n    </tr>\n    <tr>\n      <th>111247943</th>\n      <td>NaN</td>\n      <td>NaN</td>\n      <td>0.3</td>\n      <td>290000.0</td>\n      <td>3.0</td>\n      <td>1.0</td>\n      <td>15.0</td>\n      <td>20210731.0</td>\n    </tr>\n    <tr>\n      <th>118568108</th>\n      <td>51.0</td>\n      <td>-0.242500</td>\n      <td>0.2</td>\n      <td>415000.0</td>\n      <td>2.0</td>\n      <td>2.0</td>\n      <td>NaN</td>\n      <td>NaN</td>\n    </tr>\n    <tr>\n      <th>118961033</th>\n      <td>51.0</td>\n      <td>-0.107893</td>\n      <td>0.2</td>\n      <td>1100000.0</td>\n      <td>1.0</td>\n      <td>1.0</td>\n      <td>NaN</td>\n      <td>NaN</td>\n    </tr>\n    <tr>\n      <th>121284314</th>\n      <td>NaN</td>\n      <td>NaN</td>\n      <td>0.5</td>\n      <td>600000.0</td>\n      <td>3.0</td>\n      <td>1.0</td>\n      <td>17.0</td>\n      <td>20220319.0</td>\n    </tr>\n    <tr>\n      <th>121699175</th>\n      <td>51.0</td>\n      <td>-0.217178</td>\n      <td>0.5</td>\n      <td>NaN</td>\n      <td>4.0</td>\n      <td>2.0</td>\n      <td>23.0</td>\n      <td>20220329.0</td>\n    </tr>\n    <tr>\n      <th>122172239</th>\n      <td>NaN</td>\n      <td>NaN</td>\n      <td>0.4</td>\n      <td>185000.0</td>\n      <td>2.0</td>\n      <td>1.0</td>\n      <td>14.0</td>\n      <td>20220408.0</td>\n    </tr>\n    <tr>\n      <th>123350480</th>\n      <td>51.0</td>\n      <td>-0.246138</td>\n      <td>0.6</td>\n      <td>335000.0</td>\n      <td>2.0</td>\n      <td>1.0</td>\n      <td>NaN</td>\n      <td>NaN</td>\n    </tr>\n    <tr>\n      <th>123914636</th>\n      <td>51.0</td>\n      <td>-0.202250</td>\n      <td>0.5</td>\n      <td>NaN</td>\n      <td>4.0</td>\n      <td>3.0</td>\n      <td>18.0</td>\n      <td>20220615.0</td>\n    </tr>\n    <tr>\n      <th>123928922</th>\n      <td>51.0</td>\n      <td>-0.202250</td>\n      <td>0.5</td>\n      <td>NaN</td>\n      <td>3.0</td>\n      <td>1.0</td>\n      <td>18.0</td>\n      <td>20220615.0</td>\n    </tr>\n    <tr>\n      <th>123932027</th>\n      <td>51.0</td>\n      <td>-0.202250</td>\n      <td>0.5</td>\n      <td>NaN</td>\n      <td>1.0</td>\n      <td>1.0</td>\n      <td>18.0</td>\n      <td>20220615.0</td>\n    </tr>\n    <tr>\n      <th>123932399</th>\n      <td>51.0</td>\n      <td>-0.202250</td>\n      <td>0.5</td>\n      <td>NaN</td>\n      <td>2.0</td>\n      <td>1.0</td>\n      <td>18.0</td>\n      <td>20220615.0</td>\n    </tr>\n    <tr>\n      <th>123932627</th>\n      <td>51.0</td>\n      <td>-0.202250</td>\n      <td>0.5</td>\n      <td>NaN</td>\n      <td>2.0</td>\n      <td>1.0</td>\n      <td>18.0</td>\n      <td>20220615.0</td>\n    </tr>\n    <tr>\n      <th>85388217</th>\n      <td>NaN</td>\n      <td>51.432040</td>\n      <td>0.3</td>\n      <td>50000.0</td>\n      <td>2.0</td>\n      <td>1.0</td>\n      <td>3.0</td>\n      <td>20220531.0</td>\n    </tr>\n    <tr>\n      <th>85674210</th>\n      <td>NaN</td>\n      <td>51.400508</td>\n      <td>0.3</td>\n      <td>550000.0</td>\n      <td>2.0</td>\n      <td>1.0</td>\n      <td>6.0</td>\n      <td>20220614.0</td>\n    </tr>\n    <tr>\n      <th>96576061</th>\n      <td>NaN</td>\n      <td>51.363727</td>\n      <td>0.4</td>\n      <td>3000.0</td>\n      <td>2.0</td>\n      <td>1.0</td>\n      <td>3.0</td>\n      <td>20220519.0</td>\n    </tr>\n    <tr>\n      <th>96621550</th>\n      <td>51.0</td>\n      <td>-0.172881</td>\n      <td>0.3</td>\n      <td>650000.0</td>\n      <td>3.0</td>\n      <td>2.0</td>\n      <td>NaN</td>\n      <td>NaN</td>\n    </tr>\n  </tbody>\n</table>\n</div>"
     },
     "execution_count": 71,
     "metadata": {},
     "output_type": "execute_result"
    }
   ],
   "source": [
    "median_bedrooms = df['bedrooms'].median()\n",
    "print(median_bedrooms)\n",
    "\n",
    "df['bedrooms'].fillna(median_bedrooms, inplace=True)\n",
    "\n",
    "sample_incomplete_rows = df[df.isnull().any(axis=1)] #.head()\n",
    "sample_incomplete_rows"
   ],
   "metadata": {
    "collapsed": false,
    "pycharm": {
     "name": "#%%\n"
    }
   }
  },
  {
   "cell_type": "code",
   "execution_count": 72,
   "outputs": [
    {
     "name": "stdout",
     "output_type": "stream",
     "text": [
      "11.0\n"
     ]
    },
    {
     "name": "stderr",
     "output_type": "stream",
     "text": [
      "/tmp/ipykernel_6752/3422759207.py:4: SettingWithCopyWarning: \n",
      "A value is trying to be set on a copy of a slice from a DataFrame\n",
      "\n",
      "See the caveats in the documentation: https://pandas.pydata.org/pandas-docs/stable/user_guide/indexing.html#returning-a-view-versus-a-copy\n",
      "  df['analyticsProperty.imageCount'].fillna(median_imageCount, inplace=True)\n"
     ]
    },
    {
     "data": {
      "text/plain": "           location.latitude  location.longitude  Station_Prox      Price  \\\nids                                                                         \n74044017                51.0           -0.113691           0.8   375000.0   \n124210982               51.0           -0.073600           0.3   425000.0   \n63921069                51.0           -0.299760           0.1        NaN   \n96595405                51.0           -0.319919           0.1   499950.0   \n118871876               51.0           -0.338532           0.4   499950.0   \n122247488               51.0           -0.306608           0.1   399950.0   \n85407393                 0.0            0.000000           0.4   399950.0   \n96574858                51.0            0.032710           0.5        NaN   \n118825013               51.0            0.037298           0.5        NaN   \n82165626                51.0            0.021131           0.2        NaN   \n106827140               51.0            0.039172           0.9        NaN   \n96574750                51.0            0.012470           0.3        NaN   \n115507298               51.0            0.025303           0.3        NaN   \n115507244               51.0            0.025179           0.3        NaN   \n122706701               51.0           -0.001323           0.3        NaN   \n111106427               51.0            0.014527           0.2        NaN   \n120375476               51.0            0.010339           0.3        NaN   \n114904994               51.0            0.057963           1.4   260000.0   \n83605776                51.0            0.019088           0.1        NaN   \n121796048               51.0            0.007611           0.6        NaN   \n123292304               51.0            0.017632           0.1        NaN   \n85354197                51.0            0.091910           0.5   425000.0   \n84898671                51.0            0.082295           0.3   350000.0   \n115818644               51.0            0.139640           1.2   250000.0   \n97893989                51.0           -0.093722           0.2   895000.0   \n119469575               51.0           -0.106408           0.5   220000.0   \n120153674               51.0           -0.112780           0.4   220000.0   \n123777377               51.0           -0.258334           0.3   450000.0   \n113752073               51.0           -0.195000           0.4   450000.0   \n108476417               51.0           -0.150440           0.2   230000.0   \n109078397               51.0           -0.082210           0.0        NaN   \n111247943                NaN                 NaN           0.3   290000.0   \n118568108               51.0           -0.242500           0.2   415000.0   \n118961033               51.0           -0.107893           0.2  1100000.0   \n121284314                NaN                 NaN           0.5   600000.0   \n121699175               51.0           -0.217178           0.5        NaN   \n122172239                NaN                 NaN           0.4   185000.0   \n123350480               51.0           -0.246138           0.6   335000.0   \n123914636               51.0           -0.202250           0.5        NaN   \n123928922               51.0           -0.202250           0.5        NaN   \n123932027               51.0           -0.202250           0.5        NaN   \n123932399               51.0           -0.202250           0.5        NaN   \n123932627               51.0           -0.202250           0.5        NaN   \n85388217                 NaN           51.432040           0.3    50000.0   \n85674210                 NaN           51.400508           0.3   550000.0   \n96576061                 NaN           51.363727           0.4     3000.0   \n96621550                51.0           -0.172881           0.3   650000.0   \n\n           bedrooms  bathrooms  analyticsProperty.imageCount  \\\nids                                                            \n74044017        2.0        1.0                          11.0   \n124210982       3.0        1.0                          11.0   \n63921069        2.0        2.0                          10.0   \n96595405        2.0        1.0                          11.0   \n118871876       2.0        1.0                          11.0   \n122247488       2.0        1.0                          11.0   \n85407393        3.0        2.0                          11.0   \n96574858        3.0        1.0                          14.0   \n118825013       2.0        1.0                          18.0   \n82165626        2.0        2.0                          19.0   \n106827140       2.0        2.0                          10.0   \n96574750        2.0        2.0                          13.0   \n115507298       2.0        1.0                          14.0   \n115507244       2.0        2.0                          14.0   \n122706701       1.0        1.0                          13.0   \n111106427       1.0        1.0                           8.0   \n120375476       1.0        1.0                          13.0   \n114904994       2.0        1.0                          11.0   \n83605776        1.0        1.0                          13.0   \n121796048       1.0        1.0                          14.0   \n123292304       2.0        1.0                          12.0   \n85354197        3.0        1.0                          11.0   \n84898671        2.0        1.0                          11.0   \n115818644       2.0        1.0                          11.0   \n97893989        1.0        1.0                          11.0   \n119469575       1.0        1.0                          11.0   \n120153674       1.0        1.0                          11.0   \n123777377       2.0        1.0                          11.0   \n113752073       2.0        1.0                          11.0   \n108476417       2.0        1.0                          11.0   \n109078397       2.0        2.0                           2.0   \n111247943       3.0        1.0                          15.0   \n118568108       2.0        2.0                          11.0   \n118961033       1.0        1.0                          11.0   \n121284314       3.0        1.0                          17.0   \n121699175       4.0        2.0                          23.0   \n122172239       2.0        1.0                          14.0   \n123350480       2.0        1.0                          11.0   \n123914636       4.0        3.0                          18.0   \n123928922       3.0        1.0                          18.0   \n123932027       1.0        1.0                          18.0   \n123932399       2.0        1.0                          18.0   \n123932627       2.0        1.0                          18.0   \n85388217        2.0        1.0                           3.0   \n85674210        2.0        1.0                           6.0   \n96576061        2.0        1.0                           3.0   \n96621550        3.0        2.0                          11.0   \n\n           analyticsProperty.added  \nids                                 \n74044017                       NaN  \n124210982                      NaN  \n63921069                20190724.0  \n96595405                       NaN  \n118871876                      NaN  \n122247488                      NaN  \n85407393                       NaN  \n96574858                20220519.0  \n118825013               20220117.0  \n82165626                20211021.0  \n106827140               20210513.0  \n96574750                20220519.0  \n115507298               20211028.0  \n115507244               20211028.0  \n122706701               20220422.0  \n111106427               20210728.0  \n120375476               20220225.0  \n114904994                      NaN  \n83605776                20220127.0  \n121796048               20220331.0  \n123292304               20220512.0  \n85354197                       NaN  \n84898671                       NaN  \n115818644                      NaN  \n97893989                       NaN  \n119469575                      NaN  \n120153674                      NaN  \n123777377                      NaN  \n113752073                      NaN  \n108476417                      NaN  \n109078397               20210618.0  \n111247943               20210731.0  \n118568108                      NaN  \n118961033                      NaN  \n121284314               20220319.0  \n121699175               20220329.0  \n122172239               20220408.0  \n123350480                      NaN  \n123914636               20220615.0  \n123928922               20220615.0  \n123932027               20220615.0  \n123932399               20220615.0  \n123932627               20220615.0  \n85388217                20220531.0  \n85674210                20220614.0  \n96576061                20220519.0  \n96621550                       NaN  ",
      "text/html": "<div>\n<style scoped>\n    .dataframe tbody tr th:only-of-type {\n        vertical-align: middle;\n    }\n\n    .dataframe tbody tr th {\n        vertical-align: top;\n    }\n\n    .dataframe thead th {\n        text-align: right;\n    }\n</style>\n<table border=\"1\" class=\"dataframe\">\n  <thead>\n    <tr style=\"text-align: right;\">\n      <th></th>\n      <th>location.latitude</th>\n      <th>location.longitude</th>\n      <th>Station_Prox</th>\n      <th>Price</th>\n      <th>bedrooms</th>\n      <th>bathrooms</th>\n      <th>analyticsProperty.imageCount</th>\n      <th>analyticsProperty.added</th>\n    </tr>\n    <tr>\n      <th>ids</th>\n      <th></th>\n      <th></th>\n      <th></th>\n      <th></th>\n      <th></th>\n      <th></th>\n      <th></th>\n      <th></th>\n    </tr>\n  </thead>\n  <tbody>\n    <tr>\n      <th>74044017</th>\n      <td>51.0</td>\n      <td>-0.113691</td>\n      <td>0.8</td>\n      <td>375000.0</td>\n      <td>2.0</td>\n      <td>1.0</td>\n      <td>11.0</td>\n      <td>NaN</td>\n    </tr>\n    <tr>\n      <th>124210982</th>\n      <td>51.0</td>\n      <td>-0.073600</td>\n      <td>0.3</td>\n      <td>425000.0</td>\n      <td>3.0</td>\n      <td>1.0</td>\n      <td>11.0</td>\n      <td>NaN</td>\n    </tr>\n    <tr>\n      <th>63921069</th>\n      <td>51.0</td>\n      <td>-0.299760</td>\n      <td>0.1</td>\n      <td>NaN</td>\n      <td>2.0</td>\n      <td>2.0</td>\n      <td>10.0</td>\n      <td>20190724.0</td>\n    </tr>\n    <tr>\n      <th>96595405</th>\n      <td>51.0</td>\n      <td>-0.319919</td>\n      <td>0.1</td>\n      <td>499950.0</td>\n      <td>2.0</td>\n      <td>1.0</td>\n      <td>11.0</td>\n      <td>NaN</td>\n    </tr>\n    <tr>\n      <th>118871876</th>\n      <td>51.0</td>\n      <td>-0.338532</td>\n      <td>0.4</td>\n      <td>499950.0</td>\n      <td>2.0</td>\n      <td>1.0</td>\n      <td>11.0</td>\n      <td>NaN</td>\n    </tr>\n    <tr>\n      <th>122247488</th>\n      <td>51.0</td>\n      <td>-0.306608</td>\n      <td>0.1</td>\n      <td>399950.0</td>\n      <td>2.0</td>\n      <td>1.0</td>\n      <td>11.0</td>\n      <td>NaN</td>\n    </tr>\n    <tr>\n      <th>85407393</th>\n      <td>0.0</td>\n      <td>0.000000</td>\n      <td>0.4</td>\n      <td>399950.0</td>\n      <td>3.0</td>\n      <td>2.0</td>\n      <td>11.0</td>\n      <td>NaN</td>\n    </tr>\n    <tr>\n      <th>96574858</th>\n      <td>51.0</td>\n      <td>0.032710</td>\n      <td>0.5</td>\n      <td>NaN</td>\n      <td>3.0</td>\n      <td>1.0</td>\n      <td>14.0</td>\n      <td>20220519.0</td>\n    </tr>\n    <tr>\n      <th>118825013</th>\n      <td>51.0</td>\n      <td>0.037298</td>\n      <td>0.5</td>\n      <td>NaN</td>\n      <td>2.0</td>\n      <td>1.0</td>\n      <td>18.0</td>\n      <td>20220117.0</td>\n    </tr>\n    <tr>\n      <th>82165626</th>\n      <td>51.0</td>\n      <td>0.021131</td>\n      <td>0.2</td>\n      <td>NaN</td>\n      <td>2.0</td>\n      <td>2.0</td>\n      <td>19.0</td>\n      <td>20211021.0</td>\n    </tr>\n    <tr>\n      <th>106827140</th>\n      <td>51.0</td>\n      <td>0.039172</td>\n      <td>0.9</td>\n      <td>NaN</td>\n      <td>2.0</td>\n      <td>2.0</td>\n      <td>10.0</td>\n      <td>20210513.0</td>\n    </tr>\n    <tr>\n      <th>96574750</th>\n      <td>51.0</td>\n      <td>0.012470</td>\n      <td>0.3</td>\n      <td>NaN</td>\n      <td>2.0</td>\n      <td>2.0</td>\n      <td>13.0</td>\n      <td>20220519.0</td>\n    </tr>\n    <tr>\n      <th>115507298</th>\n      <td>51.0</td>\n      <td>0.025303</td>\n      <td>0.3</td>\n      <td>NaN</td>\n      <td>2.0</td>\n      <td>1.0</td>\n      <td>14.0</td>\n      <td>20211028.0</td>\n    </tr>\n    <tr>\n      <th>115507244</th>\n      <td>51.0</td>\n      <td>0.025179</td>\n      <td>0.3</td>\n      <td>NaN</td>\n      <td>2.0</td>\n      <td>2.0</td>\n      <td>14.0</td>\n      <td>20211028.0</td>\n    </tr>\n    <tr>\n      <th>122706701</th>\n      <td>51.0</td>\n      <td>-0.001323</td>\n      <td>0.3</td>\n      <td>NaN</td>\n      <td>1.0</td>\n      <td>1.0</td>\n      <td>13.0</td>\n      <td>20220422.0</td>\n    </tr>\n    <tr>\n      <th>111106427</th>\n      <td>51.0</td>\n      <td>0.014527</td>\n      <td>0.2</td>\n      <td>NaN</td>\n      <td>1.0</td>\n      <td>1.0</td>\n      <td>8.0</td>\n      <td>20210728.0</td>\n    </tr>\n    <tr>\n      <th>120375476</th>\n      <td>51.0</td>\n      <td>0.010339</td>\n      <td>0.3</td>\n      <td>NaN</td>\n      <td>1.0</td>\n      <td>1.0</td>\n      <td>13.0</td>\n      <td>20220225.0</td>\n    </tr>\n    <tr>\n      <th>114904994</th>\n      <td>51.0</td>\n      <td>0.057963</td>\n      <td>1.4</td>\n      <td>260000.0</td>\n      <td>2.0</td>\n      <td>1.0</td>\n      <td>11.0</td>\n      <td>NaN</td>\n    </tr>\n    <tr>\n      <th>83605776</th>\n      <td>51.0</td>\n      <td>0.019088</td>\n      <td>0.1</td>\n      <td>NaN</td>\n      <td>1.0</td>\n      <td>1.0</td>\n      <td>13.0</td>\n      <td>20220127.0</td>\n    </tr>\n    <tr>\n      <th>121796048</th>\n      <td>51.0</td>\n      <td>0.007611</td>\n      <td>0.6</td>\n      <td>NaN</td>\n      <td>1.0</td>\n      <td>1.0</td>\n      <td>14.0</td>\n      <td>20220331.0</td>\n    </tr>\n    <tr>\n      <th>123292304</th>\n      <td>51.0</td>\n      <td>0.017632</td>\n      <td>0.1</td>\n      <td>NaN</td>\n      <td>2.0</td>\n      <td>1.0</td>\n      <td>12.0</td>\n      <td>20220512.0</td>\n    </tr>\n    <tr>\n      <th>85354197</th>\n      <td>51.0</td>\n      <td>0.091910</td>\n      <td>0.5</td>\n      <td>425000.0</td>\n      <td>3.0</td>\n      <td>1.0</td>\n      <td>11.0</td>\n      <td>NaN</td>\n    </tr>\n    <tr>\n      <th>84898671</th>\n      <td>51.0</td>\n      <td>0.082295</td>\n      <td>0.3</td>\n      <td>350000.0</td>\n      <td>2.0</td>\n      <td>1.0</td>\n      <td>11.0</td>\n      <td>NaN</td>\n    </tr>\n    <tr>\n      <th>115818644</th>\n      <td>51.0</td>\n      <td>0.139640</td>\n      <td>1.2</td>\n      <td>250000.0</td>\n      <td>2.0</td>\n      <td>1.0</td>\n      <td>11.0</td>\n      <td>NaN</td>\n    </tr>\n    <tr>\n      <th>97893989</th>\n      <td>51.0</td>\n      <td>-0.093722</td>\n      <td>0.2</td>\n      <td>895000.0</td>\n      <td>1.0</td>\n      <td>1.0</td>\n      <td>11.0</td>\n      <td>NaN</td>\n    </tr>\n    <tr>\n      <th>119469575</th>\n      <td>51.0</td>\n      <td>-0.106408</td>\n      <td>0.5</td>\n      <td>220000.0</td>\n      <td>1.0</td>\n      <td>1.0</td>\n      <td>11.0</td>\n      <td>NaN</td>\n    </tr>\n    <tr>\n      <th>120153674</th>\n      <td>51.0</td>\n      <td>-0.112780</td>\n      <td>0.4</td>\n      <td>220000.0</td>\n      <td>1.0</td>\n      <td>1.0</td>\n      <td>11.0</td>\n      <td>NaN</td>\n    </tr>\n    <tr>\n      <th>123777377</th>\n      <td>51.0</td>\n      <td>-0.258334</td>\n      <td>0.3</td>\n      <td>450000.0</td>\n      <td>2.0</td>\n      <td>1.0</td>\n      <td>11.0</td>\n      <td>NaN</td>\n    </tr>\n    <tr>\n      <th>113752073</th>\n      <td>51.0</td>\n      <td>-0.195000</td>\n      <td>0.4</td>\n      <td>450000.0</td>\n      <td>2.0</td>\n      <td>1.0</td>\n      <td>11.0</td>\n      <td>NaN</td>\n    </tr>\n    <tr>\n      <th>108476417</th>\n      <td>51.0</td>\n      <td>-0.150440</td>\n      <td>0.2</td>\n      <td>230000.0</td>\n      <td>2.0</td>\n      <td>1.0</td>\n      <td>11.0</td>\n      <td>NaN</td>\n    </tr>\n    <tr>\n      <th>109078397</th>\n      <td>51.0</td>\n      <td>-0.082210</td>\n      <td>0.0</td>\n      <td>NaN</td>\n      <td>2.0</td>\n      <td>2.0</td>\n      <td>2.0</td>\n      <td>20210618.0</td>\n    </tr>\n    <tr>\n      <th>111247943</th>\n      <td>NaN</td>\n      <td>NaN</td>\n      <td>0.3</td>\n      <td>290000.0</td>\n      <td>3.0</td>\n      <td>1.0</td>\n      <td>15.0</td>\n      <td>20210731.0</td>\n    </tr>\n    <tr>\n      <th>118568108</th>\n      <td>51.0</td>\n      <td>-0.242500</td>\n      <td>0.2</td>\n      <td>415000.0</td>\n      <td>2.0</td>\n      <td>2.0</td>\n      <td>11.0</td>\n      <td>NaN</td>\n    </tr>\n    <tr>\n      <th>118961033</th>\n      <td>51.0</td>\n      <td>-0.107893</td>\n      <td>0.2</td>\n      <td>1100000.0</td>\n      <td>1.0</td>\n      <td>1.0</td>\n      <td>11.0</td>\n      <td>NaN</td>\n    </tr>\n    <tr>\n      <th>121284314</th>\n      <td>NaN</td>\n      <td>NaN</td>\n      <td>0.5</td>\n      <td>600000.0</td>\n      <td>3.0</td>\n      <td>1.0</td>\n      <td>17.0</td>\n      <td>20220319.0</td>\n    </tr>\n    <tr>\n      <th>121699175</th>\n      <td>51.0</td>\n      <td>-0.217178</td>\n      <td>0.5</td>\n      <td>NaN</td>\n      <td>4.0</td>\n      <td>2.0</td>\n      <td>23.0</td>\n      <td>20220329.0</td>\n    </tr>\n    <tr>\n      <th>122172239</th>\n      <td>NaN</td>\n      <td>NaN</td>\n      <td>0.4</td>\n      <td>185000.0</td>\n      <td>2.0</td>\n      <td>1.0</td>\n      <td>14.0</td>\n      <td>20220408.0</td>\n    </tr>\n    <tr>\n      <th>123350480</th>\n      <td>51.0</td>\n      <td>-0.246138</td>\n      <td>0.6</td>\n      <td>335000.0</td>\n      <td>2.0</td>\n      <td>1.0</td>\n      <td>11.0</td>\n      <td>NaN</td>\n    </tr>\n    <tr>\n      <th>123914636</th>\n      <td>51.0</td>\n      <td>-0.202250</td>\n      <td>0.5</td>\n      <td>NaN</td>\n      <td>4.0</td>\n      <td>3.0</td>\n      <td>18.0</td>\n      <td>20220615.0</td>\n    </tr>\n    <tr>\n      <th>123928922</th>\n      <td>51.0</td>\n      <td>-0.202250</td>\n      <td>0.5</td>\n      <td>NaN</td>\n      <td>3.0</td>\n      <td>1.0</td>\n      <td>18.0</td>\n      <td>20220615.0</td>\n    </tr>\n    <tr>\n      <th>123932027</th>\n      <td>51.0</td>\n      <td>-0.202250</td>\n      <td>0.5</td>\n      <td>NaN</td>\n      <td>1.0</td>\n      <td>1.0</td>\n      <td>18.0</td>\n      <td>20220615.0</td>\n    </tr>\n    <tr>\n      <th>123932399</th>\n      <td>51.0</td>\n      <td>-0.202250</td>\n      <td>0.5</td>\n      <td>NaN</td>\n      <td>2.0</td>\n      <td>1.0</td>\n      <td>18.0</td>\n      <td>20220615.0</td>\n    </tr>\n    <tr>\n      <th>123932627</th>\n      <td>51.0</td>\n      <td>-0.202250</td>\n      <td>0.5</td>\n      <td>NaN</td>\n      <td>2.0</td>\n      <td>1.0</td>\n      <td>18.0</td>\n      <td>20220615.0</td>\n    </tr>\n    <tr>\n      <th>85388217</th>\n      <td>NaN</td>\n      <td>51.432040</td>\n      <td>0.3</td>\n      <td>50000.0</td>\n      <td>2.0</td>\n      <td>1.0</td>\n      <td>3.0</td>\n      <td>20220531.0</td>\n    </tr>\n    <tr>\n      <th>85674210</th>\n      <td>NaN</td>\n      <td>51.400508</td>\n      <td>0.3</td>\n      <td>550000.0</td>\n      <td>2.0</td>\n      <td>1.0</td>\n      <td>6.0</td>\n      <td>20220614.0</td>\n    </tr>\n    <tr>\n      <th>96576061</th>\n      <td>NaN</td>\n      <td>51.363727</td>\n      <td>0.4</td>\n      <td>3000.0</td>\n      <td>2.0</td>\n      <td>1.0</td>\n      <td>3.0</td>\n      <td>20220519.0</td>\n    </tr>\n    <tr>\n      <th>96621550</th>\n      <td>51.0</td>\n      <td>-0.172881</td>\n      <td>0.3</td>\n      <td>650000.0</td>\n      <td>3.0</td>\n      <td>2.0</td>\n      <td>11.0</td>\n      <td>NaN</td>\n    </tr>\n  </tbody>\n</table>\n</div>"
     },
     "execution_count": 72,
     "metadata": {},
     "output_type": "execute_result"
    }
   ],
   "source": [
    "median_imageCount = df['analyticsProperty.imageCount'].median()\n",
    "print(median_imageCount)\n",
    "\n",
    "df['analyticsProperty.imageCount'].fillna(median_imageCount, inplace=True)\n",
    "\n",
    "sample_incomplete_rows = df[df.isnull().any(axis=1)] #.head()\n",
    "sample_incomplete_rows"
   ],
   "metadata": {
    "collapsed": false,
    "pycharm": {
     "name": "#%%\n"
    }
   }
  },
  {
   "cell_type": "code",
   "execution_count": 48,
   "outputs": [
    {
     "name": "stdout",
     "output_type": "stream",
     "text": [
      "20220407.0\n"
     ]
    },
    {
     "name": "stderr",
     "output_type": "stream",
     "text": [
      "/tmp/ipykernel_6752/818668009.py:4: SettingWithCopyWarning: \n",
      "A value is trying to be set on a copy of a slice from a DataFrame\n",
      "\n",
      "See the caveats in the documentation: https://pandas.pydata.org/pandas-docs/stable/user_guide/indexing.html#returning-a-view-versus-a-copy\n",
      "  df['analyticsProperty.added'].fillna(median_added, inplace=True)\n"
     ]
    },
    {
     "data": {
      "text/plain": "           location.latitude  location.longitude  Station_Prox     Price  \\\nids                                                                        \n63921069                51.0           -0.299760           0.1       NaN   \n96574858                51.0            0.032710           0.5       NaN   \n118825013               51.0            0.037298           0.5       NaN   \n82165626                51.0            0.021131           0.2       NaN   \n106827140               51.0            0.039172           0.9       NaN   \n96574750                51.0            0.012470           0.3       NaN   \n115507298               51.0            0.025303           0.3       NaN   \n115507244               51.0            0.025179           0.3       NaN   \n122706701               51.0           -0.001323           0.3       NaN   \n111106427               51.0            0.014527           0.2       NaN   \n120375476               51.0            0.010339           0.3       NaN   \n83605776                51.0            0.019088           0.1       NaN   \n121796048               51.0            0.007611           0.6       NaN   \n123292304               51.0            0.017632           0.1       NaN   \n109078397               51.0           -0.082210           0.0       NaN   \n111247943                NaN                 NaN           0.3  290000.0   \n121284314                NaN                 NaN           0.5  600000.0   \n121699175               51.0           -0.217178           0.5       NaN   \n122172239                NaN                 NaN           0.4  185000.0   \n123914636               51.0           -0.202250           0.5       NaN   \n123928922               51.0           -0.202250           0.5       NaN   \n123932027               51.0           -0.202250           0.5       NaN   \n123932399               51.0           -0.202250           0.5       NaN   \n123932627               51.0           -0.202250           0.5       NaN   \n85388217                 NaN           51.432040           0.3   50000.0   \n85674210                 NaN           51.400508           0.3  550000.0   \n96576061                 NaN           51.363727           0.4    3000.0   \n\n           bedrooms  bathrooms  analyticsProperty.imageCount  \\\nids                                                            \n63921069        2.0        2.0                          10.0   \n96574858        3.0        1.0                          14.0   \n118825013       2.0        1.0                          18.0   \n82165626        2.0        2.0                          19.0   \n106827140       2.0        2.0                          10.0   \n96574750        2.0        2.0                          13.0   \n115507298       2.0        1.0                          14.0   \n115507244       2.0        2.0                          14.0   \n122706701       1.0        1.0                          13.0   \n111106427       1.0        1.0                           8.0   \n120375476       1.0        1.0                          13.0   \n83605776        1.0        1.0                          13.0   \n121796048       1.0        1.0                          14.0   \n123292304       2.0        1.0                          12.0   \n109078397       2.0        2.0                           2.0   \n111247943       3.0        1.0                          15.0   \n121284314       3.0        1.0                          17.0   \n121699175       4.0        2.0                          23.0   \n122172239       2.0        1.0                          14.0   \n123914636       4.0        3.0                          18.0   \n123928922       3.0        1.0                          18.0   \n123932027       1.0        1.0                          18.0   \n123932399       2.0        1.0                          18.0   \n123932627       2.0        1.0                          18.0   \n85388217        2.0        1.0                           3.0   \n85674210        2.0        1.0                           6.0   \n96576061        2.0        1.0                           3.0   \n\n           analyticsProperty.added  \nids                                 \n63921069                20190724.0  \n96574858                20220519.0  \n118825013               20220117.0  \n82165626                20211021.0  \n106827140               20210513.0  \n96574750                20220519.0  \n115507298               20211028.0  \n115507244               20211028.0  \n122706701               20220422.0  \n111106427               20210728.0  \n120375476               20220225.0  \n83605776                20220127.0  \n121796048               20220331.0  \n123292304               20220512.0  \n109078397               20210618.0  \n111247943               20210731.0  \n121284314               20220319.0  \n121699175               20220329.0  \n122172239               20220408.0  \n123914636               20220615.0  \n123928922               20220615.0  \n123932027               20220615.0  \n123932399               20220615.0  \n123932627               20220615.0  \n85388217                20220531.0  \n85674210                20220614.0  \n96576061                20220519.0  ",
      "text/html": "<div>\n<style scoped>\n    .dataframe tbody tr th:only-of-type {\n        vertical-align: middle;\n    }\n\n    .dataframe tbody tr th {\n        vertical-align: top;\n    }\n\n    .dataframe thead th {\n        text-align: right;\n    }\n</style>\n<table border=\"1\" class=\"dataframe\">\n  <thead>\n    <tr style=\"text-align: right;\">\n      <th></th>\n      <th>location.latitude</th>\n      <th>location.longitude</th>\n      <th>Station_Prox</th>\n      <th>Price</th>\n      <th>bedrooms</th>\n      <th>bathrooms</th>\n      <th>analyticsProperty.imageCount</th>\n      <th>analyticsProperty.added</th>\n    </tr>\n    <tr>\n      <th>ids</th>\n      <th></th>\n      <th></th>\n      <th></th>\n      <th></th>\n      <th></th>\n      <th></th>\n      <th></th>\n      <th></th>\n    </tr>\n  </thead>\n  <tbody>\n    <tr>\n      <th>63921069</th>\n      <td>51.0</td>\n      <td>-0.299760</td>\n      <td>0.1</td>\n      <td>NaN</td>\n      <td>2.0</td>\n      <td>2.0</td>\n      <td>10.0</td>\n      <td>20190724.0</td>\n    </tr>\n    <tr>\n      <th>96574858</th>\n      <td>51.0</td>\n      <td>0.032710</td>\n      <td>0.5</td>\n      <td>NaN</td>\n      <td>3.0</td>\n      <td>1.0</td>\n      <td>14.0</td>\n      <td>20220519.0</td>\n    </tr>\n    <tr>\n      <th>118825013</th>\n      <td>51.0</td>\n      <td>0.037298</td>\n      <td>0.5</td>\n      <td>NaN</td>\n      <td>2.0</td>\n      <td>1.0</td>\n      <td>18.0</td>\n      <td>20220117.0</td>\n    </tr>\n    <tr>\n      <th>82165626</th>\n      <td>51.0</td>\n      <td>0.021131</td>\n      <td>0.2</td>\n      <td>NaN</td>\n      <td>2.0</td>\n      <td>2.0</td>\n      <td>19.0</td>\n      <td>20211021.0</td>\n    </tr>\n    <tr>\n      <th>106827140</th>\n      <td>51.0</td>\n      <td>0.039172</td>\n      <td>0.9</td>\n      <td>NaN</td>\n      <td>2.0</td>\n      <td>2.0</td>\n      <td>10.0</td>\n      <td>20210513.0</td>\n    </tr>\n    <tr>\n      <th>96574750</th>\n      <td>51.0</td>\n      <td>0.012470</td>\n      <td>0.3</td>\n      <td>NaN</td>\n      <td>2.0</td>\n      <td>2.0</td>\n      <td>13.0</td>\n      <td>20220519.0</td>\n    </tr>\n    <tr>\n      <th>115507298</th>\n      <td>51.0</td>\n      <td>0.025303</td>\n      <td>0.3</td>\n      <td>NaN</td>\n      <td>2.0</td>\n      <td>1.0</td>\n      <td>14.0</td>\n      <td>20211028.0</td>\n    </tr>\n    <tr>\n      <th>115507244</th>\n      <td>51.0</td>\n      <td>0.025179</td>\n      <td>0.3</td>\n      <td>NaN</td>\n      <td>2.0</td>\n      <td>2.0</td>\n      <td>14.0</td>\n      <td>20211028.0</td>\n    </tr>\n    <tr>\n      <th>122706701</th>\n      <td>51.0</td>\n      <td>-0.001323</td>\n      <td>0.3</td>\n      <td>NaN</td>\n      <td>1.0</td>\n      <td>1.0</td>\n      <td>13.0</td>\n      <td>20220422.0</td>\n    </tr>\n    <tr>\n      <th>111106427</th>\n      <td>51.0</td>\n      <td>0.014527</td>\n      <td>0.2</td>\n      <td>NaN</td>\n      <td>1.0</td>\n      <td>1.0</td>\n      <td>8.0</td>\n      <td>20210728.0</td>\n    </tr>\n    <tr>\n      <th>120375476</th>\n      <td>51.0</td>\n      <td>0.010339</td>\n      <td>0.3</td>\n      <td>NaN</td>\n      <td>1.0</td>\n      <td>1.0</td>\n      <td>13.0</td>\n      <td>20220225.0</td>\n    </tr>\n    <tr>\n      <th>83605776</th>\n      <td>51.0</td>\n      <td>0.019088</td>\n      <td>0.1</td>\n      <td>NaN</td>\n      <td>1.0</td>\n      <td>1.0</td>\n      <td>13.0</td>\n      <td>20220127.0</td>\n    </tr>\n    <tr>\n      <th>121796048</th>\n      <td>51.0</td>\n      <td>0.007611</td>\n      <td>0.6</td>\n      <td>NaN</td>\n      <td>1.0</td>\n      <td>1.0</td>\n      <td>14.0</td>\n      <td>20220331.0</td>\n    </tr>\n    <tr>\n      <th>123292304</th>\n      <td>51.0</td>\n      <td>0.017632</td>\n      <td>0.1</td>\n      <td>NaN</td>\n      <td>2.0</td>\n      <td>1.0</td>\n      <td>12.0</td>\n      <td>20220512.0</td>\n    </tr>\n    <tr>\n      <th>109078397</th>\n      <td>51.0</td>\n      <td>-0.082210</td>\n      <td>0.0</td>\n      <td>NaN</td>\n      <td>2.0</td>\n      <td>2.0</td>\n      <td>2.0</td>\n      <td>20210618.0</td>\n    </tr>\n    <tr>\n      <th>111247943</th>\n      <td>NaN</td>\n      <td>NaN</td>\n      <td>0.3</td>\n      <td>290000.0</td>\n      <td>3.0</td>\n      <td>1.0</td>\n      <td>15.0</td>\n      <td>20210731.0</td>\n    </tr>\n    <tr>\n      <th>121284314</th>\n      <td>NaN</td>\n      <td>NaN</td>\n      <td>0.5</td>\n      <td>600000.0</td>\n      <td>3.0</td>\n      <td>1.0</td>\n      <td>17.0</td>\n      <td>20220319.0</td>\n    </tr>\n    <tr>\n      <th>121699175</th>\n      <td>51.0</td>\n      <td>-0.217178</td>\n      <td>0.5</td>\n      <td>NaN</td>\n      <td>4.0</td>\n      <td>2.0</td>\n      <td>23.0</td>\n      <td>20220329.0</td>\n    </tr>\n    <tr>\n      <th>122172239</th>\n      <td>NaN</td>\n      <td>NaN</td>\n      <td>0.4</td>\n      <td>185000.0</td>\n      <td>2.0</td>\n      <td>1.0</td>\n      <td>14.0</td>\n      <td>20220408.0</td>\n    </tr>\n    <tr>\n      <th>123914636</th>\n      <td>51.0</td>\n      <td>-0.202250</td>\n      <td>0.5</td>\n      <td>NaN</td>\n      <td>4.0</td>\n      <td>3.0</td>\n      <td>18.0</td>\n      <td>20220615.0</td>\n    </tr>\n    <tr>\n      <th>123928922</th>\n      <td>51.0</td>\n      <td>-0.202250</td>\n      <td>0.5</td>\n      <td>NaN</td>\n      <td>3.0</td>\n      <td>1.0</td>\n      <td>18.0</td>\n      <td>20220615.0</td>\n    </tr>\n    <tr>\n      <th>123932027</th>\n      <td>51.0</td>\n      <td>-0.202250</td>\n      <td>0.5</td>\n      <td>NaN</td>\n      <td>1.0</td>\n      <td>1.0</td>\n      <td>18.0</td>\n      <td>20220615.0</td>\n    </tr>\n    <tr>\n      <th>123932399</th>\n      <td>51.0</td>\n      <td>-0.202250</td>\n      <td>0.5</td>\n      <td>NaN</td>\n      <td>2.0</td>\n      <td>1.0</td>\n      <td>18.0</td>\n      <td>20220615.0</td>\n    </tr>\n    <tr>\n      <th>123932627</th>\n      <td>51.0</td>\n      <td>-0.202250</td>\n      <td>0.5</td>\n      <td>NaN</td>\n      <td>2.0</td>\n      <td>1.0</td>\n      <td>18.0</td>\n      <td>20220615.0</td>\n    </tr>\n    <tr>\n      <th>85388217</th>\n      <td>NaN</td>\n      <td>51.432040</td>\n      <td>0.3</td>\n      <td>50000.0</td>\n      <td>2.0</td>\n      <td>1.0</td>\n      <td>3.0</td>\n      <td>20220531.0</td>\n    </tr>\n    <tr>\n      <th>85674210</th>\n      <td>NaN</td>\n      <td>51.400508</td>\n      <td>0.3</td>\n      <td>550000.0</td>\n      <td>2.0</td>\n      <td>1.0</td>\n      <td>6.0</td>\n      <td>20220614.0</td>\n    </tr>\n    <tr>\n      <th>96576061</th>\n      <td>NaN</td>\n      <td>51.363727</td>\n      <td>0.4</td>\n      <td>3000.0</td>\n      <td>2.0</td>\n      <td>1.0</td>\n      <td>3.0</td>\n      <td>20220519.0</td>\n    </tr>\n  </tbody>\n</table>\n</div>"
     },
     "execution_count": 48,
     "metadata": {},
     "output_type": "execute_result"
    }
   ],
   "source": [
    "median_added = df['analyticsProperty.added'].median()\n",
    "print(median_added)\n",
    "\n",
    "df['analyticsProperty.added'].fillna(median_added, inplace=True)\n",
    "\n",
    "sample_incomplete_rows = df[df.isnull().any(axis=1)] #.head()\n",
    "sample_incomplete_rows"
   ],
   "metadata": {
    "collapsed": false,
    "pycharm": {
     "name": "#%%\n"
    }
   }
  },
  {
   "cell_type": "code",
   "execution_count": 77,
   "outputs": [
    {
     "data": {
      "text/plain": "Empty DataFrame\nColumns: [location.latitude, location.longitude, Station_Prox, Price, bedrooms, bathrooms, analyticsProperty.imageCount, analyticsProperty.added]\nIndex: []",
      "text/html": "<div>\n<style scoped>\n    .dataframe tbody tr th:only-of-type {\n        vertical-align: middle;\n    }\n\n    .dataframe tbody tr th {\n        vertical-align: top;\n    }\n\n    .dataframe thead th {\n        text-align: right;\n    }\n</style>\n<table border=\"1\" class=\"dataframe\">\n  <thead>\n    <tr style=\"text-align: right;\">\n      <th></th>\n      <th>location.latitude</th>\n      <th>location.longitude</th>\n      <th>Station_Prox</th>\n      <th>Price</th>\n      <th>bedrooms</th>\n      <th>bathrooms</th>\n      <th>analyticsProperty.imageCount</th>\n      <th>analyticsProperty.added</th>\n    </tr>\n    <tr>\n      <th>ids</th>\n      <th></th>\n      <th></th>\n      <th></th>\n      <th></th>\n      <th></th>\n      <th></th>\n      <th></th>\n      <th></th>\n    </tr>\n  </thead>\n  <tbody>\n  </tbody>\n</table>\n</div>"
     },
     "execution_count": 77,
     "metadata": {},
     "output_type": "execute_result"
    }
   ],
   "source": [
    "#df = df['Price'].dropna()\n",
    "#sample_incomplete_rows = df[df.isnull().any(axis=1)].copy() #.head()\n",
    "#sample_incomplete_rows\n",
    "df = df.dropna(subset=\"Price\")\n",
    "df = df.dropna(subset=[\"analyticsProperty.added\",'location.latitude','location.longitude'])\n",
    "\n",
    "sample_incomplete_rows = df[df.isnull().any(axis=1)] #.head()\n",
    "sample_incomplete_rows"
   ],
   "metadata": {
    "collapsed": false,
    "pycharm": {
     "name": "#%%\n"
    }
   }
  },
  {
   "cell_type": "code",
   "execution_count": 78,
   "outputs": [],
   "source": [
    "y = df['Price']\n",
    "X = df.drop(['Price'],axis=1)\n",
    "X_train, X_test, y_train, y_test = train_test_split(X, y)"
   ],
   "metadata": {
    "collapsed": false,
    "pycharm": {
     "name": "#%%\n"
    }
   }
  },
  {
   "cell_type": "code",
   "execution_count": 78,
   "outputs": [],
   "source": [],
   "metadata": {
    "collapsed": false,
    "pycharm": {
     "name": "#%%\n"
    }
   }
  },
  {
   "cell_type": "code",
   "execution_count": 79,
   "outputs": [
    {
     "data": {
      "text/plain": "DecisionTreeRegressor(max_depth=4)",
      "text/html": "<style>#sk-container-id-1 {color: black;background-color: white;}#sk-container-id-1 pre{padding: 0;}#sk-container-id-1 div.sk-toggleable {background-color: white;}#sk-container-id-1 label.sk-toggleable__label {cursor: pointer;display: block;width: 100%;margin-bottom: 0;padding: 0.3em;box-sizing: border-box;text-align: center;}#sk-container-id-1 label.sk-toggleable__label-arrow:before {content: \"▸\";float: left;margin-right: 0.25em;color: #696969;}#sk-container-id-1 label.sk-toggleable__label-arrow:hover:before {color: black;}#sk-container-id-1 div.sk-estimator:hover label.sk-toggleable__label-arrow:before {color: black;}#sk-container-id-1 div.sk-toggleable__content {max-height: 0;max-width: 0;overflow: hidden;text-align: left;background-color: #f0f8ff;}#sk-container-id-1 div.sk-toggleable__content pre {margin: 0.2em;color: black;border-radius: 0.25em;background-color: #f0f8ff;}#sk-container-id-1 input.sk-toggleable__control:checked~div.sk-toggleable__content {max-height: 200px;max-width: 100%;overflow: auto;}#sk-container-id-1 input.sk-toggleable__control:checked~label.sk-toggleable__label-arrow:before {content: \"▾\";}#sk-container-id-1 div.sk-estimator input.sk-toggleable__control:checked~label.sk-toggleable__label {background-color: #d4ebff;}#sk-container-id-1 div.sk-label input.sk-toggleable__control:checked~label.sk-toggleable__label {background-color: #d4ebff;}#sk-container-id-1 input.sk-hidden--visually {border: 0;clip: rect(1px 1px 1px 1px);clip: rect(1px, 1px, 1px, 1px);height: 1px;margin: -1px;overflow: hidden;padding: 0;position: absolute;width: 1px;}#sk-container-id-1 div.sk-estimator {font-family: monospace;background-color: #f0f8ff;border: 1px dotted black;border-radius: 0.25em;box-sizing: border-box;margin-bottom: 0.5em;}#sk-container-id-1 div.sk-estimator:hover {background-color: #d4ebff;}#sk-container-id-1 div.sk-parallel-item::after {content: \"\";width: 100%;border-bottom: 1px solid gray;flex-grow: 1;}#sk-container-id-1 div.sk-label:hover label.sk-toggleable__label {background-color: #d4ebff;}#sk-container-id-1 div.sk-serial::before {content: \"\";position: absolute;border-left: 1px solid gray;box-sizing: border-box;top: 0;bottom: 0;left: 50%;z-index: 0;}#sk-container-id-1 div.sk-serial {display: flex;flex-direction: column;align-items: center;background-color: white;padding-right: 0.2em;padding-left: 0.2em;position: relative;}#sk-container-id-1 div.sk-item {position: relative;z-index: 1;}#sk-container-id-1 div.sk-parallel {display: flex;align-items: stretch;justify-content: center;background-color: white;position: relative;}#sk-container-id-1 div.sk-item::before, #sk-container-id-1 div.sk-parallel-item::before {content: \"\";position: absolute;border-left: 1px solid gray;box-sizing: border-box;top: 0;bottom: 0;left: 50%;z-index: -1;}#sk-container-id-1 div.sk-parallel-item {display: flex;flex-direction: column;z-index: 1;position: relative;background-color: white;}#sk-container-id-1 div.sk-parallel-item:first-child::after {align-self: flex-end;width: 50%;}#sk-container-id-1 div.sk-parallel-item:last-child::after {align-self: flex-start;width: 50%;}#sk-container-id-1 div.sk-parallel-item:only-child::after {width: 0;}#sk-container-id-1 div.sk-dashed-wrapped {border: 1px dashed gray;margin: 0 0.4em 0.5em 0.4em;box-sizing: border-box;padding-bottom: 0.4em;background-color: white;}#sk-container-id-1 div.sk-label label {font-family: monospace;font-weight: bold;display: inline-block;line-height: 1.2em;}#sk-container-id-1 div.sk-label-container {text-align: center;}#sk-container-id-1 div.sk-container {/* jupyter's `normalize.less` sets `[hidden] { display: none; }` but bootstrap.min.css set `[hidden] { display: none !important; }` so we also need the `!important` here to be able to override the default hidden behavior on the sphinx rendered scikit-learn.org. See: https://github.com/scikit-learn/scikit-learn/issues/21755 */display: inline-block !important;position: relative;}#sk-container-id-1 div.sk-text-repr-fallback {display: none;}</style><div id=\"sk-container-id-1\" class=\"sk-top-container\"><div class=\"sk-text-repr-fallback\"><pre>DecisionTreeRegressor(max_depth=4)</pre><b>In a Jupyter environment, please rerun this cell to show the HTML representation or trust the notebook. <br />On GitHub, the HTML representation is unable to render, please try loading this page with nbviewer.org.</b></div><div class=\"sk-container\" hidden><div class=\"sk-item\"><div class=\"sk-estimator sk-toggleable\"><input class=\"sk-toggleable__control sk-hidden--visually\" id=\"sk-estimator-id-1\" type=\"checkbox\" checked><label for=\"sk-estimator-id-1\" class=\"sk-toggleable__label sk-toggleable__label-arrow\">DecisionTreeRegressor</label><div class=\"sk-toggleable__content\"><pre>DecisionTreeRegressor(max_depth=4)</pre></div></div></div></div></div>"
     },
     "execution_count": 79,
     "metadata": {},
     "output_type": "execute_result"
    }
   ],
   "source": [
    "tree_reg = DecisionTreeRegressor(max_depth=4)\n",
    "#tree_reg.fit(X, y)\n",
    "tree_reg.fit(X_train, y_train)"
   ],
   "metadata": {
    "collapsed": false,
    "pycharm": {
     "name": "#%%\n"
    }
   }
  },
  {
   "cell_type": "code",
   "execution_count": 80,
   "outputs": [],
   "source": [
    "from sklearn.tree import export_graphviz"
   ],
   "metadata": {
    "collapsed": false,
    "pycharm": {
     "name": "#%%\n"
    }
   }
  },
  {
   "cell_type": "code",
   "execution_count": 83,
   "outputs": [],
   "source": [
    "export_graphviz(tree_reg,\n",
    "                out_file=\"property_price-07.dot\",\n",
    "                feature_names=X.columns,\n",
    "                class_names='Price',\n",
    "                rounded=True,\n",
    "                filled=True)\n",
    "\n",
    "# dot -Tpng property_price-07.dot -o property_price-07.png\n",
    "# dot -Tpng scrape_site/53_semi_basic_modelling/property_price-07.dot -o scrape_site/53_semi_basic_modelling/property_price-07.png"
   ],
   "metadata": {
    "collapsed": false,
    "pycharm": {
     "name": "#%%\n"
    }
   }
  },
  {
   "cell_type": "code",
   "execution_count": null,
   "outputs": [],
   "source": [
    "tree_reg.score(X,y)"
   ],
   "metadata": {
    "collapsed": false,
    "pycharm": {
     "name": "#%%\n"
    }
   }
  },
  {
   "cell_type": "code",
   "execution_count": null,
   "outputs": [],
   "source": [
    "print(tree_reg.feature_names_in_)\n",
    "print(tree_reg.feature_importances_)\n",
    "pd.DataFrame(tree_reg.feature_importances_,tree_reg.feature_names_in_)"
   ],
   "metadata": {
    "collapsed": false,
    "pycharm": {
     "name": "#%%\n"
    }
   }
  },
  {
   "cell_type": "code",
   "execution_count": null,
   "outputs": [],
   "source": [
    "sorted(zip(tree_reg.feature_importances_,tree_reg.feature_names_in_),reverse=True)"
   ],
   "metadata": {
    "collapsed": false,
    "pycharm": {
     "name": "#%%\n"
    }
   }
  },
  {
   "cell_type": "code",
   "execution_count": null,
   "outputs": [],
   "source": [
    "from sklearn.metrics import mean_squared_error\n",
    "\n"
   ],
   "metadata": {
    "collapsed": false,
    "pycharm": {
     "name": "#%%\n"
    }
   }
  },
  {
   "cell_type": "code",
   "execution_count": null,
   "outputs": [],
   "source": [
    "import numpy as np\n",
    "\n",
    "from sklearn.model_selection import cross_val_score\n",
    "\n",
    "scores = cross_val_score(tree_reg, X, y,\n",
    "                         scoring=\"neg_mean_squared_error\", cv=10)\n",
    "tree_rmse_scores = np.sqrt(-scores)\n",
    "\n",
    "def display_scores(scores):\n",
    "    print(\"Scores:\", scores)\n",
    "    print(\"Mean:\", scores.mean())\n",
    "    print(\"Standard deviation:\", scores.std())\n",
    "\n",
    "display_scores(tree_rmse_scores)"
   ],
   "metadata": {
    "collapsed": false,
    "pycharm": {
     "name": "#%%\n"
    }
   }
  }
 ],
 "metadata": {
  "kernelspec": {
   "display_name": "Python 3",
   "language": "python",
   "name": "python3"
  },
  "language_info": {
   "codemirror_mode": {
    "name": "ipython",
    "version": 2
   },
   "file_extension": ".py",
   "mimetype": "text/x-python",
   "name": "python",
   "nbconvert_exporter": "python",
   "pygments_lexer": "ipython2",
   "version": "2.7.6"
  }
 },
 "nbformat": 4,
 "nbformat_minor": 0
}