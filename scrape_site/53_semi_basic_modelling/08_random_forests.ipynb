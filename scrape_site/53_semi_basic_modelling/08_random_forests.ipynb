{
 "cells": [
  {
   "cell_type": "markdown",
   "source": [
    "### Import necessary modules"
   ],
   "metadata": {
    "collapsed": false,
    "pycharm": {
     "name": "#%% md\n"
    }
   }
  },
  {
   "cell_type": "code",
   "execution_count": 31,
   "metadata": {
    "collapsed": true,
    "pycharm": {
     "name": "#%%\n"
    }
   },
   "outputs": [],
   "source": [
    "from sklearn.model_selection import train_test_split\n",
    "from sklearn.tree import DecisionTreeRegressor\n",
    "import sys\n",
    "\n",
    "sys.path.append('../../globalfunction')  # setting path\n",
    "import globalfunction.vv as vv  # importing\n",
    "import globalfunction.pp as pp  # importing\n",
    "\n",
    "import numpy as np\n",
    "import pandas as pd\n",
    "\n",
    "import sklearn.datasets as datasets\n",
    "from sklearn.model_selection import train_test_split\n",
    "from sklearn import metrics"
   ]
  },
  {
   "cell_type": "markdown",
   "source": [
    "### Get the property listings data and store in a dataframe"
   ],
   "metadata": {
    "collapsed": false,
    "pycharm": {
     "name": "#%% md\n"
    }
   }
  },
  {
   "cell_type": "code",
   "execution_count": 32,
   "outputs": [
    {
     "name": "stdout",
     "output_type": "stream",
     "text": [
      "remove duplicates: 20925/29984/22089/24047 ==> 20925/20520/18445/20297\n",
      "18375\n",
      "==> 18375\n",
      "dataframe length: 18375\n",
      "(18375, 146)\n"
     ]
    },
    {
     "data": {
      "text/plain": "                                       Description     Price  \\\n124153820            4 bedroom town house for sale  550000.0   \n120604136  3 bedroom end of terrace house for sale  525000.0   \n124368626   3 bedroom semi-detached house for sale  525000.0   \n120157577     3 bedroom detached bungalow for sale  505000.0   \n120379235   3 bedroom semi-detached house for sale  525000.0   \n\n                                                    add_info  \\\n124153820  Added on 21/06/2022 by Purplebricks, covering ...   \n120604136        Added on 03/03/2022 by haart, Hayes (Middx)   \n124368626         Added on 27/06/2022 by Coopers, Hillingdon   \n120157577      Reduced on 23/03/2022 by haart, Hayes (Middx)   \n120379235        Added on 25/02/2022 by haart, Hayes (Middx)   \n\n                  date_scraped  distance_to_any_train               type  \\\n124153820  2022-07-03 19:38:25                    0.9         Town House   \n120604136  2022-07-03 19:38:25                    0.3     End of Terrace   \n124368626  2022-07-03 19:38:19                    0.9      Semi-Detached   \n120157577  2022-07-03 19:38:17                    1.4  Detached Bungalow   \n120379235  2022-07-03 19:38:15                    0.7      Semi-Detached   \n\n           bedrooms  bathrooms size other_key_info  ...  \\\n124153820       4.0        1.0  NaN            NaN  ...   \n120604136       3.0        2.0  NaN            NaN  ...   \n124368626       3.0        1.0  NaN            NaN  ...   \n120157577       3.0        1.0  NaN            NaN  ...   \n120379235       3.0        1.0  NaN            NaN  ...   \n\n          analyticsProperty.propertyType analyticsProperty.retirement  \\\n124153820                         Houses                        False   \n120604136                         Houses                        False   \n124368626                         Houses                        False   \n120157577                      Bungalows                        False   \n120379235                         Houses                        False   \n\n          analyticsProperty.selectedCurrency analyticsProperty.selectedPrice  \\\n124153820                                NaN                             NaN   \n120604136                                NaN                             NaN   \n124368626                                NaN                             NaN   \n120157577                                NaN                             NaN   \n120379235                                NaN                             NaN   \n\n          analyticsProperty.soldSTC analyticsProperty.videoProvider  \\\n124153820                     False                        No Video   \n120604136                      True                        No Video   \n124368626                     False                        No Video   \n120157577                     False                        No Video   \n120379235                      True                        No Video   \n\n          analyticsProperty.viewType Unnamed: 46 floorplan_count borough_name  \n124153820                    Current         NaN               4   Hillingdon  \n120604136                    Current         NaN               4   Hillingdon  \n124368626                    Current         NaN               4   Hillingdon  \n120157577                    Current         NaN               4   Hillingdon  \n120379235                    Current         NaN               8   Hillingdon  \n\n[5 rows x 146 columns]",
      "text/html": "<div>\n<style scoped>\n    .dataframe tbody tr th:only-of-type {\n        vertical-align: middle;\n    }\n\n    .dataframe tbody tr th {\n        vertical-align: top;\n    }\n\n    .dataframe thead th {\n        text-align: right;\n    }\n</style>\n<table border=\"1\" class=\"dataframe\">\n  <thead>\n    <tr style=\"text-align: right;\">\n      <th></th>\n      <th>Description</th>\n      <th>Price</th>\n      <th>add_info</th>\n      <th>date_scraped</th>\n      <th>distance_to_any_train</th>\n      <th>type</th>\n      <th>bedrooms</th>\n      <th>bathrooms</th>\n      <th>size</th>\n      <th>other_key_info</th>\n      <th>...</th>\n      <th>analyticsProperty.propertyType</th>\n      <th>analyticsProperty.retirement</th>\n      <th>analyticsProperty.selectedCurrency</th>\n      <th>analyticsProperty.selectedPrice</th>\n      <th>analyticsProperty.soldSTC</th>\n      <th>analyticsProperty.videoProvider</th>\n      <th>analyticsProperty.viewType</th>\n      <th>Unnamed: 46</th>\n      <th>floorplan_count</th>\n      <th>borough_name</th>\n    </tr>\n  </thead>\n  <tbody>\n    <tr>\n      <th>124153820</th>\n      <td>4 bedroom town house for sale</td>\n      <td>550000.0</td>\n      <td>Added on 21/06/2022 by Purplebricks, covering ...</td>\n      <td>2022-07-03 19:38:25</td>\n      <td>0.9</td>\n      <td>Town House</td>\n      <td>4.0</td>\n      <td>1.0</td>\n      <td>NaN</td>\n      <td>NaN</td>\n      <td>...</td>\n      <td>Houses</td>\n      <td>False</td>\n      <td>NaN</td>\n      <td>NaN</td>\n      <td>False</td>\n      <td>No Video</td>\n      <td>Current</td>\n      <td>NaN</td>\n      <td>4</td>\n      <td>Hillingdon</td>\n    </tr>\n    <tr>\n      <th>120604136</th>\n      <td>3 bedroom end of terrace house for sale</td>\n      <td>525000.0</td>\n      <td>Added on 03/03/2022 by haart, Hayes (Middx)</td>\n      <td>2022-07-03 19:38:25</td>\n      <td>0.3</td>\n      <td>End of Terrace</td>\n      <td>3.0</td>\n      <td>2.0</td>\n      <td>NaN</td>\n      <td>NaN</td>\n      <td>...</td>\n      <td>Houses</td>\n      <td>False</td>\n      <td>NaN</td>\n      <td>NaN</td>\n      <td>True</td>\n      <td>No Video</td>\n      <td>Current</td>\n      <td>NaN</td>\n      <td>4</td>\n      <td>Hillingdon</td>\n    </tr>\n    <tr>\n      <th>124368626</th>\n      <td>3 bedroom semi-detached house for sale</td>\n      <td>525000.0</td>\n      <td>Added on 27/06/2022 by Coopers, Hillingdon</td>\n      <td>2022-07-03 19:38:19</td>\n      <td>0.9</td>\n      <td>Semi-Detached</td>\n      <td>3.0</td>\n      <td>1.0</td>\n      <td>NaN</td>\n      <td>NaN</td>\n      <td>...</td>\n      <td>Houses</td>\n      <td>False</td>\n      <td>NaN</td>\n      <td>NaN</td>\n      <td>False</td>\n      <td>No Video</td>\n      <td>Current</td>\n      <td>NaN</td>\n      <td>4</td>\n      <td>Hillingdon</td>\n    </tr>\n    <tr>\n      <th>120157577</th>\n      <td>3 bedroom detached bungalow for sale</td>\n      <td>505000.0</td>\n      <td>Reduced on 23/03/2022 by haart, Hayes (Middx)</td>\n      <td>2022-07-03 19:38:17</td>\n      <td>1.4</td>\n      <td>Detached Bungalow</td>\n      <td>3.0</td>\n      <td>1.0</td>\n      <td>NaN</td>\n      <td>NaN</td>\n      <td>...</td>\n      <td>Bungalows</td>\n      <td>False</td>\n      <td>NaN</td>\n      <td>NaN</td>\n      <td>False</td>\n      <td>No Video</td>\n      <td>Current</td>\n      <td>NaN</td>\n      <td>4</td>\n      <td>Hillingdon</td>\n    </tr>\n    <tr>\n      <th>120379235</th>\n      <td>3 bedroom semi-detached house for sale</td>\n      <td>525000.0</td>\n      <td>Added on 25/02/2022 by haart, Hayes (Middx)</td>\n      <td>2022-07-03 19:38:15</td>\n      <td>0.7</td>\n      <td>Semi-Detached</td>\n      <td>3.0</td>\n      <td>1.0</td>\n      <td>NaN</td>\n      <td>NaN</td>\n      <td>...</td>\n      <td>Houses</td>\n      <td>False</td>\n      <td>NaN</td>\n      <td>NaN</td>\n      <td>True</td>\n      <td>No Video</td>\n      <td>Current</td>\n      <td>NaN</td>\n      <td>8</td>\n      <td>Hillingdon</td>\n    </tr>\n  </tbody>\n</table>\n<p>5 rows × 146 columns</p>\n</div>"
     },
     "execution_count": 32,
     "metadata": {},
     "output_type": "execute_result"
    }
   ],
   "source": [
    "# Perform some basic preprocessing during dataframe retrieval\n",
    "#  - screen out any duplication\n",
    "#  - no other preprocessing\n",
    "\n",
    "df_original = vv.quick_data(separate_Xy=False, no_cuts=True, numeric_values_only=False, nans_forbidden=False, remove_duplicates=True,HOW='inner',publish=True)\n",
    "\n",
    "print(df_original.shape)\n",
    "df_original.head()"
   ],
   "metadata": {
    "collapsed": false,
    "pycharm": {
     "name": "#%%\n"
    }
   }
  },
  {
   "cell_type": "code",
   "execution_count": 33,
   "outputs": [
    {
     "data": {
      "text/plain": "Description                                            4 bedroom town house for sale\nPrice                                                                       550000.0\nadd_info                           Added on 21/06/2022 by Purplebricks, covering ...\ndate_scraped                                                     2022-07-03 19:38:25\ndistance_to_any_train                                                            0.9\n                                                         ...                        \nanalyticsProperty.videoProvider                                             No Video\nanalyticsProperty.viewType                                                   Current\nUnnamed: 46                                                                      NaN\nfloorplan_count                                                                    4\nborough_name                                                              Hillingdon\nName: 124153820, Length: 146, dtype: object"
     },
     "execution_count": 33,
     "metadata": {},
     "output_type": "execute_result"
    }
   ],
   "source": [
    "df_original.iloc[0, :]"
   ],
   "metadata": {
    "collapsed": false,
    "pycharm": {
     "name": "#%%\n"
    }
   }
  },
  {
   "cell_type": "code",
   "execution_count": 34,
   "outputs": [
    {
     "data": {
      "text/plain": "           location.latitude  location.longitude  distance_to_any_train  \\\n124153820          51.557959           -0.471762                    0.9   \n120604136          51.506844           -0.421167                    0.3   \n124368626          51.541244           -0.442240                    0.9   \n120157577          51.527530           -0.455490                    1.4   \n120379235          51.510788           -0.411707                    0.7   \n...                      ...                 ...                    ...   \n96654763           51.383175           -0.157464                    0.4   \n96654973           51.425121           -0.189844                    0.0   \n96655021           51.420468           -0.139815                    0.2   \n97404863           51.369314           -0.229459                    0.9   \n97494416           51.355790           -0.190990                    0.3   \n\n              Price  bedrooms_model  bathrooms_model  \\\n124153820  550000.0             4.0              1.0   \n120604136  525000.0             3.0              2.0   \n124368626  525000.0             3.0              1.0   \n120157577  505000.0             3.0              1.0   \n120379235  525000.0             3.0              1.0   \n...             ...             ...              ...   \n96654763   500000.0             3.0              1.0   \n96654973   650000.0             3.0              2.0   \n96655021   675000.0             3.0              2.0   \n97404863   175000.0             1.0              1.0   \n97494416   120000.0             1.0              1.0   \n\n           analyticsProperty.imageCount  analyticsProperty.added  \\\n124153820                            19                 20220621   \n120604136                             9                 20220303   \n124368626                            10                 20220627   \n120157577                            12                 20220218   \n120379235                            11                 20220225   \n...                                 ...                      ...   \n96654763                             32                 20220530   \n96654973                              8                 20220530   \n96655021                              8                 20220530   \n97404863                             14                 20200919   \n97494416                              9                 20200921   \n\n           floorplan_count  \n124153820                4  \n120604136                4  \n124368626                4  \n120157577                4  \n120379235                8  \n...                    ...  \n96654763                 8  \n96654973                 4  \n96655021                 4  \n97404863                 4  \n97494416                 4  \n\n[18375 rows x 9 columns]",
      "text/html": "<div>\n<style scoped>\n    .dataframe tbody tr th:only-of-type {\n        vertical-align: middle;\n    }\n\n    .dataframe tbody tr th {\n        vertical-align: top;\n    }\n\n    .dataframe thead th {\n        text-align: right;\n    }\n</style>\n<table border=\"1\" class=\"dataframe\">\n  <thead>\n    <tr style=\"text-align: right;\">\n      <th></th>\n      <th>location.latitude</th>\n      <th>location.longitude</th>\n      <th>distance_to_any_train</th>\n      <th>Price</th>\n      <th>bedrooms_model</th>\n      <th>bathrooms_model</th>\n      <th>analyticsProperty.imageCount</th>\n      <th>analyticsProperty.added</th>\n      <th>floorplan_count</th>\n    </tr>\n  </thead>\n  <tbody>\n    <tr>\n      <th>124153820</th>\n      <td>51.557959</td>\n      <td>-0.471762</td>\n      <td>0.9</td>\n      <td>550000.0</td>\n      <td>4.0</td>\n      <td>1.0</td>\n      <td>19</td>\n      <td>20220621</td>\n      <td>4</td>\n    </tr>\n    <tr>\n      <th>120604136</th>\n      <td>51.506844</td>\n      <td>-0.421167</td>\n      <td>0.3</td>\n      <td>525000.0</td>\n      <td>3.0</td>\n      <td>2.0</td>\n      <td>9</td>\n      <td>20220303</td>\n      <td>4</td>\n    </tr>\n    <tr>\n      <th>124368626</th>\n      <td>51.541244</td>\n      <td>-0.442240</td>\n      <td>0.9</td>\n      <td>525000.0</td>\n      <td>3.0</td>\n      <td>1.0</td>\n      <td>10</td>\n      <td>20220627</td>\n      <td>4</td>\n    </tr>\n    <tr>\n      <th>120157577</th>\n      <td>51.527530</td>\n      <td>-0.455490</td>\n      <td>1.4</td>\n      <td>505000.0</td>\n      <td>3.0</td>\n      <td>1.0</td>\n      <td>12</td>\n      <td>20220218</td>\n      <td>4</td>\n    </tr>\n    <tr>\n      <th>120379235</th>\n      <td>51.510788</td>\n      <td>-0.411707</td>\n      <td>0.7</td>\n      <td>525000.0</td>\n      <td>3.0</td>\n      <td>1.0</td>\n      <td>11</td>\n      <td>20220225</td>\n      <td>8</td>\n    </tr>\n    <tr>\n      <th>...</th>\n      <td>...</td>\n      <td>...</td>\n      <td>...</td>\n      <td>...</td>\n      <td>...</td>\n      <td>...</td>\n      <td>...</td>\n      <td>...</td>\n      <td>...</td>\n    </tr>\n    <tr>\n      <th>96654763</th>\n      <td>51.383175</td>\n      <td>-0.157464</td>\n      <td>0.4</td>\n      <td>500000.0</td>\n      <td>3.0</td>\n      <td>1.0</td>\n      <td>32</td>\n      <td>20220530</td>\n      <td>8</td>\n    </tr>\n    <tr>\n      <th>96654973</th>\n      <td>51.425121</td>\n      <td>-0.189844</td>\n      <td>0.0</td>\n      <td>650000.0</td>\n      <td>3.0</td>\n      <td>2.0</td>\n      <td>8</td>\n      <td>20220530</td>\n      <td>4</td>\n    </tr>\n    <tr>\n      <th>96655021</th>\n      <td>51.420468</td>\n      <td>-0.139815</td>\n      <td>0.2</td>\n      <td>675000.0</td>\n      <td>3.0</td>\n      <td>2.0</td>\n      <td>8</td>\n      <td>20220530</td>\n      <td>4</td>\n    </tr>\n    <tr>\n      <th>97404863</th>\n      <td>51.369314</td>\n      <td>-0.229459</td>\n      <td>0.9</td>\n      <td>175000.0</td>\n      <td>1.0</td>\n      <td>1.0</td>\n      <td>14</td>\n      <td>20200919</td>\n      <td>4</td>\n    </tr>\n    <tr>\n      <th>97494416</th>\n      <td>51.355790</td>\n      <td>-0.190990</td>\n      <td>0.3</td>\n      <td>120000.0</td>\n      <td>1.0</td>\n      <td>1.0</td>\n      <td>9</td>\n      <td>20200921</td>\n      <td>4</td>\n    </tr>\n  </tbody>\n</table>\n<p>18375 rows × 9 columns</p>\n</div>"
     },
     "execution_count": 34,
     "metadata": {},
     "output_type": "execute_result"
    }
   ],
   "source": [
    "cols = []\n",
    "cols.extend(pp.useful_numeric)\n",
    "df = df_original[cols]\n",
    "df"
   ],
   "metadata": {
    "collapsed": false,
    "pycharm": {
     "name": "#%%\n"
    }
   }
  },
  {
   "cell_type": "code",
   "execution_count": 34,
   "outputs": [],
   "source": [],
   "metadata": {
    "collapsed": false,
    "pycharm": {
     "name": "#%%\n"
    }
   }
  },
  {
   "cell_type": "code",
   "execution_count": 35,
   "outputs": [
    {
     "name": "stdout",
     "output_type": "stream",
     "text": [
      "<class 'pandas.core.frame.DataFrame'>\n",
      "Index: 18375 entries, 124153820 to 97494416\n",
      "Data columns (total 9 columns):\n",
      " #   Column                        Non-Null Count  Dtype  \n",
      "---  ------                        --------------  -----  \n",
      " 0   location.latitude             18375 non-null  float64\n",
      " 1   location.longitude            18375 non-null  float64\n",
      " 2   distance_to_any_train         18375 non-null  float64\n",
      " 3   Price                         18339 non-null  float64\n",
      " 4   bedrooms_model                17708 non-null  float64\n",
      " 5   bathrooms_model               17162 non-null  float64\n",
      " 6   analyticsProperty.imageCount  18375 non-null  int64  \n",
      " 7   analyticsProperty.added       18375 non-null  int64  \n",
      " 8   floorplan_count               18375 non-null  int64  \n",
      "dtypes: float64(6), int64(3)\n",
      "memory usage: 1.4+ MB\n"
     ]
    }
   ],
   "source": [
    "df.info()"
   ],
   "metadata": {
    "collapsed": false,
    "pycharm": {
     "name": "#%%\n"
    }
   }
  },
  {
   "cell_type": "code",
   "execution_count": 36,
   "outputs": [
    {
     "data": {
      "text/plain": "Empty DataFrame\nColumns: [location.latitude, location.longitude, distance_to_any_train, Price, bedrooms_model, bathrooms_model, analyticsProperty.imageCount, analyticsProperty.added, floorplan_count]\nIndex: []",
      "text/html": "<div>\n<style scoped>\n    .dataframe tbody tr th:only-of-type {\n        vertical-align: middle;\n    }\n\n    .dataframe tbody tr th {\n        vertical-align: top;\n    }\n\n    .dataframe thead th {\n        text-align: right;\n    }\n</style>\n<table border=\"1\" class=\"dataframe\">\n  <thead>\n    <tr style=\"text-align: right;\">\n      <th></th>\n      <th>location.latitude</th>\n      <th>location.longitude</th>\n      <th>distance_to_any_train</th>\n      <th>Price</th>\n      <th>bedrooms_model</th>\n      <th>bathrooms_model</th>\n      <th>analyticsProperty.imageCount</th>\n      <th>analyticsProperty.added</th>\n      <th>floorplan_count</th>\n    </tr>\n  </thead>\n  <tbody>\n  </tbody>\n</table>\n</div>"
     },
     "execution_count": 36,
     "metadata": {},
     "output_type": "execute_result"
    }
   ],
   "source": [
    "df[\n",
    "    #['Address', 'analyticsProperty.maxSizeAc', 'analyticsProperty.maxSizeFt', 'analyticsProperty.minSizeAc', 'analyticsProperty.minSizeFt', 'date_scraped', 'date_scraped_model',     'date_scraped_model', 'date_scraped_meta']]\n",
    "    #df['location.latitude'].notnull()]\n",
    "    df['location.latitude'].isnull()]"
   ],
   "metadata": {
    "collapsed": false,
    "pycharm": {
     "name": "#%%\n"
    }
   }
  },
  {
   "cell_type": "code",
   "execution_count": 37,
   "outputs": [],
   "source": [
    "#df.loc[123715148]"
   ],
   "metadata": {
    "collapsed": false,
    "pycharm": {
     "name": "#%%\n"
    }
   }
  },
  {
   "cell_type": "code",
   "execution_count": 38,
   "outputs": [
    {
     "name": "stdout",
     "output_type": "stream",
     "text": [
      "(18375, 9)\n",
      "(18375, 9)\n",
      "<class 'pandas.core.frame.DataFrame'>\n",
      "Index: 18375 entries, 124153820 to 97494416\n",
      "Data columns (total 9 columns):\n",
      " #   Column                        Non-Null Count  Dtype  \n",
      "---  ------                        --------------  -----  \n",
      " 0   location.latitude             18375 non-null  int64  \n",
      " 1   location.longitude            18375 non-null  float64\n",
      " 2   distance_to_any_train         18375 non-null  float64\n",
      " 3   Price                         18339 non-null  float64\n",
      " 4   bedrooms_model                17708 non-null  float64\n",
      " 5   bathrooms_model               17162 non-null  float64\n",
      " 6   analyticsProperty.imageCount  18375 non-null  int64  \n",
      " 7   analyticsProperty.added       18375 non-null  int64  \n",
      " 8   floorplan_count               18375 non-null  int64  \n",
      "dtypes: float64(5), int64(4)\n",
      "memory usage: 1.4+ MB\n"
     ]
    },
    {
     "name": "stderr",
     "output_type": "stream",
     "text": [
      "/tmp/ipykernel_5800/1910238512.py:2: SettingWithCopyWarning: \n",
      "A value is trying to be set on a copy of a slice from a DataFrame.\n",
      "Try using .loc[row_indexer,col_indexer] = value instead\n",
      "\n",
      "See the caveats in the documentation: https://pandas.pydata.org/pandas-docs/stable/user_guide/indexing.html#returning-a-view-versus-a-copy\n",
      "  df[\"location.latitude\"] = pd.to_numeric(df[\"location.latitude\"], 'coerce').dropna().astype(int)\n",
      "/tmp/ipykernel_5800/1910238512.py:3: SettingWithCopyWarning: \n",
      "A value is trying to be set on a copy of a slice from a DataFrame.\n",
      "Try using .loc[row_indexer,col_indexer] = value instead\n",
      "\n",
      "See the caveats in the documentation: https://pandas.pydata.org/pandas-docs/stable/user_guide/indexing.html#returning-a-view-versus-a-copy\n",
      "  df[\"analyticsProperty.imageCount\"] = pd.to_numeric(df[\"analyticsProperty.imageCount\"], 'coerce').dropna().astype(int)\n",
      "/tmp/ipykernel_5800/1910238512.py:4: SettingWithCopyWarning: \n",
      "A value is trying to be set on a copy of a slice from a DataFrame.\n",
      "Try using .loc[row_indexer,col_indexer] = value instead\n",
      "\n",
      "See the caveats in the documentation: https://pandas.pydata.org/pandas-docs/stable/user_guide/indexing.html#returning-a-view-versus-a-copy\n",
      "  df[\"analyticsProperty.added\"] = pd.to_numeric(df[\"analyticsProperty.added\"], 'coerce').dropna().astype(int)\n"
     ]
    }
   ],
   "source": [
    "print(df.shape)\n",
    "df[\"location.latitude\"] = pd.to_numeric(df[\"location.latitude\"], 'coerce').dropna().astype(int)\n",
    "df[\"analyticsProperty.imageCount\"] = pd.to_numeric(df[\"analyticsProperty.imageCount\"], 'coerce').dropna().astype(int)\n",
    "df[\"analyticsProperty.added\"] = pd.to_numeric(df[\"analyticsProperty.added\"], 'coerce').dropna().astype(int)\n",
    "print(df.shape)\n",
    "df.info()"
   ],
   "metadata": {
    "collapsed": false,
    "pycharm": {
     "name": "#%%\n"
    }
   }
  },
  {
   "cell_type": "code",
   "execution_count": 39,
   "outputs": [
    {
     "data": {
      "text/plain": "           location.latitude  location.longitude  distance_to_any_train  \\\n85444329                  51           -0.427413                    0.3   \n123719687                 51           -0.164767                    0.4   \n124375217                 51           -0.300900                    0.4   \n119688716                 51           -0.213450                    0.3   \n119273006                 51           -0.156548                    0.1   \n...                      ...                 ...                    ...   \n96595882                  51           -0.276390                    1.0   \n96626284                  51           -0.178077                    0.4   \n96627133                  51           -0.152604                    0.2   \n96627367                  51           -0.220618                    0.6   \n96651661                  51           -0.233372                    0.9   \n\n              Price  bedrooms_model  bathrooms_model  \\\n85444329   599950.0             3.0              NaN   \n123719687  570000.0             NaN              1.0   \n124375217  375000.0             1.0              NaN   \n119688716  380000.0             NaN              1.0   \n119273006  450000.0             NaN              1.0   \n...             ...             ...              ...   \n96595882   650000.0             3.0              NaN   \n96626284   100000.0             NaN              NaN   \n96627133   475000.0             3.0              NaN   \n96627367   899950.0             3.0              NaN   \n96651661   300000.0             5.0              NaN   \n\n           analyticsProperty.imageCount  analyticsProperty.added  \\\n85444329                             15                 20220607   \n123719687                             4                 20220526   \n124375217                            10                 20220627   \n119688716                             8                 20220208   \n119273006                             7                 20220128   \n...                                 ...                      ...   \n96595882                             10                 20220524   \n96626284                              8                 20220530   \n96627133                             14                 20220530   \n96627367                             14                 20220530   \n96651661                              9                 20220530   \n\n           floorplan_count  \n85444329                 4  \n123719687                9  \n124375217                4  \n119688716                4  \n119273006                4  \n...                    ...  \n96595882                 4  \n96626284                 4  \n96627133                 4  \n96627367                 4  \n96651661                 4  \n\n[1799 rows x 9 columns]",
      "text/html": "<div>\n<style scoped>\n    .dataframe tbody tr th:only-of-type {\n        vertical-align: middle;\n    }\n\n    .dataframe tbody tr th {\n        vertical-align: top;\n    }\n\n    .dataframe thead th {\n        text-align: right;\n    }\n</style>\n<table border=\"1\" class=\"dataframe\">\n  <thead>\n    <tr style=\"text-align: right;\">\n      <th></th>\n      <th>location.latitude</th>\n      <th>location.longitude</th>\n      <th>distance_to_any_train</th>\n      <th>Price</th>\n      <th>bedrooms_model</th>\n      <th>bathrooms_model</th>\n      <th>analyticsProperty.imageCount</th>\n      <th>analyticsProperty.added</th>\n      <th>floorplan_count</th>\n    </tr>\n  </thead>\n  <tbody>\n    <tr>\n      <th>85444329</th>\n      <td>51</td>\n      <td>-0.427413</td>\n      <td>0.3</td>\n      <td>599950.0</td>\n      <td>3.0</td>\n      <td>NaN</td>\n      <td>15</td>\n      <td>20220607</td>\n      <td>4</td>\n    </tr>\n    <tr>\n      <th>123719687</th>\n      <td>51</td>\n      <td>-0.164767</td>\n      <td>0.4</td>\n      <td>570000.0</td>\n      <td>NaN</td>\n      <td>1.0</td>\n      <td>4</td>\n      <td>20220526</td>\n      <td>9</td>\n    </tr>\n    <tr>\n      <th>124375217</th>\n      <td>51</td>\n      <td>-0.300900</td>\n      <td>0.4</td>\n      <td>375000.0</td>\n      <td>1.0</td>\n      <td>NaN</td>\n      <td>10</td>\n      <td>20220627</td>\n      <td>4</td>\n    </tr>\n    <tr>\n      <th>119688716</th>\n      <td>51</td>\n      <td>-0.213450</td>\n      <td>0.3</td>\n      <td>380000.0</td>\n      <td>NaN</td>\n      <td>1.0</td>\n      <td>8</td>\n      <td>20220208</td>\n      <td>4</td>\n    </tr>\n    <tr>\n      <th>119273006</th>\n      <td>51</td>\n      <td>-0.156548</td>\n      <td>0.1</td>\n      <td>450000.0</td>\n      <td>NaN</td>\n      <td>1.0</td>\n      <td>7</td>\n      <td>20220128</td>\n      <td>4</td>\n    </tr>\n    <tr>\n      <th>...</th>\n      <td>...</td>\n      <td>...</td>\n      <td>...</td>\n      <td>...</td>\n      <td>...</td>\n      <td>...</td>\n      <td>...</td>\n      <td>...</td>\n      <td>...</td>\n    </tr>\n    <tr>\n      <th>96595882</th>\n      <td>51</td>\n      <td>-0.276390</td>\n      <td>1.0</td>\n      <td>650000.0</td>\n      <td>3.0</td>\n      <td>NaN</td>\n      <td>10</td>\n      <td>20220524</td>\n      <td>4</td>\n    </tr>\n    <tr>\n      <th>96626284</th>\n      <td>51</td>\n      <td>-0.178077</td>\n      <td>0.4</td>\n      <td>100000.0</td>\n      <td>NaN</td>\n      <td>NaN</td>\n      <td>8</td>\n      <td>20220530</td>\n      <td>4</td>\n    </tr>\n    <tr>\n      <th>96627133</th>\n      <td>51</td>\n      <td>-0.152604</td>\n      <td>0.2</td>\n      <td>475000.0</td>\n      <td>3.0</td>\n      <td>NaN</td>\n      <td>14</td>\n      <td>20220530</td>\n      <td>4</td>\n    </tr>\n    <tr>\n      <th>96627367</th>\n      <td>51</td>\n      <td>-0.220618</td>\n      <td>0.6</td>\n      <td>899950.0</td>\n      <td>3.0</td>\n      <td>NaN</td>\n      <td>14</td>\n      <td>20220530</td>\n      <td>4</td>\n    </tr>\n    <tr>\n      <th>96651661</th>\n      <td>51</td>\n      <td>-0.233372</td>\n      <td>0.9</td>\n      <td>300000.0</td>\n      <td>5.0</td>\n      <td>NaN</td>\n      <td>9</td>\n      <td>20220530</td>\n      <td>4</td>\n    </tr>\n  </tbody>\n</table>\n<p>1799 rows × 9 columns</p>\n</div>"
     },
     "execution_count": 39,
     "metadata": {},
     "output_type": "execute_result"
    }
   ],
   "source": [
    "sample_incomplete_rows = df[df.isnull().any(axis=1)]  #.head()\n",
    "sample_incomplete_rows"
   ],
   "metadata": {
    "collapsed": false,
    "pycharm": {
     "name": "#%%\n"
    }
   }
  },
  {
   "cell_type": "code",
   "execution_count": 40,
   "outputs": [
    {
     "name": "stdout",
     "output_type": "stream",
     "text": [
      "1.0\n"
     ]
    },
    {
     "name": "stderr",
     "output_type": "stream",
     "text": [
      "/tmp/ipykernel_5800/2067144853.py:4: SettingWithCopyWarning: \n",
      "A value is trying to be set on a copy of a slice from a DataFrame\n",
      "\n",
      "See the caveats in the documentation: https://pandas.pydata.org/pandas-docs/stable/user_guide/indexing.html#returning-a-view-versus-a-copy\n",
      "  df['bathrooms_model'].fillna(median_bathroom, inplace=True)\n"
     ]
    },
    {
     "data": {
      "text/plain": "           location.latitude  location.longitude  distance_to_any_train  \\\n123719687                 51           -0.164767                    0.4   \n119688716                 51           -0.213450                    0.3   \n119273006                 51           -0.156548                    0.1   \n84716085                  51           -0.224623                    0.4   \n121986209                 51           -0.090230                    0.1   \n...                      ...                 ...                    ...   \n85360557                  51           -0.224824                    0.8   \n85383804                  51           -0.146071                    0.2   \n85486551                  51           -0.173554                    0.3   \n85513170                  51           -0.247006                    0.6   \n96626284                  51           -0.178077                    0.4   \n\n              Price  bedrooms_model  bathrooms_model  \\\n123719687  570000.0             NaN              1.0   \n119688716  380000.0             NaN              1.0   \n119273006  450000.0             NaN              1.0   \n84716085   365000.0             NaN              1.0   \n121986209  600000.0             NaN              1.0   \n...             ...             ...              ...   \n85360557   349950.0             NaN              1.0   \n85383804   550000.0             NaN              1.0   \n85486551    80000.0             NaN              1.0   \n85513170    45000.0             NaN              1.0   \n96626284   100000.0             NaN              1.0   \n\n           analyticsProperty.imageCount  analyticsProperty.added  \\\n123719687                             4                 20220526   \n119688716                             8                 20220208   \n119273006                             7                 20220128   \n84716085                              6                 20220419   \n121986209                            10                 20220405   \n...                                 ...                      ...   \n85360557                              8                 20220531   \n85383804                             10                 20220531   \n85486551                              8                 20220608   \n85513170                              2                 20220608   \n96626284                              8                 20220530   \n\n           floorplan_count  \n123719687                9  \n119688716                4  \n119273006                4  \n84716085                 4  \n121986209                4  \n...                    ...  \n85360557                 4  \n85383804                 4  \n85486551                 1  \n85513170                 1  \n96626284                 4  \n\n[702 rows x 9 columns]",
      "text/html": "<div>\n<style scoped>\n    .dataframe tbody tr th:only-of-type {\n        vertical-align: middle;\n    }\n\n    .dataframe tbody tr th {\n        vertical-align: top;\n    }\n\n    .dataframe thead th {\n        text-align: right;\n    }\n</style>\n<table border=\"1\" class=\"dataframe\">\n  <thead>\n    <tr style=\"text-align: right;\">\n      <th></th>\n      <th>location.latitude</th>\n      <th>location.longitude</th>\n      <th>distance_to_any_train</th>\n      <th>Price</th>\n      <th>bedrooms_model</th>\n      <th>bathrooms_model</th>\n      <th>analyticsProperty.imageCount</th>\n      <th>analyticsProperty.added</th>\n      <th>floorplan_count</th>\n    </tr>\n  </thead>\n  <tbody>\n    <tr>\n      <th>123719687</th>\n      <td>51</td>\n      <td>-0.164767</td>\n      <td>0.4</td>\n      <td>570000.0</td>\n      <td>NaN</td>\n      <td>1.0</td>\n      <td>4</td>\n      <td>20220526</td>\n      <td>9</td>\n    </tr>\n    <tr>\n      <th>119688716</th>\n      <td>51</td>\n      <td>-0.213450</td>\n      <td>0.3</td>\n      <td>380000.0</td>\n      <td>NaN</td>\n      <td>1.0</td>\n      <td>8</td>\n      <td>20220208</td>\n      <td>4</td>\n    </tr>\n    <tr>\n      <th>119273006</th>\n      <td>51</td>\n      <td>-0.156548</td>\n      <td>0.1</td>\n      <td>450000.0</td>\n      <td>NaN</td>\n      <td>1.0</td>\n      <td>7</td>\n      <td>20220128</td>\n      <td>4</td>\n    </tr>\n    <tr>\n      <th>84716085</th>\n      <td>51</td>\n      <td>-0.224623</td>\n      <td>0.4</td>\n      <td>365000.0</td>\n      <td>NaN</td>\n      <td>1.0</td>\n      <td>6</td>\n      <td>20220419</td>\n      <td>4</td>\n    </tr>\n    <tr>\n      <th>121986209</th>\n      <td>51</td>\n      <td>-0.090230</td>\n      <td>0.1</td>\n      <td>600000.0</td>\n      <td>NaN</td>\n      <td>1.0</td>\n      <td>10</td>\n      <td>20220405</td>\n      <td>4</td>\n    </tr>\n    <tr>\n      <th>...</th>\n      <td>...</td>\n      <td>...</td>\n      <td>...</td>\n      <td>...</td>\n      <td>...</td>\n      <td>...</td>\n      <td>...</td>\n      <td>...</td>\n      <td>...</td>\n    </tr>\n    <tr>\n      <th>85360557</th>\n      <td>51</td>\n      <td>-0.224824</td>\n      <td>0.8</td>\n      <td>349950.0</td>\n      <td>NaN</td>\n      <td>1.0</td>\n      <td>8</td>\n      <td>20220531</td>\n      <td>4</td>\n    </tr>\n    <tr>\n      <th>85383804</th>\n      <td>51</td>\n      <td>-0.146071</td>\n      <td>0.2</td>\n      <td>550000.0</td>\n      <td>NaN</td>\n      <td>1.0</td>\n      <td>10</td>\n      <td>20220531</td>\n      <td>4</td>\n    </tr>\n    <tr>\n      <th>85486551</th>\n      <td>51</td>\n      <td>-0.173554</td>\n      <td>0.3</td>\n      <td>80000.0</td>\n      <td>NaN</td>\n      <td>1.0</td>\n      <td>8</td>\n      <td>20220608</td>\n      <td>1</td>\n    </tr>\n    <tr>\n      <th>85513170</th>\n      <td>51</td>\n      <td>-0.247006</td>\n      <td>0.6</td>\n      <td>45000.0</td>\n      <td>NaN</td>\n      <td>1.0</td>\n      <td>2</td>\n      <td>20220608</td>\n      <td>1</td>\n    </tr>\n    <tr>\n      <th>96626284</th>\n      <td>51</td>\n      <td>-0.178077</td>\n      <td>0.4</td>\n      <td>100000.0</td>\n      <td>NaN</td>\n      <td>1.0</td>\n      <td>8</td>\n      <td>20220530</td>\n      <td>4</td>\n    </tr>\n  </tbody>\n</table>\n<p>702 rows × 9 columns</p>\n</div>"
     },
     "execution_count": 40,
     "metadata": {},
     "output_type": "execute_result"
    }
   ],
   "source": [
    "median_bathroom = df['bathrooms_model'].median()\n",
    "print(median_bathroom)\n",
    "\n",
    "df['bathrooms_model'].fillna(median_bathroom, inplace=True)\n",
    "\n",
    "sample_incomplete_rows = df[df.isnull().any(axis=1)]  #.head()\n",
    "sample_incomplete_rows"
   ],
   "metadata": {
    "collapsed": false,
    "pycharm": {
     "name": "#%%\n"
    }
   }
  },
  {
   "cell_type": "code",
   "execution_count": 41,
   "outputs": [
    {
     "name": "stdout",
     "output_type": "stream",
     "text": [
      "2.0\n"
     ]
    },
    {
     "name": "stderr",
     "output_type": "stream",
     "text": [
      "/tmp/ipykernel_5800/1997080471.py:4: SettingWithCopyWarning: \n",
      "A value is trying to be set on a copy of a slice from a DataFrame\n",
      "\n",
      "See the caveats in the documentation: https://pandas.pydata.org/pandas-docs/stable/user_guide/indexing.html#returning-a-view-versus-a-copy\n",
      "  df['bedrooms_model'].fillna(median_bedrooms, inplace=True)\n"
     ]
    },
    {
     "data": {
      "text/plain": "           location.latitude  location.longitude  distance_to_any_train  \\\n116679575                 51           -0.429620                    0.6   \n119191541                 51            0.159780                    1.5   \n118146674                 51            0.222140                    0.5   \n118196498                 51            0.177610                    0.3   \n123673205                 51            0.216890                    0.7   \n121162844                 51            0.200100                    0.4   \n123673247                 51            0.216868                    0.7   \n121736018                 51           -0.438250                    1.3   \n75205002                  51           -0.366334                    0.5   \n112926422                 51           -0.077449                    0.1   \n120007982                 51           -0.087920                    0.3   \n120932330                 51           -0.087920                    0.3   \n119596766                 51           -0.087920                    0.3   \n84714063                  51            0.086590                    0.1   \n84714540                  51            0.086590                    0.1   \n63921069                  51           -0.299760                    0.1   \n96574858                  51            0.032710                    0.5   \n118825013                 51            0.037298                    0.5   \n82165626                  51            0.021131                    0.2   \n106827140                 51            0.039172                    0.9   \n96574750                  51            0.012470                    0.3   \n115507298                 51            0.025303                    0.3   \n115507244                 51            0.025179                    0.3   \n122706701                 51           -0.001323                    0.3   \n111106427                 51            0.014527                    0.2   \n120375476                 51            0.010339                    0.3   \n83605776                  51            0.019088                    0.1   \n121796048                 51            0.007611                    0.6   \n123292304                 51            0.017632                    0.1   \n109078397                 51           -0.082210                    0.0   \n121699175                 51           -0.217178                    0.5   \n123914636                 51           -0.202250                    0.5   \n123928922                 51           -0.202250                    0.5   \n123932027                 51           -0.202250                    0.5   \n123932399                 51           -0.202250                    0.5   \n123932627                 51           -0.202250                    0.5   \n\n           Price  bedrooms_model  bathrooms_model  \\\n116679575    NaN             3.0              1.0   \n119191541    NaN             3.0              1.0   \n118146674    NaN             2.0              1.0   \n118196498    NaN             2.0              1.0   \n123673205    NaN             1.0              1.0   \n121162844    NaN             2.0              1.0   \n123673247    NaN             1.0              1.0   \n121736018    NaN             2.0              1.0   \n75205002     NaN             1.0              1.0   \n112926422    NaN             2.0              1.0   \n120007982    NaN             2.0              1.0   \n120932330    NaN             3.0              2.0   \n119596766    NaN             2.0              1.0   \n84714063     NaN             1.0              1.0   \n84714540     NaN             1.0              1.0   \n63921069     NaN             2.0              2.0   \n96574858     NaN             3.0              1.0   \n118825013    NaN             2.0              1.0   \n82165626     NaN             2.0              2.0   \n106827140    NaN             2.0              2.0   \n96574750     NaN             2.0              2.0   \n115507298    NaN             2.0              1.0   \n115507244    NaN             2.0              2.0   \n122706701    NaN             1.0              1.0   \n111106427    NaN             1.0              1.0   \n120375476    NaN             1.0              1.0   \n83605776     NaN             1.0              1.0   \n121796048    NaN             1.0              1.0   \n123292304    NaN             2.0              1.0   \n109078397    NaN             2.0              2.0   \n121699175    NaN             4.0              2.0   \n123914636    NaN             4.0              3.0   \n123928922    NaN             3.0              1.0   \n123932027    NaN             1.0              1.0   \n123932399    NaN             2.0              1.0   \n123932627    NaN             2.0              1.0   \n\n           analyticsProperty.imageCount  analyticsProperty.added  \\\n116679575                             1                 20211122   \n119191541                            14                 20220126   \n118146674                            17                 20211229   \n118196498                            15                 20211231   \n123673205                             7                 20220525   \n121162844                            11                 20220316   \n123673247                             8                 20220525   \n121736018                             4                 20220330   \n75205002                             14                 20201112   \n112926422                             2                 20210903   \n120007982                             9                 20220215   \n120932330                             7                 20220310   \n119596766                             9                 20220205   \n84714063                             10                 20220419   \n84714540                             10                 20220419   \n63921069                             10                 20190724   \n96574858                             14                 20220519   \n118825013                            18                 20220117   \n82165626                             19                 20211021   \n106827140                            10                 20210513   \n96574750                             13                 20220519   \n115507298                            14                 20211028   \n115507244                            14                 20211028   \n122706701                            13                 20220422   \n111106427                             8                 20210728   \n120375476                            13                 20220225   \n83605776                             13                 20220127   \n121796048                            14                 20220331   \n123292304                            12                 20220512   \n109078397                             2                 20210618   \n121699175                            23                 20220329   \n123914636                            18                 20220615   \n123928922                            18                 20220615   \n123932027                            18                 20220615   \n123932399                            18                 20220615   \n123932627                            18                 20220615   \n\n           floorplan_count  \n116679575                1  \n119191541                4  \n118146674                4  \n118196498                4  \n123673205                4  \n121162844                4  \n123673247                4  \n121736018                1  \n75205002                 4  \n112926422                8  \n120007982                1  \n120932330                1  \n119596766                1  \n84714063                 4  \n84714540                 4  \n63921069                 4  \n96574858                 4  \n118825013                4  \n82165626                 4  \n106827140                4  \n96574750                 4  \n115507298                4  \n115507244                4  \n122706701                4  \n111106427                4  \n120375476                4  \n83605776                 4  \n121796048                4  \n123292304                4  \n109078397                1  \n121699175                4  \n123914636                1  \n123928922                1  \n123932027                1  \n123932399                1  \n123932627                1  ",
      "text/html": "<div>\n<style scoped>\n    .dataframe tbody tr th:only-of-type {\n        vertical-align: middle;\n    }\n\n    .dataframe tbody tr th {\n        vertical-align: top;\n    }\n\n    .dataframe thead th {\n        text-align: right;\n    }\n</style>\n<table border=\"1\" class=\"dataframe\">\n  <thead>\n    <tr style=\"text-align: right;\">\n      <th></th>\n      <th>location.latitude</th>\n      <th>location.longitude</th>\n      <th>distance_to_any_train</th>\n      <th>Price</th>\n      <th>bedrooms_model</th>\n      <th>bathrooms_model</th>\n      <th>analyticsProperty.imageCount</th>\n      <th>analyticsProperty.added</th>\n      <th>floorplan_count</th>\n    </tr>\n  </thead>\n  <tbody>\n    <tr>\n      <th>116679575</th>\n      <td>51</td>\n      <td>-0.429620</td>\n      <td>0.6</td>\n      <td>NaN</td>\n      <td>3.0</td>\n      <td>1.0</td>\n      <td>1</td>\n      <td>20211122</td>\n      <td>1</td>\n    </tr>\n    <tr>\n      <th>119191541</th>\n      <td>51</td>\n      <td>0.159780</td>\n      <td>1.5</td>\n      <td>NaN</td>\n      <td>3.0</td>\n      <td>1.0</td>\n      <td>14</td>\n      <td>20220126</td>\n      <td>4</td>\n    </tr>\n    <tr>\n      <th>118146674</th>\n      <td>51</td>\n      <td>0.222140</td>\n      <td>0.5</td>\n      <td>NaN</td>\n      <td>2.0</td>\n      <td>1.0</td>\n      <td>17</td>\n      <td>20211229</td>\n      <td>4</td>\n    </tr>\n    <tr>\n      <th>118196498</th>\n      <td>51</td>\n      <td>0.177610</td>\n      <td>0.3</td>\n      <td>NaN</td>\n      <td>2.0</td>\n      <td>1.0</td>\n      <td>15</td>\n      <td>20211231</td>\n      <td>4</td>\n    </tr>\n    <tr>\n      <th>123673205</th>\n      <td>51</td>\n      <td>0.216890</td>\n      <td>0.7</td>\n      <td>NaN</td>\n      <td>1.0</td>\n      <td>1.0</td>\n      <td>7</td>\n      <td>20220525</td>\n      <td>4</td>\n    </tr>\n    <tr>\n      <th>121162844</th>\n      <td>51</td>\n      <td>0.200100</td>\n      <td>0.4</td>\n      <td>NaN</td>\n      <td>2.0</td>\n      <td>1.0</td>\n      <td>11</td>\n      <td>20220316</td>\n      <td>4</td>\n    </tr>\n    <tr>\n      <th>123673247</th>\n      <td>51</td>\n      <td>0.216868</td>\n      <td>0.7</td>\n      <td>NaN</td>\n      <td>1.0</td>\n      <td>1.0</td>\n      <td>8</td>\n      <td>20220525</td>\n      <td>4</td>\n    </tr>\n    <tr>\n      <th>121736018</th>\n      <td>51</td>\n      <td>-0.438250</td>\n      <td>1.3</td>\n      <td>NaN</td>\n      <td>2.0</td>\n      <td>1.0</td>\n      <td>4</td>\n      <td>20220330</td>\n      <td>1</td>\n    </tr>\n    <tr>\n      <th>75205002</th>\n      <td>51</td>\n      <td>-0.366334</td>\n      <td>0.5</td>\n      <td>NaN</td>\n      <td>1.0</td>\n      <td>1.0</td>\n      <td>14</td>\n      <td>20201112</td>\n      <td>4</td>\n    </tr>\n    <tr>\n      <th>112926422</th>\n      <td>51</td>\n      <td>-0.077449</td>\n      <td>0.1</td>\n      <td>NaN</td>\n      <td>2.0</td>\n      <td>1.0</td>\n      <td>2</td>\n      <td>20210903</td>\n      <td>8</td>\n    </tr>\n    <tr>\n      <th>120007982</th>\n      <td>51</td>\n      <td>-0.087920</td>\n      <td>0.3</td>\n      <td>NaN</td>\n      <td>2.0</td>\n      <td>1.0</td>\n      <td>9</td>\n      <td>20220215</td>\n      <td>1</td>\n    </tr>\n    <tr>\n      <th>120932330</th>\n      <td>51</td>\n      <td>-0.087920</td>\n      <td>0.3</td>\n      <td>NaN</td>\n      <td>3.0</td>\n      <td>2.0</td>\n      <td>7</td>\n      <td>20220310</td>\n      <td>1</td>\n    </tr>\n    <tr>\n      <th>119596766</th>\n      <td>51</td>\n      <td>-0.087920</td>\n      <td>0.3</td>\n      <td>NaN</td>\n      <td>2.0</td>\n      <td>1.0</td>\n      <td>9</td>\n      <td>20220205</td>\n      <td>1</td>\n    </tr>\n    <tr>\n      <th>84714063</th>\n      <td>51</td>\n      <td>0.086590</td>\n      <td>0.1</td>\n      <td>NaN</td>\n      <td>1.0</td>\n      <td>1.0</td>\n      <td>10</td>\n      <td>20220419</td>\n      <td>4</td>\n    </tr>\n    <tr>\n      <th>84714540</th>\n      <td>51</td>\n      <td>0.086590</td>\n      <td>0.1</td>\n      <td>NaN</td>\n      <td>1.0</td>\n      <td>1.0</td>\n      <td>10</td>\n      <td>20220419</td>\n      <td>4</td>\n    </tr>\n    <tr>\n      <th>63921069</th>\n      <td>51</td>\n      <td>-0.299760</td>\n      <td>0.1</td>\n      <td>NaN</td>\n      <td>2.0</td>\n      <td>2.0</td>\n      <td>10</td>\n      <td>20190724</td>\n      <td>4</td>\n    </tr>\n    <tr>\n      <th>96574858</th>\n      <td>51</td>\n      <td>0.032710</td>\n      <td>0.5</td>\n      <td>NaN</td>\n      <td>3.0</td>\n      <td>1.0</td>\n      <td>14</td>\n      <td>20220519</td>\n      <td>4</td>\n    </tr>\n    <tr>\n      <th>118825013</th>\n      <td>51</td>\n      <td>0.037298</td>\n      <td>0.5</td>\n      <td>NaN</td>\n      <td>2.0</td>\n      <td>1.0</td>\n      <td>18</td>\n      <td>20220117</td>\n      <td>4</td>\n    </tr>\n    <tr>\n      <th>82165626</th>\n      <td>51</td>\n      <td>0.021131</td>\n      <td>0.2</td>\n      <td>NaN</td>\n      <td>2.0</td>\n      <td>2.0</td>\n      <td>19</td>\n      <td>20211021</td>\n      <td>4</td>\n    </tr>\n    <tr>\n      <th>106827140</th>\n      <td>51</td>\n      <td>0.039172</td>\n      <td>0.9</td>\n      <td>NaN</td>\n      <td>2.0</td>\n      <td>2.0</td>\n      <td>10</td>\n      <td>20210513</td>\n      <td>4</td>\n    </tr>\n    <tr>\n      <th>96574750</th>\n      <td>51</td>\n      <td>0.012470</td>\n      <td>0.3</td>\n      <td>NaN</td>\n      <td>2.0</td>\n      <td>2.0</td>\n      <td>13</td>\n      <td>20220519</td>\n      <td>4</td>\n    </tr>\n    <tr>\n      <th>115507298</th>\n      <td>51</td>\n      <td>0.025303</td>\n      <td>0.3</td>\n      <td>NaN</td>\n      <td>2.0</td>\n      <td>1.0</td>\n      <td>14</td>\n      <td>20211028</td>\n      <td>4</td>\n    </tr>\n    <tr>\n      <th>115507244</th>\n      <td>51</td>\n      <td>0.025179</td>\n      <td>0.3</td>\n      <td>NaN</td>\n      <td>2.0</td>\n      <td>2.0</td>\n      <td>14</td>\n      <td>20211028</td>\n      <td>4</td>\n    </tr>\n    <tr>\n      <th>122706701</th>\n      <td>51</td>\n      <td>-0.001323</td>\n      <td>0.3</td>\n      <td>NaN</td>\n      <td>1.0</td>\n      <td>1.0</td>\n      <td>13</td>\n      <td>20220422</td>\n      <td>4</td>\n    </tr>\n    <tr>\n      <th>111106427</th>\n      <td>51</td>\n      <td>0.014527</td>\n      <td>0.2</td>\n      <td>NaN</td>\n      <td>1.0</td>\n      <td>1.0</td>\n      <td>8</td>\n      <td>20210728</td>\n      <td>4</td>\n    </tr>\n    <tr>\n      <th>120375476</th>\n      <td>51</td>\n      <td>0.010339</td>\n      <td>0.3</td>\n      <td>NaN</td>\n      <td>1.0</td>\n      <td>1.0</td>\n      <td>13</td>\n      <td>20220225</td>\n      <td>4</td>\n    </tr>\n    <tr>\n      <th>83605776</th>\n      <td>51</td>\n      <td>0.019088</td>\n      <td>0.1</td>\n      <td>NaN</td>\n      <td>1.0</td>\n      <td>1.0</td>\n      <td>13</td>\n      <td>20220127</td>\n      <td>4</td>\n    </tr>\n    <tr>\n      <th>121796048</th>\n      <td>51</td>\n      <td>0.007611</td>\n      <td>0.6</td>\n      <td>NaN</td>\n      <td>1.0</td>\n      <td>1.0</td>\n      <td>14</td>\n      <td>20220331</td>\n      <td>4</td>\n    </tr>\n    <tr>\n      <th>123292304</th>\n      <td>51</td>\n      <td>0.017632</td>\n      <td>0.1</td>\n      <td>NaN</td>\n      <td>2.0</td>\n      <td>1.0</td>\n      <td>12</td>\n      <td>20220512</td>\n      <td>4</td>\n    </tr>\n    <tr>\n      <th>109078397</th>\n      <td>51</td>\n      <td>-0.082210</td>\n      <td>0.0</td>\n      <td>NaN</td>\n      <td>2.0</td>\n      <td>2.0</td>\n      <td>2</td>\n      <td>20210618</td>\n      <td>1</td>\n    </tr>\n    <tr>\n      <th>121699175</th>\n      <td>51</td>\n      <td>-0.217178</td>\n      <td>0.5</td>\n      <td>NaN</td>\n      <td>4.0</td>\n      <td>2.0</td>\n      <td>23</td>\n      <td>20220329</td>\n      <td>4</td>\n    </tr>\n    <tr>\n      <th>123914636</th>\n      <td>51</td>\n      <td>-0.202250</td>\n      <td>0.5</td>\n      <td>NaN</td>\n      <td>4.0</td>\n      <td>3.0</td>\n      <td>18</td>\n      <td>20220615</td>\n      <td>1</td>\n    </tr>\n    <tr>\n      <th>123928922</th>\n      <td>51</td>\n      <td>-0.202250</td>\n      <td>0.5</td>\n      <td>NaN</td>\n      <td>3.0</td>\n      <td>1.0</td>\n      <td>18</td>\n      <td>20220615</td>\n      <td>1</td>\n    </tr>\n    <tr>\n      <th>123932027</th>\n      <td>51</td>\n      <td>-0.202250</td>\n      <td>0.5</td>\n      <td>NaN</td>\n      <td>1.0</td>\n      <td>1.0</td>\n      <td>18</td>\n      <td>20220615</td>\n      <td>1</td>\n    </tr>\n    <tr>\n      <th>123932399</th>\n      <td>51</td>\n      <td>-0.202250</td>\n      <td>0.5</td>\n      <td>NaN</td>\n      <td>2.0</td>\n      <td>1.0</td>\n      <td>18</td>\n      <td>20220615</td>\n      <td>1</td>\n    </tr>\n    <tr>\n      <th>123932627</th>\n      <td>51</td>\n      <td>-0.202250</td>\n      <td>0.5</td>\n      <td>NaN</td>\n      <td>2.0</td>\n      <td>1.0</td>\n      <td>18</td>\n      <td>20220615</td>\n      <td>1</td>\n    </tr>\n  </tbody>\n</table>\n</div>"
     },
     "execution_count": 41,
     "metadata": {},
     "output_type": "execute_result"
    }
   ],
   "source": [
    "median_bedrooms = df['bedrooms_model'].median()\n",
    "print(median_bedrooms)\n",
    "\n",
    "df['bedrooms_model'].fillna(median_bedrooms, inplace=True)\n",
    "\n",
    "sample_incomplete_rows = df[df.isnull().any(axis=1)]  #.head()\n",
    "sample_incomplete_rows"
   ],
   "metadata": {
    "collapsed": false,
    "pycharm": {
     "name": "#%%\n"
    }
   }
  },
  {
   "cell_type": "code",
   "execution_count": 42,
   "outputs": [
    {
     "name": "stdout",
     "output_type": "stream",
     "text": [
      "11.0\n"
     ]
    },
    {
     "name": "stderr",
     "output_type": "stream",
     "text": [
      "/tmp/ipykernel_5800/2980262987.py:4: SettingWithCopyWarning: \n",
      "A value is trying to be set on a copy of a slice from a DataFrame\n",
      "\n",
      "See the caveats in the documentation: https://pandas.pydata.org/pandas-docs/stable/user_guide/indexing.html#returning-a-view-versus-a-copy\n",
      "  df['analyticsProperty.imageCount'].fillna(median_imageCount, inplace=True)\n"
     ]
    },
    {
     "data": {
      "text/plain": "           location.latitude  location.longitude  distance_to_any_train  \\\n116679575                 51           -0.429620                    0.6   \n119191541                 51            0.159780                    1.5   \n118146674                 51            0.222140                    0.5   \n118196498                 51            0.177610                    0.3   \n123673205                 51            0.216890                    0.7   \n121162844                 51            0.200100                    0.4   \n123673247                 51            0.216868                    0.7   \n121736018                 51           -0.438250                    1.3   \n75205002                  51           -0.366334                    0.5   \n112926422                 51           -0.077449                    0.1   \n120007982                 51           -0.087920                    0.3   \n120932330                 51           -0.087920                    0.3   \n119596766                 51           -0.087920                    0.3   \n84714063                  51            0.086590                    0.1   \n84714540                  51            0.086590                    0.1   \n63921069                  51           -0.299760                    0.1   \n96574858                  51            0.032710                    0.5   \n118825013                 51            0.037298                    0.5   \n82165626                  51            0.021131                    0.2   \n106827140                 51            0.039172                    0.9   \n96574750                  51            0.012470                    0.3   \n115507298                 51            0.025303                    0.3   \n115507244                 51            0.025179                    0.3   \n122706701                 51           -0.001323                    0.3   \n111106427                 51            0.014527                    0.2   \n120375476                 51            0.010339                    0.3   \n83605776                  51            0.019088                    0.1   \n121796048                 51            0.007611                    0.6   \n123292304                 51            0.017632                    0.1   \n109078397                 51           -0.082210                    0.0   \n121699175                 51           -0.217178                    0.5   \n123914636                 51           -0.202250                    0.5   \n123928922                 51           -0.202250                    0.5   \n123932027                 51           -0.202250                    0.5   \n123932399                 51           -0.202250                    0.5   \n123932627                 51           -0.202250                    0.5   \n\n           Price  bedrooms_model  bathrooms_model  \\\n116679575    NaN             3.0              1.0   \n119191541    NaN             3.0              1.0   \n118146674    NaN             2.0              1.0   \n118196498    NaN             2.0              1.0   \n123673205    NaN             1.0              1.0   \n121162844    NaN             2.0              1.0   \n123673247    NaN             1.0              1.0   \n121736018    NaN             2.0              1.0   \n75205002     NaN             1.0              1.0   \n112926422    NaN             2.0              1.0   \n120007982    NaN             2.0              1.0   \n120932330    NaN             3.0              2.0   \n119596766    NaN             2.0              1.0   \n84714063     NaN             1.0              1.0   \n84714540     NaN             1.0              1.0   \n63921069     NaN             2.0              2.0   \n96574858     NaN             3.0              1.0   \n118825013    NaN             2.0              1.0   \n82165626     NaN             2.0              2.0   \n106827140    NaN             2.0              2.0   \n96574750     NaN             2.0              2.0   \n115507298    NaN             2.0              1.0   \n115507244    NaN             2.0              2.0   \n122706701    NaN             1.0              1.0   \n111106427    NaN             1.0              1.0   \n120375476    NaN             1.0              1.0   \n83605776     NaN             1.0              1.0   \n121796048    NaN             1.0              1.0   \n123292304    NaN             2.0              1.0   \n109078397    NaN             2.0              2.0   \n121699175    NaN             4.0              2.0   \n123914636    NaN             4.0              3.0   \n123928922    NaN             3.0              1.0   \n123932027    NaN             1.0              1.0   \n123932399    NaN             2.0              1.0   \n123932627    NaN             2.0              1.0   \n\n           analyticsProperty.imageCount  analyticsProperty.added  \\\n116679575                             1                 20211122   \n119191541                            14                 20220126   \n118146674                            17                 20211229   \n118196498                            15                 20211231   \n123673205                             7                 20220525   \n121162844                            11                 20220316   \n123673247                             8                 20220525   \n121736018                             4                 20220330   \n75205002                             14                 20201112   \n112926422                             2                 20210903   \n120007982                             9                 20220215   \n120932330                             7                 20220310   \n119596766                             9                 20220205   \n84714063                             10                 20220419   \n84714540                             10                 20220419   \n63921069                             10                 20190724   \n96574858                             14                 20220519   \n118825013                            18                 20220117   \n82165626                             19                 20211021   \n106827140                            10                 20210513   \n96574750                             13                 20220519   \n115507298                            14                 20211028   \n115507244                            14                 20211028   \n122706701                            13                 20220422   \n111106427                             8                 20210728   \n120375476                            13                 20220225   \n83605776                             13                 20220127   \n121796048                            14                 20220331   \n123292304                            12                 20220512   \n109078397                             2                 20210618   \n121699175                            23                 20220329   \n123914636                            18                 20220615   \n123928922                            18                 20220615   \n123932027                            18                 20220615   \n123932399                            18                 20220615   \n123932627                            18                 20220615   \n\n           floorplan_count  \n116679575                1  \n119191541                4  \n118146674                4  \n118196498                4  \n123673205                4  \n121162844                4  \n123673247                4  \n121736018                1  \n75205002                 4  \n112926422                8  \n120007982                1  \n120932330                1  \n119596766                1  \n84714063                 4  \n84714540                 4  \n63921069                 4  \n96574858                 4  \n118825013                4  \n82165626                 4  \n106827140                4  \n96574750                 4  \n115507298                4  \n115507244                4  \n122706701                4  \n111106427                4  \n120375476                4  \n83605776                 4  \n121796048                4  \n123292304                4  \n109078397                1  \n121699175                4  \n123914636                1  \n123928922                1  \n123932027                1  \n123932399                1  \n123932627                1  ",
      "text/html": "<div>\n<style scoped>\n    .dataframe tbody tr th:only-of-type {\n        vertical-align: middle;\n    }\n\n    .dataframe tbody tr th {\n        vertical-align: top;\n    }\n\n    .dataframe thead th {\n        text-align: right;\n    }\n</style>\n<table border=\"1\" class=\"dataframe\">\n  <thead>\n    <tr style=\"text-align: right;\">\n      <th></th>\n      <th>location.latitude</th>\n      <th>location.longitude</th>\n      <th>distance_to_any_train</th>\n      <th>Price</th>\n      <th>bedrooms_model</th>\n      <th>bathrooms_model</th>\n      <th>analyticsProperty.imageCount</th>\n      <th>analyticsProperty.added</th>\n      <th>floorplan_count</th>\n    </tr>\n  </thead>\n  <tbody>\n    <tr>\n      <th>116679575</th>\n      <td>51</td>\n      <td>-0.429620</td>\n      <td>0.6</td>\n      <td>NaN</td>\n      <td>3.0</td>\n      <td>1.0</td>\n      <td>1</td>\n      <td>20211122</td>\n      <td>1</td>\n    </tr>\n    <tr>\n      <th>119191541</th>\n      <td>51</td>\n      <td>0.159780</td>\n      <td>1.5</td>\n      <td>NaN</td>\n      <td>3.0</td>\n      <td>1.0</td>\n      <td>14</td>\n      <td>20220126</td>\n      <td>4</td>\n    </tr>\n    <tr>\n      <th>118146674</th>\n      <td>51</td>\n      <td>0.222140</td>\n      <td>0.5</td>\n      <td>NaN</td>\n      <td>2.0</td>\n      <td>1.0</td>\n      <td>17</td>\n      <td>20211229</td>\n      <td>4</td>\n    </tr>\n    <tr>\n      <th>118196498</th>\n      <td>51</td>\n      <td>0.177610</td>\n      <td>0.3</td>\n      <td>NaN</td>\n      <td>2.0</td>\n      <td>1.0</td>\n      <td>15</td>\n      <td>20211231</td>\n      <td>4</td>\n    </tr>\n    <tr>\n      <th>123673205</th>\n      <td>51</td>\n      <td>0.216890</td>\n      <td>0.7</td>\n      <td>NaN</td>\n      <td>1.0</td>\n      <td>1.0</td>\n      <td>7</td>\n      <td>20220525</td>\n      <td>4</td>\n    </tr>\n    <tr>\n      <th>121162844</th>\n      <td>51</td>\n      <td>0.200100</td>\n      <td>0.4</td>\n      <td>NaN</td>\n      <td>2.0</td>\n      <td>1.0</td>\n      <td>11</td>\n      <td>20220316</td>\n      <td>4</td>\n    </tr>\n    <tr>\n      <th>123673247</th>\n      <td>51</td>\n      <td>0.216868</td>\n      <td>0.7</td>\n      <td>NaN</td>\n      <td>1.0</td>\n      <td>1.0</td>\n      <td>8</td>\n      <td>20220525</td>\n      <td>4</td>\n    </tr>\n    <tr>\n      <th>121736018</th>\n      <td>51</td>\n      <td>-0.438250</td>\n      <td>1.3</td>\n      <td>NaN</td>\n      <td>2.0</td>\n      <td>1.0</td>\n      <td>4</td>\n      <td>20220330</td>\n      <td>1</td>\n    </tr>\n    <tr>\n      <th>75205002</th>\n      <td>51</td>\n      <td>-0.366334</td>\n      <td>0.5</td>\n      <td>NaN</td>\n      <td>1.0</td>\n      <td>1.0</td>\n      <td>14</td>\n      <td>20201112</td>\n      <td>4</td>\n    </tr>\n    <tr>\n      <th>112926422</th>\n      <td>51</td>\n      <td>-0.077449</td>\n      <td>0.1</td>\n      <td>NaN</td>\n      <td>2.0</td>\n      <td>1.0</td>\n      <td>2</td>\n      <td>20210903</td>\n      <td>8</td>\n    </tr>\n    <tr>\n      <th>120007982</th>\n      <td>51</td>\n      <td>-0.087920</td>\n      <td>0.3</td>\n      <td>NaN</td>\n      <td>2.0</td>\n      <td>1.0</td>\n      <td>9</td>\n      <td>20220215</td>\n      <td>1</td>\n    </tr>\n    <tr>\n      <th>120932330</th>\n      <td>51</td>\n      <td>-0.087920</td>\n      <td>0.3</td>\n      <td>NaN</td>\n      <td>3.0</td>\n      <td>2.0</td>\n      <td>7</td>\n      <td>20220310</td>\n      <td>1</td>\n    </tr>\n    <tr>\n      <th>119596766</th>\n      <td>51</td>\n      <td>-0.087920</td>\n      <td>0.3</td>\n      <td>NaN</td>\n      <td>2.0</td>\n      <td>1.0</td>\n      <td>9</td>\n      <td>20220205</td>\n      <td>1</td>\n    </tr>\n    <tr>\n      <th>84714063</th>\n      <td>51</td>\n      <td>0.086590</td>\n      <td>0.1</td>\n      <td>NaN</td>\n      <td>1.0</td>\n      <td>1.0</td>\n      <td>10</td>\n      <td>20220419</td>\n      <td>4</td>\n    </tr>\n    <tr>\n      <th>84714540</th>\n      <td>51</td>\n      <td>0.086590</td>\n      <td>0.1</td>\n      <td>NaN</td>\n      <td>1.0</td>\n      <td>1.0</td>\n      <td>10</td>\n      <td>20220419</td>\n      <td>4</td>\n    </tr>\n    <tr>\n      <th>63921069</th>\n      <td>51</td>\n      <td>-0.299760</td>\n      <td>0.1</td>\n      <td>NaN</td>\n      <td>2.0</td>\n      <td>2.0</td>\n      <td>10</td>\n      <td>20190724</td>\n      <td>4</td>\n    </tr>\n    <tr>\n      <th>96574858</th>\n      <td>51</td>\n      <td>0.032710</td>\n      <td>0.5</td>\n      <td>NaN</td>\n      <td>3.0</td>\n      <td>1.0</td>\n      <td>14</td>\n      <td>20220519</td>\n      <td>4</td>\n    </tr>\n    <tr>\n      <th>118825013</th>\n      <td>51</td>\n      <td>0.037298</td>\n      <td>0.5</td>\n      <td>NaN</td>\n      <td>2.0</td>\n      <td>1.0</td>\n      <td>18</td>\n      <td>20220117</td>\n      <td>4</td>\n    </tr>\n    <tr>\n      <th>82165626</th>\n      <td>51</td>\n      <td>0.021131</td>\n      <td>0.2</td>\n      <td>NaN</td>\n      <td>2.0</td>\n      <td>2.0</td>\n      <td>19</td>\n      <td>20211021</td>\n      <td>4</td>\n    </tr>\n    <tr>\n      <th>106827140</th>\n      <td>51</td>\n      <td>0.039172</td>\n      <td>0.9</td>\n      <td>NaN</td>\n      <td>2.0</td>\n      <td>2.0</td>\n      <td>10</td>\n      <td>20210513</td>\n      <td>4</td>\n    </tr>\n    <tr>\n      <th>96574750</th>\n      <td>51</td>\n      <td>0.012470</td>\n      <td>0.3</td>\n      <td>NaN</td>\n      <td>2.0</td>\n      <td>2.0</td>\n      <td>13</td>\n      <td>20220519</td>\n      <td>4</td>\n    </tr>\n    <tr>\n      <th>115507298</th>\n      <td>51</td>\n      <td>0.025303</td>\n      <td>0.3</td>\n      <td>NaN</td>\n      <td>2.0</td>\n      <td>1.0</td>\n      <td>14</td>\n      <td>20211028</td>\n      <td>4</td>\n    </tr>\n    <tr>\n      <th>115507244</th>\n      <td>51</td>\n      <td>0.025179</td>\n      <td>0.3</td>\n      <td>NaN</td>\n      <td>2.0</td>\n      <td>2.0</td>\n      <td>14</td>\n      <td>20211028</td>\n      <td>4</td>\n    </tr>\n    <tr>\n      <th>122706701</th>\n      <td>51</td>\n      <td>-0.001323</td>\n      <td>0.3</td>\n      <td>NaN</td>\n      <td>1.0</td>\n      <td>1.0</td>\n      <td>13</td>\n      <td>20220422</td>\n      <td>4</td>\n    </tr>\n    <tr>\n      <th>111106427</th>\n      <td>51</td>\n      <td>0.014527</td>\n      <td>0.2</td>\n      <td>NaN</td>\n      <td>1.0</td>\n      <td>1.0</td>\n      <td>8</td>\n      <td>20210728</td>\n      <td>4</td>\n    </tr>\n    <tr>\n      <th>120375476</th>\n      <td>51</td>\n      <td>0.010339</td>\n      <td>0.3</td>\n      <td>NaN</td>\n      <td>1.0</td>\n      <td>1.0</td>\n      <td>13</td>\n      <td>20220225</td>\n      <td>4</td>\n    </tr>\n    <tr>\n      <th>83605776</th>\n      <td>51</td>\n      <td>0.019088</td>\n      <td>0.1</td>\n      <td>NaN</td>\n      <td>1.0</td>\n      <td>1.0</td>\n      <td>13</td>\n      <td>20220127</td>\n      <td>4</td>\n    </tr>\n    <tr>\n      <th>121796048</th>\n      <td>51</td>\n      <td>0.007611</td>\n      <td>0.6</td>\n      <td>NaN</td>\n      <td>1.0</td>\n      <td>1.0</td>\n      <td>14</td>\n      <td>20220331</td>\n      <td>4</td>\n    </tr>\n    <tr>\n      <th>123292304</th>\n      <td>51</td>\n      <td>0.017632</td>\n      <td>0.1</td>\n      <td>NaN</td>\n      <td>2.0</td>\n      <td>1.0</td>\n      <td>12</td>\n      <td>20220512</td>\n      <td>4</td>\n    </tr>\n    <tr>\n      <th>109078397</th>\n      <td>51</td>\n      <td>-0.082210</td>\n      <td>0.0</td>\n      <td>NaN</td>\n      <td>2.0</td>\n      <td>2.0</td>\n      <td>2</td>\n      <td>20210618</td>\n      <td>1</td>\n    </tr>\n    <tr>\n      <th>121699175</th>\n      <td>51</td>\n      <td>-0.217178</td>\n      <td>0.5</td>\n      <td>NaN</td>\n      <td>4.0</td>\n      <td>2.0</td>\n      <td>23</td>\n      <td>20220329</td>\n      <td>4</td>\n    </tr>\n    <tr>\n      <th>123914636</th>\n      <td>51</td>\n      <td>-0.202250</td>\n      <td>0.5</td>\n      <td>NaN</td>\n      <td>4.0</td>\n      <td>3.0</td>\n      <td>18</td>\n      <td>20220615</td>\n      <td>1</td>\n    </tr>\n    <tr>\n      <th>123928922</th>\n      <td>51</td>\n      <td>-0.202250</td>\n      <td>0.5</td>\n      <td>NaN</td>\n      <td>3.0</td>\n      <td>1.0</td>\n      <td>18</td>\n      <td>20220615</td>\n      <td>1</td>\n    </tr>\n    <tr>\n      <th>123932027</th>\n      <td>51</td>\n      <td>-0.202250</td>\n      <td>0.5</td>\n      <td>NaN</td>\n      <td>1.0</td>\n      <td>1.0</td>\n      <td>18</td>\n      <td>20220615</td>\n      <td>1</td>\n    </tr>\n    <tr>\n      <th>123932399</th>\n      <td>51</td>\n      <td>-0.202250</td>\n      <td>0.5</td>\n      <td>NaN</td>\n      <td>2.0</td>\n      <td>1.0</td>\n      <td>18</td>\n      <td>20220615</td>\n      <td>1</td>\n    </tr>\n    <tr>\n      <th>123932627</th>\n      <td>51</td>\n      <td>-0.202250</td>\n      <td>0.5</td>\n      <td>NaN</td>\n      <td>2.0</td>\n      <td>1.0</td>\n      <td>18</td>\n      <td>20220615</td>\n      <td>1</td>\n    </tr>\n  </tbody>\n</table>\n</div>"
     },
     "execution_count": 42,
     "metadata": {},
     "output_type": "execute_result"
    }
   ],
   "source": [
    "median_imageCount = df['analyticsProperty.imageCount'].median()\n",
    "print(median_imageCount)\n",
    "\n",
    "df['analyticsProperty.imageCount'].fillna(median_imageCount, inplace=True)\n",
    "\n",
    "sample_incomplete_rows = df[df.isnull().any(axis=1)]  #.head()\n",
    "sample_incomplete_rows"
   ],
   "metadata": {
    "collapsed": false,
    "pycharm": {
     "name": "#%%\n"
    }
   }
  },
  {
   "cell_type": "code",
   "execution_count": 43,
   "outputs": [
    {
     "name": "stdout",
     "output_type": "stream",
     "text": [
      "20220330.0\n"
     ]
    },
    {
     "name": "stderr",
     "output_type": "stream",
     "text": [
      "/tmp/ipykernel_5800/922451445.py:4: SettingWithCopyWarning: \n",
      "A value is trying to be set on a copy of a slice from a DataFrame\n",
      "\n",
      "See the caveats in the documentation: https://pandas.pydata.org/pandas-docs/stable/user_guide/indexing.html#returning-a-view-versus-a-copy\n",
      "  df['analyticsProperty.added'].fillna(median_added, inplace=True)\n"
     ]
    },
    {
     "data": {
      "text/plain": "           location.latitude  location.longitude  distance_to_any_train  \\\n116679575                 51           -0.429620                    0.6   \n119191541                 51            0.159780                    1.5   \n118146674                 51            0.222140                    0.5   \n118196498                 51            0.177610                    0.3   \n123673205                 51            0.216890                    0.7   \n121162844                 51            0.200100                    0.4   \n123673247                 51            0.216868                    0.7   \n121736018                 51           -0.438250                    1.3   \n75205002                  51           -0.366334                    0.5   \n112926422                 51           -0.077449                    0.1   \n120007982                 51           -0.087920                    0.3   \n120932330                 51           -0.087920                    0.3   \n119596766                 51           -0.087920                    0.3   \n84714063                  51            0.086590                    0.1   \n84714540                  51            0.086590                    0.1   \n63921069                  51           -0.299760                    0.1   \n96574858                  51            0.032710                    0.5   \n118825013                 51            0.037298                    0.5   \n82165626                  51            0.021131                    0.2   \n106827140                 51            0.039172                    0.9   \n96574750                  51            0.012470                    0.3   \n115507298                 51            0.025303                    0.3   \n115507244                 51            0.025179                    0.3   \n122706701                 51           -0.001323                    0.3   \n111106427                 51            0.014527                    0.2   \n120375476                 51            0.010339                    0.3   \n83605776                  51            0.019088                    0.1   \n121796048                 51            0.007611                    0.6   \n123292304                 51            0.017632                    0.1   \n109078397                 51           -0.082210                    0.0   \n121699175                 51           -0.217178                    0.5   \n123914636                 51           -0.202250                    0.5   \n123928922                 51           -0.202250                    0.5   \n123932027                 51           -0.202250                    0.5   \n123932399                 51           -0.202250                    0.5   \n123932627                 51           -0.202250                    0.5   \n\n           Price  bedrooms_model  bathrooms_model  \\\n116679575    NaN             3.0              1.0   \n119191541    NaN             3.0              1.0   \n118146674    NaN             2.0              1.0   \n118196498    NaN             2.0              1.0   \n123673205    NaN             1.0              1.0   \n121162844    NaN             2.0              1.0   \n123673247    NaN             1.0              1.0   \n121736018    NaN             2.0              1.0   \n75205002     NaN             1.0              1.0   \n112926422    NaN             2.0              1.0   \n120007982    NaN             2.0              1.0   \n120932330    NaN             3.0              2.0   \n119596766    NaN             2.0              1.0   \n84714063     NaN             1.0              1.0   \n84714540     NaN             1.0              1.0   \n63921069     NaN             2.0              2.0   \n96574858     NaN             3.0              1.0   \n118825013    NaN             2.0              1.0   \n82165626     NaN             2.0              2.0   \n106827140    NaN             2.0              2.0   \n96574750     NaN             2.0              2.0   \n115507298    NaN             2.0              1.0   \n115507244    NaN             2.0              2.0   \n122706701    NaN             1.0              1.0   \n111106427    NaN             1.0              1.0   \n120375476    NaN             1.0              1.0   \n83605776     NaN             1.0              1.0   \n121796048    NaN             1.0              1.0   \n123292304    NaN             2.0              1.0   \n109078397    NaN             2.0              2.0   \n121699175    NaN             4.0              2.0   \n123914636    NaN             4.0              3.0   \n123928922    NaN             3.0              1.0   \n123932027    NaN             1.0              1.0   \n123932399    NaN             2.0              1.0   \n123932627    NaN             2.0              1.0   \n\n           analyticsProperty.imageCount  analyticsProperty.added  \\\n116679575                             1                 20211122   \n119191541                            14                 20220126   \n118146674                            17                 20211229   \n118196498                            15                 20211231   \n123673205                             7                 20220525   \n121162844                            11                 20220316   \n123673247                             8                 20220525   \n121736018                             4                 20220330   \n75205002                             14                 20201112   \n112926422                             2                 20210903   \n120007982                             9                 20220215   \n120932330                             7                 20220310   \n119596766                             9                 20220205   \n84714063                             10                 20220419   \n84714540                             10                 20220419   \n63921069                             10                 20190724   \n96574858                             14                 20220519   \n118825013                            18                 20220117   \n82165626                             19                 20211021   \n106827140                            10                 20210513   \n96574750                             13                 20220519   \n115507298                            14                 20211028   \n115507244                            14                 20211028   \n122706701                            13                 20220422   \n111106427                             8                 20210728   \n120375476                            13                 20220225   \n83605776                             13                 20220127   \n121796048                            14                 20220331   \n123292304                            12                 20220512   \n109078397                             2                 20210618   \n121699175                            23                 20220329   \n123914636                            18                 20220615   \n123928922                            18                 20220615   \n123932027                            18                 20220615   \n123932399                            18                 20220615   \n123932627                            18                 20220615   \n\n           floorplan_count  \n116679575                1  \n119191541                4  \n118146674                4  \n118196498                4  \n123673205                4  \n121162844                4  \n123673247                4  \n121736018                1  \n75205002                 4  \n112926422                8  \n120007982                1  \n120932330                1  \n119596766                1  \n84714063                 4  \n84714540                 4  \n63921069                 4  \n96574858                 4  \n118825013                4  \n82165626                 4  \n106827140                4  \n96574750                 4  \n115507298                4  \n115507244                4  \n122706701                4  \n111106427                4  \n120375476                4  \n83605776                 4  \n121796048                4  \n123292304                4  \n109078397                1  \n121699175                4  \n123914636                1  \n123928922                1  \n123932027                1  \n123932399                1  \n123932627                1  ",
      "text/html": "<div>\n<style scoped>\n    .dataframe tbody tr th:only-of-type {\n        vertical-align: middle;\n    }\n\n    .dataframe tbody tr th {\n        vertical-align: top;\n    }\n\n    .dataframe thead th {\n        text-align: right;\n    }\n</style>\n<table border=\"1\" class=\"dataframe\">\n  <thead>\n    <tr style=\"text-align: right;\">\n      <th></th>\n      <th>location.latitude</th>\n      <th>location.longitude</th>\n      <th>distance_to_any_train</th>\n      <th>Price</th>\n      <th>bedrooms_model</th>\n      <th>bathrooms_model</th>\n      <th>analyticsProperty.imageCount</th>\n      <th>analyticsProperty.added</th>\n      <th>floorplan_count</th>\n    </tr>\n  </thead>\n  <tbody>\n    <tr>\n      <th>116679575</th>\n      <td>51</td>\n      <td>-0.429620</td>\n      <td>0.6</td>\n      <td>NaN</td>\n      <td>3.0</td>\n      <td>1.0</td>\n      <td>1</td>\n      <td>20211122</td>\n      <td>1</td>\n    </tr>\n    <tr>\n      <th>119191541</th>\n      <td>51</td>\n      <td>0.159780</td>\n      <td>1.5</td>\n      <td>NaN</td>\n      <td>3.0</td>\n      <td>1.0</td>\n      <td>14</td>\n      <td>20220126</td>\n      <td>4</td>\n    </tr>\n    <tr>\n      <th>118146674</th>\n      <td>51</td>\n      <td>0.222140</td>\n      <td>0.5</td>\n      <td>NaN</td>\n      <td>2.0</td>\n      <td>1.0</td>\n      <td>17</td>\n      <td>20211229</td>\n      <td>4</td>\n    </tr>\n    <tr>\n      <th>118196498</th>\n      <td>51</td>\n      <td>0.177610</td>\n      <td>0.3</td>\n      <td>NaN</td>\n      <td>2.0</td>\n      <td>1.0</td>\n      <td>15</td>\n      <td>20211231</td>\n      <td>4</td>\n    </tr>\n    <tr>\n      <th>123673205</th>\n      <td>51</td>\n      <td>0.216890</td>\n      <td>0.7</td>\n      <td>NaN</td>\n      <td>1.0</td>\n      <td>1.0</td>\n      <td>7</td>\n      <td>20220525</td>\n      <td>4</td>\n    </tr>\n    <tr>\n      <th>121162844</th>\n      <td>51</td>\n      <td>0.200100</td>\n      <td>0.4</td>\n      <td>NaN</td>\n      <td>2.0</td>\n      <td>1.0</td>\n      <td>11</td>\n      <td>20220316</td>\n      <td>4</td>\n    </tr>\n    <tr>\n      <th>123673247</th>\n      <td>51</td>\n      <td>0.216868</td>\n      <td>0.7</td>\n      <td>NaN</td>\n      <td>1.0</td>\n      <td>1.0</td>\n      <td>8</td>\n      <td>20220525</td>\n      <td>4</td>\n    </tr>\n    <tr>\n      <th>121736018</th>\n      <td>51</td>\n      <td>-0.438250</td>\n      <td>1.3</td>\n      <td>NaN</td>\n      <td>2.0</td>\n      <td>1.0</td>\n      <td>4</td>\n      <td>20220330</td>\n      <td>1</td>\n    </tr>\n    <tr>\n      <th>75205002</th>\n      <td>51</td>\n      <td>-0.366334</td>\n      <td>0.5</td>\n      <td>NaN</td>\n      <td>1.0</td>\n      <td>1.0</td>\n      <td>14</td>\n      <td>20201112</td>\n      <td>4</td>\n    </tr>\n    <tr>\n      <th>112926422</th>\n      <td>51</td>\n      <td>-0.077449</td>\n      <td>0.1</td>\n      <td>NaN</td>\n      <td>2.0</td>\n      <td>1.0</td>\n      <td>2</td>\n      <td>20210903</td>\n      <td>8</td>\n    </tr>\n    <tr>\n      <th>120007982</th>\n      <td>51</td>\n      <td>-0.087920</td>\n      <td>0.3</td>\n      <td>NaN</td>\n      <td>2.0</td>\n      <td>1.0</td>\n      <td>9</td>\n      <td>20220215</td>\n      <td>1</td>\n    </tr>\n    <tr>\n      <th>120932330</th>\n      <td>51</td>\n      <td>-0.087920</td>\n      <td>0.3</td>\n      <td>NaN</td>\n      <td>3.0</td>\n      <td>2.0</td>\n      <td>7</td>\n      <td>20220310</td>\n      <td>1</td>\n    </tr>\n    <tr>\n      <th>119596766</th>\n      <td>51</td>\n      <td>-0.087920</td>\n      <td>0.3</td>\n      <td>NaN</td>\n      <td>2.0</td>\n      <td>1.0</td>\n      <td>9</td>\n      <td>20220205</td>\n      <td>1</td>\n    </tr>\n    <tr>\n      <th>84714063</th>\n      <td>51</td>\n      <td>0.086590</td>\n      <td>0.1</td>\n      <td>NaN</td>\n      <td>1.0</td>\n      <td>1.0</td>\n      <td>10</td>\n      <td>20220419</td>\n      <td>4</td>\n    </tr>\n    <tr>\n      <th>84714540</th>\n      <td>51</td>\n      <td>0.086590</td>\n      <td>0.1</td>\n      <td>NaN</td>\n      <td>1.0</td>\n      <td>1.0</td>\n      <td>10</td>\n      <td>20220419</td>\n      <td>4</td>\n    </tr>\n    <tr>\n      <th>63921069</th>\n      <td>51</td>\n      <td>-0.299760</td>\n      <td>0.1</td>\n      <td>NaN</td>\n      <td>2.0</td>\n      <td>2.0</td>\n      <td>10</td>\n      <td>20190724</td>\n      <td>4</td>\n    </tr>\n    <tr>\n      <th>96574858</th>\n      <td>51</td>\n      <td>0.032710</td>\n      <td>0.5</td>\n      <td>NaN</td>\n      <td>3.0</td>\n      <td>1.0</td>\n      <td>14</td>\n      <td>20220519</td>\n      <td>4</td>\n    </tr>\n    <tr>\n      <th>118825013</th>\n      <td>51</td>\n      <td>0.037298</td>\n      <td>0.5</td>\n      <td>NaN</td>\n      <td>2.0</td>\n      <td>1.0</td>\n      <td>18</td>\n      <td>20220117</td>\n      <td>4</td>\n    </tr>\n    <tr>\n      <th>82165626</th>\n      <td>51</td>\n      <td>0.021131</td>\n      <td>0.2</td>\n      <td>NaN</td>\n      <td>2.0</td>\n      <td>2.0</td>\n      <td>19</td>\n      <td>20211021</td>\n      <td>4</td>\n    </tr>\n    <tr>\n      <th>106827140</th>\n      <td>51</td>\n      <td>0.039172</td>\n      <td>0.9</td>\n      <td>NaN</td>\n      <td>2.0</td>\n      <td>2.0</td>\n      <td>10</td>\n      <td>20210513</td>\n      <td>4</td>\n    </tr>\n    <tr>\n      <th>96574750</th>\n      <td>51</td>\n      <td>0.012470</td>\n      <td>0.3</td>\n      <td>NaN</td>\n      <td>2.0</td>\n      <td>2.0</td>\n      <td>13</td>\n      <td>20220519</td>\n      <td>4</td>\n    </tr>\n    <tr>\n      <th>115507298</th>\n      <td>51</td>\n      <td>0.025303</td>\n      <td>0.3</td>\n      <td>NaN</td>\n      <td>2.0</td>\n      <td>1.0</td>\n      <td>14</td>\n      <td>20211028</td>\n      <td>4</td>\n    </tr>\n    <tr>\n      <th>115507244</th>\n      <td>51</td>\n      <td>0.025179</td>\n      <td>0.3</td>\n      <td>NaN</td>\n      <td>2.0</td>\n      <td>2.0</td>\n      <td>14</td>\n      <td>20211028</td>\n      <td>4</td>\n    </tr>\n    <tr>\n      <th>122706701</th>\n      <td>51</td>\n      <td>-0.001323</td>\n      <td>0.3</td>\n      <td>NaN</td>\n      <td>1.0</td>\n      <td>1.0</td>\n      <td>13</td>\n      <td>20220422</td>\n      <td>4</td>\n    </tr>\n    <tr>\n      <th>111106427</th>\n      <td>51</td>\n      <td>0.014527</td>\n      <td>0.2</td>\n      <td>NaN</td>\n      <td>1.0</td>\n      <td>1.0</td>\n      <td>8</td>\n      <td>20210728</td>\n      <td>4</td>\n    </tr>\n    <tr>\n      <th>120375476</th>\n      <td>51</td>\n      <td>0.010339</td>\n      <td>0.3</td>\n      <td>NaN</td>\n      <td>1.0</td>\n      <td>1.0</td>\n      <td>13</td>\n      <td>20220225</td>\n      <td>4</td>\n    </tr>\n    <tr>\n      <th>83605776</th>\n      <td>51</td>\n      <td>0.019088</td>\n      <td>0.1</td>\n      <td>NaN</td>\n      <td>1.0</td>\n      <td>1.0</td>\n      <td>13</td>\n      <td>20220127</td>\n      <td>4</td>\n    </tr>\n    <tr>\n      <th>121796048</th>\n      <td>51</td>\n      <td>0.007611</td>\n      <td>0.6</td>\n      <td>NaN</td>\n      <td>1.0</td>\n      <td>1.0</td>\n      <td>14</td>\n      <td>20220331</td>\n      <td>4</td>\n    </tr>\n    <tr>\n      <th>123292304</th>\n      <td>51</td>\n      <td>0.017632</td>\n      <td>0.1</td>\n      <td>NaN</td>\n      <td>2.0</td>\n      <td>1.0</td>\n      <td>12</td>\n      <td>20220512</td>\n      <td>4</td>\n    </tr>\n    <tr>\n      <th>109078397</th>\n      <td>51</td>\n      <td>-0.082210</td>\n      <td>0.0</td>\n      <td>NaN</td>\n      <td>2.0</td>\n      <td>2.0</td>\n      <td>2</td>\n      <td>20210618</td>\n      <td>1</td>\n    </tr>\n    <tr>\n      <th>121699175</th>\n      <td>51</td>\n      <td>-0.217178</td>\n      <td>0.5</td>\n      <td>NaN</td>\n      <td>4.0</td>\n      <td>2.0</td>\n      <td>23</td>\n      <td>20220329</td>\n      <td>4</td>\n    </tr>\n    <tr>\n      <th>123914636</th>\n      <td>51</td>\n      <td>-0.202250</td>\n      <td>0.5</td>\n      <td>NaN</td>\n      <td>4.0</td>\n      <td>3.0</td>\n      <td>18</td>\n      <td>20220615</td>\n      <td>1</td>\n    </tr>\n    <tr>\n      <th>123928922</th>\n      <td>51</td>\n      <td>-0.202250</td>\n      <td>0.5</td>\n      <td>NaN</td>\n      <td>3.0</td>\n      <td>1.0</td>\n      <td>18</td>\n      <td>20220615</td>\n      <td>1</td>\n    </tr>\n    <tr>\n      <th>123932027</th>\n      <td>51</td>\n      <td>-0.202250</td>\n      <td>0.5</td>\n      <td>NaN</td>\n      <td>1.0</td>\n      <td>1.0</td>\n      <td>18</td>\n      <td>20220615</td>\n      <td>1</td>\n    </tr>\n    <tr>\n      <th>123932399</th>\n      <td>51</td>\n      <td>-0.202250</td>\n      <td>0.5</td>\n      <td>NaN</td>\n      <td>2.0</td>\n      <td>1.0</td>\n      <td>18</td>\n      <td>20220615</td>\n      <td>1</td>\n    </tr>\n    <tr>\n      <th>123932627</th>\n      <td>51</td>\n      <td>-0.202250</td>\n      <td>0.5</td>\n      <td>NaN</td>\n      <td>2.0</td>\n      <td>1.0</td>\n      <td>18</td>\n      <td>20220615</td>\n      <td>1</td>\n    </tr>\n  </tbody>\n</table>\n</div>"
     },
     "execution_count": 43,
     "metadata": {},
     "output_type": "execute_result"
    }
   ],
   "source": [
    "median_added = df['analyticsProperty.added'].median()\n",
    "print(median_added)\n",
    "\n",
    "df['analyticsProperty.added'].fillna(median_added, inplace=True)\n",
    "\n",
    "sample_incomplete_rows = df[df.isnull().any(axis=1)]  #.head()\n",
    "sample_incomplete_rows"
   ],
   "metadata": {
    "collapsed": false,
    "pycharm": {
     "name": "#%%\n"
    }
   }
  },
  {
   "cell_type": "code",
   "execution_count": 44,
   "outputs": [
    {
     "data": {
      "text/plain": "Empty DataFrame\nColumns: [location.latitude, location.longitude, distance_to_any_train, Price, bedrooms_model, bathrooms_model, analyticsProperty.imageCount, analyticsProperty.added, floorplan_count]\nIndex: []",
      "text/html": "<div>\n<style scoped>\n    .dataframe tbody tr th:only-of-type {\n        vertical-align: middle;\n    }\n\n    .dataframe tbody tr th {\n        vertical-align: top;\n    }\n\n    .dataframe thead th {\n        text-align: right;\n    }\n</style>\n<table border=\"1\" class=\"dataframe\">\n  <thead>\n    <tr style=\"text-align: right;\">\n      <th></th>\n      <th>location.latitude</th>\n      <th>location.longitude</th>\n      <th>distance_to_any_train</th>\n      <th>Price</th>\n      <th>bedrooms_model</th>\n      <th>bathrooms_model</th>\n      <th>analyticsProperty.imageCount</th>\n      <th>analyticsProperty.added</th>\n      <th>floorplan_count</th>\n    </tr>\n  </thead>\n  <tbody>\n  </tbody>\n</table>\n</div>"
     },
     "execution_count": 44,
     "metadata": {},
     "output_type": "execute_result"
    }
   ],
   "source": [
    "#df = df['Price'].dropna()\n",
    "#sample_incomplete_rows = df[df.isnull().any(axis=1)].copy() #.head()\n",
    "#sample_incomplete_rows\n",
    "df = df.dropna(subset=\"Price\")\n",
    "df = df.dropna(subset=[\"analyticsProperty.added\", 'location.latitude', 'location.longitude'])\n",
    "\n",
    "sample_incomplete_rows = df[df.isnull().any(axis=1)]  #.head()\n",
    "sample_incomplete_rows"
   ],
   "metadata": {
    "collapsed": false,
    "pycharm": {
     "name": "#%%\n"
    }
   }
  },
  {
   "cell_type": "code",
   "execution_count": 45,
   "outputs": [
    {
     "data": {
      "text/plain": "location.latitude               False\nlocation.longitude              False\ndistance_to_any_train           False\nPrice                           False\nbedrooms_model                  False\nbathrooms_model                 False\nanalyticsProperty.imageCount    False\nanalyticsProperty.added         False\nfloorplan_count                 False\ndtype: bool"
     },
     "execution_count": 45,
     "metadata": {},
     "output_type": "execute_result"
    }
   ],
   "source": [
    "df.isnull().any() == True"
   ],
   "metadata": {
    "collapsed": false,
    "pycharm": {
     "name": "#%%\n"
    }
   }
  },
  {
   "cell_type": "markdown",
   "source": [
    "## Prepare data for training the model"
   ],
   "metadata": {
    "collapsed": false,
    "pycharm": {
     "name": "#%% md\n"
    }
   }
  },
  {
   "cell_type": "code",
   "execution_count": 46,
   "outputs": [],
   "source": [
    "y = df['Price']\n",
    "X = df.drop(['Price'], axis=1)\n",
    "X_train, X_test, y_train, y_test = train_test_split(X, y, test_size=0.05, random_state=42)"
   ],
   "metadata": {
    "collapsed": false,
    "pycharm": {
     "name": "#%%\n"
    }
   }
  },
  {
   "cell_type": "markdown",
   "source": [
    "## Build a Random Forest model"
   ],
   "metadata": {
    "collapsed": false,
    "pycharm": {
     "name": "#%% md\n"
    }
   }
  },
  {
   "cell_type": "code",
   "execution_count": 47,
   "outputs": [],
   "source": [
    "from sklearn.ensemble import RandomForestRegressor\n",
    "\n",
    "regressor = RandomForestRegressor(n_estimators=200, random_state=42)\n",
    "\n",
    "regressor.fit(X_train, y_train)\n",
    "\n",
    "y_pred = regressor.predict(X_test)"
   ],
   "metadata": {
    "collapsed": false,
    "pycharm": {
     "name": "#%%\n"
    }
   }
  },
  {
   "cell_type": "markdown",
   "source": [
    "## Evaluate the model on the test data"
   ],
   "metadata": {
    "collapsed": false,
    "pycharm": {
     "name": "#%% md\n"
    }
   }
  },
  {
   "cell_type": "code",
   "execution_count": 48,
   "outputs": [
    {
     "name": "stdout",
     "output_type": "stream",
     "text": [
      "<class 'numpy.ndarray'>\n",
      "<class 'numpy.ndarray'>\n"
     ]
    }
   ],
   "source": [
    "print(type(y_test.values))\n",
    "print(type(y_pred))\n"
   ],
   "metadata": {
    "collapsed": false,
    "pycharm": {
     "name": "#%%\n"
    }
   }
  },
  {
   "cell_type": "code",
   "execution_count": 49,
   "outputs": [
    {
     "data": {
      "text/plain": "109878153219.02469"
     },
     "execution_count": 49,
     "metadata": {},
     "output_type": "execute_result"
    }
   ],
   "source": [
    "metrics.mean_squared_error(y_test.values, y_pred)"
   ],
   "metadata": {
    "collapsed": false,
    "pycharm": {
     "name": "#%%\n"
    }
   }
  },
  {
   "cell_type": "markdown",
   "source": [
    "##"
   ],
   "metadata": {
    "collapsed": false,
    "pycharm": {
     "name": "#%% md\n"
    }
   }
  },
  {
   "cell_type": "code",
   "execution_count": 50,
   "outputs": [
    {
     "name": "stdout",
     "output_type": "stream",
     "text": [
      "[  500000.   325000.   325000.   375000.   399950.   575000.  1750000.\n",
      "   270000.   750000.   315000.   275000.   500000.   550000.   570000.\n",
      "   700000.   595000.   400000.   350000.   425000.   450000.   950000.\n",
      "   475000.   475000.   270000.  2595000.   795000.   400000.   329950.\n",
      "   315000.   275000.   400000.   625000.   600000.   350000.   795000.\n",
      "   345000.   400000.   600000.   579950.   425000.   170000.   500000.\n",
      "   350000.   599950.   285000.   525000.   525000.   450000.   315000.\n",
      "   198000.   260000.   113750.   200000.   600000.   800000.   450000.\n",
      "   315000.   780000.   440000.   475000.   415000.   600000.   350000.\n",
      "   400000.   450000.   440000.   400000.   445000.   510000.   170000.\n",
      "   400000.   449999.   250000.   190000.   550000.   400000.   575000.\n",
      "   200000.   650000.   300000.   950000.   350000.   390000.   349500.\n",
      "   470000.   465000.   180000.   400000.   485000.   270000.  3500000.\n",
      "   425000.   210000.   525000.   400000.   800000.   785000.   515000.\n",
      "   450000.   500000.   315000.   210000.   290000.   275000.   399950.\n",
      "   340000.   116250.   300000.   375000.   499000.   700000.   650000.\n",
      "   220000.   450000.   350000.   465000.   440000.   375000.   345000.\n",
      "   335000.   390000.   320000.   292000.   350000.   180000.   575000.\n",
      "   465000.   403195.   385000.   700000.   123250.   435000.  8000000.\n",
      "   545000.   240000.   120000.   265000.   525000.   350000.   335000.\n",
      "   550000.   330000.   500000.   450000.   430000.   450000.   550000.\n",
      "   425000.   500000.   475000.   500000.   550000.   250000.   370000.\n",
      "   350000.   325000.   335000.   345000.   475000.   325000.   200000.\n",
      "   190000.   495000.   600000.   388000.   345000.   420000.   431600.\n",
      "   475000.   450000.   350000.  1699000.   369500.   270000.   309950.\n",
      "   449950.   275000.   315000.   315000.   250000.   595000.   475000.\n",
      "   360000.   150000.   475000.   330000.   350000.   570000.   450000.\n",
      "   675000.   395000.   425000.   475000.   599950.   210000.   400000.\n",
      "   300000.   799950.   240000.   300000.   460000.   131250.   425000.\n",
      "   562000.   440000.   290000.   280000.   599950.   459950.   270000.\n",
      "   220000.  1950000.   275000.   475000.   325000.   490000.   450000.\n",
      "   300000.   325000.   775000.   400000.   315000.   240000.   415000.\n",
      "   875000.   400000.   430000.   460000.   345000.   345000.   350000.\n",
      "   260000.   350000.    95000.   870000.   200000.   230000.   399950.\n",
      "   515000.   110000.   260000.   315000.   400000.   835000.   370000.\n",
      "   400000.   270000.   600000.   162000.   600000.   570000.   650000.\n",
      "   595000.   300000.   280000.   125000.   425000.   410000.   375000.\n",
      "   525000.   800000.   380000.   350000.   345000.   235000.   280000.\n",
      "   700000.   225000.   215000.   349950.   385000.   350000.   700000.\n",
      "   535000.   395000.   250000.   265000.   470000.   375000.  3820000.\n",
      "   587000.   350000.   525000.   599950.   170000.   480000.   295000.\n",
      "   650000.   575000.   500000.   500000.   400000.   565000.   375000.\n",
      "   285000.   265000.   435000.   408000.   432000.   185000.   400000.\n",
      "   499950.   500000.   299950.   450000.   600000.   230000.   400000.\n",
      "   450000.   450000.   235000.   250000.   449950.   795000.   420000.\n",
      " 17000000.   400000.   245000.   475000.   440000.   550000.   350000.\n",
      "   725000.   749999.   400000.   495000.   400000.   579000.   450000.\n",
      "   475000.   260000.   485000.   400000.   230000.   600000.   235000.\n",
      "   295000.   400000.   400000.   500000.   375000.   275000.   299950.\n",
      "   395000.   475000.   599950.   300000.   450000.   185000.   350000.\n",
      "   350000.   324950.   225000.  2600000.   280000.   495000.   108750.\n",
      "   330000.   775000.   350000.   600000.   400000.   375000.   450000.\n",
      "  3500000.   350000.   115000.   325000.   350000.   230000.   310000.\n",
      "   250000.   450000.   375000.   210000.   465000.   315000.   685000.\n",
      "   650000.   199995.   450000.   295000.   375000.   560000.   360000.\n",
      "   950000.   715000.   280000.   550000.   165500.   574950.   475000.\n",
      "   164995.   280000.   275000.   349950.   375000.   340000.   300000.\n",
      "   425000.   442000.   500000.   375000.   700000.   170000.   475000.\n",
      "   465000.   450000.   650000.   275000.   475000.   350000.   575000.\n",
      "   274950.   275000.   450000.   300000.   725000.   500000.   350000.\n",
      "   225000.   425000.   250000.   415000.  2500000.   700000.   260000.\n",
      "   375000.   204000.   369995.   460000.   315000.   385000.   795000.\n",
      "   850000.   330000.   194999.   475000.   340000.   425000.   230000.\n",
      "   349950.   479000.   300000.   600000.   275000.  1600000.   445000.\n",
      "   525000.   325000.   550000.   500000.   875000.   425000.   455000.\n",
      "   350000.   365000.   480000.   565000.   350000.   570000.   860000.\n",
      "   290000.   625000.   360000.   365000.   550000.   365000.   144000.\n",
      "   700000.   525000.   280000.   795000.   230000.   379995.   575000.\n",
      "   300000.   285000.   205000.   270000.   500000.   259950.   600000.\n",
      "   830000.   500000.   600000.   220000.   395000.   375000.   437995.\n",
      "   350000.   439950.   400000.   600000.   450000.   825000.   350000.\n",
      "   315000.   190000.   130000.   375000.   525000.   600000.   400000.\n",
      "   300000.   450000.   370000.   500000.   460000.   340000.   500000.\n",
      "   445000.   799950.   435000.   495000.   425000.   180000.   500000.\n",
      "   450000.   350000.   560000.   595000.   850000.   410000.   325000.\n",
      "   575000.   275000.   425000.   300000.   310000.   325000.   180000.\n",
      "   269950.   575000.   450000.   450000.   310000.   365000.   239950.\n",
      "   600000.   359000.   385000.   450000.   325000.   273000.   750000.\n",
      "   204750.   450000.   600000.   235000.   150000.   150000.   350000.\n",
      "   375000.   305000.   375000.   250000.   775000.   499999.   230000.\n",
      "   275000.   285000.   795000.   425000.   260000.   550000.   315000.\n",
      "   250000.   550000.   285000.   375000.   320000.   309950.   450000.\n",
      "   230000.   450000.   375000.   435000.   375000.   360000.   399950.\n",
      "  4500000.   325000.   450000.   900000.   570000.   499950.   284000.\n",
      "   460000.   875000.   215000.   500000.   138000.   600000.   350000.\n",
      "   420000.   429000.   425000.   485000.   350000.   270000.   425000.\n",
      "   109800.   275000.   400000.   599000.   235000.   650000.   425000.\n",
      "   375000.   400000.   550000.   220000.   395000.   425000.   400000.\n",
      "   449995.   380000.   577500.   220000.   180000.   275000.   172000.\n",
      "   385000.   400000.   285000.   115000.   475000.   285000.   475000.\n",
      "   425000.   313500.   800000.   325000.   375000.   199950.   325000.\n",
      "   340000.   425000.   550000.   250000.   249999.   320000.   475000.\n",
      "   420000.   575000.   330000.   650000.   525000.   475000.   525000.\n",
      "   315000.   880000.   350000.   475000.   270000.   300000.   475000.\n",
      "   450000.   290000.   525000.   525000.   475000.   450000.   450000.\n",
      "   525000.   600000.   485000.   459995.   415000.   295000.   450000.\n",
      "   230000.   320000.   525000.   335000.   600000.   425000.   400000.\n",
      "   550000.   350000.   450000.   435000.   245000.   275000.   350000.\n",
      "   350000.   400000.   450000.   425000.   450000.   699000.   800000.\n",
      "   475000.   275000.   380000.   399950.   300000.   200000.   575000.\n",
      "   325000.   225000.   370000.   300000.   450000.   350000.   464995.\n",
      "   600000.   700000.   240000.   300000.   325000.   270000.   400000.\n",
      "   565000.   400000.   325000.   550000.   450000.   400000.   400000.\n",
      "   550000.   300000.   429000.   600000.   245000.   230000.   425000.\n",
      "   435000.   550000.   400000.   325000.   280000.   225000.   250000.\n",
      "   875000.   500000.   350000.   430000.   525000.   550000.   825000.\n",
      "   229950.   375000.   350000.   145000.   350000.   425000.   345000.\n",
      "   135000.   525000.   550000.   360000.   500000.   240000.   210000.\n",
      "   400000.   350000.   275000.   275000.   595000.   650000.   400000.\n",
      "   650000.   250000.   465000.   155000.   580000.   450000.  3000000.\n",
      "   500000.   500000.   475000.   450000.   820000.   300000.   475000.\n",
      "   550000.   375000.   250000.   425000.   460000.   320000.   400000.\n",
      "   895000.   135000.   200000.   445000.   450000.   450000.   345000.\n",
      "   399000.   275000.   300000.   300000.   325000.   400000.   450000.\n",
      "   532500.   575000.   300000.   470000.   425000.   483000.   325000.\n",
      "   165500.   350000.   275000.   600000.   350000.   230000.   370000.\n",
      "   400000.   485000.   550000.   425000.   275000.   595000.   425000.\n",
      "   847500.   220000.   517000.   825000.   235000.   325000.   350000.\n",
      "   425000.   270000.   210000.   650000.   425000.   439995.   305000.\n",
      "  1614000.   350000.   275000.   375000.   450000.   350000.   425000.\n",
      "   220000.   332000.   799500.   300000.   300000.   750000.   450000.\n",
      "   225000.   375000.   259950.   175000.   390000.   509950.   335000.\n",
      "   450000.   800000.   300000.   450000.   177900.   325000.   525000.\n",
      "  2500000.   325000.   290000.   585000.   499950.   450000.   465000.\n",
      "   278000.   450000.   425000.   329950.   400000.   119000.   350000.\n",
      "   700000.   320000.   575000.   275000.   225000.   880000.   575000.\n",
      "   585000.   549950.   325000.   250000.   349950.   320000.   389995.\n",
      "   320000.   299995.   265000.   230000.   230000.   600000.   200000.\n",
      "   220000.   339000.   550000.   215000.   250000.   259950.   425000.\n",
      "   300000.   300000.   678950.   300000.   320000.   599950.   440000.\n",
      "   375000.   439950.  1100000.   270000.   150000.   270000.   250000.]\n",
      "[  352684.75         311541.           403992.2          394446.55\n",
      "   472016.49         427831.91        1374674.75         358968.45\n",
      "   947689.125        411093.25         448087.475        494463.325\n",
      "   511430.7          394455.           549860.25         376634.92\n",
      "   346243.375        379286.2          429894.12         362152.\n",
      "   788789.75         496605.03333333   441762.975        318450.\n",
      "  2776332.5          456554.75         378366.1375       320884.5\n",
      "   322381.225        372119.825        478169.31428571   885297.25\n",
      "   534821.925        393240.25        1792449.74         295169.925\n",
      "   362333.995        353567.125        571794.225        298869.125\n",
      "   251549.975        586861.25         412760.75         613375.175\n",
      "   437299.05         577166.685        442095.525        480324.8\n",
      "   317844.925        530912.45         448274.745        334380.725\n",
      "   239137.5          724820.9375       798247.4          387449.82833333\n",
      "   393379.55         697004.245        379333.           453508.04833333\n",
      "   324085.           525746.735        264844.975        426249.825\n",
      "   424664.475        299958.575        431549.095        386402.4375\n",
      "   372994.24         313779.6          298098.175        441859.07\n",
      "   190724.74         309257.025        499765.           328074.875\n",
      "   592925.475        233993.5          391591.225        408485.375\n",
      "  1685550.           451868.35         259026.3125       350799.975\n",
      "   375887.49         471151.10833333   300062.075        347567.1\n",
      "   397157.675        304393.5         2126900.           388998.95\n",
      "   270923.29         475464.575        421204.425        828145.\n",
      "   659498.           494498.14         373271.475        406872.7\n",
      "   404513.37         231937.35         230189.675        248374.475\n",
      "   335150.825        355745.5          364958.45         289498.75\n",
      "   332314.95        1116724.675        642834.5          496464.925\n",
      "   309773.75         462294.975        442656.           370106.35\n",
      "   423422.475        429935.20833333   346168.75         363782.15\n",
      "   374724.5          318881.75         401758.75         344211.2\n",
      "   236250.           432892.03125      385123.07833333   440547.325\n",
      "   305779.715        894423.225        284442.50446429   454914.075\n",
      "   525324.845        448684.725        341701.45         318720.\n",
      "   264573.           354389.9          296624.75         268558.95\n",
      "   517442.745        299472.075        405656.25         465921.5\n",
      "   306644.75         326830.           350818.745        535545.75\n",
      "   505489.75         513113.725        447500.75         474580.57833333\n",
      "   306416.5          526956.25         340549.25         298069.775\n",
      "   415104.75         291527.5          288474.85         280621.\n",
      "   228949.975        432860.           453948.           352418.875\n",
      "   281184.26666667   479198.92         412057.25         393445.09166667\n",
      "   437829.5          384577.75         290010.          1171474.5\n",
      "   270850.995        359830.           402647.15         514124.55666667\n",
      "   236336.           262953.11666667   329166.225        266161.51666667\n",
      "   628374.75         512550.5          426657.475        246058.\n",
      "   520799.245        367624.475        341798.8          547029.5\n",
      "   441026.425       1022739.9          317849.975        407574.87\n",
      "   425902.5          612671.25         374964.62         392257.825\n",
      "   335686.825        776108.93         243868.24166667   379466.25\n",
      "   475984.975        234420.16666667   379998.75         423999.45\n",
      "   251452.2          382325.59         361235.           508221.7\n",
      "   515257.165        444439.15         225712.5         3733200.\n",
      "   391233.975        609822.           319205.55         514063.5\n",
      "   401823.0647619    409914.25         389804.165        729523.\n",
      "   416014.995        316709.01666667   281678.55         431340.72\n",
      "   414937.46428571   477275.           426731.625        419771.745\n",
      "   215585.           420867.875        294200.           311384.975\n",
      "   312425.           224271.54166667   928582.           220359.925\n",
      "   310173.675        480611.41666667   483902.35         469996.475\n",
      "   260554.75         309760.745        360122.375       1387620.\n",
      "   308629.425        430774.725        252672.25         540638.245\n",
      "   421895.75         534428.975        561177.75         447770.675\n",
      "   419494.525        487346.52         335984.95         333059.825\n",
      "   579564.245        326697.9          264784.575        527630.20833333\n",
      "  1042258.245        329052.99         351215.9          330029.975\n",
      "   269213.45         304092.625        693265.75         282084.00166667\n",
      "   344603.21         444342.75         438674.5          596428.5\n",
      "   519563.15666667   378138.6          378974.925        224528.975\n",
      "   370466.75         426736.5          342623.49         463174.2\n",
      "   546727.5          366974.75         804216.25         613365.75\n",
      "   176759.5          526220.625        338900.78         484512.04166667\n",
      "   432074.35         479817.25         701112.5          399797.58333333\n",
      "   549449.575        357694.775        494789.           250681.5\n",
      "   402552.275        284442.50446429   326389.5          329118.945\n",
      "   388899.675        413782.           560193.5          274995.5\n",
      "   517390.5          413041.           414249.75         280139.125\n",
      "   477074.2          539773.35         240583.75         344221.75\n",
      "   415599.125        901676.75         378239.525      15226400.\n",
      "   294704.55         312647.25         484022.725        462976.635\n",
      "   453787.025        342025.           735706.          1037796.725\n",
      "   403425.           328707.39         377889.01         588923.725\n",
      "   449124.025        406813.25         342952.91666667   443799.325\n",
      "   332967.65         244772.5          464312.375        276956.225\n",
      "   385797.725        354674.875        408449.975        546877.75\n",
      "   272169.975        245086.475        404312.91166667   343841.95\n",
      "   415524.975        500370.175        279757.125        324668.\n",
      "   220591.53333333   526340.           413699.8          393939.425\n",
      "   343322.25        1679400.           362914.2875       399614.375\n",
      "   453347.5          310618.5          902539.725        356522.65\n",
      "   445774.5          387169.61666667   633395.25         389775.\n",
      "  3434997.25         366849.975        274856.9          340589.475\n",
      "   598794.7          272036.775        316325.           330421.995\n",
      "   447579.5          501737.25         289294.32         463324.75\n",
      "   302300.74         711373.745        509297.08333333   256439.95\n",
      "   324150.           401444.45         331080.           564385.1\n",
      "   333656.25         767859.245        587942.           272276.25\n",
      "   498008.74         326646.75         348240.695        362167.\n",
      "   348098.375        274862.5          240304.           460810.11547619\n",
      "   691799.5          396313.7          346173.25         305274.42\n",
      "   336225.175        442218.9          405015.5          643218.99\n",
      "   424761.875        515824.25         700450.           352628.08333333\n",
      "   429437.125        360718.25         430475.           330459.4\n",
      "   431899.25         263672.825        488290.08333333   321422.475\n",
      "   385085.25         380611.225        446037.1          282681.74\n",
      "   316241.6          421549.95         351570.           333499.6\n",
      "  2084564.475        628171.72         259875.20833333   402363.5\n",
      "   164489.54801587   388764.4          517117.           297699.975\n",
      "   383109.           501283.575        435591.25         388409.25\n",
      "   194116.16666667   469350.625        278007.5          394650.\n",
      "   355156.225        346937.25         384837.485        315325.\n",
      "   482134.75         258818.75        1292400.           442639.25\n",
      "   410699.75         323234.5475       564074.           503812.5\n",
      "  1537299.49         450818.575        424224.975        339348.75\n",
      "   460731.125        514259.75         529532.5          424994.46\n",
      "   392056.6          672771.5          368286.375        434004.41666667\n",
      "   536098.25         372220.           415719.           385947.725\n",
      "   267627.83333333   774883.25         433015.           207244.9\n",
      "   410916.11666667   337502.5          396725.           544530.25\n",
      "   558494.           337468.75         374151.72083333   261544.175\n",
      "   491158.75         272068.9          521363.975        685049.725\n",
      "   558343.9          473564.25         417137.215        423844.40625\n",
      "   317174.           310262.1247619    334775.425        400074.5\n",
      "   447452.495        801002.975        302316.25         679520.\n",
      "   344151.49         323349.725        234081.975        230779.5\n",
      "   410622.07291667   528624.175        479799.325        429453.3\n",
      "   448740.755        521360.           444514.79166667   539249.5\n",
      "   438133.5          331216.555        488511.25         464886.75\n",
      "   510728.           538672.77         375715.465        498481.66666667\n",
      "   256785.5          512905.           459900.08333333   478179.25\n",
      "   459159.75         612219.75        1063499.75         409374.45\n",
      "   306400.           476449.           374073.92         389837.22\n",
      "   339459.475        369191.95         239358.           431085.245\n",
      "   260384.5          519347.915        376649.25         317147.\n",
      "   337742.25         404798.575        395433.98         707258.75\n",
      "   335749.5          383511.105        505665.           332289.94\n",
      "   286319.975        379905.           455124.5          458869.725\n",
      "   486289.           257146.2          504434.25         376966.625\n",
      "   263027.075        410511.985        267144.875        368834.85\n",
      "   318225.           756114.7          481672.74         294682.385\n",
      "   272133.36309524   344933.195        824516.25         411624.75\n",
      "   253587.5          427062.47         309649.975        248373.38333333\n",
      "   664199.25         295859.375        386662.45         615944.\n",
      "   453653.995        462670.995        373548.92         352601.95\n",
      "   337144.145        446983.95         358589.75         379974.25\n",
      "   359509.625       1795880.           332772.84166667   426274.725\n",
      "   761314.25         669395.           412058.695        318282.25\n",
      "   536086.95         744824.5          227223.75         541269.65\n",
      "   324051.7          351699.725        259981.25         853739.\n",
      "   584461.995        428748.775        397849.72         459770.965\n",
      "   232660.83333333   538473.5          322229.175        205992.75\n",
      "   491320.           454218.475        291370.25         434957.01488095\n",
      "   409425.975        457526.975        329438.5          404623.25\n",
      "   248894.875        343766.07333333   396768.           395517.685\n",
      "   471245.925        348354.425        443026.5          256915.375\n",
      "   417599.245        258364.875        230191.19940476   419860.475\n",
      "   399860.475        286414.925        345408.395        470084.37714286\n",
      "   242278.015        448440.           373250.           307057.57666667\n",
      "   544475.           250450.           352006.215        252132.42\n",
      "   176207.75         282093.75         416774.9          531774.21\n",
      "   276014.35         288106.           387969.475        427269.32\n",
      "   417402.56666667   488248.5902381    320469.775        723638.47\n",
      "   427840.           335889.3          440474.125        304703.43\n",
      "   520469.75         370623.9          413950.575        276190.\n",
      "   309423.85         409000.           445526.975        329561.745\n",
      "   370277.475        508905.5          549572.75         406375.\n",
      "   491990.375       1249989.5          594963.05833333   454274.345\n",
      "   482132.96547619   400630.225        369886.25         611417.\n",
      "   264166.25         339159.75         477877.35         377916.16666667\n",
      "   413041.           353518.56833333   349158.95         613291.5\n",
      "   499321.16666667   294768.53333333   537615.25         302753.775\n",
      "   264601.49         388812.475        430572.25         399495.\n",
      "   314583.6          437349.275        430292.25         822318.25\n",
      "   370277.5          658121.75         241907.96428571   303711.925\n",
      "   342997.935        304112.5          238612.375        453856.715\n",
      "   453325.           261037.225        483836.5          376295.\n",
      "   409325.5          383574.9          539249.725        542512.\n",
      "   777899.74         289599.745        427012.2          381316.925\n",
      "   315635.375        366224.75         532869.115        341584.95\n",
      "   292388.825        546898.           542943.725        384999.9\n",
      "   415975.           507049.2          351699.575        339669.875\n",
      "   432842.33333333   279906.85         222665.           430382.225\n",
      "   393969.085        487124.95         355849.025        420050.485\n",
      "   256224.925        391041.81         417294.975        625299.95\n",
      "   405549.55         309447.225        417204.45         523261.5\n",
      "   420316.475        977740.99         243855.68214286   366474.975\n",
      "   299438.75         214208.35         353794.945        395774.725\n",
      "   381392.21         320968.245        414872.95         357804.\n",
      "   337594.025        351806.825        227967.           336448.95\n",
      "   369199.625        461732.           311348.89         372015.975\n",
      "   429686.96428571   500799.5          390624.94         950105.\n",
      "   264900.           331949.85         206049.225        533629.\n",
      "   249925.          2358819.           473424.975        422099.925\n",
      "   479898.08333333   427421.205        662251.66         377668.75\n",
      "   475230.475        379810.495        519944.75         382830.875\n",
      "   394525.95         402371.           374171.095        373149.5\n",
      "   586512.75         210500.           259885.25         469765.175\n",
      "   452224.75         390612.5          276361.25         357354.925\n",
      "   273950.           341512.645        250583.2          334643.5\n",
      "   396924.975        441670.165        507125.5          531606.25\n",
      "   450242.975        580893.495        369149.65         435253.25\n",
      "   251107.275        305006.9          392684.33333333   384727.425\n",
      "   373388.5          306479.775        465359.375        319035.\n",
      "   403943.825        420728.5          544192.925        736264.5\n",
      "   397007.25833333   450584.63         346700.           535221.245\n",
      "   256775.           419150.          1350274.725        465851.\n",
      "   313236.435        353940.725        358614.55         337844.95\n",
      "   448588.125        501846.585        414814.495        383224.6\n",
      "   340613.80333333   816384.225        310499.9          486335.025\n",
      "   354804.95         442260.           423372.925        356821.08809524\n",
      "   447899.35         368171.45         464654.175        391412.5\n",
      "   343611.          1268369.75         499023.25         354965.75\n",
      "   393500.           282739.25         248060.33333333   439451.9\n",
      "   487183.5          264378.           405635.085        415000.625\n",
      "   455110.5          508686.           340474.925        306306.23\n",
      "   519671.4         1665250.           329706.65         222000.\n",
      "   436682.4          483731.5          378808.21         305464.275\n",
      "   313399.905        455845.725        288873.16666667   368669.5\n",
      "   379850.           216113.73333333   294170.           524758.94\n",
      "   319464.975        453268.75         311019.3          243506.89166667\n",
      "   963355.           708634.75         514927.125        498104.\n",
      "   232470.245        226374.15         382455.16666667   382936.92\n",
      "   383722.875        361741.           285654.225        217243.375\n",
      "   232724.225        378644.35         398630.75         343134.575\n",
      "   240805.           289561.           397214.5          400988.25625\n",
      "   298074.725        326159.35         333004.235        341699.975\n",
      "   268335.975        411257.25         477445.5          306998.625\n",
      "   430768.54166667   448177.25         451859.995        412578.45\n",
      "   888448.475        316470.6          252750.           308550.\n",
      "   289218.75      ]\n"
     ]
    }
   ],
   "source": [
    "print(y_test.values)\n",
    "print(y_pred)"
   ],
   "metadata": {
    "collapsed": false,
    "pycharm": {
     "name": "#%%\n"
    }
   }
  },
  {
   "cell_type": "code",
   "execution_count": 51,
   "outputs": [
    {
     "data": {
      "text/plain": "[(17000000.0, 15226400.0),\n (8000000.0, 525324.845),\n (4500000.0, 1795880.0),\n (3820000.0, 463174.2),\n (3500000.0, 3434997.25),\n (3500000.0, 2126900.0),\n (3000000.0, 2358819.0),\n (2600000.0, 1679400.0),\n (2595000.0, 2776332.5),\n (2500000.0, 2084564.475),\n (2500000.0, 1665250.0),\n (1950000.0, 3733200.0),\n (1750000.0, 1374674.75),\n (1699000.0, 1171474.5),\n (1614000.0, 816384.225),\n (1600000.0, 1292400.0),\n (1100000.0, 888448.475),\n (950000.0, 1685550.0),\n (950000.0, 788789.75),\n (950000.0, 767859.245),\n (900000.0, 761314.25),\n (895000.0, 586512.75),\n (880000.0, 963355.0),\n (880000.0, 520469.75),\n (875000.0, 1537299.49),\n (875000.0, 744824.5),\n (875000.0, 625299.95),\n (875000.0, 414937.4642857143),\n (870000.0, 928582.0),\n (860000.0, 672771.5),\n (850000.0, 1063499.75),\n (850000.0, 435591.25),\n (847500.0, 535221.245),\n (835000.0, 1387620.0),\n (830000.0, 685049.725),\n (825000.0, 1350274.725),\n (825000.0, 977740.99),\n (825000.0, 679520.0),\n (820000.0, 662251.66),\n (800000.0, 1042258.245),\n (800000.0, 828145.0),\n (800000.0, 798247.4),\n (800000.0, 544475.0),\n (800000.0, 415000.625),\n (800000.0, 370277.5),\n (799950.0, 776108.93),\n (799950.0, 510728.0),\n (799500.0, 464654.175),\n (795000.0, 1792449.74),\n (795000.0, 901676.75),\n (795000.0, 824516.25),\n (795000.0, 501283.575),\n (795000.0, 456554.75),\n (795000.0, 410916.11666666664),\n (785000.0, 659498.0),\n (780000.0, 697004.245),\n (775000.0, 902539.725),\n (775000.0, 756114.7),\n (775000.0, 729523.0),\n (750000.0, 1268369.75),\n (750000.0, 947689.125),\n (750000.0, 379905.0),\n (749999.0, 1037796.725),\n (725000.0, 735706.0),\n (725000.0, 380611.225),\n (715000.0, 587942.0),\n (700000.0, 894423.225),\n (700000.0, 777899.74),\n (700000.0, 774883.25),\n (700000.0, 693265.75),\n (700000.0, 643218.99),\n (700000.0, 642834.5),\n (700000.0, 628171.72),\n (700000.0, 549860.25),\n (700000.0, 524758.94),\n (700000.0, 519563.15666666673),\n (699000.0, 822318.25),\n (685000.0, 711373.745),\n (678950.0, 411257.25),\n (675000.0, 1022739.9),\n (650000.0, 950105.0),\n (650000.0, 723638.47),\n (650000.0, 509297.08333333326),\n (650000.0, 501846.585),\n (650000.0, 500799.5),\n (650000.0, 496464.925),\n (650000.0, 484512.04166666674),\n (650000.0, 447770.675),\n (650000.0, 434957.01488095237),\n (650000.0, 429437.125),\n (650000.0, 391591.225),\n (625000.0, 885297.25),\n (625000.0, 434004.4166666665),\n (600000.0, 801002.975),\n (600000.0, 724820.9375),\n (600000.0, 707258.75),\n (600000.0, 594963.0583333332),\n (600000.0, 542512.0),\n (600000.0, 540638.245),\n (600000.0, 534821.925),\n (600000.0, 534428.975),\n (600000.0, 525746.735),\n (600000.0, 521363.975),\n (600000.0, 486289.0),\n (600000.0, 482134.75),\n (600000.0, 479799.32499999995),\n (600000.0, 473564.25),\n (600000.0, 464312.375),\n (600000.0, 445774.5),\n (600000.0, 432842.3333333334),\n (600000.0, 413041.0),\n (600000.0, 413041.0),\n (600000.0, 398630.75),\n (600000.0, 373388.5),\n (600000.0, 353567.125),\n (600000.0, 352418.875),\n (600000.0, 351699.725),\n (599950.0, 613375.175),\n (599950.0, 613365.75),\n (599950.0, 612671.25),\n (599950.0, 508221.7),\n (599950.0, 500370.175),\n (599950.0, 430768.54166666674),\n (599000.0, 454218.475),\n (595000.0, 628374.75),\n (595000.0, 612219.75),\n (595000.0, 450584.63),\n (595000.0, 429686.96428571426),\n (595000.0, 419494.525),\n (595000.0, 376634.92),\n (587000.0, 546727.5),\n (585000.0, 514927.125),\n (585000.0, 436682.4),\n (580000.0, 533629.0),\n (579950.0, 571794.225),\n (579000.0, 588923.725),\n (577500.0, 443026.5),\n (575000.0, 708634.75),\n (575000.0, 592925.475),\n (575000.0, 544530.25),\n (575000.0, 531606.25),\n (575000.0, 519347.915),\n (575000.0, 488248.5902380953),\n (575000.0, 476449.0),\n (575000.0, 453856.715),\n (575000.0, 453268.75),\n (575000.0, 432892.03125),\n (575000.0, 432074.35),\n (575000.0, 431899.25),\n (575000.0, 427831.91),\n (574950.0, 348240.695),\n (570000.0, 669395.0),\n (570000.0, 561177.75),\n (570000.0, 547029.5),\n (570000.0, 394455.0),\n (570000.0, 392056.6),\n (565000.0, 549449.575),\n (565000.0, 532869.115),\n (565000.0, 529532.5),\n (562000.0, 423999.45),\n (560000.0, 564385.1),\n (560000.0, 459159.75),\n (550000.0, 664199.25),\n (550000.0, 613291.5),\n (550000.0, 564074.0),\n (550000.0, 546898.0),\n (550000.0, 544192.925),\n (550000.0, 531774.21),\n (550000.0, 517442.745),\n (550000.0, 511430.7),\n (550000.0, 507049.2),\n (550000.0, 499765.0),\n (550000.0, 498008.74),\n (550000.0, 487124.95),\n (550000.0, 474580.5783333333),\n (550000.0, 453787.025),\n (550000.0, 427062.47),\n (550000.0, 420316.475),\n (550000.0, 415719.0),\n (550000.0, 404623.25),\n (550000.0, 397214.5),\n (550000.0, 379810.495),\n (550000.0, 357804.0),\n (550000.0, 350818.745),\n (549950.0, 498104.0),\n (545000.0, 448684.725),\n (535000.0, 378138.6),\n (532500.0, 507125.5),\n (525000.0, 1249989.5),\n (525000.0, 804216.25),\n (525000.0, 577166.685),\n (525000.0, 528624.175),\n (525000.0, 527630.2083333334),\n (525000.0, 523261.5),\n (525000.0, 519671.4),\n (525000.0, 508905.5),\n (525000.0, 477877.35),\n (525000.0, 475464.575),\n (525000.0, 442095.525),\n (525000.0, 440474.125),\n (525000.0, 433015.0),\n (525000.0, 427840.0),\n (525000.0, 414872.95),\n (525000.0, 410699.75),\n (525000.0, 370277.475),\n (525000.0, 354389.9),\n (517000.0, 419150.0),\n (515000.0, 494498.14),\n (515000.0, 483902.35),\n (510000.0, 372994.24),\n (509950.0, 487183.5),\n (500000.0, 701112.5),\n (500000.0, 586861.25),\n (500000.0, 560193.5),\n (500000.0, 558343.9),\n (500000.0, 546877.75),\n (500000.0, 541269.65),\n (500000.0, 539249.5),\n (500000.0, 512905.0),\n (500000.0, 505489.75),\n (500000.0, 503812.5),\n (500000.0, 494463.325),\n (500000.0, 491158.75),\n (500000.0, 488511.25),\n (500000.0, 479817.25),\n (500000.0, 473424.975),\n (500000.0, 447500.75),\n (500000.0, 446037.1),\n (500000.0, 442218.9),\n (500000.0, 422099.925),\n (500000.0, 406872.7),\n (500000.0, 405656.25),\n (500000.0, 405549.55),\n (500000.0, 352684.75),\n (500000.0, 351806.825),\n (499999.0, 481672.74),\n (499950.0, 483731.5),\n (499950.0, 413782.0),\n (499950.0, 412058.695),\n (499000.0, 1116724.675),\n (495000.0, 453948.0),\n (495000.0, 399614.375),\n (495000.0, 375715.465),\n (495000.0, 328707.39),\n (490000.0, 514063.5),\n (485000.0, 454274.345),\n (485000.0, 443799.325),\n (485000.0, 420728.5),\n (485000.0, 397849.72),\n (485000.0, 397157.675),\n (483000.0, 435253.25),\n (480000.0, 526220.625),\n (480000.0, 514259.75),\n (479000.0, 384837.485),\n (475000.0, 658121.75),\n (475000.0, 609822.0),\n (475000.0, 549572.75),\n (475000.0, 520799.245),\n (475000.0, 515824.25),\n (475000.0, 513113.725),\n (475000.0, 512550.5),\n (475000.0, 496605.03333333327),\n (475000.0, 484022.725),\n (475000.0, 479898.08333333326),\n (475000.0, 475230.475),\n (475000.0, 470084.3771428572),\n (475000.0, 469350.625),\n (475000.0, 453508.0483333333),\n (475000.0, 448440.0),\n (475000.0, 441762.975),\n (475000.0, 437829.5),\n (475000.0, 430475.0),\n (475000.0, 427269.32),\n (475000.0, 425902.5),\n (475000.0, 415524.975),\n (475000.0, 413950.575),\n (475000.0, 409000.0),\n (475000.0, 406813.25),\n (475000.0, 362167.0),\n (475000.0, 335889.3),\n (475000.0, 288474.85),\n (470000.0, 580893.495),\n (470000.0, 426736.5),\n (470000.0, 375887.49),\n (465000.0, 700450.0),\n (465000.0, 471151.10833333334),\n (465000.0, 463324.75),\n (465000.0, 385123.0783333333),\n (465000.0, 370106.35),\n (465000.0, 331949.85),\n (465000.0, 305464.275),\n (464995.0, 539249.725),\n (460000.0, 536086.95),\n (460000.0, 517117.0),\n (460000.0, 475984.975),\n (460000.0, 438133.5),\n (460000.0, 419771.745),\n (460000.0, 402371.0),\n (459995.0, 482132.9654761906),\n (459950.0, 515257.165),\n (455000.0, 424224.975),\n (450000.0, 611417.0),\n (450000.0, 542943.725),\n (450000.0, 539773.35),\n (450000.0, 521360.0),\n (450000.0, 517390.5),\n (450000.0, 508686.0),\n (450000.0, 505665.0),\n (450000.0, 499023.25),\n (450000.0, 491990.375),\n (450000.0, 480324.8),\n (450000.0, 477074.2),\n (450000.0, 465921.5),\n (450000.0, 462670.995),\n (450000.0, 462294.975),\n (450000.0, 459900.08333333326),\n (450000.0, 458869.725),\n (450000.0, 455845.725),\n (450000.0, 452224.75),\n (450000.0, 449124.025),\n (450000.0, 447579.5),\n (450000.0, 445526.975),\n (450000.0, 442260.0),\n (450000.0, 441670.165),\n (450000.0, 441026.425),\n (450000.0, 430292.25),\n (450000.0, 427421.205),\n (450000.0, 426274.725),\n (450000.0, 424664.475),\n (450000.0, 409325.5),\n (450000.0, 406375.0),\n (450000.0, 405635.085),\n (450000.0, 401823.06476190477),\n (450000.0, 390612.5),\n (450000.0, 389775.0),\n (450000.0, 387449.8283333333),\n (450000.0, 384577.75),\n (450000.0, 378808.21),\n (450000.0, 376649.25),\n (450000.0, 373271.475),\n (450000.0, 362152.0),\n (450000.0, 352628.08333333326),\n (450000.0, 352601.95),\n (450000.0, 326830.0),\n (450000.0, 324668.0),\n (450000.0, 324150.0),\n (450000.0, 321422.475),\n (450000.0, 317147.0),\n (450000.0, 314583.6),\n (450000.0, 302316.25),\n (450000.0, 294768.5333333334),\n (450000.0, 249925.0),\n (449999.0, 441859.07),\n (449995.0, 471245.925),\n (449950.0, 514124.5566666667),\n (449950.0, 415599.125),\n (445000.0, 469765.175),\n (445000.0, 464886.75),\n (445000.0, 442639.25),\n (445000.0, 386402.4375),\n (442000.0, 336225.175),\n (440000.0, 462976.635),\n (440000.0, 448177.25),\n (440000.0, 423422.475),\n (440000.0, 379333.0),\n (440000.0, 299958.575),\n (440000.0, 251452.2),\n (439995.0, 383224.6),\n (439950.0, 412578.45),\n (439950.0, 400074.5),\n (437995.0, 310262.12476190476),\n (435000.0, 538672.77),\n (435000.0, 537615.25),\n (435000.0, 454914.075),\n (435000.0, 446983.95),\n (435000.0, 402552.275),\n (435000.0, 393969.085),\n (432000.0, 326389.5),\n (431600.0, 393445.09166666673),\n (430000.0, 426731.625),\n (430000.0, 417204.45),\n (430000.0, 306644.75),\n (429000.0, 584461.995),\n (429000.0, 339669.875),\n (425000.0, 736264.5),\n (425000.0, 579564.245),\n (425000.0, 538473.5),\n (425000.0, 535545.75),\n (425000.0, 498481.66666666674),\n (425000.0, 450818.575),\n (425000.0, 437349.275),\n (425000.0, 430382.225),\n (425000.0, 429894.12),\n (425000.0, 428748.775),\n (425000.0, 421549.95),\n (425000.0, 416774.9),\n (425000.0, 414814.495),\n (425000.0, 411624.75),\n (425000.0, 409425.975),\n (425000.0, 407574.87),\n (425000.0, 396768.0),\n (425000.0, 395774.725),\n (425000.0, 394650.0),\n (425000.0, 394525.95),\n (425000.0, 389837.22),\n (425000.0, 388998.95),\n (425000.0, 379998.75),\n (425000.0, 373250.0),\n (425000.0, 369149.65),\n (425000.0, 358614.55),\n (425000.0, 356821.0880952381),\n (425000.0, 353518.5683333333),\n (425000.0, 346700.0),\n (425000.0, 333004.235),\n (425000.0, 305274.42),\n (425000.0, 298869.125),\n (425000.0, 288873.1666666667),\n (420000.0, 853739.0),\n (420000.0, 417402.5666666667),\n (420000.0, 412057.25),\n (420000.0, 378239.525),\n (415000.0, 431340.72),\n (415000.0, 400630.225),\n (415000.0, 333499.6),\n (415000.0, 324085.0),\n (410000.0, 409374.45),\n (410000.0, 326697.9),\n (408000.0, 284442.50446428574),\n (403195.0, 440547.325),\n (400000.0, 491320.0),\n (400000.0, 478169.31428571424),\n (400000.0, 477275.0),\n (400000.0, 447452.495),\n (400000.0, 431549.095),\n (400000.0, 430774.725),\n (400000.0, 429453.3),\n (400000.0, 426249.825),\n (400000.0, 421204.425),\n (400000.0, 416014.99500000005),\n (400000.0, 415975.0),\n (400000.0, 408449.975),\n (400000.0, 403943.825),\n (400000.0, 403425.0),\n (400000.0, 399860.475),\n (400000.0, 399797.58333333326),\n (400000.0, 399495.0),\n (400000.0, 396924.975),\n (400000.0, 395517.685),\n (400000.0, 392257.825),\n (400000.0, 390624.94),\n (400000.0, 388899.675),\n (400000.0, 387169.6166666667),\n (400000.0, 384999.9),\n (400000.0, 379850.0),\n (400000.0, 378366.13749999995),\n (400000.0, 377889.01),\n (400000.0, 373149.5),\n (400000.0, 369199.625),\n (400000.0, 366224.75),\n (400000.0, 362333.995),\n (400000.0, 360122.375),\n (400000.0, 355849.025),\n (400000.0, 354674.875),\n (400000.0, 349158.95),\n (400000.0, 347567.1),\n (400000.0, 346243.375),\n (400000.0, 341584.95),\n (400000.0, 332967.65),\n (400000.0, 329438.50000000006),\n (400000.0, 328074.875),\n (400000.0, 298098.175),\n (400000.0, 294704.55),\n (400000.0, 280139.125),\n (399950.0, 480611.41666666674),\n (399950.0, 472016.49),\n (399950.0, 359509.625),\n (399950.0, 342997.935),\n (399950.0, 335150.825),\n (399000.0, 357354.925),\n (395000.0, 423844.40625),\n (395000.0, 378974.925),\n (395000.0, 343841.95),\n (395000.0, 343766.0733333333),\n (395000.0, 317849.975),\n (390000.0, 439451.9),\n (390000.0, 374724.5),\n (390000.0, 259026.3125),\n (389995.0, 383722.875),\n (388000.0, 281184.26666666666),\n (385000.0, 438674.5),\n (385000.0, 419860.475),\n (385000.0, 383511.105),\n (385000.0, 383109.0),\n (385000.0, 305779.715),\n (380000.0, 348354.425),\n (380000.0, 329052.99),\n (380000.0, 303711.925),\n (379995.0, 396725.0),\n (375000.0, 691799.5),\n (375000.0, 633395.25),\n (375000.0, 519944.75),\n (375000.0, 501737.25),\n (375000.0, 457526.975),\n (375000.0, 451859.995),\n (375000.0, 429935.20833333326),\n (375000.0, 410622.0729166666),\n (375000.0, 410511.985),\n (375000.0, 405015.5),\n (375000.0, 402363.5),\n (375000.0, 394446.55),\n (375000.0, 393500.0),\n (375000.0, 386662.45),\n (375000.0, 368834.85),\n (375000.0, 366474.975),\n (375000.0, 358589.75),\n (375000.0, 357694.775),\n (375000.0, 354804.95),\n (375000.0, 352006.215),\n (375000.0, 342623.49),\n (375000.0, 337144.145),\n (375000.0, 332314.95),\n (375000.0, 331080.0),\n (375000.0, 317174.0),\n (375000.0, 272169.975),\n (375000.0, 264784.575),\n (370000.0, 526956.25),\n (370000.0, 483836.5),\n (370000.0, 444514.7916666666),\n (370000.0, 319035.0),\n (370000.0, 308629.425),\n (369995.0, 388764.4),\n (369500.0, 270850.995),\n (365000.0, 460731.125),\n (365000.0, 404798.575),\n (365000.0, 385947.725),\n (365000.0, 372220.0),\n (360000.0, 536098.25),\n (360000.0, 426657.475),\n (360000.0, 379974.25),\n (360000.0, 337594.025),\n (360000.0, 333656.25),\n (359000.0, 335749.5),\n (350000.0, 598794.7),\n (350000.0, 596428.5),\n (350000.0, 526340.0),\n (350000.0, 499321.16666666674),\n (350000.0, 478179.25),\n (350000.0, 461732.0),\n (350000.0, 459770.965),\n (350000.0, 451868.35),\n (350000.0, 442656.0),\n (350000.0, 430572.25),\n (350000.0, 424994.46),\n (350000.0, 423372.925),\n (350000.0, 413699.8),\n (350000.0, 412760.75),\n (350000.0, 393240.25),\n (350000.0, 392684.33333333326),\n (350000.0, 388812.475),\n (350000.0, 383574.9),\n (350000.0, 379286.2),\n (350000.0, 370623.9),\n (350000.0, 366974.75),\n (350000.0, 366849.975),\n (350000.0, 356522.65),\n (350000.0, 353940.725),\n (350000.0, 353794.945),\n (350000.0, 351215.9),\n (350000.0, 344211.2),\n (350000.0, 344151.49),\n (350000.0, 342025.0),\n (350000.0, 341798.8),\n (350000.0, 340549.25),\n (350000.0, 339348.75),\n (350000.0, 334775.425),\n (350000.0, 330459.4),\n (350000.0, 312425.0),\n (350000.0, 310499.9),\n (350000.0, 309447.225),\n (350000.0, 306479.775),\n (350000.0, 299438.75),\n (350000.0, 296624.75),\n (350000.0, 294200.0),\n (350000.0, 294170.0),\n (350000.0, 290010.0),\n (350000.0, 282681.74),\n (350000.0, 264844.975),\n (350000.0, 263027.075),\n (350000.0, 259981.25),\n (349950.0, 460810.11547619046),\n (349950.0, 444342.75),\n (349950.0, 382455.16666666674),\n (349950.0, 346937.25),\n (349500.0, 350799.975),\n (345000.0, 479198.92),\n (345000.0, 420867.875),\n (345000.0, 381392.21),\n (345000.0, 346168.75),\n (345000.0, 330029.975),\n (345000.0, 295169.925),\n (345000.0, 291527.5),\n (345000.0, 276361.25),\n (345000.0, 215585.0),\n (340000.0, 396313.7),\n (340000.0, 355745.5),\n (340000.0, 331216.555),\n (340000.0, 282093.75),\n (340000.0, 278007.5),\n (339000.0, 289561.0),\n (335000.0, 415104.75),\n (335000.0, 377916.1666666666),\n (335000.0, 363782.15),\n (335000.0, 268558.95),\n (335000.0, 264378.0),\n (332000.0, 368171.45),\n (330000.0, 388409.25),\n (330000.0, 367624.475),\n (330000.0, 320469.775),\n (330000.0, 310618.5),\n (330000.0, 299472.075),\n (329950.0, 368669.5),\n (329950.0, 320884.5),\n (325000.0, 453325.0),\n (325000.0, 420050.485),\n (325000.0, 403992.2),\n (325000.0, 389804.165),\n (325000.0, 381316.925),\n (325000.0, 340589.475),\n (325000.0, 334643.5),\n (325000.0, 332772.8416666667),\n (325000.0, 332289.94),\n (325000.0, 329706.65),\n (325000.0, 323234.5475),\n (325000.0, 319205.55),\n (325000.0, 313236.435),\n (325000.0, 311541.0),\n (325000.0, 306400.0),\n (325000.0, 306306.23),\n (325000.0, 298069.775),\n (325000.0, 292388.825),\n (325000.0, 280621.0),\n (325000.0, 251107.275),\n (325000.0, 250450.0),\n (325000.0, 239358.0),\n (325000.0, 232470.245),\n (325000.0, 176207.75),\n (324950.0, 393939.425),\n (320000.0, 615944.0),\n (320000.0, 387969.475),\n (320000.0, 382936.92),\n (320000.0, 374171.095),\n (320000.0, 361741.0),\n (320000.0, 339159.75),\n (320000.0, 319464.975),\n (320000.0, 318881.75),\n (320000.0, 306998.625),\n (315000.0, 411093.25),\n (315000.0, 404513.37),\n (315000.0, 393379.55),\n (315000.0, 329166.225),\n (315000.0, 323349.725),\n (315000.0, 322381.225),\n (315000.0, 317844.925),\n (315000.0, 316709.01666666666),\n (315000.0, 309760.745),\n (315000.0, 309649.975),\n (315000.0, 304703.43),\n (315000.0, 302300.74),\n (315000.0, 297699.975),\n (315000.0, 262953.11666666664),\n (313500.0, 307057.5766666667),\n (310000.0, 369191.95),\n (310000.0, 337742.25),\n (310000.0, 316325.0),\n (309950.0, 453653.995),\n (309950.0, 402647.15),\n (305000.0, 340613.8033333333),\n (305000.0, 267144.875),\n (300000.0, 558494.0),\n (300000.0, 487346.52),\n (300000.0, 477445.5),\n (300000.0, 455110.5),\n (300000.0, 450242.975),\n (300000.0, 448740.755),\n (300000.0, 427012.2),\n (300000.0, 409914.25),\n (300000.0, 408485.375),\n (300000.0, 391412.5),\n (300000.0, 385085.25),\n (300000.0, 379466.25),\n (300000.0, 377668.75),\n (300000.0, 376295.0),\n (300000.0, 351699.575),\n (300000.0, 346173.25),\n (300000.0, 343611.0),\n (300000.0, 341699.975),\n (300000.0, 341512.645),\n (300000.0, 339459.475),\n (300000.0, 335686.825),\n (300000.0, 315325.0),\n (300000.0, 309423.85),\n (300000.0, 304112.5),\n (300000.0, 289498.75),\n (300000.0, 279757.125),\n (300000.0, 268335.975),\n (300000.0, 250583.2),\n (299995.0, 285654.225),\n (299950.0, 404312.91166666674),\n (299950.0, 274995.5),\n (295000.0, 401444.45),\n (295000.0, 385797.725),\n (295000.0, 369886.25),\n (295000.0, 338900.78),\n (292000.0, 401758.75),\n (290000.0, 382325.59),\n (290000.0, 368286.375),\n (290000.0, 329561.745),\n (290000.0, 230189.675),\n (290000.0, 222000.0),\n (285000.0, 494789.0),\n (285000.0, 437299.05),\n (285000.0, 344933.195),\n (285000.0, 337468.75),\n (285000.0, 295859.375),\n (285000.0, 286414.925),\n (285000.0, 242278.015),\n (284000.0, 318282.25),\n (280000.0, 362914.2875),\n (280000.0, 361235.0),\n (280000.0, 335984.95),\n (280000.0, 304092.625),\n (280000.0, 274862.5),\n (280000.0, 272276.25),\n (280000.0, 256224.925),\n (280000.0, 207244.9),\n (278000.0, 313399.905),\n (275000.0, 488290.0833333334),\n (275000.0, 486335.025),\n (275000.0, 448087.475),\n (275000.0, 397007.2583333333),\n (275000.0, 391233.975),\n (275000.0, 384727.425),\n (275000.0, 374073.92),\n (275000.0, 372119.825),\n (275000.0, 372015.975),\n (275000.0, 360718.25),\n (275000.0, 311348.89),\n (275000.0, 311019.3),\n (275000.0, 273950.0),\n (275000.0, 272133.3630952381),\n (275000.0, 264601.49),\n (275000.0, 258818.75),\n (275000.0, 258364.875),\n (275000.0, 248374.475),\n (275000.0, 245086.475),\n (275000.0, 241907.9642857143),\n (275000.0, 240304.0),\n (275000.0, 236336.0),\n (275000.0, 205992.75),\n (274950.0, 263672.825),\n (273000.0, 286319.975),\n (270000.0, 444439.15),\n (270000.0, 359830.0),\n (270000.0, 358968.45),\n (270000.0, 337844.95),\n (270000.0, 318450.0),\n (270000.0, 316470.6),\n (270000.0, 315635.375),\n (270000.0, 308550.0),\n (270000.0, 304393.5),\n (270000.0, 276190.0),\n (270000.0, 261544.175),\n (270000.0, 252672.25),\n (270000.0, 232660.8333333333),\n (269950.0, 260384.5),\n (265000.0, 370466.75),\n (265000.0, 264573.0),\n (265000.0, 250681.5),\n (265000.0, 217243.375),\n (260000.0, 448274.745),\n (260000.0, 342952.9166666666),\n (260000.0, 311384.975),\n (260000.0, 260554.75),\n (260000.0, 259875.2083333333),\n (260000.0, 253587.5),\n (259950.0, 326159.35),\n (259950.0, 282739.25),\n (259950.0, 272068.9),\n (250000.0, 417294.975),\n (250000.0, 382830.875),\n (250000.0, 351570.0),\n (250000.0, 344221.75),\n (250000.0, 330421.995),\n (250000.0, 318225.0),\n (250000.0, 306416.5),\n (250000.0, 298074.725),\n (250000.0, 289218.75),\n (250000.0, 276014.35),\n (250000.0, 266161.51666666666),\n (250000.0, 264900.0),\n (250000.0, 248373.38333333336),\n (250000.0, 226374.15),\n (250000.0, 224528.975),\n (250000.0, 190724.74),\n (249999.0, 288106.0),\n (245000.0, 312647.25),\n (245000.0, 302753.775),\n (245000.0, 279906.85),\n (240000.0, 341701.45),\n (240000.0, 289599.745),\n (240000.0, 281678.55),\n (240000.0, 243868.24166666664),\n (240000.0, 227967.0),\n (239950.0, 395433.98),\n (235000.0, 465851.0),\n (235000.0, 291370.25),\n (235000.0, 276956.225),\n (235000.0, 269213.45),\n (235000.0, 257146.2),\n (235000.0, 240583.75),\n (230000.0, 465359.375),\n (230000.0, 414249.75),\n (230000.0, 378644.35),\n (230000.0, 373548.92),\n (230000.0, 355156.225),\n (230000.0, 337502.5),\n (230000.0, 310173.675),\n (230000.0, 294682.385),\n (230000.0, 272036.775),\n (230000.0, 264166.25),\n (230000.0, 244772.5),\n (230000.0, 232724.225),\n (230000.0, 222665.0),\n (229950.0, 243855.6821428571),\n (225000.0, 391041.81),\n (225000.0, 354965.75),\n (225000.0, 343322.25),\n (225000.0, 316241.6),\n (225000.0, 282084.00166666665),\n (225000.0, 261037.225),\n (225000.0, 243506.8916666667),\n (220000.0, 447899.35),\n (220000.0, 417137.215),\n (220000.0, 309773.75),\n (220000.0, 256915.375),\n (220000.0, 256775.0),\n (220000.0, 248894.875),\n (220000.0, 240805.0),\n (220000.0, 225712.5),\n (215000.0, 400988.25625),\n (215000.0, 344603.21),\n (215000.0, 227223.75),\n (210000.0, 448588.125),\n (210000.0, 374964.62),\n (210000.0, 336448.95),\n (210000.0, 289294.32),\n (210000.0, 270923.29),\n (210000.0, 231937.35),\n (205000.0, 374151.72083333327),\n (204750.0, 455124.5),\n (204000.0, 164489.548015873),\n (200000.0, 343134.575),\n (200000.0, 259885.25),\n (200000.0, 239137.5),\n (200000.0, 238612.375),\n (200000.0, 233993.5),\n (200000.0, 228949.975),\n (200000.0, 220359.925),\n (199995.0, 256439.95),\n (199950.0, 252132.42),\n (198000.0, 530912.45),\n (194999.0, 194116.16666666663),\n (190000.0, 432860.0),\n (190000.0, 309257.025),\n (190000.0, 234081.975),\n (185000.0, 329118.945),\n (185000.0, 220591.53333333333),\n (180000.0, 431085.245),\n (180000.0, 417599.245),\n (180000.0, 300062.075),\n (180000.0, 256785.5),\n (180000.0, 236250.0),\n (177900.0, 340474.925),\n (175000.0, 248060.3333333333),\n (172000.0, 230191.19940476198),\n (170000.0, 424761.875),\n (170000.0, 313779.6),\n (170000.0, 251549.975),\n (170000.0, 176759.5),\n (165500.0, 326646.75),\n (165500.0, 305006.9),\n (164995.0, 348098.375),\n (162000.0, 421895.75),\n (155000.0, 206049.225),\n (150000.0, 504434.25),\n (150000.0, 376966.625),\n (150000.0, 252750.0),\n (150000.0, 246058.0),\n (145000.0, 214208.35),\n (144000.0, 267627.8333333333),\n (138000.0, 324051.7),\n (135000.0, 320968.245),\n (135000.0, 210500.0),\n (131250.0, 234420.16666666663),\n (130000.0, 230779.5),\n (125000.0, 333059.825),\n (123250.0, 284442.50446428574),\n (120000.0, 318720.0),\n (119000.0, 216113.7333333333),\n (116250.0, 364958.45),\n (115000.0, 345408.395),\n (115000.0, 274856.9),\n (113750.0, 334380.725),\n (110000.0, 469996.475),\n (109800.0, 322229.175),\n (108750.0, 453347.5),\n (95000.0, 224271.54166666663)]"
     },
     "execution_count": 51,
     "metadata": {},
     "output_type": "execute_result"
    }
   ],
   "source": [
    "sorted(zip(y_test,y_pred),reverse=True)"
   ],
   "metadata": {
    "collapsed": false,
    "pycharm": {
     "name": "#%%\n"
    }
   }
  }
 ],
 "metadata": {
  "kernelspec": {
   "display_name": "Python 3",
   "language": "python",
   "name": "python3"
  },
  "language_info": {
   "codemirror_mode": {
    "name": "ipython",
    "version": 2
   },
   "file_extension": ".py",
   "mimetype": "text/x-python",
   "name": "python",
   "nbconvert_exporter": "python",
   "pygments_lexer": "ipython2",
   "version": "2.7.6"
  }
 },
 "nbformat": 4,
 "nbformat_minor": 0
}