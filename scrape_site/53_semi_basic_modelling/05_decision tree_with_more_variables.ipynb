{
 "cells": [
  {
   "cell_type": "code",
   "execution_count": 25,
   "metadata": {
    "collapsed": true,
    "pycharm": {
     "name": "#%%\n"
    }
   },
   "outputs": [],
   "source": [
    "from sklearn.model_selection import train_test_split\n",
    "from sklearn.tree import DecisionTreeRegressor\n",
    "import sys\n",
    "sys.path.append('../../globalfunction')  # setting path\n",
    "import globalfunction.vv as vv  # importing\n",
    "import globalfunction.pp as pp  # importing\n",
    "\n",
    "import pandas as pd"
   ]
  },
  {
   "cell_type": "code",
   "execution_count": 26,
   "outputs": [
    {
     "name": "stdout",
     "output_type": "stream",
     "text": [
      "remove duplicates: 20925/29984/22089/24047 ==> 20925/20520/18445/20297\n",
      "20255\n",
      "==> 20255\n",
      "dataframe length: 20255\n",
      "allowing Price to pass with 38 nulls/NANs\n",
      "allowing add_info to pass with 2442 nulls/NANs\n",
      "allowing date_scraped to pass with 2442 nulls/NANs\n",
      "allowing type to pass with 79 nulls/NANs\n",
      "allowing bedrooms to pass with 895 nulls/NANs\n",
      "allowing bathrooms to pass with 1373 nulls/NANs\n",
      "dropping size because 17070 nulls/NANs is too many\n",
      "dropping other_key_info because 20254 nulls/NANs is too many\n",
      "allowing bullet_points to pass with 2011 nulls/NANs\n",
      "allowing station_info to pass with 1 nulls/NANs\n",
      "dropping hold_type because 14905 nulls/NANs is too many\n",
      "allowing short_description to pass with 1 nulls/NANs\n",
      "allowing long_description to pass with 4 nulls/NANs\n",
      "allowing date_scraped_listing to pass with 1 nulls/NANs\n",
      "allowing virtualTours to pass with 1880 nulls/NANs\n",
      "allowing rooms to pass with 1880 nulls/NANs\n",
      "allowing nearestAirports to pass with 1880 nulls/NANs\n",
      "allowing nearestStations to pass with 1880 nulls/NANs\n",
      "allowing showSchoolInfo to pass with 1880 nulls/NANs\n",
      "allowing channel to pass with 1880 nulls/NANs\n",
      "allowing sizings to pass with 1880 nulls/NANs\n",
      "allowing bedrooms_model to pass with 2547 nulls/NANs\n",
      "allowing bathrooms_model to pass with 3093 nulls/NANs\n",
      "allowing transactionType to pass with 1880 nulls/NANs\n",
      "allowing tags to pass with 1880 nulls/NANs\n",
      "allowing infoReelItems to pass with 1880 nulls/NANs\n",
      "allowing soldPropertyType to pass with 1880 nulls/NANs\n",
      "dropping auctionProvider because 20255 nulls/NANs is too many\n",
      "allowing propertySubType to pass with 1880 nulls/NANs\n",
      "allowing businessForSale to pass with 1880 nulls/NANs\n",
      "allowing commercial to pass with 1880 nulls/NANs\n",
      "allowing commercialUseClasses to pass with 1880 nulls/NANs\n",
      "dropping affordableBuyingScheme because 20255 nulls/NANs is too many\n",
      "allowing status.published to pass with 1880 nulls/NANs\n",
      "allowing status.archived to pass with 1880 nulls/NANs\n",
      "allowing text.description to pass with 1880 nulls/NANs\n",
      "allowing text.propertyPhrase to pass with 1880 nulls/NANs\n",
      "allowing text.shareText to pass with 1880 nulls/NANs\n",
      "allowing text.shareDescription to pass with 1880 nulls/NANs\n",
      "allowing text.pageTitle to pass with 1880 nulls/NANs\n",
      "allowing text.shortDescription to pass with 1880 nulls/NANs\n",
      "allowing prices.primaryPrice to pass with 1880 nulls/NANs\n",
      "dropping prices.secondaryPrice because 20255 nulls/NANs is too many\n",
      "dropping prices.displayPriceQualifier because 12288 nulls/NANs is too many\n",
      "dropping prices.pricePerSqFt because 17479 nulls/NANs is too many\n",
      "dropping prices.exchangeRate because 20255 nulls/NANs is too many\n",
      "allowing address.displayAddress to pass with 1880 nulls/NANs\n",
      "allowing address.countryCode to pass with 1880 nulls/NANs\n",
      "dropping address.deliveryPointId because 8340 nulls/NANs is too many\n",
      "allowing address.ukCountry to pass with 1880 nulls/NANs\n",
      "allowing address.outcode to pass with 1880 nulls/NANs\n",
      "allowing address.incode to pass with 1880 nulls/NANs\n",
      "allowing location.latitude to pass with 1880 nulls/NANs\n",
      "allowing location.longitude to pass with 1880 nulls/NANs\n",
      "allowing location.circleRadiusOnMap to pass with 1880 nulls/NANs\n",
      "allowing location.zoomLevel to pass with 1880 nulls/NANs\n",
      "allowing location.pinType to pass with 1880 nulls/NANs\n",
      "allowing location.showMap to pass with 1880 nulls/NANs\n",
      "allowing misInfo.branchId to pass with 1880 nulls/NANs\n",
      "dropping misInfo.offerAdvertStampTypeId because 20136 nulls/NANs is too many\n",
      "allowing misInfo.premiumDisplay to pass with 1880 nulls/NANs\n",
      "dropping misInfo.premiumDisplayStampId because 15717 nulls/NANs is too many\n",
      "allowing misInfo.brandPlus to pass with 1880 nulls/NANs\n",
      "allowing misInfo.featuredProperty to pass with 1880 nulls/NANs\n",
      "allowing dfpAdInfo.channel to pass with 1880 nulls/NANs\n",
      "allowing dfpAdInfo.targeting to pass with 1880 nulls/NANs\n",
      "allowing listingHistory.listingUpdateReason to pass with 1881 nulls/NANs\n",
      "allowing contactInfo.contactMethod to pass with 1880 nulls/NANs\n",
      "allowing contactInfo.telephoneNumbers.localNumber to pass with 1884 nulls/NANs\n",
      "dropping contactInfo.telephoneNumbers.internationalNumber because 20255 nulls/NANs is too many\n",
      "dropping contactInfo.telephoneNumbers.disclaimerText because 20255 nulls/NANs is too many\n",
      "dropping contactInfo.telephoneNumbers.disclaimerTitle because 20255 nulls/NANs is too many\n",
      "dropping contactInfo.telephoneNumbers.disclaimerDescription because 20255 nulls/NANs is too many\n",
      "allowing tenure.tenureType to pass with 3174 nulls/NANs\n",
      "dropping tenure.yearsRemainingOnLease because 19052 nulls/NANs is too many\n",
      "dropping tenure.message because 18980 nulls/NANs is too many\n",
      "allowing sharedOwnership.sharedOwnership to pass with 1880 nulls/NANs\n",
      "dropping sharedOwnership.ownershipPercentage because 20249 nulls/NANs is too many\n",
      "dropping sharedOwnership.rentPrice because 20254 nulls/NANs is too many\n",
      "allowing sharedOwnership.rentFrequency to pass with 4942 nulls/NANs\n",
      "allowing livingCosts.councilTaxExempt to pass with 1880 nulls/NANs\n",
      "allowing livingCosts.councilTaxIncluded to pass with 1880 nulls/NANs\n",
      "dropping livingCosts.annualGroundRent because 20208 nulls/NANs is too many\n",
      "dropping livingCosts.groundRentReviewPeriodInYears because 20242 nulls/NANs is too many\n",
      "dropping livingCosts.groundRentPercentageIncrease because 20249 nulls/NANs is too many\n",
      "dropping livingCosts.annualServiceCharge because 20194 nulls/NANs is too many\n",
      "dropping livingCosts.councilTaxBand because 20042 nulls/NANs is too many\n",
      "dropping auctionProvider.endDate because 20248 nulls/NANs is too many\n",
      "dropping auctionProvider.auctionTimeRemaining because 20248 nulls/NANs is too many\n",
      "dropping auctionProvider.bid because 20255 nulls/NANs is too many\n",
      "allowing date_scraped_meta to pass with 29 nulls/NANs\n",
      "allowing analyticsBranch.agentType to pass with 29 nulls/NANs\n",
      "allowing analyticsBranch.branchId to pass with 29 nulls/NANs\n",
      "allowing analyticsBranch.branchName to pass with 29 nulls/NANs\n",
      "allowing analyticsBranch.brandName to pass with 29 nulls/NANs\n",
      "allowing analyticsBranch.companyName to pass with 29 nulls/NANs\n",
      "allowing analyticsBranch.companyTradingName to pass with 4578 nulls/NANs\n",
      "allowing analyticsBranch.companyType to pass with 29 nulls/NANs\n",
      "allowing analyticsBranch.pageType to pass with 29 nulls/NANs\n",
      "allowing analyticsProperty.added to pass with 29 nulls/NANs\n",
      "allowing analyticsProperty.auctionOnly to pass with 29 nulls/NANs\n",
      "allowing analyticsProperty.beds to pass with 29 nulls/NANs\n",
      "allowing analyticsProperty.businessForSale to pass with 29 nulls/NANs\n",
      "allowing analyticsProperty.country to pass with 29 nulls/NANs\n",
      "allowing analyticsProperty.currency to pass with 29 nulls/NANs\n",
      "allowing analyticsProperty.floorplanCount to pass with 29 nulls/NANs\n",
      "allowing analyticsProperty.furnishedType to pass with 29 nulls/NANs\n",
      "allowing analyticsProperty.hasOnlineViewing to pass with 29 nulls/NANs\n",
      "allowing analyticsProperty.imageCount to pass with 29 nulls/NANs\n",
      "allowing analyticsProperty.latitude to pass with 29 nulls/NANs\n",
      "allowing analyticsProperty.longitude to pass with 29 nulls/NANs\n",
      "allowing analyticsProperty.letAgreed to pass with 29 nulls/NANs\n",
      "allowing analyticsProperty.lettingType to pass with 29 nulls/NANs\n",
      "dropping analyticsProperty.maxSizeAc because 17071 nulls/NANs is too many\n",
      "dropping analyticsProperty.maxSizeFt because 17071 nulls/NANs is too many\n",
      "dropping analyticsProperty.minSizeAc because 17071 nulls/NANs is too many\n",
      "dropping analyticsProperty.minSizeFt because 17071 nulls/NANs is too many\n",
      "allowing analyticsProperty.ownership to pass with 29 nulls/NANs\n",
      "allowing analyticsProperty.preOwned to pass with 29 nulls/NANs\n",
      "allowing analyticsProperty.priceQualifier to pass with 29 nulls/NANs\n",
      "allowing analyticsProperty.propertyId to pass with 29 nulls/NANs\n",
      "allowing analyticsProperty.propertySubType to pass with 29 nulls/NANs\n",
      "allowing analyticsProperty.propertyType to pass with 29 nulls/NANs\n",
      "allowing analyticsProperty.retirement to pass with 29 nulls/NANs\n",
      "dropping analyticsProperty.selectedCurrency because 20255 nulls/NANs is too many\n",
      "allowing analyticsProperty.soldSTC to pass with 29 nulls/NANs\n",
      "allowing analyticsProperty.videoProvider to pass with 29 nulls/NANs\n",
      "allowing analyticsProperty.viewType to pass with 29 nulls/NANs\n",
      "dropping Unnamed: 46 because 20255 nulls/NANs is too many\n",
      "allowing floorplan_count to pass with 1880 nulls/NANs\n",
      "allowing borough_name to pass with 22 nulls/NANs\n",
      "(7582, 17)\n"
     ]
    },
    {
     "data": {
      "text/plain": "              Price  distance_to_any_train  bedrooms  bathrooms  \\\nids                                                               \n124153820  550000.0                    0.9       4.0        1.0   \n120604136  525000.0                    0.3       3.0        2.0   \n124368626  525000.0                    0.9       3.0        1.0   \n120157577  505000.0                    1.4       3.0        1.0   \n120379235  525000.0                    0.7       3.0        1.0   \n\n           bedrooms_model  bathrooms_model  location.latitude  \\\nids                                                             \n124153820             4.0              1.0          51.557959   \n120604136             3.0              2.0          51.506844   \n124368626             3.0              1.0          51.541244   \n120157577             3.0              1.0          51.527530   \n120379235             3.0              1.0          51.510788   \n\n           location.longitude  analyticsBranch.branchId  \\\nids                                                       \n124153820           -0.471762                  202796.0   \n120604136           -0.421167                   11508.0   \n124368626           -0.442240                   49645.0   \n120157577           -0.455490                   11508.0   \n120379235           -0.411707                   11508.0   \n\n           analyticsProperty.added  analyticsProperty.beds  \\\nids                                                          \n124153820               20220621.0                     4.0   \n120604136               20220303.0                     3.0   \n124368626               20220627.0                     3.0   \n120157577               20220218.0                     3.0   \n120379235               20220225.0                     3.0   \n\n           analyticsProperty.floorplanCount  analyticsProperty.imageCount  \\\nids                                                                         \n124153820                               1.0                          19.0   \n120604136                               1.0                           9.0   \n124368626                               1.0                          10.0   \n120157577                               1.0                          12.0   \n120379235                               2.0                          11.0   \n\n           analyticsProperty.latitude  analyticsProperty.longitude  \\\nids                                                                  \n124153820                   51.557959                    -0.471762   \n120604136                   51.506844                    -0.421167   \n124368626                   51.541244                    -0.442240   \n120157577                   51.527530                    -0.455490   \n120379235                   51.510788                    -0.411707   \n\n           analyticsProperty.propertyId  floorplan_count  \nids                                                       \n124153820                   124153820.0              4.0  \n120604136                   120604136.0              4.0  \n124368626                   124368626.0              4.0  \n120157577                   120157577.0              4.0  \n120379235                   120379235.0              8.0  ",
      "text/html": "<div>\n<style scoped>\n    .dataframe tbody tr th:only-of-type {\n        vertical-align: middle;\n    }\n\n    .dataframe tbody tr th {\n        vertical-align: top;\n    }\n\n    .dataframe thead th {\n        text-align: right;\n    }\n</style>\n<table border=\"1\" class=\"dataframe\">\n  <thead>\n    <tr style=\"text-align: right;\">\n      <th></th>\n      <th>Price</th>\n      <th>distance_to_any_train</th>\n      <th>bedrooms</th>\n      <th>bathrooms</th>\n      <th>bedrooms_model</th>\n      <th>bathrooms_model</th>\n      <th>location.latitude</th>\n      <th>location.longitude</th>\n      <th>analyticsBranch.branchId</th>\n      <th>analyticsProperty.added</th>\n      <th>analyticsProperty.beds</th>\n      <th>analyticsProperty.floorplanCount</th>\n      <th>analyticsProperty.imageCount</th>\n      <th>analyticsProperty.latitude</th>\n      <th>analyticsProperty.longitude</th>\n      <th>analyticsProperty.propertyId</th>\n      <th>floorplan_count</th>\n    </tr>\n    <tr>\n      <th>ids</th>\n      <th></th>\n      <th></th>\n      <th></th>\n      <th></th>\n      <th></th>\n      <th></th>\n      <th></th>\n      <th></th>\n      <th></th>\n      <th></th>\n      <th></th>\n      <th></th>\n      <th></th>\n      <th></th>\n      <th></th>\n      <th></th>\n      <th></th>\n    </tr>\n  </thead>\n  <tbody>\n    <tr>\n      <th>124153820</th>\n      <td>550000.0</td>\n      <td>0.9</td>\n      <td>4.0</td>\n      <td>1.0</td>\n      <td>4.0</td>\n      <td>1.0</td>\n      <td>51.557959</td>\n      <td>-0.471762</td>\n      <td>202796.0</td>\n      <td>20220621.0</td>\n      <td>4.0</td>\n      <td>1.0</td>\n      <td>19.0</td>\n      <td>51.557959</td>\n      <td>-0.471762</td>\n      <td>124153820.0</td>\n      <td>4.0</td>\n    </tr>\n    <tr>\n      <th>120604136</th>\n      <td>525000.0</td>\n      <td>0.3</td>\n      <td>3.0</td>\n      <td>2.0</td>\n      <td>3.0</td>\n      <td>2.0</td>\n      <td>51.506844</td>\n      <td>-0.421167</td>\n      <td>11508.0</td>\n      <td>20220303.0</td>\n      <td>3.0</td>\n      <td>1.0</td>\n      <td>9.0</td>\n      <td>51.506844</td>\n      <td>-0.421167</td>\n      <td>120604136.0</td>\n      <td>4.0</td>\n    </tr>\n    <tr>\n      <th>124368626</th>\n      <td>525000.0</td>\n      <td>0.9</td>\n      <td>3.0</td>\n      <td>1.0</td>\n      <td>3.0</td>\n      <td>1.0</td>\n      <td>51.541244</td>\n      <td>-0.442240</td>\n      <td>49645.0</td>\n      <td>20220627.0</td>\n      <td>3.0</td>\n      <td>1.0</td>\n      <td>10.0</td>\n      <td>51.541244</td>\n      <td>-0.442240</td>\n      <td>124368626.0</td>\n      <td>4.0</td>\n    </tr>\n    <tr>\n      <th>120157577</th>\n      <td>505000.0</td>\n      <td>1.4</td>\n      <td>3.0</td>\n      <td>1.0</td>\n      <td>3.0</td>\n      <td>1.0</td>\n      <td>51.527530</td>\n      <td>-0.455490</td>\n      <td>11508.0</td>\n      <td>20220218.0</td>\n      <td>3.0</td>\n      <td>1.0</td>\n      <td>12.0</td>\n      <td>51.527530</td>\n      <td>-0.455490</td>\n      <td>120157577.0</td>\n      <td>4.0</td>\n    </tr>\n    <tr>\n      <th>120379235</th>\n      <td>525000.0</td>\n      <td>0.7</td>\n      <td>3.0</td>\n      <td>1.0</td>\n      <td>3.0</td>\n      <td>1.0</td>\n      <td>51.510788</td>\n      <td>-0.411707</td>\n      <td>11508.0</td>\n      <td>20220225.0</td>\n      <td>3.0</td>\n      <td>2.0</td>\n      <td>11.0</td>\n      <td>51.510788</td>\n      <td>-0.411707</td>\n      <td>120379235.0</td>\n      <td>8.0</td>\n    </tr>\n  </tbody>\n</table>\n</div>"
     },
     "execution_count": 26,
     "metadata": {},
     "output_type": "execute_result"
    }
   ],
   "source": [
    "df_original = vv.quick_data(separate_Xy=False,no_cuts=False,\n",
    "                  numeric_values_only=True,remove_duplicates=True,publish=True\n",
    "                            #, nans_forbidden=False)\n",
    "                            , nans_forbidden=True)\n",
    "#X, y = quick_data(separate_Xy=True,\n",
    "#                  numeric_values_only=True, nans_forbidden=True, exceptional_nans=['bedrooms', 'bathrooms'])\n",
    "print(df_original.shape)\n",
    "df_original.head()"
   ],
   "metadata": {
    "collapsed": false,
    "pycharm": {
     "name": "#%%\n"
    }
   }
  },
  {
   "cell_type": "code",
   "execution_count": 27,
   "outputs": [
    {
     "name": "stdout",
     "output_type": "stream",
     "text": [
      "remove duplicates: 20925/29984/22089/24047 ==> 20925/20520/18445/20297\n",
      "dataframe length: 20255\n"
     ]
    },
    {
     "data": {
      "text/plain": "Links                              https://www.rightmove.co.uk/properties/1193803...\nDescription                                             1 bedroom apartment for sale\nPrice                                                                       585000.0\nversion                                                                 v0021_300622\nborough                                                      ('Hounslow', '5E93962')\n                                                         ...                        \nanalyticsProperty.soldSTC                                                      False\nanalyticsProperty.videoProvider                                             No Video\nanalyticsProperty.viewType                                                   Current\nUnnamed: 46                                                                      NaN\nfloorplan_count                                                                  NaN\nName: 119380301, Length: 156, dtype: object"
     },
     "execution_count": 27,
     "metadata": {},
     "output_type": "execute_result"
    }
   ],
   "source": [
    "vv.quick_data(no_cuts=True).iloc[0,:]"
   ],
   "metadata": {
    "collapsed": false,
    "pycharm": {
     "name": "#%%\n"
    }
   }
  },
  {
   "cell_type": "code",
   "execution_count": 28,
   "outputs": [
    {
     "name": "stderr",
     "output_type": "stream",
     "text": [
      "/tmp/ipykernel_5626/1143430642.py:1: FutureWarning: Passing a dict as an indexer is deprecated and will raise in a future version. Use a list instead.\n",
      "  df = df_original[pp.useful_numeric]\n"
     ]
    },
    {
     "data": {
      "text/plain": "           location.latitude  location.longitude  distance_to_any_train  \\\nids                                                                       \n124153820          51.557959           -0.471762                    0.9   \n120604136          51.506844           -0.421167                    0.3   \n124368626          51.541244           -0.442240                    0.9   \n120157577          51.527530           -0.455490                    1.4   \n120379235          51.510788           -0.411707                    0.7   \n...                      ...                 ...                    ...   \n124095956          51.394440           -0.088876                    0.2   \n121881878          51.622766           -0.150622                    0.7   \n124103096          51.517324            0.040199                    0.6   \n124101830          51.429413           -0.161170                    0.3   \n124087706          51.482220            0.090540                    0.6   \n\n              Price  bedrooms_model  bathrooms_model  \\\nids                                                    \n124153820  550000.0             4.0              1.0   \n120604136  525000.0             3.0              2.0   \n124368626  525000.0             3.0              1.0   \n120157577  505000.0             3.0              1.0   \n120379235  525000.0             3.0              1.0   \n...             ...             ...              ...   \n124095956  485000.0             2.0              1.0   \n121881878  490000.0             2.0              1.0   \n124103096  510000.0             4.0              2.0   \n124101830  550000.0             2.0              1.0   \n124087706  550000.0             3.0              1.0   \n\n           analyticsProperty.imageCount  analyticsProperty.added  \\\nids                                                                \n124153820                          19.0               20220621.0   \n120604136                           9.0               20220303.0   \n124368626                          10.0               20220627.0   \n120157577                          12.0               20220218.0   \n120379235                          11.0               20220225.0   \n...                                 ...                      ...   \n124095956                          12.0               20220620.0   \n121881878                          12.0               20220402.0   \n124103096                          10.0               20220620.0   \n124101830                           6.0               20220620.0   \n124087706                          19.0               20220620.0   \n\n           floorplan_count  \nids                         \n124153820              4.0  \n120604136              4.0  \n124368626              4.0  \n120157577              4.0  \n120379235              8.0  \n...                    ...  \n124095956              4.0  \n121881878              4.0  \n124103096              9.0  \n124101830              4.0  \n124087706              4.0  \n\n[7582 rows x 9 columns]",
      "text/html": "<div>\n<style scoped>\n    .dataframe tbody tr th:only-of-type {\n        vertical-align: middle;\n    }\n\n    .dataframe tbody tr th {\n        vertical-align: top;\n    }\n\n    .dataframe thead th {\n        text-align: right;\n    }\n</style>\n<table border=\"1\" class=\"dataframe\">\n  <thead>\n    <tr style=\"text-align: right;\">\n      <th></th>\n      <th>location.latitude</th>\n      <th>location.longitude</th>\n      <th>distance_to_any_train</th>\n      <th>Price</th>\n      <th>bedrooms_model</th>\n      <th>bathrooms_model</th>\n      <th>analyticsProperty.imageCount</th>\n      <th>analyticsProperty.added</th>\n      <th>floorplan_count</th>\n    </tr>\n    <tr>\n      <th>ids</th>\n      <th></th>\n      <th></th>\n      <th></th>\n      <th></th>\n      <th></th>\n      <th></th>\n      <th></th>\n      <th></th>\n      <th></th>\n    </tr>\n  </thead>\n  <tbody>\n    <tr>\n      <th>124153820</th>\n      <td>51.557959</td>\n      <td>-0.471762</td>\n      <td>0.9</td>\n      <td>550000.0</td>\n      <td>4.0</td>\n      <td>1.0</td>\n      <td>19.0</td>\n      <td>20220621.0</td>\n      <td>4.0</td>\n    </tr>\n    <tr>\n      <th>120604136</th>\n      <td>51.506844</td>\n      <td>-0.421167</td>\n      <td>0.3</td>\n      <td>525000.0</td>\n      <td>3.0</td>\n      <td>2.0</td>\n      <td>9.0</td>\n      <td>20220303.0</td>\n      <td>4.0</td>\n    </tr>\n    <tr>\n      <th>124368626</th>\n      <td>51.541244</td>\n      <td>-0.442240</td>\n      <td>0.9</td>\n      <td>525000.0</td>\n      <td>3.0</td>\n      <td>1.0</td>\n      <td>10.0</td>\n      <td>20220627.0</td>\n      <td>4.0</td>\n    </tr>\n    <tr>\n      <th>120157577</th>\n      <td>51.527530</td>\n      <td>-0.455490</td>\n      <td>1.4</td>\n      <td>505000.0</td>\n      <td>3.0</td>\n      <td>1.0</td>\n      <td>12.0</td>\n      <td>20220218.0</td>\n      <td>4.0</td>\n    </tr>\n    <tr>\n      <th>120379235</th>\n      <td>51.510788</td>\n      <td>-0.411707</td>\n      <td>0.7</td>\n      <td>525000.0</td>\n      <td>3.0</td>\n      <td>1.0</td>\n      <td>11.0</td>\n      <td>20220225.0</td>\n      <td>8.0</td>\n    </tr>\n    <tr>\n      <th>...</th>\n      <td>...</td>\n      <td>...</td>\n      <td>...</td>\n      <td>...</td>\n      <td>...</td>\n      <td>...</td>\n      <td>...</td>\n      <td>...</td>\n      <td>...</td>\n    </tr>\n    <tr>\n      <th>124095956</th>\n      <td>51.394440</td>\n      <td>-0.088876</td>\n      <td>0.2</td>\n      <td>485000.0</td>\n      <td>2.0</td>\n      <td>1.0</td>\n      <td>12.0</td>\n      <td>20220620.0</td>\n      <td>4.0</td>\n    </tr>\n    <tr>\n      <th>121881878</th>\n      <td>51.622766</td>\n      <td>-0.150622</td>\n      <td>0.7</td>\n      <td>490000.0</td>\n      <td>2.0</td>\n      <td>1.0</td>\n      <td>12.0</td>\n      <td>20220402.0</td>\n      <td>4.0</td>\n    </tr>\n    <tr>\n      <th>124103096</th>\n      <td>51.517324</td>\n      <td>0.040199</td>\n      <td>0.6</td>\n      <td>510000.0</td>\n      <td>4.0</td>\n      <td>2.0</td>\n      <td>10.0</td>\n      <td>20220620.0</td>\n      <td>9.0</td>\n    </tr>\n    <tr>\n      <th>124101830</th>\n      <td>51.429413</td>\n      <td>-0.161170</td>\n      <td>0.3</td>\n      <td>550000.0</td>\n      <td>2.0</td>\n      <td>1.0</td>\n      <td>6.0</td>\n      <td>20220620.0</td>\n      <td>4.0</td>\n    </tr>\n    <tr>\n      <th>124087706</th>\n      <td>51.482220</td>\n      <td>0.090540</td>\n      <td>0.6</td>\n      <td>550000.0</td>\n      <td>3.0</td>\n      <td>1.0</td>\n      <td>19.0</td>\n      <td>20220620.0</td>\n      <td>4.0</td>\n    </tr>\n  </tbody>\n</table>\n<p>7582 rows × 9 columns</p>\n</div>"
     },
     "execution_count": 28,
     "metadata": {},
     "output_type": "execute_result"
    }
   ],
   "source": [
    "df = df_original[pp.useful_numeric]\n",
    "df"
   ],
   "metadata": {
    "collapsed": false,
    "pycharm": {
     "name": "#%%\n"
    }
   }
  },
  {
   "cell_type": "code",
   "execution_count": 29,
   "outputs": [
    {
     "name": "stdout",
     "output_type": "stream",
     "text": [
      "<class 'pandas.core.frame.DataFrame'>\n",
      "Index: 7582 entries, 124153820 to 124087706\n",
      "Data columns (total 9 columns):\n",
      " #   Column                        Non-Null Count  Dtype  \n",
      "---  ------                        --------------  -----  \n",
      " 0   location.latitude             7582 non-null   float64\n",
      " 1   location.longitude            7582 non-null   float64\n",
      " 2   distance_to_any_train         7582 non-null   float64\n",
      " 3   Price                         7582 non-null   float64\n",
      " 4   bedrooms_model                7582 non-null   float64\n",
      " 5   bathrooms_model               7582 non-null   float64\n",
      " 6   analyticsProperty.imageCount  7582 non-null   float64\n",
      " 7   analyticsProperty.added       7582 non-null   float64\n",
      " 8   floorplan_count               7582 non-null   float64\n",
      "dtypes: float64(9)\n",
      "memory usage: 592.3+ KB\n"
     ]
    }
   ],
   "source": [
    "df.info()"
   ],
   "metadata": {
    "collapsed": false,
    "pycharm": {
     "name": "#%%\n"
    }
   }
  },
  {
   "cell_type": "code",
   "execution_count": 30,
   "outputs": [
    {
     "data": {
      "text/plain": "Empty DataFrame\nColumns: [location.latitude, location.longitude, distance_to_any_train, Price, bedrooms_model, bathrooms_model, analyticsProperty.imageCount, analyticsProperty.added, floorplan_count]\nIndex: []",
      "text/html": "<div>\n<style scoped>\n    .dataframe tbody tr th:only-of-type {\n        vertical-align: middle;\n    }\n\n    .dataframe tbody tr th {\n        vertical-align: top;\n    }\n\n    .dataframe thead th {\n        text-align: right;\n    }\n</style>\n<table border=\"1\" class=\"dataframe\">\n  <thead>\n    <tr style=\"text-align: right;\">\n      <th></th>\n      <th>location.latitude</th>\n      <th>location.longitude</th>\n      <th>distance_to_any_train</th>\n      <th>Price</th>\n      <th>bedrooms_model</th>\n      <th>bathrooms_model</th>\n      <th>analyticsProperty.imageCount</th>\n      <th>analyticsProperty.added</th>\n      <th>floorplan_count</th>\n    </tr>\n    <tr>\n      <th>ids</th>\n      <th></th>\n      <th></th>\n      <th></th>\n      <th></th>\n      <th></th>\n      <th></th>\n      <th></th>\n      <th></th>\n      <th></th>\n    </tr>\n  </thead>\n  <tbody>\n  </tbody>\n</table>\n</div>"
     },
     "execution_count": 30,
     "metadata": {},
     "output_type": "execute_result"
    }
   ],
   "source": [
    "df[\n",
    "    #['Address', 'analyticsProperty.maxSizeAc', 'analyticsProperty.maxSizeFt', 'analyticsProperty.minSizeAc', 'analyticsProperty.minSizeFt', 'date_scraped', 'date_scraped_model',     'date_scraped_model', 'date_scraped_meta']]\n",
    "    #df['location.latitude'].notnull()]\n",
    "    df['location.latitude'].isnull()]"
   ],
   "metadata": {
    "collapsed": false,
    "pycharm": {
     "name": "#%%\n"
    }
   }
  },
  {
   "cell_type": "code",
   "execution_count": 31,
   "outputs": [],
   "source": [
    "# df_original = df_original.drop(\n",
    "#         ['analyticsBranch.branchPostcode', 'analyticsProperty.selectedPrice', 'livingCosts.domesticRates', 'brochures'], axis=1)"
   ],
   "metadata": {
    "collapsed": false,
    "pycharm": {
     "name": "#%%\n"
    }
   }
  },
  {
   "cell_type": "code",
   "execution_count": 32,
   "outputs": [
    {
     "name": "stdout",
     "output_type": "stream",
     "text": [
      "(7582, 17)\n"
     ]
    },
    {
     "data": {
      "text/plain": "              Price  distance_to_any_train  bedrooms  bathrooms  \\\nids                                                               \n124153820  550000.0                    0.9       4.0        1.0   \n120604136  525000.0                    0.3       3.0        2.0   \n124368626  525000.0                    0.9       3.0        1.0   \n120157577  505000.0                    1.4       3.0        1.0   \n120379235  525000.0                    0.7       3.0        1.0   \n\n           bedrooms_model  bathrooms_model  location.latitude  \\\nids                                                             \n124153820             4.0              1.0          51.557959   \n120604136             3.0              2.0          51.506844   \n124368626             3.0              1.0          51.541244   \n120157577             3.0              1.0          51.527530   \n120379235             3.0              1.0          51.510788   \n\n           location.longitude  analyticsBranch.branchId  \\\nids                                                       \n124153820           -0.471762                  202796.0   \n120604136           -0.421167                   11508.0   \n124368626           -0.442240                   49645.0   \n120157577           -0.455490                   11508.0   \n120379235           -0.411707                   11508.0   \n\n           analyticsProperty.added  analyticsProperty.beds  \\\nids                                                          \n124153820               20220621.0                     4.0   \n120604136               20220303.0                     3.0   \n124368626               20220627.0                     3.0   \n120157577               20220218.0                     3.0   \n120379235               20220225.0                     3.0   \n\n           analyticsProperty.floorplanCount  analyticsProperty.imageCount  \\\nids                                                                         \n124153820                               1.0                          19.0   \n120604136                               1.0                           9.0   \n124368626                               1.0                          10.0   \n120157577                               1.0                          12.0   \n120379235                               2.0                          11.0   \n\n           analyticsProperty.latitude  analyticsProperty.longitude  \\\nids                                                                  \n124153820                   51.557959                    -0.471762   \n120604136                   51.506844                    -0.421167   \n124368626                   51.541244                    -0.442240   \n120157577                   51.527530                    -0.455490   \n120379235                   51.510788                    -0.411707   \n\n           analyticsProperty.propertyId  floorplan_count  \nids                                                       \n124153820                   124153820.0              4.0  \n120604136                   120604136.0              4.0  \n124368626                   124368626.0              4.0  \n120157577                   120157577.0              4.0  \n120379235                   120379235.0              8.0  ",
      "text/html": "<div>\n<style scoped>\n    .dataframe tbody tr th:only-of-type {\n        vertical-align: middle;\n    }\n\n    .dataframe tbody tr th {\n        vertical-align: top;\n    }\n\n    .dataframe thead th {\n        text-align: right;\n    }\n</style>\n<table border=\"1\" class=\"dataframe\">\n  <thead>\n    <tr style=\"text-align: right;\">\n      <th></th>\n      <th>Price</th>\n      <th>distance_to_any_train</th>\n      <th>bedrooms</th>\n      <th>bathrooms</th>\n      <th>bedrooms_model</th>\n      <th>bathrooms_model</th>\n      <th>location.latitude</th>\n      <th>location.longitude</th>\n      <th>analyticsBranch.branchId</th>\n      <th>analyticsProperty.added</th>\n      <th>analyticsProperty.beds</th>\n      <th>analyticsProperty.floorplanCount</th>\n      <th>analyticsProperty.imageCount</th>\n      <th>analyticsProperty.latitude</th>\n      <th>analyticsProperty.longitude</th>\n      <th>analyticsProperty.propertyId</th>\n      <th>floorplan_count</th>\n    </tr>\n    <tr>\n      <th>ids</th>\n      <th></th>\n      <th></th>\n      <th></th>\n      <th></th>\n      <th></th>\n      <th></th>\n      <th></th>\n      <th></th>\n      <th></th>\n      <th></th>\n      <th></th>\n      <th></th>\n      <th></th>\n      <th></th>\n      <th></th>\n      <th></th>\n      <th></th>\n    </tr>\n  </thead>\n  <tbody>\n    <tr>\n      <th>124153820</th>\n      <td>550000.0</td>\n      <td>0.9</td>\n      <td>4.0</td>\n      <td>1.0</td>\n      <td>4.0</td>\n      <td>1.0</td>\n      <td>51.557959</td>\n      <td>-0.471762</td>\n      <td>202796.0</td>\n      <td>20220621.0</td>\n      <td>4.0</td>\n      <td>1.0</td>\n      <td>19.0</td>\n      <td>51.557959</td>\n      <td>-0.471762</td>\n      <td>124153820.0</td>\n      <td>4.0</td>\n    </tr>\n    <tr>\n      <th>120604136</th>\n      <td>525000.0</td>\n      <td>0.3</td>\n      <td>3.0</td>\n      <td>2.0</td>\n      <td>3.0</td>\n      <td>2.0</td>\n      <td>51.506844</td>\n      <td>-0.421167</td>\n      <td>11508.0</td>\n      <td>20220303.0</td>\n      <td>3.0</td>\n      <td>1.0</td>\n      <td>9.0</td>\n      <td>51.506844</td>\n      <td>-0.421167</td>\n      <td>120604136.0</td>\n      <td>4.0</td>\n    </tr>\n    <tr>\n      <th>124368626</th>\n      <td>525000.0</td>\n      <td>0.9</td>\n      <td>3.0</td>\n      <td>1.0</td>\n      <td>3.0</td>\n      <td>1.0</td>\n      <td>51.541244</td>\n      <td>-0.442240</td>\n      <td>49645.0</td>\n      <td>20220627.0</td>\n      <td>3.0</td>\n      <td>1.0</td>\n      <td>10.0</td>\n      <td>51.541244</td>\n      <td>-0.442240</td>\n      <td>124368626.0</td>\n      <td>4.0</td>\n    </tr>\n    <tr>\n      <th>120157577</th>\n      <td>505000.0</td>\n      <td>1.4</td>\n      <td>3.0</td>\n      <td>1.0</td>\n      <td>3.0</td>\n      <td>1.0</td>\n      <td>51.527530</td>\n      <td>-0.455490</td>\n      <td>11508.0</td>\n      <td>20220218.0</td>\n      <td>3.0</td>\n      <td>1.0</td>\n      <td>12.0</td>\n      <td>51.527530</td>\n      <td>-0.455490</td>\n      <td>120157577.0</td>\n      <td>4.0</td>\n    </tr>\n    <tr>\n      <th>120379235</th>\n      <td>525000.0</td>\n      <td>0.7</td>\n      <td>3.0</td>\n      <td>1.0</td>\n      <td>3.0</td>\n      <td>1.0</td>\n      <td>51.510788</td>\n      <td>-0.411707</td>\n      <td>11508.0</td>\n      <td>20220225.0</td>\n      <td>3.0</td>\n      <td>2.0</td>\n      <td>11.0</td>\n      <td>51.510788</td>\n      <td>-0.411707</td>\n      <td>120379235.0</td>\n      <td>8.0</td>\n    </tr>\n  </tbody>\n</table>\n</div>"
     },
     "execution_count": 32,
     "metadata": {},
     "output_type": "execute_result"
    }
   ],
   "source": [
    "df_original = df_original[~df_original.index.duplicated(keep='last')]\n",
    "print(df_original.shape)\n",
    "df_original.head()"
   ],
   "metadata": {
    "collapsed": false,
    "pycharm": {
     "name": "#%%\n"
    }
   }
  },
  {
   "cell_type": "code",
   "execution_count": 33,
   "outputs": [
    {
     "data": {
      "text/plain": "Empty DataFrame\nColumns: [Price, distance_to_any_train, bedrooms, bathrooms, bedrooms_model, bathrooms_model, location.latitude, location.longitude, analyticsBranch.branchId, analyticsProperty.added, analyticsProperty.beds, analyticsProperty.floorplanCount, analyticsProperty.imageCount, analyticsProperty.latitude, analyticsProperty.longitude, analyticsProperty.propertyId, floorplan_count]\nIndex: []",
      "text/html": "<div>\n<style scoped>\n    .dataframe tbody tr th:only-of-type {\n        vertical-align: middle;\n    }\n\n    .dataframe tbody tr th {\n        vertical-align: top;\n    }\n\n    .dataframe thead th {\n        text-align: right;\n    }\n</style>\n<table border=\"1\" class=\"dataframe\">\n  <thead>\n    <tr style=\"text-align: right;\">\n      <th></th>\n      <th>Price</th>\n      <th>distance_to_any_train</th>\n      <th>bedrooms</th>\n      <th>bathrooms</th>\n      <th>bedrooms_model</th>\n      <th>bathrooms_model</th>\n      <th>location.latitude</th>\n      <th>location.longitude</th>\n      <th>analyticsBranch.branchId</th>\n      <th>analyticsProperty.added</th>\n      <th>analyticsProperty.beds</th>\n      <th>analyticsProperty.floorplanCount</th>\n      <th>analyticsProperty.imageCount</th>\n      <th>analyticsProperty.latitude</th>\n      <th>analyticsProperty.longitude</th>\n      <th>analyticsProperty.propertyId</th>\n      <th>floorplan_count</th>\n    </tr>\n    <tr>\n      <th>ids</th>\n      <th></th>\n      <th></th>\n      <th></th>\n      <th></th>\n      <th></th>\n      <th></th>\n      <th></th>\n      <th></th>\n      <th></th>\n      <th></th>\n      <th></th>\n      <th></th>\n      <th></th>\n      <th></th>\n      <th></th>\n      <th></th>\n      <th></th>\n    </tr>\n  </thead>\n  <tbody>\n  </tbody>\n</table>\n</div>"
     },
     "execution_count": 33,
     "metadata": {},
     "output_type": "execute_result"
    }
   ],
   "source": [
    "sample_incomplete_rows = df_original[df_original.isnull().any(axis=1)].head()\n",
    "sample_incomplete_rows"
   ],
   "metadata": {
    "collapsed": false,
    "pycharm": {
     "name": "#%%\n"
    }
   }
  },
  {
   "cell_type": "code",
   "execution_count": 34,
   "outputs": [
    {
     "name": "stdout",
     "output_type": "stream",
     "text": [
      "(7582, 17)\n",
      "(7582, 17)\n"
     ]
    },
    {
     "data": {
      "text/plain": "            Price  distance_to_any_train  bedrooms  bathrooms  bedrooms_model  \\\nids                                                                             \n124153820  550000                    0.9       4.0        1.0             4.0   \n120604136  525000                    0.3       3.0        2.0             3.0   \n124368626  525000                    0.9       3.0        1.0             3.0   \n120157577  505000                    1.4       3.0        1.0             3.0   \n120379235  525000                    0.7       3.0        1.0             3.0   \n...           ...                    ...       ...        ...             ...   \n124095956  485000                    0.2       2.0        1.0             2.0   \n121881878  490000                    0.7       2.0        1.0             2.0   \n124103096  510000                    0.6       4.0        2.0             4.0   \n124101830  550000                    0.3       2.0        1.0             2.0   \n124087706  550000                    0.6       3.0        1.0             3.0   \n\n           bathrooms_model  location.latitude  location.longitude  \\\nids                                                                 \n124153820              1.0          51.557959           -0.471762   \n120604136              2.0          51.506844           -0.421167   \n124368626              1.0          51.541244           -0.442240   \n120157577              1.0          51.527530           -0.455490   \n120379235              1.0          51.510788           -0.411707   \n...                    ...                ...                 ...   \n124095956              1.0          51.394440           -0.088876   \n121881878              1.0          51.622766           -0.150622   \n124103096              2.0          51.517324            0.040199   \n124101830              1.0          51.429413           -0.161170   \n124087706              1.0          51.482220            0.090540   \n\n           analyticsBranch.branchId  analyticsProperty.added  \\\nids                                                            \n124153820                  202796.0               20220621.0   \n120604136                   11508.0               20220303.0   \n124368626                   49645.0               20220627.0   \n120157577                   11508.0               20220218.0   \n120379235                   11508.0               20220225.0   \n...                             ...                      ...   \n124095956                  161975.0               20220620.0   \n121881878                   37065.0               20220402.0   \n124103096                   48101.0               20220620.0   \n124101830                   61662.0               20220620.0   \n124087706                  189059.0               20220620.0   \n\n           analyticsProperty.beds  analyticsProperty.floorplanCount  \\\nids                                                                   \n124153820                     4.0                               1.0   \n120604136                     3.0                               1.0   \n124368626                     3.0                               1.0   \n120157577                     3.0                               1.0   \n120379235                     3.0                               2.0   \n...                           ...                               ...   \n124095956                     2.0                               1.0   \n121881878                     2.0                               1.0   \n124103096                     4.0                               2.0   \n124101830                     2.0                               1.0   \n124087706                     3.0                               1.0   \n\n           analyticsProperty.imageCount  analyticsProperty.latitude  \\\nids                                                                   \n124153820                          19.0                   51.557959   \n120604136                           9.0                   51.506844   \n124368626                          10.0                   51.541244   \n120157577                          12.0                   51.527530   \n120379235                          11.0                   51.510788   \n...                                 ...                         ...   \n124095956                          12.0                   51.394440   \n121881878                          12.0                   51.622766   \n124103096                          10.0                   51.517324   \n124101830                           6.0                   51.429413   \n124087706                          19.0                   51.482220   \n\n           analyticsProperty.longitude  analyticsProperty.propertyId  \\\nids                                                                    \n124153820                    -0.471762                   124153820.0   \n120604136                    -0.421167                   120604136.0   \n124368626                    -0.442240                   124368626.0   \n120157577                    -0.455490                   120157577.0   \n120379235                    -0.411707                   120379235.0   \n...                                ...                           ...   \n124095956                    -0.088876                   124095956.0   \n121881878                    -0.150622                   121881878.0   \n124103096                     0.040199                   124103096.0   \n124101830                    -0.161170                   124101830.0   \n124087706                     0.090540                   124087706.0   \n\n           floorplan_count  \nids                         \n124153820              4.0  \n120604136              4.0  \n124368626              4.0  \n120157577              4.0  \n120379235              8.0  \n...                    ...  \n124095956              4.0  \n121881878              4.0  \n124103096              9.0  \n124101830              4.0  \n124087706              4.0  \n\n[7582 rows x 17 columns]",
      "text/html": "<div>\n<style scoped>\n    .dataframe tbody tr th:only-of-type {\n        vertical-align: middle;\n    }\n\n    .dataframe tbody tr th {\n        vertical-align: top;\n    }\n\n    .dataframe thead th {\n        text-align: right;\n    }\n</style>\n<table border=\"1\" class=\"dataframe\">\n  <thead>\n    <tr style=\"text-align: right;\">\n      <th></th>\n      <th>Price</th>\n      <th>distance_to_any_train</th>\n      <th>bedrooms</th>\n      <th>bathrooms</th>\n      <th>bedrooms_model</th>\n      <th>bathrooms_model</th>\n      <th>location.latitude</th>\n      <th>location.longitude</th>\n      <th>analyticsBranch.branchId</th>\n      <th>analyticsProperty.added</th>\n      <th>analyticsProperty.beds</th>\n      <th>analyticsProperty.floorplanCount</th>\n      <th>analyticsProperty.imageCount</th>\n      <th>analyticsProperty.latitude</th>\n      <th>analyticsProperty.longitude</th>\n      <th>analyticsProperty.propertyId</th>\n      <th>floorplan_count</th>\n    </tr>\n    <tr>\n      <th>ids</th>\n      <th></th>\n      <th></th>\n      <th></th>\n      <th></th>\n      <th></th>\n      <th></th>\n      <th></th>\n      <th></th>\n      <th></th>\n      <th></th>\n      <th></th>\n      <th></th>\n      <th></th>\n      <th></th>\n      <th></th>\n      <th></th>\n      <th></th>\n    </tr>\n  </thead>\n  <tbody>\n    <tr>\n      <th>124153820</th>\n      <td>550000</td>\n      <td>0.9</td>\n      <td>4.0</td>\n      <td>1.0</td>\n      <td>4.0</td>\n      <td>1.0</td>\n      <td>51.557959</td>\n      <td>-0.471762</td>\n      <td>202796.0</td>\n      <td>20220621.0</td>\n      <td>4.0</td>\n      <td>1.0</td>\n      <td>19.0</td>\n      <td>51.557959</td>\n      <td>-0.471762</td>\n      <td>124153820.0</td>\n      <td>4.0</td>\n    </tr>\n    <tr>\n      <th>120604136</th>\n      <td>525000</td>\n      <td>0.3</td>\n      <td>3.0</td>\n      <td>2.0</td>\n      <td>3.0</td>\n      <td>2.0</td>\n      <td>51.506844</td>\n      <td>-0.421167</td>\n      <td>11508.0</td>\n      <td>20220303.0</td>\n      <td>3.0</td>\n      <td>1.0</td>\n      <td>9.0</td>\n      <td>51.506844</td>\n      <td>-0.421167</td>\n      <td>120604136.0</td>\n      <td>4.0</td>\n    </tr>\n    <tr>\n      <th>124368626</th>\n      <td>525000</td>\n      <td>0.9</td>\n      <td>3.0</td>\n      <td>1.0</td>\n      <td>3.0</td>\n      <td>1.0</td>\n      <td>51.541244</td>\n      <td>-0.442240</td>\n      <td>49645.0</td>\n      <td>20220627.0</td>\n      <td>3.0</td>\n      <td>1.0</td>\n      <td>10.0</td>\n      <td>51.541244</td>\n      <td>-0.442240</td>\n      <td>124368626.0</td>\n      <td>4.0</td>\n    </tr>\n    <tr>\n      <th>120157577</th>\n      <td>505000</td>\n      <td>1.4</td>\n      <td>3.0</td>\n      <td>1.0</td>\n      <td>3.0</td>\n      <td>1.0</td>\n      <td>51.527530</td>\n      <td>-0.455490</td>\n      <td>11508.0</td>\n      <td>20220218.0</td>\n      <td>3.0</td>\n      <td>1.0</td>\n      <td>12.0</td>\n      <td>51.527530</td>\n      <td>-0.455490</td>\n      <td>120157577.0</td>\n      <td>4.0</td>\n    </tr>\n    <tr>\n      <th>120379235</th>\n      <td>525000</td>\n      <td>0.7</td>\n      <td>3.0</td>\n      <td>1.0</td>\n      <td>3.0</td>\n      <td>1.0</td>\n      <td>51.510788</td>\n      <td>-0.411707</td>\n      <td>11508.0</td>\n      <td>20220225.0</td>\n      <td>3.0</td>\n      <td>2.0</td>\n      <td>11.0</td>\n      <td>51.510788</td>\n      <td>-0.411707</td>\n      <td>120379235.0</td>\n      <td>8.0</td>\n    </tr>\n    <tr>\n      <th>...</th>\n      <td>...</td>\n      <td>...</td>\n      <td>...</td>\n      <td>...</td>\n      <td>...</td>\n      <td>...</td>\n      <td>...</td>\n      <td>...</td>\n      <td>...</td>\n      <td>...</td>\n      <td>...</td>\n      <td>...</td>\n      <td>...</td>\n      <td>...</td>\n      <td>...</td>\n      <td>...</td>\n      <td>...</td>\n    </tr>\n    <tr>\n      <th>124095956</th>\n      <td>485000</td>\n      <td>0.2</td>\n      <td>2.0</td>\n      <td>1.0</td>\n      <td>2.0</td>\n      <td>1.0</td>\n      <td>51.394440</td>\n      <td>-0.088876</td>\n      <td>161975.0</td>\n      <td>20220620.0</td>\n      <td>2.0</td>\n      <td>1.0</td>\n      <td>12.0</td>\n      <td>51.394440</td>\n      <td>-0.088876</td>\n      <td>124095956.0</td>\n      <td>4.0</td>\n    </tr>\n    <tr>\n      <th>121881878</th>\n      <td>490000</td>\n      <td>0.7</td>\n      <td>2.0</td>\n      <td>1.0</td>\n      <td>2.0</td>\n      <td>1.0</td>\n      <td>51.622766</td>\n      <td>-0.150622</td>\n      <td>37065.0</td>\n      <td>20220402.0</td>\n      <td>2.0</td>\n      <td>1.0</td>\n      <td>12.0</td>\n      <td>51.622766</td>\n      <td>-0.150622</td>\n      <td>121881878.0</td>\n      <td>4.0</td>\n    </tr>\n    <tr>\n      <th>124103096</th>\n      <td>510000</td>\n      <td>0.6</td>\n      <td>4.0</td>\n      <td>2.0</td>\n      <td>4.0</td>\n      <td>2.0</td>\n      <td>51.517324</td>\n      <td>0.040199</td>\n      <td>48101.0</td>\n      <td>20220620.0</td>\n      <td>4.0</td>\n      <td>2.0</td>\n      <td>10.0</td>\n      <td>51.517324</td>\n      <td>0.040199</td>\n      <td>124103096.0</td>\n      <td>9.0</td>\n    </tr>\n    <tr>\n      <th>124101830</th>\n      <td>550000</td>\n      <td>0.3</td>\n      <td>2.0</td>\n      <td>1.0</td>\n      <td>2.0</td>\n      <td>1.0</td>\n      <td>51.429413</td>\n      <td>-0.161170</td>\n      <td>61662.0</td>\n      <td>20220620.0</td>\n      <td>2.0</td>\n      <td>1.0</td>\n      <td>6.0</td>\n      <td>51.429413</td>\n      <td>-0.161170</td>\n      <td>124101830.0</td>\n      <td>4.0</td>\n    </tr>\n    <tr>\n      <th>124087706</th>\n      <td>550000</td>\n      <td>0.6</td>\n      <td>3.0</td>\n      <td>1.0</td>\n      <td>3.0</td>\n      <td>1.0</td>\n      <td>51.482220</td>\n      <td>0.090540</td>\n      <td>189059.0</td>\n      <td>20220620.0</td>\n      <td>3.0</td>\n      <td>1.0</td>\n      <td>19.0</td>\n      <td>51.482220</td>\n      <td>0.090540</td>\n      <td>124087706.0</td>\n      <td>4.0</td>\n    </tr>\n  </tbody>\n</table>\n<p>7582 rows × 17 columns</p>\n</div>"
     },
     "execution_count": 34,
     "metadata": {},
     "output_type": "execute_result"
    }
   ],
   "source": [
    "print(df_original.shape)\n",
    "df_original['bedrooms'] = df_original['bedrooms'].fillna(-1)\n",
    "df_original['bathrooms'] = df_original['bathrooms'].fillna(-1)\n",
    "df_original['Price'] = pd.to_numeric(df_original['Price'], 'coerce').dropna().astype(int)\n",
    "df_original = df_original[df_original['Price'].notna()]\n",
    "print(df_original.shape)\n",
    "df_original"
   ],
   "metadata": {
    "collapsed": false,
    "pycharm": {
     "name": "#%%\n"
    }
   }
  },
  {
   "cell_type": "code",
   "execution_count": 35,
   "outputs": [],
   "source": [
    "y = df_original['Price']\n",
    "X = df_original.drop(['Price'],axis=1)\n",
    "X_train, X_test, y_train, y_test = train_test_split(X, y)"
   ],
   "metadata": {
    "collapsed": false,
    "pycharm": {
     "name": "#%%\n"
    }
   }
  },
  {
   "cell_type": "code",
   "execution_count": 36,
   "outputs": [
    {
     "data": {
      "text/plain": "Series([], Name: Price, dtype: int64)"
     },
     "execution_count": 36,
     "metadata": {},
     "output_type": "execute_result"
    }
   ],
   "source": [
    "df_original[df_original['Price'].isna()]\n",
    "#y[y['Price'].isna()]\n",
    "y.dtype\n",
    "type(y)\n",
    "y[y.isna()]"
   ],
   "metadata": {
    "collapsed": false,
    "pycharm": {
     "name": "#%%\n"
    }
   }
  },
  {
   "cell_type": "code",
   "execution_count": 37,
   "outputs": [
    {
     "data": {
      "text/plain": "DecisionTreeRegressor(max_depth=4)",
      "text/html": "<style>#sk-container-id-1 {color: black;background-color: white;}#sk-container-id-1 pre{padding: 0;}#sk-container-id-1 div.sk-toggleable {background-color: white;}#sk-container-id-1 label.sk-toggleable__label {cursor: pointer;display: block;width: 100%;margin-bottom: 0;padding: 0.3em;box-sizing: border-box;text-align: center;}#sk-container-id-1 label.sk-toggleable__label-arrow:before {content: \"▸\";float: left;margin-right: 0.25em;color: #696969;}#sk-container-id-1 label.sk-toggleable__label-arrow:hover:before {color: black;}#sk-container-id-1 div.sk-estimator:hover label.sk-toggleable__label-arrow:before {color: black;}#sk-container-id-1 div.sk-toggleable__content {max-height: 0;max-width: 0;overflow: hidden;text-align: left;background-color: #f0f8ff;}#sk-container-id-1 div.sk-toggleable__content pre {margin: 0.2em;color: black;border-radius: 0.25em;background-color: #f0f8ff;}#sk-container-id-1 input.sk-toggleable__control:checked~div.sk-toggleable__content {max-height: 200px;max-width: 100%;overflow: auto;}#sk-container-id-1 input.sk-toggleable__control:checked~label.sk-toggleable__label-arrow:before {content: \"▾\";}#sk-container-id-1 div.sk-estimator input.sk-toggleable__control:checked~label.sk-toggleable__label {background-color: #d4ebff;}#sk-container-id-1 div.sk-label input.sk-toggleable__control:checked~label.sk-toggleable__label {background-color: #d4ebff;}#sk-container-id-1 input.sk-hidden--visually {border: 0;clip: rect(1px 1px 1px 1px);clip: rect(1px, 1px, 1px, 1px);height: 1px;margin: -1px;overflow: hidden;padding: 0;position: absolute;width: 1px;}#sk-container-id-1 div.sk-estimator {font-family: monospace;background-color: #f0f8ff;border: 1px dotted black;border-radius: 0.25em;box-sizing: border-box;margin-bottom: 0.5em;}#sk-container-id-1 div.sk-estimator:hover {background-color: #d4ebff;}#sk-container-id-1 div.sk-parallel-item::after {content: \"\";width: 100%;border-bottom: 1px solid gray;flex-grow: 1;}#sk-container-id-1 div.sk-label:hover label.sk-toggleable__label {background-color: #d4ebff;}#sk-container-id-1 div.sk-serial::before {content: \"\";position: absolute;border-left: 1px solid gray;box-sizing: border-box;top: 0;bottom: 0;left: 50%;z-index: 0;}#sk-container-id-1 div.sk-serial {display: flex;flex-direction: column;align-items: center;background-color: white;padding-right: 0.2em;padding-left: 0.2em;position: relative;}#sk-container-id-1 div.sk-item {position: relative;z-index: 1;}#sk-container-id-1 div.sk-parallel {display: flex;align-items: stretch;justify-content: center;background-color: white;position: relative;}#sk-container-id-1 div.sk-item::before, #sk-container-id-1 div.sk-parallel-item::before {content: \"\";position: absolute;border-left: 1px solid gray;box-sizing: border-box;top: 0;bottom: 0;left: 50%;z-index: -1;}#sk-container-id-1 div.sk-parallel-item {display: flex;flex-direction: column;z-index: 1;position: relative;background-color: white;}#sk-container-id-1 div.sk-parallel-item:first-child::after {align-self: flex-end;width: 50%;}#sk-container-id-1 div.sk-parallel-item:last-child::after {align-self: flex-start;width: 50%;}#sk-container-id-1 div.sk-parallel-item:only-child::after {width: 0;}#sk-container-id-1 div.sk-dashed-wrapped {border: 1px dashed gray;margin: 0 0.4em 0.5em 0.4em;box-sizing: border-box;padding-bottom: 0.4em;background-color: white;}#sk-container-id-1 div.sk-label label {font-family: monospace;font-weight: bold;display: inline-block;line-height: 1.2em;}#sk-container-id-1 div.sk-label-container {text-align: center;}#sk-container-id-1 div.sk-container {/* jupyter's `normalize.less` sets `[hidden] { display: none; }` but bootstrap.min.css set `[hidden] { display: none !important; }` so we also need the `!important` here to be able to override the default hidden behavior on the sphinx rendered scikit-learn.org. See: https://github.com/scikit-learn/scikit-learn/issues/21755 */display: inline-block !important;position: relative;}#sk-container-id-1 div.sk-text-repr-fallback {display: none;}</style><div id=\"sk-container-id-1\" class=\"sk-top-container\"><div class=\"sk-text-repr-fallback\"><pre>DecisionTreeRegressor(max_depth=4)</pre><b>In a Jupyter environment, please rerun this cell to show the HTML representation or trust the notebook. <br />On GitHub, the HTML representation is unable to render, please try loading this page with nbviewer.org.</b></div><div class=\"sk-container\" hidden><div class=\"sk-item\"><div class=\"sk-estimator sk-toggleable\"><input class=\"sk-toggleable__control sk-hidden--visually\" id=\"sk-estimator-id-1\" type=\"checkbox\" checked><label for=\"sk-estimator-id-1\" class=\"sk-toggleable__label sk-toggleable__label-arrow\">DecisionTreeRegressor</label><div class=\"sk-toggleable__content\"><pre>DecisionTreeRegressor(max_depth=4)</pre></div></div></div></div></div>"
     },
     "execution_count": 37,
     "metadata": {},
     "output_type": "execute_result"
    }
   ],
   "source": [
    "tree_reg = DecisionTreeRegressor(max_depth=4)\n",
    "#tree_reg.fit(X, y)\n",
    "tree_reg.fit(X_train, y_train)"
   ],
   "metadata": {
    "collapsed": false,
    "pycharm": {
     "name": "#%%\n"
    }
   }
  },
  {
   "cell_type": "code",
   "execution_count": 38,
   "outputs": [],
   "source": [
    "from sklearn.tree import export_graphviz"
   ],
   "metadata": {
    "collapsed": false,
    "pycharm": {
     "name": "#%%\n"
    }
   }
  },
  {
   "cell_type": "code",
   "execution_count": 39,
   "outputs": [],
   "source": [
    "export_graphviz(tree_reg,\n",
    "                out_file=\"property_price-03.dot\",\n",
    "                feature_names=X.columns,\n",
    "                class_names='Price',\n",
    "                rounded=True,\n",
    "                filled=True)\n",
    "\n",
    "# dot -Tpng property_price-03.dot -o property_price-03.png"
   ],
   "metadata": {
    "collapsed": false,
    "pycharm": {
     "name": "#%%\n"
    }
   }
  },
  {
   "cell_type": "code",
   "execution_count": 40,
   "outputs": [
    {
     "data": {
      "text/plain": "0.37824426668648825"
     },
     "execution_count": 40,
     "metadata": {},
     "output_type": "execute_result"
    }
   ],
   "source": [
    "tree_reg.score(X,y)"
   ],
   "metadata": {
    "collapsed": false,
    "pycharm": {
     "name": "#%%\n"
    }
   }
  },
  {
   "cell_type": "code",
   "execution_count": 41,
   "outputs": [
    {
     "name": "stdout",
     "output_type": "stream",
     "text": [
      "['distance_to_any_train' 'bedrooms' 'bathrooms' 'bedrooms_model'\n",
      " 'bathrooms_model' 'location.latitude' 'location.longitude'\n",
      " 'analyticsBranch.branchId' 'analyticsProperty.added'\n",
      " 'analyticsProperty.beds' 'analyticsProperty.floorplanCount'\n",
      " 'analyticsProperty.imageCount' 'analyticsProperty.latitude'\n",
      " 'analyticsProperty.longitude' 'analyticsProperty.propertyId'\n",
      " 'floorplan_count']\n",
      "[0.         0.         0.         0.         0.00509316 0.00508702\n",
      " 0.28612955 0.         0.         0.51140117 0.         0.01516107\n",
      " 0.         0.17712803 0.         0.        ]\n"
     ]
    },
    {
     "data": {
      "text/plain": "                                         0\ndistance_to_any_train             0.000000\nbedrooms                          0.000000\nbathrooms                         0.000000\nbedrooms_model                    0.000000\nbathrooms_model                   0.005093\nlocation.latitude                 0.005087\nlocation.longitude                0.286130\nanalyticsBranch.branchId          0.000000\nanalyticsProperty.added           0.000000\nanalyticsProperty.beds            0.511401\nanalyticsProperty.floorplanCount  0.000000\nanalyticsProperty.imageCount      0.015161\nanalyticsProperty.latitude        0.000000\nanalyticsProperty.longitude       0.177128\nanalyticsProperty.propertyId      0.000000\nfloorplan_count                   0.000000",
      "text/html": "<div>\n<style scoped>\n    .dataframe tbody tr th:only-of-type {\n        vertical-align: middle;\n    }\n\n    .dataframe tbody tr th {\n        vertical-align: top;\n    }\n\n    .dataframe thead th {\n        text-align: right;\n    }\n</style>\n<table border=\"1\" class=\"dataframe\">\n  <thead>\n    <tr style=\"text-align: right;\">\n      <th></th>\n      <th>0</th>\n    </tr>\n  </thead>\n  <tbody>\n    <tr>\n      <th>distance_to_any_train</th>\n      <td>0.000000</td>\n    </tr>\n    <tr>\n      <th>bedrooms</th>\n      <td>0.000000</td>\n    </tr>\n    <tr>\n      <th>bathrooms</th>\n      <td>0.000000</td>\n    </tr>\n    <tr>\n      <th>bedrooms_model</th>\n      <td>0.000000</td>\n    </tr>\n    <tr>\n      <th>bathrooms_model</th>\n      <td>0.005093</td>\n    </tr>\n    <tr>\n      <th>location.latitude</th>\n      <td>0.005087</td>\n    </tr>\n    <tr>\n      <th>location.longitude</th>\n      <td>0.286130</td>\n    </tr>\n    <tr>\n      <th>analyticsBranch.branchId</th>\n      <td>0.000000</td>\n    </tr>\n    <tr>\n      <th>analyticsProperty.added</th>\n      <td>0.000000</td>\n    </tr>\n    <tr>\n      <th>analyticsProperty.beds</th>\n      <td>0.511401</td>\n    </tr>\n    <tr>\n      <th>analyticsProperty.floorplanCount</th>\n      <td>0.000000</td>\n    </tr>\n    <tr>\n      <th>analyticsProperty.imageCount</th>\n      <td>0.015161</td>\n    </tr>\n    <tr>\n      <th>analyticsProperty.latitude</th>\n      <td>0.000000</td>\n    </tr>\n    <tr>\n      <th>analyticsProperty.longitude</th>\n      <td>0.177128</td>\n    </tr>\n    <tr>\n      <th>analyticsProperty.propertyId</th>\n      <td>0.000000</td>\n    </tr>\n    <tr>\n      <th>floorplan_count</th>\n      <td>0.000000</td>\n    </tr>\n  </tbody>\n</table>\n</div>"
     },
     "execution_count": 41,
     "metadata": {},
     "output_type": "execute_result"
    }
   ],
   "source": [
    "print(tree_reg.feature_names_in_)\n",
    "print(tree_reg.feature_importances_)\n",
    "pd.DataFrame(tree_reg.feature_importances_,tree_reg.feature_names_in_)"
   ],
   "metadata": {
    "collapsed": false,
    "pycharm": {
     "name": "#%%\n"
    }
   }
  },
  {
   "cell_type": "code",
   "execution_count": 42,
   "outputs": [
    {
     "data": {
      "text/plain": "[(0.5114011707917555, 'analyticsProperty.beds'),\n (0.28612955167126475, 'location.longitude'),\n (0.1771280318936191, 'analyticsProperty.longitude'),\n (0.01516107126687426, 'analyticsProperty.imageCount'),\n (0.0050931584430815744, 'bathrooms_model'),\n (0.00508701593340475, 'location.latitude'),\n (0.0, 'floorplan_count'),\n (0.0, 'distance_to_any_train'),\n (0.0, 'bedrooms_model'),\n (0.0, 'bedrooms'),\n (0.0, 'bathrooms'),\n (0.0, 'analyticsProperty.propertyId'),\n (0.0, 'analyticsProperty.latitude'),\n (0.0, 'analyticsProperty.floorplanCount'),\n (0.0, 'analyticsProperty.added'),\n (0.0, 'analyticsBranch.branchId')]"
     },
     "execution_count": 42,
     "metadata": {},
     "output_type": "execute_result"
    }
   ],
   "source": [
    "sorted(zip(tree_reg.feature_importances_,tree_reg.feature_names_in_),reverse=True)"
   ],
   "metadata": {
    "collapsed": false,
    "pycharm": {
     "name": "#%%\n"
    }
   }
  },
  {
   "cell_type": "code",
   "execution_count": 43,
   "outputs": [],
   "source": [
    "from sklearn.metrics import mean_squared_error\n",
    "\n"
   ],
   "metadata": {
    "collapsed": false,
    "pycharm": {
     "name": "#%%\n"
    }
   }
  },
  {
   "cell_type": "code",
   "execution_count": 44,
   "outputs": [
    {
     "name": "stdout",
     "output_type": "stream",
     "text": [
      "Scores: [ 83831.87569694  94155.7587431  116978.04188395  91939.02734891\n",
      "  78224.10734973 145747.17499713 103988.56955672 207387.97076677\n",
      " 140037.15654209 145139.73441684]\n",
      "Mean: 120742.94173021933\n",
      "Standard deviation: 37552.2945637902\n"
     ]
    }
   ],
   "source": [
    "import numpy as np\n",
    "\n",
    "from sklearn.model_selection import cross_val_score\n",
    "\n",
    "scores = cross_val_score(tree_reg, X, y,\n",
    "                         scoring=\"neg_mean_squared_error\", cv=10)\n",
    "tree_rmse_scores = np.sqrt(-scores)\n",
    "\n",
    "def display_scores(scores):\n",
    "    print(\"Scores:\", scores)\n",
    "    print(\"Mean:\", scores.mean())\n",
    "    print(\"Standard deviation:\", scores.std())\n",
    "\n",
    "display_scores(tree_rmse_scores)"
   ],
   "metadata": {
    "collapsed": false,
    "pycharm": {
     "name": "#%%\n"
    }
   }
  }
 ],
 "metadata": {
  "kernelspec": {
   "display_name": "Python 3",
   "language": "python",
   "name": "python3"
  },
  "language_info": {
   "codemirror_mode": {
    "name": "ipython",
    "version": 2
   },
   "file_extension": ".py",
   "mimetype": "text/x-python",
   "name": "python",
   "nbconvert_exporter": "python",
   "pygments_lexer": "ipython2",
   "version": "2.7.6"
  }
 },
 "nbformat": 4,
 "nbformat_minor": 0
}