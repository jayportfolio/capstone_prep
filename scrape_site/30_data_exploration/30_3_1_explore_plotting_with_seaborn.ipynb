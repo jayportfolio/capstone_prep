{
 "cells": [
  {
   "cell_type": "code",
   "execution_count": 1,
   "metadata": {
    "collapsed": true,
    "pycharm": {
     "name": "#%%\n"
    }
   },
   "outputs": [
    {
     "name": "stderr",
     "output_type": "stream",
     "text": [
      "/media/sf_shared_files/Springboard_III/capstone_prep/globalfunction/vv.py:230: DtypeWarning: Columns (23,25,28,31,40,44,47,51,56,59,61,62,63) have mixed types. Specify dtype option on import or set low_memory=False.\n",
      "  df_json1 = pd.read_csv(LISTING_JSON_MODEL_FILE)  # EDIT 29-06-2022: There are bid listings and regular listings. I scrape them seporately and join them here.\n"
     ]
    },
    {
     "name": "stdout",
     "output_type": "stream",
     "text": [
      "remove duplicates: 21391/31123/25244/25373 ==> 21391/21659/21461/21464\n",
      "type <class 'pandas.core.indexes.base.Index'>\n",
      "Index(['bedrooms', 'bathrooms', 'Price'], dtype='object')\n"
     ]
    },
    {
     "data": {
      "text/plain": "           bedrooms  bathrooms     Price\nids                                     \n121940801       1.0        1.0  375000.0\n103243121       1.0        1.0  240000.0\n117942098       1.0        1.0  243000.0\n113077622       1.0        1.0  245000.0\n123480440       2.0        1.0  245000.0\n85411653        1.0        1.0  245000.0\n119194409       2.0        NaN  245000.0\n112908473       2.0        1.0  245000.0\n123711860       1.0        1.0  245000.0\n124341788       1.0        1.0  250000.0\n114722228       1.0        1.0  250000.0\n120577454       2.0        1.0  250000.0\n121497560       2.0        1.0  250000.0\n122609978       2.0        1.0  250000.0\n123245852       1.0        NaN  250000.0\n116022599       2.0        1.0  250000.0\n122651684       2.0        1.0  250000.0\n119333162       1.0        1.0  250000.0\n104227202       1.0        1.0  250000.0\n85440723        2.0        1.0  250000.0",
      "text/html": "<div>\n<style scoped>\n    .dataframe tbody tr th:only-of-type {\n        vertical-align: middle;\n    }\n\n    .dataframe tbody tr th {\n        vertical-align: top;\n    }\n\n    .dataframe thead th {\n        text-align: right;\n    }\n</style>\n<table border=\"1\" class=\"dataframe\">\n  <thead>\n    <tr style=\"text-align: right;\">\n      <th></th>\n      <th>bedrooms</th>\n      <th>bathrooms</th>\n      <th>Price</th>\n    </tr>\n    <tr>\n      <th>ids</th>\n      <th></th>\n      <th></th>\n      <th></th>\n    </tr>\n  </thead>\n  <tbody>\n    <tr>\n      <th>121940801</th>\n      <td>1.0</td>\n      <td>1.0</td>\n      <td>375000.0</td>\n    </tr>\n    <tr>\n      <th>103243121</th>\n      <td>1.0</td>\n      <td>1.0</td>\n      <td>240000.0</td>\n    </tr>\n    <tr>\n      <th>117942098</th>\n      <td>1.0</td>\n      <td>1.0</td>\n      <td>243000.0</td>\n    </tr>\n    <tr>\n      <th>113077622</th>\n      <td>1.0</td>\n      <td>1.0</td>\n      <td>245000.0</td>\n    </tr>\n    <tr>\n      <th>123480440</th>\n      <td>2.0</td>\n      <td>1.0</td>\n      <td>245000.0</td>\n    </tr>\n    <tr>\n      <th>85411653</th>\n      <td>1.0</td>\n      <td>1.0</td>\n      <td>245000.0</td>\n    </tr>\n    <tr>\n      <th>119194409</th>\n      <td>2.0</td>\n      <td>NaN</td>\n      <td>245000.0</td>\n    </tr>\n    <tr>\n      <th>112908473</th>\n      <td>2.0</td>\n      <td>1.0</td>\n      <td>245000.0</td>\n    </tr>\n    <tr>\n      <th>123711860</th>\n      <td>1.0</td>\n      <td>1.0</td>\n      <td>245000.0</td>\n    </tr>\n    <tr>\n      <th>124341788</th>\n      <td>1.0</td>\n      <td>1.0</td>\n      <td>250000.0</td>\n    </tr>\n    <tr>\n      <th>114722228</th>\n      <td>1.0</td>\n      <td>1.0</td>\n      <td>250000.0</td>\n    </tr>\n    <tr>\n      <th>120577454</th>\n      <td>2.0</td>\n      <td>1.0</td>\n      <td>250000.0</td>\n    </tr>\n    <tr>\n      <th>121497560</th>\n      <td>2.0</td>\n      <td>1.0</td>\n      <td>250000.0</td>\n    </tr>\n    <tr>\n      <th>122609978</th>\n      <td>2.0</td>\n      <td>1.0</td>\n      <td>250000.0</td>\n    </tr>\n    <tr>\n      <th>123245852</th>\n      <td>1.0</td>\n      <td>NaN</td>\n      <td>250000.0</td>\n    </tr>\n    <tr>\n      <th>116022599</th>\n      <td>2.0</td>\n      <td>1.0</td>\n      <td>250000.0</td>\n    </tr>\n    <tr>\n      <th>122651684</th>\n      <td>2.0</td>\n      <td>1.0</td>\n      <td>250000.0</td>\n    </tr>\n    <tr>\n      <th>119333162</th>\n      <td>1.0</td>\n      <td>1.0</td>\n      <td>250000.0</td>\n    </tr>\n    <tr>\n      <th>104227202</th>\n      <td>1.0</td>\n      <td>1.0</td>\n      <td>250000.0</td>\n    </tr>\n    <tr>\n      <th>85440723</th>\n      <td>2.0</td>\n      <td>1.0</td>\n      <td>250000.0</td>\n    </tr>\n  </tbody>\n</table>\n</div>"
     },
     "execution_count": 1,
     "metadata": {},
     "output_type": "execute_result"
    }
   ],
   "source": [
    "import pandas as pd\n",
    "from sklearn.model_selection import train_test_split\n",
    "from sklearn.tree import DecisionTreeRegressor\n",
    "import sys\n",
    "\n",
    "sys.path.append('../../globalfunction')  # setting path\n",
    "import globalfunction.vv as vv  # importing\n",
    "\n",
    "import numpy as np\n",
    "import pandas as pd\n",
    "\n",
    "\n",
    "df_selected = vv.dataset_modelling_version(iteration_code=\"0001_20220620\")\n",
    "df_selected.head(20)"
   ]
  },
  {
   "cell_type": "markdown",
   "source": [
    "## Using Seaborn"
   ],
   "metadata": {
    "collapsed": false,
    "pycharm": {
     "name": "#%% md\n"
    }
   }
  },
  {
   "cell_type": "code",
   "execution_count": 2,
   "outputs": [],
   "source": [
    "import numpy as np\n",
    "import pandas as pd\n",
    "import matplotlib.pyplot as plt\n",
    "from pylab import rcParams\n",
    "import sklearn\n",
    "from sklearn.linear_model import LinearRegression\n",
    "from sklearn.preprocessing import scale\n",
    "\n",
    "%matplotlib inline\n",
    "rcParams['figure.figsize'] = 5,4\n",
    "rcParams['figure.figsize'] = 10,8"
   ],
   "metadata": {
    "collapsed": false,
    "pycharm": {
     "name": "#%%\n"
    }
   }
  },
  {
   "cell_type": "code",
   "execution_count": 3,
   "outputs": [],
   "source": [
    "import seaborn as sns\n",
    "sns.set_style('whitegrid')"
   ],
   "metadata": {
    "collapsed": false,
    "pycharm": {
     "name": "#%%\n"
    }
   }
  },
  {
   "cell_type": "code",
   "execution_count": 4,
   "outputs": [
    {
     "data": {
      "text/plain": "<seaborn.axisgrid.PairGrid at 0x7f74fafd8550>"
     },
     "execution_count": 4,
     "metadata": {},
     "output_type": "execute_result"
    },
    {
     "data": {
      "text/plain": "<Figure size 360x360 with 6 Axes>",
      "image/png": "[encoded data removed]"
     },
     "metadata": {},
     "output_type": "display_data"
    }
   ],
   "source": [
    "sns.pairplot(df_selected)"
   ],
   "metadata": {
    "collapsed": false,
    "pycharm": {
     "name": "#%%\n"
    }
   }
  },
  {
   "cell_type": "code",
   "execution_count": 4,
   "outputs": [],
   "source": [],
   "metadata": {
    "collapsed": false,
    "pycharm": {
     "name": "#%%\n"
    }
   }
  },
  {
   "cell_type": "code",
   "execution_count": 4,
   "outputs": [],
   "source": [],
   "metadata": {
    "collapsed": false,
    "pycharm": {
     "name": "#%%\n"
    }
   }
  }
 ],
 "metadata": {
  "kernelspec": {
   "display_name": "Python 3",
   "language": "python",
   "name": "python3"
  },
  "language_info": {
   "codemirror_mode": {
    "name": "ipython",
    "version": 2
   },
   "file_extension": ".py",
   "mimetype": "text/x-python",
   "name": "python",
   "nbconvert_exporter": "python",
   "pygments_lexer": "ipython2",
   "version": "2.7.6"
  }
 },
 "nbformat": 4,
 "nbformat_minor": 0
}