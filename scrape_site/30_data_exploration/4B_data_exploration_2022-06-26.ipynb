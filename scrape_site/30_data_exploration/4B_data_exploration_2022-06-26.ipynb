{
 "cells": [
  {
   "cell_type": "code",
   "execution_count": 2,
   "outputs": [],
   "source": [
    "import pandas as pd\n",
    "import seaborn as sns\n",
    "import matplotlib.pyplot as plt\n",
    "import numpy as np\n",
    "\n",
    "import vv"
   ],
   "metadata": {
    "collapsed": false,
    "pycharm": {
     "name": "#%%\n"
    }
   }
  },
  {
   "cell_type": "code",
   "execution_count": 4,
   "outputs": [
    {
     "data": {
      "text/plain": "         ids                                              Links  \\\n0  123171899  https://www.rightmove.co.uk/properties/1231718...   \n1   85461000  https://www.rightmove.co.uk/properties/8546100...   \n2   85174740  https://www.rightmove.co.uk/properties/8517474...   \n3  124007903  https://www.rightmove.co.uk/properties/1240079...   \n4   85614570  https://www.rightmove.co.uk/properties/8561457...   \n\n                                       Address  \\\n0                           Springbank, London   \n1            Bullsmoor Way, Waltham Cross, EN8   \n2                       Jervis Avenue, Enfield   \n3                     Leigh Hunt Drive, London   \n4  Grovelands Road, Palmers Green, London, N13   \n\n                              Description     Price       version  \\\n0            3 bedroom apartment for sale  475000.0  v0021_220622   \n1       3 bedroom terraced house for sale  375000.0  v0021_220622   \n2  2 bedroom semi-detached house for sale  375000.0  v0021_220622   \n3            2 bedroom apartment for sale  375000.0  v0021_220622   \n4                 1 bedroom flat for sale  375000.0  v0021_220622   \n\n                  borough                                   referencing_link  \\\n0  ('Enfield', '5E93950')  https://www.rightmove.co.uk/property-for-sale/...   \n1  ('Enfield', '5E93950')  https://www.rightmove.co.uk/property-for-sale/...   \n2  ('Enfield', '5E93950')  https://www.rightmove.co.uk/property-for-sale/...   \n3  ('Enfield', '5E93950')  https://www.rightmove.co.uk/property-for-sale/...   \n4  ('Enfield', '5E93950')  https://www.rightmove.co.uk/property-for-sale/...   \n\n                                            add_info         date_scraped  \n0            Added on 09/05/2022 by haart, Southgate  2022-06-26 20:35:34  \n1  Reduced on 17/03/2022 by Christopher Stokes, C...  2022-06-26 20:35:34  \n2     Added on 25/02/2022 by Cottage Fields, Enfield  2022-06-26 20:35:34  \n3            Added on 17/06/2022 by haart, Southgate  2022-06-26 20:35:35  \n4  Added on 11/06/2022 by Anthony Pepe Estate Age...  2022-06-26 20:35:35  ",
      "text/html": "<div>\n<style scoped>\n    .dataframe tbody tr th:only-of-type {\n        vertical-align: middle;\n    }\n\n    .dataframe tbody tr th {\n        vertical-align: top;\n    }\n\n    .dataframe thead th {\n        text-align: right;\n    }\n</style>\n<table border=\"1\" class=\"dataframe\">\n  <thead>\n    <tr style=\"text-align: right;\">\n      <th></th>\n      <th>ids</th>\n      <th>Links</th>\n      <th>Address</th>\n      <th>Description</th>\n      <th>Price</th>\n      <th>version</th>\n      <th>borough</th>\n      <th>referencing_link</th>\n      <th>add_info</th>\n      <th>date_scraped</th>\n    </tr>\n  </thead>\n  <tbody>\n    <tr>\n      <th>0</th>\n      <td>123171899</td>\n      <td>https://www.rightmove.co.uk/properties/1231718...</td>\n      <td>Springbank, London</td>\n      <td>3 bedroom apartment for sale</td>\n      <td>475000.0</td>\n      <td>v0021_220622</td>\n      <td>('Enfield', '5E93950')</td>\n      <td>https://www.rightmove.co.uk/property-for-sale/...</td>\n      <td>Added on 09/05/2022 by haart, Southgate</td>\n      <td>2022-06-26 20:35:34</td>\n    </tr>\n    <tr>\n      <th>1</th>\n      <td>85461000</td>\n      <td>https://www.rightmove.co.uk/properties/8546100...</td>\n      <td>Bullsmoor Way, Waltham Cross, EN8</td>\n      <td>3 bedroom terraced house for sale</td>\n      <td>375000.0</td>\n      <td>v0021_220622</td>\n      <td>('Enfield', '5E93950')</td>\n      <td>https://www.rightmove.co.uk/property-for-sale/...</td>\n      <td>Reduced on 17/03/2022 by Christopher Stokes, C...</td>\n      <td>2022-06-26 20:35:34</td>\n    </tr>\n    <tr>\n      <th>2</th>\n      <td>85174740</td>\n      <td>https://www.rightmove.co.uk/properties/8517474...</td>\n      <td>Jervis Avenue, Enfield</td>\n      <td>2 bedroom semi-detached house for sale</td>\n      <td>375000.0</td>\n      <td>v0021_220622</td>\n      <td>('Enfield', '5E93950')</td>\n      <td>https://www.rightmove.co.uk/property-for-sale/...</td>\n      <td>Added on 25/02/2022 by Cottage Fields, Enfield</td>\n      <td>2022-06-26 20:35:34</td>\n    </tr>\n    <tr>\n      <th>3</th>\n      <td>124007903</td>\n      <td>https://www.rightmove.co.uk/properties/1240079...</td>\n      <td>Leigh Hunt Drive, London</td>\n      <td>2 bedroom apartment for sale</td>\n      <td>375000.0</td>\n      <td>v0021_220622</td>\n      <td>('Enfield', '5E93950')</td>\n      <td>https://www.rightmove.co.uk/property-for-sale/...</td>\n      <td>Added on 17/06/2022 by haart, Southgate</td>\n      <td>2022-06-26 20:35:35</td>\n    </tr>\n    <tr>\n      <th>4</th>\n      <td>85614570</td>\n      <td>https://www.rightmove.co.uk/properties/8561457...</td>\n      <td>Grovelands Road, Palmers Green, London, N13</td>\n      <td>1 bedroom flat for sale</td>\n      <td>375000.0</td>\n      <td>v0021_220622</td>\n      <td>('Enfield', '5E93950')</td>\n      <td>https://www.rightmove.co.uk/property-for-sale/...</td>\n      <td>Added on 11/06/2022 by Anthony Pepe Estate Age...</td>\n      <td>2022-06-26 20:35:35</td>\n    </tr>\n  </tbody>\n</table>\n</div>"
     },
     "execution_count": 4,
     "metadata": {},
     "output_type": "execute_result"
    }
   ],
   "source": [
    "df_list = pd.read_csv(vv.LISTING_BASIC_FILE)\n",
    "df_list.head(5)"
   ],
   "metadata": {
    "collapsed": false,
    "pycharm": {
     "name": "#%%\n"
    }
   }
  },
  {
   "cell_type": "code",
   "execution_count": 6,
   "outputs": [
    {
     "data": {
      "text/plain": "           ids       version link  closeness_to_station type  bedrooms  \\\n0  123510599.0  v0001_130622   --                   0.0  NaN       NaN   \n1   85572123.0  v0001_130622   --                   0.1  NaN       NaN   \n2   85701084.0  v0001_130622   --                   0.2  NaN       NaN   \n3   80180424.0  v0001_130622   --                   0.1  NaN       NaN   \n4   96572116.0  v0001_130622   --                   0.1  NaN       NaN   \n\n   bathrooms size other_key_info bullet_points station_info hold_type  \\\n0        NaN  NaN            NaN           NaN          NaN       NaN   \n1        NaN  NaN            NaN           NaN          NaN       NaN   \n2        NaN  NaN            NaN           NaN          NaN       NaN   \n3        NaN  NaN            NaN           NaN          NaN       NaN   \n4        NaN  NaN            NaN           NaN          NaN       NaN   \n\n  short_description long_description         date_scraped  \n0               NaN              NaN  1999-01-01 01:00:00  \n1               NaN              NaN  1999-01-01 01:00:00  \n2               NaN              NaN  1999-01-01 01:00:00  \n3               NaN              NaN  1999-01-01 01:00:00  \n4               NaN              NaN  1999-01-01 01:00:00  ",
      "text/html": "<div>\n<style scoped>\n    .dataframe tbody tr th:only-of-type {\n        vertical-align: middle;\n    }\n\n    .dataframe tbody tr th {\n        vertical-align: top;\n    }\n\n    .dataframe thead th {\n        text-align: right;\n    }\n</style>\n<table border=\"1\" class=\"dataframe\">\n  <thead>\n    <tr style=\"text-align: right;\">\n      <th></th>\n      <th>ids</th>\n      <th>version</th>\n      <th>link</th>\n      <th>closeness_to_station</th>\n      <th>type</th>\n      <th>bedrooms</th>\n      <th>bathrooms</th>\n      <th>size</th>\n      <th>other_key_info</th>\n      <th>bullet_points</th>\n      <th>station_info</th>\n      <th>hold_type</th>\n      <th>short_description</th>\n      <th>long_description</th>\n      <th>date_scraped</th>\n    </tr>\n  </thead>\n  <tbody>\n    <tr>\n      <th>0</th>\n      <td>123510599.0</td>\n      <td>v0001_130622</td>\n      <td>--</td>\n      <td>0.0</td>\n      <td>NaN</td>\n      <td>NaN</td>\n      <td>NaN</td>\n      <td>NaN</td>\n      <td>NaN</td>\n      <td>NaN</td>\n      <td>NaN</td>\n      <td>NaN</td>\n      <td>NaN</td>\n      <td>NaN</td>\n      <td>1999-01-01 01:00:00</td>\n    </tr>\n    <tr>\n      <th>1</th>\n      <td>85572123.0</td>\n      <td>v0001_130622</td>\n      <td>--</td>\n      <td>0.1</td>\n      <td>NaN</td>\n      <td>NaN</td>\n      <td>NaN</td>\n      <td>NaN</td>\n      <td>NaN</td>\n      <td>NaN</td>\n      <td>NaN</td>\n      <td>NaN</td>\n      <td>NaN</td>\n      <td>NaN</td>\n      <td>1999-01-01 01:00:00</td>\n    </tr>\n    <tr>\n      <th>2</th>\n      <td>85701084.0</td>\n      <td>v0001_130622</td>\n      <td>--</td>\n      <td>0.2</td>\n      <td>NaN</td>\n      <td>NaN</td>\n      <td>NaN</td>\n      <td>NaN</td>\n      <td>NaN</td>\n      <td>NaN</td>\n      <td>NaN</td>\n      <td>NaN</td>\n      <td>NaN</td>\n      <td>NaN</td>\n      <td>1999-01-01 01:00:00</td>\n    </tr>\n    <tr>\n      <th>3</th>\n      <td>80180424.0</td>\n      <td>v0001_130622</td>\n      <td>--</td>\n      <td>0.1</td>\n      <td>NaN</td>\n      <td>NaN</td>\n      <td>NaN</td>\n      <td>NaN</td>\n      <td>NaN</td>\n      <td>NaN</td>\n      <td>NaN</td>\n      <td>NaN</td>\n      <td>NaN</td>\n      <td>NaN</td>\n      <td>1999-01-01 01:00:00</td>\n    </tr>\n    <tr>\n      <th>4</th>\n      <td>96572116.0</td>\n      <td>v0001_130622</td>\n      <td>--</td>\n      <td>0.1</td>\n      <td>NaN</td>\n      <td>NaN</td>\n      <td>NaN</td>\n      <td>NaN</td>\n      <td>NaN</td>\n      <td>NaN</td>\n      <td>NaN</td>\n      <td>NaN</td>\n      <td>NaN</td>\n      <td>NaN</td>\n      <td>1999-01-01 01:00:00</td>\n    </tr>\n  </tbody>\n</table>\n</div>"
     },
     "execution_count": 6,
     "metadata": {},
     "output_type": "execute_result"
    }
   ],
   "source": [
    "df_indiv = pd.read_csv(vv.LISTING_ENRICHED_FILE)\n",
    "df_indiv = df_indiv.rename(index=str, columns={\"Station_Prox\": \"closeness_to_station\",'bedrooms_model':'bedrooms','bathrooms_model':'bathrooms','tenure.tenureType':'tenureType'})\n",
    "df_indiv.head(5)"
   ],
   "metadata": {
    "collapsed": false,
    "pycharm": {
     "name": "#%%\n"
    }
   }
  },
  {
   "cell_type": "code",
   "execution_count": 10,
   "outputs": [
    {
     "name": "stderr",
     "output_type": "stream",
     "text": [
      "/tmp/ipykernel_37610/4031172973.py:1: DtypeWarning: Columns (23,25,26,28,31,32,40,44,47,51,54,56,59,60,61,62,63,64,74,78,79,80,82,83,84,85,86,88) have mixed types. Specify dtype option on import or set low_memory=False.\n",
      "  df_json = pd.read_csv(vv.LISTING_JSONMODEL_FILE)\n"
     ]
    },
    {
     "data": {
      "text/plain": "          id                                        keyFeatures  \\\n0  124126712  ['QUIET AREA SURROUNDED BY ELMSTEAD &amp; MARV...   \n1  122078540  ['Why Should You Buy Me?', 'Limited to Buyers ...   \n2  123967277  ['Three bedrooms', 'Open plan kitchen diner', ...   \n3  123772928  ['Detached Family House', 'Three Double Bedroo...   \n4   85455351  ['Victorian mid terrace house', 'Conveniently ...   \n\n                                              images  \\\n0  [{'url': 'https://media.rightmove.co.uk/18k/17...   \n1  [{'url': 'https://media.rightmove.co.uk/246k/2...   \n2  [{'url': 'https://media.rightmove.co.uk/56k/55...   \n3  [{'url': 'https://media.rightmove.co.uk/10k/92...   \n4  [{'url': 'https://media.rightmove.co.uk/5k/431...   \n\n                                          floorplans  \\\n0  [{'url': 'https://media.rightmove.co.uk/18k/17...   \n1  [{'url': 'https://media.rightmove.co.uk/246k/2...   \n2  [{'url': 'https://media.rightmove.co.uk/56k/55...   \n3  [{'url': 'https://media.rightmove.co.uk/10k/92...   \n4  [{'url': 'https://media.rightmove.co.uk/5k/431...   \n\n                                        virtualTours  \\\n0                                                 []   \n1  [{'url': 'https://my.matterport.com/show/?m=Qr...   \n2  [{'url': 'https://nichecom.s3.eu-west-1.amazon...   \n3                                                 []   \n4  [{'url': 'https://property-teaser-video.s3.eu-...   \n\n                                industryAffiliations  \\\n0  [{'name': 'Association of Residential Letting ...   \n1  [{'name': 'Association of Residential Letting ...   \n2  [{'name': 'Ombudsman for REsale Estate Agents ...   \n3  [{'name': 'Association of Residential Letting ...   \n4  [{'name': 'Association of Residential Letting ...   \n\n                                               rooms nearestAirports  \\\n0                                                 []              []   \n1                                                 []              []   \n2                                                 []              []   \n3  [{'name': 'Ground Floor', 'description': None,...              []   \n4                                                 []              []   \n\n                                     nearestStations  showSchoolInfo  ...  \\\n0  [{'name': 'Elmstead Woods Station', 'types': [...            True  ...   \n1  [{'name': 'Ravensbourne Station', 'types': ['N...            True  ...   \n2  [{'name': 'Hayes Station', 'types': ['NATIONAL...            True  ...   \n3  [{'name': 'Hayes Station', 'types': ['NATIONAL...            True  ...   \n4  [{'name': 'Orpington Station', 'types': ['NATI...            True  ...   \n\n   sharedOwnership.rentPrice sharedOwnership.rentFrequency  \\\n0                        NaN                 not specified   \n1                        NaN                 not specified   \n2                        NaN                 not specified   \n3                        NaN                 not specified   \n4                        NaN                 not specified   \n\n  livingCosts.councilTaxExempt livingCosts.councilTaxIncluded  \\\n0                        False                          False   \n1                        False                          False   \n2                        False                          False   \n3                        False                          False   \n4                        False                          False   \n\n  livingCosts.annualGroundRent  livingCosts.groundRentReviewPeriodInYears  \\\n0                          NaN                                        NaN   \n1                          NaN                                        NaN   \n2                          NaN                                        NaN   \n3                          NaN                                        NaN   \n4                          NaN                                        NaN   \n\n   livingCosts.groundRentPercentageIncrease livingCosts.annualServiceCharge  \\\n0                                       NaN                             NaN   \n1                                       NaN                             NaN   \n2                                       NaN                             NaN   \n3                                       NaN                             NaN   \n4                                       NaN                             NaN   \n\n  livingCosts.councilTaxBand  livingCosts.domesticRates  \n0                        NaN                        NaN  \n1                        NaN                        NaN  \n2                        NaN                        NaN  \n3                        NaN                        NaN  \n4                        NaN                        NaN  \n\n[5 rows x 90 columns]",
      "text/html": "<div>\n<style scoped>\n    .dataframe tbody tr th:only-of-type {\n        vertical-align: middle;\n    }\n\n    .dataframe tbody tr th {\n        vertical-align: top;\n    }\n\n    .dataframe thead th {\n        text-align: right;\n    }\n</style>\n<table border=\"1\" class=\"dataframe\">\n  <thead>\n    <tr style=\"text-align: right;\">\n      <th></th>\n      <th>id</th>\n      <th>keyFeatures</th>\n      <th>images</th>\n      <th>floorplans</th>\n      <th>virtualTours</th>\n      <th>industryAffiliations</th>\n      <th>rooms</th>\n      <th>nearestAirports</th>\n      <th>nearestStations</th>\n      <th>showSchoolInfo</th>\n      <th>...</th>\n      <th>sharedOwnership.rentPrice</th>\n      <th>sharedOwnership.rentFrequency</th>\n      <th>livingCosts.councilTaxExempt</th>\n      <th>livingCosts.councilTaxIncluded</th>\n      <th>livingCosts.annualGroundRent</th>\n      <th>livingCosts.groundRentReviewPeriodInYears</th>\n      <th>livingCosts.groundRentPercentageIncrease</th>\n      <th>livingCosts.annualServiceCharge</th>\n      <th>livingCosts.councilTaxBand</th>\n      <th>livingCosts.domesticRates</th>\n    </tr>\n  </thead>\n  <tbody>\n    <tr>\n      <th>0</th>\n      <td>124126712</td>\n      <td>['QUIET AREA SURROUNDED BY ELMSTEAD &amp;amp; MARV...</td>\n      <td>[{'url': 'https://media.rightmove.co.uk/18k/17...</td>\n      <td>[{'url': 'https://media.rightmove.co.uk/18k/17...</td>\n      <td>[]</td>\n      <td>[{'name': 'Association of Residential Letting ...</td>\n      <td>[]</td>\n      <td>[]</td>\n      <td>[{'name': 'Elmstead Woods Station', 'types': [...</td>\n      <td>True</td>\n      <td>...</td>\n      <td>NaN</td>\n      <td>not specified</td>\n      <td>False</td>\n      <td>False</td>\n      <td>NaN</td>\n      <td>NaN</td>\n      <td>NaN</td>\n      <td>NaN</td>\n      <td>NaN</td>\n      <td>NaN</td>\n    </tr>\n    <tr>\n      <th>1</th>\n      <td>122078540</td>\n      <td>['Why Should You Buy Me?', 'Limited to Buyers ...</td>\n      <td>[{'url': 'https://media.rightmove.co.uk/246k/2...</td>\n      <td>[{'url': 'https://media.rightmove.co.uk/246k/2...</td>\n      <td>[{'url': 'https://my.matterport.com/show/?m=Qr...</td>\n      <td>[{'name': 'Association of Residential Letting ...</td>\n      <td>[]</td>\n      <td>[]</td>\n      <td>[{'name': 'Ravensbourne Station', 'types': ['N...</td>\n      <td>True</td>\n      <td>...</td>\n      <td>NaN</td>\n      <td>not specified</td>\n      <td>False</td>\n      <td>False</td>\n      <td>NaN</td>\n      <td>NaN</td>\n      <td>NaN</td>\n      <td>NaN</td>\n      <td>NaN</td>\n      <td>NaN</td>\n    </tr>\n    <tr>\n      <th>2</th>\n      <td>123967277</td>\n      <td>['Three bedrooms', 'Open plan kitchen diner', ...</td>\n      <td>[{'url': 'https://media.rightmove.co.uk/56k/55...</td>\n      <td>[{'url': 'https://media.rightmove.co.uk/56k/55...</td>\n      <td>[{'url': 'https://nichecom.s3.eu-west-1.amazon...</td>\n      <td>[{'name': 'Ombudsman for REsale Estate Agents ...</td>\n      <td>[]</td>\n      <td>[]</td>\n      <td>[{'name': 'Hayes Station', 'types': ['NATIONAL...</td>\n      <td>True</td>\n      <td>...</td>\n      <td>NaN</td>\n      <td>not specified</td>\n      <td>False</td>\n      <td>False</td>\n      <td>NaN</td>\n      <td>NaN</td>\n      <td>NaN</td>\n      <td>NaN</td>\n      <td>NaN</td>\n      <td>NaN</td>\n    </tr>\n    <tr>\n      <th>3</th>\n      <td>123772928</td>\n      <td>['Detached Family House', 'Three Double Bedroo...</td>\n      <td>[{'url': 'https://media.rightmove.co.uk/10k/92...</td>\n      <td>[{'url': 'https://media.rightmove.co.uk/10k/92...</td>\n      <td>[]</td>\n      <td>[{'name': 'Association of Residential Letting ...</td>\n      <td>[{'name': 'Ground Floor', 'description': None,...</td>\n      <td>[]</td>\n      <td>[{'name': 'Hayes Station', 'types': ['NATIONAL...</td>\n      <td>True</td>\n      <td>...</td>\n      <td>NaN</td>\n      <td>not specified</td>\n      <td>False</td>\n      <td>False</td>\n      <td>NaN</td>\n      <td>NaN</td>\n      <td>NaN</td>\n      <td>NaN</td>\n      <td>NaN</td>\n      <td>NaN</td>\n    </tr>\n    <tr>\n      <th>4</th>\n      <td>85455351</td>\n      <td>['Victorian mid terrace house', 'Conveniently ...</td>\n      <td>[{'url': 'https://media.rightmove.co.uk/5k/431...</td>\n      <td>[{'url': 'https://media.rightmove.co.uk/5k/431...</td>\n      <td>[{'url': 'https://property-teaser-video.s3.eu-...</td>\n      <td>[{'name': 'Association of Residential Letting ...</td>\n      <td>[]</td>\n      <td>[]</td>\n      <td>[{'name': 'Orpington Station', 'types': ['NATI...</td>\n      <td>True</td>\n      <td>...</td>\n      <td>NaN</td>\n      <td>not specified</td>\n      <td>False</td>\n      <td>False</td>\n      <td>NaN</td>\n      <td>NaN</td>\n      <td>NaN</td>\n      <td>NaN</td>\n      <td>NaN</td>\n      <td>NaN</td>\n    </tr>\n  </tbody>\n</table>\n<p>5 rows × 90 columns</p>\n</div>"
     },
     "execution_count": 10,
     "metadata": {},
     "output_type": "execute_result"
    }
   ],
   "source": [
    "df_json = pd.read_csv(vv.LISTING_JSONMODEL_FILE)\n",
    "df_json['id'] = df_json['id'].astype(int)\n",
    "df_json.head(5)"
   ],
   "metadata": {
    "collapsed": false,
    "pycharm": {
     "name": "#%%\n"
    }
   }
  },
  {
   "cell_type": "code",
   "execution_count": 12,
   "outputs": [
    {
     "data": {
      "text/plain": "     id_copy       version         date_scraped analyticsBranch.agentType  \\\n0  123772928  v0021_220622  2022-06-22 13:41:30                   ea_dual   \n1   85455351  v0021_220622  2022-06-22 13:42:34                  ea_sales   \n2   85566933  v0021_220622  2022-06-22 13:42:43                   ea_dual   \n3  118650851  v0021_220622  2022-06-22 13:42:48                  ea_sales   \n4  120326048  v0021_220622  2022-06-22 13:42:54                   ea_dual   \n\n   analyticsBranch.branchId analyticsBranch.branchName  \\\n0                      9274                 Petts Wood   \n1                      4316                 Petts Wood   \n2                     50710             Crystal Palace   \n3                     17465          Mottingham- Sales   \n4                     50710             Crystal Palace   \n\n   analyticsBranch.branchPostcode analyticsBranch.brandName  \\\n0                             NaN                  Proctors   \n1                             NaN                       jdm   \n2                             NaN                     Acorn   \n3                             NaN    Cockburn Estate Agents   \n4                             NaN                     Acorn   \n\n  analyticsBranch.companyName analyticsBranch.companyTradingName  ...  \\\n0                    Proctors                                NaN  ...   \n1                         jdm                                NaN  ...   \n2                 Acorn Group                        Acorn Group  ...   \n3                    Cockburn                                NaN  ...   \n4                 Acorn Group                        Acorn Group  ...   \n\n  analyticsProperty.propertySubType analyticsProperty.propertyType  \\\n0                          Detached                         Houses   \n1                          Terraced                         Houses   \n2                              Flat             Flats / Apartments   \n3                        Maisonette             Flats / Apartments   \n4                              Flat             Flats / Apartments   \n\n  analyticsProperty.retirement analyticsProperty.selectedCurrency  \\\n0                        False                                NaN   \n1                        False                                NaN   \n2                        False                                NaN   \n3                        False                                NaN   \n4                        False                                NaN   \n\n  analyticsProperty.selectedPrice analyticsProperty.soldSTC  \\\n0                             NaN                     False   \n1                             NaN                      True   \n2                             NaN                     False   \n3                             NaN                      True   \n4                             NaN                      True   \n\n  analyticsProperty.videoProvider analyticsProperty.viewType  \\\n0                        No Video                    Current   \n1                   External Link                    Current   \n2                        No Video                    Current   \n3                        No Video                    Current   \n4                        No Video                    Current   \n\n                         analyticsProperty.customUri Unnamed: 46  \n0  https://www.rightmove.co.uk/property-for-sale/...         NaN  \n1  https://www.rightmove.co.uk/property-for-sale/...         NaN  \n2  https://www.rightmove.co.uk/property-for-sale/...         NaN  \n3  https://www.rightmove.co.uk/property-for-sale/...         NaN  \n4  https://www.rightmove.co.uk/property-for-sale/...         NaN  \n\n[5 rows x 47 columns]",
      "text/html": "<div>\n<style scoped>\n    .dataframe tbody tr th:only-of-type {\n        vertical-align: middle;\n    }\n\n    .dataframe tbody tr th {\n        vertical-align: top;\n    }\n\n    .dataframe thead th {\n        text-align: right;\n    }\n</style>\n<table border=\"1\" class=\"dataframe\">\n  <thead>\n    <tr style=\"text-align: right;\">\n      <th></th>\n      <th>id_copy</th>\n      <th>version</th>\n      <th>date_scraped</th>\n      <th>analyticsBranch.agentType</th>\n      <th>analyticsBranch.branchId</th>\n      <th>analyticsBranch.branchName</th>\n      <th>analyticsBranch.branchPostcode</th>\n      <th>analyticsBranch.brandName</th>\n      <th>analyticsBranch.companyName</th>\n      <th>analyticsBranch.companyTradingName</th>\n      <th>...</th>\n      <th>analyticsProperty.propertySubType</th>\n      <th>analyticsProperty.propertyType</th>\n      <th>analyticsProperty.retirement</th>\n      <th>analyticsProperty.selectedCurrency</th>\n      <th>analyticsProperty.selectedPrice</th>\n      <th>analyticsProperty.soldSTC</th>\n      <th>analyticsProperty.videoProvider</th>\n      <th>analyticsProperty.viewType</th>\n      <th>analyticsProperty.customUri</th>\n      <th>Unnamed: 46</th>\n    </tr>\n  </thead>\n  <tbody>\n    <tr>\n      <th>0</th>\n      <td>123772928</td>\n      <td>v0021_220622</td>\n      <td>2022-06-22 13:41:30</td>\n      <td>ea_dual</td>\n      <td>9274</td>\n      <td>Petts Wood</td>\n      <td>NaN</td>\n      <td>Proctors</td>\n      <td>Proctors</td>\n      <td>NaN</td>\n      <td>...</td>\n      <td>Detached</td>\n      <td>Houses</td>\n      <td>False</td>\n      <td>NaN</td>\n      <td>NaN</td>\n      <td>False</td>\n      <td>No Video</td>\n      <td>Current</td>\n      <td>https://www.rightmove.co.uk/property-for-sale/...</td>\n      <td>NaN</td>\n    </tr>\n    <tr>\n      <th>1</th>\n      <td>85455351</td>\n      <td>v0021_220622</td>\n      <td>2022-06-22 13:42:34</td>\n      <td>ea_sales</td>\n      <td>4316</td>\n      <td>Petts Wood</td>\n      <td>NaN</td>\n      <td>jdm</td>\n      <td>jdm</td>\n      <td>NaN</td>\n      <td>...</td>\n      <td>Terraced</td>\n      <td>Houses</td>\n      <td>False</td>\n      <td>NaN</td>\n      <td>NaN</td>\n      <td>True</td>\n      <td>External Link</td>\n      <td>Current</td>\n      <td>https://www.rightmove.co.uk/property-for-sale/...</td>\n      <td>NaN</td>\n    </tr>\n    <tr>\n      <th>2</th>\n      <td>85566933</td>\n      <td>v0021_220622</td>\n      <td>2022-06-22 13:42:43</td>\n      <td>ea_dual</td>\n      <td>50710</td>\n      <td>Crystal Palace</td>\n      <td>NaN</td>\n      <td>Acorn</td>\n      <td>Acorn Group</td>\n      <td>Acorn Group</td>\n      <td>...</td>\n      <td>Flat</td>\n      <td>Flats / Apartments</td>\n      <td>False</td>\n      <td>NaN</td>\n      <td>NaN</td>\n      <td>False</td>\n      <td>No Video</td>\n      <td>Current</td>\n      <td>https://www.rightmove.co.uk/property-for-sale/...</td>\n      <td>NaN</td>\n    </tr>\n    <tr>\n      <th>3</th>\n      <td>118650851</td>\n      <td>v0021_220622</td>\n      <td>2022-06-22 13:42:48</td>\n      <td>ea_sales</td>\n      <td>17465</td>\n      <td>Mottingham- Sales</td>\n      <td>NaN</td>\n      <td>Cockburn Estate Agents</td>\n      <td>Cockburn</td>\n      <td>NaN</td>\n      <td>...</td>\n      <td>Maisonette</td>\n      <td>Flats / Apartments</td>\n      <td>False</td>\n      <td>NaN</td>\n      <td>NaN</td>\n      <td>True</td>\n      <td>No Video</td>\n      <td>Current</td>\n      <td>https://www.rightmove.co.uk/property-for-sale/...</td>\n      <td>NaN</td>\n    </tr>\n    <tr>\n      <th>4</th>\n      <td>120326048</td>\n      <td>v0021_220622</td>\n      <td>2022-06-22 13:42:54</td>\n      <td>ea_dual</td>\n      <td>50710</td>\n      <td>Crystal Palace</td>\n      <td>NaN</td>\n      <td>Acorn</td>\n      <td>Acorn Group</td>\n      <td>Acorn Group</td>\n      <td>...</td>\n      <td>Flat</td>\n      <td>Flats / Apartments</td>\n      <td>False</td>\n      <td>NaN</td>\n      <td>NaN</td>\n      <td>True</td>\n      <td>No Video</td>\n      <td>Current</td>\n      <td>https://www.rightmove.co.uk/property-for-sale/...</td>\n      <td>NaN</td>\n    </tr>\n  </tbody>\n</table>\n<p>5 rows × 47 columns</p>\n</div>"
     },
     "execution_count": 12,
     "metadata": {},
     "output_type": "execute_result"
    }
   ],
   "source": [
    "df_meta = pd.read_csv(vv.LISTING_JSON_META_FILE)\n",
    "df_meta['id_copy'] = df_meta['id_copy'].astype(int)\n",
    "df_meta.head(5)"
   ],
   "metadata": {
    "collapsed": false,
    "pycharm": {
     "name": "#%%\n"
    }
   }
  },
  {
   "cell_type": "code",
   "execution_count": 16,
   "outputs": [
    {
     "data": {
      "text/plain": "(10375, 160)"
     },
     "execution_count": 16,
     "metadata": {},
     "output_type": "execute_result"
    }
   ],
   "source": [
    "JOIN_HOW = 'left'\n",
    "\n",
    "df_original = df_list \\\n",
    "    .merge(df_indiv, on='ids', how='inner', suffixes=('_indiv', '_listing')) \\\n",
    "    .merge(df_json, left_on='ids', right_on='id', how=JOIN_HOW, suffixes=('_comb2', '_model')) \\\n",
    "    .merge(df_meta, left_on='ids', right_on='id_copy', how=JOIN_HOW, suffixes=('comb3', '_meta'))\n",
    "#combined_df\n",
    "\n",
    "df_original.set_index(\"ids\", inplace=True)\n",
    "df_original = df_original[~df_original.index.duplicated(keep='last')]\n",
    "df_original.shape"
   ],
   "metadata": {
    "collapsed": false,
    "pycharm": {
     "name": "#%%\n"
    }
   }
  },
  {
   "cell_type": "code",
   "execution_count": 17,
   "outputs": [],
   "source": [
    "df_original = df_original.drop(['Links','version_listing','version_indiv','link'], axis=1)"
   ],
   "metadata": {
    "collapsed": false,
    "pycharm": {
     "name": "#%%\n"
    }
   }
  },
  {
   "cell_type": "code",
   "execution_count": 24,
   "outputs": [
    {
     "name": "stdout",
     "output_type": "stream",
     "text": [
      "(10375, 156)\n",
      "<class 'pandas.core.frame.DataFrame'>\n",
      "Int64Index: 10375 entries, 123171899 to 97494416\n",
      "Columns: 156 entries, Address to Unnamed: 46\n",
      "dtypes: float64(28), object(128)\n",
      "memory usage: 12.4+ MB\n"
     ]
    }
   ],
   "source": [
    "#df_original['Target'] = df_original['Price'].fillna(0.0)\n",
    "df_original['Price'] = pd.to_numeric(df_original['Price'], 'coerce').dropna().astype(int)\n",
    "print(df_original.shape)\n",
    "df_original.info()"
   ],
   "metadata": {
    "collapsed": false,
    "pycharm": {
     "name": "#%%\n"
    }
   }
  },
  {
   "cell_type": "code",
   "execution_count": 27,
   "outputs": [
    {
     "name": "stdout",
     "output_type": "stream",
     "text": [
      "<class 'pandas.core.frame.DataFrame'>\n",
      "Int64Index: 10375 entries, 123171899 to 97494416\n",
      "Data columns (total 100 columns):\n",
      " #   Column                                              Non-Null Count  Dtype  \n",
      "---  ------                                              --------------  -----  \n",
      " 0   Address                                             10375 non-null  object \n",
      " 1   Description                                         10375 non-null  object \n",
      " 2   Price                                               10353 non-null  float64\n",
      " 3   borough                                             10350 non-null  object \n",
      " 4   referencing_link                                    7794 non-null   object \n",
      " 5   add_info                                            7794 non-null   object \n",
      " 6   date_scraped_indiv                                  7794 non-null   object \n",
      " 7   closeness_to_station                                10375 non-null  float64\n",
      " 8   type                                                10334 non-null  object \n",
      " 9   bedrooms_comb2                                      9958 non-null   float64\n",
      " 10  bathrooms_comb2                                     9649 non-null   float64\n",
      " 11  size                                                1636 non-null   object \n",
      " 12  other_key_info                                      16 non-null     object \n",
      " 13  bullet_points                                       9407 non-null   object \n",
      " 14  station_info                                        10338 non-null  object \n",
      " 15  hold_type                                           1090 non-null   object \n",
      " 16  short_description                                   10333 non-null  object \n",
      " 17  long_description                                    10331 non-null  object \n",
      " 18  date_scraped_listing                                10375 non-null  object \n",
      " 19  id                                                  8005 non-null   float64\n",
      " 20  keyFeatures                                         8005 non-null   object \n",
      " 21  images                                              8005 non-null   object \n",
      " 22  floorplans                                          8005 non-null   object \n",
      " 23  virtualTours                                        8005 non-null   object \n",
      " 24  industryAffiliations                                8005 non-null   object \n",
      " 25  rooms                                               8005 non-null   object \n",
      " 26  nearestAirports                                     8005 non-null   object \n",
      " 27  nearestStations                                     8005 non-null   object \n",
      " 28  showSchoolInfo                                      8005 non-null   object \n",
      " 29  countryGuide                                        0 non-null      float64\n",
      " 30  channel                                             8005 non-null   object \n",
      " 31  sizings                                             8005 non-null   object \n",
      " 32  brochures                                           8005 non-null   object \n",
      " 33  epcGraphs                                           8005 non-null   object \n",
      " 34  bedrooms_model                                      7669 non-null   float64\n",
      " 35  bathrooms_model                                     7455 non-null   float64\n",
      " 36  transactionType                                     8005 non-null   object \n",
      " 37  tags                                                8005 non-null   object \n",
      " 38  feesApply                                           0 non-null      float64\n",
      " 39  lettings                                            0 non-null      float64\n",
      " 40  infoReelItems                                       8002 non-null   object \n",
      " 41  soldPropertyType                                    8005 non-null   object \n",
      " 42  auctionProvider                                     7 non-null      object \n",
      " 43  propertySubType                                     8002 non-null   object \n",
      " 44  businessForSale                                     8005 non-null   object \n",
      " 45  commercial                                          8005 non-null   object \n",
      " 46  commercialUseClasses                                8001 non-null   object \n",
      " 47  affordableBuyingScheme                              7 non-null      object \n",
      " 48  versioncomb3                                        8002 non-null   object \n",
      " 49  date_scrapedcomb3                                   8005 non-null   object \n",
      " 50  status.published                                    8005 non-null   object \n",
      " 51  status.archived                                     8005 non-null   object \n",
      " 52  text.description                                    8005 non-null   object \n",
      " 53  text.propertyPhrase                                 8005 non-null   object \n",
      " 54  text.shareText                                      8005 non-null   object \n",
      " 55  text.shareDescription                               8005 non-null   object \n",
      " 56  text.pageTitle                                      8005 non-null   object \n",
      " 57  text.shortDescription                               8005 non-null   object \n",
      " 58  prices.primaryPrice                                 8001 non-null   object \n",
      " 59  prices.secondaryPrice                               7 non-null      object \n",
      " 60  prices.displayPriceQualifier                        3211 non-null   object \n",
      " 61  prices.pricePerSqFt                                 1261 non-null   object \n",
      " 62  prices.message                                      0 non-null      float64\n",
      " 63  prices.exchangeRate                                 7 non-null      object \n",
      " 64  address.displayAddress                              8002 non-null   object \n",
      " 65  address.countryCode                                 8005 non-null   object \n",
      " 66  address.deliveryPointId                             5161 non-null   object \n",
      " 67  address.ukCountry                                   8002 non-null   object \n",
      " 68  address.outcode                                     8005 non-null   object \n",
      " 69  address.incode                                      8005 non-null   object \n",
      " 70  location.latitude                                   8005 non-null   object \n",
      " 71  location.longitude                                  8005 non-null   float64\n",
      " 72  location.circleRadiusOnMap                          8005 non-null   float64\n",
      " 73  location.zoomLevel                                  8005 non-null   object \n",
      " 74  location.pinType                                    8005 non-null   object \n",
      " 75  location.showMap                                    8005 non-null   object \n",
      " 76  propertyUrls.similarPropertiesUrl                   8005 non-null   object \n",
      " 77  propertyUrls.nearbySoldPropertiesUrl                8005 non-null   object \n",
      " 78  misInfo.branchId                                    8001 non-null   object \n",
      " 79  misInfo.offerAdvertStampTypeId                      69 non-null     object \n",
      " 80  misInfo.premiumDisplay                              8000 non-null   object \n",
      " 81  misInfo.premiumDisplayStampId                       1887 non-null   object \n",
      " 82  misInfo.brandPlus                                   8002 non-null   object \n",
      " 83  misInfo.featuredProperty                            8005 non-null   object \n",
      " 84  dfpAdInfo.channel                                   8005 non-null   object \n",
      " 85  dfpAdInfo.targeting                                 8005 non-null   object \n",
      " 86  listingHistory.listingUpdateReason                  8005 non-null   object \n",
      " 87  broadband.broadbandCheckerUrl                       8002 non-null   object \n",
      " 88  contactInfo.contactMethod                           8005 non-null   object \n",
      " 89  contactInfo.telephoneNumbers.localNumber            7998 non-null   object \n",
      " 90  contactInfo.telephoneNumbers.internationalNumber    0 non-null      float64\n",
      " 91  contactInfo.telephoneNumbers.disclaimerText         0 non-null      float64\n",
      " 92  contactInfo.telephoneNumbers.disclaimerTitle        0 non-null      float64\n",
      " 93  contactInfo.telephoneNumbers.disclaimerDescription  4 non-null      object \n",
      " 94  tenure.tenureType                                   7467 non-null   object \n",
      " 95  tenure.yearsRemainingOnLease                        494 non-null    float64\n",
      " 96  tenure.message                                      538 non-null    object \n",
      " 97  sharedOwnership.sharedOwnership                     8005 non-null   object \n",
      " 98  sharedOwnership.ownershipPercentage                 3 non-null      object \n",
      " 99  sharedOwnership.rentPrice                           5 non-null      object \n",
      "dtypes: float64(17), object(83)\n",
      "memory usage: 8.0+ MB\n"
     ]
    }
   ],
   "source": [
    "df_original.iloc[:,0:100].info()"
   ],
   "metadata": {
    "collapsed": false,
    "pycharm": {
     "name": "#%%\n"
    }
   }
  },
  {
   "cell_type": "code",
   "execution_count": 26,
   "outputs": [
    {
     "name": "stdout",
     "output_type": "stream",
     "text": [
      "<class 'pandas.core.frame.DataFrame'>\n",
      "Int64Index: 10375 entries, 123171899 to 97494416\n",
      "Data columns (total 56 columns):\n",
      " #   Column                                     Non-Null Count  Dtype  \n",
      "---  ------                                     --------------  -----  \n",
      " 0   sharedOwnership.rentFrequency              6724 non-null   object \n",
      " 1   livingCosts.councilTaxExempt               8001 non-null   object \n",
      " 2   livingCosts.councilTaxIncluded             8004 non-null   object \n",
      " 3   livingCosts.annualGroundRent               23 non-null     object \n",
      " 4   livingCosts.groundRentReviewPeriodInYears  4 non-null      object \n",
      " 5   livingCosts.groundRentPercentageIncrease   1 non-null      object \n",
      " 6   livingCosts.annualServiceCharge            19 non-null     float64\n",
      " 7   livingCosts.councilTaxBand                 99 non-null     object \n",
      " 8   livingCosts.domesticRates                  0 non-null      float64\n",
      " 9   id_copy                                    7990 non-null   float64\n",
      " 10  version_meta                               7990 non-null   object \n",
      " 11  date_scraped_meta                          7990 non-null   object \n",
      " 12  analyticsBranch.agentType                  7990 non-null   object \n",
      " 13  analyticsBranch.branchId                   7990 non-null   float64\n",
      " 14  analyticsBranch.branchName                 7990 non-null   object \n",
      " 15  analyticsBranch.branchPostcode             0 non-null      float64\n",
      " 16  analyticsBranch.brandName                  7990 non-null   object \n",
      " 17  analyticsBranch.companyName                7990 non-null   object \n",
      " 18  analyticsBranch.companyTradingName         6167 non-null   object \n",
      " 19  analyticsBranch.companyType                7990 non-null   object \n",
      " 20  analyticsBranch.displayAddress             7990 non-null   object \n",
      " 21  analyticsBranch.pageType                   7990 non-null   object \n",
      " 22  analyticsProperty.added                    7990 non-null   object \n",
      " 23  analyticsProperty.auctionOnly              7990 non-null   object \n",
      " 24  analyticsProperty.beds                     7990 non-null   object \n",
      " 25  analyticsProperty.businessForSale          7990 non-null   object \n",
      " 26  analyticsProperty.country                  7990 non-null   object \n",
      " 27  analyticsProperty.currency                 7990 non-null   object \n",
      " 28  analyticsProperty.floorplanCount           7990 non-null   object \n",
      " 29  analyticsProperty.furnishedType            7990 non-null   object \n",
      " 30  analyticsProperty.hasOnlineViewing         7990 non-null   object \n",
      " 31  analyticsProperty.imageCount               7990 non-null   object \n",
      " 32  analyticsProperty.latitude                 7990 non-null   float64\n",
      " 33  analyticsProperty.longitude                7990 non-null   float64\n",
      " 34  analyticsProperty.letAgreed                7990 non-null   object \n",
      " 35  analyticsProperty.lettingType              7990 non-null   object \n",
      " 36  analyticsProperty.maxSizeAc                1256 non-null   object \n",
      " 37  analyticsProperty.maxSizeFt                1255 non-null   float64\n",
      " 38  analyticsProperty.minSizeAc                1255 non-null   float64\n",
      " 39  analyticsProperty.minSizeFt                1255 non-null   float64\n",
      " 40  analyticsProperty.ownership                7989 non-null   object \n",
      " 41  analyticsProperty.postcode                 7990 non-null   object \n",
      " 42  analyticsProperty.preOwned                 7990 non-null   object \n",
      " 43  analyticsProperty.price                    7990 non-null   object \n",
      " 44  analyticsProperty.priceQualifier           7990 non-null   object \n",
      " 45  analyticsProperty.propertyId               7990 non-null   object \n",
      " 46  analyticsProperty.propertySubType          7990 non-null   object \n",
      " 47  analyticsProperty.propertyType             7990 non-null   object \n",
      " 48  analyticsProperty.retirement               7990 non-null   object \n",
      " 49  analyticsProperty.selectedCurrency         1 non-null      object \n",
      " 50  analyticsProperty.selectedPrice            0 non-null      float64\n",
      " 51  analyticsProperty.soldSTC                  7989 non-null   object \n",
      " 52  analyticsProperty.videoProvider            7990 non-null   object \n",
      " 53  analyticsProperty.viewType                 7990 non-null   object \n",
      " 54  analyticsProperty.customUri                7990 non-null   object \n",
      " 55  Unnamed: 46                                1 non-null      object \n",
      "dtypes: float64(11), object(45)\n",
      "memory usage: 4.5+ MB\n"
     ]
    }
   ],
   "source": [
    "df_original.iloc[:,100:200].info()"
   ],
   "metadata": {
    "collapsed": false,
    "pycharm": {
     "name": "#%%\n"
    }
   }
  },
  {
   "cell_type": "code",
   "execution_count": 29,
   "outputs": [
    {
     "name": "stdout",
     "output_type": "stream",
     "text": [
      "(10375, 156)\n"
     ]
    },
    {
     "data": {
      "text/plain": "(10375, 156)"
     },
     "execution_count": 29,
     "metadata": {},
     "output_type": "execute_result"
    }
   ],
   "source": [
    "print(df_original.shape)\n",
    "df_original = df_original[df_original[\"Price\"] != 'POA']\n",
    "df_original.shape"
   ],
   "metadata": {
    "collapsed": false,
    "pycharm": {
     "name": "#%%\n"
    }
   }
  },
  {
   "cell_type": "code",
   "execution_count": 30,
   "outputs": [
    {
     "data": {
      "text/plain": "                                                 Address  \\\nids                                                        \n123171899                             Springbank, London   \n85461000               Bullsmoor Way, Waltham Cross, EN8   \n85174740                          Jervis Avenue, Enfield   \n124007903                       Leigh Hunt Drive, London   \n85614570     Grovelands Road, Palmers Green, London, N13   \n...                                                  ...   \n96654763                   London Road, Mitcham Junction   \n96654973                          Queens Road, Wimbledon   \n96655021                        Besley Street, Streatham   \n97404863   Brook Court, 78 Wordsworth Drive, Sutton, SM3   \n97494416                          Cavendish Road, Sutton   \n\n                                      Description     Price  \\\nids                                                           \n123171899            3 bedroom apartment for sale  475000.0   \n85461000        3 bedroom terraced house for sale  375000.0   \n85174740   2 bedroom semi-detached house for sale  375000.0   \n124007903            2 bedroom apartment for sale  375000.0   \n85614570                  1 bedroom flat for sale  375000.0   \n...                                           ...       ...   \n96654763   3 bedroom link detached house for sale  500000.0   \n96654973                  3 bedroom flat for sale  650000.0   \n96655021                 3 bedroom house for sale  675000.0   \n97404863             1 bedroom apartment for sale  175000.0   \n97494416                  1 bedroom flat for sale  120000.0   \n\n                             borough  \\\nids                                    \n123171899     ('Enfield', '5E93950')   \n85461000      ('Enfield', '5E93950')   \n85174740      ('Enfield', '5E93950')   \n124007903     ('Enfield', '5E93950')   \n85614570      ('Enfield', '5E93950')   \n...                              ...   \n96654763       ('Sutton', '5E93974')   \n96654973       ('Merton', '5E61414')   \n96655021   ('Wandsworth', '5E93977')   \n97404863       ('Sutton', '5E93974')   \n97494416       ('Sutton', '5E93974')   \n\n                                            referencing_link  \\\nids                                                            \n123171899  https://www.rightmove.co.uk/property-for-sale/...   \n85461000   https://www.rightmove.co.uk/property-for-sale/...   \n85174740   https://www.rightmove.co.uk/property-for-sale/...   \n124007903  https://www.rightmove.co.uk/property-for-sale/...   \n85614570   https://www.rightmove.co.uk/property-for-sale/...   \n...                                                      ...   \n96654763                                                 NaN   \n96654973                                                 NaN   \n96655021                                                 NaN   \n97404863                                                 NaN   \n97494416                                                 NaN   \n\n                                                    add_info  \\\nids                                                            \n123171899            Added on 09/05/2022 by haart, Southgate   \n85461000   Reduced on 17/03/2022 by Christopher Stokes, C...   \n85174740      Added on 25/02/2022 by Cottage Fields, Enfield   \n124007903            Added on 17/06/2022 by haart, Southgate   \n85614570   Added on 11/06/2022 by Anthony Pepe Estate Age...   \n...                                                      ...   \n96654763                                                 NaN   \n96654973                                                 NaN   \n96655021                                                 NaN   \n97404863                                                 NaN   \n97494416                                                 NaN   \n\n            date_scraped_indiv  closeness_to_station       type  \\\nids                                                               \n123171899  2022-06-26 20:35:34                   0.6  apartment   \n85461000   2022-06-26 20:35:34                   0.6      house   \n85174740   2022-06-26 20:35:34                   0.4      house   \n124007903  2022-06-26 20:35:35                   0.2  apartment   \n85614570   2022-06-26 20:35:35                   0.2       flat   \n...                        ...                   ...        ...   \n96654763                   NaN                   0.4      house   \n96654973                   NaN                   0.0       flat   \n96655021                   NaN                   0.2      house   \n97404863                   NaN                   0.9  apartment   \n97494416                   NaN                   0.3       flat   \n\n           bedrooms_comb2  ...  analyticsProperty.selectedPrice  \\\nids                        ...                                    \n123171899             3.0  ...                              NaN   \n85461000              3.0  ...                              NaN   \n85174740              2.0  ...                              NaN   \n124007903             2.0  ...                              NaN   \n85614570              1.0  ...                              NaN   \n...                   ...  ...                              ...   \n96654763              3.0  ...                              NaN   \n96654973              3.0  ...                              NaN   \n96655021              3.0  ...                              NaN   \n97404863              1.0  ...                              NaN   \n97494416              1.0  ...                              NaN   \n\n          analyticsProperty.soldSTC analyticsProperty.videoProvider  \\\nids                                                                   \n123171899                     False                        Embedded   \n85461000                      False                        No Video   \n85174740                       True                        No Video   \n124007903                     False                        Embedded   \n85614570                      False                        No Video   \n...                             ...                             ...   \n96654763                      False                        Embedded   \n96654973                      False                        No Video   \n96655021                      False                        No Video   \n97404863                      False                   External Link   \n97494416                      False                   External Link   \n\n          analyticsProperty.viewType  \\\nids                                    \n123171899                    Current   \n85461000                     Current   \n85174740                     Current   \n124007903                    Current   \n85614570                     Current   \n...                              ...   \n96654763                     Current   \n96654973                     Current   \n96655021                     Current   \n97404863                     Current   \n97494416                     Current   \n\n                                 analyticsProperty.customUri Unnamed: 46  \\\nids                                                                        \n123171899  https://www.rightmove.co.uk/property-for-sale/...         NaN   \n85461000   https://www.rightmove.co.uk/property-for-sale/...         NaN   \n85174740   https://www.rightmove.co.uk/property-for-sale/...         NaN   \n124007903  https://www.rightmove.co.uk/property-for-sale/...         NaN   \n85614570   https://www.rightmove.co.uk/property-for-sale/...         NaN   \n...                                                      ...         ...   \n96654763   https://www.rightmove.co.uk/property-for-sale/...         NaN   \n96654973   https://www.rightmove.co.uk/property-for-sale/...         NaN   \n96655021   https://www.rightmove.co.uk/property-for-sale/...         NaN   \n97404863   https://www.rightmove.co.uk/property-for-sale/...         NaN   \n97494416   https://www.rightmove.co.uk/property-for-sale/...         NaN   \n\n          postcode compass sq_ft  hold_type2  \nids                                           \n123171899      NaN     NaN   NaN         NaN  \n85461000       EN8      EN   NaN         NaN  \n85174740       NaN     NaN   NaN         NaN  \n124007903      NaN     NaN   NaN         NaN  \n85614570       N13      N1   NaN         NaN  \n...            ...     ...   ...         ...  \n96654763       NaN     NaN   NaN         NaN  \n96654973       NaN     NaN   NaN         NaN  \n96655021       NaN     NaN   NaN         NaN  \n97404863       SM3      SM   NaN         NaN  \n97494416       NaN     NaN   NaN         NaN  \n\n[10375 rows x 160 columns]",
      "text/html": "<div>\n<style scoped>\n    .dataframe tbody tr th:only-of-type {\n        vertical-align: middle;\n    }\n\n    .dataframe tbody tr th {\n        vertical-align: top;\n    }\n\n    .dataframe thead th {\n        text-align: right;\n    }\n</style>\n<table border=\"1\" class=\"dataframe\">\n  <thead>\n    <tr style=\"text-align: right;\">\n      <th></th>\n      <th>Address</th>\n      <th>Description</th>\n      <th>Price</th>\n      <th>borough</th>\n      <th>referencing_link</th>\n      <th>add_info</th>\n      <th>date_scraped_indiv</th>\n      <th>closeness_to_station</th>\n      <th>type</th>\n      <th>bedrooms_comb2</th>\n      <th>...</th>\n      <th>analyticsProperty.selectedPrice</th>\n      <th>analyticsProperty.soldSTC</th>\n      <th>analyticsProperty.videoProvider</th>\n      <th>analyticsProperty.viewType</th>\n      <th>analyticsProperty.customUri</th>\n      <th>Unnamed: 46</th>\n      <th>postcode</th>\n      <th>compass</th>\n      <th>sq_ft</th>\n      <th>hold_type2</th>\n    </tr>\n    <tr>\n      <th>ids</th>\n      <th></th>\n      <th></th>\n      <th></th>\n      <th></th>\n      <th></th>\n      <th></th>\n      <th></th>\n      <th></th>\n      <th></th>\n      <th></th>\n      <th></th>\n      <th></th>\n      <th></th>\n      <th></th>\n      <th></th>\n      <th></th>\n      <th></th>\n      <th></th>\n      <th></th>\n      <th></th>\n      <th></th>\n    </tr>\n  </thead>\n  <tbody>\n    <tr>\n      <th>123171899</th>\n      <td>Springbank, London</td>\n      <td>3 bedroom apartment for sale</td>\n      <td>475000.0</td>\n      <td>('Enfield', '5E93950')</td>\n      <td>https://www.rightmove.co.uk/property-for-sale/...</td>\n      <td>Added on 09/05/2022 by haart, Southgate</td>\n      <td>2022-06-26 20:35:34</td>\n      <td>0.6</td>\n      <td>apartment</td>\n      <td>3.0</td>\n      <td>...</td>\n      <td>NaN</td>\n      <td>False</td>\n      <td>Embedded</td>\n      <td>Current</td>\n      <td>https://www.rightmove.co.uk/property-for-sale/...</td>\n      <td>NaN</td>\n      <td>NaN</td>\n      <td>NaN</td>\n      <td>NaN</td>\n      <td>NaN</td>\n    </tr>\n    <tr>\n      <th>85461000</th>\n      <td>Bullsmoor Way, Waltham Cross, EN8</td>\n      <td>3 bedroom terraced house for sale</td>\n      <td>375000.0</td>\n      <td>('Enfield', '5E93950')</td>\n      <td>https://www.rightmove.co.uk/property-for-sale/...</td>\n      <td>Reduced on 17/03/2022 by Christopher Stokes, C...</td>\n      <td>2022-06-26 20:35:34</td>\n      <td>0.6</td>\n      <td>house</td>\n      <td>3.0</td>\n      <td>...</td>\n      <td>NaN</td>\n      <td>False</td>\n      <td>No Video</td>\n      <td>Current</td>\n      <td>https://www.rightmove.co.uk/property-for-sale/...</td>\n      <td>NaN</td>\n      <td>EN8</td>\n      <td>EN</td>\n      <td>NaN</td>\n      <td>NaN</td>\n    </tr>\n    <tr>\n      <th>85174740</th>\n      <td>Jervis Avenue, Enfield</td>\n      <td>2 bedroom semi-detached house for sale</td>\n      <td>375000.0</td>\n      <td>('Enfield', '5E93950')</td>\n      <td>https://www.rightmove.co.uk/property-for-sale/...</td>\n      <td>Added on 25/02/2022 by Cottage Fields, Enfield</td>\n      <td>2022-06-26 20:35:34</td>\n      <td>0.4</td>\n      <td>house</td>\n      <td>2.0</td>\n      <td>...</td>\n      <td>NaN</td>\n      <td>True</td>\n      <td>No Video</td>\n      <td>Current</td>\n      <td>https://www.rightmove.co.uk/property-for-sale/...</td>\n      <td>NaN</td>\n      <td>NaN</td>\n      <td>NaN</td>\n      <td>NaN</td>\n      <td>NaN</td>\n    </tr>\n    <tr>\n      <th>124007903</th>\n      <td>Leigh Hunt Drive, London</td>\n      <td>2 bedroom apartment for sale</td>\n      <td>375000.0</td>\n      <td>('Enfield', '5E93950')</td>\n      <td>https://www.rightmove.co.uk/property-for-sale/...</td>\n      <td>Added on 17/06/2022 by haart, Southgate</td>\n      <td>2022-06-26 20:35:35</td>\n      <td>0.2</td>\n      <td>apartment</td>\n      <td>2.0</td>\n      <td>...</td>\n      <td>NaN</td>\n      <td>False</td>\n      <td>Embedded</td>\n      <td>Current</td>\n      <td>https://www.rightmove.co.uk/property-for-sale/...</td>\n      <td>NaN</td>\n      <td>NaN</td>\n      <td>NaN</td>\n      <td>NaN</td>\n      <td>NaN</td>\n    </tr>\n    <tr>\n      <th>85614570</th>\n      <td>Grovelands Road, Palmers Green, London, N13</td>\n      <td>1 bedroom flat for sale</td>\n      <td>375000.0</td>\n      <td>('Enfield', '5E93950')</td>\n      <td>https://www.rightmove.co.uk/property-for-sale/...</td>\n      <td>Added on 11/06/2022 by Anthony Pepe Estate Age...</td>\n      <td>2022-06-26 20:35:35</td>\n      <td>0.2</td>\n      <td>flat</td>\n      <td>1.0</td>\n      <td>...</td>\n      <td>NaN</td>\n      <td>False</td>\n      <td>No Video</td>\n      <td>Current</td>\n      <td>https://www.rightmove.co.uk/property-for-sale/...</td>\n      <td>NaN</td>\n      <td>N13</td>\n      <td>N1</td>\n      <td>NaN</td>\n      <td>NaN</td>\n    </tr>\n    <tr>\n      <th>...</th>\n      <td>...</td>\n      <td>...</td>\n      <td>...</td>\n      <td>...</td>\n      <td>...</td>\n      <td>...</td>\n      <td>...</td>\n      <td>...</td>\n      <td>...</td>\n      <td>...</td>\n      <td>...</td>\n      <td>...</td>\n      <td>...</td>\n      <td>...</td>\n      <td>...</td>\n      <td>...</td>\n      <td>...</td>\n      <td>...</td>\n      <td>...</td>\n      <td>...</td>\n      <td>...</td>\n    </tr>\n    <tr>\n      <th>96654763</th>\n      <td>London Road, Mitcham Junction</td>\n      <td>3 bedroom link detached house for sale</td>\n      <td>500000.0</td>\n      <td>('Sutton', '5E93974')</td>\n      <td>NaN</td>\n      <td>NaN</td>\n      <td>NaN</td>\n      <td>0.4</td>\n      <td>house</td>\n      <td>3.0</td>\n      <td>...</td>\n      <td>NaN</td>\n      <td>False</td>\n      <td>Embedded</td>\n      <td>Current</td>\n      <td>https://www.rightmove.co.uk/property-for-sale/...</td>\n      <td>NaN</td>\n      <td>NaN</td>\n      <td>NaN</td>\n      <td>NaN</td>\n      <td>NaN</td>\n    </tr>\n    <tr>\n      <th>96654973</th>\n      <td>Queens Road, Wimbledon</td>\n      <td>3 bedroom flat for sale</td>\n      <td>650000.0</td>\n      <td>('Merton', '5E61414')</td>\n      <td>NaN</td>\n      <td>NaN</td>\n      <td>NaN</td>\n      <td>0.0</td>\n      <td>flat</td>\n      <td>3.0</td>\n      <td>...</td>\n      <td>NaN</td>\n      <td>False</td>\n      <td>No Video</td>\n      <td>Current</td>\n      <td>https://www.rightmove.co.uk/property-for-sale/...</td>\n      <td>NaN</td>\n      <td>NaN</td>\n      <td>NaN</td>\n      <td>NaN</td>\n      <td>NaN</td>\n    </tr>\n    <tr>\n      <th>96655021</th>\n      <td>Besley Street, Streatham</td>\n      <td>3 bedroom house for sale</td>\n      <td>675000.0</td>\n      <td>('Wandsworth', '5E93977')</td>\n      <td>NaN</td>\n      <td>NaN</td>\n      <td>NaN</td>\n      <td>0.2</td>\n      <td>house</td>\n      <td>3.0</td>\n      <td>...</td>\n      <td>NaN</td>\n      <td>False</td>\n      <td>No Video</td>\n      <td>Current</td>\n      <td>https://www.rightmove.co.uk/property-for-sale/...</td>\n      <td>NaN</td>\n      <td>NaN</td>\n      <td>NaN</td>\n      <td>NaN</td>\n      <td>NaN</td>\n    </tr>\n    <tr>\n      <th>97404863</th>\n      <td>Brook Court, 78 Wordsworth Drive, Sutton, SM3</td>\n      <td>1 bedroom apartment for sale</td>\n      <td>175000.0</td>\n      <td>('Sutton', '5E93974')</td>\n      <td>NaN</td>\n      <td>NaN</td>\n      <td>NaN</td>\n      <td>0.9</td>\n      <td>apartment</td>\n      <td>1.0</td>\n      <td>...</td>\n      <td>NaN</td>\n      <td>False</td>\n      <td>External Link</td>\n      <td>Current</td>\n      <td>https://www.rightmove.co.uk/property-for-sale/...</td>\n      <td>NaN</td>\n      <td>SM3</td>\n      <td>SM</td>\n      <td>NaN</td>\n      <td>NaN</td>\n    </tr>\n    <tr>\n      <th>97494416</th>\n      <td>Cavendish Road, Sutton</td>\n      <td>1 bedroom flat for sale</td>\n      <td>120000.0</td>\n      <td>('Sutton', '5E93974')</td>\n      <td>NaN</td>\n      <td>NaN</td>\n      <td>NaN</td>\n      <td>0.3</td>\n      <td>flat</td>\n      <td>1.0</td>\n      <td>...</td>\n      <td>NaN</td>\n      <td>False</td>\n      <td>External Link</td>\n      <td>Current</td>\n      <td>https://www.rightmove.co.uk/property-for-sale/...</td>\n      <td>NaN</td>\n      <td>NaN</td>\n      <td>NaN</td>\n      <td>NaN</td>\n      <td>NaN</td>\n    </tr>\n  </tbody>\n</table>\n<p>10375 rows × 160 columns</p>\n</div>"
     },
     "execution_count": 30,
     "metadata": {},
     "output_type": "execute_result"
    }
   ],
   "source": [
    "df_original['postcode'] = df_original[\"Address\"].str.extract(\"([A-Z]{1,2}\\d[A-Z\\d]? ?\\d[A-Z]{2}|[A-Z]{1,2}\\d[A-Z\\d]?)\")\n",
    "df_original['compass'] = df_original[\"postcode\"].str[0:2]\n",
    "df_original['type'] = df_original[\"Description\"].str.extract(\"(house|apartment|flat|maisonette)\")\n",
    "df_original['sq_ft'] = df_original[\"size\"].str.extract(\"(\\d*) sq. ft.\")\n",
    "df_original['hold_type2'] = df_original[\"hold_type\"].str.replace(\"Tenure:\",\"\").str.strip()\n",
    "\n",
    "df_original"
   ],
   "metadata": {
    "collapsed": false,
    "pycharm": {
     "name": "#%%\n"
    }
   }
  },
  {
   "cell_type": "code",
   "execution_count": 32,
   "outputs": [],
   "source": [
    "df_original[\"sq_ft\"] = pd.to_numeric(df_original[\"sq_ft\"], 'coerce').fillna(-1).astype(int)\n",
    "#df_original[\"Target\"] = pd.to_numeric(df_original[\"Target\"], 'coerce').fillna(-1).astype(int)"
   ],
   "metadata": {
    "collapsed": false,
    "pycharm": {
     "name": "#%%\n"
    }
   }
  },
  {
   "cell_type": "code",
   "execution_count": 34,
   "outputs": [
    {
     "data": {
      "text/plain": "              Price  closeness_to_station  bedrooms_comb2  bathrooms_comb2  \\\ncount  1.035300e+04          1.037500e+04     9958.000000      9649.000000   \nmean   5.051832e+05          4.819320e+04        2.041976         1.289149   \nstd    6.217891e+05          2.194862e+06        1.000776         0.626038   \nmin    3.000000e+03          0.000000e+00        1.000000         1.000000   \n25%    3.000000e+05          2.000000e-01        1.000000         1.000000   \n50%    3.950000e+05          4.000000e-01        2.000000         1.000000   \n75%    5.500000e+05          5.000000e-01        3.000000         1.000000   \nmax    1.995000e+07          1.000000e+08        9.000000        16.000000   \n\n                 id  countryGuide  bedrooms_model  bathrooms_model  feesApply  \\\ncount  8.005000e+03           0.0     7669.000000      7455.000000        0.0   \nmean   1.117175e+08           NaN        2.029991         1.261435        NaN   \nstd    1.549134e+07           NaN        0.951970         0.566892        NaN   \nmin    4.902067e+07           NaN        1.000000         1.000000        NaN   \n25%    1.036845e+08           NaN        1.000000         1.000000        NaN   \n50%    1.197334e+08           NaN        2.000000         1.000000        NaN   \n75%    1.229085e+08           NaN        3.000000         1.000000        NaN   \nmax    1.243365e+08           NaN        8.000000        16.000000        NaN   \n\n       lettings  ...       id_copy  analyticsBranch.branchId  \\\ncount       0.0  ...  7.990000e+03               7990.000000   \nmean        NaN  ...  1.117296e+08              82650.988611   \nstd         NaN  ...  1.548653e+07              77853.235866   \nmin         NaN  ...  4.902067e+07                218.000000   \n25%         NaN  ...  1.041685e+08              13880.000000   \n50%         NaN  ...  1.197389e+08              55411.000000   \n75%         NaN  ...  1.229145e+08             126355.000000   \nmax         NaN  ...  1.243365e+08             249359.000000   \n\n       analyticsBranch.branchPostcode  analyticsProperty.latitude  \\\ncount                             0.0                 7990.000000   \nmean                              NaN                   51.497737   \nstd                               NaN                    0.460647   \nmin                               NaN                   11.000000   \n25%                               NaN                   51.420462   \n50%                               NaN                   51.514960   \n75%                               NaN                   51.548812   \nmax                               NaN                   51.683087   \n\n       analyticsProperty.longitude  analyticsProperty.maxSizeFt  \\\ncount                  7990.000000                  1255.000000   \nmean                     -0.144605                   837.371315   \nstd                       0.594465                  2148.069643   \nmin                      -0.407866                    29.000000   \n25%                      -0.268762                   538.000000   \n50%                      -0.156277                   704.000000   \n75%                      -0.062549                   871.500000   \nmax                      51.366905                 74897.000000   \n\n       analyticsProperty.minSizeAc  analyticsProperty.minSizeFt  \\\ncount                  1255.000000                  1255.000000   \nmean                      0.019177                   835.368924   \nstd                       0.049311                  2147.997451   \nmin                       0.000666                    29.000000   \n25%                       0.012351                   538.000000   \n50%                       0.016116                   702.000000   \n75%                       0.019984                   870.500000   \nmax                       1.719399                 74897.000000   \n\n       analyticsProperty.selectedPrice         sq_ft  \ncount                              0.0  10375.000000  \nmean                               NaN     90.130217  \nstd                                NaN    230.815070  \nmin                                NaN     -1.000000  \n25%                                NaN     -1.000000  \n50%                                NaN     -1.000000  \n75%                                NaN     -1.000000  \nmax                                NaN    999.000000  \n\n[8 rows x 29 columns]",
      "text/html": "<div>\n<style scoped>\n    .dataframe tbody tr th:only-of-type {\n        vertical-align: middle;\n    }\n\n    .dataframe tbody tr th {\n        vertical-align: top;\n    }\n\n    .dataframe thead th {\n        text-align: right;\n    }\n</style>\n<table border=\"1\" class=\"dataframe\">\n  <thead>\n    <tr style=\"text-align: right;\">\n      <th></th>\n      <th>Price</th>\n      <th>closeness_to_station</th>\n      <th>bedrooms_comb2</th>\n      <th>bathrooms_comb2</th>\n      <th>id</th>\n      <th>countryGuide</th>\n      <th>bedrooms_model</th>\n      <th>bathrooms_model</th>\n      <th>feesApply</th>\n      <th>lettings</th>\n      <th>...</th>\n      <th>id_copy</th>\n      <th>analyticsBranch.branchId</th>\n      <th>analyticsBranch.branchPostcode</th>\n      <th>analyticsProperty.latitude</th>\n      <th>analyticsProperty.longitude</th>\n      <th>analyticsProperty.maxSizeFt</th>\n      <th>analyticsProperty.minSizeAc</th>\n      <th>analyticsProperty.minSizeFt</th>\n      <th>analyticsProperty.selectedPrice</th>\n      <th>sq_ft</th>\n    </tr>\n  </thead>\n  <tbody>\n    <tr>\n      <th>count</th>\n      <td>1.035300e+04</td>\n      <td>1.037500e+04</td>\n      <td>9958.000000</td>\n      <td>9649.000000</td>\n      <td>8.005000e+03</td>\n      <td>0.0</td>\n      <td>7669.000000</td>\n      <td>7455.000000</td>\n      <td>0.0</td>\n      <td>0.0</td>\n      <td>...</td>\n      <td>7.990000e+03</td>\n      <td>7990.000000</td>\n      <td>0.0</td>\n      <td>7990.000000</td>\n      <td>7990.000000</td>\n      <td>1255.000000</td>\n      <td>1255.000000</td>\n      <td>1255.000000</td>\n      <td>0.0</td>\n      <td>10375.000000</td>\n    </tr>\n    <tr>\n      <th>mean</th>\n      <td>5.051832e+05</td>\n      <td>4.819320e+04</td>\n      <td>2.041976</td>\n      <td>1.289149</td>\n      <td>1.117175e+08</td>\n      <td>NaN</td>\n      <td>2.029991</td>\n      <td>1.261435</td>\n      <td>NaN</td>\n      <td>NaN</td>\n      <td>...</td>\n      <td>1.117296e+08</td>\n      <td>82650.988611</td>\n      <td>NaN</td>\n      <td>51.497737</td>\n      <td>-0.144605</td>\n      <td>837.371315</td>\n      <td>0.019177</td>\n      <td>835.368924</td>\n      <td>NaN</td>\n      <td>90.130217</td>\n    </tr>\n    <tr>\n      <th>std</th>\n      <td>6.217891e+05</td>\n      <td>2.194862e+06</td>\n      <td>1.000776</td>\n      <td>0.626038</td>\n      <td>1.549134e+07</td>\n      <td>NaN</td>\n      <td>0.951970</td>\n      <td>0.566892</td>\n      <td>NaN</td>\n      <td>NaN</td>\n      <td>...</td>\n      <td>1.548653e+07</td>\n      <td>77853.235866</td>\n      <td>NaN</td>\n      <td>0.460647</td>\n      <td>0.594465</td>\n      <td>2148.069643</td>\n      <td>0.049311</td>\n      <td>2147.997451</td>\n      <td>NaN</td>\n      <td>230.815070</td>\n    </tr>\n    <tr>\n      <th>min</th>\n      <td>3.000000e+03</td>\n      <td>0.000000e+00</td>\n      <td>1.000000</td>\n      <td>1.000000</td>\n      <td>4.902067e+07</td>\n      <td>NaN</td>\n      <td>1.000000</td>\n      <td>1.000000</td>\n      <td>NaN</td>\n      <td>NaN</td>\n      <td>...</td>\n      <td>4.902067e+07</td>\n      <td>218.000000</td>\n      <td>NaN</td>\n      <td>11.000000</td>\n      <td>-0.407866</td>\n      <td>29.000000</td>\n      <td>0.000666</td>\n      <td>29.000000</td>\n      <td>NaN</td>\n      <td>-1.000000</td>\n    </tr>\n    <tr>\n      <th>25%</th>\n      <td>3.000000e+05</td>\n      <td>2.000000e-01</td>\n      <td>1.000000</td>\n      <td>1.000000</td>\n      <td>1.036845e+08</td>\n      <td>NaN</td>\n      <td>1.000000</td>\n      <td>1.000000</td>\n      <td>NaN</td>\n      <td>NaN</td>\n      <td>...</td>\n      <td>1.041685e+08</td>\n      <td>13880.000000</td>\n      <td>NaN</td>\n      <td>51.420462</td>\n      <td>-0.268762</td>\n      <td>538.000000</td>\n      <td>0.012351</td>\n      <td>538.000000</td>\n      <td>NaN</td>\n      <td>-1.000000</td>\n    </tr>\n    <tr>\n      <th>50%</th>\n      <td>3.950000e+05</td>\n      <td>4.000000e-01</td>\n      <td>2.000000</td>\n      <td>1.000000</td>\n      <td>1.197334e+08</td>\n      <td>NaN</td>\n      <td>2.000000</td>\n      <td>1.000000</td>\n      <td>NaN</td>\n      <td>NaN</td>\n      <td>...</td>\n      <td>1.197389e+08</td>\n      <td>55411.000000</td>\n      <td>NaN</td>\n      <td>51.514960</td>\n      <td>-0.156277</td>\n      <td>704.000000</td>\n      <td>0.016116</td>\n      <td>702.000000</td>\n      <td>NaN</td>\n      <td>-1.000000</td>\n    </tr>\n    <tr>\n      <th>75%</th>\n      <td>5.500000e+05</td>\n      <td>5.000000e-01</td>\n      <td>3.000000</td>\n      <td>1.000000</td>\n      <td>1.229085e+08</td>\n      <td>NaN</td>\n      <td>3.000000</td>\n      <td>1.000000</td>\n      <td>NaN</td>\n      <td>NaN</td>\n      <td>...</td>\n      <td>1.229145e+08</td>\n      <td>126355.000000</td>\n      <td>NaN</td>\n      <td>51.548812</td>\n      <td>-0.062549</td>\n      <td>871.500000</td>\n      <td>0.019984</td>\n      <td>870.500000</td>\n      <td>NaN</td>\n      <td>-1.000000</td>\n    </tr>\n    <tr>\n      <th>max</th>\n      <td>1.995000e+07</td>\n      <td>1.000000e+08</td>\n      <td>9.000000</td>\n      <td>16.000000</td>\n      <td>1.243365e+08</td>\n      <td>NaN</td>\n      <td>8.000000</td>\n      <td>16.000000</td>\n      <td>NaN</td>\n      <td>NaN</td>\n      <td>...</td>\n      <td>1.243365e+08</td>\n      <td>249359.000000</td>\n      <td>NaN</td>\n      <td>51.683087</td>\n      <td>51.366905</td>\n      <td>74897.000000</td>\n      <td>1.719399</td>\n      <td>74897.000000</td>\n      <td>NaN</td>\n      <td>999.000000</td>\n    </tr>\n  </tbody>\n</table>\n<p>8 rows × 29 columns</p>\n</div>"
     },
     "execution_count": 34,
     "metadata": {},
     "output_type": "execute_result"
    }
   ],
   "source": [
    "df_original.describe()"
   ],
   "metadata": {
    "collapsed": false,
    "pycharm": {
     "name": "#%%\n"
    }
   }
  },
  {
   "cell_type": "code",
   "execution_count": 17,
   "outputs": [
    {
     "ename": "KeyError",
     "evalue": "\"['bedrooms'] not in index\"",
     "output_type": "error",
     "traceback": [
      "\u001B[0;31m---------------------------------------------------------------------------\u001B[0m",
      "\u001B[0;31mKeyError\u001B[0m                                  Traceback (most recent call last)",
      "Input \u001B[0;32mIn [17]\u001B[0m, in \u001B[0;36m<cell line: 6>\u001B[0;34m()\u001B[0m\n\u001B[1;32m      1\u001B[0m \u001B[38;5;66;03m# Using pairplot we'll visualize the data for correlation\u001B[39;00m\n\u001B[1;32m      2\u001B[0m \n\u001B[1;32m      3\u001B[0m \u001B[38;5;66;03m#sns.pairplot(df_original, x_vars=['bedrooms', 'postcode','type'],\u001B[39;00m\n\u001B[1;32m      4\u001B[0m \u001B[38;5;66;03m#plt.figure(figsize=(20,15))\u001B[39;00m\n\u001B[1;32m      5\u001B[0m \u001B[38;5;66;03m#sns.pairplot(df_original, x_vars=['bedrooms', 'bathrooms','compass','type','Station_Prox','hold_type2','sq_ft','Price','borough'], y_vars='Target', height=4, aspect=4, kind='scatter')\u001B[39;00m\n\u001B[0;32m----> 6\u001B[0m \u001B[43msns\u001B[49m\u001B[38;5;241;43m.\u001B[39;49m\u001B[43mpairplot\u001B[49m\u001B[43m(\u001B[49m\u001B[43mdf_original\u001B[49m\u001B[43m,\u001B[49m\u001B[43m \u001B[49m\u001B[43mx_vars\u001B[49m\u001B[38;5;241;43m=\u001B[39;49m\u001B[43m[\u001B[49m\u001B[38;5;124;43m'\u001B[39;49m\u001B[38;5;124;43mbedrooms\u001B[39;49m\u001B[38;5;124;43m'\u001B[39;49m\u001B[43m,\u001B[49m\u001B[43m \u001B[49m\u001B[38;5;124;43m'\u001B[39;49m\u001B[38;5;124;43mbathrooms\u001B[39;49m\u001B[38;5;124;43m'\u001B[39;49m\u001B[43m,\u001B[49m\u001B[38;5;124;43m'\u001B[39;49m\u001B[38;5;124;43msq_ft\u001B[39;49m\u001B[38;5;124;43m'\u001B[39;49m\u001B[43m]\u001B[49m\u001B[43m,\u001B[49m\u001B[43m \u001B[49m\u001B[43my_vars\u001B[49m\u001B[38;5;241;43m=\u001B[39;49m\u001B[38;5;124;43m'\u001B[39;49m\u001B[38;5;124;43mTarget\u001B[39;49m\u001B[38;5;124;43m'\u001B[39;49m\u001B[43m,\u001B[49m\u001B[43m \u001B[49m\u001B[43mheight\u001B[49m\u001B[38;5;241;43m=\u001B[39;49m\u001B[38;5;241;43m4\u001B[39;49m\u001B[43m,\u001B[49m\u001B[43m \u001B[49m\u001B[43maspect\u001B[49m\u001B[38;5;241;43m=\u001B[39;49m\u001B[38;5;241;43m1\u001B[39;49m\u001B[43m,\u001B[49m\u001B[43m \u001B[49m\u001B[43mkind\u001B[49m\u001B[38;5;241;43m=\u001B[39;49m\u001B[38;5;124;43m'\u001B[39;49m\u001B[38;5;124;43mscatter\u001B[39;49m\u001B[38;5;124;43m'\u001B[39;49m\u001B[43m)\u001B[49m\n\u001B[1;32m      7\u001B[0m plt\u001B[38;5;241m.\u001B[39mshow()\n\u001B[1;32m      8\u001B[0m sns\u001B[38;5;241m.\u001B[39mpairplot(df_original, x_vars\u001B[38;5;241m=\u001B[39m[\u001B[38;5;124m'\u001B[39m\u001B[38;5;124mStation_Prox\u001B[39m\u001B[38;5;124m'\u001B[39m,\u001B[38;5;124m'\u001B[39m\u001B[38;5;124mtype\u001B[39m\u001B[38;5;124m'\u001B[39m,\u001B[38;5;124m'\u001B[39m\u001B[38;5;124mhold_type2\u001B[39m\u001B[38;5;124m'\u001B[39m], y_vars\u001B[38;5;241m=\u001B[39m\u001B[38;5;124m'\u001B[39m\u001B[38;5;124mTarget\u001B[39m\u001B[38;5;124m'\u001B[39m, height\u001B[38;5;241m=\u001B[39m\u001B[38;5;241m4\u001B[39m, aspect\u001B[38;5;241m=\u001B[39m\u001B[38;5;241m1\u001B[39m, kind\u001B[38;5;241m=\u001B[39m\u001B[38;5;124m'\u001B[39m\u001B[38;5;124mscatter\u001B[39m\u001B[38;5;124m'\u001B[39m)\n",
      "File \u001B[0;32m~/Springboard/capstone_prework/venv/lib/python3.8/site-packages/seaborn/_decorators.py:46\u001B[0m, in \u001B[0;36m_deprecate_positional_args.<locals>.inner_f\u001B[0;34m(*args, **kwargs)\u001B[0m\n\u001B[1;32m     36\u001B[0m     warnings\u001B[38;5;241m.\u001B[39mwarn(\n\u001B[1;32m     37\u001B[0m         \u001B[38;5;124m\"\u001B[39m\u001B[38;5;124mPass the following variable\u001B[39m\u001B[38;5;132;01m{}\u001B[39;00m\u001B[38;5;124m as \u001B[39m\u001B[38;5;132;01m{}\u001B[39;00m\u001B[38;5;124mkeyword arg\u001B[39m\u001B[38;5;132;01m{}\u001B[39;00m\u001B[38;5;124m: \u001B[39m\u001B[38;5;132;01m{}\u001B[39;00m\u001B[38;5;124m. \u001B[39m\u001B[38;5;124m\"\u001B[39m\n\u001B[1;32m     38\u001B[0m         \u001B[38;5;124m\"\u001B[39m\u001B[38;5;124mFrom version 0.12, the only valid positional argument \u001B[39m\u001B[38;5;124m\"\u001B[39m\n\u001B[0;32m   (...)\u001B[0m\n\u001B[1;32m     43\u001B[0m         \u001B[38;5;167;01mFutureWarning\u001B[39;00m\n\u001B[1;32m     44\u001B[0m     )\n\u001B[1;32m     45\u001B[0m kwargs\u001B[38;5;241m.\u001B[39mupdate({k: arg \u001B[38;5;28;01mfor\u001B[39;00m k, arg \u001B[38;5;129;01min\u001B[39;00m \u001B[38;5;28mzip\u001B[39m(sig\u001B[38;5;241m.\u001B[39mparameters, args)})\n\u001B[0;32m---> 46\u001B[0m \u001B[38;5;28;01mreturn\u001B[39;00m \u001B[43mf\u001B[49m\u001B[43m(\u001B[49m\u001B[38;5;241;43m*\u001B[39;49m\u001B[38;5;241;43m*\u001B[39;49m\u001B[43mkwargs\u001B[49m\u001B[43m)\u001B[49m\n",
      "File \u001B[0;32m~/Springboard/capstone_prework/venv/lib/python3.8/site-packages/seaborn/axisgrid.py:2140\u001B[0m, in \u001B[0;36mpairplot\u001B[0;34m(data, hue, hue_order, palette, vars, x_vars, y_vars, kind, diag_kind, markers, height, aspect, corner, dropna, plot_kws, diag_kws, grid_kws, size)\u001B[0m\n\u001B[1;32m   2138\u001B[0m \u001B[38;5;28;01mif\u001B[39;00m kind \u001B[38;5;241m==\u001B[39m \u001B[38;5;124m\"\u001B[39m\u001B[38;5;124mscatter\u001B[39m\u001B[38;5;124m\"\u001B[39m:\n\u001B[1;32m   2139\u001B[0m     \u001B[38;5;28;01mfrom\u001B[39;00m \u001B[38;5;21;01m.\u001B[39;00m\u001B[38;5;21;01mrelational\u001B[39;00m \u001B[38;5;28;01mimport\u001B[39;00m scatterplot  \u001B[38;5;66;03m# Avoid circular import\u001B[39;00m\n\u001B[0;32m-> 2140\u001B[0m     \u001B[43mplotter\u001B[49m\u001B[43m(\u001B[49m\u001B[43mscatterplot\u001B[49m\u001B[43m,\u001B[49m\u001B[43m \u001B[49m\u001B[38;5;241;43m*\u001B[39;49m\u001B[38;5;241;43m*\u001B[39;49m\u001B[43mplot_kws\u001B[49m\u001B[43m)\u001B[49m\n\u001B[1;32m   2141\u001B[0m \u001B[38;5;28;01melif\u001B[39;00m kind \u001B[38;5;241m==\u001B[39m \u001B[38;5;124m\"\u001B[39m\u001B[38;5;124mreg\u001B[39m\u001B[38;5;124m\"\u001B[39m:\n\u001B[1;32m   2142\u001B[0m     \u001B[38;5;28;01mfrom\u001B[39;00m \u001B[38;5;21;01m.\u001B[39;00m\u001B[38;5;21;01mregression\u001B[39;00m \u001B[38;5;28;01mimport\u001B[39;00m regplot  \u001B[38;5;66;03m# Avoid circular import\u001B[39;00m\n",
      "File \u001B[0;32m~/Springboard/capstone_prework/venv/lib/python3.8/site-packages/seaborn/axisgrid.py:1396\u001B[0m, in \u001B[0;36mPairGrid.map_offdiag\u001B[0;34m(self, func, **kwargs)\u001B[0m\n\u001B[1;32m   1394\u001B[0m             \u001B[38;5;28;01mif\u001B[39;00m x_var \u001B[38;5;241m!=\u001B[39m y_var:\n\u001B[1;32m   1395\u001B[0m                 indices\u001B[38;5;241m.\u001B[39mappend((i, j))\n\u001B[0;32m-> 1396\u001B[0m     \u001B[38;5;28;43mself\u001B[39;49m\u001B[38;5;241;43m.\u001B[39;49m\u001B[43m_map_bivariate\u001B[49m\u001B[43m(\u001B[49m\u001B[43mfunc\u001B[49m\u001B[43m,\u001B[49m\u001B[43m \u001B[49m\u001B[43mindices\u001B[49m\u001B[43m,\u001B[49m\u001B[43m \u001B[49m\u001B[38;5;241;43m*\u001B[39;49m\u001B[38;5;241;43m*\u001B[39;49m\u001B[43mkwargs\u001B[49m\u001B[43m)\u001B[49m\n\u001B[1;32m   1397\u001B[0m \u001B[38;5;28;01mreturn\u001B[39;00m \u001B[38;5;28mself\u001B[39m\n",
      "File \u001B[0;32m~/Springboard/capstone_prework/venv/lib/python3.8/site-packages/seaborn/axisgrid.py:1539\u001B[0m, in \u001B[0;36mPairGrid._map_bivariate\u001B[0;34m(self, func, indices, **kwargs)\u001B[0m\n\u001B[1;32m   1537\u001B[0m     \u001B[38;5;28;01mif\u001B[39;00m ax \u001B[38;5;129;01mis\u001B[39;00m \u001B[38;5;28;01mNone\u001B[39;00m:  \u001B[38;5;66;03m# i.e. we are in corner mode\u001B[39;00m\n\u001B[1;32m   1538\u001B[0m         \u001B[38;5;28;01mcontinue\u001B[39;00m\n\u001B[0;32m-> 1539\u001B[0m     \u001B[38;5;28;43mself\u001B[39;49m\u001B[38;5;241;43m.\u001B[39;49m\u001B[43m_plot_bivariate\u001B[49m\u001B[43m(\u001B[49m\u001B[43mx_var\u001B[49m\u001B[43m,\u001B[49m\u001B[43m \u001B[49m\u001B[43my_var\u001B[49m\u001B[43m,\u001B[49m\u001B[43m \u001B[49m\u001B[43max\u001B[49m\u001B[43m,\u001B[49m\u001B[43m \u001B[49m\u001B[43mfunc\u001B[49m\u001B[43m,\u001B[49m\u001B[43m \u001B[49m\u001B[38;5;241;43m*\u001B[39;49m\u001B[38;5;241;43m*\u001B[39;49m\u001B[43mkws\u001B[49m\u001B[43m)\u001B[49m\n\u001B[1;32m   1540\u001B[0m \u001B[38;5;28mself\u001B[39m\u001B[38;5;241m.\u001B[39m_add_axis_labels()\n\u001B[1;32m   1542\u001B[0m \u001B[38;5;28;01mif\u001B[39;00m \u001B[38;5;124m\"\u001B[39m\u001B[38;5;124mhue\u001B[39m\u001B[38;5;124m\"\u001B[39m \u001B[38;5;129;01min\u001B[39;00m signature(func)\u001B[38;5;241m.\u001B[39mparameters:\n",
      "File \u001B[0;32m~/Springboard/capstone_prework/venv/lib/python3.8/site-packages/seaborn/axisgrid.py:1565\u001B[0m, in \u001B[0;36mPairGrid._plot_bivariate\u001B[0;34m(self, x_var, y_var, ax, func, **kwargs)\u001B[0m\n\u001B[1;32m   1562\u001B[0m \u001B[38;5;28;01mif\u001B[39;00m \u001B[38;5;28mself\u001B[39m\u001B[38;5;241m.\u001B[39m_hue_var \u001B[38;5;129;01mis\u001B[39;00m \u001B[38;5;129;01mnot\u001B[39;00m \u001B[38;5;28;01mNone\u001B[39;00m \u001B[38;5;129;01mand\u001B[39;00m \u001B[38;5;28mself\u001B[39m\u001B[38;5;241m.\u001B[39m_hue_var \u001B[38;5;129;01mnot\u001B[39;00m \u001B[38;5;129;01min\u001B[39;00m axes_vars:\n\u001B[1;32m   1563\u001B[0m     axes_vars\u001B[38;5;241m.\u001B[39mappend(\u001B[38;5;28mself\u001B[39m\u001B[38;5;241m.\u001B[39m_hue_var)\n\u001B[0;32m-> 1565\u001B[0m data \u001B[38;5;241m=\u001B[39m \u001B[38;5;28;43mself\u001B[39;49m\u001B[38;5;241;43m.\u001B[39;49m\u001B[43mdata\u001B[49m\u001B[43m[\u001B[49m\u001B[43maxes_vars\u001B[49m\u001B[43m]\u001B[49m\n\u001B[1;32m   1566\u001B[0m \u001B[38;5;28;01mif\u001B[39;00m \u001B[38;5;28mself\u001B[39m\u001B[38;5;241m.\u001B[39m_dropna:\n\u001B[1;32m   1567\u001B[0m     data \u001B[38;5;241m=\u001B[39m data\u001B[38;5;241m.\u001B[39mdropna()\n",
      "File \u001B[0;32m~/Springboard/capstone_prework/venv/lib/python3.8/site-packages/pandas/core/frame.py:3511\u001B[0m, in \u001B[0;36mDataFrame.__getitem__\u001B[0;34m(self, key)\u001B[0m\n\u001B[1;32m   3509\u001B[0m     \u001B[38;5;28;01mif\u001B[39;00m is_iterator(key):\n\u001B[1;32m   3510\u001B[0m         key \u001B[38;5;241m=\u001B[39m \u001B[38;5;28mlist\u001B[39m(key)\n\u001B[0;32m-> 3511\u001B[0m     indexer \u001B[38;5;241m=\u001B[39m \u001B[38;5;28;43mself\u001B[39;49m\u001B[38;5;241;43m.\u001B[39;49m\u001B[43mcolumns\u001B[49m\u001B[38;5;241;43m.\u001B[39;49m\u001B[43m_get_indexer_strict\u001B[49m\u001B[43m(\u001B[49m\u001B[43mkey\u001B[49m\u001B[43m,\u001B[49m\u001B[43m \u001B[49m\u001B[38;5;124;43m\"\u001B[39;49m\u001B[38;5;124;43mcolumns\u001B[39;49m\u001B[38;5;124;43m\"\u001B[39;49m\u001B[43m)\u001B[49m[\u001B[38;5;241m1\u001B[39m]\n\u001B[1;32m   3513\u001B[0m \u001B[38;5;66;03m# take() does not accept boolean indexers\u001B[39;00m\n\u001B[1;32m   3514\u001B[0m \u001B[38;5;28;01mif\u001B[39;00m \u001B[38;5;28mgetattr\u001B[39m(indexer, \u001B[38;5;124m\"\u001B[39m\u001B[38;5;124mdtype\u001B[39m\u001B[38;5;124m\"\u001B[39m, \u001B[38;5;28;01mNone\u001B[39;00m) \u001B[38;5;241m==\u001B[39m \u001B[38;5;28mbool\u001B[39m:\n",
      "File \u001B[0;32m~/Springboard/capstone_prework/venv/lib/python3.8/site-packages/pandas/core/indexes/base.py:5782\u001B[0m, in \u001B[0;36mIndex._get_indexer_strict\u001B[0;34m(self, key, axis_name)\u001B[0m\n\u001B[1;32m   5779\u001B[0m \u001B[38;5;28;01melse\u001B[39;00m:\n\u001B[1;32m   5780\u001B[0m     keyarr, indexer, new_indexer \u001B[38;5;241m=\u001B[39m \u001B[38;5;28mself\u001B[39m\u001B[38;5;241m.\u001B[39m_reindex_non_unique(keyarr)\n\u001B[0;32m-> 5782\u001B[0m \u001B[38;5;28;43mself\u001B[39;49m\u001B[38;5;241;43m.\u001B[39;49m\u001B[43m_raise_if_missing\u001B[49m\u001B[43m(\u001B[49m\u001B[43mkeyarr\u001B[49m\u001B[43m,\u001B[49m\u001B[43m \u001B[49m\u001B[43mindexer\u001B[49m\u001B[43m,\u001B[49m\u001B[43m \u001B[49m\u001B[43maxis_name\u001B[49m\u001B[43m)\u001B[49m\n\u001B[1;32m   5784\u001B[0m keyarr \u001B[38;5;241m=\u001B[39m \u001B[38;5;28mself\u001B[39m\u001B[38;5;241m.\u001B[39mtake(indexer)\n\u001B[1;32m   5785\u001B[0m \u001B[38;5;28;01mif\u001B[39;00m \u001B[38;5;28misinstance\u001B[39m(key, Index):\n\u001B[1;32m   5786\u001B[0m     \u001B[38;5;66;03m# GH 42790 - Preserve name from an Index\u001B[39;00m\n",
      "File \u001B[0;32m~/Springboard/capstone_prework/venv/lib/python3.8/site-packages/pandas/core/indexes/base.py:5845\u001B[0m, in \u001B[0;36mIndex._raise_if_missing\u001B[0;34m(self, key, indexer, axis_name)\u001B[0m\n\u001B[1;32m   5842\u001B[0m     \u001B[38;5;28;01mraise\u001B[39;00m \u001B[38;5;167;01mKeyError\u001B[39;00m(\u001B[38;5;124mf\u001B[39m\u001B[38;5;124m\"\u001B[39m\u001B[38;5;124mNone of [\u001B[39m\u001B[38;5;132;01m{\u001B[39;00mkey\u001B[38;5;132;01m}\u001B[39;00m\u001B[38;5;124m] are in the [\u001B[39m\u001B[38;5;132;01m{\u001B[39;00maxis_name\u001B[38;5;132;01m}\u001B[39;00m\u001B[38;5;124m]\u001B[39m\u001B[38;5;124m\"\u001B[39m)\n\u001B[1;32m   5844\u001B[0m not_found \u001B[38;5;241m=\u001B[39m \u001B[38;5;28mlist\u001B[39m(ensure_index(key)[missing_mask\u001B[38;5;241m.\u001B[39mnonzero()[\u001B[38;5;241m0\u001B[39m]]\u001B[38;5;241m.\u001B[39munique())\n\u001B[0;32m-> 5845\u001B[0m \u001B[38;5;28;01mraise\u001B[39;00m \u001B[38;5;167;01mKeyError\u001B[39;00m(\u001B[38;5;124mf\u001B[39m\u001B[38;5;124m\"\u001B[39m\u001B[38;5;132;01m{\u001B[39;00mnot_found\u001B[38;5;132;01m}\u001B[39;00m\u001B[38;5;124m not in index\u001B[39m\u001B[38;5;124m\"\u001B[39m)\n",
      "\u001B[0;31mKeyError\u001B[0m: \"['bedrooms'] not in index\""
     ]
    },
    {
     "data": {
      "text/plain": "<Figure size 864x288 with 3 Axes>",
      "image/png": "[encoded data removed]"
     },
     "metadata": {
      "needs_background": "light"
     },
     "output_type": "display_data"
    }
   ],
   "source": [
    "# Using pairplot we'll visualize the data for correlation\n",
    "\n",
    "#sns.pairplot(df_original, x_vars=['bedrooms', 'postcode','type'],\n",
    "#plt.figure(figsize=(20,15))\n",
    "#sns.pairplot(df_original, x_vars=['bedrooms', 'bathrooms','compass','type','Station_Prox','hold_type2','sq_ft','Price','borough'], y_vars='Target', height=4, aspect=4, kind='scatter')\n",
    "sns.pairplot(df_original, x_vars=['bedrooms', 'bathrooms','sq_ft'], y_vars='Target', height=4, aspect=1, kind='scatter')\n",
    "plt.show()\n",
    "sns.pairplot(df_original, x_vars=['Station_Prox','type','hold_type2'], y_vars='Target', height=4, aspect=1, kind='scatter')\n",
    "plt.show()\n",
    "sns.pairplot(df_original, x_vars=['borough','compass','Price'], y_vars='Target', height=4, aspect=1, kind='scatter')\n",
    "plt.show()"
   ],
   "metadata": {
    "collapsed": false,
    "pycharm": {
     "name": "#%%\n"
    }
   }
  },
  {
   "cell_type": "code",
   "execution_count": null,
   "outputs": [],
   "source": [
    "sns.pairplot(df_original[df_original['bedrooms'] == 2], x_vars=['Station_Prox'], y_vars='Target', size=7, aspect=1, kind='scatter')\n",
    "plt.show()"
   ],
   "metadata": {
    "collapsed": false,
    "pycharm": {
     "name": "#%%\n"
    }
   }
  },
  {
   "cell_type": "code",
   "execution_count": null,
   "outputs": [],
   "source": [
    "sns.pairplot(df_original[df_original[\"type\"] == \"house\"], x_vars=['bedrooms', 'compass'],\n",
    "             y_vars='Target', height=5, aspect=1, kind='scatter')\n",
    "plt.show()"
   ],
   "metadata": {
    "collapsed": false,
    "pycharm": {
     "name": "#%%\n"
    }
   }
  },
  {
   "cell_type": "code",
   "execution_count": null,
   "outputs": [],
   "source": [
    "df_original.hist(figsize=(12,12))"
   ],
   "metadata": {
    "collapsed": false,
    "pycharm": {
     "name": "#%%\n"
    }
   }
  },
  {
   "cell_type": "code",
   "execution_count": null,
   "outputs": [],
   "source": [
    "df_original.hist(bins=50, figsize=(20,15))"
   ],
   "metadata": {
    "collapsed": false,
    "pycharm": {
     "name": "#%%\n"
    }
   }
  },
  {
   "cell_type": "code",
   "execution_count": null,
   "outputs": [],
   "source": [
    "df_original[(df_original['sq_ft'] != -1) & (df_original['Target'] != -1)].hist(bins=50, figsize=(20,15))"
   ],
   "metadata": {
    "collapsed": false,
    "pycharm": {
     "name": "#%%\n"
    }
   }
  },
  {
   "cell_type": "code",
   "execution_count": null,
   "outputs": [],
   "source": [
    "df_original[\"postcode\"].value_counts()"
   ],
   "metadata": {
    "collapsed": false,
    "pycharm": {
     "name": "#%%\n"
    }
   }
  },
  {
   "cell_type": "code",
   "execution_count": null,
   "outputs": [],
   "source": [
    "df_original[\"type\"].value_counts()"
   ],
   "metadata": {
    "collapsed": false,
    "pycharm": {
     "name": "#%%\n"
    }
   }
  },
  {
   "cell_type": "code",
   "execution_count": null,
   "outputs": [],
   "source": [
    "for each in df_original.columns:\n",
    "\n",
    "    if each not in ['other_key_info','bullet_points','station_info','long_description']:\n",
    "        print(each)\n",
    "        print(df_original[each].value_counts())"
   ],
   "metadata": {
    "collapsed": false,
    "pycharm": {
     "name": "#%%\n"
    }
   }
  },
  {
   "cell_type": "code",
   "execution_count": null,
   "outputs": [],
   "source": [
    "df_original.iloc[:,:-1].shape,df_original.iloc[:,-1].shape,df_original[\"Target\"].shape"
   ],
   "metadata": {
    "collapsed": false,
    "pycharm": {
     "name": "#%%\n"
    }
   }
  },
  {
   "cell_type": "code",
   "execution_count": null,
   "outputs": [],
   "source": [
    "df_original.head(20)"
   ],
   "metadata": {
    "collapsed": false,
    "pycharm": {
     "name": "#%%\n"
    }
   }
  },
  {
   "cell_type": "code",
   "execution_count": null,
   "outputs": [],
   "source": [
    "#df_original.drop(\"Links\")\n",
    "df = df_original.copy()\n",
    "#df = df.drop(['Links','version_head','version_indiv','link'], axis=1)\n",
    "df = df.drop(['Address','Description','Price','postcode'], axis=1)\n",
    "df = df.drop(['borough','other_key_info','bullet_points','station_info'], axis=1)\n",
    "df = df.drop(['short_description','long_description','hold_type','size'], axis=1)\n",
    "df.head(20)"
   ],
   "metadata": {
    "collapsed": false,
    "pycharm": {
     "name": "#%%\n"
    }
   }
  },
  {
   "cell_type": "code",
   "execution_count": null,
   "outputs": [],
   "source": [
    "for column in ['type','compass','hold_type2']:\n",
    "    df = pd.concat([df,pd.get_dummies(df[column], prefix=column)],axis=1)\n",
    "    # now drop the original column (you don't need it anymore)\n",
    "    df.drop([column],axis=1, inplace=True)\n",
    "df.head(20)"
   ],
   "metadata": {
    "collapsed": false,
    "pycharm": {
     "name": "#%%\n"
    }
   }
  },
  {
   "cell_type": "code",
   "execution_count": null,
   "outputs": [],
   "source": [
    "if False:\n",
    "    df.dropna(inplace=True)\n",
    "    df"
   ],
   "metadata": {
    "collapsed": false,
    "pycharm": {
     "name": "#%%\n"
    }
   }
  },
  {
   "cell_type": "code",
   "execution_count": null,
   "outputs": [],
   "source": [
    "X = df.drop([\"Target\"],axis=1)\n",
    "y = df[\"Target\"]\n",
    "X,y"
   ],
   "metadata": {
    "collapsed": false,
    "pycharm": {
     "name": "#%%\n"
    }
   }
  },
  {
   "cell_type": "markdown",
   "source": [
    "# Exploratory Analysis"
   ],
   "metadata": {
    "collapsed": false,
    "pycharm": {
     "name": "#%% md\n"
    }
   }
  },
  {
   "cell_type": "code",
   "execution_count": null,
   "outputs": [],
   "source": [
    "### does this work? it seems slow\n",
    "#for each in df_original.columns[:2]:\n",
    "#    x = df_original.plot(kind='scatter',x=each, y=\"Target\")\n",
    "#    plt.show()\n",
    "#    #print (each)"
   ],
   "metadata": {
    "collapsed": false,
    "pycharm": {
     "name": "#%%\n"
    }
   }
  },
  {
   "cell_type": "code",
   "execution_count": null,
   "outputs": [],
   "source": [
    "### does this work? it doesn't seem to\n",
    "#import numpy as np\n",
    "#for each in df_original.columns:\n",
    "#    print(each)\n",
    "#\n",
    "# x = df_original.plot(kind='scatter',x='bedrooms', y=\"Target\")\n",
    "# plt.yticks(np.arange(min(x), max(x)+1, 1000))\n",
    "# plt.show()"
   ],
   "metadata": {
    "collapsed": false,
    "pycharm": {
     "name": "#%%\n"
    }
   }
  },
  {
   "cell_type": "code",
   "execution_count": null,
   "outputs": [],
   "source": [
    "# also not working\n",
    "# df_original[\"Target\"].describe()\n",
    "# xx.describe()\n",
    "# yy.dropna().describe()\n",
    "# df_original[\"Target\"]"
   ],
   "metadata": {
    "collapsed": false,
    "pycharm": {
     "name": "#%%\n"
    }
   }
  },
  {
   "cell_type": "code",
   "execution_count": null,
   "outputs": [],
   "source": [
    "#subset = df_original[df_original[['Target']].apply(lambda x: x[0].isdigit(), axis=1)]\n",
    "pd.to_numeric(subset[\"Target\"], 'coerce').dropna().astype(int)\n",
    "\n",
    "#print(subset.head())\n",
    "subset.describe()\n",
    "df_original[\"Target\"].value_counts()\n",
    "df_original[\"Target\"].dtypes\n",
    "df_original.dtypes\n",
    "\n",
    "#df_original[\"Target\"] = df_original[\"Target\"].astype(\"float\")\n",
    "#df_original.dtypes\n",
    "\n",
    "pd.to_numeric(df_original[\"Target\"], 'coerce').dropna().astype(int)\n",
    "\n",
    "xx = subset['bedrooms']\n",
    "yy = subset['Target']\n",
    "\n",
    "xx,yy\n",
    "subset['Target'] = pd.to_numeric(subset[\"Target\"], 'coerce').dropna().astype(int)\n",
    "subset['Target'].info()\n",
    "\n",
    "# Creating a subplot with 2 row and 1 column\n",
    "fig, (axes3) = plt.subplots(1, 1, figsize=(10,7))\n",
    "\n",
    "# Plotting first axes object i.e. axes1 and labeling\n",
    "# its x and y axes\n",
    "axes3.scatter(xx, yy)\n",
    "axes3.set_ylabel('y-axis')\n",
    "axes3.set_xlabel('x-axis')\n",
    "\n",
    "# Setting the interval of ticks of x-axis to 1 and of y-axis\n",
    "# to 0.1 of first axes i.e. axes1.\n",
    "axes3.xaxis.set_ticks(np.arange(0, 10, 1))\n",
    "#axes3.yaxis.set_ticks(np.arange(0, 0.5, 0.1))\n",
    "#axes3.yaxis.set_ticks([0,10])\n",
    "axes3.yaxis.set_ticks(np.arange(0, 10000000,500000))\n",
    "\n",
    "plt.show()"
   ],
   "metadata": {
    "collapsed": false,
    "pycharm": {
     "name": "#%%\n"
    }
   }
  },
  {
   "cell_type": "code",
   "execution_count": null,
   "outputs": [],
   "source": [
    "#subset = df_original[df_original[['Target']].apply(lambda x: x[0].isdigit(), axis=1)]\n",
    "pd.to_numeric(subset[\"Target\"], 'coerce').dropna().astype(int)\n",
    "\n",
    "for x in subset.columns:\n",
    "\n",
    "    if x not in ['other_key_info','bullet_points','station_info','long_description',\n",
    "        'Address','Description',\n",
    "        'borough'\n",
    "                 ]:\n",
    "        print(x)\n",
    "        #x= 'bedrooms'\n",
    "        y = 'Target'\n",
    "        xx = subset[x]\n",
    "        yy = subset[y]\n",
    "\n",
    "        xx,yy\n",
    "\n",
    "        # Creating a subplot with 2 row and 1 column\n",
    "        fig, (axes3) = plt.subplots(1, 1, figsize=(10,7))\n",
    "\n",
    "        # Plotting first axes object i.e. axes1 and labeling\n",
    "        # its x and y axes\n",
    "        axes3.scatter(xx, yy)\n",
    "        axes3.set_ylabel(y)\n",
    "        axes3.set_xlabel(x)\n",
    "\n",
    "        # Setting the interval of ticks of x-axis to 1 and of y-axis\n",
    "        # to 0.1 of first axes i.e. axes1.\n",
    "        #axes3.yaxis.set_ticks(np.arange(0, 0.5, 0.1))\n",
    "        #axes3.yaxis.set_ticks([0,10])\n",
    "        axes3.yaxis.set_ticks(np.arange(0, 10000000,500000))\n",
    "\n",
    "        #axes3.xaxis.set_ticks(np.arange(0, 10, 1))\n",
    "        axes3.xaxis.set_ticks(np.arange(0, len(xx), len(xx)/10))\n",
    "\n",
    "        plt.show()"
   ],
   "metadata": {
    "collapsed": false,
    "pycharm": {
     "name": "#%%\n"
    }
   }
  },
  {
   "cell_type": "code",
   "execution_count": null,
   "outputs": [],
   "source": [
    "sb.boxplot(x='Parch', y='Age', data=titanic_data, palette='hls')"
   ],
   "metadata": {
    "collapsed": false,
    "pycharm": {
     "name": "#%%\n"
    }
   }
  }
 ],
 "metadata": {
  "kernelspec": {
   "display_name": "Python 3",
   "language": "python",
   "name": "python3"
  },
  "language_info": {
   "codemirror_mode": {
    "name": "ipython",
    "version": 2
   },
   "file_extension": ".py",
   "mimetype": "text/x-python",
   "name": "python",
   "nbconvert_exporter": "python",
   "pygments_lexer": "ipython2",
   "version": "2.7.6"
  }
 },
 "nbformat": 4,
 "nbformat_minor": 0
}