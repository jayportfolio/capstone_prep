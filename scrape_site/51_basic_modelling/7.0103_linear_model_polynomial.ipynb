{
 "cells": [
  {
   "cell_type": "code",
   "execution_count": 1,
   "metadata": {
    "collapsed": true,
    "pycharm": {
     "name": "#%%\n"
    }
   },
   "outputs": [
    {
     "name": "stderr",
     "output_type": "stream",
     "text": [
      "/media/sf_shared_files/Springboard_III/capstone_prep/globalfunction/vv.py:262: DtypeWarning: Columns (43) have mixed types. Specify dtype option on import or set low_memory=False.\n",
      "  df_json1 = pd.read_csv(LISTING_JSON_MODEL_FILE)  # EDIT 29-06-2022: There are bid listings and regular listings. I scrape them seporately and join them here.\n"
     ]
    },
    {
     "name": "stdout",
     "output_type": "stream",
     "text": [
      "remove duplicates: 27554/37187/31318/31643 ==> 27554/27710/27507/27514\n",
      "type <class 'pandas.core.indexes.base.Index'>\n",
      "Index(['Price', 'location.latitude', 'location.longitude',\n",
      "       'distance_to_any_train', 'bedrooms_model', 'bathrooms_model',\n",
      "       'analyticsProperty.imageCount', 'analyticsProperty.added',\n",
      "       'floorplan_count', 'borough_name_Barking and Dagenham',\n",
      "       'borough_name_Barnet', 'borough_name_Brent', 'borough_name_Bromley',\n",
      "       'borough_name_Camden', 'borough_name_City of London',\n",
      "       'borough_name_Croydon', 'borough_name_Ealing', 'borough_name_Enfield',\n",
      "       'borough_name_Greenwich', 'borough_name_Hackney',\n",
      "       'borough_name_Hammersmith and Fulham', 'borough_name_Haringey',\n",
      "       'borough_name_Harrow', 'borough_name_Havering',\n",
      "       'borough_name_Hillingdon', 'borough_name_Hounslow',\n",
      "       'borough_name_Islington', 'borough_name_Kensington and Chelsea',\n",
      "       'borough_name_Kingston upon Thames', 'borough_name_London (all)',\n",
      "       'borough_name_Merton', 'borough_name_Redbridge', 'borough_name_Sutton',\n",
      "       'borough_name_Tower Hamlets', 'borough_name_Waltham Forest',\n",
      "       'borough_name_Wandsworth', 'borough_name_Westminster',\n",
      "       'analyticsProperty.propertyType_Bungalows',\n",
      "       'analyticsProperty.propertyType_Flats / Apartments',\n",
      "       'analyticsProperty.propertyType_Houses',\n",
      "       'analyticsProperty.propertyType_Mobile / Park homes',\n",
      "       'analyticsProperty.propertyType_Not Specified',\n",
      "       'analyticsProperty.propertyType_Retirement Property',\n",
      "       'propertySubType_Apartment', 'propertySubType_Block of Apartments',\n",
      "       'propertySubType_Bungalow', 'propertySubType_Chalet',\n",
      "       'propertySubType_Coach House', 'propertySubType_Cottage',\n",
      "       'propertySubType_Detached', 'propertySubType_Detached Bungalow',\n",
      "       'propertySubType_Duplex', 'propertySubType_End of Terrace',\n",
      "       'propertySubType_Flat', 'propertySubType_Ground Flat',\n",
      "       'propertySubType_Ground Maisonette', 'propertySubType_Hotel Room',\n",
      "       'propertySubType_House', 'propertySubType_Link Detached House',\n",
      "       'propertySubType_Maisonette', 'propertySubType_Mews',\n",
      "       'propertySubType_Not Specified', 'propertySubType_Park Home',\n",
      "       'propertySubType_Penthouse', 'propertySubType_Retirement Property',\n",
      "       'propertySubType_Semi-Detached',\n",
      "       'propertySubType_Semi-Detached Bungalow', 'propertySubType_Studio',\n",
      "       'propertySubType_Terraced', 'propertySubType_Terraced Bungalow',\n",
      "       'propertySubType_Town House', 'coarse_compass_direction_BR',\n",
      "       'coarse_compass_direction_CR', 'coarse_compass_direction_DA',\n",
      "       'coarse_compass_direction_E', 'coarse_compass_direction_EC',\n",
      "       'coarse_compass_direction_EN', 'coarse_compass_direction_HA',\n",
      "       'coarse_compass_direction_IG', 'coarse_compass_direction_KT',\n",
      "       'coarse_compass_direction_N', 'coarse_compass_direction_NW',\n",
      "       'coarse_compass_direction_RM', 'coarse_compass_direction_SE',\n",
      "       'coarse_compass_direction_SM', 'coarse_compass_direction_SW',\n",
      "       'coarse_compass_direction_TN', 'coarse_compass_direction_TW',\n",
      "       'coarse_compass_direction_UB', 'coarse_compass_direction_W',\n",
      "       'coarse_compass_direction_WC', 'coarse_compass_direction_WD',\n",
      "       'tenure.tenureType_COMMONHOLD', 'tenure.tenureType_FREEHOLD',\n",
      "       'tenure.tenureType_LEASEHOLD', 'tenure.tenureType_SHARE_OF_FREEHOLD'],\n",
      "      dtype='object')\n",
      "(23833, 96)\n"
     ]
    },
    {
     "data": {
      "text/plain": "              Price  location.latitude  location.longitude  \\\nids                                                          \n123445970  500000.0          51.610004            0.041362   \n84020265   400000.0          51.590622            0.028809   \n121786625  400000.0          51.603290            0.027210   \n120923987  400000.0          51.576280            0.018790   \n85564443   400000.0          51.611339            0.107390   \n123521009  400000.0          51.570060            0.118210   \n120206078  400000.0          51.613550            0.021460   \n123819149  400000.0          51.611610            0.120730   \n110366426  400000.0          51.582491            0.022055   \n114104657  400000.0          51.607860            0.026280   \n122090105  400000.0          51.622959            0.029384   \n120482222  400000.0          51.613460            0.093380   \n84067614   400000.0          51.581687            0.093540   \n85568622   400000.0          51.584331            0.015159   \n124134326  425000.0          51.566784            0.061209   \n123208265  399950.0          51.597629            0.080524   \n115514924  400000.0          51.601620            0.020060   \n84016008   400000.0          51.561385            0.071797   \n122592077  400000.0          51.590037            0.027498   \n123673634  400000.0          51.565346            0.070891   \n\n           distance_to_any_train  bedrooms_model  bathrooms_model  \\\nids                                                                 \n123445970                    0.3             2.0              1.0   \n84020265                     0.1             2.0              1.0   \n121786625                    0.5             2.0              1.0   \n120923987                    0.3             2.0              1.0   \n85564443                     0.7             3.0              1.0   \n123521009                    0.4             2.0              1.0   \n120206078                    0.7             2.0              1.0   \n123819149                    1.2             2.0              1.0   \n110366426                    0.1             2.0              1.0   \n114104657                    0.4             3.0              1.0   \n122090105                    0.7             2.0              1.0   \n120482222                    0.1             2.0              1.0   \n84067614                     0.3             3.0              1.0   \n85568622                     0.4             2.0              1.0   \n124134326                    0.7             3.0              1.0   \n123208265                    0.4             2.0              1.0   \n115514924                    0.8             3.0              2.0   \n84016008                     0.2             3.0              1.0   \n122592077                    0.1             2.0              1.0   \n123673634                    0.5             2.0              1.0   \n\n           analyticsProperty.imageCount  analyticsProperty.added  \\\nids                                                                \n123445970                          15.0               20220518.0   \n84020265                           15.0               20220222.0   \n121786625                          11.0               20220331.0   \n120923987                          10.0               20220310.0   \n85564443                           10.0               20220610.0   \n123521009                           8.0               20220520.0   \n120206078                          12.0               20220219.0   \n123819149                          18.0               20220601.0   \n110366426                          14.0               20210713.0   \n114104657                          13.0               20210928.0   \n122090105                          12.0               20220407.0   \n120482222                          11.0               20220228.0   \n84067614                            9.0               20220223.0   \n85568622                           16.0               20220610.0   \n124134326                          10.0               20220621.0   \n123208265                          16.0               20220510.0   \n115514924                          14.0               20211028.0   \n84016008                           19.0               20220222.0   \n122592077                          15.0               20220420.0   \n123673634                           9.0               20220525.0   \n\n           floorplan_count  borough_name_Barking and Dagenham  ...  \\\nids                                                            ...   \n123445970              8.0                                  0  ...   \n84020265               4.0                                  0  ...   \n121786625              4.0                                  0  ...   \n120923987              4.0                                  0  ...   \n85564443               4.0                                  0  ...   \n123521009              8.0                                  0  ...   \n120206078              4.0                                  0  ...   \n123819149              4.0                                  0  ...   \n110366426              4.0                                  0  ...   \n114104657              4.0                                  0  ...   \n122090105              4.0                                  0  ...   \n120482222              4.0                                  0  ...   \n84067614               4.0                                  0  ...   \n85568622               4.0                                  0  ...   \n124134326              4.0                                  0  ...   \n123208265              4.0                                  0  ...   \n115514924              4.0                                  0  ...   \n84016008               4.0                                  0  ...   \n122592077              4.0                                  0  ...   \n123673634              4.0                                  0  ...   \n\n           coarse_compass_direction_TN  coarse_compass_direction_TW  \\\nids                                                                   \n123445970                            0                            0   \n84020265                             0                            0   \n121786625                            0                            0   \n120923987                            0                            0   \n85564443                             0                            0   \n123521009                            0                            0   \n120206078                            0                            0   \n123819149                            0                            0   \n110366426                            0                            0   \n114104657                            0                            0   \n122090105                            0                            0   \n120482222                            0                            0   \n84067614                             0                            0   \n85568622                             0                            0   \n124134326                            0                            0   \n123208265                            0                            0   \n115514924                            0                            0   \n84016008                             0                            0   \n122592077                            0                            0   \n123673634                            0                            0   \n\n           coarse_compass_direction_UB  coarse_compass_direction_W  \\\nids                                                                  \n123445970                            0                           0   \n84020265                             0                           0   \n121786625                            0                           0   \n120923987                            0                           0   \n85564443                             0                           0   \n123521009                            0                           0   \n120206078                            0                           0   \n123819149                            0                           0   \n110366426                            0                           0   \n114104657                            0                           0   \n122090105                            0                           0   \n120482222                            0                           0   \n84067614                             0                           0   \n85568622                             0                           0   \n124134326                            0                           0   \n123208265                            0                           0   \n115514924                            0                           0   \n84016008                             0                           0   \n122592077                            0                           0   \n123673634                            0                           0   \n\n           coarse_compass_direction_WC  coarse_compass_direction_WD  \\\nids                                                                   \n123445970                            0                            0   \n84020265                             0                            0   \n121786625                            0                            0   \n120923987                            0                            0   \n85564443                             0                            0   \n123521009                            0                            0   \n120206078                            0                            0   \n123819149                            0                            0   \n110366426                            0                            0   \n114104657                            0                            0   \n122090105                            0                            0   \n120482222                            0                            0   \n84067614                             0                            0   \n85568622                             0                            0   \n124134326                            0                            0   \n123208265                            0                            0   \n115514924                            0                            0   \n84016008                             0                            0   \n122592077                            0                            0   \n123673634                            0                            0   \n\n           tenure.tenureType_COMMONHOLD  tenure.tenureType_FREEHOLD  \\\nids                                                                   \n123445970                             0                           1   \n84020265                              0                           0   \n121786625                             0                           0   \n120923987                             0                           0   \n85564443                              0                           1   \n123521009                             0                           1   \n120206078                             0                           1   \n123819149                             0                           1   \n110366426                             0                           0   \n114104657                             0                           0   \n122090105                             0                           0   \n120482222                             0                           1   \n84067614                              0                           1   \n85568622                              0                           0   \n124134326                             0                           0   \n123208265                             0                           1   \n115514924                             0                           0   \n84016008                              0                           0   \n122592077                             0                           0   \n123673634                             0                           0   \n\n           tenure.tenureType_LEASEHOLD  tenure.tenureType_SHARE_OF_FREEHOLD  \nids                                                                          \n123445970                            0                                    0  \n84020265                             1                                    0  \n121786625                            0                                    1  \n120923987                            0                                    1  \n85564443                             0                                    0  \n123521009                            0                                    0  \n120206078                            0                                    0  \n123819149                            0                                    0  \n110366426                            1                                    0  \n114104657                            1                                    0  \n122090105                            0                                    1  \n120482222                            0                                    0  \n84067614                             0                                    0  \n85568622                             1                                    0  \n124134326                            0                                    1  \n123208265                            0                                    0  \n115514924                            1                                    0  \n84016008                             1                                    0  \n122592077                            0                                    1  \n123673634                            1                                    0  \n\n[20 rows x 96 columns]",
      "text/html": "<div>\n<style scoped>\n    .dataframe tbody tr th:only-of-type {\n        vertical-align: middle;\n    }\n\n    .dataframe tbody tr th {\n        vertical-align: top;\n    }\n\n    .dataframe thead th {\n        text-align: right;\n    }\n</style>\n<table border=\"1\" class=\"dataframe\">\n  <thead>\n    <tr style=\"text-align: right;\">\n      <th></th>\n      <th>Price</th>\n      <th>location.latitude</th>\n      <th>location.longitude</th>\n      <th>distance_to_any_train</th>\n      <th>bedrooms_model</th>\n      <th>bathrooms_model</th>\n      <th>analyticsProperty.imageCount</th>\n      <th>analyticsProperty.added</th>\n      <th>floorplan_count</th>\n      <th>borough_name_Barking and Dagenham</th>\n      <th>...</th>\n      <th>coarse_compass_direction_TN</th>\n      <th>coarse_compass_direction_TW</th>\n      <th>coarse_compass_direction_UB</th>\n      <th>coarse_compass_direction_W</th>\n      <th>coarse_compass_direction_WC</th>\n      <th>coarse_compass_direction_WD</th>\n      <th>tenure.tenureType_COMMONHOLD</th>\n      <th>tenure.tenureType_FREEHOLD</th>\n      <th>tenure.tenureType_LEASEHOLD</th>\n      <th>tenure.tenureType_SHARE_OF_FREEHOLD</th>\n    </tr>\n    <tr>\n      <th>ids</th>\n      <th></th>\n      <th></th>\n      <th></th>\n      <th></th>\n      <th></th>\n      <th></th>\n      <th></th>\n      <th></th>\n      <th></th>\n      <th></th>\n      <th></th>\n      <th></th>\n      <th></th>\n      <th></th>\n      <th></th>\n      <th></th>\n      <th></th>\n      <th></th>\n      <th></th>\n      <th></th>\n      <th></th>\n    </tr>\n  </thead>\n  <tbody>\n    <tr>\n      <th>123445970</th>\n      <td>500000.0</td>\n      <td>51.610004</td>\n      <td>0.041362</td>\n      <td>0.3</td>\n      <td>2.0</td>\n      <td>1.0</td>\n      <td>15.0</td>\n      <td>20220518.0</td>\n      <td>8.0</td>\n      <td>0</td>\n      <td>...</td>\n      <td>0</td>\n      <td>0</td>\n      <td>0</td>\n      <td>0</td>\n      <td>0</td>\n      <td>0</td>\n      <td>0</td>\n      <td>1</td>\n      <td>0</td>\n      <td>0</td>\n    </tr>\n    <tr>\n      <th>84020265</th>\n      <td>400000.0</td>\n      <td>51.590622</td>\n      <td>0.028809</td>\n      <td>0.1</td>\n      <td>2.0</td>\n      <td>1.0</td>\n      <td>15.0</td>\n      <td>20220222.0</td>\n      <td>4.0</td>\n      <td>0</td>\n      <td>...</td>\n      <td>0</td>\n      <td>0</td>\n      <td>0</td>\n      <td>0</td>\n      <td>0</td>\n      <td>0</td>\n      <td>0</td>\n      <td>0</td>\n      <td>1</td>\n      <td>0</td>\n    </tr>\n    <tr>\n      <th>121786625</th>\n      <td>400000.0</td>\n      <td>51.603290</td>\n      <td>0.027210</td>\n      <td>0.5</td>\n      <td>2.0</td>\n      <td>1.0</td>\n      <td>11.0</td>\n      <td>20220331.0</td>\n      <td>4.0</td>\n      <td>0</td>\n      <td>...</td>\n      <td>0</td>\n      <td>0</td>\n      <td>0</td>\n      <td>0</td>\n      <td>0</td>\n      <td>0</td>\n      <td>0</td>\n      <td>0</td>\n      <td>0</td>\n      <td>1</td>\n    </tr>\n    <tr>\n      <th>120923987</th>\n      <td>400000.0</td>\n      <td>51.576280</td>\n      <td>0.018790</td>\n      <td>0.3</td>\n      <td>2.0</td>\n      <td>1.0</td>\n      <td>10.0</td>\n      <td>20220310.0</td>\n      <td>4.0</td>\n      <td>0</td>\n      <td>...</td>\n      <td>0</td>\n      <td>0</td>\n      <td>0</td>\n      <td>0</td>\n      <td>0</td>\n      <td>0</td>\n      <td>0</td>\n      <td>0</td>\n      <td>0</td>\n      <td>1</td>\n    </tr>\n    <tr>\n      <th>85564443</th>\n      <td>400000.0</td>\n      <td>51.611339</td>\n      <td>0.107390</td>\n      <td>0.7</td>\n      <td>3.0</td>\n      <td>1.0</td>\n      <td>10.0</td>\n      <td>20220610.0</td>\n      <td>4.0</td>\n      <td>0</td>\n      <td>...</td>\n      <td>0</td>\n      <td>0</td>\n      <td>0</td>\n      <td>0</td>\n      <td>0</td>\n      <td>0</td>\n      <td>0</td>\n      <td>1</td>\n      <td>0</td>\n      <td>0</td>\n    </tr>\n    <tr>\n      <th>123521009</th>\n      <td>400000.0</td>\n      <td>51.570060</td>\n      <td>0.118210</td>\n      <td>0.4</td>\n      <td>2.0</td>\n      <td>1.0</td>\n      <td>8.0</td>\n      <td>20220520.0</td>\n      <td>8.0</td>\n      <td>0</td>\n      <td>...</td>\n      <td>0</td>\n      <td>0</td>\n      <td>0</td>\n      <td>0</td>\n      <td>0</td>\n      <td>0</td>\n      <td>0</td>\n      <td>1</td>\n      <td>0</td>\n      <td>0</td>\n    </tr>\n    <tr>\n      <th>120206078</th>\n      <td>400000.0</td>\n      <td>51.613550</td>\n      <td>0.021460</td>\n      <td>0.7</td>\n      <td>2.0</td>\n      <td>1.0</td>\n      <td>12.0</td>\n      <td>20220219.0</td>\n      <td>4.0</td>\n      <td>0</td>\n      <td>...</td>\n      <td>0</td>\n      <td>0</td>\n      <td>0</td>\n      <td>0</td>\n      <td>0</td>\n      <td>0</td>\n      <td>0</td>\n      <td>1</td>\n      <td>0</td>\n      <td>0</td>\n    </tr>\n    <tr>\n      <th>123819149</th>\n      <td>400000.0</td>\n      <td>51.611610</td>\n      <td>0.120730</td>\n      <td>1.2</td>\n      <td>2.0</td>\n      <td>1.0</td>\n      <td>18.0</td>\n      <td>20220601.0</td>\n      <td>4.0</td>\n      <td>0</td>\n      <td>...</td>\n      <td>0</td>\n      <td>0</td>\n      <td>0</td>\n      <td>0</td>\n      <td>0</td>\n      <td>0</td>\n      <td>0</td>\n      <td>1</td>\n      <td>0</td>\n      <td>0</td>\n    </tr>\n    <tr>\n      <th>110366426</th>\n      <td>400000.0</td>\n      <td>51.582491</td>\n      <td>0.022055</td>\n      <td>0.1</td>\n      <td>2.0</td>\n      <td>1.0</td>\n      <td>14.0</td>\n      <td>20210713.0</td>\n      <td>4.0</td>\n      <td>0</td>\n      <td>...</td>\n      <td>0</td>\n      <td>0</td>\n      <td>0</td>\n      <td>0</td>\n      <td>0</td>\n      <td>0</td>\n      <td>0</td>\n      <td>0</td>\n      <td>1</td>\n      <td>0</td>\n    </tr>\n    <tr>\n      <th>114104657</th>\n      <td>400000.0</td>\n      <td>51.607860</td>\n      <td>0.026280</td>\n      <td>0.4</td>\n      <td>3.0</td>\n      <td>1.0</td>\n      <td>13.0</td>\n      <td>20210928.0</td>\n      <td>4.0</td>\n      <td>0</td>\n      <td>...</td>\n      <td>0</td>\n      <td>0</td>\n      <td>0</td>\n      <td>0</td>\n      <td>0</td>\n      <td>0</td>\n      <td>0</td>\n      <td>0</td>\n      <td>1</td>\n      <td>0</td>\n    </tr>\n    <tr>\n      <th>122090105</th>\n      <td>400000.0</td>\n      <td>51.622959</td>\n      <td>0.029384</td>\n      <td>0.7</td>\n      <td>2.0</td>\n      <td>1.0</td>\n      <td>12.0</td>\n      <td>20220407.0</td>\n      <td>4.0</td>\n      <td>0</td>\n      <td>...</td>\n      <td>0</td>\n      <td>0</td>\n      <td>0</td>\n      <td>0</td>\n      <td>0</td>\n      <td>0</td>\n      <td>0</td>\n      <td>0</td>\n      <td>0</td>\n      <td>1</td>\n    </tr>\n    <tr>\n      <th>120482222</th>\n      <td>400000.0</td>\n      <td>51.613460</td>\n      <td>0.093380</td>\n      <td>0.1</td>\n      <td>2.0</td>\n      <td>1.0</td>\n      <td>11.0</td>\n      <td>20220228.0</td>\n      <td>4.0</td>\n      <td>0</td>\n      <td>...</td>\n      <td>0</td>\n      <td>0</td>\n      <td>0</td>\n      <td>0</td>\n      <td>0</td>\n      <td>0</td>\n      <td>0</td>\n      <td>1</td>\n      <td>0</td>\n      <td>0</td>\n    </tr>\n    <tr>\n      <th>84067614</th>\n      <td>400000.0</td>\n      <td>51.581687</td>\n      <td>0.093540</td>\n      <td>0.3</td>\n      <td>3.0</td>\n      <td>1.0</td>\n      <td>9.0</td>\n      <td>20220223.0</td>\n      <td>4.0</td>\n      <td>0</td>\n      <td>...</td>\n      <td>0</td>\n      <td>0</td>\n      <td>0</td>\n      <td>0</td>\n      <td>0</td>\n      <td>0</td>\n      <td>0</td>\n      <td>1</td>\n      <td>0</td>\n      <td>0</td>\n    </tr>\n    <tr>\n      <th>85568622</th>\n      <td>400000.0</td>\n      <td>51.584331</td>\n      <td>0.015159</td>\n      <td>0.4</td>\n      <td>2.0</td>\n      <td>1.0</td>\n      <td>16.0</td>\n      <td>20220610.0</td>\n      <td>4.0</td>\n      <td>0</td>\n      <td>...</td>\n      <td>0</td>\n      <td>0</td>\n      <td>0</td>\n      <td>0</td>\n      <td>0</td>\n      <td>0</td>\n      <td>0</td>\n      <td>0</td>\n      <td>1</td>\n      <td>0</td>\n    </tr>\n    <tr>\n      <th>124134326</th>\n      <td>425000.0</td>\n      <td>51.566784</td>\n      <td>0.061209</td>\n      <td>0.7</td>\n      <td>3.0</td>\n      <td>1.0</td>\n      <td>10.0</td>\n      <td>20220621.0</td>\n      <td>4.0</td>\n      <td>0</td>\n      <td>...</td>\n      <td>0</td>\n      <td>0</td>\n      <td>0</td>\n      <td>0</td>\n      <td>0</td>\n      <td>0</td>\n      <td>0</td>\n      <td>0</td>\n      <td>0</td>\n      <td>1</td>\n    </tr>\n    <tr>\n      <th>123208265</th>\n      <td>399950.0</td>\n      <td>51.597629</td>\n      <td>0.080524</td>\n      <td>0.4</td>\n      <td>2.0</td>\n      <td>1.0</td>\n      <td>16.0</td>\n      <td>20220510.0</td>\n      <td>4.0</td>\n      <td>0</td>\n      <td>...</td>\n      <td>0</td>\n      <td>0</td>\n      <td>0</td>\n      <td>0</td>\n      <td>0</td>\n      <td>0</td>\n      <td>0</td>\n      <td>1</td>\n      <td>0</td>\n      <td>0</td>\n    </tr>\n    <tr>\n      <th>115514924</th>\n      <td>400000.0</td>\n      <td>51.601620</td>\n      <td>0.020060</td>\n      <td>0.8</td>\n      <td>3.0</td>\n      <td>2.0</td>\n      <td>14.0</td>\n      <td>20211028.0</td>\n      <td>4.0</td>\n      <td>0</td>\n      <td>...</td>\n      <td>0</td>\n      <td>0</td>\n      <td>0</td>\n      <td>0</td>\n      <td>0</td>\n      <td>0</td>\n      <td>0</td>\n      <td>0</td>\n      <td>1</td>\n      <td>0</td>\n    </tr>\n    <tr>\n      <th>84016008</th>\n      <td>400000.0</td>\n      <td>51.561385</td>\n      <td>0.071797</td>\n      <td>0.2</td>\n      <td>3.0</td>\n      <td>1.0</td>\n      <td>19.0</td>\n      <td>20220222.0</td>\n      <td>4.0</td>\n      <td>0</td>\n      <td>...</td>\n      <td>0</td>\n      <td>0</td>\n      <td>0</td>\n      <td>0</td>\n      <td>0</td>\n      <td>0</td>\n      <td>0</td>\n      <td>0</td>\n      <td>1</td>\n      <td>0</td>\n    </tr>\n    <tr>\n      <th>122592077</th>\n      <td>400000.0</td>\n      <td>51.590037</td>\n      <td>0.027498</td>\n      <td>0.1</td>\n      <td>2.0</td>\n      <td>1.0</td>\n      <td>15.0</td>\n      <td>20220420.0</td>\n      <td>4.0</td>\n      <td>0</td>\n      <td>...</td>\n      <td>0</td>\n      <td>0</td>\n      <td>0</td>\n      <td>0</td>\n      <td>0</td>\n      <td>0</td>\n      <td>0</td>\n      <td>0</td>\n      <td>0</td>\n      <td>1</td>\n    </tr>\n    <tr>\n      <th>123673634</th>\n      <td>400000.0</td>\n      <td>51.565346</td>\n      <td>0.070891</td>\n      <td>0.5</td>\n      <td>2.0</td>\n      <td>1.0</td>\n      <td>9.0</td>\n      <td>20220525.0</td>\n      <td>4.0</td>\n      <td>0</td>\n      <td>...</td>\n      <td>0</td>\n      <td>0</td>\n      <td>0</td>\n      <td>0</td>\n      <td>0</td>\n      <td>0</td>\n      <td>0</td>\n      <td>0</td>\n      <td>1</td>\n      <td>0</td>\n    </tr>\n  </tbody>\n</table>\n<p>20 rows × 96 columns</p>\n</div>"
     },
     "execution_count": 1,
     "metadata": {},
     "output_type": "execute_result"
    }
   ],
   "source": [
    "from sklearn.model_selection import train_test_split\n",
    "import sys\n",
    "\n",
    "sys.path.append('../../globalfunction')  # setting path\n",
    "import globalfunction.vv as vv  # importing\n",
    "import globalfunction.pp as pp  # importing\n",
    "\n",
    "import numpy as np\n",
    "import pandas as pd\n",
    "\n",
    "import sklearn.datasets as datasets\n",
    "from sklearn.model_selection import train_test_split\n",
    "from sklearn import metrics\n",
    "\n",
    "from sklearn.model_selection import train_test_split\n",
    "import sys\n",
    "import sklearn.metrics\n",
    "\n",
    "\n",
    "#df_original = vv.dataset_modelling_version(iteration_code=\"0001_20220620\")\n",
    "#df_original = vv.dataset_modelling_version(iteration_code=\"0012_20220704\")\n",
    "df_selected = vv.dataset_modelling_version(iteration_code=\"0013_20220704\")\n",
    "print(df_selected.shape)\n",
    "df_selected.head(20)"
   ]
  },
  {
   "cell_type": "code",
   "execution_count": 2,
   "outputs": [
    {
     "name": "stdout",
     "output_type": "stream",
     "text": [
      "<class 'pandas.core.frame.DataFrame'>\n",
      "Index: 23833 entries, 123445970 to 97494416\n",
      "Data columns (total 96 columns):\n",
      " #   Column                                              Non-Null Count  Dtype  \n",
      "---  ------                                              --------------  -----  \n",
      " 0   Price                                               23833 non-null  float64\n",
      " 1   location.latitude                                   23833 non-null  float64\n",
      " 2   location.longitude                                  23833 non-null  float64\n",
      " 3   distance_to_any_train                               23833 non-null  float64\n",
      " 4   bedrooms_model                                      22742 non-null  float64\n",
      " 5   bathrooms_model                                     23833 non-null  float64\n",
      " 6   analyticsProperty.imageCount                        23832 non-null  float64\n",
      " 7   analyticsProperty.added                             23832 non-null  float64\n",
      " 8   floorplan_count                                     23833 non-null  float64\n",
      " 9   borough_name_Barking and Dagenham                   23833 non-null  uint8  \n",
      " 10  borough_name_Barnet                                 23833 non-null  uint8  \n",
      " 11  borough_name_Brent                                  23833 non-null  uint8  \n",
      " 12  borough_name_Bromley                                23833 non-null  uint8  \n",
      " 13  borough_name_Camden                                 23833 non-null  uint8  \n",
      " 14  borough_name_City of London                         23833 non-null  uint8  \n",
      " 15  borough_name_Croydon                                23833 non-null  uint8  \n",
      " 16  borough_name_Ealing                                 23833 non-null  uint8  \n",
      " 17  borough_name_Enfield                                23833 non-null  uint8  \n",
      " 18  borough_name_Greenwich                              23833 non-null  uint8  \n",
      " 19  borough_name_Hackney                                23833 non-null  uint8  \n",
      " 20  borough_name_Hammersmith and Fulham                 23833 non-null  uint8  \n",
      " 21  borough_name_Haringey                               23833 non-null  uint8  \n",
      " 22  borough_name_Harrow                                 23833 non-null  uint8  \n",
      " 23  borough_name_Havering                               23833 non-null  uint8  \n",
      " 24  borough_name_Hillingdon                             23833 non-null  uint8  \n",
      " 25  borough_name_Hounslow                               23833 non-null  uint8  \n",
      " 26  borough_name_Islington                              23833 non-null  uint8  \n",
      " 27  borough_name_Kensington and Chelsea                 23833 non-null  uint8  \n",
      " 28  borough_name_Kingston upon Thames                   23833 non-null  uint8  \n",
      " 29  borough_name_London (all)                           23833 non-null  uint8  \n",
      " 30  borough_name_Merton                                 23833 non-null  uint8  \n",
      " 31  borough_name_Redbridge                              23833 non-null  uint8  \n",
      " 32  borough_name_Sutton                                 23833 non-null  uint8  \n",
      " 33  borough_name_Tower Hamlets                          23833 non-null  uint8  \n",
      " 34  borough_name_Waltham Forest                         23833 non-null  uint8  \n",
      " 35  borough_name_Wandsworth                             23833 non-null  uint8  \n",
      " 36  borough_name_Westminster                            23833 non-null  uint8  \n",
      " 37  analyticsProperty.propertyType_Bungalows            23833 non-null  uint8  \n",
      " 38  analyticsProperty.propertyType_Flats / Apartments   23833 non-null  uint8  \n",
      " 39  analyticsProperty.propertyType_Houses               23833 non-null  uint8  \n",
      " 40  analyticsProperty.propertyType_Mobile / Park homes  23833 non-null  uint8  \n",
      " 41  analyticsProperty.propertyType_Not Specified        23833 non-null  uint8  \n",
      " 42  analyticsProperty.propertyType_Retirement Property  23833 non-null  uint8  \n",
      " 43  propertySubType_Apartment                           23833 non-null  uint8  \n",
      " 44  propertySubType_Block of Apartments                 23833 non-null  uint8  \n",
      " 45  propertySubType_Bungalow                            23833 non-null  uint8  \n",
      " 46  propertySubType_Chalet                              23833 non-null  uint8  \n",
      " 47  propertySubType_Coach House                         23833 non-null  uint8  \n",
      " 48  propertySubType_Cottage                             23833 non-null  uint8  \n",
      " 49  propertySubType_Detached                            23833 non-null  uint8  \n",
      " 50  propertySubType_Detached Bungalow                   23833 non-null  uint8  \n",
      " 51  propertySubType_Duplex                              23833 non-null  uint8  \n",
      " 52  propertySubType_End of Terrace                      23833 non-null  uint8  \n",
      " 53  propertySubType_Flat                                23833 non-null  uint8  \n",
      " 54  propertySubType_Ground Flat                         23833 non-null  uint8  \n",
      " 55  propertySubType_Ground Maisonette                   23833 non-null  uint8  \n",
      " 56  propertySubType_Hotel Room                          23833 non-null  uint8  \n",
      " 57  propertySubType_House                               23833 non-null  uint8  \n",
      " 58  propertySubType_Link Detached House                 23833 non-null  uint8  \n",
      " 59  propertySubType_Maisonette                          23833 non-null  uint8  \n",
      " 60  propertySubType_Mews                                23833 non-null  uint8  \n",
      " 61  propertySubType_Not Specified                       23833 non-null  uint8  \n",
      " 62  propertySubType_Park Home                           23833 non-null  uint8  \n",
      " 63  propertySubType_Penthouse                           23833 non-null  uint8  \n",
      " 64  propertySubType_Retirement Property                 23833 non-null  uint8  \n",
      " 65  propertySubType_Semi-Detached                       23833 non-null  uint8  \n",
      " 66  propertySubType_Semi-Detached Bungalow              23833 non-null  uint8  \n",
      " 67  propertySubType_Studio                              23833 non-null  uint8  \n",
      " 68  propertySubType_Terraced                            23833 non-null  uint8  \n",
      " 69  propertySubType_Terraced Bungalow                   23833 non-null  uint8  \n",
      " 70  propertySubType_Town House                          23833 non-null  uint8  \n",
      " 71  coarse_compass_direction_BR                         23833 non-null  uint8  \n",
      " 72  coarse_compass_direction_CR                         23833 non-null  uint8  \n",
      " 73  coarse_compass_direction_DA                         23833 non-null  uint8  \n",
      " 74  coarse_compass_direction_E                          23833 non-null  uint8  \n",
      " 75  coarse_compass_direction_EC                         23833 non-null  uint8  \n",
      " 76  coarse_compass_direction_EN                         23833 non-null  uint8  \n",
      " 77  coarse_compass_direction_HA                         23833 non-null  uint8  \n",
      " 78  coarse_compass_direction_IG                         23833 non-null  uint8  \n",
      " 79  coarse_compass_direction_KT                         23833 non-null  uint8  \n",
      " 80  coarse_compass_direction_N                          23833 non-null  uint8  \n",
      " 81  coarse_compass_direction_NW                         23833 non-null  uint8  \n",
      " 82  coarse_compass_direction_RM                         23833 non-null  uint8  \n",
      " 83  coarse_compass_direction_SE                         23833 non-null  uint8  \n",
      " 84  coarse_compass_direction_SM                         23833 non-null  uint8  \n",
      " 85  coarse_compass_direction_SW                         23833 non-null  uint8  \n",
      " 86  coarse_compass_direction_TN                         23833 non-null  uint8  \n",
      " 87  coarse_compass_direction_TW                         23833 non-null  uint8  \n",
      " 88  coarse_compass_direction_UB                         23833 non-null  uint8  \n",
      " 89  coarse_compass_direction_W                          23833 non-null  uint8  \n",
      " 90  coarse_compass_direction_WC                         23833 non-null  uint8  \n",
      " 91  coarse_compass_direction_WD                         23833 non-null  uint8  \n",
      " 92  tenure.tenureType_COMMONHOLD                        23833 non-null  uint8  \n",
      " 93  tenure.tenureType_FREEHOLD                          23833 non-null  uint8  \n",
      " 94  tenure.tenureType_LEASEHOLD                         23833 non-null  uint8  \n",
      " 95  tenure.tenureType_SHARE_OF_FREEHOLD                 23833 non-null  uint8  \n",
      "dtypes: float64(9), uint8(87)\n",
      "memory usage: 3.8+ MB\n"
     ]
    }
   ],
   "source": [
    "\n",
    "df_selected.info()"
   ],
   "metadata": {
    "collapsed": false,
    "pycharm": {
     "name": "#%%\n"
    }
   }
  },
  {
   "cell_type": "code",
   "execution_count": 3,
   "outputs": [
    {
     "data": {
      "text/plain": "(23833, 96)"
     },
     "execution_count": 3,
     "metadata": {},
     "output_type": "execute_result"
    }
   ],
   "source": [
    "df_selected.shape"
   ],
   "metadata": {
    "collapsed": false,
    "pycharm": {
     "name": "#%%\n"
    }
   }
  },
  {
   "cell_type": "code",
   "execution_count": 8,
   "outputs": [
    {
     "data": {
      "text/plain": "Price                                                 False\nlocation.latitude                                     False\nlocation.longitude                                    False\ndistance_to_any_train                                 False\nbedrooms_model                                         True\nbathrooms_model                                       False\nanalyticsProperty.imageCount                           True\nanalyticsProperty.added                                True\nfloorplan_count                                       False\nborough_name_Barking and Dagenham                     False\nborough_name_Barnet                                   False\nborough_name_Brent                                    False\nborough_name_Bromley                                  False\nborough_name_Camden                                   False\nborough_name_City of London                           False\nborough_name_Croydon                                  False\nborough_name_Ealing                                   False\nborough_name_Enfield                                  False\nborough_name_Greenwich                                False\nborough_name_Hackney                                  False\nborough_name_Hammersmith and Fulham                   False\nborough_name_Haringey                                 False\nborough_name_Harrow                                   False\nborough_name_Havering                                 False\nborough_name_Hillingdon                               False\nborough_name_Hounslow                                 False\nborough_name_Islington                                False\nborough_name_Kensington and Chelsea                   False\nborough_name_Kingston upon Thames                     False\nborough_name_London (all)                             False\nborough_name_Merton                                   False\nborough_name_Redbridge                                False\nborough_name_Sutton                                   False\nborough_name_Tower Hamlets                            False\nborough_name_Waltham Forest                           False\nborough_name_Wandsworth                               False\nborough_name_Westminster                              False\nanalyticsProperty.propertyType_Bungalows              False\nanalyticsProperty.propertyType_Flats / Apartments     False\nanalyticsProperty.propertyType_Houses                 False\nanalyticsProperty.propertyType_Mobile / Park homes    False\nanalyticsProperty.propertyType_Not Specified          False\nanalyticsProperty.propertyType_Retirement Property    False\npropertySubType_Apartment                             False\npropertySubType_Block of Apartments                   False\npropertySubType_Bungalow                              False\npropertySubType_Chalet                                False\npropertySubType_Coach House                           False\npropertySubType_Cottage                               False\npropertySubType_Detached                              False\npropertySubType_Detached Bungalow                     False\npropertySubType_Duplex                                False\npropertySubType_End of Terrace                        False\npropertySubType_Flat                                  False\npropertySubType_Ground Flat                           False\npropertySubType_Ground Maisonette                     False\npropertySubType_Hotel Room                            False\npropertySubType_House                                 False\npropertySubType_Link Detached House                   False\npropertySubType_Maisonette                            False\npropertySubType_Mews                                  False\npropertySubType_Not Specified                         False\npropertySubType_Park Home                             False\npropertySubType_Penthouse                             False\npropertySubType_Retirement Property                   False\npropertySubType_Semi-Detached                         False\npropertySubType_Semi-Detached Bungalow                False\npropertySubType_Studio                                False\npropertySubType_Terraced                              False\npropertySubType_Terraced Bungalow                     False\npropertySubType_Town House                            False\ncoarse_compass_direction_BR                           False\ncoarse_compass_direction_CR                           False\ncoarse_compass_direction_DA                           False\ncoarse_compass_direction_E                            False\ncoarse_compass_direction_EC                           False\ncoarse_compass_direction_EN                           False\ncoarse_compass_direction_HA                           False\ncoarse_compass_direction_IG                           False\ncoarse_compass_direction_KT                           False\ncoarse_compass_direction_N                            False\ncoarse_compass_direction_NW                           False\ncoarse_compass_direction_RM                           False\ncoarse_compass_direction_SE                           False\ncoarse_compass_direction_SM                           False\ncoarse_compass_direction_SW                           False\ncoarse_compass_direction_TN                           False\ncoarse_compass_direction_TW                           False\ncoarse_compass_direction_UB                           False\ncoarse_compass_direction_W                            False\ncoarse_compass_direction_WC                           False\ncoarse_compass_direction_WD                           False\ntenure.tenureType_COMMONHOLD                          False\ntenure.tenureType_FREEHOLD                            False\ntenure.tenureType_LEASEHOLD                           False\ntenure.tenureType_SHARE_OF_FREEHOLD                   False\ndtype: bool"
     },
     "execution_count": 8,
     "metadata": {},
     "output_type": "execute_result"
    }
   ],
   "source": [
    "df_selected.isnull().any() == True"
   ],
   "metadata": {
    "collapsed": false,
    "pycharm": {
     "name": "#%%\n"
    }
   }
  },
  {
   "cell_type": "code",
   "execution_count": 10,
   "outputs": [
    {
     "name": "stdout",
     "output_type": "stream",
     "text": [
      "23833\n",
      "22741\n"
     ]
    }
   ],
   "source": [
    "print(len(df_selected))\n",
    "df_selected = df_selected.dropna()\n",
    "print(len(df_selected))"
   ],
   "metadata": {
    "collapsed": false,
    "pycharm": {
     "name": "#%%\n"
    }
   }
  },
  {
   "cell_type": "code",
   "execution_count": 11,
   "outputs": [],
   "source": [
    "X = df_selected.drop('Price',axis=1).values\n",
    "y = df_selected[\"Price\"].values\n",
    "X.shape, y.shape\n",
    "X_train, X_test, y_train, y_test = train_test_split(X, y, test_size=0.05, random_state=42)"
   ],
   "metadata": {
    "collapsed": false,
    "pycharm": {
     "name": "#%%\n"
    }
   }
  },
  {
   "cell_type": "code",
   "execution_count": 13,
   "outputs": [
    {
     "data": {
      "text/plain": "LinearRegression()",
      "text/html": "<style>#sk-container-id-1 {color: black;background-color: white;}#sk-container-id-1 pre{padding: 0;}#sk-container-id-1 div.sk-toggleable {background-color: white;}#sk-container-id-1 label.sk-toggleable__label {cursor: pointer;display: block;width: 100%;margin-bottom: 0;padding: 0.3em;box-sizing: border-box;text-align: center;}#sk-container-id-1 label.sk-toggleable__label-arrow:before {content: \"▸\";float: left;margin-right: 0.25em;color: #696969;}#sk-container-id-1 label.sk-toggleable__label-arrow:hover:before {color: black;}#sk-container-id-1 div.sk-estimator:hover label.sk-toggleable__label-arrow:before {color: black;}#sk-container-id-1 div.sk-toggleable__content {max-height: 0;max-width: 0;overflow: hidden;text-align: left;background-color: #f0f8ff;}#sk-container-id-1 div.sk-toggleable__content pre {margin: 0.2em;color: black;border-radius: 0.25em;background-color: #f0f8ff;}#sk-container-id-1 input.sk-toggleable__control:checked~div.sk-toggleable__content {max-height: 200px;max-width: 100%;overflow: auto;}#sk-container-id-1 input.sk-toggleable__control:checked~label.sk-toggleable__label-arrow:before {content: \"▾\";}#sk-container-id-1 div.sk-estimator input.sk-toggleable__control:checked~label.sk-toggleable__label {background-color: #d4ebff;}#sk-container-id-1 div.sk-label input.sk-toggleable__control:checked~label.sk-toggleable__label {background-color: #d4ebff;}#sk-container-id-1 input.sk-hidden--visually {border: 0;clip: rect(1px 1px 1px 1px);clip: rect(1px, 1px, 1px, 1px);height: 1px;margin: -1px;overflow: hidden;padding: 0;position: absolute;width: 1px;}#sk-container-id-1 div.sk-estimator {font-family: monospace;background-color: #f0f8ff;border: 1px dotted black;border-radius: 0.25em;box-sizing: border-box;margin-bottom: 0.5em;}#sk-container-id-1 div.sk-estimator:hover {background-color: #d4ebff;}#sk-container-id-1 div.sk-parallel-item::after {content: \"\";width: 100%;border-bottom: 1px solid gray;flex-grow: 1;}#sk-container-id-1 div.sk-label:hover label.sk-toggleable__label {background-color: #d4ebff;}#sk-container-id-1 div.sk-serial::before {content: \"\";position: absolute;border-left: 1px solid gray;box-sizing: border-box;top: 0;bottom: 0;left: 50%;z-index: 0;}#sk-container-id-1 div.sk-serial {display: flex;flex-direction: column;align-items: center;background-color: white;padding-right: 0.2em;padding-left: 0.2em;position: relative;}#sk-container-id-1 div.sk-item {position: relative;z-index: 1;}#sk-container-id-1 div.sk-parallel {display: flex;align-items: stretch;justify-content: center;background-color: white;position: relative;}#sk-container-id-1 div.sk-item::before, #sk-container-id-1 div.sk-parallel-item::before {content: \"\";position: absolute;border-left: 1px solid gray;box-sizing: border-box;top: 0;bottom: 0;left: 50%;z-index: -1;}#sk-container-id-1 div.sk-parallel-item {display: flex;flex-direction: column;z-index: 1;position: relative;background-color: white;}#sk-container-id-1 div.sk-parallel-item:first-child::after {align-self: flex-end;width: 50%;}#sk-container-id-1 div.sk-parallel-item:last-child::after {align-self: flex-start;width: 50%;}#sk-container-id-1 div.sk-parallel-item:only-child::after {width: 0;}#sk-container-id-1 div.sk-dashed-wrapped {border: 1px dashed gray;margin: 0 0.4em 0.5em 0.4em;box-sizing: border-box;padding-bottom: 0.4em;background-color: white;}#sk-container-id-1 div.sk-label label {font-family: monospace;font-weight: bold;display: inline-block;line-height: 1.2em;}#sk-container-id-1 div.sk-label-container {text-align: center;}#sk-container-id-1 div.sk-container {/* jupyter's `normalize.less` sets `[hidden] { display: none; }` but bootstrap.min.css set `[hidden] { display: none !important; }` so we also need the `!important` here to be able to override the default hidden behavior on the sphinx rendered scikit-learn.org. See: https://github.com/scikit-learn/scikit-learn/issues/21755 */display: inline-block !important;position: relative;}#sk-container-id-1 div.sk-text-repr-fallback {display: none;}</style><div id=\"sk-container-id-1\" class=\"sk-top-container\"><div class=\"sk-text-repr-fallback\"><pre>LinearRegression()</pre><b>In a Jupyter environment, please rerun this cell to show the HTML representation or trust the notebook. <br />On GitHub, the HTML representation is unable to render, please try loading this page with nbviewer.org.</b></div><div class=\"sk-container\" hidden><div class=\"sk-item\"><div class=\"sk-estimator sk-toggleable\"><input class=\"sk-toggleable__control sk-hidden--visually\" id=\"sk-estimator-id-1\" type=\"checkbox\" checked><label for=\"sk-estimator-id-1\" class=\"sk-toggleable__label sk-toggleable__label-arrow\">LinearRegression</label><div class=\"sk-toggleable__content\"><pre>LinearRegression()</pre></div></div></div></div></div>"
     },
     "execution_count": 13,
     "metadata": {},
     "output_type": "execute_result"
    }
   ],
   "source": [
    "from sklearn.linear_model import LinearRegression\n",
    "\n",
    "from sklearn.preprocessing import PolynomialFeatures\n",
    "poly_features = PolynomialFeatures(degree=2, include_bias=False)\n",
    "X_train_poly = poly_features.fit_transform(X_train)\n",
    "\n",
    "linreg = LinearRegression()\n",
    "linreg.fit(X_train_poly, y_train)"
   ],
   "metadata": {
    "collapsed": false,
    "pycharm": {
     "name": "#%%\n"
    }
   }
  },
  {
   "cell_type": "code",
   "execution_count": 14,
   "outputs": [
    {
     "name": "stdout",
     "output_type": "stream",
     "text": [
      "24044586562.08941 [  -422903.06014804   6348237.44918367 -12733523.99167104 ...\n",
      "  -1610405.08788439         0.          -5160409.39259499]\n"
     ]
    }
   ],
   "source": [
    "print(linreg.intercept_, linreg.coef_)"
   ],
   "metadata": {
    "collapsed": false,
    "pycharm": {
     "name": "#%%\n"
    }
   }
  },
  {
   "cell_type": "code",
   "execution_count": 17,
   "outputs": [
    {
     "name": "stdout",
     "output_type": "stream",
     "text": [
      "0.6490303557393554\n"
     ]
    }
   ],
   "source": [
    "print(linreg.score(X_train_poly,y_train))"
   ],
   "metadata": {
    "collapsed": false,
    "pycharm": {
     "name": "#%%\n"
    }
   }
  },
  {
   "cell_type": "markdown",
   "source": [
    "## Using Seaborn"
   ],
   "metadata": {
    "collapsed": false,
    "pycharm": {
     "name": "#%% md\n"
    }
   }
  },
  {
   "cell_type": "code",
   "execution_count": 18,
   "outputs": [],
   "source": [
    "import numpy as np\n",
    "import pandas as pd\n",
    "import matplotlib.pyplot as plt\n",
    "from pylab import rcParams\n",
    "import sklearn\n",
    "from sklearn.linear_model import LinearRegression\n",
    "from sklearn.preprocessing import scale\n",
    "\n",
    "%matplotlib inline\n",
    "rcParams['figure.figsize'] = 5,4\n",
    "rcParams['figure.figsize'] = 10,8"
   ],
   "metadata": {
    "collapsed": false,
    "pycharm": {
     "name": "#%%\n"
    }
   }
  },
  {
   "cell_type": "code",
   "execution_count": 19,
   "outputs": [],
   "source": [
    "import seaborn as sns\n",
    "sns.set_style('whitegrid')"
   ],
   "metadata": {
    "collapsed": false,
    "pycharm": {
     "name": "#%%\n"
    }
   }
  },
  {
   "cell_type": "code",
   "execution_count": 20,
   "outputs": [
    {
     "name": "stderr",
     "output_type": "stream",
     "text": [
      "\n",
      "KeyboardInterrupt\n",
      "\n"
     ]
    },
    {
     "name": "stdout",
     "output_type": "stream",
     "text": [
      "Error in callback <function flush_figures at 0x7f1e17556940> (for post_execute):\n"
     ]
    },
    {
     "ename": "KeyboardInterrupt",
     "evalue": "",
     "output_type": "error",
     "traceback": [
      "\u001B[0;31m---------------------------------------------------------------------------\u001B[0m",
      "\u001B[0;31mKeyboardInterrupt\u001B[0m                         Traceback (most recent call last)",
      "File \u001B[0;32m~/Springboard/capstone_prework/venv/lib/python3.8/site-packages/matplotlib_inline/backend_inline.py:121\u001B[0m, in \u001B[0;36mflush_figures\u001B[0;34m()\u001B[0m\n\u001B[1;32m    118\u001B[0m \u001B[38;5;28;01mif\u001B[39;00m InlineBackend\u001B[38;5;241m.\u001B[39minstance()\u001B[38;5;241m.\u001B[39mclose_figures:\n\u001B[1;32m    119\u001B[0m     \u001B[38;5;66;03m# ignore the tracking, just draw and close all figures\u001B[39;00m\n\u001B[1;32m    120\u001B[0m     \u001B[38;5;28;01mtry\u001B[39;00m:\n\u001B[0;32m--> 121\u001B[0m         \u001B[38;5;28;01mreturn\u001B[39;00m \u001B[43mshow\u001B[49m\u001B[43m(\u001B[49m\u001B[38;5;28;43;01mTrue\u001B[39;49;00m\u001B[43m)\u001B[49m\n\u001B[1;32m    122\u001B[0m     \u001B[38;5;28;01mexcept\u001B[39;00m \u001B[38;5;167;01mException\u001B[39;00m \u001B[38;5;28;01mas\u001B[39;00m e:\n\u001B[1;32m    123\u001B[0m         \u001B[38;5;66;03m# safely show traceback if in IPython, else raise\u001B[39;00m\n\u001B[1;32m    124\u001B[0m         ip \u001B[38;5;241m=\u001B[39m get_ipython()\n",
      "File \u001B[0;32m~/Springboard/capstone_prework/venv/lib/python3.8/site-packages/matplotlib_inline/backend_inline.py:41\u001B[0m, in \u001B[0;36mshow\u001B[0;34m(close, block)\u001B[0m\n\u001B[1;32m     39\u001B[0m \u001B[38;5;28;01mtry\u001B[39;00m:\n\u001B[1;32m     40\u001B[0m     \u001B[38;5;28;01mfor\u001B[39;00m figure_manager \u001B[38;5;129;01min\u001B[39;00m Gcf\u001B[38;5;241m.\u001B[39mget_all_fig_managers():\n\u001B[0;32m---> 41\u001B[0m         \u001B[43mdisplay\u001B[49m\u001B[43m(\u001B[49m\n\u001B[1;32m     42\u001B[0m \u001B[43m            \u001B[49m\u001B[43mfigure_manager\u001B[49m\u001B[38;5;241;43m.\u001B[39;49m\u001B[43mcanvas\u001B[49m\u001B[38;5;241;43m.\u001B[39;49m\u001B[43mfigure\u001B[49m\u001B[43m,\u001B[49m\n\u001B[1;32m     43\u001B[0m \u001B[43m            \u001B[49m\u001B[43mmetadata\u001B[49m\u001B[38;5;241;43m=\u001B[39;49m\u001B[43m_fetch_figure_metadata\u001B[49m\u001B[43m(\u001B[49m\u001B[43mfigure_manager\u001B[49m\u001B[38;5;241;43m.\u001B[39;49m\u001B[43mcanvas\u001B[49m\u001B[38;5;241;43m.\u001B[39;49m\u001B[43mfigure\u001B[49m\u001B[43m)\u001B[49m\n\u001B[1;32m     44\u001B[0m \u001B[43m        \u001B[49m\u001B[43m)\u001B[49m\n\u001B[1;32m     45\u001B[0m \u001B[38;5;28;01mfinally\u001B[39;00m:\n\u001B[1;32m     46\u001B[0m     show\u001B[38;5;241m.\u001B[39m_to_draw \u001B[38;5;241m=\u001B[39m []\n",
      "File \u001B[0;32m~/Springboard/capstone_prework/venv/lib/python3.8/site-packages/IPython/core/display_functions.py:298\u001B[0m, in \u001B[0;36mdisplay\u001B[0;34m(include, exclude, metadata, transient, display_id, raw, clear, *objs, **kwargs)\u001B[0m\n\u001B[1;32m    296\u001B[0m     publish_display_data(data\u001B[38;5;241m=\u001B[39mobj, metadata\u001B[38;5;241m=\u001B[39mmetadata, \u001B[38;5;241m*\u001B[39m\u001B[38;5;241m*\u001B[39mkwargs)\n\u001B[1;32m    297\u001B[0m \u001B[38;5;28;01melse\u001B[39;00m:\n\u001B[0;32m--> 298\u001B[0m     format_dict, md_dict \u001B[38;5;241m=\u001B[39m \u001B[38;5;28;43mformat\u001B[39;49m\u001B[43m(\u001B[49m\u001B[43mobj\u001B[49m\u001B[43m,\u001B[49m\u001B[43m \u001B[49m\u001B[43minclude\u001B[49m\u001B[38;5;241;43m=\u001B[39;49m\u001B[43minclude\u001B[49m\u001B[43m,\u001B[49m\u001B[43m \u001B[49m\u001B[43mexclude\u001B[49m\u001B[38;5;241;43m=\u001B[39;49m\u001B[43mexclude\u001B[49m\u001B[43m)\u001B[49m\n\u001B[1;32m    299\u001B[0m     \u001B[38;5;28;01mif\u001B[39;00m \u001B[38;5;129;01mnot\u001B[39;00m format_dict:\n\u001B[1;32m    300\u001B[0m         \u001B[38;5;66;03m# nothing to display (e.g. _ipython_display_ took over)\u001B[39;00m\n\u001B[1;32m    301\u001B[0m         \u001B[38;5;28;01mcontinue\u001B[39;00m\n",
      "File \u001B[0;32m~/Springboard/capstone_prework/venv/lib/python3.8/site-packages/IPython/core/formatters.py:178\u001B[0m, in \u001B[0;36mDisplayFormatter.format\u001B[0;34m(self, obj, include, exclude)\u001B[0m\n\u001B[1;32m    176\u001B[0m md \u001B[38;5;241m=\u001B[39m \u001B[38;5;28;01mNone\u001B[39;00m\n\u001B[1;32m    177\u001B[0m \u001B[38;5;28;01mtry\u001B[39;00m:\n\u001B[0;32m--> 178\u001B[0m     data \u001B[38;5;241m=\u001B[39m \u001B[43mformatter\u001B[49m\u001B[43m(\u001B[49m\u001B[43mobj\u001B[49m\u001B[43m)\u001B[49m\n\u001B[1;32m    179\u001B[0m \u001B[38;5;28;01mexcept\u001B[39;00m:\n\u001B[1;32m    180\u001B[0m     \u001B[38;5;66;03m# FIXME: log the exception\u001B[39;00m\n\u001B[1;32m    181\u001B[0m     \u001B[38;5;28;01mraise\u001B[39;00m\n",
      "File \u001B[0;32m~/Springboard/capstone_prework/venv/lib/python3.8/site-packages/decorator.py:232\u001B[0m, in \u001B[0;36mdecorate.<locals>.fun\u001B[0;34m(*args, **kw)\u001B[0m\n\u001B[1;32m    230\u001B[0m \u001B[38;5;28;01mif\u001B[39;00m \u001B[38;5;129;01mnot\u001B[39;00m kwsyntax:\n\u001B[1;32m    231\u001B[0m     args, kw \u001B[38;5;241m=\u001B[39m fix(args, kw, sig)\n\u001B[0;32m--> 232\u001B[0m \u001B[38;5;28;01mreturn\u001B[39;00m \u001B[43mcaller\u001B[49m\u001B[43m(\u001B[49m\u001B[43mfunc\u001B[49m\u001B[43m,\u001B[49m\u001B[43m \u001B[49m\u001B[38;5;241;43m*\u001B[39;49m\u001B[43m(\u001B[49m\u001B[43mextras\u001B[49m\u001B[43m \u001B[49m\u001B[38;5;241;43m+\u001B[39;49m\u001B[43m \u001B[49m\u001B[43margs\u001B[49m\u001B[43m)\u001B[49m\u001B[43m,\u001B[49m\u001B[43m \u001B[49m\u001B[38;5;241;43m*\u001B[39;49m\u001B[38;5;241;43m*\u001B[39;49m\u001B[43mkw\u001B[49m\u001B[43m)\u001B[49m\n",
      "File \u001B[0;32m~/Springboard/capstone_prework/venv/lib/python3.8/site-packages/IPython/core/formatters.py:222\u001B[0m, in \u001B[0;36mcatch_format_error\u001B[0;34m(method, self, *args, **kwargs)\u001B[0m\n\u001B[1;32m    220\u001B[0m \u001B[38;5;124;03m\"\"\"show traceback on failed format call\"\"\"\u001B[39;00m\n\u001B[1;32m    221\u001B[0m \u001B[38;5;28;01mtry\u001B[39;00m:\n\u001B[0;32m--> 222\u001B[0m     r \u001B[38;5;241m=\u001B[39m \u001B[43mmethod\u001B[49m\u001B[43m(\u001B[49m\u001B[38;5;28;43mself\u001B[39;49m\u001B[43m,\u001B[49m\u001B[43m \u001B[49m\u001B[38;5;241;43m*\u001B[39;49m\u001B[43margs\u001B[49m\u001B[43m,\u001B[49m\u001B[43m \u001B[49m\u001B[38;5;241;43m*\u001B[39;49m\u001B[38;5;241;43m*\u001B[39;49m\u001B[43mkwargs\u001B[49m\u001B[43m)\u001B[49m\n\u001B[1;32m    223\u001B[0m \u001B[38;5;28;01mexcept\u001B[39;00m \u001B[38;5;167;01mNotImplementedError\u001B[39;00m:\n\u001B[1;32m    224\u001B[0m     \u001B[38;5;66;03m# don't warn on NotImplementedErrors\u001B[39;00m\n\u001B[1;32m    225\u001B[0m     \u001B[38;5;28;01mreturn\u001B[39;00m \u001B[38;5;28mself\u001B[39m\u001B[38;5;241m.\u001B[39m_check_return(\u001B[38;5;28;01mNone\u001B[39;00m, args[\u001B[38;5;241m0\u001B[39m])\n",
      "File \u001B[0;32m~/Springboard/capstone_prework/venv/lib/python3.8/site-packages/IPython/core/formatters.py:339\u001B[0m, in \u001B[0;36mBaseFormatter.__call__\u001B[0;34m(self, obj)\u001B[0m\n\u001B[1;32m    337\u001B[0m     \u001B[38;5;28;01mpass\u001B[39;00m\n\u001B[1;32m    338\u001B[0m \u001B[38;5;28;01melse\u001B[39;00m:\n\u001B[0;32m--> 339\u001B[0m     \u001B[38;5;28;01mreturn\u001B[39;00m \u001B[43mprinter\u001B[49m\u001B[43m(\u001B[49m\u001B[43mobj\u001B[49m\u001B[43m)\u001B[49m\n\u001B[1;32m    340\u001B[0m \u001B[38;5;66;03m# Finally look for special method names\u001B[39;00m\n\u001B[1;32m    341\u001B[0m method \u001B[38;5;241m=\u001B[39m get_real_method(obj, \u001B[38;5;28mself\u001B[39m\u001B[38;5;241m.\u001B[39mprint_method)\n",
      "File \u001B[0;32m~/Springboard/capstone_prework/venv/lib/python3.8/site-packages/IPython/core/pylabtools.py:151\u001B[0m, in \u001B[0;36mprint_figure\u001B[0;34m(fig, fmt, bbox_inches, base64, **kwargs)\u001B[0m\n\u001B[1;32m    148\u001B[0m     \u001B[38;5;28;01mfrom\u001B[39;00m \u001B[38;5;21;01mmatplotlib\u001B[39;00m\u001B[38;5;21;01m.\u001B[39;00m\u001B[38;5;21;01mbackend_bases\u001B[39;00m \u001B[38;5;28;01mimport\u001B[39;00m FigureCanvasBase\n\u001B[1;32m    149\u001B[0m     FigureCanvasBase(fig)\n\u001B[0;32m--> 151\u001B[0m \u001B[43mfig\u001B[49m\u001B[38;5;241;43m.\u001B[39;49m\u001B[43mcanvas\u001B[49m\u001B[38;5;241;43m.\u001B[39;49m\u001B[43mprint_figure\u001B[49m\u001B[43m(\u001B[49m\u001B[43mbytes_io\u001B[49m\u001B[43m,\u001B[49m\u001B[43m \u001B[49m\u001B[38;5;241;43m*\u001B[39;49m\u001B[38;5;241;43m*\u001B[39;49m\u001B[43mkw\u001B[49m\u001B[43m)\u001B[49m\n\u001B[1;32m    152\u001B[0m data \u001B[38;5;241m=\u001B[39m bytes_io\u001B[38;5;241m.\u001B[39mgetvalue()\n\u001B[1;32m    153\u001B[0m \u001B[38;5;28;01mif\u001B[39;00m fmt \u001B[38;5;241m==\u001B[39m \u001B[38;5;124m'\u001B[39m\u001B[38;5;124msvg\u001B[39m\u001B[38;5;124m'\u001B[39m:\n",
      "File \u001B[0;32m~/Springboard/capstone_prework/venv/lib/python3.8/site-packages/matplotlib/backend_bases.py:2295\u001B[0m, in \u001B[0;36mFigureCanvasBase.print_figure\u001B[0;34m(self, filename, dpi, facecolor, edgecolor, orientation, format, bbox_inches, pad_inches, bbox_extra_artists, backend, **kwargs)\u001B[0m\n\u001B[1;32m   2289\u001B[0m     renderer \u001B[38;5;241m=\u001B[39m _get_renderer(\n\u001B[1;32m   2290\u001B[0m         \u001B[38;5;28mself\u001B[39m\u001B[38;5;241m.\u001B[39mfigure,\n\u001B[1;32m   2291\u001B[0m         functools\u001B[38;5;241m.\u001B[39mpartial(\n\u001B[1;32m   2292\u001B[0m             print_method, orientation\u001B[38;5;241m=\u001B[39morientation)\n\u001B[1;32m   2293\u001B[0m     )\n\u001B[1;32m   2294\u001B[0m     \u001B[38;5;28;01mwith\u001B[39;00m \u001B[38;5;28mgetattr\u001B[39m(renderer, \u001B[38;5;124m\"\u001B[39m\u001B[38;5;124m_draw_disabled\u001B[39m\u001B[38;5;124m\"\u001B[39m, nullcontext)():\n\u001B[0;32m-> 2295\u001B[0m         \u001B[38;5;28;43mself\u001B[39;49m\u001B[38;5;241;43m.\u001B[39;49m\u001B[43mfigure\u001B[49m\u001B[38;5;241;43m.\u001B[39;49m\u001B[43mdraw\u001B[49m\u001B[43m(\u001B[49m\u001B[43mrenderer\u001B[49m\u001B[43m)\u001B[49m\n\u001B[1;32m   2297\u001B[0m \u001B[38;5;28;01mif\u001B[39;00m bbox_inches:\n\u001B[1;32m   2298\u001B[0m     \u001B[38;5;28;01mif\u001B[39;00m bbox_inches \u001B[38;5;241m==\u001B[39m \u001B[38;5;124m\"\u001B[39m\u001B[38;5;124mtight\u001B[39m\u001B[38;5;124m\"\u001B[39m:\n",
      "File \u001B[0;32m~/Springboard/capstone_prework/venv/lib/python3.8/site-packages/matplotlib/artist.py:73\u001B[0m, in \u001B[0;36m_finalize_rasterization.<locals>.draw_wrapper\u001B[0;34m(artist, renderer, *args, **kwargs)\u001B[0m\n\u001B[1;32m     71\u001B[0m \u001B[38;5;129m@wraps\u001B[39m(draw)\n\u001B[1;32m     72\u001B[0m \u001B[38;5;28;01mdef\u001B[39;00m \u001B[38;5;21mdraw_wrapper\u001B[39m(artist, renderer, \u001B[38;5;241m*\u001B[39margs, \u001B[38;5;241m*\u001B[39m\u001B[38;5;241m*\u001B[39mkwargs):\n\u001B[0;32m---> 73\u001B[0m     result \u001B[38;5;241m=\u001B[39m \u001B[43mdraw\u001B[49m\u001B[43m(\u001B[49m\u001B[43martist\u001B[49m\u001B[43m,\u001B[49m\u001B[43m \u001B[49m\u001B[43mrenderer\u001B[49m\u001B[43m,\u001B[49m\u001B[43m \u001B[49m\u001B[38;5;241;43m*\u001B[39;49m\u001B[43margs\u001B[49m\u001B[43m,\u001B[49m\u001B[43m \u001B[49m\u001B[38;5;241;43m*\u001B[39;49m\u001B[38;5;241;43m*\u001B[39;49m\u001B[43mkwargs\u001B[49m\u001B[43m)\u001B[49m\n\u001B[1;32m     74\u001B[0m     \u001B[38;5;28;01mif\u001B[39;00m renderer\u001B[38;5;241m.\u001B[39m_rasterizing:\n\u001B[1;32m     75\u001B[0m         renderer\u001B[38;5;241m.\u001B[39mstop_rasterizing()\n",
      "File \u001B[0;32m~/Springboard/capstone_prework/venv/lib/python3.8/site-packages/matplotlib/artist.py:50\u001B[0m, in \u001B[0;36mallow_rasterization.<locals>.draw_wrapper\u001B[0;34m(artist, renderer)\u001B[0m\n\u001B[1;32m     47\u001B[0m     \u001B[38;5;28;01mif\u001B[39;00m artist\u001B[38;5;241m.\u001B[39mget_agg_filter() \u001B[38;5;129;01mis\u001B[39;00m \u001B[38;5;129;01mnot\u001B[39;00m \u001B[38;5;28;01mNone\u001B[39;00m:\n\u001B[1;32m     48\u001B[0m         renderer\u001B[38;5;241m.\u001B[39mstart_filter()\n\u001B[0;32m---> 50\u001B[0m     \u001B[38;5;28;01mreturn\u001B[39;00m \u001B[43mdraw\u001B[49m\u001B[43m(\u001B[49m\u001B[43martist\u001B[49m\u001B[43m,\u001B[49m\u001B[43m \u001B[49m\u001B[43mrenderer\u001B[49m\u001B[43m)\u001B[49m\n\u001B[1;32m     51\u001B[0m \u001B[38;5;28;01mfinally\u001B[39;00m:\n\u001B[1;32m     52\u001B[0m     \u001B[38;5;28;01mif\u001B[39;00m artist\u001B[38;5;241m.\u001B[39mget_agg_filter() \u001B[38;5;129;01mis\u001B[39;00m \u001B[38;5;129;01mnot\u001B[39;00m \u001B[38;5;28;01mNone\u001B[39;00m:\n",
      "File \u001B[0;32m~/Springboard/capstone_prework/venv/lib/python3.8/site-packages/matplotlib/figure.py:2837\u001B[0m, in \u001B[0;36mFigure.draw\u001B[0;34m(self, renderer)\u001B[0m\n\u001B[1;32m   2834\u001B[0m         \u001B[38;5;66;03m# ValueError can occur when resizing a window.\u001B[39;00m\n\u001B[1;32m   2836\u001B[0m \u001B[38;5;28mself\u001B[39m\u001B[38;5;241m.\u001B[39mpatch\u001B[38;5;241m.\u001B[39mdraw(renderer)\n\u001B[0;32m-> 2837\u001B[0m \u001B[43mmimage\u001B[49m\u001B[38;5;241;43m.\u001B[39;49m\u001B[43m_draw_list_compositing_images\u001B[49m\u001B[43m(\u001B[49m\n\u001B[1;32m   2838\u001B[0m \u001B[43m    \u001B[49m\u001B[43mrenderer\u001B[49m\u001B[43m,\u001B[49m\u001B[43m \u001B[49m\u001B[38;5;28;43mself\u001B[39;49m\u001B[43m,\u001B[49m\u001B[43m \u001B[49m\u001B[43martists\u001B[49m\u001B[43m,\u001B[49m\u001B[43m \u001B[49m\u001B[38;5;28;43mself\u001B[39;49m\u001B[38;5;241;43m.\u001B[39;49m\u001B[43msuppressComposite\u001B[49m\u001B[43m)\u001B[49m\n\u001B[1;32m   2840\u001B[0m \u001B[38;5;28;01mfor\u001B[39;00m sfig \u001B[38;5;129;01min\u001B[39;00m \u001B[38;5;28mself\u001B[39m\u001B[38;5;241m.\u001B[39msubfigs:\n\u001B[1;32m   2841\u001B[0m     sfig\u001B[38;5;241m.\u001B[39mdraw(renderer)\n",
      "File \u001B[0;32m~/Springboard/capstone_prework/venv/lib/python3.8/site-packages/matplotlib/image.py:132\u001B[0m, in \u001B[0;36m_draw_list_compositing_images\u001B[0;34m(renderer, parent, artists, suppress_composite)\u001B[0m\n\u001B[1;32m    130\u001B[0m \u001B[38;5;28;01mif\u001B[39;00m not_composite \u001B[38;5;129;01mor\u001B[39;00m \u001B[38;5;129;01mnot\u001B[39;00m has_images:\n\u001B[1;32m    131\u001B[0m     \u001B[38;5;28;01mfor\u001B[39;00m a \u001B[38;5;129;01min\u001B[39;00m artists:\n\u001B[0;32m--> 132\u001B[0m         \u001B[43ma\u001B[49m\u001B[38;5;241;43m.\u001B[39;49m\u001B[43mdraw\u001B[49m\u001B[43m(\u001B[49m\u001B[43mrenderer\u001B[49m\u001B[43m)\u001B[49m\n\u001B[1;32m    133\u001B[0m \u001B[38;5;28;01melse\u001B[39;00m:\n\u001B[1;32m    134\u001B[0m     \u001B[38;5;66;03m# Composite any adjacent images together\u001B[39;00m\n\u001B[1;32m    135\u001B[0m     image_group \u001B[38;5;241m=\u001B[39m []\n",
      "File \u001B[0;32m~/Springboard/capstone_prework/venv/lib/python3.8/site-packages/matplotlib/artist.py:50\u001B[0m, in \u001B[0;36mallow_rasterization.<locals>.draw_wrapper\u001B[0;34m(artist, renderer)\u001B[0m\n\u001B[1;32m     47\u001B[0m     \u001B[38;5;28;01mif\u001B[39;00m artist\u001B[38;5;241m.\u001B[39mget_agg_filter() \u001B[38;5;129;01mis\u001B[39;00m \u001B[38;5;129;01mnot\u001B[39;00m \u001B[38;5;28;01mNone\u001B[39;00m:\n\u001B[1;32m     48\u001B[0m         renderer\u001B[38;5;241m.\u001B[39mstart_filter()\n\u001B[0;32m---> 50\u001B[0m     \u001B[38;5;28;01mreturn\u001B[39;00m \u001B[43mdraw\u001B[49m\u001B[43m(\u001B[49m\u001B[43martist\u001B[49m\u001B[43m,\u001B[49m\u001B[43m \u001B[49m\u001B[43mrenderer\u001B[49m\u001B[43m)\u001B[49m\n\u001B[1;32m     51\u001B[0m \u001B[38;5;28;01mfinally\u001B[39;00m:\n\u001B[1;32m     52\u001B[0m     \u001B[38;5;28;01mif\u001B[39;00m artist\u001B[38;5;241m.\u001B[39mget_agg_filter() \u001B[38;5;129;01mis\u001B[39;00m \u001B[38;5;129;01mnot\u001B[39;00m \u001B[38;5;28;01mNone\u001B[39;00m:\n",
      "File \u001B[0;32m~/Springboard/capstone_prework/venv/lib/python3.8/site-packages/matplotlib/axes/_base.py:3091\u001B[0m, in \u001B[0;36m_AxesBase.draw\u001B[0;34m(self, renderer)\u001B[0m\n\u001B[1;32m   3088\u001B[0m         a\u001B[38;5;241m.\u001B[39mdraw(renderer)\n\u001B[1;32m   3089\u001B[0m     renderer\u001B[38;5;241m.\u001B[39mstop_rasterizing()\n\u001B[0;32m-> 3091\u001B[0m \u001B[43mmimage\u001B[49m\u001B[38;5;241;43m.\u001B[39;49m\u001B[43m_draw_list_compositing_images\u001B[49m\u001B[43m(\u001B[49m\n\u001B[1;32m   3092\u001B[0m \u001B[43m    \u001B[49m\u001B[43mrenderer\u001B[49m\u001B[43m,\u001B[49m\u001B[43m \u001B[49m\u001B[38;5;28;43mself\u001B[39;49m\u001B[43m,\u001B[49m\u001B[43m \u001B[49m\u001B[43martists\u001B[49m\u001B[43m,\u001B[49m\u001B[43m \u001B[49m\u001B[38;5;28;43mself\u001B[39;49m\u001B[38;5;241;43m.\u001B[39;49m\u001B[43mfigure\u001B[49m\u001B[38;5;241;43m.\u001B[39;49m\u001B[43msuppressComposite\u001B[49m\u001B[43m)\u001B[49m\n\u001B[1;32m   3094\u001B[0m renderer\u001B[38;5;241m.\u001B[39mclose_group(\u001B[38;5;124m'\u001B[39m\u001B[38;5;124maxes\u001B[39m\u001B[38;5;124m'\u001B[39m)\n\u001B[1;32m   3095\u001B[0m \u001B[38;5;28mself\u001B[39m\u001B[38;5;241m.\u001B[39mstale \u001B[38;5;241m=\u001B[39m \u001B[38;5;28;01mFalse\u001B[39;00m\n",
      "File \u001B[0;32m~/Springboard/capstone_prework/venv/lib/python3.8/site-packages/matplotlib/image.py:132\u001B[0m, in \u001B[0;36m_draw_list_compositing_images\u001B[0;34m(renderer, parent, artists, suppress_composite)\u001B[0m\n\u001B[1;32m    130\u001B[0m \u001B[38;5;28;01mif\u001B[39;00m not_composite \u001B[38;5;129;01mor\u001B[39;00m \u001B[38;5;129;01mnot\u001B[39;00m has_images:\n\u001B[1;32m    131\u001B[0m     \u001B[38;5;28;01mfor\u001B[39;00m a \u001B[38;5;129;01min\u001B[39;00m artists:\n\u001B[0;32m--> 132\u001B[0m         \u001B[43ma\u001B[49m\u001B[38;5;241;43m.\u001B[39;49m\u001B[43mdraw\u001B[49m\u001B[43m(\u001B[49m\u001B[43mrenderer\u001B[49m\u001B[43m)\u001B[49m\n\u001B[1;32m    133\u001B[0m \u001B[38;5;28;01melse\u001B[39;00m:\n\u001B[1;32m    134\u001B[0m     \u001B[38;5;66;03m# Composite any adjacent images together\u001B[39;00m\n\u001B[1;32m    135\u001B[0m     image_group \u001B[38;5;241m=\u001B[39m []\n",
      "File \u001B[0;32m~/Springboard/capstone_prework/venv/lib/python3.8/site-packages/matplotlib/artist.py:50\u001B[0m, in \u001B[0;36mallow_rasterization.<locals>.draw_wrapper\u001B[0;34m(artist, renderer)\u001B[0m\n\u001B[1;32m     47\u001B[0m     \u001B[38;5;28;01mif\u001B[39;00m artist\u001B[38;5;241m.\u001B[39mget_agg_filter() \u001B[38;5;129;01mis\u001B[39;00m \u001B[38;5;129;01mnot\u001B[39;00m \u001B[38;5;28;01mNone\u001B[39;00m:\n\u001B[1;32m     48\u001B[0m         renderer\u001B[38;5;241m.\u001B[39mstart_filter()\n\u001B[0;32m---> 50\u001B[0m     \u001B[38;5;28;01mreturn\u001B[39;00m \u001B[43mdraw\u001B[49m\u001B[43m(\u001B[49m\u001B[43martist\u001B[49m\u001B[43m,\u001B[49m\u001B[43m \u001B[49m\u001B[43mrenderer\u001B[49m\u001B[43m)\u001B[49m\n\u001B[1;32m     51\u001B[0m \u001B[38;5;28;01mfinally\u001B[39;00m:\n\u001B[1;32m     52\u001B[0m     \u001B[38;5;28;01mif\u001B[39;00m artist\u001B[38;5;241m.\u001B[39mget_agg_filter() \u001B[38;5;129;01mis\u001B[39;00m \u001B[38;5;129;01mnot\u001B[39;00m \u001B[38;5;28;01mNone\u001B[39;00m:\n",
      "File \u001B[0;32m~/Springboard/capstone_prework/venv/lib/python3.8/site-packages/matplotlib/axis.py:1158\u001B[0m, in \u001B[0;36mAxis.draw\u001B[0;34m(self, renderer, *args, **kwargs)\u001B[0m\n\u001B[1;32m   1155\u001B[0m     \u001B[38;5;28;01mreturn\u001B[39;00m\n\u001B[1;32m   1156\u001B[0m renderer\u001B[38;5;241m.\u001B[39mopen_group(\u001B[38;5;18m__name__\u001B[39m, gid\u001B[38;5;241m=\u001B[39m\u001B[38;5;28mself\u001B[39m\u001B[38;5;241m.\u001B[39mget_gid())\n\u001B[0;32m-> 1158\u001B[0m ticks_to_draw \u001B[38;5;241m=\u001B[39m \u001B[38;5;28;43mself\u001B[39;49m\u001B[38;5;241;43m.\u001B[39;49m\u001B[43m_update_ticks\u001B[49m\u001B[43m(\u001B[49m\u001B[43m)\u001B[49m\n\u001B[1;32m   1159\u001B[0m ticklabelBoxes, ticklabelBoxes2 \u001B[38;5;241m=\u001B[39m \u001B[38;5;28mself\u001B[39m\u001B[38;5;241m.\u001B[39m_get_tick_bboxes(ticks_to_draw,\n\u001B[1;32m   1160\u001B[0m                                                         renderer)\n\u001B[1;32m   1162\u001B[0m \u001B[38;5;28;01mfor\u001B[39;00m tick \u001B[38;5;129;01min\u001B[39;00m ticks_to_draw:\n",
      "File \u001B[0;32m~/Springboard/capstone_prework/venv/lib/python3.8/site-packages/matplotlib/axis.py:1048\u001B[0m, in \u001B[0;36mAxis._update_ticks\u001B[0;34m(self)\u001B[0m\n\u001B[1;32m   1046\u001B[0m major_labels \u001B[38;5;241m=\u001B[39m \u001B[38;5;28mself\u001B[39m\u001B[38;5;241m.\u001B[39mmajor\u001B[38;5;241m.\u001B[39mformatter\u001B[38;5;241m.\u001B[39mformat_ticks(major_locs)\n\u001B[1;32m   1047\u001B[0m major_ticks \u001B[38;5;241m=\u001B[39m \u001B[38;5;28mself\u001B[39m\u001B[38;5;241m.\u001B[39mget_major_ticks(\u001B[38;5;28mlen\u001B[39m(major_locs))\n\u001B[0;32m-> 1048\u001B[0m \u001B[38;5;28;43mself\u001B[39;49m\u001B[38;5;241;43m.\u001B[39;49m\u001B[43mmajor\u001B[49m\u001B[38;5;241;43m.\u001B[39;49m\u001B[43mformatter\u001B[49m\u001B[38;5;241;43m.\u001B[39;49m\u001B[43mset_locs\u001B[49m\u001B[43m(\u001B[49m\u001B[43mmajor_locs\u001B[49m\u001B[43m)\u001B[49m\n\u001B[1;32m   1049\u001B[0m \u001B[38;5;28;01mfor\u001B[39;00m tick, loc, label \u001B[38;5;129;01min\u001B[39;00m \u001B[38;5;28mzip\u001B[39m(major_ticks, major_locs, major_labels):\n\u001B[1;32m   1050\u001B[0m     tick\u001B[38;5;241m.\u001B[39mupdate_position(loc)\n",
      "File \u001B[0;32m~/Springboard/capstone_prework/venv/lib/python3.8/site-packages/matplotlib/ticker.py:712\u001B[0m, in \u001B[0;36mScalarFormatter.set_locs\u001B[0;34m(self, locs)\u001B[0m\n\u001B[1;32m    710\u001B[0m \u001B[38;5;28;01mif\u001B[39;00m \u001B[38;5;28mself\u001B[39m\u001B[38;5;241m.\u001B[39m_useOffset:\n\u001B[1;32m    711\u001B[0m     \u001B[38;5;28mself\u001B[39m\u001B[38;5;241m.\u001B[39m_compute_offset()\n\u001B[0;32m--> 712\u001B[0m \u001B[38;5;28;43mself\u001B[39;49m\u001B[38;5;241;43m.\u001B[39;49m\u001B[43m_set_order_of_magnitude\u001B[49m\u001B[43m(\u001B[49m\u001B[43m)\u001B[49m\n\u001B[1;32m    713\u001B[0m \u001B[38;5;28mself\u001B[39m\u001B[38;5;241m.\u001B[39m_set_format()\n",
      "File \u001B[0;32m~/Springboard/capstone_prework/venv/lib/python3.8/site-packages/matplotlib/ticker.py:766\u001B[0m, in \u001B[0;36mScalarFormatter._set_order_of_magnitude\u001B[0;34m(self)\u001B[0m\n\u001B[1;32m    764\u001B[0m     \u001B[38;5;28;01mreturn\u001B[39;00m\n\u001B[1;32m    765\u001B[0m \u001B[38;5;66;03m# restrict to visible ticks\u001B[39;00m\n\u001B[0;32m--> 766\u001B[0m vmin, vmax \u001B[38;5;241m=\u001B[39m \u001B[38;5;28msorted\u001B[39m(\u001B[38;5;28;43mself\u001B[39;49m\u001B[38;5;241;43m.\u001B[39;49m\u001B[43maxis\u001B[49m\u001B[38;5;241;43m.\u001B[39;49m\u001B[43mget_view_interval\u001B[49m\u001B[43m(\u001B[49m\u001B[43m)\u001B[49m)\n\u001B[1;32m    767\u001B[0m locs \u001B[38;5;241m=\u001B[39m np\u001B[38;5;241m.\u001B[39masarray(\u001B[38;5;28mself\u001B[39m\u001B[38;5;241m.\u001B[39mlocs)\n\u001B[1;32m    768\u001B[0m locs \u001B[38;5;241m=\u001B[39m locs[(vmin \u001B[38;5;241m<\u001B[39m\u001B[38;5;241m=\u001B[39m locs) \u001B[38;5;241m&\u001B[39m (locs \u001B[38;5;241m<\u001B[39m\u001B[38;5;241m=\u001B[39m vmax)]\n",
      "File \u001B[0;32m~/Springboard/capstone_prework/venv/lib/python3.8/site-packages/matplotlib/axis.py:1987\u001B[0m, in \u001B[0;36m_make_getset_interval.<locals>.getter\u001B[0;34m(self)\u001B[0m\n\u001B[1;32m   1985\u001B[0m \u001B[38;5;28;01mdef\u001B[39;00m \u001B[38;5;21mgetter\u001B[39m(\u001B[38;5;28mself\u001B[39m):\n\u001B[1;32m   1986\u001B[0m     \u001B[38;5;66;03m# docstring inherited.\u001B[39;00m\n\u001B[0;32m-> 1987\u001B[0m     \u001B[38;5;28;01mreturn\u001B[39;00m \u001B[38;5;28mgetattr\u001B[39m(\u001B[38;5;28;43mgetattr\u001B[39;49m\u001B[43m(\u001B[49m\u001B[38;5;28;43mself\u001B[39;49m\u001B[38;5;241;43m.\u001B[39;49m\u001B[43maxes\u001B[49m\u001B[43m,\u001B[49m\u001B[43m \u001B[49m\u001B[43mlim_name\u001B[49m\u001B[43m)\u001B[49m, attr_name)\n",
      "File \u001B[0;32m~/Springboard/capstone_prework/venv/lib/python3.8/site-packages/matplotlib/axes/_base.py:782\u001B[0m, in \u001B[0;36m_AxesBase.viewLim\u001B[0;34m(self)\u001B[0m\n\u001B[1;32m    780\u001B[0m \u001B[38;5;129m@property\u001B[39m\n\u001B[1;32m    781\u001B[0m \u001B[38;5;28;01mdef\u001B[39;00m \u001B[38;5;21mviewLim\u001B[39m(\u001B[38;5;28mself\u001B[39m):\n\u001B[0;32m--> 782\u001B[0m     \u001B[38;5;28;43mself\u001B[39;49m\u001B[38;5;241;43m.\u001B[39;49m\u001B[43m_unstale_viewLim\u001B[49m\u001B[43m(\u001B[49m\u001B[43m)\u001B[49m\n\u001B[1;32m    783\u001B[0m     \u001B[38;5;28;01mreturn\u001B[39;00m \u001B[38;5;28mself\u001B[39m\u001B[38;5;241m.\u001B[39m_viewLim\n",
      "File \u001B[0;32m~/Springboard/capstone_prework/venv/lib/python3.8/site-packages/matplotlib/axes/_base.py:769\u001B[0m, in \u001B[0;36m_AxesBase._unstale_viewLim\u001B[0;34m(self)\u001B[0m\n\u001B[1;32m    766\u001B[0m \u001B[38;5;28;01mdef\u001B[39;00m \u001B[38;5;21m_unstale_viewLim\u001B[39m(\u001B[38;5;28mself\u001B[39m):\n\u001B[1;32m    767\u001B[0m     \u001B[38;5;66;03m# We should arrange to store this information once per share-group\u001B[39;00m\n\u001B[1;32m    768\u001B[0m     \u001B[38;5;66;03m# instead of on every axis.\u001B[39;00m\n\u001B[0;32m--> 769\u001B[0m     need_scale \u001B[38;5;241m=\u001B[39m {\n\u001B[1;32m    770\u001B[0m         name: \u001B[38;5;28many\u001B[39m(ax\u001B[38;5;241m.\u001B[39m_stale_viewlims[name]\n\u001B[1;32m    771\u001B[0m                   \u001B[38;5;28;01mfor\u001B[39;00m ax \u001B[38;5;129;01min\u001B[39;00m \u001B[38;5;28mself\u001B[39m\u001B[38;5;241m.\u001B[39m_shared_axes[name]\u001B[38;5;241m.\u001B[39mget_siblings(\u001B[38;5;28mself\u001B[39m))\n\u001B[1;32m    772\u001B[0m         \u001B[38;5;28;01mfor\u001B[39;00m name \u001B[38;5;129;01min\u001B[39;00m \u001B[38;5;28mself\u001B[39m\u001B[38;5;241m.\u001B[39m_axis_names}\n\u001B[1;32m    773\u001B[0m     \u001B[38;5;28;01mif\u001B[39;00m \u001B[38;5;28many\u001B[39m(need_scale\u001B[38;5;241m.\u001B[39mvalues()):\n\u001B[1;32m    774\u001B[0m         \u001B[38;5;28;01mfor\u001B[39;00m name \u001B[38;5;129;01min\u001B[39;00m need_scale:\n",
      "File \u001B[0;32m~/Springboard/capstone_prework/venv/lib/python3.8/site-packages/matplotlib/axes/_base.py:771\u001B[0m, in \u001B[0;36m<dictcomp>\u001B[0;34m(.0)\u001B[0m\n\u001B[1;32m    766\u001B[0m \u001B[38;5;28;01mdef\u001B[39;00m \u001B[38;5;21m_unstale_viewLim\u001B[39m(\u001B[38;5;28mself\u001B[39m):\n\u001B[1;32m    767\u001B[0m     \u001B[38;5;66;03m# We should arrange to store this information once per share-group\u001B[39;00m\n\u001B[1;32m    768\u001B[0m     \u001B[38;5;66;03m# instead of on every axis.\u001B[39;00m\n\u001B[1;32m    769\u001B[0m     need_scale \u001B[38;5;241m=\u001B[39m {\n\u001B[1;32m    770\u001B[0m         name: \u001B[38;5;28many\u001B[39m(ax\u001B[38;5;241m.\u001B[39m_stale_viewlims[name]\n\u001B[0;32m--> 771\u001B[0m                   \u001B[38;5;28;01mfor\u001B[39;00m ax \u001B[38;5;129;01min\u001B[39;00m \u001B[38;5;28;43mself\u001B[39;49m\u001B[38;5;241;43m.\u001B[39;49m\u001B[43m_shared_axes\u001B[49m\u001B[43m[\u001B[49m\u001B[43mname\u001B[49m\u001B[43m]\u001B[49m\u001B[38;5;241;43m.\u001B[39;49m\u001B[43mget_siblings\u001B[49m\u001B[43m(\u001B[49m\u001B[38;5;28;43mself\u001B[39;49m\u001B[43m)\u001B[49m)\n\u001B[1;32m    772\u001B[0m         \u001B[38;5;28;01mfor\u001B[39;00m name \u001B[38;5;129;01min\u001B[39;00m \u001B[38;5;28mself\u001B[39m\u001B[38;5;241m.\u001B[39m_axis_names}\n\u001B[1;32m    773\u001B[0m     \u001B[38;5;28;01mif\u001B[39;00m \u001B[38;5;28many\u001B[39m(need_scale\u001B[38;5;241m.\u001B[39mvalues()):\n\u001B[1;32m    774\u001B[0m         \u001B[38;5;28;01mfor\u001B[39;00m name \u001B[38;5;129;01min\u001B[39;00m need_scale:\n",
      "File \u001B[0;32m~/Springboard/capstone_prework/venv/lib/python3.8/site-packages/matplotlib/cbook/__init__.py:874\u001B[0m, in \u001B[0;36mGrouper.get_siblings\u001B[0;34m(self, a)\u001B[0m\n\u001B[1;32m    872\u001B[0m \u001B[38;5;28;01mdef\u001B[39;00m \u001B[38;5;21mget_siblings\u001B[39m(\u001B[38;5;28mself\u001B[39m, a):\n\u001B[1;32m    873\u001B[0m     \u001B[38;5;124;03m\"\"\"Return all of the items joined with *a*, including itself.\"\"\"\u001B[39;00m\n\u001B[0;32m--> 874\u001B[0m     \u001B[38;5;28;43mself\u001B[39;49m\u001B[38;5;241;43m.\u001B[39;49m\u001B[43mclean\u001B[49m\u001B[43m(\u001B[49m\u001B[43m)\u001B[49m\n\u001B[1;32m    875\u001B[0m     siblings \u001B[38;5;241m=\u001B[39m \u001B[38;5;28mself\u001B[39m\u001B[38;5;241m.\u001B[39m_mapping\u001B[38;5;241m.\u001B[39mget(weakref\u001B[38;5;241m.\u001B[39mref(a), [weakref\u001B[38;5;241m.\u001B[39mref(a)])\n\u001B[1;32m    876\u001B[0m     \u001B[38;5;28;01mreturn\u001B[39;00m [x() \u001B[38;5;28;01mfor\u001B[39;00m x \u001B[38;5;129;01min\u001B[39;00m siblings]\n",
      "File \u001B[0;32m~/Springboard/capstone_prework/venv/lib/python3.8/site-packages/matplotlib/cbook/__init__.py:826\u001B[0m, in \u001B[0;36mGrouper.clean\u001B[0;34m(self)\u001B[0m\n\u001B[1;32m    824\u001B[0m \u001B[38;5;124;03m\"\"\"Clean dead weak references from the dictionary.\"\"\"\u001B[39;00m\n\u001B[1;32m    825\u001B[0m mapping \u001B[38;5;241m=\u001B[39m \u001B[38;5;28mself\u001B[39m\u001B[38;5;241m.\u001B[39m_mapping\n\u001B[0;32m--> 826\u001B[0m to_drop \u001B[38;5;241m=\u001B[39m [key \u001B[38;5;28;01mfor\u001B[39;00m key \u001B[38;5;129;01min\u001B[39;00m mapping \u001B[38;5;28;01mif\u001B[39;00m key() \u001B[38;5;129;01mis\u001B[39;00m \u001B[38;5;28;01mNone\u001B[39;00m]\n\u001B[1;32m    827\u001B[0m \u001B[38;5;28;01mfor\u001B[39;00m key \u001B[38;5;129;01min\u001B[39;00m to_drop:\n\u001B[1;32m    828\u001B[0m     val \u001B[38;5;241m=\u001B[39m mapping\u001B[38;5;241m.\u001B[39mpop(key)\n",
      "File \u001B[0;32m~/Springboard/capstone_prework/venv/lib/python3.8/site-packages/matplotlib/cbook/__init__.py:826\u001B[0m, in \u001B[0;36m<listcomp>\u001B[0;34m(.0)\u001B[0m\n\u001B[1;32m    824\u001B[0m \u001B[38;5;124;03m\"\"\"Clean dead weak references from the dictionary.\"\"\"\u001B[39;00m\n\u001B[1;32m    825\u001B[0m mapping \u001B[38;5;241m=\u001B[39m \u001B[38;5;28mself\u001B[39m\u001B[38;5;241m.\u001B[39m_mapping\n\u001B[0;32m--> 826\u001B[0m to_drop \u001B[38;5;241m=\u001B[39m [key \u001B[38;5;28;01mfor\u001B[39;00m key \u001B[38;5;129;01min\u001B[39;00m mapping \u001B[38;5;28;01mif\u001B[39;00m key() \u001B[38;5;129;01mis\u001B[39;00m \u001B[38;5;28;01mNone\u001B[39;00m]\n\u001B[1;32m    827\u001B[0m \u001B[38;5;28;01mfor\u001B[39;00m key \u001B[38;5;129;01min\u001B[39;00m to_drop:\n\u001B[1;32m    828\u001B[0m     val \u001B[38;5;241m=\u001B[39m mapping\u001B[38;5;241m.\u001B[39mpop(key)\n",
      "\u001B[0;31mKeyboardInterrupt\u001B[0m: "
     ]
    }
   ],
   "source": [
    "sns.pairplot(df_selected)"
   ],
   "metadata": {
    "collapsed": false,
    "pycharm": {
     "name": "#%%\n"
    }
   }
  },
  {
   "cell_type": "code",
   "execution_count": null,
   "outputs": [],
   "source": [
    "df_selected.describe()"
   ],
   "metadata": {
    "collapsed": false,
    "pycharm": {
     "name": "#%%\n"
    }
   }
  },
  {
   "cell_type": "code",
   "execution_count": null,
   "outputs": [],
   "source": [
    "df_selected.corr()"
   ],
   "metadata": {
    "collapsed": false,
    "pycharm": {
     "name": "#%%\n"
    }
   }
  },
  {
   "cell_type": "code",
   "execution_count": null,
   "outputs": [],
   "source": [
    "df_json['id'] = df_json['id'].astype(int)\n",
    "df_json.info()"
   ],
   "metadata": {
    "collapsed": false,
    "pycharm": {
     "name": "#%%\n"
    }
   }
  },
  {
   "cell_type": "code",
   "execution_count": null,
   "outputs": [],
   "source": [
    "combined3_df = df_listing.merge(df_indiv, on='ids', how='inner', suffixes=('_indiv', '_listing'))\\\n",
    "                        .merge(df_json, left_on='ids', right_on='id', how='inner', suffixes=('_indiv', '_listing'))\n",
    "combined3_df.head(20)"
   ],
   "metadata": {
    "collapsed": false,
    "pycharm": {
     "name": "#%%\n"
    }
   }
  },
  {
   "cell_type": "code",
   "execution_count": null,
   "outputs": [],
   "source": [
    "combined3_df.info()\n",
    "combined3_df.columns\n",
    "combined3_df.head(5)"
   ],
   "metadata": {
    "collapsed": false,
    "pycharm": {
     "name": "#%%\n"
    }
   }
  },
  {
   "cell_type": "code",
   "execution_count": null,
   "outputs": [],
   "source": [
    "combined3_df.describe()"
   ],
   "metadata": {
    "collapsed": false,
    "pycharm": {
     "name": "#%%\n"
    }
   }
  },
  {
   "cell_type": "code",
   "execution_count": null,
   "outputs": [],
   "source": [],
   "metadata": {
    "collapsed": false,
    "pycharm": {
     "name": "#%%\n"
    }
   }
  }
 ],
 "metadata": {
  "kernelspec": {
   "display_name": "Python 3",
   "language": "python",
   "name": "python3"
  },
  "language_info": {
   "codemirror_mode": {
    "name": "ipython",
    "version": 2
   },
   "file_extension": ".py",
   "mimetype": "text/x-python",
   "name": "python",
   "nbconvert_exporter": "python",
   "pygments_lexer": "ipython2",
   "version": "2.7.6"
  }
 },
 "nbformat": 4,
 "nbformat_minor": 0
}