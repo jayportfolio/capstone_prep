{
 "cells": [
  {
   "cell_type": "code",
   "execution_count": 1,
   "metadata": {
    "collapsed": true,
    "pycharm": {
     "name": "#%%\n"
    }
   },
   "outputs": [],
   "source": [
    "from sklearn.tree import DecisionTreeRegressor\n",
    "import sys\n",
    "sys.path.append('../../globalfunction')  # setting path\n",
    "import globalfunction.vv as vv  # importing\n",
    "\n",
    "import pandas as pd"
   ]
  },
  {
   "cell_type": "code",
   "execution_count": 2,
   "outputs": [
    {
     "name": "stdout",
     "output_type": "stream",
     "text": [
      "remove duplicates: 20925/29984/22089/24047 ==> 20925/20520/18445/20297\n",
      "dataframe length: 20255\n",
      "allowing Price to pass with 38 nulls/NANs\n",
      "allowing borough to pass with 22 nulls/NANs\n",
      "allowing add_info to pass with 2442 nulls/NANs\n",
      "allowing date_scraped to pass with 2442 nulls/NANs\n",
      "allowing type to pass with 79 nulls/NANs\n",
      "dropping size because 17070 nulls/NANs is too many\n",
      "dropping other_key_info because 20254 nulls/NANs is too many\n",
      "allowing bullet_points to pass with 2011 nulls/NANs\n",
      "allowing station_info to pass with 1 nulls/NANs\n",
      "dropping hold_type because 14905 nulls/NANs is too many\n",
      "allowing short_description to pass with 1 nulls/NANs\n",
      "allowing long_description to pass with 4 nulls/NANs\n",
      "allowing date_scraped_listing to pass with 1 nulls/NANs\n",
      "allowing floorplans to pass with 1880 nulls/NANs\n",
      "allowing virtualTours to pass with 1880 nulls/NANs\n",
      "allowing rooms to pass with 1880 nulls/NANs\n",
      "allowing nearestAirports to pass with 1880 nulls/NANs\n",
      "allowing nearestStations to pass with 1880 nulls/NANs\n",
      "allowing showSchoolInfo to pass with 1880 nulls/NANs\n",
      "allowing channel to pass with 1880 nulls/NANs\n",
      "allowing sizings to pass with 1880 nulls/NANs\n",
      "allowing bedrooms_model to pass with 2547 nulls/NANs\n",
      "allowing bathrooms_model to pass with 3093 nulls/NANs\n",
      "allowing transactionType to pass with 1880 nulls/NANs\n",
      "allowing tags to pass with 1880 nulls/NANs\n",
      "allowing infoReelItems to pass with 1880 nulls/NANs\n",
      "allowing soldPropertyType to pass with 1880 nulls/NANs\n",
      "dropping auctionProvider because 20255 nulls/NANs is too many\n",
      "allowing propertySubType to pass with 1880 nulls/NANs\n",
      "allowing businessForSale to pass with 1880 nulls/NANs\n",
      "allowing commercial to pass with 1880 nulls/NANs\n",
      "allowing commercialUseClasses to pass with 1880 nulls/NANs\n",
      "dropping affordableBuyingScheme because 20255 nulls/NANs is too many\n",
      "allowing status.published to pass with 1880 nulls/NANs\n",
      "allowing status.archived to pass with 1880 nulls/NANs\n",
      "allowing text.description to pass with 1880 nulls/NANs\n",
      "allowing text.propertyPhrase to pass with 1880 nulls/NANs\n",
      "allowing text.shareText to pass with 1880 nulls/NANs\n",
      "allowing text.shareDescription to pass with 1880 nulls/NANs\n",
      "allowing text.pageTitle to pass with 1880 nulls/NANs\n",
      "allowing text.shortDescription to pass with 1880 nulls/NANs\n",
      "allowing prices.primaryPrice to pass with 1880 nulls/NANs\n",
      "dropping prices.secondaryPrice because 20255 nulls/NANs is too many\n",
      "dropping prices.displayPriceQualifier because 12288 nulls/NANs is too many\n",
      "dropping prices.pricePerSqFt because 17479 nulls/NANs is too many\n",
      "dropping prices.exchangeRate because 20255 nulls/NANs is too many\n",
      "allowing address.displayAddress to pass with 1880 nulls/NANs\n",
      "allowing address.countryCode to pass with 1880 nulls/NANs\n",
      "dropping address.deliveryPointId because 8340 nulls/NANs is too many\n",
      "allowing address.ukCountry to pass with 1880 nulls/NANs\n",
      "allowing address.outcode to pass with 1880 nulls/NANs\n",
      "allowing address.incode to pass with 1880 nulls/NANs\n",
      "allowing location.latitude to pass with 1880 nulls/NANs\n",
      "allowing location.longitude to pass with 1880 nulls/NANs\n",
      "allowing location.circleRadiusOnMap to pass with 1880 nulls/NANs\n",
      "allowing location.zoomLevel to pass with 1880 nulls/NANs\n",
      "allowing location.pinType to pass with 1880 nulls/NANs\n",
      "allowing location.showMap to pass with 1880 nulls/NANs\n",
      "allowing misInfo.branchId to pass with 1880 nulls/NANs\n",
      "dropping misInfo.offerAdvertStampTypeId because 20136 nulls/NANs is too many\n",
      "allowing misInfo.premiumDisplay to pass with 1880 nulls/NANs\n",
      "dropping misInfo.premiumDisplayStampId because 15717 nulls/NANs is too many\n",
      "allowing misInfo.brandPlus to pass with 1880 nulls/NANs\n",
      "allowing misInfo.featuredProperty to pass with 1880 nulls/NANs\n",
      "allowing dfpAdInfo.channel to pass with 1880 nulls/NANs\n",
      "allowing dfpAdInfo.targeting to pass with 1880 nulls/NANs\n",
      "allowing listingHistory.listingUpdateReason to pass with 1881 nulls/NANs\n",
      "allowing broadband.broadbandCheckerUrl to pass with 1880 nulls/NANs\n",
      "allowing contactInfo.contactMethod to pass with 1880 nulls/NANs\n",
      "allowing contactInfo.telephoneNumbers.localNumber to pass with 1884 nulls/NANs\n",
      "dropping contactInfo.telephoneNumbers.internationalNumber because 20255 nulls/NANs is too many\n",
      "dropping contactInfo.telephoneNumbers.disclaimerText because 20255 nulls/NANs is too many\n",
      "dropping contactInfo.telephoneNumbers.disclaimerTitle because 20255 nulls/NANs is too many\n",
      "dropping contactInfo.telephoneNumbers.disclaimerDescription because 20255 nulls/NANs is too many\n",
      "allowing tenure.tenureType to pass with 3174 nulls/NANs\n",
      "dropping tenure.yearsRemainingOnLease because 19052 nulls/NANs is too many\n",
      "dropping tenure.message because 18980 nulls/NANs is too many\n",
      "allowing sharedOwnership.sharedOwnership to pass with 1880 nulls/NANs\n",
      "dropping sharedOwnership.ownershipPercentage because 20249 nulls/NANs is too many\n",
      "dropping sharedOwnership.rentPrice because 20254 nulls/NANs is too many\n",
      "allowing sharedOwnership.rentFrequency to pass with 4942 nulls/NANs\n",
      "allowing livingCosts.councilTaxExempt to pass with 1880 nulls/NANs\n",
      "allowing livingCosts.councilTaxIncluded to pass with 1880 nulls/NANs\n",
      "dropping livingCosts.annualGroundRent because 20208 nulls/NANs is too many\n",
      "dropping livingCosts.groundRentReviewPeriodInYears because 20242 nulls/NANs is too many\n",
      "dropping livingCosts.groundRentPercentageIncrease because 20249 nulls/NANs is too many\n",
      "dropping livingCosts.annualServiceCharge because 20194 nulls/NANs is too many\n",
      "dropping livingCosts.councilTaxBand because 20042 nulls/NANs is too many\n",
      "dropping auctionProvider.endDate because 20248 nulls/NANs is too many\n",
      "dropping auctionProvider.auctionTimeRemaining because 20248 nulls/NANs is too many\n",
      "dropping auctionProvider.bid because 20255 nulls/NANs is too many\n",
      "allowing date_scraped_meta to pass with 29 nulls/NANs\n",
      "allowing analyticsBranch.agentType to pass with 29 nulls/NANs\n",
      "allowing analyticsBranch.branchId to pass with 29 nulls/NANs\n",
      "allowing analyticsBranch.branchName to pass with 29 nulls/NANs\n",
      "allowing analyticsBranch.brandName to pass with 29 nulls/NANs\n",
      "allowing analyticsBranch.companyName to pass with 29 nulls/NANs\n",
      "allowing analyticsBranch.companyTradingName to pass with 4578 nulls/NANs\n",
      "allowing analyticsBranch.companyType to pass with 29 nulls/NANs\n",
      "allowing analyticsBranch.pageType to pass with 29 nulls/NANs\n",
      "allowing analyticsProperty.added to pass with 29 nulls/NANs\n",
      "allowing analyticsProperty.auctionOnly to pass with 29 nulls/NANs\n",
      "allowing analyticsProperty.beds to pass with 29 nulls/NANs\n",
      "allowing analyticsProperty.businessForSale to pass with 29 nulls/NANs\n",
      "allowing analyticsProperty.country to pass with 29 nulls/NANs\n",
      "allowing analyticsProperty.currency to pass with 29 nulls/NANs\n",
      "allowing analyticsProperty.floorplanCount to pass with 29 nulls/NANs\n",
      "allowing analyticsProperty.furnishedType to pass with 29 nulls/NANs\n",
      "allowing analyticsProperty.hasOnlineViewing to pass with 29 nulls/NANs\n",
      "allowing analyticsProperty.imageCount to pass with 29 nulls/NANs\n",
      "allowing analyticsProperty.latitude to pass with 29 nulls/NANs\n",
      "allowing analyticsProperty.longitude to pass with 29 nulls/NANs\n",
      "allowing analyticsProperty.letAgreed to pass with 29 nulls/NANs\n",
      "allowing analyticsProperty.lettingType to pass with 29 nulls/NANs\n",
      "dropping analyticsProperty.maxSizeAc because 17071 nulls/NANs is too many\n",
      "dropping analyticsProperty.maxSizeFt because 17071 nulls/NANs is too many\n",
      "dropping analyticsProperty.minSizeAc because 17071 nulls/NANs is too many\n",
      "dropping analyticsProperty.minSizeFt because 17071 nulls/NANs is too many\n",
      "allowing analyticsProperty.ownership to pass with 29 nulls/NANs\n",
      "allowing analyticsProperty.preOwned to pass with 29 nulls/NANs\n",
      "allowing analyticsProperty.priceQualifier to pass with 29 nulls/NANs\n",
      "allowing analyticsProperty.propertyId to pass with 29 nulls/NANs\n",
      "allowing analyticsProperty.propertySubType to pass with 29 nulls/NANs\n",
      "allowing analyticsProperty.propertyType to pass with 29 nulls/NANs\n",
      "allowing analyticsProperty.retirement to pass with 29 nulls/NANs\n",
      "dropping analyticsProperty.selectedCurrency because 20255 nulls/NANs is too many\n",
      "allowing analyticsProperty.soldSTC to pass with 29 nulls/NANs\n",
      "allowing analyticsProperty.videoProvider to pass with 29 nulls/NANs\n",
      "allowing analyticsProperty.viewType to pass with 29 nulls/NANs\n",
      "dropping Unnamed: 46 because 20255 nulls/NANs is too many\n",
      "allowing floorplan_count to pass with 1880 nulls/NANs\n",
      "(7582, 16)\n"
     ]
    },
    {
     "data": {
      "text/plain": "              Price  distance_to_any_train  bedrooms  bathrooms  \\\nids                                                               \n124153820  550000.0                    0.9       4.0        1.0   \n120604136  525000.0                    0.3       3.0        2.0   \n124368626  525000.0                    0.9       3.0        1.0   \n120157577  505000.0                    1.4       3.0        1.0   \n120379235  525000.0                    0.7       3.0        1.0   \n\n           bedrooms_model  bathrooms_model  location.latitude  \\\nids                                                             \n124153820             4.0              1.0          51.557959   \n120604136             3.0              2.0          51.506844   \n124368626             3.0              1.0          51.541244   \n120157577             3.0              1.0          51.527530   \n120379235             3.0              1.0          51.510788   \n\n           analyticsBranch.branchId  analyticsProperty.added  \\\nids                                                            \n124153820                  202796.0               20220621.0   \n120604136                   11508.0               20220303.0   \n124368626                   49645.0               20220627.0   \n120157577                   11508.0               20220218.0   \n120379235                   11508.0               20220225.0   \n\n           analyticsProperty.beds  analyticsProperty.floorplanCount  \\\nids                                                                   \n124153820                     4.0                               1.0   \n120604136                     3.0                               1.0   \n124368626                     3.0                               1.0   \n120157577                     3.0                               1.0   \n120379235                     3.0                               2.0   \n\n           analyticsProperty.imageCount  analyticsProperty.latitude  \\\nids                                                                   \n124153820                          19.0                   51.557959   \n120604136                           9.0                   51.506844   \n124368626                          10.0                   51.541244   \n120157577                          12.0                   51.527530   \n120379235                          11.0                   51.510788   \n\n           analyticsProperty.longitude  analyticsProperty.propertyId  \\\nids                                                                    \n124153820                    -0.471762                   124153820.0   \n120604136                    -0.421167                   120604136.0   \n124368626                    -0.442240                   124368626.0   \n120157577                    -0.455490                   120157577.0   \n120379235                    -0.411707                   120379235.0   \n\n           floorplan_count  \nids                         \n124153820              4.0  \n120604136              4.0  \n124368626              4.0  \n120157577              4.0  \n120379235              8.0  ",
      "text/html": "<div>\n<style scoped>\n    .dataframe tbody tr th:only-of-type {\n        vertical-align: middle;\n    }\n\n    .dataframe tbody tr th {\n        vertical-align: top;\n    }\n\n    .dataframe thead th {\n        text-align: right;\n    }\n</style>\n<table border=\"1\" class=\"dataframe\">\n  <thead>\n    <tr style=\"text-align: right;\">\n      <th></th>\n      <th>Price</th>\n      <th>distance_to_any_train</th>\n      <th>bedrooms</th>\n      <th>bathrooms</th>\n      <th>bedrooms_model</th>\n      <th>bathrooms_model</th>\n      <th>location.latitude</th>\n      <th>analyticsBranch.branchId</th>\n      <th>analyticsProperty.added</th>\n      <th>analyticsProperty.beds</th>\n      <th>analyticsProperty.floorplanCount</th>\n      <th>analyticsProperty.imageCount</th>\n      <th>analyticsProperty.latitude</th>\n      <th>analyticsProperty.longitude</th>\n      <th>analyticsProperty.propertyId</th>\n      <th>floorplan_count</th>\n    </tr>\n    <tr>\n      <th>ids</th>\n      <th></th>\n      <th></th>\n      <th></th>\n      <th></th>\n      <th></th>\n      <th></th>\n      <th></th>\n      <th></th>\n      <th></th>\n      <th></th>\n      <th></th>\n      <th></th>\n      <th></th>\n      <th></th>\n      <th></th>\n      <th></th>\n    </tr>\n  </thead>\n  <tbody>\n    <tr>\n      <th>124153820</th>\n      <td>550000.0</td>\n      <td>0.9</td>\n      <td>4.0</td>\n      <td>1.0</td>\n      <td>4.0</td>\n      <td>1.0</td>\n      <td>51.557959</td>\n      <td>202796.0</td>\n      <td>20220621.0</td>\n      <td>4.0</td>\n      <td>1.0</td>\n      <td>19.0</td>\n      <td>51.557959</td>\n      <td>-0.471762</td>\n      <td>124153820.0</td>\n      <td>4.0</td>\n    </tr>\n    <tr>\n      <th>120604136</th>\n      <td>525000.0</td>\n      <td>0.3</td>\n      <td>3.0</td>\n      <td>2.0</td>\n      <td>3.0</td>\n      <td>2.0</td>\n      <td>51.506844</td>\n      <td>11508.0</td>\n      <td>20220303.0</td>\n      <td>3.0</td>\n      <td>1.0</td>\n      <td>9.0</td>\n      <td>51.506844</td>\n      <td>-0.421167</td>\n      <td>120604136.0</td>\n      <td>4.0</td>\n    </tr>\n    <tr>\n      <th>124368626</th>\n      <td>525000.0</td>\n      <td>0.9</td>\n      <td>3.0</td>\n      <td>1.0</td>\n      <td>3.0</td>\n      <td>1.0</td>\n      <td>51.541244</td>\n      <td>49645.0</td>\n      <td>20220627.0</td>\n      <td>3.0</td>\n      <td>1.0</td>\n      <td>10.0</td>\n      <td>51.541244</td>\n      <td>-0.442240</td>\n      <td>124368626.0</td>\n      <td>4.0</td>\n    </tr>\n    <tr>\n      <th>120157577</th>\n      <td>505000.0</td>\n      <td>1.4</td>\n      <td>3.0</td>\n      <td>1.0</td>\n      <td>3.0</td>\n      <td>1.0</td>\n      <td>51.527530</td>\n      <td>11508.0</td>\n      <td>20220218.0</td>\n      <td>3.0</td>\n      <td>1.0</td>\n      <td>12.0</td>\n      <td>51.527530</td>\n      <td>-0.455490</td>\n      <td>120157577.0</td>\n      <td>4.0</td>\n    </tr>\n    <tr>\n      <th>120379235</th>\n      <td>525000.0</td>\n      <td>0.7</td>\n      <td>3.0</td>\n      <td>1.0</td>\n      <td>3.0</td>\n      <td>1.0</td>\n      <td>51.510788</td>\n      <td>11508.0</td>\n      <td>20220225.0</td>\n      <td>3.0</td>\n      <td>2.0</td>\n      <td>11.0</td>\n      <td>51.510788</td>\n      <td>-0.411707</td>\n      <td>120379235.0</td>\n      <td>8.0</td>\n    </tr>\n  </tbody>\n</table>\n</div>"
     },
     "execution_count": 2,
     "metadata": {},
     "output_type": "execute_result"
    }
   ],
   "source": [
    "df_original = vv.quick_data(separate_Xy=False,\n",
    "                  numeric_values_only=True, nans_forbidden=True, exceptional_nans=['bedrooms', 'bathrooms'])\n",
    "#X, y = quick_data(separate_Xy=True,\n",
    "#                  numeric_values_only=True, nans_forbidden=True, exceptional_nans=['bedrooms', 'bathrooms'])\n",
    "print(df_original.shape)\n",
    "df_original.head()"
   ],
   "metadata": {
    "collapsed": false,
    "pycharm": {
     "name": "#%%\n"
    }
   }
  },
  {
   "cell_type": "code",
   "execution_count": 3,
   "outputs": [
    {
     "data": {
      "text/plain": "              Price  distance_to_any_train  bedrooms  bathrooms  \\\nids                                                               \n124153820  550000.0                    0.9       4.0        1.0   \n120604136  525000.0                    0.3       3.0        2.0   \n124368626  525000.0                    0.9       3.0        1.0   \n120157577  505000.0                    1.4       3.0        1.0   \n120379235  525000.0                    0.7       3.0        1.0   \n\n           bedrooms_model  bathrooms_model  location.latitude  \\\nids                                                             \n124153820             4.0              1.0          51.557959   \n120604136             3.0              2.0          51.506844   \n124368626             3.0              1.0          51.541244   \n120157577             3.0              1.0          51.527530   \n120379235             3.0              1.0          51.510788   \n\n           analyticsBranch.branchId  analyticsProperty.added  \\\nids                                                            \n124153820                  202796.0               20220621.0   \n120604136                   11508.0               20220303.0   \n124368626                   49645.0               20220627.0   \n120157577                   11508.0               20220218.0   \n120379235                   11508.0               20220225.0   \n\n           analyticsProperty.beds  analyticsProperty.floorplanCount  \\\nids                                                                   \n124153820                     4.0                               1.0   \n120604136                     3.0                               1.0   \n124368626                     3.0                               1.0   \n120157577                     3.0                               1.0   \n120379235                     3.0                               2.0   \n\n           analyticsProperty.imageCount  analyticsProperty.latitude  \\\nids                                                                   \n124153820                          19.0                   51.557959   \n120604136                           9.0                   51.506844   \n124368626                          10.0                   51.541244   \n120157577                          12.0                   51.527530   \n120379235                          11.0                   51.510788   \n\n           analyticsProperty.longitude  analyticsProperty.propertyId  \\\nids                                                                    \n124153820                    -0.471762                   124153820.0   \n120604136                    -0.421167                   120604136.0   \n124368626                    -0.442240                   124368626.0   \n120157577                    -0.455490                   120157577.0   \n120379235                    -0.411707                   120379235.0   \n\n           floorplan_count  \nids                         \n124153820              4.0  \n120604136              4.0  \n124368626              4.0  \n120157577              4.0  \n120379235              8.0  ",
      "text/html": "<div>\n<style scoped>\n    .dataframe tbody tr th:only-of-type {\n        vertical-align: middle;\n    }\n\n    .dataframe tbody tr th {\n        vertical-align: top;\n    }\n\n    .dataframe thead th {\n        text-align: right;\n    }\n</style>\n<table border=\"1\" class=\"dataframe\">\n  <thead>\n    <tr style=\"text-align: right;\">\n      <th></th>\n      <th>Price</th>\n      <th>distance_to_any_train</th>\n      <th>bedrooms</th>\n      <th>bathrooms</th>\n      <th>bedrooms_model</th>\n      <th>bathrooms_model</th>\n      <th>location.latitude</th>\n      <th>analyticsBranch.branchId</th>\n      <th>analyticsProperty.added</th>\n      <th>analyticsProperty.beds</th>\n      <th>analyticsProperty.floorplanCount</th>\n      <th>analyticsProperty.imageCount</th>\n      <th>analyticsProperty.latitude</th>\n      <th>analyticsProperty.longitude</th>\n      <th>analyticsProperty.propertyId</th>\n      <th>floorplan_count</th>\n    </tr>\n    <tr>\n      <th>ids</th>\n      <th></th>\n      <th></th>\n      <th></th>\n      <th></th>\n      <th></th>\n      <th></th>\n      <th></th>\n      <th></th>\n      <th></th>\n      <th></th>\n      <th></th>\n      <th></th>\n      <th></th>\n      <th></th>\n      <th></th>\n      <th></th>\n    </tr>\n  </thead>\n  <tbody>\n    <tr>\n      <th>124153820</th>\n      <td>550000.0</td>\n      <td>0.9</td>\n      <td>4.0</td>\n      <td>1.0</td>\n      <td>4.0</td>\n      <td>1.0</td>\n      <td>51.557959</td>\n      <td>202796.0</td>\n      <td>20220621.0</td>\n      <td>4.0</td>\n      <td>1.0</td>\n      <td>19.0</td>\n      <td>51.557959</td>\n      <td>-0.471762</td>\n      <td>124153820.0</td>\n      <td>4.0</td>\n    </tr>\n    <tr>\n      <th>120604136</th>\n      <td>525000.0</td>\n      <td>0.3</td>\n      <td>3.0</td>\n      <td>2.0</td>\n      <td>3.0</td>\n      <td>2.0</td>\n      <td>51.506844</td>\n      <td>11508.0</td>\n      <td>20220303.0</td>\n      <td>3.0</td>\n      <td>1.0</td>\n      <td>9.0</td>\n      <td>51.506844</td>\n      <td>-0.421167</td>\n      <td>120604136.0</td>\n      <td>4.0</td>\n    </tr>\n    <tr>\n      <th>124368626</th>\n      <td>525000.0</td>\n      <td>0.9</td>\n      <td>3.0</td>\n      <td>1.0</td>\n      <td>3.0</td>\n      <td>1.0</td>\n      <td>51.541244</td>\n      <td>49645.0</td>\n      <td>20220627.0</td>\n      <td>3.0</td>\n      <td>1.0</td>\n      <td>10.0</td>\n      <td>51.541244</td>\n      <td>-0.442240</td>\n      <td>124368626.0</td>\n      <td>4.0</td>\n    </tr>\n    <tr>\n      <th>120157577</th>\n      <td>505000.0</td>\n      <td>1.4</td>\n      <td>3.0</td>\n      <td>1.0</td>\n      <td>3.0</td>\n      <td>1.0</td>\n      <td>51.527530</td>\n      <td>11508.0</td>\n      <td>20220218.0</td>\n      <td>3.0</td>\n      <td>1.0</td>\n      <td>12.0</td>\n      <td>51.527530</td>\n      <td>-0.455490</td>\n      <td>120157577.0</td>\n      <td>4.0</td>\n    </tr>\n    <tr>\n      <th>120379235</th>\n      <td>525000.0</td>\n      <td>0.7</td>\n      <td>3.0</td>\n      <td>1.0</td>\n      <td>3.0</td>\n      <td>1.0</td>\n      <td>51.510788</td>\n      <td>11508.0</td>\n      <td>20220225.0</td>\n      <td>3.0</td>\n      <td>2.0</td>\n      <td>11.0</td>\n      <td>51.510788</td>\n      <td>-0.411707</td>\n      <td>120379235.0</td>\n      <td>8.0</td>\n    </tr>\n  </tbody>\n</table>\n</div>"
     },
     "execution_count": 3,
     "metadata": {},
     "output_type": "execute_result"
    }
   ],
   "source": [
    "#df_original[!isna(train$Age), ]\n",
    "#df_original[pd.isnull(df_original['bedrooms'])]\n",
    "df_original.head()"
   ],
   "metadata": {
    "collapsed": false,
    "pycharm": {
     "name": "#%%\n"
    }
   }
  },
  {
   "cell_type": "code",
   "execution_count": 4,
   "outputs": [
    {
     "name": "stdout",
     "output_type": "stream",
     "text": [
      "(7582, 16)\n"
     ]
    },
    {
     "data": {
      "text/plain": "              Price  distance_to_any_train  bedrooms  bathrooms  \\\nids                                                               \n124153820  550000.0                    0.9       4.0        1.0   \n120604136  525000.0                    0.3       3.0        2.0   \n124368626  525000.0                    0.9       3.0        1.0   \n120157577  505000.0                    1.4       3.0        1.0   \n120379235  525000.0                    0.7       3.0        1.0   \n\n           bedrooms_model  bathrooms_model  location.latitude  \\\nids                                                             \n124153820             4.0              1.0          51.557959   \n120604136             3.0              2.0          51.506844   \n124368626             3.0              1.0          51.541244   \n120157577             3.0              1.0          51.527530   \n120379235             3.0              1.0          51.510788   \n\n           analyticsBranch.branchId  analyticsProperty.added  \\\nids                                                            \n124153820                  202796.0               20220621.0   \n120604136                   11508.0               20220303.0   \n124368626                   49645.0               20220627.0   \n120157577                   11508.0               20220218.0   \n120379235                   11508.0               20220225.0   \n\n           analyticsProperty.beds  analyticsProperty.floorplanCount  \\\nids                                                                   \n124153820                     4.0                               1.0   \n120604136                     3.0                               1.0   \n124368626                     3.0                               1.0   \n120157577                     3.0                               1.0   \n120379235                     3.0                               2.0   \n\n           analyticsProperty.imageCount  analyticsProperty.latitude  \\\nids                                                                   \n124153820                          19.0                   51.557959   \n120604136                           9.0                   51.506844   \n124368626                          10.0                   51.541244   \n120157577                          12.0                   51.527530   \n120379235                          11.0                   51.510788   \n\n           analyticsProperty.longitude  analyticsProperty.propertyId  \\\nids                                                                    \n124153820                    -0.471762                   124153820.0   \n120604136                    -0.421167                   120604136.0   \n124368626                    -0.442240                   124368626.0   \n120157577                    -0.455490                   120157577.0   \n120379235                    -0.411707                   120379235.0   \n\n           floorplan_count  \nids                         \n124153820              4.0  \n120604136              4.0  \n124368626              4.0  \n120157577              4.0  \n120379235              8.0  ",
      "text/html": "<div>\n<style scoped>\n    .dataframe tbody tr th:only-of-type {\n        vertical-align: middle;\n    }\n\n    .dataframe tbody tr th {\n        vertical-align: top;\n    }\n\n    .dataframe thead th {\n        text-align: right;\n    }\n</style>\n<table border=\"1\" class=\"dataframe\">\n  <thead>\n    <tr style=\"text-align: right;\">\n      <th></th>\n      <th>Price</th>\n      <th>distance_to_any_train</th>\n      <th>bedrooms</th>\n      <th>bathrooms</th>\n      <th>bedrooms_model</th>\n      <th>bathrooms_model</th>\n      <th>location.latitude</th>\n      <th>analyticsBranch.branchId</th>\n      <th>analyticsProperty.added</th>\n      <th>analyticsProperty.beds</th>\n      <th>analyticsProperty.floorplanCount</th>\n      <th>analyticsProperty.imageCount</th>\n      <th>analyticsProperty.latitude</th>\n      <th>analyticsProperty.longitude</th>\n      <th>analyticsProperty.propertyId</th>\n      <th>floorplan_count</th>\n    </tr>\n    <tr>\n      <th>ids</th>\n      <th></th>\n      <th></th>\n      <th></th>\n      <th></th>\n      <th></th>\n      <th></th>\n      <th></th>\n      <th></th>\n      <th></th>\n      <th></th>\n      <th></th>\n      <th></th>\n      <th></th>\n      <th></th>\n      <th></th>\n      <th></th>\n    </tr>\n  </thead>\n  <tbody>\n    <tr>\n      <th>124153820</th>\n      <td>550000.0</td>\n      <td>0.9</td>\n      <td>4.0</td>\n      <td>1.0</td>\n      <td>4.0</td>\n      <td>1.0</td>\n      <td>51.557959</td>\n      <td>202796.0</td>\n      <td>20220621.0</td>\n      <td>4.0</td>\n      <td>1.0</td>\n      <td>19.0</td>\n      <td>51.557959</td>\n      <td>-0.471762</td>\n      <td>124153820.0</td>\n      <td>4.0</td>\n    </tr>\n    <tr>\n      <th>120604136</th>\n      <td>525000.0</td>\n      <td>0.3</td>\n      <td>3.0</td>\n      <td>2.0</td>\n      <td>3.0</td>\n      <td>2.0</td>\n      <td>51.506844</td>\n      <td>11508.0</td>\n      <td>20220303.0</td>\n      <td>3.0</td>\n      <td>1.0</td>\n      <td>9.0</td>\n      <td>51.506844</td>\n      <td>-0.421167</td>\n      <td>120604136.0</td>\n      <td>4.0</td>\n    </tr>\n    <tr>\n      <th>124368626</th>\n      <td>525000.0</td>\n      <td>0.9</td>\n      <td>3.0</td>\n      <td>1.0</td>\n      <td>3.0</td>\n      <td>1.0</td>\n      <td>51.541244</td>\n      <td>49645.0</td>\n      <td>20220627.0</td>\n      <td>3.0</td>\n      <td>1.0</td>\n      <td>10.0</td>\n      <td>51.541244</td>\n      <td>-0.442240</td>\n      <td>124368626.0</td>\n      <td>4.0</td>\n    </tr>\n    <tr>\n      <th>120157577</th>\n      <td>505000.0</td>\n      <td>1.4</td>\n      <td>3.0</td>\n      <td>1.0</td>\n      <td>3.0</td>\n      <td>1.0</td>\n      <td>51.527530</td>\n      <td>11508.0</td>\n      <td>20220218.0</td>\n      <td>3.0</td>\n      <td>1.0</td>\n      <td>12.0</td>\n      <td>51.527530</td>\n      <td>-0.455490</td>\n      <td>120157577.0</td>\n      <td>4.0</td>\n    </tr>\n    <tr>\n      <th>120379235</th>\n      <td>525000.0</td>\n      <td>0.7</td>\n      <td>3.0</td>\n      <td>1.0</td>\n      <td>3.0</td>\n      <td>1.0</td>\n      <td>51.510788</td>\n      <td>11508.0</td>\n      <td>20220225.0</td>\n      <td>3.0</td>\n      <td>2.0</td>\n      <td>11.0</td>\n      <td>51.510788</td>\n      <td>-0.411707</td>\n      <td>120379235.0</td>\n      <td>8.0</td>\n    </tr>\n  </tbody>\n</table>\n</div>"
     },
     "execution_count": 4,
     "metadata": {},
     "output_type": "execute_result"
    }
   ],
   "source": [
    "df_original = df_original[~df_original.index.duplicated(keep='last')]\n",
    "print(df_original.shape)\n",
    "df_original.head()"
   ],
   "metadata": {
    "collapsed": false,
    "pycharm": {
     "name": "#%%\n"
    }
   }
  },
  {
   "cell_type": "code",
   "execution_count": 5,
   "outputs": [
    {
     "name": "stdout",
     "output_type": "stream",
     "text": [
      "(7582, 16)\n",
      "(7582, 16)\n"
     ]
    },
    {
     "data": {
      "text/plain": "            Price  distance_to_any_train  bedrooms  bathrooms  bedrooms_model  \\\nids                                                                             \n124153820  550000                    0.9       4.0        1.0             4.0   \n120604136  525000                    0.3       3.0        2.0             3.0   \n124368626  525000                    0.9       3.0        1.0             3.0   \n120157577  505000                    1.4       3.0        1.0             3.0   \n120379235  525000                    0.7       3.0        1.0             3.0   \n...           ...                    ...       ...        ...             ...   \n124095956  485000                    0.2       2.0        1.0             2.0   \n121881878  490000                    0.7       2.0        1.0             2.0   \n124103096  510000                    0.6       4.0        2.0             4.0   \n124101830  550000                    0.3       2.0        1.0             2.0   \n124087706  550000                    0.6       3.0        1.0             3.0   \n\n           bathrooms_model  location.latitude  analyticsBranch.branchId  \\\nids                                                                       \n124153820              1.0          51.557959                  202796.0   \n120604136              2.0          51.506844                   11508.0   \n124368626              1.0          51.541244                   49645.0   \n120157577              1.0          51.527530                   11508.0   \n120379235              1.0          51.510788                   11508.0   \n...                    ...                ...                       ...   \n124095956              1.0          51.394440                  161975.0   \n121881878              1.0          51.622766                   37065.0   \n124103096              2.0          51.517324                   48101.0   \n124101830              1.0          51.429413                   61662.0   \n124087706              1.0          51.482220                  189059.0   \n\n           analyticsProperty.added  analyticsProperty.beds  \\\nids                                                          \n124153820               20220621.0                     4.0   \n120604136               20220303.0                     3.0   \n124368626               20220627.0                     3.0   \n120157577               20220218.0                     3.0   \n120379235               20220225.0                     3.0   \n...                            ...                     ...   \n124095956               20220620.0                     2.0   \n121881878               20220402.0                     2.0   \n124103096               20220620.0                     4.0   \n124101830               20220620.0                     2.0   \n124087706               20220620.0                     3.0   \n\n           analyticsProperty.floorplanCount  analyticsProperty.imageCount  \\\nids                                                                         \n124153820                               1.0                          19.0   \n120604136                               1.0                           9.0   \n124368626                               1.0                          10.0   \n120157577                               1.0                          12.0   \n120379235                               2.0                          11.0   \n...                                     ...                           ...   \n124095956                               1.0                          12.0   \n121881878                               1.0                          12.0   \n124103096                               2.0                          10.0   \n124101830                               1.0                           6.0   \n124087706                               1.0                          19.0   \n\n           analyticsProperty.latitude  analyticsProperty.longitude  \\\nids                                                                  \n124153820                   51.557959                    -0.471762   \n120604136                   51.506844                    -0.421167   \n124368626                   51.541244                    -0.442240   \n120157577                   51.527530                    -0.455490   \n120379235                   51.510788                    -0.411707   \n...                               ...                          ...   \n124095956                   51.394440                    -0.088876   \n121881878                   51.622766                    -0.150622   \n124103096                   51.517324                     0.040199   \n124101830                   51.429413                    -0.161170   \n124087706                   51.482220                     0.090540   \n\n           analyticsProperty.propertyId  floorplan_count  \nids                                                       \n124153820                   124153820.0              4.0  \n120604136                   120604136.0              4.0  \n124368626                   124368626.0              4.0  \n120157577                   120157577.0              4.0  \n120379235                   120379235.0              8.0  \n...                                 ...              ...  \n124095956                   124095956.0              4.0  \n121881878                   121881878.0              4.0  \n124103096                   124103096.0              9.0  \n124101830                   124101830.0              4.0  \n124087706                   124087706.0              4.0  \n\n[7582 rows x 16 columns]",
      "text/html": "<div>\n<style scoped>\n    .dataframe tbody tr th:only-of-type {\n        vertical-align: middle;\n    }\n\n    .dataframe tbody tr th {\n        vertical-align: top;\n    }\n\n    .dataframe thead th {\n        text-align: right;\n    }\n</style>\n<table border=\"1\" class=\"dataframe\">\n  <thead>\n    <tr style=\"text-align: right;\">\n      <th></th>\n      <th>Price</th>\n      <th>distance_to_any_train</th>\n      <th>bedrooms</th>\n      <th>bathrooms</th>\n      <th>bedrooms_model</th>\n      <th>bathrooms_model</th>\n      <th>location.latitude</th>\n      <th>analyticsBranch.branchId</th>\n      <th>analyticsProperty.added</th>\n      <th>analyticsProperty.beds</th>\n      <th>analyticsProperty.floorplanCount</th>\n      <th>analyticsProperty.imageCount</th>\n      <th>analyticsProperty.latitude</th>\n      <th>analyticsProperty.longitude</th>\n      <th>analyticsProperty.propertyId</th>\n      <th>floorplan_count</th>\n    </tr>\n    <tr>\n      <th>ids</th>\n      <th></th>\n      <th></th>\n      <th></th>\n      <th></th>\n      <th></th>\n      <th></th>\n      <th></th>\n      <th></th>\n      <th></th>\n      <th></th>\n      <th></th>\n      <th></th>\n      <th></th>\n      <th></th>\n      <th></th>\n      <th></th>\n    </tr>\n  </thead>\n  <tbody>\n    <tr>\n      <th>124153820</th>\n      <td>550000</td>\n      <td>0.9</td>\n      <td>4.0</td>\n      <td>1.0</td>\n      <td>4.0</td>\n      <td>1.0</td>\n      <td>51.557959</td>\n      <td>202796.0</td>\n      <td>20220621.0</td>\n      <td>4.0</td>\n      <td>1.0</td>\n      <td>19.0</td>\n      <td>51.557959</td>\n      <td>-0.471762</td>\n      <td>124153820.0</td>\n      <td>4.0</td>\n    </tr>\n    <tr>\n      <th>120604136</th>\n      <td>525000</td>\n      <td>0.3</td>\n      <td>3.0</td>\n      <td>2.0</td>\n      <td>3.0</td>\n      <td>2.0</td>\n      <td>51.506844</td>\n      <td>11508.0</td>\n      <td>20220303.0</td>\n      <td>3.0</td>\n      <td>1.0</td>\n      <td>9.0</td>\n      <td>51.506844</td>\n      <td>-0.421167</td>\n      <td>120604136.0</td>\n      <td>4.0</td>\n    </tr>\n    <tr>\n      <th>124368626</th>\n      <td>525000</td>\n      <td>0.9</td>\n      <td>3.0</td>\n      <td>1.0</td>\n      <td>3.0</td>\n      <td>1.0</td>\n      <td>51.541244</td>\n      <td>49645.0</td>\n      <td>20220627.0</td>\n      <td>3.0</td>\n      <td>1.0</td>\n      <td>10.0</td>\n      <td>51.541244</td>\n      <td>-0.442240</td>\n      <td>124368626.0</td>\n      <td>4.0</td>\n    </tr>\n    <tr>\n      <th>120157577</th>\n      <td>505000</td>\n      <td>1.4</td>\n      <td>3.0</td>\n      <td>1.0</td>\n      <td>3.0</td>\n      <td>1.0</td>\n      <td>51.527530</td>\n      <td>11508.0</td>\n      <td>20220218.0</td>\n      <td>3.0</td>\n      <td>1.0</td>\n      <td>12.0</td>\n      <td>51.527530</td>\n      <td>-0.455490</td>\n      <td>120157577.0</td>\n      <td>4.0</td>\n    </tr>\n    <tr>\n      <th>120379235</th>\n      <td>525000</td>\n      <td>0.7</td>\n      <td>3.0</td>\n      <td>1.0</td>\n      <td>3.0</td>\n      <td>1.0</td>\n      <td>51.510788</td>\n      <td>11508.0</td>\n      <td>20220225.0</td>\n      <td>3.0</td>\n      <td>2.0</td>\n      <td>11.0</td>\n      <td>51.510788</td>\n      <td>-0.411707</td>\n      <td>120379235.0</td>\n      <td>8.0</td>\n    </tr>\n    <tr>\n      <th>...</th>\n      <td>...</td>\n      <td>...</td>\n      <td>...</td>\n      <td>...</td>\n      <td>...</td>\n      <td>...</td>\n      <td>...</td>\n      <td>...</td>\n      <td>...</td>\n      <td>...</td>\n      <td>...</td>\n      <td>...</td>\n      <td>...</td>\n      <td>...</td>\n      <td>...</td>\n      <td>...</td>\n    </tr>\n    <tr>\n      <th>124095956</th>\n      <td>485000</td>\n      <td>0.2</td>\n      <td>2.0</td>\n      <td>1.0</td>\n      <td>2.0</td>\n      <td>1.0</td>\n      <td>51.394440</td>\n      <td>161975.0</td>\n      <td>20220620.0</td>\n      <td>2.0</td>\n      <td>1.0</td>\n      <td>12.0</td>\n      <td>51.394440</td>\n      <td>-0.088876</td>\n      <td>124095956.0</td>\n      <td>4.0</td>\n    </tr>\n    <tr>\n      <th>121881878</th>\n      <td>490000</td>\n      <td>0.7</td>\n      <td>2.0</td>\n      <td>1.0</td>\n      <td>2.0</td>\n      <td>1.0</td>\n      <td>51.622766</td>\n      <td>37065.0</td>\n      <td>20220402.0</td>\n      <td>2.0</td>\n      <td>1.0</td>\n      <td>12.0</td>\n      <td>51.622766</td>\n      <td>-0.150622</td>\n      <td>121881878.0</td>\n      <td>4.0</td>\n    </tr>\n    <tr>\n      <th>124103096</th>\n      <td>510000</td>\n      <td>0.6</td>\n      <td>4.0</td>\n      <td>2.0</td>\n      <td>4.0</td>\n      <td>2.0</td>\n      <td>51.517324</td>\n      <td>48101.0</td>\n      <td>20220620.0</td>\n      <td>4.0</td>\n      <td>2.0</td>\n      <td>10.0</td>\n      <td>51.517324</td>\n      <td>0.040199</td>\n      <td>124103096.0</td>\n      <td>9.0</td>\n    </tr>\n    <tr>\n      <th>124101830</th>\n      <td>550000</td>\n      <td>0.3</td>\n      <td>2.0</td>\n      <td>1.0</td>\n      <td>2.0</td>\n      <td>1.0</td>\n      <td>51.429413</td>\n      <td>61662.0</td>\n      <td>20220620.0</td>\n      <td>2.0</td>\n      <td>1.0</td>\n      <td>6.0</td>\n      <td>51.429413</td>\n      <td>-0.161170</td>\n      <td>124101830.0</td>\n      <td>4.0</td>\n    </tr>\n    <tr>\n      <th>124087706</th>\n      <td>550000</td>\n      <td>0.6</td>\n      <td>3.0</td>\n      <td>1.0</td>\n      <td>3.0</td>\n      <td>1.0</td>\n      <td>51.482220</td>\n      <td>189059.0</td>\n      <td>20220620.0</td>\n      <td>3.0</td>\n      <td>1.0</td>\n      <td>19.0</td>\n      <td>51.482220</td>\n      <td>0.090540</td>\n      <td>124087706.0</td>\n      <td>4.0</td>\n    </tr>\n  </tbody>\n</table>\n<p>7582 rows × 16 columns</p>\n</div>"
     },
     "execution_count": 5,
     "metadata": {},
     "output_type": "execute_result"
    }
   ],
   "source": [
    "print(df_original.shape)\n",
    "df_original['bedrooms'] = df_original['bedrooms'].fillna(-1)\n",
    "df_original['bathrooms'] = df_original['bathrooms'].fillna(-1)\n",
    "df_original['Price'] = pd.to_numeric(df_original['Price'], 'coerce').dropna().astype(int)\n",
    "df_original = df_original[df_original['Price'].notna()]\n",
    "print(df_original.shape)\n",
    "df_original"
   ],
   "metadata": {
    "collapsed": false,
    "pycharm": {
     "name": "#%%\n"
    }
   }
  },
  {
   "cell_type": "code",
   "execution_count": 6,
   "outputs": [
    {
     "data": {
      "text/plain": "ids\n124153820    550000\n120604136    525000\n124368626    525000\n120157577    505000\n120379235    525000\n              ...  \n124095956    485000\n121881878    490000\n124103096    510000\n124101830    550000\n124087706    550000\nName: Price, Length: 7582, dtype: int64"
     },
     "execution_count": 6,
     "metadata": {},
     "output_type": "execute_result"
    }
   ],
   "source": [
    "y = df_original['Price']\n",
    "X = df_original.drop(['Price'],axis=1)\n",
    "y"
   ],
   "metadata": {
    "collapsed": false,
    "pycharm": {
     "name": "#%%\n"
    }
   }
  },
  {
   "cell_type": "code",
   "execution_count": 7,
   "outputs": [
    {
     "data": {
      "text/plain": "Series([], Name: Price, dtype: int64)"
     },
     "execution_count": 7,
     "metadata": {},
     "output_type": "execute_result"
    }
   ],
   "source": [
    "df_original[df_original['Price'].isna()]\n",
    "#y[y['Price'].isna()]\n",
    "y.dtype\n",
    "type(y)\n",
    "y[y.isna()]"
   ],
   "metadata": {
    "collapsed": false,
    "pycharm": {
     "name": "#%%\n"
    }
   }
  },
  {
   "cell_type": "code",
   "execution_count": 8,
   "outputs": [
    {
     "data": {
      "text/plain": "DecisionTreeRegressor(max_depth=4)",
      "text/html": "<style>#sk-container-id-1 {color: black;background-color: white;}#sk-container-id-1 pre{padding: 0;}#sk-container-id-1 div.sk-toggleable {background-color: white;}#sk-container-id-1 label.sk-toggleable__label {cursor: pointer;display: block;width: 100%;margin-bottom: 0;padding: 0.3em;box-sizing: border-box;text-align: center;}#sk-container-id-1 label.sk-toggleable__label-arrow:before {content: \"▸\";float: left;margin-right: 0.25em;color: #696969;}#sk-container-id-1 label.sk-toggleable__label-arrow:hover:before {color: black;}#sk-container-id-1 div.sk-estimator:hover label.sk-toggleable__label-arrow:before {color: black;}#sk-container-id-1 div.sk-toggleable__content {max-height: 0;max-width: 0;overflow: hidden;text-align: left;background-color: #f0f8ff;}#sk-container-id-1 div.sk-toggleable__content pre {margin: 0.2em;color: black;border-radius: 0.25em;background-color: #f0f8ff;}#sk-container-id-1 input.sk-toggleable__control:checked~div.sk-toggleable__content {max-height: 200px;max-width: 100%;overflow: auto;}#sk-container-id-1 input.sk-toggleable__control:checked~label.sk-toggleable__label-arrow:before {content: \"▾\";}#sk-container-id-1 div.sk-estimator input.sk-toggleable__control:checked~label.sk-toggleable__label {background-color: #d4ebff;}#sk-container-id-1 div.sk-label input.sk-toggleable__control:checked~label.sk-toggleable__label {background-color: #d4ebff;}#sk-container-id-1 input.sk-hidden--visually {border: 0;clip: rect(1px 1px 1px 1px);clip: rect(1px, 1px, 1px, 1px);height: 1px;margin: -1px;overflow: hidden;padding: 0;position: absolute;width: 1px;}#sk-container-id-1 div.sk-estimator {font-family: monospace;background-color: #f0f8ff;border: 1px dotted black;border-radius: 0.25em;box-sizing: border-box;margin-bottom: 0.5em;}#sk-container-id-1 div.sk-estimator:hover {background-color: #d4ebff;}#sk-container-id-1 div.sk-parallel-item::after {content: \"\";width: 100%;border-bottom: 1px solid gray;flex-grow: 1;}#sk-container-id-1 div.sk-label:hover label.sk-toggleable__label {background-color: #d4ebff;}#sk-container-id-1 div.sk-serial::before {content: \"\";position: absolute;border-left: 1px solid gray;box-sizing: border-box;top: 0;bottom: 0;left: 50%;z-index: 0;}#sk-container-id-1 div.sk-serial {display: flex;flex-direction: column;align-items: center;background-color: white;padding-right: 0.2em;padding-left: 0.2em;position: relative;}#sk-container-id-1 div.sk-item {position: relative;z-index: 1;}#sk-container-id-1 div.sk-parallel {display: flex;align-items: stretch;justify-content: center;background-color: white;position: relative;}#sk-container-id-1 div.sk-item::before, #sk-container-id-1 div.sk-parallel-item::before {content: \"\";position: absolute;border-left: 1px solid gray;box-sizing: border-box;top: 0;bottom: 0;left: 50%;z-index: -1;}#sk-container-id-1 div.sk-parallel-item {display: flex;flex-direction: column;z-index: 1;position: relative;background-color: white;}#sk-container-id-1 div.sk-parallel-item:first-child::after {align-self: flex-end;width: 50%;}#sk-container-id-1 div.sk-parallel-item:last-child::after {align-self: flex-start;width: 50%;}#sk-container-id-1 div.sk-parallel-item:only-child::after {width: 0;}#sk-container-id-1 div.sk-dashed-wrapped {border: 1px dashed gray;margin: 0 0.4em 0.5em 0.4em;box-sizing: border-box;padding-bottom: 0.4em;background-color: white;}#sk-container-id-1 div.sk-label label {font-family: monospace;font-weight: bold;display: inline-block;line-height: 1.2em;}#sk-container-id-1 div.sk-label-container {text-align: center;}#sk-container-id-1 div.sk-container {/* jupyter's `normalize.less` sets `[hidden] { display: none; }` but bootstrap.min.css set `[hidden] { display: none !important; }` so we also need the `!important` here to be able to override the default hidden behavior on the sphinx rendered scikit-learn.org. See: https://github.com/scikit-learn/scikit-learn/issues/21755 */display: inline-block !important;position: relative;}#sk-container-id-1 div.sk-text-repr-fallback {display: none;}</style><div id=\"sk-container-id-1\" class=\"sk-top-container\"><div class=\"sk-text-repr-fallback\"><pre>DecisionTreeRegressor(max_depth=4)</pre><b>In a Jupyter environment, please rerun this cell to show the HTML representation or trust the notebook. <br />On GitHub, the HTML representation is unable to render, please try loading this page with nbviewer.org.</b></div><div class=\"sk-container\" hidden><div class=\"sk-item\"><div class=\"sk-estimator sk-toggleable\"><input class=\"sk-toggleable__control sk-hidden--visually\" id=\"sk-estimator-id-1\" type=\"checkbox\" checked><label for=\"sk-estimator-id-1\" class=\"sk-toggleable__label sk-toggleable__label-arrow\">DecisionTreeRegressor</label><div class=\"sk-toggleable__content\"><pre>DecisionTreeRegressor(max_depth=4)</pre></div></div></div></div></div>"
     },
     "execution_count": 8,
     "metadata": {},
     "output_type": "execute_result"
    }
   ],
   "source": [
    "tree_reg = DecisionTreeRegressor(max_depth=4)\n",
    "tree_reg.fit(X, y)"
   ],
   "metadata": {
    "collapsed": false,
    "pycharm": {
     "name": "#%%\n"
    }
   }
  },
  {
   "cell_type": "code",
   "execution_count": 9,
   "outputs": [],
   "source": [
    "from sklearn.tree import export_graphviz"
   ],
   "metadata": {
    "collapsed": false,
    "pycharm": {
     "name": "#%%\n"
    }
   }
  },
  {
   "cell_type": "code",
   "execution_count": 10,
   "outputs": [],
   "source": [
    "export_graphviz(tree_reg,\n",
    "                out_file=\"property_price.dot\",\n",
    "                feature_names=X.columns,\n",
    "                class_names='Price',\n",
    "                rounded=True,\n",
    "                filled=True)"
   ],
   "metadata": {
    "collapsed": false,
    "pycharm": {
     "name": "#%%\n"
    }
   }
  },
  {
   "cell_type": "code",
   "execution_count": 11,
   "outputs": [
    {
     "data": {
      "text/plain": "0.37791337679701376"
     },
     "execution_count": 11,
     "metadata": {},
     "output_type": "execute_result"
    }
   ],
   "source": [
    "tree_reg.score(X,y)"
   ],
   "metadata": {
    "collapsed": false,
    "pycharm": {
     "name": "#%%\n"
    }
   }
  },
  {
   "cell_type": "code",
   "execution_count": 18,
   "outputs": [
    {
     "name": "stdout",
     "output_type": "stream",
     "text": [
      "['distance_to_any_train' 'bedrooms' 'bathrooms' 'bedrooms_model'\n",
      " 'bathrooms_model' 'location.latitude' 'analyticsBranch.branchId'\n",
      " 'analyticsProperty.added' 'analyticsProperty.beds'\n",
      " 'analyticsProperty.floorplanCount' 'analyticsProperty.imageCount'\n",
      " 'analyticsProperty.latitude' 'analyticsProperty.longitude'\n",
      " 'analyticsProperty.propertyId' 'floorplan_count']\n",
      "[0.         0.         0.         0.35110674 0.         0.00603367\n",
      " 0.         0.         0.18550679 0.         0.01598204 0.\n",
      " 0.44137076 0.         0.        ]\n"
     ]
    },
    {
     "data": {
      "text/plain": "                                         0\nanalyticsProperty.longitude       0.441371\nbedrooms_model                    0.351107\nanalyticsProperty.beds            0.185507\nanalyticsProperty.imageCount      0.015982\nlocation.latitude                 0.006034\ndistance_to_any_train             0.000000\nbedrooms                          0.000000\nbathrooms                         0.000000\nbathrooms_model                   0.000000\nanalyticsBranch.branchId          0.000000\nanalyticsProperty.added           0.000000\nanalyticsProperty.floorplanCount  0.000000\nanalyticsProperty.latitude        0.000000\nanalyticsProperty.propertyId      0.000000\nfloorplan_count                   0.000000",
      "text/html": "<div>\n<style scoped>\n    .dataframe tbody tr th:only-of-type {\n        vertical-align: middle;\n    }\n\n    .dataframe tbody tr th {\n        vertical-align: top;\n    }\n\n    .dataframe thead th {\n        text-align: right;\n    }\n</style>\n<table border=\"1\" class=\"dataframe\">\n  <thead>\n    <tr style=\"text-align: right;\">\n      <th></th>\n      <th>0</th>\n    </tr>\n  </thead>\n  <tbody>\n    <tr>\n      <th>analyticsProperty.longitude</th>\n      <td>0.441371</td>\n    </tr>\n    <tr>\n      <th>bedrooms_model</th>\n      <td>0.351107</td>\n    </tr>\n    <tr>\n      <th>analyticsProperty.beds</th>\n      <td>0.185507</td>\n    </tr>\n    <tr>\n      <th>analyticsProperty.imageCount</th>\n      <td>0.015982</td>\n    </tr>\n    <tr>\n      <th>location.latitude</th>\n      <td>0.006034</td>\n    </tr>\n    <tr>\n      <th>distance_to_any_train</th>\n      <td>0.000000</td>\n    </tr>\n    <tr>\n      <th>bedrooms</th>\n      <td>0.000000</td>\n    </tr>\n    <tr>\n      <th>bathrooms</th>\n      <td>0.000000</td>\n    </tr>\n    <tr>\n      <th>bathrooms_model</th>\n      <td>0.000000</td>\n    </tr>\n    <tr>\n      <th>analyticsBranch.branchId</th>\n      <td>0.000000</td>\n    </tr>\n    <tr>\n      <th>analyticsProperty.added</th>\n      <td>0.000000</td>\n    </tr>\n    <tr>\n      <th>analyticsProperty.floorplanCount</th>\n      <td>0.000000</td>\n    </tr>\n    <tr>\n      <th>analyticsProperty.latitude</th>\n      <td>0.000000</td>\n    </tr>\n    <tr>\n      <th>analyticsProperty.propertyId</th>\n      <td>0.000000</td>\n    </tr>\n    <tr>\n      <th>floorplan_count</th>\n      <td>0.000000</td>\n    </tr>\n  </tbody>\n</table>\n</div>"
     },
     "execution_count": 18,
     "metadata": {},
     "output_type": "execute_result"
    }
   ],
   "source": [
    "print(tree_reg.feature_names_in_)\n",
    "print(tree_reg.feature_importances_)\n",
    "pd.DataFrame(tree_reg.feature_importances_,tree_reg.feature_names_in_).sort_values(by=0,ascending=False)"
   ],
   "metadata": {
    "collapsed": false,
    "pycharm": {
     "name": "#%%\n"
    }
   }
  }
 ],
 "metadata": {
  "kernelspec": {
   "display_name": "Python 3",
   "language": "python",
   "name": "python3"
  },
  "language_info": {
   "codemirror_mode": {
    "name": "ipython",
    "version": 2
   },
   "file_extension": ".py",
   "mimetype": "text/x-python",
   "name": "python",
   "nbconvert_exporter": "python",
   "pygments_lexer": "ipython2",
   "version": "2.7.6"
  }
 },
 "nbformat": 4,
 "nbformat_minor": 0
}