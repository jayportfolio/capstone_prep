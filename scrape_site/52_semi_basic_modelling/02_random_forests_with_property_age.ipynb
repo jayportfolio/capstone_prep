{
 "cells": [
  {
   "cell_type": "markdown",
   "source": [
    "### Import necessary modules"
   ],
   "metadata": {
    "collapsed": false,
    "pycharm": {
     "name": "#%% md\n"
    }
   }
  },
  {
   "cell_type": "code",
   "execution_count": 1,
   "metadata": {
    "collapsed": true,
    "pycharm": {
     "name": "#%%\n"
    }
   },
   "outputs": [
    {
     "name": "stderr",
     "output_type": "stream",
     "text": [
      "/media/sf_shared_files/Springboard_III/capstone_prep/globalfunction/vv.py:336: DtypeWarning: Columns (23,25,28,31,40,43,44,47,51,56,59,61,62,63) have mixed types. Specify dtype option on import or set low_memory=False.\n",
      "  df_json1 = pd.read_csv(LISTING_JSON_MODEL_FILE)  # EDIT 29-06-2022: There are bid listings and regular listings. I scrape them seporately and join them here.\n"
     ]
    },
    {
     "name": "stdout",
     "output_type": "stream",
     "text": [
      "remove duplicates: 16494/41884/36331/36803/10630 ==> 16494/32355/32152/32160/10605\n",
      "type <class 'pandas.core.indexes.base.Index'>\n",
      "double bedroom\n",
      "double glazed\n",
      "first floor\n",
      "glazed window\n",
      "reception room\n",
      "ground floor\n",
      "open plan\n",
      "rear garden\n",
      "two bedroom\n",
      "fitted kitchen\n",
      "two double\n",
      "transport link\n",
      "chain free\n",
      "one bedroom\n",
      "three bedroom\n",
      "communal garden\n",
      "street parking\n",
      "family bathroom\n",
      "bedroom apartment\n",
      "will\n",
      "walking distance\n",
      "living room\n",
      "close\n",
      "service charge\n",
      "central heating\n",
      "benefits\n",
      "shower room\n",
      "ground rent\n",
      "access\n",
      "first time\n",
      "council tax\n",
      "gas central\n",
      "allocated parking\n",
      "entrance hall\n",
      "en suite\n",
      "information\n",
      "dining room\n",
      "local amenities\n",
      "double glazing\n",
      "private balcony\n",
      "short walk\n",
      "high street\n",
      "plan kitchen\n",
      "located\n",
      "tax band\n",
      "easy access\n",
      "sq ft\n",
      "onward chain\n",
      "information provided\n",
      "floor apartment\n",
      "estate agent\n",
      "parking space\n",
      "storage cupboard\n",
      "share\n",
      "town centre\n",
      "floor flat\n",
      "full detail\n",
      "strongly advise\n",
      "within easy\n",
      "freehold\n",
      "market\n",
      "purpose built\n",
      "bedroom two\n",
      "pleased\n",
      "viewing\n",
      "second floor\n",
      "situated\n",
      "sought\n",
      "private garden\n",
      "w c\n",
      "bright\n",
      "front\n",
      "available\n",
      "fitted wardrobe\n",
      "time buyer\n",
      "heart\n",
      "within walking\n",
      "train station\n",
      "master bedroom\n",
      "local shop\n",
      "central london\n",
      "top floor\n",
      "kitchen diner\n",
      "ideal\n",
      "tiled wall\n",
      "view\n",
      "long lease\n",
      "offers\n",
      "bedroom flat\n",
      "bus route\n",
      "underground station\n",
      "mixer tap\n",
      "contract\n",
      "hand basin\n",
      "offered\n",
      "epc rating\n",
      "modern kitchen\n"
     ]
    },
    {
     "name": "stderr",
     "output_type": "stream",
     "text": [
      "/media/sf_shared_files/Springboard_III/capstone_prep/globalfunction/vv.py:172: PerformanceWarning: DataFrame is highly fragmented.  This is usually the result of calling `frame.insert` many times, which has poor performance.  Consider joining all columns at once using pd.concat(axis=1) instead. To get a de-fragmented frame, use `newframe = frame.copy()`\n",
      "  df[label] = df[\"content\"].str.contains(each)\n",
      "/media/sf_shared_files/Springboard_III/capstone_prep/globalfunction/vv.py:172: PerformanceWarning: DataFrame is highly fragmented.  This is usually the result of calling `frame.insert` many times, which has poor performance.  Consider joining all columns at once using pd.concat(axis=1) instead. To get a de-fragmented frame, use `newframe = frame.copy()`\n",
      "  df[label] = df[\"content\"].str.contains(each)\n",
      "/media/sf_shared_files/Springboard_III/capstone_prep/globalfunction/vv.py:172: PerformanceWarning: DataFrame is highly fragmented.  This is usually the result of calling `frame.insert` many times, which has poor performance.  Consider joining all columns at once using pd.concat(axis=1) instead. To get a de-fragmented frame, use `newframe = frame.copy()`\n",
      "  df[label] = df[\"content\"].str.contains(each)\n",
      "/media/sf_shared_files/Springboard_III/capstone_prep/globalfunction/vv.py:172: PerformanceWarning: DataFrame is highly fragmented.  This is usually the result of calling `frame.insert` many times, which has poor performance.  Consider joining all columns at once using pd.concat(axis=1) instead. To get a de-fragmented frame, use `newframe = frame.copy()`\n",
      "  df[label] = df[\"content\"].str.contains(each)\n",
      "/media/sf_shared_files/Springboard_III/capstone_prep/globalfunction/vv.py:172: PerformanceWarning: DataFrame is highly fragmented.  This is usually the result of calling `frame.insert` many times, which has poor performance.  Consider joining all columns at once using pd.concat(axis=1) instead. To get a de-fragmented frame, use `newframe = frame.copy()`\n",
      "  df[label] = df[\"content\"].str.contains(each)\n"
     ]
    },
    {
     "name": "stdout",
     "output_type": "stream",
     "text": [
      "living space\n",
      "plan living\n",
      "easy reach\n",
      "city\n",
      "years remaining\n"
     ]
    },
    {
     "name": "stderr",
     "output_type": "stream",
     "text": [
      "/media/sf_shared_files/Springboard_III/capstone_prep/globalfunction/vv.py:172: PerformanceWarning: DataFrame is highly fragmented.  This is usually the result of calling `frame.insert` many times, which has poor performance.  Consider joining all columns at once using pd.concat(axis=1) instead. To get a de-fragmented frame, use `newframe = frame.copy()`\n",
      "  df[label] = df[\"content\"].str.contains(each)\n",
      "/media/sf_shared_files/Springboard_III/capstone_prep/globalfunction/vv.py:172: PerformanceWarning: DataFrame is highly fragmented.  This is usually the result of calling `frame.insert` many times, which has poor performance.  Consider joining all columns at once using pd.concat(axis=1) instead. To get a de-fragmented frame, use `newframe = frame.copy()`\n",
      "  df[label] = df[\"content\"].str.contains(each)\n",
      "/media/sf_shared_files/Springboard_III/capstone_prep/globalfunction/vv.py:172: PerformanceWarning: DataFrame is highly fragmented.  This is usually the result of calling `frame.insert` many times, which has poor performance.  Consider joining all columns at once using pd.concat(axis=1) instead. To get a de-fragmented frame, use `newframe = frame.copy()`\n",
      "  df[label] = df[\"content\"].str.contains(each)\n",
      "/media/sf_shared_files/Springboard_III/capstone_prep/globalfunction/vv.py:172: PerformanceWarning: DataFrame is highly fragmented.  This is usually the result of calling `frame.insert` many times, which has poor performance.  Consider joining all columns at once using pd.concat(axis=1) instead. To get a de-fragmented frame, use `newframe = frame.copy()`\n",
      "  df[label] = df[\"content\"].str.contains(each)\n",
      "/media/sf_shared_files/Springboard_III/capstone_prep/globalfunction/vv.py:172: PerformanceWarning: DataFrame is highly fragmented.  This is usually the result of calling `frame.insert` many times, which has poor performance.  Consider joining all columns at once using pd.concat(axis=1) instead. To get a de-fragmented frame, use `newframe = frame.copy()`\n",
      "  df[label] = df[\"content\"].str.contains(each)\n"
     ]
    },
    {
     "name": "stdout",
     "output_type": "stream",
     "text": [
      "semi detached\n",
      "close proximity\n",
      "vendor\n",
      "washing machine\n",
      "located within\n"
     ]
    },
    {
     "name": "stderr",
     "output_type": "stream",
     "text": [
      "/media/sf_shared_files/Springboard_III/capstone_prep/globalfunction/vv.py:172: PerformanceWarning: DataFrame is highly fragmented.  This is usually the result of calling `frame.insert` many times, which has poor performance.  Consider joining all columns at once using pd.concat(axis=1) instead. To get a de-fragmented frame, use `newframe = frame.copy()`\n",
      "  df[label] = df[\"content\"].str.contains(each)\n",
      "/media/sf_shared_files/Springboard_III/capstone_prep/globalfunction/vv.py:172: PerformanceWarning: DataFrame is highly fragmented.  This is usually the result of calling `frame.insert` many times, which has poor performance.  Consider joining all columns at once using pd.concat(axis=1) instead. To get a de-fragmented frame, use `newframe = frame.copy()`\n",
      "  df[label] = df[\"content\"].str.contains(each)\n",
      "/media/sf_shared_files/Springboard_III/capstone_prep/globalfunction/vv.py:172: PerformanceWarning: DataFrame is highly fragmented.  This is usually the result of calling `frame.insert` many times, which has poor performance.  Consider joining all columns at once using pd.concat(axis=1) instead. To get a de-fragmented frame, use `newframe = frame.copy()`\n",
      "  df[label] = df[\"content\"].str.contains(each)\n"
     ]
    },
    {
     "name": "stdout",
     "output_type": "stream",
     "text": [
      "integrated appliance\n",
      "tube station\n",
      "separate kitchen\n"
     ]
    },
    {
     "name": "stderr",
     "output_type": "stream",
     "text": [
      "/media/sf_shared_files/Springboard_III/capstone_prep/globalfunction/vv.py:172: PerformanceWarning: DataFrame is highly fragmented.  This is usually the result of calling `frame.insert` many times, which has poor performance.  Consider joining all columns at once using pd.concat(axis=1) instead. To get a de-fragmented frame, use `newframe = frame.copy()`\n",
      "  df[label] = df[\"content\"].str.contains(each)\n",
      "/media/sf_shared_files/Springboard_III/capstone_prep/globalfunction/vv.py:172: PerformanceWarning: DataFrame is highly fragmented.  This is usually the result of calling `frame.insert` many times, which has poor performance.  Consider joining all columns at once using pd.concat(axis=1) instead. To get a de-fragmented frame, use `newframe = frame.copy()`\n",
      "  df[label] = df[\"content\"].str.contains(each)\n",
      "/media/sf_shared_files/Springboard_III/capstone_prep/globalfunction/vv.py:172: PerformanceWarning: DataFrame is highly fragmented.  This is usually the result of calling `frame.insert` many times, which has poor performance.  Consider joining all columns at once using pd.concat(axis=1) instead. To get a de-fragmented frame, use `newframe = frame.copy()`\n",
      "  df[label] = df[\"content\"].str.contains(each)\n",
      "/media/sf_shared_files/Springboard_III/capstone_prep/globalfunction/vv.py:172: PerformanceWarning: DataFrame is highly fragmented.  This is usually the result of calling `frame.insert` many times, which has poor performance.  Consider joining all columns at once using pd.concat(axis=1) instead. To get a de-fragmented frame, use `newframe = frame.copy()`\n",
      "  df[label] = df[\"content\"].str.contains(each)\n",
      "/media/sf_shared_files/Springboard_III/capstone_prep/globalfunction/vv.py:172: PerformanceWarning: DataFrame is highly fragmented.  This is usually the result of calling `frame.insert` many times, which has poor performance.  Consider joining all columns at once using pd.concat(axis=1) instead. To get a de-fragmented frame, use `newframe = frame.copy()`\n",
      "  df[label] = df[\"content\"].str.contains(each)\n"
     ]
    },
    {
     "name": "stdout",
     "output_type": "stream",
     "text": [
      "low level\n",
      "benefits include\n",
      "brochures particular\n",
      "prospective buyer\n",
      "laminate flooring\n"
     ]
    },
    {
     "name": "stderr",
     "output_type": "stream",
     "text": [
      "/media/sf_shared_files/Springboard_III/capstone_prep/globalfunction/vv.py:172: PerformanceWarning: DataFrame is highly fragmented.  This is usually the result of calling `frame.insert` many times, which has poor performance.  Consider joining all columns at once using pd.concat(axis=1) instead. To get a de-fragmented frame, use `newframe = frame.copy()`\n",
      "  df[label] = df[\"content\"].str.contains(each)\n",
      "/media/sf_shared_files/Springboard_III/capstone_prep/globalfunction/vv.py:172: PerformanceWarning: DataFrame is highly fragmented.  This is usually the result of calling `frame.insert` many times, which has poor performance.  Consider joining all columns at once using pd.concat(axis=1) instead. To get a de-fragmented frame, use `newframe = frame.copy()`\n",
      "  df[label] = df[\"content\"].str.contains(each)\n",
      "/media/sf_shared_files/Springboard_III/capstone_prep/globalfunction/vv.py:172: PerformanceWarning: DataFrame is highly fragmented.  This is usually the result of calling `frame.insert` many times, which has poor performance.  Consider joining all columns at once using pd.concat(axis=1) instead. To get a de-fragmented frame, use `newframe = frame.copy()`\n",
      "  df[label] = df[\"content\"].str.contains(each)\n"
     ]
    },
    {
     "name": "stdout",
     "output_type": "stream",
     "text": [
      "two bathroom\n",
      "enquiries\n",
      "representation\n"
     ]
    },
    {
     "name": "stderr",
     "output_type": "stream",
     "text": [
      "/media/sf_shared_files/Springboard_III/capstone_prep/globalfunction/vv.py:172: PerformanceWarning: DataFrame is highly fragmented.  This is usually the result of calling `frame.insert` many times, which has poor performance.  Consider joining all columns at once using pd.concat(axis=1) instead. To get a de-fragmented frame, use `newframe = frame.copy()`\n",
      "  df[label] = df[\"content\"].str.contains(each)\n",
      "/media/sf_shared_files/Springboard_III/capstone_prep/globalfunction/vv.py:172: PerformanceWarning: DataFrame is highly fragmented.  This is usually the result of calling `frame.insert` many times, which has poor performance.  Consider joining all columns at once using pd.concat(axis=1) instead. To get a de-fragmented frame, use `newframe = frame.copy()`\n",
      "  df[label] = df[\"content\"].str.contains(each)\n",
      "/media/sf_shared_files/Springboard_III/capstone_prep/globalfunction/vv.py:172: PerformanceWarning: DataFrame is highly fragmented.  This is usually the result of calling `frame.insert` many times, which has poor performance.  Consider joining all columns at once using pd.concat(axis=1) instead. To get a de-fragmented frame, use `newframe = frame.copy()`\n",
      "  df[label] = df[\"content\"].str.contains(each)\n",
      "/media/sf_shared_files/Springboard_III/capstone_prep/globalfunction/vv.py:172: PerformanceWarning: DataFrame is highly fragmented.  This is usually the result of calling `frame.insert` many times, which has poor performance.  Consider joining all columns at once using pd.concat(axis=1) instead. To get a de-fragmented frame, use `newframe = frame.copy()`\n",
      "  df[label] = df[\"content\"].str.contains(each)\n"
     ]
    },
    {
     "name": "stdout",
     "output_type": "stream",
     "text": [
      "natural light\n",
      "perfect\n",
      "restaurant\n",
      "modern bathroom\n"
     ]
    },
    {
     "name": "stderr",
     "output_type": "stream",
     "text": [
      "/media/sf_shared_files/Springboard_III/capstone_prep/globalfunction/vv.py:172: PerformanceWarning: DataFrame is highly fragmented.  This is usually the result of calling `frame.insert` many times, which has poor performance.  Consider joining all columns at once using pd.concat(axis=1) instead. To get a de-fragmented frame, use `newframe = frame.copy()`\n",
      "  df[label] = df[\"content\"].str.contains(each)\n",
      "/media/sf_shared_files/Springboard_III/capstone_prep/globalfunction/vv.py:172: PerformanceWarning: DataFrame is highly fragmented.  This is usually the result of calling `frame.insert` many times, which has poor performance.  Consider joining all columns at once using pd.concat(axis=1) instead. To get a de-fragmented frame, use `newframe = frame.copy()`\n",
      "  df[label] = df[\"content\"].str.contains(each)\n",
      "/media/sf_shared_files/Springboard_III/capstone_prep/globalfunction/vv.py:172: PerformanceWarning: DataFrame is highly fragmented.  This is usually the result of calling `frame.insert` many times, which has poor performance.  Consider joining all columns at once using pd.concat(axis=1) instead. To get a de-fragmented frame, use `newframe = frame.copy()`\n",
      "  df[label] = df[\"content\"].str.contains(each)\n",
      "/media/sf_shared_files/Springboard_III/capstone_prep/globalfunction/vv.py:172: PerformanceWarning: DataFrame is highly fragmented.  This is usually the result of calling `frame.insert` many times, which has poor performance.  Consider joining all columns at once using pd.concat(axis=1) instead. To get a de-fragmented frame, use `newframe = frame.copy()`\n",
      "  df[label] = df[\"content\"].str.contains(each)\n",
      "/media/sf_shared_files/Springboard_III/capstone_prep/globalfunction/vv.py:172: PerformanceWarning: DataFrame is highly fragmented.  This is usually the result of calling `frame.insert` many times, which has poor performance.  Consider joining all columns at once using pd.concat(axis=1) instead. To get a de-fragmented frame, use `newframe = frame.copy()`\n",
      "  df[label] = df[\"content\"].str.contains(each)\n"
     ]
    },
    {
     "name": "stdout",
     "output_type": "stream",
     "text": [
      "contact\n",
      "wash hand\n",
      "position\n",
      "plenty\n",
      "mile\n"
     ]
    },
    {
     "name": "stderr",
     "output_type": "stream",
     "text": [
      "/media/sf_shared_files/Springboard_III/capstone_prep/globalfunction/vv.py:172: PerformanceWarning: DataFrame is highly fragmented.  This is usually the result of calling `frame.insert` many times, which has poor performance.  Consider joining all columns at once using pd.concat(axis=1) instead. To get a de-fragmented frame, use `newframe = frame.copy()`\n",
      "  df[label] = df[\"content\"].str.contains(each)\n",
      "/media/sf_shared_files/Springboard_III/capstone_prep/globalfunction/vv.py:172: PerformanceWarning: DataFrame is highly fragmented.  This is usually the result of calling `frame.insert` many times, which has poor performance.  Consider joining all columns at once using pd.concat(axis=1) instead. To get a de-fragmented frame, use `newframe = frame.copy()`\n",
      "  df[label] = df[\"content\"].str.contains(each)\n",
      "/media/sf_shared_files/Springboard_III/capstone_prep/globalfunction/vv.py:172: PerformanceWarning: DataFrame is highly fragmented.  This is usually the result of calling `frame.insert` many times, which has poor performance.  Consider joining all columns at once using pd.concat(axis=1) instead. To get a de-fragmented frame, use `newframe = frame.copy()`\n",
      "  df[label] = df[\"content\"].str.contains(each)\n",
      "/media/sf_shared_files/Springboard_III/capstone_prep/globalfunction/vv.py:172: PerformanceWarning: DataFrame is highly fragmented.  This is usually the result of calling `frame.insert` many times, which has poor performance.  Consider joining all columns at once using pd.concat(axis=1) instead. To get a de-fragmented frame, use `newframe = frame.copy()`\n",
      "  df[label] = df[\"content\"].str.contains(each)\n",
      "/media/sf_shared_files/Springboard_III/capstone_prep/globalfunction/vv.py:172: PerformanceWarning: DataFrame is highly fragmented.  This is usually the result of calling `frame.insert` many times, which has poor performance.  Consider joining all columns at once using pd.concat(axis=1) instead. To get a de-fragmented frame, use `newframe = frame.copy()`\n",
      "  df[label] = df[\"content\"].str.contains(each)\n"
     ]
    },
    {
     "name": "stdout",
     "output_type": "stream",
     "text": [
      "bedroom one\n",
      "base unit\n",
      "power point\n",
      "looking\n",
      "per annum\n"
     ]
    },
    {
     "name": "stderr",
     "output_type": "stream",
     "text": [
      "/media/sf_shared_files/Springboard_III/capstone_prep/globalfunction/vv.py:172: PerformanceWarning: DataFrame is highly fragmented.  This is usually the result of calling `frame.insert` many times, which has poor performance.  Consider joining all columns at once using pd.concat(axis=1) instead. To get a de-fragmented frame, use `newframe = frame.copy()`\n",
      "  df[label] = df[\"content\"].str.contains(each)\n",
      "/media/sf_shared_files/Springboard_III/capstone_prep/globalfunction/vv.py:172: PerformanceWarning: DataFrame is highly fragmented.  This is usually the result of calling `frame.insert` many times, which has poor performance.  Consider joining all columns at once using pd.concat(axis=1) instead. To get a de-fragmented frame, use `newframe = frame.copy()`\n",
      "  df[label] = df[\"content\"].str.contains(each)\n",
      "/media/sf_shared_files/Springboard_III/capstone_prep/globalfunction/vv.py:172: PerformanceWarning: DataFrame is highly fragmented.  This is usually the result of calling `frame.insert` many times, which has poor performance.  Consider joining all columns at once using pd.concat(axis=1) instead. To get a de-fragmented frame, use `newframe = frame.copy()`\n",
      "  df[label] = df[\"content\"].str.contains(each)\n",
      "/media/sf_shared_files/Springboard_III/capstone_prep/globalfunction/vv.py:172: PerformanceWarning: DataFrame is highly fragmented.  This is usually the result of calling `frame.insert` many times, which has poor performance.  Consider joining all columns at once using pd.concat(axis=1) instead. To get a de-fragmented frame, use `newframe = frame.copy()`\n",
      "  df[label] = df[\"content\"].str.contains(each)\n"
     ]
    },
    {
     "name": "stdout",
     "output_type": "stream",
     "text": [
      "provided solely\n",
      "fridge freezer\n",
      "good size\n",
      "three piece\n"
     ]
    },
    {
     "name": "stderr",
     "output_type": "stream",
     "text": [
      "/media/sf_shared_files/Springboard_III/capstone_prep/globalfunction/vv.py:172: PerformanceWarning: DataFrame is highly fragmented.  This is usually the result of calling `frame.insert` many times, which has poor performance.  Consider joining all columns at once using pd.concat(axis=1) instead. To get a de-fragmented frame, use `newframe = frame.copy()`\n",
      "  df[label] = df[\"content\"].str.contains(each)\n",
      "/media/sf_shared_files/Springboard_III/capstone_prep/globalfunction/vv.py:172: PerformanceWarning: DataFrame is highly fragmented.  This is usually the result of calling `frame.insert` many times, which has poor performance.  Consider joining all columns at once using pd.concat(axis=1) instead. To get a de-fragmented frame, use `newframe = frame.copy()`\n",
      "  df[label] = df[\"content\"].str.contains(each)\n",
      "/media/sf_shared_files/Springboard_III/capstone_prep/globalfunction/vv.py:172: PerformanceWarning: DataFrame is highly fragmented.  This is usually the result of calling `frame.insert` many times, which has poor performance.  Consider joining all columns at once using pd.concat(axis=1) instead. To get a de-fragmented frame, use `newframe = frame.copy()`\n",
      "  df[label] = df[\"content\"].str.contains(each)\n",
      "/media/sf_shared_files/Springboard_III/capstone_prep/globalfunction/vv.py:172: PerformanceWarning: DataFrame is highly fragmented.  This is usually the result of calling `frame.insert` many times, which has poor performance.  Consider joining all columns at once using pd.concat(axis=1) instead. To get a de-fragmented frame, use `newframe = frame.copy()`\n",
      "  df[label] = df[\"content\"].str.contains(each)\n",
      "/media/sf_shared_files/Springboard_III/capstone_prep/globalfunction/vv.py:172: PerformanceWarning: DataFrame is highly fragmented.  This is usually the result of calling `frame.insert` many times, which has poor performance.  Consider joining all columns at once using pd.concat(axis=1) instead. To get a de-fragmented frame, use `newframe = frame.copy()`\n",
      "  df[label] = df[\"content\"].str.contains(each)\n"
     ]
    },
    {
     "name": "stdout",
     "output_type": "stream",
     "text": [
      "form part\n",
      "bay window\n",
      "space\n",
      "front aspect\n",
      "open space\n"
     ]
    },
    {
     "name": "stderr",
     "output_type": "stream",
     "text": [
      "/media/sf_shared_files/Springboard_III/capstone_prep/globalfunction/vv.py:172: PerformanceWarning: DataFrame is highly fragmented.  This is usually the result of calling `frame.insert` many times, which has poor performance.  Consider joining all columns at once using pd.concat(axis=1) instead. To get a de-fragmented frame, use `newframe = frame.copy()`\n",
      "  df[label] = df[\"content\"].str.contains(each)\n",
      "/media/sf_shared_files/Springboard_III/capstone_prep/globalfunction/vv.py:172: PerformanceWarning: DataFrame is highly fragmented.  This is usually the result of calling `frame.insert` many times, which has poor performance.  Consider joining all columns at once using pd.concat(axis=1) instead. To get a de-fragmented frame, use `newframe = frame.copy()`\n",
      "  df[label] = df[\"content\"].str.contains(each)\n",
      "/media/sf_shared_files/Springboard_III/capstone_prep/globalfunction/vv.py:172: PerformanceWarning: DataFrame is highly fragmented.  This is usually the result of calling `frame.insert` many times, which has poor performance.  Consider joining all columns at once using pd.concat(axis=1) instead. To get a de-fragmented frame, use `newframe = frame.copy()`\n",
      "  df[label] = df[\"content\"].str.contains(each)\n",
      "/media/sf_shared_files/Springboard_III/capstone_prep/globalfunction/vv.py:172: PerformanceWarning: DataFrame is highly fragmented.  This is usually the result of calling `frame.insert` many times, which has poor performance.  Consider joining all columns at once using pd.concat(axis=1) instead. To get a de-fragmented frame, use `newframe = frame.copy()`\n",
      "  df[label] = df[\"content\"].str.contains(each)\n",
      "/media/sf_shared_files/Springboard_III/capstone_prep/globalfunction/vv.py:172: PerformanceWarning: DataFrame is highly fragmented.  This is usually the result of calling `frame.insert` many times, which has poor performance.  Consider joining all columns at once using pd.concat(axis=1) instead. To get a de-fragmented frame, use `newframe = frame.copy()`\n",
      "  df[label] = df[\"content\"].str.contains(each)\n"
     ]
    },
    {
     "name": "stdout",
     "output_type": "stream",
     "text": [
      "brochures full\n",
      "delighted\n",
      "modern fitted\n",
      "bathroom suite\n",
      "rear aspect\n"
     ]
    },
    {
     "name": "stderr",
     "output_type": "stream",
     "text": [
      "/media/sf_shared_files/Springboard_III/capstone_prep/globalfunction/vv.py:172: PerformanceWarning: DataFrame is highly fragmented.  This is usually the result of calling `frame.insert` many times, which has poor performance.  Consider joining all columns at once using pd.concat(axis=1) instead. To get a de-fragmented frame, use `newframe = frame.copy()`\n",
      "  df[label] = df[\"content\"].str.contains(each)\n",
      "/media/sf_shared_files/Springboard_III/capstone_prep/globalfunction/vv.py:172: PerformanceWarning: DataFrame is highly fragmented.  This is usually the result of calling `frame.insert` many times, which has poor performance.  Consider joining all columns at once using pd.concat(axis=1) instead. To get a de-fragmented frame, use `newframe = frame.copy()`\n",
      "  df[label] = df[\"content\"].str.contains(each)\n",
      "/media/sf_shared_files/Springboard_III/capstone_prep/globalfunction/vv.py:172: PerformanceWarning: DataFrame is highly fragmented.  This is usually the result of calling `frame.insert` many times, which has poor performance.  Consider joining all columns at once using pd.concat(axis=1) instead. To get a de-fragmented frame, use `newframe = frame.copy()`\n",
      "  df[label] = df[\"content\"].str.contains(each)\n",
      "/media/sf_shared_files/Springboard_III/capstone_prep/globalfunction/vv.py:172: PerformanceWarning: DataFrame is highly fragmented.  This is usually the result of calling `frame.insert` many times, which has poor performance.  Consider joining all columns at once using pd.concat(axis=1) instead. To get a de-fragmented frame, use `newframe = frame.copy()`\n",
      "  df[label] = df[\"content\"].str.contains(each)\n"
     ]
    },
    {
     "name": "stdout",
     "output_type": "stream",
     "text": [
      "minute walk\n",
      "accordingly\n",
      "amenitie\n",
      "good sized\n"
     ]
    },
    {
     "name": "stderr",
     "output_type": "stream",
     "text": [
      "/media/sf_shared_files/Springboard_III/capstone_prep/globalfunction/vv.py:172: PerformanceWarning: DataFrame is highly fragmented.  This is usually the result of calling `frame.insert` many times, which has poor performance.  Consider joining all columns at once using pd.concat(axis=1) instead. To get a de-fragmented frame, use `newframe = frame.copy()`\n",
      "  df[label] = df[\"content\"].str.contains(each)\n",
      "/media/sf_shared_files/Springboard_III/capstone_prep/globalfunction/vv.py:172: PerformanceWarning: DataFrame is highly fragmented.  This is usually the result of calling `frame.insert` many times, which has poor performance.  Consider joining all columns at once using pd.concat(axis=1) instead. To get a de-fragmented frame, use `newframe = frame.copy()`\n",
      "  df[label] = df[\"content\"].str.contains(each)\n",
      "/media/sf_shared_files/Springboard_III/capstone_prep/globalfunction/vv.py:172: PerformanceWarning: DataFrame is highly fragmented.  This is usually the result of calling `frame.insert` many times, which has poor performance.  Consider joining all columns at once using pd.concat(axis=1) instead. To get a de-fragmented frame, use `newframe = frame.copy()`\n",
      "  df[label] = df[\"content\"].str.contains(each)\n"
     ]
    },
    {
     "name": "stdout",
     "output_type": "stream",
     "text": [
      "one double\n",
      "front door\n",
      "office\n"
     ]
    },
    {
     "name": "stderr",
     "output_type": "stream",
     "text": [
      "/media/sf_shared_files/Springboard_III/capstone_prep/globalfunction/vv.py:172: PerformanceWarning: DataFrame is highly fragmented.  This is usually the result of calling `frame.insert` many times, which has poor performance.  Consider joining all columns at once using pd.concat(axis=1) instead. To get a de-fragmented frame, use `newframe = frame.copy()`\n",
      "  df[label] = df[\"content\"].str.contains(each)\n",
      "/media/sf_shared_files/Springboard_III/capstone_prep/globalfunction/vv.py:172: PerformanceWarning: DataFrame is highly fragmented.  This is usually the result of calling `frame.insert` many times, which has poor performance.  Consider joining all columns at once using pd.concat(axis=1) instead. To get a de-fragmented frame, use `newframe = frame.copy()`\n",
      "  df[label] = df[\"content\"].str.contains(each)\n",
      "/media/sf_shared_files/Springboard_III/capstone_prep/globalfunction/vv.py:172: PerformanceWarning: DataFrame is highly fragmented.  This is usually the result of calling `frame.insert` many times, which has poor performance.  Consider joining all columns at once using pd.concat(axis=1) instead. To get a de-fragmented frame, use `newframe = frame.copy()`\n",
      "  df[label] = df[\"content\"].str.contains(each)\n",
      "/media/sf_shared_files/Springboard_III/capstone_prep/globalfunction/vv.py:172: PerformanceWarning: DataFrame is highly fragmented.  This is usually the result of calling `frame.insert` many times, which has poor performance.  Consider joining all columns at once using pd.concat(axis=1) instead. To get a de-fragmented frame, use `newframe = frame.copy()`\n",
      "  df[label] = df[\"content\"].str.contains(each)\n",
      "/media/sf_shared_files/Springboard_III/capstone_prep/globalfunction/vv.py:172: PerformanceWarning: DataFrame is highly fragmented.  This is usually the result of calling `frame.insert` many times, which has poor performance.  Consider joining all columns at once using pd.concat(axis=1) instead. To get a de-fragmented frame, use `newframe = frame.copy()`\n",
      "  df[label] = df[\"content\"].str.contains(each)\n"
     ]
    },
    {
     "name": "stdout",
     "output_type": "stream",
     "text": [
      "south facing\n",
      "highly recommended\n",
      "walk away\n",
      "green space\n",
      "bedroom ground\n"
     ]
    },
    {
     "name": "stderr",
     "output_type": "stream",
     "text": [
      "/media/sf_shared_files/Springboard_III/capstone_prep/globalfunction/vv.py:172: PerformanceWarning: DataFrame is highly fragmented.  This is usually the result of calling `frame.insert` many times, which has poor performance.  Consider joining all columns at once using pd.concat(axis=1) instead. To get a de-fragmented frame, use `newframe = frame.copy()`\n",
      "  df[label] = df[\"content\"].str.contains(each)\n",
      "/media/sf_shared_files/Springboard_III/capstone_prep/globalfunction/vv.py:172: PerformanceWarning: DataFrame is highly fragmented.  This is usually the result of calling `frame.insert` many times, which has poor performance.  Consider joining all columns at once using pd.concat(axis=1) instead. To get a de-fragmented frame, use `newframe = frame.copy()`\n",
      "  df[label] = df[\"content\"].str.contains(each)\n",
      "/media/sf_shared_files/Springboard_III/capstone_prep/globalfunction/vv.py:172: PerformanceWarning: DataFrame is highly fragmented.  This is usually the result of calling `frame.insert` many times, which has poor performance.  Consider joining all columns at once using pd.concat(axis=1) instead. To get a de-fragmented frame, use `newframe = frame.copy()`\n",
      "  df[label] = df[\"content\"].str.contains(each)\n",
      "/media/sf_shared_files/Springboard_III/capstone_prep/globalfunction/vv.py:172: PerformanceWarning: DataFrame is highly fragmented.  This is usually the result of calling `frame.insert` many times, which has poor performance.  Consider joining all columns at once using pd.concat(axis=1) instead. To get a de-fragmented frame, use `newframe = frame.copy()`\n",
      "  df[label] = df[\"content\"].str.contains(each)\n"
     ]
    },
    {
     "name": "stdout",
     "output_type": "stream",
     "text": [
      "living area\n",
      "canary wharf\n",
      "wood flooring\n",
      "excellent transport\n"
     ]
    },
    {
     "name": "stderr",
     "output_type": "stream",
     "text": [
      "/media/sf_shared_files/Springboard_III/capstone_prep/globalfunction/vv.py:172: PerformanceWarning: DataFrame is highly fragmented.  This is usually the result of calling `frame.insert` many times, which has poor performance.  Consider joining all columns at once using pd.concat(axis=1) instead. To get a de-fragmented frame, use `newframe = frame.copy()`\n",
      "  df[label] = df[\"content\"].str.contains(each)\n",
      "/media/sf_shared_files/Springboard_III/capstone_prep/globalfunction/vv.py:172: PerformanceWarning: DataFrame is highly fragmented.  This is usually the result of calling `frame.insert` many times, which has poor performance.  Consider joining all columns at once using pd.concat(axis=1) instead. To get a de-fragmented frame, use `newframe = frame.copy()`\n",
      "  df[label] = df[\"content\"].str.contains(each)\n",
      "/media/sf_shared_files/Springboard_III/capstone_prep/globalfunction/vv.py:172: PerformanceWarning: DataFrame is highly fragmented.  This is usually the result of calling `frame.insert` many times, which has poor performance.  Consider joining all columns at once using pd.concat(axis=1) instead. To get a de-fragmented frame, use `newframe = frame.copy()`\n",
      "  df[label] = df[\"content\"].str.contains(each)\n",
      "/media/sf_shared_files/Springboard_III/capstone_prep/globalfunction/vv.py:172: PerformanceWarning: DataFrame is highly fragmented.  This is usually the result of calling `frame.insert` many times, which has poor performance.  Consider joining all columns at once using pd.concat(axis=1) instead. To get a de-fragmented frame, use `newframe = frame.copy()`\n",
      "  df[label] = df[\"content\"].str.contains(each)\n"
     ]
    },
    {
     "name": "stdout",
     "output_type": "stream",
     "text": [
      "equipment\n",
      "wall mounted\n",
      "primary school\n",
      "fact\n"
     ]
    },
    {
     "name": "stderr",
     "output_type": "stream",
     "text": [
      "/media/sf_shared_files/Springboard_III/capstone_prep/globalfunction/vv.py:172: PerformanceWarning: DataFrame is highly fragmented.  This is usually the result of calling `frame.insert` many times, which has poor performance.  Consider joining all columns at once using pd.concat(axis=1) instead. To get a de-fragmented frame, use `newframe = frame.copy()`\n",
      "  df[label] = df[\"content\"].str.contains(each)\n",
      "/media/sf_shared_files/Springboard_III/capstone_prep/globalfunction/vv.py:172: PerformanceWarning: DataFrame is highly fragmented.  This is usually the result of calling `frame.insert` many times, which has poor performance.  Consider joining all columns at once using pd.concat(axis=1) instead. To get a de-fragmented frame, use `newframe = frame.copy()`\n",
      "  df[label] = df[\"content\"].str.contains(each)\n",
      "/media/sf_shared_files/Springboard_III/capstone_prep/globalfunction/vv.py:172: PerformanceWarning: DataFrame is highly fragmented.  This is usually the result of calling `frame.insert` many times, which has poor performance.  Consider joining all columns at once using pd.concat(axis=1) instead. To get a de-fragmented frame, use `newframe = frame.copy()`\n",
      "  df[label] = df[\"content\"].str.contains(each)\n",
      "/media/sf_shared_files/Springboard_III/capstone_prep/globalfunction/vv.py:172: PerformanceWarning: DataFrame is highly fragmented.  This is usually the result of calling `frame.insert` many times, which has poor performance.  Consider joining all columns at once using pd.concat(axis=1) instead. To get a de-fragmented frame, use `newframe = frame.copy()`\n",
      "  df[label] = df[\"content\"].str.contains(each)\n"
     ]
    },
    {
     "name": "stdout",
     "output_type": "stream",
     "text": [
      "built\n",
      "seller\n",
      "guidance\n",
      "dining area\n"
     ]
    },
    {
     "name": "stderr",
     "output_type": "stream",
     "text": [
      "/media/sf_shared_files/Springboard_III/capstone_prep/globalfunction/vv.py:172: PerformanceWarning: DataFrame is highly fragmented.  This is usually the result of calling `frame.insert` many times, which has poor performance.  Consider joining all columns at once using pd.concat(axis=1) instead. To get a de-fragmented frame, use `newframe = frame.copy()`\n",
      "  df[label] = df[\"content\"].str.contains(each)\n",
      "/media/sf_shared_files/Springboard_III/capstone_prep/globalfunction/vv.py:172: PerformanceWarning: DataFrame is highly fragmented.  This is usually the result of calling `frame.insert` many times, which has poor performance.  Consider joining all columns at once using pd.concat(axis=1) instead. To get a de-fragmented frame, use `newframe = frame.copy()`\n",
      "  df[label] = df[\"content\"].str.contains(each)\n",
      "/media/sf_shared_files/Springboard_III/capstone_prep/globalfunction/vv.py:172: PerformanceWarning: DataFrame is highly fragmented.  This is usually the result of calling `frame.insert` many times, which has poor performance.  Consider joining all columns at once using pd.concat(axis=1) instead. To get a de-fragmented frame, use `newframe = frame.copy()`\n",
      "  df[label] = df[\"content\"].str.contains(each)\n",
      "/media/sf_shared_files/Springboard_III/capstone_prep/globalfunction/vv.py:172: PerformanceWarning: DataFrame is highly fragmented.  This is usually the result of calling `frame.insert` many times, which has poor performance.  Consider joining all columns at once using pd.concat(axis=1) instead. To get a de-fragmented frame, use `newframe = frame.copy()`\n",
      "  df[label] = df[\"content\"].str.contains(each)\n",
      "/media/sf_shared_files/Springboard_III/capstone_prep/globalfunction/vv.py:172: PerformanceWarning: DataFrame is highly fragmented.  This is usually the result of calling `frame.insert` many times, which has poor performance.  Consider joining all columns at once using pd.concat(axis=1) instead. To get a de-fragmented frame, use `newframe = frame.copy()`\n",
      "  df[label] = df[\"content\"].str.contains(each)\n"
     ]
    },
    {
     "name": "stdout",
     "output_type": "stream",
     "text": [
      "wardrobe\n",
      "stainless steel\n",
      "fully fitted\n",
      "bedroom first\n",
      "call\n"
     ]
    },
    {
     "name": "stderr",
     "output_type": "stream",
     "text": [
      "/media/sf_shared_files/Springboard_III/capstone_prep/globalfunction/vv.py:172: PerformanceWarning: DataFrame is highly fragmented.  This is usually the result of calling `frame.insert` many times, which has poor performance.  Consider joining all columns at once using pd.concat(axis=1) instead. To get a de-fragmented frame, use `newframe = frame.copy()`\n",
      "  df[label] = df[\"content\"].str.contains(each)\n",
      "/media/sf_shared_files/Springboard_III/capstone_prep/globalfunction/vv.py:172: PerformanceWarning: DataFrame is highly fragmented.  This is usually the result of calling `frame.insert` many times, which has poor performance.  Consider joining all columns at once using pd.concat(axis=1) instead. To get a de-fragmented frame, use `newframe = frame.copy()`\n",
      "  df[label] = df[\"content\"].str.contains(each)\n",
      "/media/sf_shared_files/Springboard_III/capstone_prep/globalfunction/vv.py:172: PerformanceWarning: DataFrame is highly fragmented.  This is usually the result of calling `frame.insert` many times, which has poor performance.  Consider joining all columns at once using pd.concat(axis=1) instead. To get a de-fragmented frame, use `newframe = frame.copy()`\n",
      "  df[label] = df[\"content\"].str.contains(each)\n",
      "/media/sf_shared_files/Springboard_III/capstone_prep/globalfunction/vv.py:172: PerformanceWarning: DataFrame is highly fragmented.  This is usually the result of calling `frame.insert` many times, which has poor performance.  Consider joining all columns at once using pd.concat(axis=1) instead. To get a de-fragmented frame, use `newframe = frame.copy()`\n",
      "  df[label] = df[\"content\"].str.contains(each)\n",
      "/media/sf_shared_files/Springboard_III/capstone_prep/globalfunction/vv.py:172: PerformanceWarning: DataFrame is highly fragmented.  This is usually the result of calling `frame.insert` many times, which has poor performance.  Consider joining all columns at once using pd.concat(axis=1) instead. To get a de-fragmented frame, use `newframe = frame.copy()`\n",
      "  df[label] = df[\"content\"].str.contains(each)\n"
     ]
    },
    {
     "name": "stdout",
     "output_type": "stream",
     "text": [
      "private rear\n",
      "direct access\n",
      "mainline station\n",
      "guide price\n",
      "split level\n"
     ]
    },
    {
     "name": "stderr",
     "output_type": "stream",
     "text": [
      "/media/sf_shared_files/Springboard_III/capstone_prep/globalfunction/vv.py:172: PerformanceWarning: DataFrame is highly fragmented.  This is usually the result of calling `frame.insert` many times, which has poor performance.  Consider joining all columns at once using pd.concat(axis=1) instead. To get a de-fragmented frame, use `newframe = frame.copy()`\n",
      "  df[label] = df[\"content\"].str.contains(each)\n",
      "/media/sf_shared_files/Springboard_III/capstone_prep/globalfunction/vv.py:172: PerformanceWarning: DataFrame is highly fragmented.  This is usually the result of calling `frame.insert` many times, which has poor performance.  Consider joining all columns at once using pd.concat(axis=1) instead. To get a de-fragmented frame, use `newframe = frame.copy()`\n",
      "  df[label] = df[\"content\"].str.contains(each)\n",
      "/media/sf_shared_files/Springboard_III/capstone_prep/globalfunction/vv.py:172: PerformanceWarning: DataFrame is highly fragmented.  This is usually the result of calling `frame.insert` many times, which has poor performance.  Consider joining all columns at once using pd.concat(axis=1) instead. To get a de-fragmented frame, use `newframe = frame.copy()`\n",
      "  df[label] = df[\"content\"].str.contains(each)\n",
      "/media/sf_shared_files/Springboard_III/capstone_prep/globalfunction/vv.py:172: PerformanceWarning: DataFrame is highly fragmented.  This is usually the result of calling `frame.insert` many times, which has poor performance.  Consider joining all columns at once using pd.concat(axis=1) instead. To get a de-fragmented frame, use `newframe = frame.copy()`\n",
      "  df[label] = df[\"content\"].str.contains(each)\n",
      "/media/sf_shared_files/Springboard_III/capstone_prep/globalfunction/vv.py:172: PerformanceWarning: DataFrame is highly fragmented.  This is usually the result of calling `frame.insert` many times, which has poor performance.  Consider joining all columns at once using pd.concat(axis=1) instead. To get a de-fragmented frame, use `newframe = frame.copy()`\n",
      "  df[label] = df[\"content\"].str.contains(each)\n"
     ]
    },
    {
     "name": "stdout",
     "output_type": "stream",
     "text": [
      "present\n",
      "appliance\n",
      "brochures web\n",
      "popular\n",
      "comprise\n"
     ]
    },
    {
     "name": "stderr",
     "output_type": "stream",
     "text": [
      "/media/sf_shared_files/Springboard_III/capstone_prep/globalfunction/vv.py:172: PerformanceWarning: DataFrame is highly fragmented.  This is usually the result of calling `frame.insert` many times, which has poor performance.  Consider joining all columns at once using pd.concat(axis=1) instead. To get a de-fragmented frame, use `newframe = frame.copy()`\n",
      "  df[label] = df[\"content\"].str.contains(each)\n",
      "/media/sf_shared_files/Springboard_III/capstone_prep/globalfunction/vv.py:172: PerformanceWarning: DataFrame is highly fragmented.  This is usually the result of calling `frame.insert` many times, which has poor performance.  Consider joining all columns at once using pd.concat(axis=1) instead. To get a de-fragmented frame, use `newframe = frame.copy()`\n",
      "  df[label] = df[\"content\"].str.contains(each)\n",
      "/media/sf_shared_files/Springboard_III/capstone_prep/globalfunction/vv.py:172: PerformanceWarning: DataFrame is highly fragmented.  This is usually the result of calling `frame.insert` many times, which has poor performance.  Consider joining all columns at once using pd.concat(axis=1) instead. To get a de-fragmented frame, use `newframe = frame.copy()`\n",
      "  df[label] = df[\"content\"].str.contains(each)\n",
      "/media/sf_shared_files/Springboard_III/capstone_prep/globalfunction/vv.py:172: PerformanceWarning: DataFrame is highly fragmented.  This is usually the result of calling `frame.insert` many times, which has poor performance.  Consider joining all columns at once using pd.concat(axis=1) instead. To get a de-fragmented frame, use `newframe = frame.copy()`\n",
      "  df[label] = df[\"content\"].str.contains(each)\n"
     ]
    },
    {
     "name": "stdout",
     "output_type": "stream",
     "text": [
      "web details\n",
      "conveniently located\n",
      "year lease\n",
      "moment\n"
     ]
    },
    {
     "name": "stderr",
     "output_type": "stream",
     "text": [
      "/media/sf_shared_files/Springboard_III/capstone_prep/globalfunction/vv.py:172: PerformanceWarning: DataFrame is highly fragmented.  This is usually the result of calling `frame.insert` many times, which has poor performance.  Consider joining all columns at once using pd.concat(axis=1) instead. To get a de-fragmented frame, use `newframe = frame.copy()`\n",
      "  df[label] = df[\"content\"].str.contains(each)\n",
      "/media/sf_shared_files/Springboard_III/capstone_prep/globalfunction/vv.py:172: PerformanceWarning: DataFrame is highly fragmented.  This is usually the result of calling `frame.insert` many times, which has poor performance.  Consider joining all columns at once using pd.concat(axis=1) instead. To get a de-fragmented frame, use `newframe = frame.copy()`\n",
      "  df[label] = df[\"content\"].str.contains(each)\n",
      "/media/sf_shared_files/Springboard_III/capstone_prep/globalfunction/vv.py:172: PerformanceWarning: DataFrame is highly fragmented.  This is usually the result of calling `frame.insert` many times, which has poor performance.  Consider joining all columns at once using pd.concat(axis=1) instead. To get a de-fragmented frame, use `newframe = frame.copy()`\n",
      "  df[label] = df[\"content\"].str.contains(each)\n",
      "/media/sf_shared_files/Springboard_III/capstone_prep/globalfunction/vv.py:172: PerformanceWarning: DataFrame is highly fragmented.  This is usually the result of calling `frame.insert` many times, which has poor performance.  Consider joining all columns at once using pd.concat(axis=1) instead. To get a de-fragmented frame, use `newframe = frame.copy()`\n",
      "  df[label] = df[\"content\"].str.contains(each)\n"
     ]
    },
    {
     "name": "stdout",
     "output_type": "stream",
     "text": [
      "found\n",
      "cul de\n",
      "advised\n",
      "de sac\n"
     ]
    },
    {
     "name": "stderr",
     "output_type": "stream",
     "text": [
      "/media/sf_shared_files/Springboard_III/capstone_prep/globalfunction/vv.py:172: PerformanceWarning: DataFrame is highly fragmented.  This is usually the result of calling `frame.insert` many times, which has poor performance.  Consider joining all columns at once using pd.concat(axis=1) instead. To get a de-fragmented frame, use `newframe = frame.copy()`\n",
      "  df[label] = df[\"content\"].str.contains(each)\n",
      "/media/sf_shared_files/Springboard_III/capstone_prep/globalfunction/vv.py:172: PerformanceWarning: DataFrame is highly fragmented.  This is usually the result of calling `frame.insert` many times, which has poor performance.  Consider joining all columns at once using pd.concat(axis=1) instead. To get a de-fragmented frame, use `newframe = frame.copy()`\n",
      "  df[label] = df[\"content\"].str.contains(each)\n",
      "/media/sf_shared_files/Springboard_III/capstone_prep/globalfunction/vv.py:172: PerformanceWarning: DataFrame is highly fragmented.  This is usually the result of calling `frame.insert` many times, which has poor performance.  Consider joining all columns at once using pd.concat(axis=1) instead. To get a de-fragmented frame, use `newframe = frame.copy()`\n",
      "  df[label] = df[\"content\"].str.contains(each)\n",
      "/media/sf_shared_files/Springboard_III/capstone_prep/globalfunction/vv.py:172: PerformanceWarning: DataFrame is highly fragmented.  This is usually the result of calling `frame.insert` many times, which has poor performance.  Consider joining all columns at once using pd.concat(axis=1) instead. To get a de-fragmented frame, use `newframe = frame.copy()`\n",
      "  df[label] = df[\"content\"].str.contains(each)\n"
     ]
    },
    {
     "name": "stdout",
     "output_type": "stream",
     "text": [
      "shared ownership\n",
      "ideally located\n",
      "garage\n",
      "reliable\n"
     ]
    },
    {
     "name": "stderr",
     "output_type": "stream",
     "text": [
      "/media/sf_shared_files/Springboard_III/capstone_prep/globalfunction/vv.py:172: PerformanceWarning: DataFrame is highly fragmented.  This is usually the result of calling `frame.insert` many times, which has poor performance.  Consider joining all columns at once using pd.concat(axis=1) instead. To get a de-fragmented frame, use `newframe = frame.copy()`\n",
      "  df[label] = df[\"content\"].str.contains(each)\n",
      "/media/sf_shared_files/Springboard_III/capstone_prep/globalfunction/vv.py:172: PerformanceWarning: DataFrame is highly fragmented.  This is usually the result of calling `frame.insert` many times, which has poor performance.  Consider joining all columns at once using pd.concat(axis=1) instead. To get a de-fragmented frame, use `newframe = frame.copy()`\n",
      "  df[label] = df[\"content\"].str.contains(each)\n",
      "/media/sf_shared_files/Springboard_III/capstone_prep/globalfunction/vv.py:172: PerformanceWarning: DataFrame is highly fragmented.  This is usually the result of calling `frame.insert` many times, which has poor performance.  Consider joining all columns at once using pd.concat(axis=1) instead. To get a de-fragmented frame, use `newframe = frame.copy()`\n",
      "  df[label] = df[\"content\"].str.contains(each)\n",
      "/media/sf_shared_files/Springboard_III/capstone_prep/globalfunction/vv.py:172: PerformanceWarning: DataFrame is highly fragmented.  This is usually the result of calling `frame.insert` many times, which has poor performance.  Consider joining all columns at once using pd.concat(axis=1) instead. To get a de-fragmented frame, use `newframe = frame.copy()`\n",
      "  df[label] = df[\"content\"].str.contains(each)\n"
     ]
    },
    {
     "name": "stdout",
     "output_type": "stream",
     "text": [
      "ample storage\n",
      "floor maisonette\n",
      "spacious reception\n",
      "Index(['Price', 'location.latitude', 'location.longitude',\n",
      "       'distance_to_any_train', 'bedrooms_model', 'bathrooms_model',\n",
      "       'analyticsProperty.imageCount', 'analyticsProperty.added',\n",
      "       'floorplan_count', 'property_age', 'bullet_points', 'long_description',\n",
      "       'borough_name_Barking and Dagenham', 'borough_name_Barnet',\n",
      "       'borough_name_Bexley', 'borough_name_City of London',\n",
      "       'borough_name_Croydon', 'borough_name_Ealing', 'borough_name_Enfield',\n",
      "       'borough_name_Greenwich', 'borough_name_Havering',\n",
      "       'borough_name_Hillingdon', 'borough_name_Hounslow',\n",
      "       'borough_name_Islington', 'borough_name_Kensington and Chelsea',\n",
      "       'borough_name_Kingston upon Thames', 'borough_name_Lambeth',\n",
      "       'borough_name_Lewisham', 'borough_name_Redbridge',\n",
      "       'borough_name_Sutton', 'borough_name_Tower Hamlets',\n",
      "       'borough_name_Waltham Forest', 'borough_name_Wandsworth',\n",
      "       'borough_name_Westminster', 'analyticsProperty.propertyType_Bungalows',\n",
      "       'analyticsProperty.propertyType_Character Property',\n",
      "       'analyticsProperty.propertyType_Flats / Apartments',\n",
      "       'analyticsProperty.propertyType_Houses',\n",
      "       'analyticsProperty.propertyType_Land',\n",
      "       'analyticsProperty.propertyType_Not Specified',\n",
      "       'propertySubType_Apartment', 'propertySubType_Block of Apartments',\n",
      "       'propertySubType_Bungalow', 'propertySubType_Character Property',\n",
      "       'propertySubType_Cottage', 'propertySubType_Detached',\n",
      "       'propertySubType_Detached Bungalow', 'propertySubType_Duplex',\n",
      "       'propertySubType_End of Terrace', 'propertySubType_Flat',\n",
      "       'propertySubType_Ground Flat', 'propertySubType_Ground Maisonette',\n",
      "       'propertySubType_Hotel Room', 'propertySubType_House',\n",
      "       'propertySubType_Link Detached House', 'propertySubType_Maisonette',\n",
      "       'propertySubType_Mews', 'propertySubType_Not Specified',\n",
      "       'propertySubType_Penthouse', 'propertySubType_Semi-Detached',\n",
      "       'propertySubType_Semi-Detached Bungalow', 'propertySubType_Studio',\n",
      "       'propertySubType_Terraced', 'propertySubType_Terraced Bungalow',\n",
      "       'propertySubType_Town House', 'coarse_compass_direction_BR',\n",
      "       'coarse_compass_direction_CR', 'coarse_compass_direction_DA',\n",
      "       'coarse_compass_direction_E', 'coarse_compass_direction_EC',\n",
      "       'coarse_compass_direction_EN', 'coarse_compass_direction_England',\n",
      "       'coarse_compass_direction_HA', 'coarse_compass_direction_IG',\n",
      "       'coarse_compass_direction_KT', 'coarse_compass_direction_N',\n",
      "       'coarse_compass_direction_NW', 'coarse_compass_direction_RM',\n",
      "       'coarse_compass_direction_SE', 'coarse_compass_direction_SM',\n",
      "       'coarse_compass_direction_SW', 'coarse_compass_direction_TW',\n",
      "       'coarse_compass_direction_UB', 'coarse_compass_direction_W',\n",
      "       'coarse_compass_direction_WC', 'coarse_compass_direction_WD',\n",
      "       'tenure.tenureType_FREEHOLD', 'tenure.tenureType_LEASEHOLD',\n",
      "       'tenure.tenureType_SHARE_OF_FREEHOLD', 'content',\n",
      "       'content__double_bedroom', 'content__double_glazed',\n",
      "       'content__first_floor', 'content__glazed_window',\n",
      "       'content__reception_room', 'content__ground_floor',\n",
      "       'content__open_plan', 'content__rear_garden', 'content__two_bedroom',\n",
      "       'content__fitted_kitchen', 'content__two_double',\n",
      "       'content__transport_link', 'content__chain_free',\n",
      "       'content__one_bedroom', 'content__three_bedroom',\n",
      "       'content__communal_garden', 'content__street_parking',\n",
      "       'content__family_bathroom', 'content__bedroom_apartment',\n",
      "       'content__will', 'content__walking_distance', 'content__living_room',\n",
      "       'content__close', 'content__service_charge', 'content__central_heating',\n",
      "       'content__benefits', 'content__shower_room', 'content__ground_rent',\n",
      "       'content__access', 'content__first_time', 'content__council_tax',\n",
      "       'content__gas_central', 'content__allocated_parking',\n",
      "       'content__entrance_hall', 'content__en_suite', 'content__information',\n",
      "       'content__dining_room', 'content__local_amenities',\n",
      "       'content__double_glazing', 'content__private_balcony',\n",
      "       'content__short_walk', 'content__high_street', 'content__plan_kitchen',\n",
      "       'content__located', 'content__tax_band', 'content__easy_access',\n",
      "       'content__sq_ft', 'content__onward_chain',\n",
      "       'content__information_provided', 'content__floor_apartment',\n",
      "       'content__estate_agent', 'content__parking_space',\n",
      "       'content__storage_cupboard', 'content__share', 'content__town_centre',\n",
      "       'content__floor_flat', 'content__full_detail',\n",
      "       'content__strongly_advise', 'content__within_easy', 'content__freehold',\n",
      "       'content__market', 'content__purpose_built', 'content__bedroom_two',\n",
      "       'content__pleased', 'content__viewing', 'content__second_floor',\n",
      "       'content__situated', 'content__sought', 'content__private_garden',\n",
      "       'content__w_c', 'content__bright', 'content__front',\n",
      "       'content__available', 'content__fitted_wardrobe', 'content__time_buyer',\n",
      "       'content__heart', 'content__within_walking', 'content__train_station',\n",
      "       'content__master_bedroom', 'content__local_shop',\n",
      "       'content__central_london', 'content__top_floor',\n",
      "       'content__kitchen_diner', 'content__ideal', 'content__tiled_wall',\n",
      "       'content__view', 'content__long_lease', 'content__offers',\n",
      "       'content__bedroom_flat', 'content__bus_route',\n",
      "       'content__underground_station', 'content__mixer_tap',\n",
      "       'content__contract', 'content__hand_basin', 'content__offered',\n",
      "       'content__epc_rating', 'content__modern_kitchen',\n",
      "       'content__living_space', 'content__plan_living', 'content__easy_reach',\n",
      "       'content__city', 'content__years_remaining', 'content__semi_detached',\n",
      "       'content__close_proximity', 'content__vendor',\n",
      "       'content__washing_machine', 'content__located_within',\n",
      "       'content__integrated_appliance', 'content__tube_station',\n",
      "       'content__separate_kitchen', 'content__low_level',\n",
      "       'content__benefits_include', 'content__brochures_particular',\n",
      "       'content__prospective_buyer', 'content__laminate_flooring',\n",
      "       'content__two_bathroom', 'content__enquiries',\n",
      "       'content__representation', 'content__natural_light', 'content__perfect',\n",
      "       'content__restaurant', 'content__modern_bathroom', 'content__contact',\n",
      "       'content__wash_hand', 'content__position', 'content__plenty',\n",
      "       'content__mile', 'content__bedroom_one', 'content__base_unit',\n",
      "       'content__power_point', 'content__looking', 'content__per_annum',\n",
      "       'content__provided_solely', 'content__fridge_freezer',\n",
      "       'content__good_size', 'content__three_piece', 'content__form_part',\n",
      "       'content__bay_window', 'content__space', 'content__front_aspect',\n",
      "       'content__open_space', 'content__brochures_full', 'content__delighted',\n",
      "       'content__modern_fitted', 'content__bathroom_suite',\n",
      "       'content__rear_aspect', 'content__minute_walk', 'content__accordingly',\n",
      "       'content__amenitie', 'content__good_sized', 'content__one_double',\n",
      "       'content__front_door', 'content__office', 'content__south_facing',\n",
      "       'content__highly_recommended', 'content__walk_away',\n",
      "       'content__green_space', 'content__bedroom_ground',\n",
      "       'content__living_area', 'content__canary_wharf',\n",
      "       'content__wood_flooring', 'content__excellent_transport',\n",
      "       'content__equipment', 'content__wall_mounted',\n",
      "       'content__primary_school', 'content__fact', 'content__built',\n",
      "       'content__seller', 'content__guidance', 'content__dining_area',\n",
      "       'content__wardrobe', 'content__stainless_steel',\n",
      "       'content__fully_fitted', 'content__bedroom_first', 'content__call',\n",
      "       'content__private_rear', 'content__direct_access',\n",
      "       'content__mainline_station', 'content__guide_price',\n",
      "       'content__split_level', 'content__present', 'content__appliance',\n",
      "       'content__brochures_web', 'content__popular', 'content__comprise',\n",
      "       'content__web_details', 'content__conveniently_located',\n",
      "       'content__year_lease', 'content__moment', 'content__found',\n",
      "       'content__cul_de', 'content__advised', 'content__de_sac',\n",
      "       'content__shared_ownership', 'content__ideally_located',\n",
      "       'content__garage', 'content__reliable', 'content__ample_storage',\n",
      "       'content__floor_maisonette', 'content__spacious_reception'],\n",
      "      dtype='object')\n",
      "Index(['Price', 'location.latitude', 'location.longitude',\n",
      "       'distance_to_any_train', 'bedrooms_model', 'bathrooms_model',\n",
      "       'analyticsProperty.imageCount', 'analyticsProperty.added',\n",
      "       'floorplan_count', 'property_age', 'borough_name_Barking and Dagenham',\n",
      "       'borough_name_Barnet', 'borough_name_Bexley',\n",
      "       'borough_name_City of London', 'borough_name_Croydon',\n",
      "       'borough_name_Ealing', 'borough_name_Enfield', 'borough_name_Greenwich',\n",
      "       'borough_name_Havering', 'borough_name_Hillingdon',\n",
      "       'borough_name_Hounslow', 'borough_name_Islington',\n",
      "       'borough_name_Kensington and Chelsea',\n",
      "       'borough_name_Kingston upon Thames', 'borough_name_Lambeth',\n",
      "       'borough_name_Lewisham', 'borough_name_Redbridge',\n",
      "       'borough_name_Sutton', 'borough_name_Tower Hamlets',\n",
      "       'borough_name_Waltham Forest', 'borough_name_Wandsworth',\n",
      "       'borough_name_Westminster', 'analyticsProperty.propertyType_Bungalows',\n",
      "       'analyticsProperty.propertyType_Character Property',\n",
      "       'analyticsProperty.propertyType_Flats / Apartments',\n",
      "       'analyticsProperty.propertyType_Houses',\n",
      "       'analyticsProperty.propertyType_Land',\n",
      "       'analyticsProperty.propertyType_Not Specified',\n",
      "       'propertySubType_Apartment', 'propertySubType_Block of Apartments',\n",
      "       'propertySubType_Bungalow', 'propertySubType_Character Property',\n",
      "       'propertySubType_Cottage', 'propertySubType_Detached',\n",
      "       'propertySubType_Detached Bungalow', 'propertySubType_Duplex',\n",
      "       'propertySubType_End of Terrace', 'propertySubType_Flat',\n",
      "       'propertySubType_Ground Flat', 'propertySubType_Ground Maisonette',\n",
      "       'propertySubType_Hotel Room', 'propertySubType_House',\n",
      "       'propertySubType_Link Detached House', 'propertySubType_Maisonette',\n",
      "       'propertySubType_Mews', 'propertySubType_Not Specified',\n",
      "       'propertySubType_Penthouse', 'propertySubType_Semi-Detached',\n",
      "       'propertySubType_Semi-Detached Bungalow', 'propertySubType_Studio',\n",
      "       'propertySubType_Terraced', 'propertySubType_Terraced Bungalow',\n",
      "       'propertySubType_Town House', 'coarse_compass_direction_BR',\n",
      "       'coarse_compass_direction_CR', 'coarse_compass_direction_DA',\n",
      "       'coarse_compass_direction_E', 'coarse_compass_direction_EC',\n",
      "       'coarse_compass_direction_EN', 'coarse_compass_direction_England',\n",
      "       'coarse_compass_direction_HA', 'coarse_compass_direction_IG',\n",
      "       'coarse_compass_direction_KT', 'coarse_compass_direction_N',\n",
      "       'coarse_compass_direction_NW', 'coarse_compass_direction_RM',\n",
      "       'coarse_compass_direction_SE', 'coarse_compass_direction_SM',\n",
      "       'coarse_compass_direction_SW', 'coarse_compass_direction_TW',\n",
      "       'coarse_compass_direction_UB', 'coarse_compass_direction_W',\n",
      "       'coarse_compass_direction_WC', 'coarse_compass_direction_WD',\n",
      "       'tenure.tenureType_FREEHOLD', 'tenure.tenureType_LEASEHOLD',\n",
      "       'tenure.tenureType_SHARE_OF_FREEHOLD', 'content__double_bedroom',\n",
      "       'content__double_glazed', 'content__first_floor',\n",
      "       'content__glazed_window', 'content__reception_room',\n",
      "       'content__ground_floor', 'content__open_plan', 'content__rear_garden',\n",
      "       'content__two_bedroom', 'content__fitted_kitchen',\n",
      "       'content__two_double', 'content__transport_link', 'content__chain_free',\n",
      "       'content__one_bedroom', 'content__three_bedroom',\n",
      "       'content__communal_garden', 'content__street_parking',\n",
      "       'content__family_bathroom', 'content__bedroom_apartment',\n",
      "       'content__will', 'content__walking_distance', 'content__living_room',\n",
      "       'content__close', 'content__service_charge', 'content__central_heating',\n",
      "       'content__benefits', 'content__shower_room', 'content__ground_rent',\n",
      "       'content__access', 'content__first_time', 'content__council_tax',\n",
      "       'content__gas_central', 'content__allocated_parking',\n",
      "       'content__entrance_hall', 'content__en_suite', 'content__information',\n",
      "       'content__dining_room', 'content__local_amenities',\n",
      "       'content__double_glazing', 'content__private_balcony',\n",
      "       'content__short_walk', 'content__high_street', 'content__plan_kitchen',\n",
      "       'content__located', 'content__tax_band', 'content__easy_access',\n",
      "       'content__sq_ft', 'content__onward_chain',\n",
      "       'content__information_provided', 'content__floor_apartment',\n",
      "       'content__estate_agent', 'content__parking_space',\n",
      "       'content__storage_cupboard', 'content__share', 'content__town_centre',\n",
      "       'content__floor_flat', 'content__full_detail',\n",
      "       'content__strongly_advise', 'content__within_easy', 'content__freehold',\n",
      "       'content__market', 'content__purpose_built', 'content__bedroom_two',\n",
      "       'content__pleased', 'content__viewing', 'content__second_floor',\n",
      "       'content__situated', 'content__sought', 'content__private_garden',\n",
      "       'content__w_c', 'content__bright', 'content__front',\n",
      "       'content__available', 'content__fitted_wardrobe', 'content__time_buyer',\n",
      "       'content__heart', 'content__within_walking', 'content__train_station',\n",
      "       'content__master_bedroom', 'content__local_shop',\n",
      "       'content__central_london', 'content__top_floor',\n",
      "       'content__kitchen_diner', 'content__ideal', 'content__tiled_wall',\n",
      "       'content__view', 'content__long_lease', 'content__offers',\n",
      "       'content__bedroom_flat', 'content__bus_route',\n",
      "       'content__underground_station', 'content__mixer_tap',\n",
      "       'content__contract', 'content__hand_basin', 'content__offered',\n",
      "       'content__epc_rating', 'content__modern_kitchen',\n",
      "       'content__living_space', 'content__plan_living', 'content__easy_reach',\n",
      "       'content__city', 'content__years_remaining', 'content__semi_detached',\n",
      "       'content__close_proximity', 'content__vendor',\n",
      "       'content__washing_machine', 'content__located_within',\n",
      "       'content__integrated_appliance', 'content__tube_station',\n",
      "       'content__separate_kitchen', 'content__low_level',\n",
      "       'content__benefits_include', 'content__brochures_particular',\n",
      "       'content__prospective_buyer', 'content__laminate_flooring',\n",
      "       'content__two_bathroom', 'content__enquiries',\n",
      "       'content__representation', 'content__natural_light', 'content__perfect',\n",
      "       'content__restaurant', 'content__modern_bathroom', 'content__contact',\n",
      "       'content__wash_hand', 'content__position', 'content__plenty',\n",
      "       'content__mile', 'content__bedroom_one', 'content__base_unit',\n",
      "       'content__power_point', 'content__looking', 'content__per_annum',\n",
      "       'content__provided_solely', 'content__fridge_freezer',\n",
      "       'content__good_size', 'content__three_piece', 'content__form_part',\n",
      "       'content__bay_window', 'content__space', 'content__front_aspect',\n",
      "       'content__open_space', 'content__brochures_full', 'content__delighted',\n",
      "       'content__modern_fitted', 'content__bathroom_suite',\n",
      "       'content__rear_aspect', 'content__minute_walk', 'content__accordingly',\n",
      "       'content__amenitie', 'content__good_sized', 'content__one_double',\n",
      "       'content__front_door', 'content__office', 'content__south_facing',\n",
      "       'content__highly_recommended', 'content__walk_away',\n",
      "       'content__green_space', 'content__bedroom_ground',\n",
      "       'content__living_area', 'content__canary_wharf',\n",
      "       'content__wood_flooring', 'content__excellent_transport',\n",
      "       'content__equipment', 'content__wall_mounted',\n",
      "       'content__primary_school', 'content__fact', 'content__built',\n",
      "       'content__seller', 'content__guidance', 'content__dining_area',\n",
      "       'content__wardrobe', 'content__stainless_steel',\n",
      "       'content__fully_fitted', 'content__bedroom_first', 'content__call',\n",
      "       'content__private_rear', 'content__direct_access',\n",
      "       'content__mainline_station', 'content__guide_price',\n",
      "       'content__split_level', 'content__present', 'content__appliance',\n",
      "       'content__brochures_web', 'content__popular', 'content__comprise',\n",
      "       'content__web_details', 'content__conveniently_located',\n",
      "       'content__year_lease', 'content__moment', 'content__found',\n",
      "       'content__cul_de', 'content__advised', 'content__de_sac',\n",
      "       'content__shared_ownership', 'content__ideally_located',\n",
      "       'content__garage', 'content__reliable', 'content__ample_storage',\n",
      "       'content__floor_maisonette', 'content__spacious_reception'],\n",
      "      dtype='object')\n",
      "(14759, 287)\n"
     ]
    },
    {
     "data": {
      "text/plain": "              Price location.latitude  location.longitude  \\\nids                                                         \n123591656  260000.0         51.480258           -0.041752   \n120150563  260000.0         51.481716           -0.046701   \n121512338  260000.0          51.42599           -0.038040   \n123430484  260000.0          51.48046           -0.038762   \n124760513  260000.0         51.427628            0.013136   \n124450457  260000.0          51.47923           -0.051040   \n121813499  250000.0         51.489486           -0.044678   \n118875077  250000.0          51.45022            0.012650   \n118942613  250000.0         51.432803           -0.001006   \n123801671  340000.0         51.462608           -0.009393   \n82830249   250000.0         51.464791           -0.038352   \n119406734  250000.0         51.435952            0.004956   \n122607242  250000.0          51.47992           -0.051670   \n89940527   250000.0          51.43095            0.029500   \n119685635  250000.0          51.44312           -0.046370   \n84760731   250000.0         51.480671           -0.046602   \n85434858   250000.0         51.483177           -0.050692   \n122473031  250000.0          51.44198           -0.037500   \n121287272  375000.0          51.45923           -0.118670   \n124812347  375000.0         51.479205           -0.126575   \n\n           distance_to_any_train  bedrooms_model  bathrooms_model  \\\nids                                                                 \n123591656                    0.3             1.0              1.0   \n120150563                    0.5             2.0              1.0   \n121512338                    0.2             2.0              1.0   \n123430484                    0.4             1.0              1.0   \n124760513                    0.4             2.0              1.0   \n124450457                    0.5             NaN              1.0   \n121813499                    0.3             NaN              1.0   \n118875077                    0.0             1.0              1.0   \n118942613                    0.8             2.0              1.0   \n123801671                    0.2             1.0              1.0   \n82830249                     0.1             1.0              1.0   \n119406734                    0.8             2.0              1.0   \n122607242                    0.5             1.0              1.0   \n89940527                     0.3             2.0              1.0   \n119685635                    0.4             1.0              1.0   \n84760731                     0.4             1.0              1.0   \n85434858                     0.4             1.0              1.0   \n122473031                    0.5             1.0              1.0   \n121287272                    0.3             2.0              1.0   \n124812347                    0.1             1.0              1.0   \n\n           analyticsProperty.imageCount  analyticsProperty.added  \\\nids                                                                \n123591656                          15.0               20220523.0   \n120150563                           7.0               20220218.0   \n121512338                          12.0               20220324.0   \n123430484                           7.0               20220517.0   \n124760513                           9.0               20220707.0   \n124450457                          18.0               20220629.0   \n121813499                           6.0               20220401.0   \n118875077                           5.0               20220118.0   \n118942613                           9.0               20220120.0   \n123801671                          10.0               20220530.0   \n82830249                           13.0               20211206.0   \n119406734                           7.0               20220201.0   \n122607242                           6.0               20220420.0   \n89940527                           14.0               20200228.0   \n119685635                           8.0               20220208.0   \n84760731                            5.0               20220427.0   \n85434858                            6.0               20220607.0   \n122473031                           8.0               20220415.0   \n121287272                          12.0               20220319.0   \n124812347                           9.0               20220708.0   \n\n           floorplan_count  property_age  ...  content__cul_de  \\\nids                                       ...                    \n123591656              4.0           NaN  ...              NaN   \n120150563              4.0           NaN  ...            False   \n121512338              4.0          37.0  ...            False   \n123430484              4.0           NaN  ...              NaN   \n124760513              4.0           NaN  ...            False   \n124450457              4.0           NaN  ...            False   \n121813499              4.0           NaN  ...            False   \n118875077              4.0           NaN  ...            False   \n118942613              4.0           NaN  ...            False   \n123801671              4.0           6.0  ...              NaN   \n82830249               4.0           NaN  ...              NaN   \n119406734              8.0           NaN  ...            False   \n122607242              4.0           NaN  ...              NaN   \n89940527               4.0           NaN  ...            False   \n119685635              4.0           NaN  ...            False   \n84760731               4.0           NaN  ...            False   \n85434858               1.0           NaN  ...            False   \n122473031              4.0           NaN  ...            False   \n121287272              4.0           NaN  ...            False   \n124812347              4.0           NaN  ...            False   \n\n           content__advised  content__de_sac  content__shared_ownership  \\\nids                                                                       \n123591656               NaN              NaN                        NaN   \n120150563             False            False                      False   \n121512338             False            False                      False   \n123430484               NaN              NaN                        NaN   \n124760513             False            False                      False   \n124450457             False            False                      False   \n121813499             False            False                      False   \n118875077             False            False                      False   \n118942613             False            False                      False   \n123801671               NaN              NaN                        NaN   \n82830249                NaN              NaN                        NaN   \n119406734             False            False                      False   \n122607242               NaN              NaN                        NaN   \n89940527              False            False                      False   \n119685635             False            False                      False   \n84760731              False            False                      False   \n85434858               True            False                      False   \n122473031             False            False                      False   \n121287272             False            False                      False   \n124812347              True            False                      False   \n\n           content__ideally_located  content__garage  content__reliable  \\\nids                                                                       \n123591656                       NaN              NaN                NaN   \n120150563                     False            False               True   \n121512338                     False            False               True   \n123430484                       NaN              NaN                NaN   \n124760513                     False            False              False   \n124450457                      True             True              False   \n121813499                     False            False              False   \n118875077                     False            False              False   \n118942613                     False            False              False   \n123801671                       NaN              NaN                NaN   \n82830249                        NaN              NaN                NaN   \n119406734                     False            False              False   \n122607242                       NaN              NaN                NaN   \n89940527                      False            False              False   \n119685635                     False            False              False   \n84760731                      False            False              False   \n85434858                      False            False              False   \n122473031                     False            False              False   \n121287272                     False            False              False   \n124812347                     False            False              False   \n\n           content__ample_storage  content__floor_maisonette  \\\nids                                                            \n123591656                     NaN                        NaN   \n120150563                   False                      False   \n121512338                   False                      False   \n123430484                     NaN                        NaN   \n124760513                   False                      False   \n124450457                   False                      False   \n121813499                   False                      False   \n118875077                   False                      False   \n118942613                   False                      False   \n123801671                     NaN                        NaN   \n82830249                      NaN                        NaN   \n119406734                   False                      False   \n122607242                     NaN                        NaN   \n89940527                    False                      False   \n119685635                    True                      False   \n84760731                    False                      False   \n85434858                    False                      False   \n122473031                   False                      False   \n121287272                   False                      False   \n124812347                   False                      False   \n\n           content__spacious_reception  \nids                                     \n123591656                          NaN  \n120150563                        False  \n121512338                         True  \n123430484                          NaN  \n124760513                        False  \n124450457                        False  \n121813499                        False  \n118875077                        False  \n118942613                         True  \n123801671                          NaN  \n82830249                           NaN  \n119406734                        False  \n122607242                          NaN  \n89940527                         False  \n119685635                        False  \n84760731                         False  \n85434858                         False  \n122473031                        False  \n121287272                        False  \n124812347                        False  \n\n[20 rows x 287 columns]",
      "text/html": "<div>\n<style scoped>\n    .dataframe tbody tr th:only-of-type {\n        vertical-align: middle;\n    }\n\n    .dataframe tbody tr th {\n        vertical-align: top;\n    }\n\n    .dataframe thead th {\n        text-align: right;\n    }\n</style>\n<table border=\"1\" class=\"dataframe\">\n  <thead>\n    <tr style=\"text-align: right;\">\n      <th></th>\n      <th>Price</th>\n      <th>location.latitude</th>\n      <th>location.longitude</th>\n      <th>distance_to_any_train</th>\n      <th>bedrooms_model</th>\n      <th>bathrooms_model</th>\n      <th>analyticsProperty.imageCount</th>\n      <th>analyticsProperty.added</th>\n      <th>floorplan_count</th>\n      <th>property_age</th>\n      <th>...</th>\n      <th>content__cul_de</th>\n      <th>content__advised</th>\n      <th>content__de_sac</th>\n      <th>content__shared_ownership</th>\n      <th>content__ideally_located</th>\n      <th>content__garage</th>\n      <th>content__reliable</th>\n      <th>content__ample_storage</th>\n      <th>content__floor_maisonette</th>\n      <th>content__spacious_reception</th>\n    </tr>\n    <tr>\n      <th>ids</th>\n      <th></th>\n      <th></th>\n      <th></th>\n      <th></th>\n      <th></th>\n      <th></th>\n      <th></th>\n      <th></th>\n      <th></th>\n      <th></th>\n      <th></th>\n      <th></th>\n      <th></th>\n      <th></th>\n      <th></th>\n      <th></th>\n      <th></th>\n      <th></th>\n      <th></th>\n      <th></th>\n      <th></th>\n    </tr>\n  </thead>\n  <tbody>\n    <tr>\n      <th>123591656</th>\n      <td>260000.0</td>\n      <td>51.480258</td>\n      <td>-0.041752</td>\n      <td>0.3</td>\n      <td>1.0</td>\n      <td>1.0</td>\n      <td>15.0</td>\n      <td>20220523.0</td>\n      <td>4.0</td>\n      <td>NaN</td>\n      <td>...</td>\n      <td>NaN</td>\n      <td>NaN</td>\n      <td>NaN</td>\n      <td>NaN</td>\n      <td>NaN</td>\n      <td>NaN</td>\n      <td>NaN</td>\n      <td>NaN</td>\n      <td>NaN</td>\n      <td>NaN</td>\n    </tr>\n    <tr>\n      <th>120150563</th>\n      <td>260000.0</td>\n      <td>51.481716</td>\n      <td>-0.046701</td>\n      <td>0.5</td>\n      <td>2.0</td>\n      <td>1.0</td>\n      <td>7.0</td>\n      <td>20220218.0</td>\n      <td>4.0</td>\n      <td>NaN</td>\n      <td>...</td>\n      <td>False</td>\n      <td>False</td>\n      <td>False</td>\n      <td>False</td>\n      <td>False</td>\n      <td>False</td>\n      <td>True</td>\n      <td>False</td>\n      <td>False</td>\n      <td>False</td>\n    </tr>\n    <tr>\n      <th>121512338</th>\n      <td>260000.0</td>\n      <td>51.42599</td>\n      <td>-0.038040</td>\n      <td>0.2</td>\n      <td>2.0</td>\n      <td>1.0</td>\n      <td>12.0</td>\n      <td>20220324.0</td>\n      <td>4.0</td>\n      <td>37.0</td>\n      <td>...</td>\n      <td>False</td>\n      <td>False</td>\n      <td>False</td>\n      <td>False</td>\n      <td>False</td>\n      <td>False</td>\n      <td>True</td>\n      <td>False</td>\n      <td>False</td>\n      <td>True</td>\n    </tr>\n    <tr>\n      <th>123430484</th>\n      <td>260000.0</td>\n      <td>51.48046</td>\n      <td>-0.038762</td>\n      <td>0.4</td>\n      <td>1.0</td>\n      <td>1.0</td>\n      <td>7.0</td>\n      <td>20220517.0</td>\n      <td>4.0</td>\n      <td>NaN</td>\n      <td>...</td>\n      <td>NaN</td>\n      <td>NaN</td>\n      <td>NaN</td>\n      <td>NaN</td>\n      <td>NaN</td>\n      <td>NaN</td>\n      <td>NaN</td>\n      <td>NaN</td>\n      <td>NaN</td>\n      <td>NaN</td>\n    </tr>\n    <tr>\n      <th>124760513</th>\n      <td>260000.0</td>\n      <td>51.427628</td>\n      <td>0.013136</td>\n      <td>0.4</td>\n      <td>2.0</td>\n      <td>1.0</td>\n      <td>9.0</td>\n      <td>20220707.0</td>\n      <td>4.0</td>\n      <td>NaN</td>\n      <td>...</td>\n      <td>False</td>\n      <td>False</td>\n      <td>False</td>\n      <td>False</td>\n      <td>False</td>\n      <td>False</td>\n      <td>False</td>\n      <td>False</td>\n      <td>False</td>\n      <td>False</td>\n    </tr>\n    <tr>\n      <th>124450457</th>\n      <td>260000.0</td>\n      <td>51.47923</td>\n      <td>-0.051040</td>\n      <td>0.5</td>\n      <td>NaN</td>\n      <td>1.0</td>\n      <td>18.0</td>\n      <td>20220629.0</td>\n      <td>4.0</td>\n      <td>NaN</td>\n      <td>...</td>\n      <td>False</td>\n      <td>False</td>\n      <td>False</td>\n      <td>False</td>\n      <td>True</td>\n      <td>True</td>\n      <td>False</td>\n      <td>False</td>\n      <td>False</td>\n      <td>False</td>\n    </tr>\n    <tr>\n      <th>121813499</th>\n      <td>250000.0</td>\n      <td>51.489486</td>\n      <td>-0.044678</td>\n      <td>0.3</td>\n      <td>NaN</td>\n      <td>1.0</td>\n      <td>6.0</td>\n      <td>20220401.0</td>\n      <td>4.0</td>\n      <td>NaN</td>\n      <td>...</td>\n      <td>False</td>\n      <td>False</td>\n      <td>False</td>\n      <td>False</td>\n      <td>False</td>\n      <td>False</td>\n      <td>False</td>\n      <td>False</td>\n      <td>False</td>\n      <td>False</td>\n    </tr>\n    <tr>\n      <th>118875077</th>\n      <td>250000.0</td>\n      <td>51.45022</td>\n      <td>0.012650</td>\n      <td>0.0</td>\n      <td>1.0</td>\n      <td>1.0</td>\n      <td>5.0</td>\n      <td>20220118.0</td>\n      <td>4.0</td>\n      <td>NaN</td>\n      <td>...</td>\n      <td>False</td>\n      <td>False</td>\n      <td>False</td>\n      <td>False</td>\n      <td>False</td>\n      <td>False</td>\n      <td>False</td>\n      <td>False</td>\n      <td>False</td>\n      <td>False</td>\n    </tr>\n    <tr>\n      <th>118942613</th>\n      <td>250000.0</td>\n      <td>51.432803</td>\n      <td>-0.001006</td>\n      <td>0.8</td>\n      <td>2.0</td>\n      <td>1.0</td>\n      <td>9.0</td>\n      <td>20220120.0</td>\n      <td>4.0</td>\n      <td>NaN</td>\n      <td>...</td>\n      <td>False</td>\n      <td>False</td>\n      <td>False</td>\n      <td>False</td>\n      <td>False</td>\n      <td>False</td>\n      <td>False</td>\n      <td>False</td>\n      <td>False</td>\n      <td>True</td>\n    </tr>\n    <tr>\n      <th>123801671</th>\n      <td>340000.0</td>\n      <td>51.462608</td>\n      <td>-0.009393</td>\n      <td>0.2</td>\n      <td>1.0</td>\n      <td>1.0</td>\n      <td>10.0</td>\n      <td>20220530.0</td>\n      <td>4.0</td>\n      <td>6.0</td>\n      <td>...</td>\n      <td>NaN</td>\n      <td>NaN</td>\n      <td>NaN</td>\n      <td>NaN</td>\n      <td>NaN</td>\n      <td>NaN</td>\n      <td>NaN</td>\n      <td>NaN</td>\n      <td>NaN</td>\n      <td>NaN</td>\n    </tr>\n    <tr>\n      <th>82830249</th>\n      <td>250000.0</td>\n      <td>51.464791</td>\n      <td>-0.038352</td>\n      <td>0.1</td>\n      <td>1.0</td>\n      <td>1.0</td>\n      <td>13.0</td>\n      <td>20211206.0</td>\n      <td>4.0</td>\n      <td>NaN</td>\n      <td>...</td>\n      <td>NaN</td>\n      <td>NaN</td>\n      <td>NaN</td>\n      <td>NaN</td>\n      <td>NaN</td>\n      <td>NaN</td>\n      <td>NaN</td>\n      <td>NaN</td>\n      <td>NaN</td>\n      <td>NaN</td>\n    </tr>\n    <tr>\n      <th>119406734</th>\n      <td>250000.0</td>\n      <td>51.435952</td>\n      <td>0.004956</td>\n      <td>0.8</td>\n      <td>2.0</td>\n      <td>1.0</td>\n      <td>7.0</td>\n      <td>20220201.0</td>\n      <td>8.0</td>\n      <td>NaN</td>\n      <td>...</td>\n      <td>False</td>\n      <td>False</td>\n      <td>False</td>\n      <td>False</td>\n      <td>False</td>\n      <td>False</td>\n      <td>False</td>\n      <td>False</td>\n      <td>False</td>\n      <td>False</td>\n    </tr>\n    <tr>\n      <th>122607242</th>\n      <td>250000.0</td>\n      <td>51.47992</td>\n      <td>-0.051670</td>\n      <td>0.5</td>\n      <td>1.0</td>\n      <td>1.0</td>\n      <td>6.0</td>\n      <td>20220420.0</td>\n      <td>4.0</td>\n      <td>NaN</td>\n      <td>...</td>\n      <td>NaN</td>\n      <td>NaN</td>\n      <td>NaN</td>\n      <td>NaN</td>\n      <td>NaN</td>\n      <td>NaN</td>\n      <td>NaN</td>\n      <td>NaN</td>\n      <td>NaN</td>\n      <td>NaN</td>\n    </tr>\n    <tr>\n      <th>89940527</th>\n      <td>250000.0</td>\n      <td>51.43095</td>\n      <td>0.029500</td>\n      <td>0.3</td>\n      <td>2.0</td>\n      <td>1.0</td>\n      <td>14.0</td>\n      <td>20200228.0</td>\n      <td>4.0</td>\n      <td>NaN</td>\n      <td>...</td>\n      <td>False</td>\n      <td>False</td>\n      <td>False</td>\n      <td>False</td>\n      <td>False</td>\n      <td>False</td>\n      <td>False</td>\n      <td>False</td>\n      <td>False</td>\n      <td>False</td>\n    </tr>\n    <tr>\n      <th>119685635</th>\n      <td>250000.0</td>\n      <td>51.44312</td>\n      <td>-0.046370</td>\n      <td>0.4</td>\n      <td>1.0</td>\n      <td>1.0</td>\n      <td>8.0</td>\n      <td>20220208.0</td>\n      <td>4.0</td>\n      <td>NaN</td>\n      <td>...</td>\n      <td>False</td>\n      <td>False</td>\n      <td>False</td>\n      <td>False</td>\n      <td>False</td>\n      <td>False</td>\n      <td>False</td>\n      <td>True</td>\n      <td>False</td>\n      <td>False</td>\n    </tr>\n    <tr>\n      <th>84760731</th>\n      <td>250000.0</td>\n      <td>51.480671</td>\n      <td>-0.046602</td>\n      <td>0.4</td>\n      <td>1.0</td>\n      <td>1.0</td>\n      <td>5.0</td>\n      <td>20220427.0</td>\n      <td>4.0</td>\n      <td>NaN</td>\n      <td>...</td>\n      <td>False</td>\n      <td>False</td>\n      <td>False</td>\n      <td>False</td>\n      <td>False</td>\n      <td>False</td>\n      <td>False</td>\n      <td>False</td>\n      <td>False</td>\n      <td>False</td>\n    </tr>\n    <tr>\n      <th>85434858</th>\n      <td>250000.0</td>\n      <td>51.483177</td>\n      <td>-0.050692</td>\n      <td>0.4</td>\n      <td>1.0</td>\n      <td>1.0</td>\n      <td>6.0</td>\n      <td>20220607.0</td>\n      <td>1.0</td>\n      <td>NaN</td>\n      <td>...</td>\n      <td>False</td>\n      <td>True</td>\n      <td>False</td>\n      <td>False</td>\n      <td>False</td>\n      <td>False</td>\n      <td>False</td>\n      <td>False</td>\n      <td>False</td>\n      <td>False</td>\n    </tr>\n    <tr>\n      <th>122473031</th>\n      <td>250000.0</td>\n      <td>51.44198</td>\n      <td>-0.037500</td>\n      <td>0.5</td>\n      <td>1.0</td>\n      <td>1.0</td>\n      <td>8.0</td>\n      <td>20220415.0</td>\n      <td>4.0</td>\n      <td>NaN</td>\n      <td>...</td>\n      <td>False</td>\n      <td>False</td>\n      <td>False</td>\n      <td>False</td>\n      <td>False</td>\n      <td>False</td>\n      <td>False</td>\n      <td>False</td>\n      <td>False</td>\n      <td>False</td>\n    </tr>\n    <tr>\n      <th>121287272</th>\n      <td>375000.0</td>\n      <td>51.45923</td>\n      <td>-0.118670</td>\n      <td>0.3</td>\n      <td>2.0</td>\n      <td>1.0</td>\n      <td>12.0</td>\n      <td>20220319.0</td>\n      <td>4.0</td>\n      <td>NaN</td>\n      <td>...</td>\n      <td>False</td>\n      <td>False</td>\n      <td>False</td>\n      <td>False</td>\n      <td>False</td>\n      <td>False</td>\n      <td>False</td>\n      <td>False</td>\n      <td>False</td>\n      <td>False</td>\n    </tr>\n    <tr>\n      <th>124812347</th>\n      <td>375000.0</td>\n      <td>51.479205</td>\n      <td>-0.126575</td>\n      <td>0.1</td>\n      <td>1.0</td>\n      <td>1.0</td>\n      <td>9.0</td>\n      <td>20220708.0</td>\n      <td>4.0</td>\n      <td>NaN</td>\n      <td>...</td>\n      <td>False</td>\n      <td>True</td>\n      <td>False</td>\n      <td>False</td>\n      <td>False</td>\n      <td>False</td>\n      <td>False</td>\n      <td>False</td>\n      <td>False</td>\n      <td>False</td>\n    </tr>\n  </tbody>\n</table>\n<p>20 rows × 287 columns</p>\n</div>"
     },
     "execution_count": 1,
     "metadata": {},
     "output_type": "execute_result"
    }
   ],
   "source": [
    "from sklearn.model_selection import train_test_split\n",
    "from sklearn.tree import DecisionTreeRegressor\n",
    "import sys\n",
    "\n",
    "sys.path.append('../../globalfunction')  # setting path\n",
    "import globalfunction.vv as vv  # importing\n",
    "import globalfunction.pp as pp  # importing\n",
    "\n",
    "import numpy as np\n",
    "import pandas as pd\n",
    "\n",
    "import sklearn.datasets as datasets\n",
    "from sklearn.model_selection import train_test_split\n",
    "from sklearn import metrics\n",
    "\n",
    "import pandas as pd\n",
    "from sklearn.model_selection import train_test_split\n",
    "from sklearn.tree import DecisionTreeRegressor\n",
    "import sys\n",
    "import sklearn.metrics\n",
    "\n",
    "from sklearn.linear_model import LinearRegression\n",
    "\n",
    "sys.path.append('../../globalfunction')  # setting path\n",
    "import globalfunction.vv as vv  # importing\n",
    "\n",
    "import numpy as np\n",
    "import pandas as pd\n",
    "\n",
    "\n",
    "#df_original = vv.dataset_modelling_version(iteration_code=\"0001_20220620\")\n",
    "#df_original = vv.dataset_modelling_version(iteration_code=\"0012_20220704\")\n",
    "df = vv.dataset_modelling_version(iteration_code=\"0041_20220710\")\n",
    "print(df.shape)\n",
    "df.head(20)"
   ]
  },
  {
   "cell_type": "markdown",
   "source": [
    "### Get the property listings data and store in a dataframe"
   ],
   "metadata": {
    "collapsed": false,
    "pycharm": {
     "name": "#%% md\n"
    }
   }
  },
  {
   "cell_type": "code",
   "execution_count": 2,
   "outputs": [
    {
     "name": "stdout",
     "output_type": "stream",
     "text": [
      "<class 'pandas.core.frame.DataFrame'>\n",
      "Index: 14759 entries, 123591656 to 114438299\n",
      "Columns: 287 entries, Price to content__spacious_reception\n",
      "dtypes: float64(9), object(201), uint8(77)\n",
      "memory usage: 24.8+ MB\n"
     ]
    }
   ],
   "source": [
    "df.info()"
   ],
   "metadata": {
    "collapsed": false,
    "pycharm": {
     "name": "#%%\n"
    }
   }
  },
  {
   "cell_type": "code",
   "execution_count": 3,
   "outputs": [
    {
     "data": {
      "text/plain": "Empty DataFrame\nColumns: [Price, location.latitude, location.longitude, distance_to_any_train, bedrooms_model, bathrooms_model, analyticsProperty.imageCount, analyticsProperty.added, floorplan_count, property_age, borough_name_Barking and Dagenham, borough_name_Barnet, borough_name_Bexley, borough_name_City of London, borough_name_Croydon, borough_name_Ealing, borough_name_Enfield, borough_name_Greenwich, borough_name_Havering, borough_name_Hillingdon, borough_name_Hounslow, borough_name_Islington, borough_name_Kensington and Chelsea, borough_name_Kingston upon Thames, borough_name_Lambeth, borough_name_Lewisham, borough_name_Redbridge, borough_name_Sutton, borough_name_Tower Hamlets, borough_name_Waltham Forest, borough_name_Wandsworth, borough_name_Westminster, analyticsProperty.propertyType_Bungalows, analyticsProperty.propertyType_Character Property, analyticsProperty.propertyType_Flats / Apartments, analyticsProperty.propertyType_Houses, analyticsProperty.propertyType_Land, analyticsProperty.propertyType_Not Specified, propertySubType_Apartment, propertySubType_Block of Apartments, propertySubType_Bungalow, propertySubType_Character Property, propertySubType_Cottage, propertySubType_Detached, propertySubType_Detached Bungalow, propertySubType_Duplex, propertySubType_End of Terrace, propertySubType_Flat, propertySubType_Ground Flat, propertySubType_Ground Maisonette, propertySubType_Hotel Room, propertySubType_House, propertySubType_Link Detached House, propertySubType_Maisonette, propertySubType_Mews, propertySubType_Not Specified, propertySubType_Penthouse, propertySubType_Semi-Detached, propertySubType_Semi-Detached Bungalow, propertySubType_Studio, propertySubType_Terraced, propertySubType_Terraced Bungalow, propertySubType_Town House, coarse_compass_direction_BR, coarse_compass_direction_CR, coarse_compass_direction_DA, coarse_compass_direction_E, coarse_compass_direction_EC, coarse_compass_direction_EN, coarse_compass_direction_England, coarse_compass_direction_HA, coarse_compass_direction_IG, coarse_compass_direction_KT, coarse_compass_direction_N, coarse_compass_direction_NW, coarse_compass_direction_RM, coarse_compass_direction_SE, coarse_compass_direction_SM, coarse_compass_direction_SW, coarse_compass_direction_TW, coarse_compass_direction_UB, coarse_compass_direction_W, coarse_compass_direction_WC, coarse_compass_direction_WD, tenure.tenureType_FREEHOLD, tenure.tenureType_LEASEHOLD, tenure.tenureType_SHARE_OF_FREEHOLD, content__double_bedroom, content__double_glazed, content__first_floor, content__glazed_window, content__reception_room, content__ground_floor, content__open_plan, content__rear_garden, content__two_bedroom, content__fitted_kitchen, content__two_double, content__transport_link, content__chain_free, content__one_bedroom, content__three_bedroom, content__communal_garden, content__street_parking, content__family_bathroom, content__bedroom_apartment, content__will, content__walking_distance, content__living_room, content__close, content__service_charge, content__central_heating, content__benefits, content__shower_room, content__ground_rent, content__access, content__first_time, content__council_tax, content__gas_central, content__allocated_parking, content__entrance_hall, content__en_suite, content__information, content__dining_room, content__local_amenities, content__double_glazing, content__private_balcony, content__short_walk, content__high_street, content__plan_kitchen, content__located, content__tax_band, content__easy_access, content__sq_ft, content__onward_chain, content__information_provided, content__floor_apartment, content__estate_agent, content__parking_space, content__storage_cupboard, content__share, content__town_centre, content__floor_flat, content__full_detail, content__strongly_advise, content__within_easy, content__freehold, content__market, content__purpose_built, content__bedroom_two, content__pleased, content__viewing, content__second_floor, content__situated, content__sought, content__private_garden, content__w_c, content__bright, content__front, content__available, content__fitted_wardrobe, content__time_buyer, content__heart, content__within_walking, content__train_station, content__master_bedroom, content__local_shop, content__central_london, content__top_floor, content__kitchen_diner, content__ideal, content__tiled_wall, content__view, content__long_lease, content__offers, content__bedroom_flat, content__bus_route, content__underground_station, content__mixer_tap, content__contract, content__hand_basin, content__offered, content__epc_rating, content__modern_kitchen, content__living_space, content__plan_living, content__easy_reach, content__city, content__years_remaining, content__semi_detached, content__close_proximity, content__vendor, content__washing_machine, content__located_within, content__integrated_appliance, content__tube_station, content__separate_kitchen, content__low_level, content__benefits_include, content__brochures_particular, content__prospective_buyer, content__laminate_flooring, content__two_bathroom, content__enquiries, content__representation, content__natural_light, content__perfect, content__restaurant, content__modern_bathroom, content__contact, content__wash_hand, content__position, content__plenty, content__mile, content__bedroom_one, content__base_unit, content__power_point, content__looking, content__per_annum, content__provided_solely, content__fridge_freezer, content__good_size, content__three_piece, content__form_part, content__bay_window, content__space, content__front_aspect, content__open_space, content__brochures_full, content__delighted, content__modern_fitted, content__bathroom_suite, content__rear_aspect, content__minute_walk, content__accordingly, content__amenitie, content__good_sized, content__one_double, content__front_door, content__office, content__south_facing, content__highly_recommended, content__walk_away, content__green_space, content__bedroom_ground, content__living_area, content__canary_wharf, content__wood_flooring, content__excellent_transport, content__equipment, content__wall_mounted, content__primary_school, content__fact, content__built, content__seller, content__guidance, content__dining_area, content__wardrobe, content__stainless_steel, content__fully_fitted, content__bedroom_first, content__call, content__private_rear, content__direct_access, content__mainline_station, content__guide_price, content__split_level, content__present, content__appliance, content__brochures_web, content__popular, content__comprise, content__web_details, content__conveniently_located, content__year_lease, content__moment, content__found, content__cul_de, content__advised, content__de_sac, content__shared_ownership, content__ideally_located, content__garage, content__reliable, content__ample_storage, content__floor_maisonette, content__spacious_reception]\nIndex: []\n\n[0 rows x 287 columns]",
      "text/html": "<div>\n<style scoped>\n    .dataframe tbody tr th:only-of-type {\n        vertical-align: middle;\n    }\n\n    .dataframe tbody tr th {\n        vertical-align: top;\n    }\n\n    .dataframe thead th {\n        text-align: right;\n    }\n</style>\n<table border=\"1\" class=\"dataframe\">\n  <thead>\n    <tr style=\"text-align: right;\">\n      <th></th>\n      <th>Price</th>\n      <th>location.latitude</th>\n      <th>location.longitude</th>\n      <th>distance_to_any_train</th>\n      <th>bedrooms_model</th>\n      <th>bathrooms_model</th>\n      <th>analyticsProperty.imageCount</th>\n      <th>analyticsProperty.added</th>\n      <th>floorplan_count</th>\n      <th>property_age</th>\n      <th>...</th>\n      <th>content__cul_de</th>\n      <th>content__advised</th>\n      <th>content__de_sac</th>\n      <th>content__shared_ownership</th>\n      <th>content__ideally_located</th>\n      <th>content__garage</th>\n      <th>content__reliable</th>\n      <th>content__ample_storage</th>\n      <th>content__floor_maisonette</th>\n      <th>content__spacious_reception</th>\n    </tr>\n    <tr>\n      <th>ids</th>\n      <th></th>\n      <th></th>\n      <th></th>\n      <th></th>\n      <th></th>\n      <th></th>\n      <th></th>\n      <th></th>\n      <th></th>\n      <th></th>\n      <th></th>\n      <th></th>\n      <th></th>\n      <th></th>\n      <th></th>\n      <th></th>\n      <th></th>\n      <th></th>\n      <th></th>\n      <th></th>\n      <th></th>\n    </tr>\n  </thead>\n  <tbody>\n  </tbody>\n</table>\n<p>0 rows × 287 columns</p>\n</div>"
     },
     "execution_count": 3,
     "metadata": {},
     "output_type": "execute_result"
    }
   ],
   "source": [
    "df[\n",
    "    #['Address', 'analyticsProperty.maxSizeAc', 'analyticsProperty.maxSizeFt', 'analyticsProperty.minSizeAc', 'analyticsProperty.minSizeFt', 'date_scraped', 'date_scraped_model',     'date_scraped_model', 'date_scraped_meta']]\n",
    "    #df['location.latitude'].notnull()]\n",
    "    df['location.latitude'].isnull()]"
   ],
   "metadata": {
    "collapsed": false,
    "pycharm": {
     "name": "#%%\n"
    }
   }
  },
  {
   "cell_type": "code",
   "execution_count": 4,
   "outputs": [],
   "source": [
    "#df.loc[123715148]"
   ],
   "metadata": {
    "collapsed": false,
    "pycharm": {
     "name": "#%%\n"
    }
   }
  },
  {
   "cell_type": "code",
   "execution_count": 5,
   "outputs": [
    {
     "name": "stdout",
     "output_type": "stream",
     "text": [
      "(14759, 287)\n",
      "(14759, 287)\n",
      "<class 'pandas.core.frame.DataFrame'>\n",
      "Index: 14759 entries, 123591656 to 114438299\n",
      "Columns: 287 entries, Price to content__spacious_reception\n",
      "dtypes: float64(10), object(200), uint8(77)\n",
      "memory usage: 24.8+ MB\n"
     ]
    }
   ],
   "source": [
    "print(df.shape)\n",
    "df[\"location.latitude\"] = pd.to_numeric(df[\"location.latitude\"], 'coerce').dropna().astype(int)\n",
    "df[\"analyticsProperty.imageCount\"] = pd.to_numeric(df[\"analyticsProperty.imageCount\"], 'coerce').dropna().astype(int)\n",
    "df[\"analyticsProperty.added\"] = pd.to_numeric(df[\"analyticsProperty.added\"], 'coerce').dropna().astype(int)\n",
    "print(df.shape)\n",
    "df.info()"
   ],
   "metadata": {
    "collapsed": false,
    "pycharm": {
     "name": "#%%\n"
    }
   }
  },
  {
   "cell_type": "code",
   "execution_count": 6,
   "outputs": [
    {
     "data": {
      "text/plain": "              Price  location.latitude  location.longitude  \\\nids                                                          \n123591656  260000.0               51.0           -0.041752   \n120150563  260000.0               51.0           -0.046701   \n123430484  260000.0               51.0           -0.038762   \n124760513  260000.0               51.0            0.013136   \n124450457  260000.0               51.0           -0.051040   \n...             ...                ...                 ...   \n123906503  440000.0               51.0           -0.413626   \n119011196  440000.0               51.0           -0.465703   \n120100592  440000.0               51.0           -0.432817   \n121041542  440000.0               51.0           -0.453880   \n120696125  440000.0               51.0           -0.451470   \n\n           distance_to_any_train  bedrooms_model  bathrooms_model  \\\nids                                                                 \n123591656                    0.3             1.0              1.0   \n120150563                    0.5             2.0              1.0   \n123430484                    0.4             1.0              1.0   \n124760513                    0.4             2.0              1.0   \n124450457                    0.5             NaN              1.0   \n...                          ...             ...              ...   \n123906503                    0.3             2.0              2.0   \n119011196                    0.8             3.0              1.0   \n120100592                    0.4             2.0              1.0   \n121041542                    1.0             3.0              1.0   \n120696125                    1.1             3.0              1.0   \n\n           analyticsProperty.imageCount  analyticsProperty.added  \\\nids                                                                \n123591656                          15.0               20220523.0   \n120150563                           7.0               20220218.0   \n123430484                           7.0               20220517.0   \n124760513                           9.0               20220707.0   \n124450457                          18.0               20220629.0   \n...                                 ...                      ...   \n123906503                           0.0               20220606.0   \n119011196                          10.0               20220121.0   \n120100592                          10.0               20220217.0   \n121041542                          11.0               20220314.0   \n120696125                          13.0               20220305.0   \n\n           floorplan_count  property_age  ...  content__cul_de  \\\nids                                       ...                    \n123591656              4.0           NaN  ...              NaN   \n120150563              4.0           NaN  ...            False   \n123430484              4.0           NaN  ...              NaN   \n124760513              4.0           NaN  ...            False   \n124450457              4.0           NaN  ...            False   \n...                    ...           ...  ...              ...   \n123906503              1.0           NaN  ...              NaN   \n119011196              4.0           NaN  ...            False   \n120100592              4.0           NaN  ...            False   \n121041542              4.0           NaN  ...            False   \n120696125              4.0           NaN  ...            False   \n\n           content__advised  content__de_sac  content__shared_ownership  \\\nids                                                                       \n123591656               NaN              NaN                        NaN   \n120150563             False            False                      False   \n123430484               NaN              NaN                        NaN   \n124760513             False            False                      False   \n124450457             False            False                      False   \n...                     ...              ...                        ...   \n123906503               NaN              NaN                        NaN   \n119011196             False            False                      False   \n120100592             False            False                      False   \n121041542             False            False                      False   \n120696125             False            False                      False   \n\n           content__ideally_located  content__garage  content__reliable  \\\nids                                                                       \n123591656                       NaN              NaN                NaN   \n120150563                     False            False               True   \n123430484                       NaN              NaN                NaN   \n124760513                     False            False              False   \n124450457                      True             True              False   \n...                             ...              ...                ...   \n123906503                       NaN              NaN                NaN   \n119011196                     False             True              False   \n120100592                     False            False              False   \n121041542                     False             True              False   \n120696125                     False            False              False   \n\n           content__ample_storage  content__floor_maisonette  \\\nids                                                            \n123591656                     NaN                        NaN   \n120150563                   False                      False   \n123430484                     NaN                        NaN   \n124760513                   False                      False   \n124450457                   False                      False   \n...                           ...                        ...   \n123906503                     NaN                        NaN   \n119011196                   False                      False   \n120100592                   False                       True   \n121041542                   False                      False   \n120696125                   False                      False   \n\n           content__spacious_reception  \nids                                     \n123591656                          NaN  \n120150563                        False  \n123430484                          NaN  \n124760513                        False  \n124450457                        False  \n...                                ...  \n123906503                          NaN  \n119011196                        False  \n120100592                        False  \n121041542                        False  \n120696125                        False  \n\n[6146 rows x 287 columns]",
      "text/html": "<div>\n<style scoped>\n    .dataframe tbody tr th:only-of-type {\n        vertical-align: middle;\n    }\n\n    .dataframe tbody tr th {\n        vertical-align: top;\n    }\n\n    .dataframe thead th {\n        text-align: right;\n    }\n</style>\n<table border=\"1\" class=\"dataframe\">\n  <thead>\n    <tr style=\"text-align: right;\">\n      <th></th>\n      <th>Price</th>\n      <th>location.latitude</th>\n      <th>location.longitude</th>\n      <th>distance_to_any_train</th>\n      <th>bedrooms_model</th>\n      <th>bathrooms_model</th>\n      <th>analyticsProperty.imageCount</th>\n      <th>analyticsProperty.added</th>\n      <th>floorplan_count</th>\n      <th>property_age</th>\n      <th>...</th>\n      <th>content__cul_de</th>\n      <th>content__advised</th>\n      <th>content__de_sac</th>\n      <th>content__shared_ownership</th>\n      <th>content__ideally_located</th>\n      <th>content__garage</th>\n      <th>content__reliable</th>\n      <th>content__ample_storage</th>\n      <th>content__floor_maisonette</th>\n      <th>content__spacious_reception</th>\n    </tr>\n    <tr>\n      <th>ids</th>\n      <th></th>\n      <th></th>\n      <th></th>\n      <th></th>\n      <th></th>\n      <th></th>\n      <th></th>\n      <th></th>\n      <th></th>\n      <th></th>\n      <th></th>\n      <th></th>\n      <th></th>\n      <th></th>\n      <th></th>\n      <th></th>\n      <th></th>\n      <th></th>\n      <th></th>\n      <th></th>\n      <th></th>\n    </tr>\n  </thead>\n  <tbody>\n    <tr>\n      <th>123591656</th>\n      <td>260000.0</td>\n      <td>51.0</td>\n      <td>-0.041752</td>\n      <td>0.3</td>\n      <td>1.0</td>\n      <td>1.0</td>\n      <td>15.0</td>\n      <td>20220523.0</td>\n      <td>4.0</td>\n      <td>NaN</td>\n      <td>...</td>\n      <td>NaN</td>\n      <td>NaN</td>\n      <td>NaN</td>\n      <td>NaN</td>\n      <td>NaN</td>\n      <td>NaN</td>\n      <td>NaN</td>\n      <td>NaN</td>\n      <td>NaN</td>\n      <td>NaN</td>\n    </tr>\n    <tr>\n      <th>120150563</th>\n      <td>260000.0</td>\n      <td>51.0</td>\n      <td>-0.046701</td>\n      <td>0.5</td>\n      <td>2.0</td>\n      <td>1.0</td>\n      <td>7.0</td>\n      <td>20220218.0</td>\n      <td>4.0</td>\n      <td>NaN</td>\n      <td>...</td>\n      <td>False</td>\n      <td>False</td>\n      <td>False</td>\n      <td>False</td>\n      <td>False</td>\n      <td>False</td>\n      <td>True</td>\n      <td>False</td>\n      <td>False</td>\n      <td>False</td>\n    </tr>\n    <tr>\n      <th>123430484</th>\n      <td>260000.0</td>\n      <td>51.0</td>\n      <td>-0.038762</td>\n      <td>0.4</td>\n      <td>1.0</td>\n      <td>1.0</td>\n      <td>7.0</td>\n      <td>20220517.0</td>\n      <td>4.0</td>\n      <td>NaN</td>\n      <td>...</td>\n      <td>NaN</td>\n      <td>NaN</td>\n      <td>NaN</td>\n      <td>NaN</td>\n      <td>NaN</td>\n      <td>NaN</td>\n      <td>NaN</td>\n      <td>NaN</td>\n      <td>NaN</td>\n      <td>NaN</td>\n    </tr>\n    <tr>\n      <th>124760513</th>\n      <td>260000.0</td>\n      <td>51.0</td>\n      <td>0.013136</td>\n      <td>0.4</td>\n      <td>2.0</td>\n      <td>1.0</td>\n      <td>9.0</td>\n      <td>20220707.0</td>\n      <td>4.0</td>\n      <td>NaN</td>\n      <td>...</td>\n      <td>False</td>\n      <td>False</td>\n      <td>False</td>\n      <td>False</td>\n      <td>False</td>\n      <td>False</td>\n      <td>False</td>\n      <td>False</td>\n      <td>False</td>\n      <td>False</td>\n    </tr>\n    <tr>\n      <th>124450457</th>\n      <td>260000.0</td>\n      <td>51.0</td>\n      <td>-0.051040</td>\n      <td>0.5</td>\n      <td>NaN</td>\n      <td>1.0</td>\n      <td>18.0</td>\n      <td>20220629.0</td>\n      <td>4.0</td>\n      <td>NaN</td>\n      <td>...</td>\n      <td>False</td>\n      <td>False</td>\n      <td>False</td>\n      <td>False</td>\n      <td>True</td>\n      <td>True</td>\n      <td>False</td>\n      <td>False</td>\n      <td>False</td>\n      <td>False</td>\n    </tr>\n    <tr>\n      <th>...</th>\n      <td>...</td>\n      <td>...</td>\n      <td>...</td>\n      <td>...</td>\n      <td>...</td>\n      <td>...</td>\n      <td>...</td>\n      <td>...</td>\n      <td>...</td>\n      <td>...</td>\n      <td>...</td>\n      <td>...</td>\n      <td>...</td>\n      <td>...</td>\n      <td>...</td>\n      <td>...</td>\n      <td>...</td>\n      <td>...</td>\n      <td>...</td>\n      <td>...</td>\n      <td>...</td>\n    </tr>\n    <tr>\n      <th>123906503</th>\n      <td>440000.0</td>\n      <td>51.0</td>\n      <td>-0.413626</td>\n      <td>0.3</td>\n      <td>2.0</td>\n      <td>2.0</td>\n      <td>0.0</td>\n      <td>20220606.0</td>\n      <td>1.0</td>\n      <td>NaN</td>\n      <td>...</td>\n      <td>NaN</td>\n      <td>NaN</td>\n      <td>NaN</td>\n      <td>NaN</td>\n      <td>NaN</td>\n      <td>NaN</td>\n      <td>NaN</td>\n      <td>NaN</td>\n      <td>NaN</td>\n      <td>NaN</td>\n    </tr>\n    <tr>\n      <th>119011196</th>\n      <td>440000.0</td>\n      <td>51.0</td>\n      <td>-0.465703</td>\n      <td>0.8</td>\n      <td>3.0</td>\n      <td>1.0</td>\n      <td>10.0</td>\n      <td>20220121.0</td>\n      <td>4.0</td>\n      <td>NaN</td>\n      <td>...</td>\n      <td>False</td>\n      <td>False</td>\n      <td>False</td>\n      <td>False</td>\n      <td>False</td>\n      <td>True</td>\n      <td>False</td>\n      <td>False</td>\n      <td>False</td>\n      <td>False</td>\n    </tr>\n    <tr>\n      <th>120100592</th>\n      <td>440000.0</td>\n      <td>51.0</td>\n      <td>-0.432817</td>\n      <td>0.4</td>\n      <td>2.0</td>\n      <td>1.0</td>\n      <td>10.0</td>\n      <td>20220217.0</td>\n      <td>4.0</td>\n      <td>NaN</td>\n      <td>...</td>\n      <td>False</td>\n      <td>False</td>\n      <td>False</td>\n      <td>False</td>\n      <td>False</td>\n      <td>False</td>\n      <td>False</td>\n      <td>False</td>\n      <td>True</td>\n      <td>False</td>\n    </tr>\n    <tr>\n      <th>121041542</th>\n      <td>440000.0</td>\n      <td>51.0</td>\n      <td>-0.453880</td>\n      <td>1.0</td>\n      <td>3.0</td>\n      <td>1.0</td>\n      <td>11.0</td>\n      <td>20220314.0</td>\n      <td>4.0</td>\n      <td>NaN</td>\n      <td>...</td>\n      <td>False</td>\n      <td>False</td>\n      <td>False</td>\n      <td>False</td>\n      <td>False</td>\n      <td>True</td>\n      <td>False</td>\n      <td>False</td>\n      <td>False</td>\n      <td>False</td>\n    </tr>\n    <tr>\n      <th>120696125</th>\n      <td>440000.0</td>\n      <td>51.0</td>\n      <td>-0.451470</td>\n      <td>1.1</td>\n      <td>3.0</td>\n      <td>1.0</td>\n      <td>13.0</td>\n      <td>20220305.0</td>\n      <td>4.0</td>\n      <td>NaN</td>\n      <td>...</td>\n      <td>False</td>\n      <td>False</td>\n      <td>False</td>\n      <td>False</td>\n      <td>False</td>\n      <td>False</td>\n      <td>False</td>\n      <td>False</td>\n      <td>False</td>\n      <td>False</td>\n    </tr>\n  </tbody>\n</table>\n<p>6146 rows × 287 columns</p>\n</div>"
     },
     "execution_count": 6,
     "metadata": {},
     "output_type": "execute_result"
    }
   ],
   "source": [
    "sample_incomplete_rows = df[df.isnull().any(axis=1)]  #.head()\n",
    "sample_incomplete_rows"
   ],
   "metadata": {
    "collapsed": false,
    "pycharm": {
     "name": "#%%\n"
    }
   }
  },
  {
   "cell_type": "code",
   "execution_count": 7,
   "outputs": [
    {
     "name": "stdout",
     "output_type": "stream",
     "text": [
      "1.0\n"
     ]
    },
    {
     "data": {
      "text/plain": "              Price  location.latitude  location.longitude  \\\nids                                                          \n123591656  260000.0               51.0           -0.041752   \n120150563  260000.0               51.0           -0.046701   \n123430484  260000.0               51.0           -0.038762   \n124760513  260000.0               51.0            0.013136   \n124450457  260000.0               51.0           -0.051040   \n...             ...                ...                 ...   \n123906503  440000.0               51.0           -0.413626   \n119011196  440000.0               51.0           -0.465703   \n120100592  440000.0               51.0           -0.432817   \n121041542  440000.0               51.0           -0.453880   \n120696125  440000.0               51.0           -0.451470   \n\n           distance_to_any_train  bedrooms_model  bathrooms_model  \\\nids                                                                 \n123591656                    0.3             1.0              1.0   \n120150563                    0.5             2.0              1.0   \n123430484                    0.4             1.0              1.0   \n124760513                    0.4             2.0              1.0   \n124450457                    0.5             NaN              1.0   \n...                          ...             ...              ...   \n123906503                    0.3             2.0              2.0   \n119011196                    0.8             3.0              1.0   \n120100592                    0.4             2.0              1.0   \n121041542                    1.0             3.0              1.0   \n120696125                    1.1             3.0              1.0   \n\n           analyticsProperty.imageCount  analyticsProperty.added  \\\nids                                                                \n123591656                          15.0               20220523.0   \n120150563                           7.0               20220218.0   \n123430484                           7.0               20220517.0   \n124760513                           9.0               20220707.0   \n124450457                          18.0               20220629.0   \n...                                 ...                      ...   \n123906503                           0.0               20220606.0   \n119011196                          10.0               20220121.0   \n120100592                          10.0               20220217.0   \n121041542                          11.0               20220314.0   \n120696125                          13.0               20220305.0   \n\n           floorplan_count  property_age  ...  content__cul_de  \\\nids                                       ...                    \n123591656              4.0           NaN  ...              NaN   \n120150563              4.0           NaN  ...            False   \n123430484              4.0           NaN  ...              NaN   \n124760513              4.0           NaN  ...            False   \n124450457              4.0           NaN  ...            False   \n...                    ...           ...  ...              ...   \n123906503              1.0           NaN  ...              NaN   \n119011196              4.0           NaN  ...            False   \n120100592              4.0           NaN  ...            False   \n121041542              4.0           NaN  ...            False   \n120696125              4.0           NaN  ...            False   \n\n           content__advised  content__de_sac  content__shared_ownership  \\\nids                                                                       \n123591656               NaN              NaN                        NaN   \n120150563             False            False                      False   \n123430484               NaN              NaN                        NaN   \n124760513             False            False                      False   \n124450457             False            False                      False   \n...                     ...              ...                        ...   \n123906503               NaN              NaN                        NaN   \n119011196             False            False                      False   \n120100592             False            False                      False   \n121041542             False            False                      False   \n120696125             False            False                      False   \n\n           content__ideally_located  content__garage  content__reliable  \\\nids                                                                       \n123591656                       NaN              NaN                NaN   \n120150563                     False            False               True   \n123430484                       NaN              NaN                NaN   \n124760513                     False            False              False   \n124450457                      True             True              False   \n...                             ...              ...                ...   \n123906503                       NaN              NaN                NaN   \n119011196                     False             True              False   \n120100592                     False            False              False   \n121041542                     False             True              False   \n120696125                     False            False              False   \n\n           content__ample_storage  content__floor_maisonette  \\\nids                                                            \n123591656                     NaN                        NaN   \n120150563                   False                      False   \n123430484                     NaN                        NaN   \n124760513                   False                      False   \n124450457                   False                      False   \n...                           ...                        ...   \n123906503                     NaN                        NaN   \n119011196                   False                      False   \n120100592                   False                       True   \n121041542                   False                      False   \n120696125                   False                      False   \n\n           content__spacious_reception  \nids                                     \n123591656                          NaN  \n120150563                        False  \n123430484                          NaN  \n124760513                        False  \n124450457                        False  \n...                                ...  \n123906503                          NaN  \n119011196                        False  \n120100592                        False  \n121041542                        False  \n120696125                        False  \n\n[6146 rows x 287 columns]",
      "text/html": "<div>\n<style scoped>\n    .dataframe tbody tr th:only-of-type {\n        vertical-align: middle;\n    }\n\n    .dataframe tbody tr th {\n        vertical-align: top;\n    }\n\n    .dataframe thead th {\n        text-align: right;\n    }\n</style>\n<table border=\"1\" class=\"dataframe\">\n  <thead>\n    <tr style=\"text-align: right;\">\n      <th></th>\n      <th>Price</th>\n      <th>location.latitude</th>\n      <th>location.longitude</th>\n      <th>distance_to_any_train</th>\n      <th>bedrooms_model</th>\n      <th>bathrooms_model</th>\n      <th>analyticsProperty.imageCount</th>\n      <th>analyticsProperty.added</th>\n      <th>floorplan_count</th>\n      <th>property_age</th>\n      <th>...</th>\n      <th>content__cul_de</th>\n      <th>content__advised</th>\n      <th>content__de_sac</th>\n      <th>content__shared_ownership</th>\n      <th>content__ideally_located</th>\n      <th>content__garage</th>\n      <th>content__reliable</th>\n      <th>content__ample_storage</th>\n      <th>content__floor_maisonette</th>\n      <th>content__spacious_reception</th>\n    </tr>\n    <tr>\n      <th>ids</th>\n      <th></th>\n      <th></th>\n      <th></th>\n      <th></th>\n      <th></th>\n      <th></th>\n      <th></th>\n      <th></th>\n      <th></th>\n      <th></th>\n      <th></th>\n      <th></th>\n      <th></th>\n      <th></th>\n      <th></th>\n      <th></th>\n      <th></th>\n      <th></th>\n      <th></th>\n      <th></th>\n      <th></th>\n    </tr>\n  </thead>\n  <tbody>\n    <tr>\n      <th>123591656</th>\n      <td>260000.0</td>\n      <td>51.0</td>\n      <td>-0.041752</td>\n      <td>0.3</td>\n      <td>1.0</td>\n      <td>1.0</td>\n      <td>15.0</td>\n      <td>20220523.0</td>\n      <td>4.0</td>\n      <td>NaN</td>\n      <td>...</td>\n      <td>NaN</td>\n      <td>NaN</td>\n      <td>NaN</td>\n      <td>NaN</td>\n      <td>NaN</td>\n      <td>NaN</td>\n      <td>NaN</td>\n      <td>NaN</td>\n      <td>NaN</td>\n      <td>NaN</td>\n    </tr>\n    <tr>\n      <th>120150563</th>\n      <td>260000.0</td>\n      <td>51.0</td>\n      <td>-0.046701</td>\n      <td>0.5</td>\n      <td>2.0</td>\n      <td>1.0</td>\n      <td>7.0</td>\n      <td>20220218.0</td>\n      <td>4.0</td>\n      <td>NaN</td>\n      <td>...</td>\n      <td>False</td>\n      <td>False</td>\n      <td>False</td>\n      <td>False</td>\n      <td>False</td>\n      <td>False</td>\n      <td>True</td>\n      <td>False</td>\n      <td>False</td>\n      <td>False</td>\n    </tr>\n    <tr>\n      <th>123430484</th>\n      <td>260000.0</td>\n      <td>51.0</td>\n      <td>-0.038762</td>\n      <td>0.4</td>\n      <td>1.0</td>\n      <td>1.0</td>\n      <td>7.0</td>\n      <td>20220517.0</td>\n      <td>4.0</td>\n      <td>NaN</td>\n      <td>...</td>\n      <td>NaN</td>\n      <td>NaN</td>\n      <td>NaN</td>\n      <td>NaN</td>\n      <td>NaN</td>\n      <td>NaN</td>\n      <td>NaN</td>\n      <td>NaN</td>\n      <td>NaN</td>\n      <td>NaN</td>\n    </tr>\n    <tr>\n      <th>124760513</th>\n      <td>260000.0</td>\n      <td>51.0</td>\n      <td>0.013136</td>\n      <td>0.4</td>\n      <td>2.0</td>\n      <td>1.0</td>\n      <td>9.0</td>\n      <td>20220707.0</td>\n      <td>4.0</td>\n      <td>NaN</td>\n      <td>...</td>\n      <td>False</td>\n      <td>False</td>\n      <td>False</td>\n      <td>False</td>\n      <td>False</td>\n      <td>False</td>\n      <td>False</td>\n      <td>False</td>\n      <td>False</td>\n      <td>False</td>\n    </tr>\n    <tr>\n      <th>124450457</th>\n      <td>260000.0</td>\n      <td>51.0</td>\n      <td>-0.051040</td>\n      <td>0.5</td>\n      <td>NaN</td>\n      <td>1.0</td>\n      <td>18.0</td>\n      <td>20220629.0</td>\n      <td>4.0</td>\n      <td>NaN</td>\n      <td>...</td>\n      <td>False</td>\n      <td>False</td>\n      <td>False</td>\n      <td>False</td>\n      <td>True</td>\n      <td>True</td>\n      <td>False</td>\n      <td>False</td>\n      <td>False</td>\n      <td>False</td>\n    </tr>\n    <tr>\n      <th>...</th>\n      <td>...</td>\n      <td>...</td>\n      <td>...</td>\n      <td>...</td>\n      <td>...</td>\n      <td>...</td>\n      <td>...</td>\n      <td>...</td>\n      <td>...</td>\n      <td>...</td>\n      <td>...</td>\n      <td>...</td>\n      <td>...</td>\n      <td>...</td>\n      <td>...</td>\n      <td>...</td>\n      <td>...</td>\n      <td>...</td>\n      <td>...</td>\n      <td>...</td>\n      <td>...</td>\n    </tr>\n    <tr>\n      <th>123906503</th>\n      <td>440000.0</td>\n      <td>51.0</td>\n      <td>-0.413626</td>\n      <td>0.3</td>\n      <td>2.0</td>\n      <td>2.0</td>\n      <td>0.0</td>\n      <td>20220606.0</td>\n      <td>1.0</td>\n      <td>NaN</td>\n      <td>...</td>\n      <td>NaN</td>\n      <td>NaN</td>\n      <td>NaN</td>\n      <td>NaN</td>\n      <td>NaN</td>\n      <td>NaN</td>\n      <td>NaN</td>\n      <td>NaN</td>\n      <td>NaN</td>\n      <td>NaN</td>\n    </tr>\n    <tr>\n      <th>119011196</th>\n      <td>440000.0</td>\n      <td>51.0</td>\n      <td>-0.465703</td>\n      <td>0.8</td>\n      <td>3.0</td>\n      <td>1.0</td>\n      <td>10.0</td>\n      <td>20220121.0</td>\n      <td>4.0</td>\n      <td>NaN</td>\n      <td>...</td>\n      <td>False</td>\n      <td>False</td>\n      <td>False</td>\n      <td>False</td>\n      <td>False</td>\n      <td>True</td>\n      <td>False</td>\n      <td>False</td>\n      <td>False</td>\n      <td>False</td>\n    </tr>\n    <tr>\n      <th>120100592</th>\n      <td>440000.0</td>\n      <td>51.0</td>\n      <td>-0.432817</td>\n      <td>0.4</td>\n      <td>2.0</td>\n      <td>1.0</td>\n      <td>10.0</td>\n      <td>20220217.0</td>\n      <td>4.0</td>\n      <td>NaN</td>\n      <td>...</td>\n      <td>False</td>\n      <td>False</td>\n      <td>False</td>\n      <td>False</td>\n      <td>False</td>\n      <td>False</td>\n      <td>False</td>\n      <td>False</td>\n      <td>True</td>\n      <td>False</td>\n    </tr>\n    <tr>\n      <th>121041542</th>\n      <td>440000.0</td>\n      <td>51.0</td>\n      <td>-0.453880</td>\n      <td>1.0</td>\n      <td>3.0</td>\n      <td>1.0</td>\n      <td>11.0</td>\n      <td>20220314.0</td>\n      <td>4.0</td>\n      <td>NaN</td>\n      <td>...</td>\n      <td>False</td>\n      <td>False</td>\n      <td>False</td>\n      <td>False</td>\n      <td>False</td>\n      <td>True</td>\n      <td>False</td>\n      <td>False</td>\n      <td>False</td>\n      <td>False</td>\n    </tr>\n    <tr>\n      <th>120696125</th>\n      <td>440000.0</td>\n      <td>51.0</td>\n      <td>-0.451470</td>\n      <td>1.1</td>\n      <td>3.0</td>\n      <td>1.0</td>\n      <td>13.0</td>\n      <td>20220305.0</td>\n      <td>4.0</td>\n      <td>NaN</td>\n      <td>...</td>\n      <td>False</td>\n      <td>False</td>\n      <td>False</td>\n      <td>False</td>\n      <td>False</td>\n      <td>False</td>\n      <td>False</td>\n      <td>False</td>\n      <td>False</td>\n      <td>False</td>\n    </tr>\n  </tbody>\n</table>\n<p>6146 rows × 287 columns</p>\n</div>"
     },
     "execution_count": 7,
     "metadata": {},
     "output_type": "execute_result"
    }
   ],
   "source": [
    "median_bathroom = df['bathrooms_model'].median()\n",
    "print(median_bathroom)\n",
    "\n",
    "df['bathrooms_model'].fillna(median_bathroom, inplace=True)\n",
    "\n",
    "sample_incomplete_rows = df[df.isnull().any(axis=1)]  #.head()\n",
    "sample_incomplete_rows"
   ],
   "metadata": {
    "collapsed": false,
    "pycharm": {
     "name": "#%%\n"
    }
   }
  },
  {
   "cell_type": "code",
   "execution_count": 8,
   "outputs": [
    {
     "name": "stdout",
     "output_type": "stream",
     "text": [
      "2.0\n"
     ]
    },
    {
     "data": {
      "text/plain": "              Price  location.latitude  location.longitude  \\\nids                                                          \n123591656  260000.0               51.0           -0.041752   \n120150563  260000.0               51.0           -0.046701   \n123430484  260000.0               51.0           -0.038762   \n124760513  260000.0               51.0            0.013136   \n124450457  260000.0               51.0           -0.051040   \n...             ...                ...                 ...   \n123906503  440000.0               51.0           -0.413626   \n119011196  440000.0               51.0           -0.465703   \n120100592  440000.0               51.0           -0.432817   \n121041542  440000.0               51.0           -0.453880   \n120696125  440000.0               51.0           -0.451470   \n\n           distance_to_any_train  bedrooms_model  bathrooms_model  \\\nids                                                                 \n123591656                    0.3             1.0              1.0   \n120150563                    0.5             2.0              1.0   \n123430484                    0.4             1.0              1.0   \n124760513                    0.4             2.0              1.0   \n124450457                    0.5             2.0              1.0   \n...                          ...             ...              ...   \n123906503                    0.3             2.0              2.0   \n119011196                    0.8             3.0              1.0   \n120100592                    0.4             2.0              1.0   \n121041542                    1.0             3.0              1.0   \n120696125                    1.1             3.0              1.0   \n\n           analyticsProperty.imageCount  analyticsProperty.added  \\\nids                                                                \n123591656                          15.0               20220523.0   \n120150563                           7.0               20220218.0   \n123430484                           7.0               20220517.0   \n124760513                           9.0               20220707.0   \n124450457                          18.0               20220629.0   \n...                                 ...                      ...   \n123906503                           0.0               20220606.0   \n119011196                          10.0               20220121.0   \n120100592                          10.0               20220217.0   \n121041542                          11.0               20220314.0   \n120696125                          13.0               20220305.0   \n\n           floorplan_count  property_age  ...  content__cul_de  \\\nids                                       ...                    \n123591656              4.0           NaN  ...              NaN   \n120150563              4.0           NaN  ...            False   \n123430484              4.0           NaN  ...              NaN   \n124760513              4.0           NaN  ...            False   \n124450457              4.0           NaN  ...            False   \n...                    ...           ...  ...              ...   \n123906503              1.0           NaN  ...              NaN   \n119011196              4.0           NaN  ...            False   \n120100592              4.0           NaN  ...            False   \n121041542              4.0           NaN  ...            False   \n120696125              4.0           NaN  ...            False   \n\n           content__advised  content__de_sac  content__shared_ownership  \\\nids                                                                       \n123591656               NaN              NaN                        NaN   \n120150563             False            False                      False   \n123430484               NaN              NaN                        NaN   \n124760513             False            False                      False   \n124450457             False            False                      False   \n...                     ...              ...                        ...   \n123906503               NaN              NaN                        NaN   \n119011196             False            False                      False   \n120100592             False            False                      False   \n121041542             False            False                      False   \n120696125             False            False                      False   \n\n           content__ideally_located  content__garage  content__reliable  \\\nids                                                                       \n123591656                       NaN              NaN                NaN   \n120150563                     False            False               True   \n123430484                       NaN              NaN                NaN   \n124760513                     False            False              False   \n124450457                      True             True              False   \n...                             ...              ...                ...   \n123906503                       NaN              NaN                NaN   \n119011196                     False             True              False   \n120100592                     False            False              False   \n121041542                     False             True              False   \n120696125                     False            False              False   \n\n           content__ample_storage  content__floor_maisonette  \\\nids                                                            \n123591656                     NaN                        NaN   \n120150563                   False                      False   \n123430484                     NaN                        NaN   \n124760513                   False                      False   \n124450457                   False                      False   \n...                           ...                        ...   \n123906503                     NaN                        NaN   \n119011196                   False                      False   \n120100592                   False                       True   \n121041542                   False                      False   \n120696125                   False                      False   \n\n           content__spacious_reception  \nids                                     \n123591656                          NaN  \n120150563                        False  \n123430484                          NaN  \n124760513                        False  \n124450457                        False  \n...                                ...  \n123906503                          NaN  \n119011196                        False  \n120100592                        False  \n121041542                        False  \n120696125                        False  \n\n[5835 rows x 287 columns]",
      "text/html": "<div>\n<style scoped>\n    .dataframe tbody tr th:only-of-type {\n        vertical-align: middle;\n    }\n\n    .dataframe tbody tr th {\n        vertical-align: top;\n    }\n\n    .dataframe thead th {\n        text-align: right;\n    }\n</style>\n<table border=\"1\" class=\"dataframe\">\n  <thead>\n    <tr style=\"text-align: right;\">\n      <th></th>\n      <th>Price</th>\n      <th>location.latitude</th>\n      <th>location.longitude</th>\n      <th>distance_to_any_train</th>\n      <th>bedrooms_model</th>\n      <th>bathrooms_model</th>\n      <th>analyticsProperty.imageCount</th>\n      <th>analyticsProperty.added</th>\n      <th>floorplan_count</th>\n      <th>property_age</th>\n      <th>...</th>\n      <th>content__cul_de</th>\n      <th>content__advised</th>\n      <th>content__de_sac</th>\n      <th>content__shared_ownership</th>\n      <th>content__ideally_located</th>\n      <th>content__garage</th>\n      <th>content__reliable</th>\n      <th>content__ample_storage</th>\n      <th>content__floor_maisonette</th>\n      <th>content__spacious_reception</th>\n    </tr>\n    <tr>\n      <th>ids</th>\n      <th></th>\n      <th></th>\n      <th></th>\n      <th></th>\n      <th></th>\n      <th></th>\n      <th></th>\n      <th></th>\n      <th></th>\n      <th></th>\n      <th></th>\n      <th></th>\n      <th></th>\n      <th></th>\n      <th></th>\n      <th></th>\n      <th></th>\n      <th></th>\n      <th></th>\n      <th></th>\n      <th></th>\n    </tr>\n  </thead>\n  <tbody>\n    <tr>\n      <th>123591656</th>\n      <td>260000.0</td>\n      <td>51.0</td>\n      <td>-0.041752</td>\n      <td>0.3</td>\n      <td>1.0</td>\n      <td>1.0</td>\n      <td>15.0</td>\n      <td>20220523.0</td>\n      <td>4.0</td>\n      <td>NaN</td>\n      <td>...</td>\n      <td>NaN</td>\n      <td>NaN</td>\n      <td>NaN</td>\n      <td>NaN</td>\n      <td>NaN</td>\n      <td>NaN</td>\n      <td>NaN</td>\n      <td>NaN</td>\n      <td>NaN</td>\n      <td>NaN</td>\n    </tr>\n    <tr>\n      <th>120150563</th>\n      <td>260000.0</td>\n      <td>51.0</td>\n      <td>-0.046701</td>\n      <td>0.5</td>\n      <td>2.0</td>\n      <td>1.0</td>\n      <td>7.0</td>\n      <td>20220218.0</td>\n      <td>4.0</td>\n      <td>NaN</td>\n      <td>...</td>\n      <td>False</td>\n      <td>False</td>\n      <td>False</td>\n      <td>False</td>\n      <td>False</td>\n      <td>False</td>\n      <td>True</td>\n      <td>False</td>\n      <td>False</td>\n      <td>False</td>\n    </tr>\n    <tr>\n      <th>123430484</th>\n      <td>260000.0</td>\n      <td>51.0</td>\n      <td>-0.038762</td>\n      <td>0.4</td>\n      <td>1.0</td>\n      <td>1.0</td>\n      <td>7.0</td>\n      <td>20220517.0</td>\n      <td>4.0</td>\n      <td>NaN</td>\n      <td>...</td>\n      <td>NaN</td>\n      <td>NaN</td>\n      <td>NaN</td>\n      <td>NaN</td>\n      <td>NaN</td>\n      <td>NaN</td>\n      <td>NaN</td>\n      <td>NaN</td>\n      <td>NaN</td>\n      <td>NaN</td>\n    </tr>\n    <tr>\n      <th>124760513</th>\n      <td>260000.0</td>\n      <td>51.0</td>\n      <td>0.013136</td>\n      <td>0.4</td>\n      <td>2.0</td>\n      <td>1.0</td>\n      <td>9.0</td>\n      <td>20220707.0</td>\n      <td>4.0</td>\n      <td>NaN</td>\n      <td>...</td>\n      <td>False</td>\n      <td>False</td>\n      <td>False</td>\n      <td>False</td>\n      <td>False</td>\n      <td>False</td>\n      <td>False</td>\n      <td>False</td>\n      <td>False</td>\n      <td>False</td>\n    </tr>\n    <tr>\n      <th>124450457</th>\n      <td>260000.0</td>\n      <td>51.0</td>\n      <td>-0.051040</td>\n      <td>0.5</td>\n      <td>2.0</td>\n      <td>1.0</td>\n      <td>18.0</td>\n      <td>20220629.0</td>\n      <td>4.0</td>\n      <td>NaN</td>\n      <td>...</td>\n      <td>False</td>\n      <td>False</td>\n      <td>False</td>\n      <td>False</td>\n      <td>True</td>\n      <td>True</td>\n      <td>False</td>\n      <td>False</td>\n      <td>False</td>\n      <td>False</td>\n    </tr>\n    <tr>\n      <th>...</th>\n      <td>...</td>\n      <td>...</td>\n      <td>...</td>\n      <td>...</td>\n      <td>...</td>\n      <td>...</td>\n      <td>...</td>\n      <td>...</td>\n      <td>...</td>\n      <td>...</td>\n      <td>...</td>\n      <td>...</td>\n      <td>...</td>\n      <td>...</td>\n      <td>...</td>\n      <td>...</td>\n      <td>...</td>\n      <td>...</td>\n      <td>...</td>\n      <td>...</td>\n      <td>...</td>\n    </tr>\n    <tr>\n      <th>123906503</th>\n      <td>440000.0</td>\n      <td>51.0</td>\n      <td>-0.413626</td>\n      <td>0.3</td>\n      <td>2.0</td>\n      <td>2.0</td>\n      <td>0.0</td>\n      <td>20220606.0</td>\n      <td>1.0</td>\n      <td>NaN</td>\n      <td>...</td>\n      <td>NaN</td>\n      <td>NaN</td>\n      <td>NaN</td>\n      <td>NaN</td>\n      <td>NaN</td>\n      <td>NaN</td>\n      <td>NaN</td>\n      <td>NaN</td>\n      <td>NaN</td>\n      <td>NaN</td>\n    </tr>\n    <tr>\n      <th>119011196</th>\n      <td>440000.0</td>\n      <td>51.0</td>\n      <td>-0.465703</td>\n      <td>0.8</td>\n      <td>3.0</td>\n      <td>1.0</td>\n      <td>10.0</td>\n      <td>20220121.0</td>\n      <td>4.0</td>\n      <td>NaN</td>\n      <td>...</td>\n      <td>False</td>\n      <td>False</td>\n      <td>False</td>\n      <td>False</td>\n      <td>False</td>\n      <td>True</td>\n      <td>False</td>\n      <td>False</td>\n      <td>False</td>\n      <td>False</td>\n    </tr>\n    <tr>\n      <th>120100592</th>\n      <td>440000.0</td>\n      <td>51.0</td>\n      <td>-0.432817</td>\n      <td>0.4</td>\n      <td>2.0</td>\n      <td>1.0</td>\n      <td>10.0</td>\n      <td>20220217.0</td>\n      <td>4.0</td>\n      <td>NaN</td>\n      <td>...</td>\n      <td>False</td>\n      <td>False</td>\n      <td>False</td>\n      <td>False</td>\n      <td>False</td>\n      <td>False</td>\n      <td>False</td>\n      <td>False</td>\n      <td>True</td>\n      <td>False</td>\n    </tr>\n    <tr>\n      <th>121041542</th>\n      <td>440000.0</td>\n      <td>51.0</td>\n      <td>-0.453880</td>\n      <td>1.0</td>\n      <td>3.0</td>\n      <td>1.0</td>\n      <td>11.0</td>\n      <td>20220314.0</td>\n      <td>4.0</td>\n      <td>NaN</td>\n      <td>...</td>\n      <td>False</td>\n      <td>False</td>\n      <td>False</td>\n      <td>False</td>\n      <td>False</td>\n      <td>True</td>\n      <td>False</td>\n      <td>False</td>\n      <td>False</td>\n      <td>False</td>\n    </tr>\n    <tr>\n      <th>120696125</th>\n      <td>440000.0</td>\n      <td>51.0</td>\n      <td>-0.451470</td>\n      <td>1.1</td>\n      <td>3.0</td>\n      <td>1.0</td>\n      <td>13.0</td>\n      <td>20220305.0</td>\n      <td>4.0</td>\n      <td>NaN</td>\n      <td>...</td>\n      <td>False</td>\n      <td>False</td>\n      <td>False</td>\n      <td>False</td>\n      <td>False</td>\n      <td>False</td>\n      <td>False</td>\n      <td>False</td>\n      <td>False</td>\n      <td>False</td>\n    </tr>\n  </tbody>\n</table>\n<p>5835 rows × 287 columns</p>\n</div>"
     },
     "execution_count": 8,
     "metadata": {},
     "output_type": "execute_result"
    }
   ],
   "source": [
    "median_bedrooms = df['bedrooms_model'].median()\n",
    "print(median_bedrooms)\n",
    "\n",
    "df['bedrooms_model'].fillna(median_bedrooms, inplace=True)\n",
    "\n",
    "sample_incomplete_rows = df[df.isnull().any(axis=1)]  #.head()\n",
    "sample_incomplete_rows"
   ],
   "metadata": {
    "collapsed": false,
    "pycharm": {
     "name": "#%%\n"
    }
   }
  },
  {
   "cell_type": "code",
   "execution_count": 9,
   "outputs": [
    {
     "name": "stdout",
     "output_type": "stream",
     "text": [
      "12.0\n"
     ]
    },
    {
     "data": {
      "text/plain": "              Price  location.latitude  location.longitude  \\\nids                                                          \n123591656  260000.0               51.0           -0.041752   \n120150563  260000.0               51.0           -0.046701   \n123430484  260000.0               51.0           -0.038762   \n124760513  260000.0               51.0            0.013136   \n124450457  260000.0               51.0           -0.051040   \n...             ...                ...                 ...   \n123906503  440000.0               51.0           -0.413626   \n119011196  440000.0               51.0           -0.465703   \n120100592  440000.0               51.0           -0.432817   \n121041542  440000.0               51.0           -0.453880   \n120696125  440000.0               51.0           -0.451470   \n\n           distance_to_any_train  bedrooms_model  bathrooms_model  \\\nids                                                                 \n123591656                    0.3             1.0              1.0   \n120150563                    0.5             2.0              1.0   \n123430484                    0.4             1.0              1.0   \n124760513                    0.4             2.0              1.0   \n124450457                    0.5             2.0              1.0   \n...                          ...             ...              ...   \n123906503                    0.3             2.0              2.0   \n119011196                    0.8             3.0              1.0   \n120100592                    0.4             2.0              1.0   \n121041542                    1.0             3.0              1.0   \n120696125                    1.1             3.0              1.0   \n\n           analyticsProperty.imageCount  analyticsProperty.added  \\\nids                                                                \n123591656                          15.0               20220523.0   \n120150563                           7.0               20220218.0   \n123430484                           7.0               20220517.0   \n124760513                           9.0               20220707.0   \n124450457                          18.0               20220629.0   \n...                                 ...                      ...   \n123906503                           0.0               20220606.0   \n119011196                          10.0               20220121.0   \n120100592                          10.0               20220217.0   \n121041542                          11.0               20220314.0   \n120696125                          13.0               20220305.0   \n\n           floorplan_count  property_age  ...  content__cul_de  \\\nids                                       ...                    \n123591656              4.0           NaN  ...              NaN   \n120150563              4.0           NaN  ...            False   \n123430484              4.0           NaN  ...              NaN   \n124760513              4.0           NaN  ...            False   \n124450457              4.0           NaN  ...            False   \n...                    ...           ...  ...              ...   \n123906503              1.0           NaN  ...              NaN   \n119011196              4.0           NaN  ...            False   \n120100592              4.0           NaN  ...            False   \n121041542              4.0           NaN  ...            False   \n120696125              4.0           NaN  ...            False   \n\n           content__advised  content__de_sac  content__shared_ownership  \\\nids                                                                       \n123591656               NaN              NaN                        NaN   \n120150563             False            False                      False   \n123430484               NaN              NaN                        NaN   \n124760513             False            False                      False   \n124450457             False            False                      False   \n...                     ...              ...                        ...   \n123906503               NaN              NaN                        NaN   \n119011196             False            False                      False   \n120100592             False            False                      False   \n121041542             False            False                      False   \n120696125             False            False                      False   \n\n           content__ideally_located  content__garage  content__reliable  \\\nids                                                                       \n123591656                       NaN              NaN                NaN   \n120150563                     False            False               True   \n123430484                       NaN              NaN                NaN   \n124760513                     False            False              False   \n124450457                      True             True              False   \n...                             ...              ...                ...   \n123906503                       NaN              NaN                NaN   \n119011196                     False             True              False   \n120100592                     False            False              False   \n121041542                     False             True              False   \n120696125                     False            False              False   \n\n           content__ample_storage  content__floor_maisonette  \\\nids                                                            \n123591656                     NaN                        NaN   \n120150563                   False                      False   \n123430484                     NaN                        NaN   \n124760513                   False                      False   \n124450457                   False                      False   \n...                           ...                        ...   \n123906503                     NaN                        NaN   \n119011196                   False                      False   \n120100592                   False                       True   \n121041542                   False                      False   \n120696125                   False                      False   \n\n           content__spacious_reception  \nids                                     \n123591656                          NaN  \n120150563                        False  \n123430484                          NaN  \n124760513                        False  \n124450457                        False  \n...                                ...  \n123906503                          NaN  \n119011196                        False  \n120100592                        False  \n121041542                        False  \n120696125                        False  \n\n[5835 rows x 287 columns]",
      "text/html": "<div>\n<style scoped>\n    .dataframe tbody tr th:only-of-type {\n        vertical-align: middle;\n    }\n\n    .dataframe tbody tr th {\n        vertical-align: top;\n    }\n\n    .dataframe thead th {\n        text-align: right;\n    }\n</style>\n<table border=\"1\" class=\"dataframe\">\n  <thead>\n    <tr style=\"text-align: right;\">\n      <th></th>\n      <th>Price</th>\n      <th>location.latitude</th>\n      <th>location.longitude</th>\n      <th>distance_to_any_train</th>\n      <th>bedrooms_model</th>\n      <th>bathrooms_model</th>\n      <th>analyticsProperty.imageCount</th>\n      <th>analyticsProperty.added</th>\n      <th>floorplan_count</th>\n      <th>property_age</th>\n      <th>...</th>\n      <th>content__cul_de</th>\n      <th>content__advised</th>\n      <th>content__de_sac</th>\n      <th>content__shared_ownership</th>\n      <th>content__ideally_located</th>\n      <th>content__garage</th>\n      <th>content__reliable</th>\n      <th>content__ample_storage</th>\n      <th>content__floor_maisonette</th>\n      <th>content__spacious_reception</th>\n    </tr>\n    <tr>\n      <th>ids</th>\n      <th></th>\n      <th></th>\n      <th></th>\n      <th></th>\n      <th></th>\n      <th></th>\n      <th></th>\n      <th></th>\n      <th></th>\n      <th></th>\n      <th></th>\n      <th></th>\n      <th></th>\n      <th></th>\n      <th></th>\n      <th></th>\n      <th></th>\n      <th></th>\n      <th></th>\n      <th></th>\n      <th></th>\n    </tr>\n  </thead>\n  <tbody>\n    <tr>\n      <th>123591656</th>\n      <td>260000.0</td>\n      <td>51.0</td>\n      <td>-0.041752</td>\n      <td>0.3</td>\n      <td>1.0</td>\n      <td>1.0</td>\n      <td>15.0</td>\n      <td>20220523.0</td>\n      <td>4.0</td>\n      <td>NaN</td>\n      <td>...</td>\n      <td>NaN</td>\n      <td>NaN</td>\n      <td>NaN</td>\n      <td>NaN</td>\n      <td>NaN</td>\n      <td>NaN</td>\n      <td>NaN</td>\n      <td>NaN</td>\n      <td>NaN</td>\n      <td>NaN</td>\n    </tr>\n    <tr>\n      <th>120150563</th>\n      <td>260000.0</td>\n      <td>51.0</td>\n      <td>-0.046701</td>\n      <td>0.5</td>\n      <td>2.0</td>\n      <td>1.0</td>\n      <td>7.0</td>\n      <td>20220218.0</td>\n      <td>4.0</td>\n      <td>NaN</td>\n      <td>...</td>\n      <td>False</td>\n      <td>False</td>\n      <td>False</td>\n      <td>False</td>\n      <td>False</td>\n      <td>False</td>\n      <td>True</td>\n      <td>False</td>\n      <td>False</td>\n      <td>False</td>\n    </tr>\n    <tr>\n      <th>123430484</th>\n      <td>260000.0</td>\n      <td>51.0</td>\n      <td>-0.038762</td>\n      <td>0.4</td>\n      <td>1.0</td>\n      <td>1.0</td>\n      <td>7.0</td>\n      <td>20220517.0</td>\n      <td>4.0</td>\n      <td>NaN</td>\n      <td>...</td>\n      <td>NaN</td>\n      <td>NaN</td>\n      <td>NaN</td>\n      <td>NaN</td>\n      <td>NaN</td>\n      <td>NaN</td>\n      <td>NaN</td>\n      <td>NaN</td>\n      <td>NaN</td>\n      <td>NaN</td>\n    </tr>\n    <tr>\n      <th>124760513</th>\n      <td>260000.0</td>\n      <td>51.0</td>\n      <td>0.013136</td>\n      <td>0.4</td>\n      <td>2.0</td>\n      <td>1.0</td>\n      <td>9.0</td>\n      <td>20220707.0</td>\n      <td>4.0</td>\n      <td>NaN</td>\n      <td>...</td>\n      <td>False</td>\n      <td>False</td>\n      <td>False</td>\n      <td>False</td>\n      <td>False</td>\n      <td>False</td>\n      <td>False</td>\n      <td>False</td>\n      <td>False</td>\n      <td>False</td>\n    </tr>\n    <tr>\n      <th>124450457</th>\n      <td>260000.0</td>\n      <td>51.0</td>\n      <td>-0.051040</td>\n      <td>0.5</td>\n      <td>2.0</td>\n      <td>1.0</td>\n      <td>18.0</td>\n      <td>20220629.0</td>\n      <td>4.0</td>\n      <td>NaN</td>\n      <td>...</td>\n      <td>False</td>\n      <td>False</td>\n      <td>False</td>\n      <td>False</td>\n      <td>True</td>\n      <td>True</td>\n      <td>False</td>\n      <td>False</td>\n      <td>False</td>\n      <td>False</td>\n    </tr>\n    <tr>\n      <th>...</th>\n      <td>...</td>\n      <td>...</td>\n      <td>...</td>\n      <td>...</td>\n      <td>...</td>\n      <td>...</td>\n      <td>...</td>\n      <td>...</td>\n      <td>...</td>\n      <td>...</td>\n      <td>...</td>\n      <td>...</td>\n      <td>...</td>\n      <td>...</td>\n      <td>...</td>\n      <td>...</td>\n      <td>...</td>\n      <td>...</td>\n      <td>...</td>\n      <td>...</td>\n      <td>...</td>\n    </tr>\n    <tr>\n      <th>123906503</th>\n      <td>440000.0</td>\n      <td>51.0</td>\n      <td>-0.413626</td>\n      <td>0.3</td>\n      <td>2.0</td>\n      <td>2.0</td>\n      <td>0.0</td>\n      <td>20220606.0</td>\n      <td>1.0</td>\n      <td>NaN</td>\n      <td>...</td>\n      <td>NaN</td>\n      <td>NaN</td>\n      <td>NaN</td>\n      <td>NaN</td>\n      <td>NaN</td>\n      <td>NaN</td>\n      <td>NaN</td>\n      <td>NaN</td>\n      <td>NaN</td>\n      <td>NaN</td>\n    </tr>\n    <tr>\n      <th>119011196</th>\n      <td>440000.0</td>\n      <td>51.0</td>\n      <td>-0.465703</td>\n      <td>0.8</td>\n      <td>3.0</td>\n      <td>1.0</td>\n      <td>10.0</td>\n      <td>20220121.0</td>\n      <td>4.0</td>\n      <td>NaN</td>\n      <td>...</td>\n      <td>False</td>\n      <td>False</td>\n      <td>False</td>\n      <td>False</td>\n      <td>False</td>\n      <td>True</td>\n      <td>False</td>\n      <td>False</td>\n      <td>False</td>\n      <td>False</td>\n    </tr>\n    <tr>\n      <th>120100592</th>\n      <td>440000.0</td>\n      <td>51.0</td>\n      <td>-0.432817</td>\n      <td>0.4</td>\n      <td>2.0</td>\n      <td>1.0</td>\n      <td>10.0</td>\n      <td>20220217.0</td>\n      <td>4.0</td>\n      <td>NaN</td>\n      <td>...</td>\n      <td>False</td>\n      <td>False</td>\n      <td>False</td>\n      <td>False</td>\n      <td>False</td>\n      <td>False</td>\n      <td>False</td>\n      <td>False</td>\n      <td>True</td>\n      <td>False</td>\n    </tr>\n    <tr>\n      <th>121041542</th>\n      <td>440000.0</td>\n      <td>51.0</td>\n      <td>-0.453880</td>\n      <td>1.0</td>\n      <td>3.0</td>\n      <td>1.0</td>\n      <td>11.0</td>\n      <td>20220314.0</td>\n      <td>4.0</td>\n      <td>NaN</td>\n      <td>...</td>\n      <td>False</td>\n      <td>False</td>\n      <td>False</td>\n      <td>False</td>\n      <td>False</td>\n      <td>True</td>\n      <td>False</td>\n      <td>False</td>\n      <td>False</td>\n      <td>False</td>\n    </tr>\n    <tr>\n      <th>120696125</th>\n      <td>440000.0</td>\n      <td>51.0</td>\n      <td>-0.451470</td>\n      <td>1.1</td>\n      <td>3.0</td>\n      <td>1.0</td>\n      <td>13.0</td>\n      <td>20220305.0</td>\n      <td>4.0</td>\n      <td>NaN</td>\n      <td>...</td>\n      <td>False</td>\n      <td>False</td>\n      <td>False</td>\n      <td>False</td>\n      <td>False</td>\n      <td>False</td>\n      <td>False</td>\n      <td>False</td>\n      <td>False</td>\n      <td>False</td>\n    </tr>\n  </tbody>\n</table>\n<p>5835 rows × 287 columns</p>\n</div>"
     },
     "execution_count": 9,
     "metadata": {},
     "output_type": "execute_result"
    }
   ],
   "source": [
    "median_imageCount = df['analyticsProperty.imageCount'].median()\n",
    "print(median_imageCount)\n",
    "\n",
    "df['analyticsProperty.imageCount'].fillna(median_imageCount, inplace=True)\n",
    "\n",
    "sample_incomplete_rows = df[df.isnull().any(axis=1)]  #.head()\n",
    "sample_incomplete_rows"
   ],
   "metadata": {
    "collapsed": false,
    "pycharm": {
     "name": "#%%\n"
    }
   }
  },
  {
   "cell_type": "code",
   "execution_count": 10,
   "outputs": [
    {
     "name": "stdout",
     "output_type": "stream",
     "text": [
      "20220404.0\n"
     ]
    },
    {
     "data": {
      "text/plain": "              Price  location.latitude  location.longitude  \\\nids                                                          \n123591656  260000.0               51.0           -0.041752   \n120150563  260000.0               51.0           -0.046701   \n123430484  260000.0               51.0           -0.038762   \n124760513  260000.0               51.0            0.013136   \n124450457  260000.0               51.0           -0.051040   \n...             ...                ...                 ...   \n123906503  440000.0               51.0           -0.413626   \n119011196  440000.0               51.0           -0.465703   \n120100592  440000.0               51.0           -0.432817   \n121041542  440000.0               51.0           -0.453880   \n120696125  440000.0               51.0           -0.451470   \n\n           distance_to_any_train  bedrooms_model  bathrooms_model  \\\nids                                                                 \n123591656                    0.3             1.0              1.0   \n120150563                    0.5             2.0              1.0   \n123430484                    0.4             1.0              1.0   \n124760513                    0.4             2.0              1.0   \n124450457                    0.5             2.0              1.0   \n...                          ...             ...              ...   \n123906503                    0.3             2.0              2.0   \n119011196                    0.8             3.0              1.0   \n120100592                    0.4             2.0              1.0   \n121041542                    1.0             3.0              1.0   \n120696125                    1.1             3.0              1.0   \n\n           analyticsProperty.imageCount  analyticsProperty.added  \\\nids                                                                \n123591656                          15.0               20220523.0   \n120150563                           7.0               20220218.0   \n123430484                           7.0               20220517.0   \n124760513                           9.0               20220707.0   \n124450457                          18.0               20220629.0   \n...                                 ...                      ...   \n123906503                           0.0               20220606.0   \n119011196                          10.0               20220121.0   \n120100592                          10.0               20220217.0   \n121041542                          11.0               20220314.0   \n120696125                          13.0               20220305.0   \n\n           floorplan_count  property_age  ...  content__cul_de  \\\nids                                       ...                    \n123591656              4.0           NaN  ...              NaN   \n120150563              4.0           NaN  ...            False   \n123430484              4.0           NaN  ...              NaN   \n124760513              4.0           NaN  ...            False   \n124450457              4.0           NaN  ...            False   \n...                    ...           ...  ...              ...   \n123906503              1.0           NaN  ...              NaN   \n119011196              4.0           NaN  ...            False   \n120100592              4.0           NaN  ...            False   \n121041542              4.0           NaN  ...            False   \n120696125              4.0           NaN  ...            False   \n\n           content__advised  content__de_sac  content__shared_ownership  \\\nids                                                                       \n123591656               NaN              NaN                        NaN   \n120150563             False            False                      False   \n123430484               NaN              NaN                        NaN   \n124760513             False            False                      False   \n124450457             False            False                      False   \n...                     ...              ...                        ...   \n123906503               NaN              NaN                        NaN   \n119011196             False            False                      False   \n120100592             False            False                      False   \n121041542             False            False                      False   \n120696125             False            False                      False   \n\n           content__ideally_located  content__garage  content__reliable  \\\nids                                                                       \n123591656                       NaN              NaN                NaN   \n120150563                     False            False               True   \n123430484                       NaN              NaN                NaN   \n124760513                     False            False              False   \n124450457                      True             True              False   \n...                             ...              ...                ...   \n123906503                       NaN              NaN                NaN   \n119011196                     False             True              False   \n120100592                     False            False              False   \n121041542                     False             True              False   \n120696125                     False            False              False   \n\n           content__ample_storage  content__floor_maisonette  \\\nids                                                            \n123591656                     NaN                        NaN   \n120150563                   False                      False   \n123430484                     NaN                        NaN   \n124760513                   False                      False   \n124450457                   False                      False   \n...                           ...                        ...   \n123906503                     NaN                        NaN   \n119011196                   False                      False   \n120100592                   False                       True   \n121041542                   False                      False   \n120696125                   False                      False   \n\n           content__spacious_reception  \nids                                     \n123591656                          NaN  \n120150563                        False  \n123430484                          NaN  \n124760513                        False  \n124450457                        False  \n...                                ...  \n123906503                          NaN  \n119011196                        False  \n120100592                        False  \n121041542                        False  \n120696125                        False  \n\n[5835 rows x 287 columns]",
      "text/html": "<div>\n<style scoped>\n    .dataframe tbody tr th:only-of-type {\n        vertical-align: middle;\n    }\n\n    .dataframe tbody tr th {\n        vertical-align: top;\n    }\n\n    .dataframe thead th {\n        text-align: right;\n    }\n</style>\n<table border=\"1\" class=\"dataframe\">\n  <thead>\n    <tr style=\"text-align: right;\">\n      <th></th>\n      <th>Price</th>\n      <th>location.latitude</th>\n      <th>location.longitude</th>\n      <th>distance_to_any_train</th>\n      <th>bedrooms_model</th>\n      <th>bathrooms_model</th>\n      <th>analyticsProperty.imageCount</th>\n      <th>analyticsProperty.added</th>\n      <th>floorplan_count</th>\n      <th>property_age</th>\n      <th>...</th>\n      <th>content__cul_de</th>\n      <th>content__advised</th>\n      <th>content__de_sac</th>\n      <th>content__shared_ownership</th>\n      <th>content__ideally_located</th>\n      <th>content__garage</th>\n      <th>content__reliable</th>\n      <th>content__ample_storage</th>\n      <th>content__floor_maisonette</th>\n      <th>content__spacious_reception</th>\n    </tr>\n    <tr>\n      <th>ids</th>\n      <th></th>\n      <th></th>\n      <th></th>\n      <th></th>\n      <th></th>\n      <th></th>\n      <th></th>\n      <th></th>\n      <th></th>\n      <th></th>\n      <th></th>\n      <th></th>\n      <th></th>\n      <th></th>\n      <th></th>\n      <th></th>\n      <th></th>\n      <th></th>\n      <th></th>\n      <th></th>\n      <th></th>\n    </tr>\n  </thead>\n  <tbody>\n    <tr>\n      <th>123591656</th>\n      <td>260000.0</td>\n      <td>51.0</td>\n      <td>-0.041752</td>\n      <td>0.3</td>\n      <td>1.0</td>\n      <td>1.0</td>\n      <td>15.0</td>\n      <td>20220523.0</td>\n      <td>4.0</td>\n      <td>NaN</td>\n      <td>...</td>\n      <td>NaN</td>\n      <td>NaN</td>\n      <td>NaN</td>\n      <td>NaN</td>\n      <td>NaN</td>\n      <td>NaN</td>\n      <td>NaN</td>\n      <td>NaN</td>\n      <td>NaN</td>\n      <td>NaN</td>\n    </tr>\n    <tr>\n      <th>120150563</th>\n      <td>260000.0</td>\n      <td>51.0</td>\n      <td>-0.046701</td>\n      <td>0.5</td>\n      <td>2.0</td>\n      <td>1.0</td>\n      <td>7.0</td>\n      <td>20220218.0</td>\n      <td>4.0</td>\n      <td>NaN</td>\n      <td>...</td>\n      <td>False</td>\n      <td>False</td>\n      <td>False</td>\n      <td>False</td>\n      <td>False</td>\n      <td>False</td>\n      <td>True</td>\n      <td>False</td>\n      <td>False</td>\n      <td>False</td>\n    </tr>\n    <tr>\n      <th>123430484</th>\n      <td>260000.0</td>\n      <td>51.0</td>\n      <td>-0.038762</td>\n      <td>0.4</td>\n      <td>1.0</td>\n      <td>1.0</td>\n      <td>7.0</td>\n      <td>20220517.0</td>\n      <td>4.0</td>\n      <td>NaN</td>\n      <td>...</td>\n      <td>NaN</td>\n      <td>NaN</td>\n      <td>NaN</td>\n      <td>NaN</td>\n      <td>NaN</td>\n      <td>NaN</td>\n      <td>NaN</td>\n      <td>NaN</td>\n      <td>NaN</td>\n      <td>NaN</td>\n    </tr>\n    <tr>\n      <th>124760513</th>\n      <td>260000.0</td>\n      <td>51.0</td>\n      <td>0.013136</td>\n      <td>0.4</td>\n      <td>2.0</td>\n      <td>1.0</td>\n      <td>9.0</td>\n      <td>20220707.0</td>\n      <td>4.0</td>\n      <td>NaN</td>\n      <td>...</td>\n      <td>False</td>\n      <td>False</td>\n      <td>False</td>\n      <td>False</td>\n      <td>False</td>\n      <td>False</td>\n      <td>False</td>\n      <td>False</td>\n      <td>False</td>\n      <td>False</td>\n    </tr>\n    <tr>\n      <th>124450457</th>\n      <td>260000.0</td>\n      <td>51.0</td>\n      <td>-0.051040</td>\n      <td>0.5</td>\n      <td>2.0</td>\n      <td>1.0</td>\n      <td>18.0</td>\n      <td>20220629.0</td>\n      <td>4.0</td>\n      <td>NaN</td>\n      <td>...</td>\n      <td>False</td>\n      <td>False</td>\n      <td>False</td>\n      <td>False</td>\n      <td>True</td>\n      <td>True</td>\n      <td>False</td>\n      <td>False</td>\n      <td>False</td>\n      <td>False</td>\n    </tr>\n    <tr>\n      <th>...</th>\n      <td>...</td>\n      <td>...</td>\n      <td>...</td>\n      <td>...</td>\n      <td>...</td>\n      <td>...</td>\n      <td>...</td>\n      <td>...</td>\n      <td>...</td>\n      <td>...</td>\n      <td>...</td>\n      <td>...</td>\n      <td>...</td>\n      <td>...</td>\n      <td>...</td>\n      <td>...</td>\n      <td>...</td>\n      <td>...</td>\n      <td>...</td>\n      <td>...</td>\n      <td>...</td>\n    </tr>\n    <tr>\n      <th>123906503</th>\n      <td>440000.0</td>\n      <td>51.0</td>\n      <td>-0.413626</td>\n      <td>0.3</td>\n      <td>2.0</td>\n      <td>2.0</td>\n      <td>0.0</td>\n      <td>20220606.0</td>\n      <td>1.0</td>\n      <td>NaN</td>\n      <td>...</td>\n      <td>NaN</td>\n      <td>NaN</td>\n      <td>NaN</td>\n      <td>NaN</td>\n      <td>NaN</td>\n      <td>NaN</td>\n      <td>NaN</td>\n      <td>NaN</td>\n      <td>NaN</td>\n      <td>NaN</td>\n    </tr>\n    <tr>\n      <th>119011196</th>\n      <td>440000.0</td>\n      <td>51.0</td>\n      <td>-0.465703</td>\n      <td>0.8</td>\n      <td>3.0</td>\n      <td>1.0</td>\n      <td>10.0</td>\n      <td>20220121.0</td>\n      <td>4.0</td>\n      <td>NaN</td>\n      <td>...</td>\n      <td>False</td>\n      <td>False</td>\n      <td>False</td>\n      <td>False</td>\n      <td>False</td>\n      <td>True</td>\n      <td>False</td>\n      <td>False</td>\n      <td>False</td>\n      <td>False</td>\n    </tr>\n    <tr>\n      <th>120100592</th>\n      <td>440000.0</td>\n      <td>51.0</td>\n      <td>-0.432817</td>\n      <td>0.4</td>\n      <td>2.0</td>\n      <td>1.0</td>\n      <td>10.0</td>\n      <td>20220217.0</td>\n      <td>4.0</td>\n      <td>NaN</td>\n      <td>...</td>\n      <td>False</td>\n      <td>False</td>\n      <td>False</td>\n      <td>False</td>\n      <td>False</td>\n      <td>False</td>\n      <td>False</td>\n      <td>False</td>\n      <td>True</td>\n      <td>False</td>\n    </tr>\n    <tr>\n      <th>121041542</th>\n      <td>440000.0</td>\n      <td>51.0</td>\n      <td>-0.453880</td>\n      <td>1.0</td>\n      <td>3.0</td>\n      <td>1.0</td>\n      <td>11.0</td>\n      <td>20220314.0</td>\n      <td>4.0</td>\n      <td>NaN</td>\n      <td>...</td>\n      <td>False</td>\n      <td>False</td>\n      <td>False</td>\n      <td>False</td>\n      <td>False</td>\n      <td>True</td>\n      <td>False</td>\n      <td>False</td>\n      <td>False</td>\n      <td>False</td>\n    </tr>\n    <tr>\n      <th>120696125</th>\n      <td>440000.0</td>\n      <td>51.0</td>\n      <td>-0.451470</td>\n      <td>1.1</td>\n      <td>3.0</td>\n      <td>1.0</td>\n      <td>13.0</td>\n      <td>20220305.0</td>\n      <td>4.0</td>\n      <td>NaN</td>\n      <td>...</td>\n      <td>False</td>\n      <td>False</td>\n      <td>False</td>\n      <td>False</td>\n      <td>False</td>\n      <td>False</td>\n      <td>False</td>\n      <td>False</td>\n      <td>False</td>\n      <td>False</td>\n    </tr>\n  </tbody>\n</table>\n<p>5835 rows × 287 columns</p>\n</div>"
     },
     "execution_count": 10,
     "metadata": {},
     "output_type": "execute_result"
    }
   ],
   "source": [
    "median_added = df['analyticsProperty.added'].median()\n",
    "print(median_added)\n",
    "\n",
    "df['analyticsProperty.added'].fillna(median_added, inplace=True)\n",
    "\n",
    "sample_incomplete_rows = df[df.isnull().any(axis=1)]  #.head()\n",
    "sample_incomplete_rows"
   ],
   "metadata": {
    "collapsed": false,
    "pycharm": {
     "name": "#%%\n"
    }
   }
  },
  {
   "cell_type": "code",
   "execution_count": 11,
   "outputs": [
    {
     "data": {
      "text/plain": "              Price  location.latitude  location.longitude  \\\nids                                                          \n123591656  260000.0               51.0           -0.041752   \n120150563  260000.0               51.0           -0.046701   \n123430484  260000.0               51.0           -0.038762   \n124760513  260000.0               51.0            0.013136   \n124450457  260000.0               51.0           -0.051040   \n...             ...                ...                 ...   \n123906503  440000.0               51.0           -0.413626   \n119011196  440000.0               51.0           -0.465703   \n120100592  440000.0               51.0           -0.432817   \n121041542  440000.0               51.0           -0.453880   \n120696125  440000.0               51.0           -0.451470   \n\n           distance_to_any_train  bedrooms_model  bathrooms_model  \\\nids                                                                 \n123591656                    0.3             1.0              1.0   \n120150563                    0.5             2.0              1.0   \n123430484                    0.4             1.0              1.0   \n124760513                    0.4             2.0              1.0   \n124450457                    0.5             2.0              1.0   \n...                          ...             ...              ...   \n123906503                    0.3             2.0              2.0   \n119011196                    0.8             3.0              1.0   \n120100592                    0.4             2.0              1.0   \n121041542                    1.0             3.0              1.0   \n120696125                    1.1             3.0              1.0   \n\n           analyticsProperty.imageCount  analyticsProperty.added  \\\nids                                                                \n123591656                          15.0               20220523.0   \n120150563                           7.0               20220218.0   \n123430484                           7.0               20220517.0   \n124760513                           9.0               20220707.0   \n124450457                          18.0               20220629.0   \n...                                 ...                      ...   \n123906503                           0.0               20220606.0   \n119011196                          10.0               20220121.0   \n120100592                          10.0               20220217.0   \n121041542                          11.0               20220314.0   \n120696125                          13.0               20220305.0   \n\n           floorplan_count  property_age  ...  content__cul_de  \\\nids                                       ...                    \n123591656              4.0           NaN  ...              NaN   \n120150563              4.0           NaN  ...            False   \n123430484              4.0           NaN  ...              NaN   \n124760513              4.0           NaN  ...            False   \n124450457              4.0           NaN  ...            False   \n...                    ...           ...  ...              ...   \n123906503              1.0           NaN  ...              NaN   \n119011196              4.0           NaN  ...            False   \n120100592              4.0           NaN  ...            False   \n121041542              4.0           NaN  ...            False   \n120696125              4.0           NaN  ...            False   \n\n           content__advised  content__de_sac  content__shared_ownership  \\\nids                                                                       \n123591656               NaN              NaN                        NaN   \n120150563             False            False                      False   \n123430484               NaN              NaN                        NaN   \n124760513             False            False                      False   \n124450457             False            False                      False   \n...                     ...              ...                        ...   \n123906503               NaN              NaN                        NaN   \n119011196             False            False                      False   \n120100592             False            False                      False   \n121041542             False            False                      False   \n120696125             False            False                      False   \n\n           content__ideally_located  content__garage  content__reliable  \\\nids                                                                       \n123591656                       NaN              NaN                NaN   \n120150563                     False            False               True   \n123430484                       NaN              NaN                NaN   \n124760513                     False            False              False   \n124450457                      True             True              False   \n...                             ...              ...                ...   \n123906503                       NaN              NaN                NaN   \n119011196                     False             True              False   \n120100592                     False            False              False   \n121041542                     False             True              False   \n120696125                     False            False              False   \n\n           content__ample_storage  content__floor_maisonette  \\\nids                                                            \n123591656                     NaN                        NaN   \n120150563                   False                      False   \n123430484                     NaN                        NaN   \n124760513                   False                      False   \n124450457                   False                      False   \n...                           ...                        ...   \n123906503                     NaN                        NaN   \n119011196                   False                      False   \n120100592                   False                       True   \n121041542                   False                      False   \n120696125                   False                      False   \n\n           content__spacious_reception  \nids                                     \n123591656                          NaN  \n120150563                        False  \n123430484                          NaN  \n124760513                        False  \n124450457                        False  \n...                                ...  \n123906503                          NaN  \n119011196                        False  \n120100592                        False  \n121041542                        False  \n120696125                        False  \n\n[5834 rows x 287 columns]",
      "text/html": "<div>\n<style scoped>\n    .dataframe tbody tr th:only-of-type {\n        vertical-align: middle;\n    }\n\n    .dataframe tbody tr th {\n        vertical-align: top;\n    }\n\n    .dataframe thead th {\n        text-align: right;\n    }\n</style>\n<table border=\"1\" class=\"dataframe\">\n  <thead>\n    <tr style=\"text-align: right;\">\n      <th></th>\n      <th>Price</th>\n      <th>location.latitude</th>\n      <th>location.longitude</th>\n      <th>distance_to_any_train</th>\n      <th>bedrooms_model</th>\n      <th>bathrooms_model</th>\n      <th>analyticsProperty.imageCount</th>\n      <th>analyticsProperty.added</th>\n      <th>floorplan_count</th>\n      <th>property_age</th>\n      <th>...</th>\n      <th>content__cul_de</th>\n      <th>content__advised</th>\n      <th>content__de_sac</th>\n      <th>content__shared_ownership</th>\n      <th>content__ideally_located</th>\n      <th>content__garage</th>\n      <th>content__reliable</th>\n      <th>content__ample_storage</th>\n      <th>content__floor_maisonette</th>\n      <th>content__spacious_reception</th>\n    </tr>\n    <tr>\n      <th>ids</th>\n      <th></th>\n      <th></th>\n      <th></th>\n      <th></th>\n      <th></th>\n      <th></th>\n      <th></th>\n      <th></th>\n      <th></th>\n      <th></th>\n      <th></th>\n      <th></th>\n      <th></th>\n      <th></th>\n      <th></th>\n      <th></th>\n      <th></th>\n      <th></th>\n      <th></th>\n      <th></th>\n      <th></th>\n    </tr>\n  </thead>\n  <tbody>\n    <tr>\n      <th>123591656</th>\n      <td>260000.0</td>\n      <td>51.0</td>\n      <td>-0.041752</td>\n      <td>0.3</td>\n      <td>1.0</td>\n      <td>1.0</td>\n      <td>15.0</td>\n      <td>20220523.0</td>\n      <td>4.0</td>\n      <td>NaN</td>\n      <td>...</td>\n      <td>NaN</td>\n      <td>NaN</td>\n      <td>NaN</td>\n      <td>NaN</td>\n      <td>NaN</td>\n      <td>NaN</td>\n      <td>NaN</td>\n      <td>NaN</td>\n      <td>NaN</td>\n      <td>NaN</td>\n    </tr>\n    <tr>\n      <th>120150563</th>\n      <td>260000.0</td>\n      <td>51.0</td>\n      <td>-0.046701</td>\n      <td>0.5</td>\n      <td>2.0</td>\n      <td>1.0</td>\n      <td>7.0</td>\n      <td>20220218.0</td>\n      <td>4.0</td>\n      <td>NaN</td>\n      <td>...</td>\n      <td>False</td>\n      <td>False</td>\n      <td>False</td>\n      <td>False</td>\n      <td>False</td>\n      <td>False</td>\n      <td>True</td>\n      <td>False</td>\n      <td>False</td>\n      <td>False</td>\n    </tr>\n    <tr>\n      <th>123430484</th>\n      <td>260000.0</td>\n      <td>51.0</td>\n      <td>-0.038762</td>\n      <td>0.4</td>\n      <td>1.0</td>\n      <td>1.0</td>\n      <td>7.0</td>\n      <td>20220517.0</td>\n      <td>4.0</td>\n      <td>NaN</td>\n      <td>...</td>\n      <td>NaN</td>\n      <td>NaN</td>\n      <td>NaN</td>\n      <td>NaN</td>\n      <td>NaN</td>\n      <td>NaN</td>\n      <td>NaN</td>\n      <td>NaN</td>\n      <td>NaN</td>\n      <td>NaN</td>\n    </tr>\n    <tr>\n      <th>124760513</th>\n      <td>260000.0</td>\n      <td>51.0</td>\n      <td>0.013136</td>\n      <td>0.4</td>\n      <td>2.0</td>\n      <td>1.0</td>\n      <td>9.0</td>\n      <td>20220707.0</td>\n      <td>4.0</td>\n      <td>NaN</td>\n      <td>...</td>\n      <td>False</td>\n      <td>False</td>\n      <td>False</td>\n      <td>False</td>\n      <td>False</td>\n      <td>False</td>\n      <td>False</td>\n      <td>False</td>\n      <td>False</td>\n      <td>False</td>\n    </tr>\n    <tr>\n      <th>124450457</th>\n      <td>260000.0</td>\n      <td>51.0</td>\n      <td>-0.051040</td>\n      <td>0.5</td>\n      <td>2.0</td>\n      <td>1.0</td>\n      <td>18.0</td>\n      <td>20220629.0</td>\n      <td>4.0</td>\n      <td>NaN</td>\n      <td>...</td>\n      <td>False</td>\n      <td>False</td>\n      <td>False</td>\n      <td>False</td>\n      <td>True</td>\n      <td>True</td>\n      <td>False</td>\n      <td>False</td>\n      <td>False</td>\n      <td>False</td>\n    </tr>\n    <tr>\n      <th>...</th>\n      <td>...</td>\n      <td>...</td>\n      <td>...</td>\n      <td>...</td>\n      <td>...</td>\n      <td>...</td>\n      <td>...</td>\n      <td>...</td>\n      <td>...</td>\n      <td>...</td>\n      <td>...</td>\n      <td>...</td>\n      <td>...</td>\n      <td>...</td>\n      <td>...</td>\n      <td>...</td>\n      <td>...</td>\n      <td>...</td>\n      <td>...</td>\n      <td>...</td>\n      <td>...</td>\n    </tr>\n    <tr>\n      <th>123906503</th>\n      <td>440000.0</td>\n      <td>51.0</td>\n      <td>-0.413626</td>\n      <td>0.3</td>\n      <td>2.0</td>\n      <td>2.0</td>\n      <td>0.0</td>\n      <td>20220606.0</td>\n      <td>1.0</td>\n      <td>NaN</td>\n      <td>...</td>\n      <td>NaN</td>\n      <td>NaN</td>\n      <td>NaN</td>\n      <td>NaN</td>\n      <td>NaN</td>\n      <td>NaN</td>\n      <td>NaN</td>\n      <td>NaN</td>\n      <td>NaN</td>\n      <td>NaN</td>\n    </tr>\n    <tr>\n      <th>119011196</th>\n      <td>440000.0</td>\n      <td>51.0</td>\n      <td>-0.465703</td>\n      <td>0.8</td>\n      <td>3.0</td>\n      <td>1.0</td>\n      <td>10.0</td>\n      <td>20220121.0</td>\n      <td>4.0</td>\n      <td>NaN</td>\n      <td>...</td>\n      <td>False</td>\n      <td>False</td>\n      <td>False</td>\n      <td>False</td>\n      <td>False</td>\n      <td>True</td>\n      <td>False</td>\n      <td>False</td>\n      <td>False</td>\n      <td>False</td>\n    </tr>\n    <tr>\n      <th>120100592</th>\n      <td>440000.0</td>\n      <td>51.0</td>\n      <td>-0.432817</td>\n      <td>0.4</td>\n      <td>2.0</td>\n      <td>1.0</td>\n      <td>10.0</td>\n      <td>20220217.0</td>\n      <td>4.0</td>\n      <td>NaN</td>\n      <td>...</td>\n      <td>False</td>\n      <td>False</td>\n      <td>False</td>\n      <td>False</td>\n      <td>False</td>\n      <td>False</td>\n      <td>False</td>\n      <td>False</td>\n      <td>True</td>\n      <td>False</td>\n    </tr>\n    <tr>\n      <th>121041542</th>\n      <td>440000.0</td>\n      <td>51.0</td>\n      <td>-0.453880</td>\n      <td>1.0</td>\n      <td>3.0</td>\n      <td>1.0</td>\n      <td>11.0</td>\n      <td>20220314.0</td>\n      <td>4.0</td>\n      <td>NaN</td>\n      <td>...</td>\n      <td>False</td>\n      <td>False</td>\n      <td>False</td>\n      <td>False</td>\n      <td>False</td>\n      <td>True</td>\n      <td>False</td>\n      <td>False</td>\n      <td>False</td>\n      <td>False</td>\n    </tr>\n    <tr>\n      <th>120696125</th>\n      <td>440000.0</td>\n      <td>51.0</td>\n      <td>-0.451470</td>\n      <td>1.1</td>\n      <td>3.0</td>\n      <td>1.0</td>\n      <td>13.0</td>\n      <td>20220305.0</td>\n      <td>4.0</td>\n      <td>NaN</td>\n      <td>...</td>\n      <td>False</td>\n      <td>False</td>\n      <td>False</td>\n      <td>False</td>\n      <td>False</td>\n      <td>False</td>\n      <td>False</td>\n      <td>False</td>\n      <td>False</td>\n      <td>False</td>\n    </tr>\n  </tbody>\n</table>\n<p>5834 rows × 287 columns</p>\n</div>"
     },
     "execution_count": 11,
     "metadata": {},
     "output_type": "execute_result"
    }
   ],
   "source": [
    "#df = df['Price'].dropna()\n",
    "#sample_incomplete_rows = df[df.isnull().any(axis=1)].copy() #.head()\n",
    "#sample_incomplete_rows\n",
    "df = df.dropna(subset=\"Price\")\n",
    "df = df.dropna(subset=[\"analyticsProperty.added\", 'location.latitude', 'location.longitude'])\n",
    "\n",
    "sample_incomplete_rows = df[df.isnull().any(axis=1)]  #.head()\n",
    "sample_incomplete_rows"
   ],
   "metadata": {
    "collapsed": false,
    "pycharm": {
     "name": "#%%\n"
    }
   }
  },
  {
   "cell_type": "code",
   "execution_count": 12,
   "outputs": [
    {
     "data": {
      "text/plain": "Price                                                False\nlocation.latitude                                    False\nlocation.longitude                                   False\ndistance_to_any_train                                False\nbedrooms_model                                       False\nbathrooms_model                                      False\nanalyticsProperty.imageCount                         False\nanalyticsProperty.added                              False\nfloorplan_count                                      False\nproperty_age                                          True\nborough_name_Barking and Dagenham                    False\nborough_name_Barnet                                  False\nborough_name_Bexley                                  False\nborough_name_City of London                          False\nborough_name_Croydon                                 False\nborough_name_Ealing                                  False\nborough_name_Enfield                                 False\nborough_name_Greenwich                               False\nborough_name_Havering                                False\nborough_name_Hillingdon                              False\nborough_name_Hounslow                                False\nborough_name_Islington                               False\nborough_name_Kensington and Chelsea                  False\nborough_name_Kingston upon Thames                    False\nborough_name_Lambeth                                 False\nborough_name_Lewisham                                False\nborough_name_Redbridge                               False\nborough_name_Sutton                                  False\nborough_name_Tower Hamlets                           False\nborough_name_Waltham Forest                          False\nborough_name_Wandsworth                              False\nborough_name_Westminster                             False\nanalyticsProperty.propertyType_Bungalows             False\nanalyticsProperty.propertyType_Character Property    False\nanalyticsProperty.propertyType_Flats / Apartments    False\nanalyticsProperty.propertyType_Houses                False\nanalyticsProperty.propertyType_Land                  False\nanalyticsProperty.propertyType_Not Specified         False\npropertySubType_Apartment                            False\npropertySubType_Block of Apartments                  False\npropertySubType_Bungalow                             False\npropertySubType_Character Property                   False\npropertySubType_Cottage                              False\npropertySubType_Detached                             False\npropertySubType_Detached Bungalow                    False\npropertySubType_Duplex                               False\npropertySubType_End of Terrace                       False\npropertySubType_Flat                                 False\npropertySubType_Ground Flat                          False\npropertySubType_Ground Maisonette                    False\npropertySubType_Hotel Room                           False\npropertySubType_House                                False\npropertySubType_Link Detached House                  False\npropertySubType_Maisonette                           False\npropertySubType_Mews                                 False\npropertySubType_Not Specified                        False\npropertySubType_Penthouse                            False\npropertySubType_Semi-Detached                        False\npropertySubType_Semi-Detached Bungalow               False\npropertySubType_Studio                               False\npropertySubType_Terraced                             False\npropertySubType_Terraced Bungalow                    False\npropertySubType_Town House                           False\ncoarse_compass_direction_BR                          False\ncoarse_compass_direction_CR                          False\ncoarse_compass_direction_DA                          False\ncoarse_compass_direction_E                           False\ncoarse_compass_direction_EC                          False\ncoarse_compass_direction_EN                          False\ncoarse_compass_direction_England                     False\ncoarse_compass_direction_HA                          False\ncoarse_compass_direction_IG                          False\ncoarse_compass_direction_KT                          False\ncoarse_compass_direction_N                           False\ncoarse_compass_direction_NW                          False\ncoarse_compass_direction_RM                          False\ncoarse_compass_direction_SE                          False\ncoarse_compass_direction_SM                          False\ncoarse_compass_direction_SW                          False\ncoarse_compass_direction_TW                          False\ncoarse_compass_direction_UB                          False\ncoarse_compass_direction_W                           False\ncoarse_compass_direction_WC                          False\ncoarse_compass_direction_WD                          False\ntenure.tenureType_FREEHOLD                           False\ntenure.tenureType_LEASEHOLD                          False\ntenure.tenureType_SHARE_OF_FREEHOLD                  False\ncontent__double_bedroom                               True\ncontent__double_glazed                                True\ncontent__first_floor                                  True\ncontent__glazed_window                                True\ncontent__reception_room                               True\ncontent__ground_floor                                 True\ncontent__open_plan                                    True\ncontent__rear_garden                                  True\ncontent__two_bedroom                                  True\ncontent__fitted_kitchen                               True\ncontent__two_double                                   True\ncontent__transport_link                               True\ncontent__chain_free                                   True\ncontent__one_bedroom                                  True\ncontent__three_bedroom                                True\ncontent__communal_garden                              True\ncontent__street_parking                               True\ncontent__family_bathroom                              True\ncontent__bedroom_apartment                            True\ncontent__will                                         True\ncontent__walking_distance                             True\ncontent__living_room                                  True\ncontent__close                                        True\ncontent__service_charge                               True\ncontent__central_heating                              True\ncontent__benefits                                     True\ncontent__shower_room                                  True\ncontent__ground_rent                                  True\ncontent__access                                       True\ncontent__first_time                                   True\ncontent__council_tax                                  True\ncontent__gas_central                                  True\ncontent__allocated_parking                            True\ncontent__entrance_hall                                True\ncontent__en_suite                                     True\ncontent__information                                  True\ncontent__dining_room                                  True\ncontent__local_amenities                              True\ncontent__double_glazing                               True\ncontent__private_balcony                              True\ncontent__short_walk                                   True\ncontent__high_street                                  True\ncontent__plan_kitchen                                 True\ncontent__located                                      True\ncontent__tax_band                                     True\ncontent__easy_access                                  True\ncontent__sq_ft                                        True\ncontent__onward_chain                                 True\ncontent__information_provided                         True\ncontent__floor_apartment                              True\ncontent__estate_agent                                 True\ncontent__parking_space                                True\ncontent__storage_cupboard                             True\ncontent__share                                        True\ncontent__town_centre                                  True\ncontent__floor_flat                                   True\ncontent__full_detail                                  True\ncontent__strongly_advise                              True\ncontent__within_easy                                  True\ncontent__freehold                                     True\ncontent__market                                       True\ncontent__purpose_built                                True\ncontent__bedroom_two                                  True\ncontent__pleased                                      True\ncontent__viewing                                      True\ncontent__second_floor                                 True\ncontent__situated                                     True\ncontent__sought                                       True\ncontent__private_garden                               True\ncontent__w_c                                          True\ncontent__bright                                       True\ncontent__front                                        True\ncontent__available                                    True\ncontent__fitted_wardrobe                              True\ncontent__time_buyer                                   True\ncontent__heart                                        True\ncontent__within_walking                               True\ncontent__train_station                                True\ncontent__master_bedroom                               True\ncontent__local_shop                                   True\ncontent__central_london                               True\ncontent__top_floor                                    True\ncontent__kitchen_diner                                True\ncontent__ideal                                        True\ncontent__tiled_wall                                   True\ncontent__view                                         True\ncontent__long_lease                                   True\ncontent__offers                                       True\ncontent__bedroom_flat                                 True\ncontent__bus_route                                    True\ncontent__underground_station                          True\ncontent__mixer_tap                                    True\ncontent__contract                                     True\ncontent__hand_basin                                   True\ncontent__offered                                      True\ncontent__epc_rating                                   True\ncontent__modern_kitchen                               True\ncontent__living_space                                 True\ncontent__plan_living                                  True\ncontent__easy_reach                                   True\ncontent__city                                         True\ncontent__years_remaining                              True\ncontent__semi_detached                                True\ncontent__close_proximity                              True\ncontent__vendor                                       True\ncontent__washing_machine                              True\ncontent__located_within                               True\ncontent__integrated_appliance                         True\ncontent__tube_station                                 True\ncontent__separate_kitchen                             True\ncontent__low_level                                    True\ncontent__benefits_include                             True\ncontent__brochures_particular                         True\ncontent__prospective_buyer                            True\ncontent__laminate_flooring                            True\ncontent__two_bathroom                                 True\ncontent__enquiries                                    True\ncontent__representation                               True\ncontent__natural_light                                True\ncontent__perfect                                      True\ncontent__restaurant                                   True\ncontent__modern_bathroom                              True\ncontent__contact                                      True\ncontent__wash_hand                                    True\ncontent__position                                     True\ncontent__plenty                                       True\ncontent__mile                                         True\ncontent__bedroom_one                                  True\ncontent__base_unit                                    True\ncontent__power_point                                  True\ncontent__looking                                      True\ncontent__per_annum                                    True\ncontent__provided_solely                              True\ncontent__fridge_freezer                               True\ncontent__good_size                                    True\ncontent__three_piece                                  True\ncontent__form_part                                    True\ncontent__bay_window                                   True\ncontent__space                                        True\ncontent__front_aspect                                 True\ncontent__open_space                                   True\ncontent__brochures_full                               True\ncontent__delighted                                    True\ncontent__modern_fitted                                True\ncontent__bathroom_suite                               True\ncontent__rear_aspect                                  True\ncontent__minute_walk                                  True\ncontent__accordingly                                  True\ncontent__amenitie                                     True\ncontent__good_sized                                   True\ncontent__one_double                                   True\ncontent__front_door                                   True\ncontent__office                                       True\ncontent__south_facing                                 True\ncontent__highly_recommended                           True\ncontent__walk_away                                    True\ncontent__green_space                                  True\ncontent__bedroom_ground                               True\ncontent__living_area                                  True\ncontent__canary_wharf                                 True\ncontent__wood_flooring                                True\ncontent__excellent_transport                          True\ncontent__equipment                                    True\ncontent__wall_mounted                                 True\ncontent__primary_school                               True\ncontent__fact                                         True\ncontent__built                                        True\ncontent__seller                                       True\ncontent__guidance                                     True\ncontent__dining_area                                  True\ncontent__wardrobe                                     True\ncontent__stainless_steel                              True\ncontent__fully_fitted                                 True\ncontent__bedroom_first                                True\ncontent__call                                         True\ncontent__private_rear                                 True\ncontent__direct_access                                True\ncontent__mainline_station                             True\ncontent__guide_price                                  True\ncontent__split_level                                  True\ncontent__present                                      True\ncontent__appliance                                    True\ncontent__brochures_web                                True\ncontent__popular                                      True\ncontent__comprise                                     True\ncontent__web_details                                  True\ncontent__conveniently_located                         True\ncontent__year_lease                                   True\ncontent__moment                                       True\ncontent__found                                        True\ncontent__cul_de                                       True\ncontent__advised                                      True\ncontent__de_sac                                       True\ncontent__shared_ownership                             True\ncontent__ideally_located                              True\ncontent__garage                                       True\ncontent__reliable                                     True\ncontent__ample_storage                                True\ncontent__floor_maisonette                             True\ncontent__spacious_reception                           True\ndtype: bool"
     },
     "execution_count": 12,
     "metadata": {},
     "output_type": "execute_result"
    }
   ],
   "source": [
    "df.isnull().any() == True"
   ],
   "metadata": {
    "collapsed": false,
    "pycharm": {
     "name": "#%%\n"
    }
   }
  },
  {
   "cell_type": "markdown",
   "source": [
    "## Prepare data for training the model"
   ],
   "metadata": {
    "collapsed": false,
    "pycharm": {
     "name": "#%% md\n"
    }
   }
  },
  {
   "cell_type": "code",
   "execution_count": 13,
   "outputs": [
    {
     "name": "stdout",
     "output_type": "stream",
     "text": [
      "14758\n",
      "8924\n"
     ]
    }
   ],
   "source": [
    "print(len(df))\n",
    "df = df.dropna()\n",
    "print(len(df))"
   ],
   "metadata": {
    "collapsed": false,
    "pycharm": {
     "name": "#%%\n"
    }
   }
  },
  {
   "cell_type": "code",
   "execution_count": 14,
   "outputs": [],
   "source": [
    "y = df['Price']\n",
    "X = df.drop(['Price'], axis=1)\n",
    "X_train, X_test, y_train, y_test = train_test_split(X, y, test_size=0.05, random_state=42)"
   ],
   "metadata": {
    "collapsed": false,
    "pycharm": {
     "name": "#%%\n"
    }
   }
  },
  {
   "cell_type": "markdown",
   "source": [
    "## Build a Random Forest model"
   ],
   "metadata": {
    "collapsed": false,
    "pycharm": {
     "name": "#%% md\n"
    }
   }
  },
  {
   "cell_type": "code",
   "execution_count": 15,
   "outputs": [],
   "source": [
    "from sklearn.ensemble import RandomForestRegressor\n",
    "\n",
    "regressor = RandomForestRegressor(n_estimators=200, random_state=42)\n",
    "\n",
    "regressor.fit(X_train, y_train)\n",
    "\n",
    "y_pred = regressor.predict(X_test)"
   ],
   "metadata": {
    "collapsed": false,
    "pycharm": {
     "name": "#%%\n"
    }
   }
  },
  {
   "cell_type": "markdown",
   "source": [
    "## Evaluate the model on the test data"
   ],
   "metadata": {
    "collapsed": false,
    "pycharm": {
     "name": "#%% md\n"
    }
   }
  },
  {
   "cell_type": "code",
   "execution_count": 16,
   "outputs": [
    {
     "name": "stdout",
     "output_type": "stream",
     "text": [
      "<class 'numpy.ndarray'>\n",
      "<class 'numpy.ndarray'>\n"
     ]
    }
   ],
   "source": [
    "print(type(y_test.values))\n",
    "print(type(y_pred))\n"
   ],
   "metadata": {
    "collapsed": false,
    "pycharm": {
     "name": "#%%\n"
    }
   }
  },
  {
   "cell_type": "code",
   "execution_count": 17,
   "outputs": [
    {
     "data": {
      "text/plain": "4298512536.950683"
     },
     "execution_count": 17,
     "metadata": {},
     "output_type": "execute_result"
    }
   ],
   "source": [
    "metrics.mean_squared_error(y_test.values, y_pred)"
   ],
   "metadata": {
    "collapsed": false,
    "pycharm": {
     "name": "#%%\n"
    }
   }
  },
  {
   "cell_type": "markdown",
   "source": [
    "##"
   ],
   "metadata": {
    "collapsed": false,
    "pycharm": {
     "name": "#%% md\n"
    }
   }
  },
  {
   "cell_type": "code",
   "execution_count": 18,
   "outputs": [
    {
     "data": {
      "text/plain": "0.6086747608117653"
     },
     "execution_count": 18,
     "metadata": {},
     "output_type": "execute_result"
    }
   ],
   "source": [
    "#metrics.accuracy_score(y_test.values, y_pred)\n",
    "regressor.score(X_test, y_test)\n",
    "#regressor.score(X, y)"
   ],
   "metadata": {
    "collapsed": false,
    "pycharm": {
     "name": "#%%\n"
    }
   }
  },
  {
   "cell_type": "code",
   "execution_count": 19,
   "outputs": [
    {
     "data": {
      "text/plain": "[(600000.0, 597364.925),\n (600000.0, 592160.0),\n (600000.0, 591974.125),\n (600000.0, 564481.695),\n (600000.0, 562594.225),\n (600000.0, 562024.66),\n (600000.0, 561276.295),\n (600000.0, 559652.0),\n (600000.0, 546307.72),\n (600000.0, 545877.475),\n (600000.0, 544068.2),\n (600000.0, 542767.35),\n (600000.0, 530118.77),\n (600000.0, 529017.425),\n (600000.0, 524653.525),\n (600000.0, 522632.245),\n (600000.0, 510524.225),\n (600000.0, 505131.5),\n (600000.0, 504036.82),\n (600000.0, 499849.95),\n (600000.0, 474971.75),\n (600000.0, 461017.74),\n (600000.0, 430101.745),\n (600000.0, 304600.5),\n (599995.0, 562283.65),\n (599950.0, 549762.25),\n (599950.0, 529873.445),\n (599950.0, 513429.465),\n (599950.0, 493937.92),\n (599950.0, 493303.75),\n (595000.0, 559418.955),\n (595000.0, 554219.245),\n (595000.0, 406736.945),\n (585000.0, 486270.22),\n (583000.0, 564999.735),\n (580000.0, 496464.745),\n (580000.0, 451591.0),\n (579500.0, 512664.09),\n (575000.0, 578037.15),\n (575000.0, 574124.925),\n (575000.0, 572087.45),\n (575000.0, 560644.95),\n (575000.0, 560338.675),\n (575000.0, 555149.48),\n (575000.0, 545704.205),\n (575000.0, 536650.475),\n (575000.0, 536413.92),\n (575000.0, 534597.995),\n (575000.0, 532089.725),\n (575000.0, 531736.725),\n (575000.0, 529536.5),\n (575000.0, 518308.0),\n (575000.0, 514849.975),\n (575000.0, 513074.225),\n (575000.0, 495260.485),\n (575000.0, 488928.7),\n (575000.0, 484873.64166666666),\n (575000.0, 480523.4783333333),\n (575000.0, 439424.225),\n (575000.0, 432930.495),\n (572500.0, 421878.77),\n (565000.0, 494730.96),\n (560000.0, 545819.445),\n (560000.0, 477987.25),\n (559950.0, 507818.98),\n (550000.0, 562072.57),\n (550000.0, 553338.915),\n (550000.0, 543450.195),\n (550000.0, 542859.965),\n (550000.0, 539974.0),\n (550000.0, 537798.975),\n (550000.0, 534944.475),\n (550000.0, 533674.395),\n (550000.0, 533665.32),\n (550000.0, 533589.1),\n (550000.0, 531969.25),\n (550000.0, 527274.5),\n (550000.0, 525302.49),\n (550000.0, 523398.475),\n (550000.0, 511763.92),\n (550000.0, 510655.6),\n (550000.0, 508028.245),\n (550000.0, 506767.15),\n (550000.0, 505213.225),\n (550000.0, 504771.0),\n (550000.0, 503849.975),\n (550000.0, 503274.75),\n (550000.0, 499259.75),\n (550000.0, 498541.75),\n (550000.0, 497419.25),\n (550000.0, 495790.46),\n (550000.0, 492374.95),\n (550000.0, 489876.985),\n (550000.0, 486199.45),\n (550000.0, 483905.575),\n (550000.0, 482151.715),\n (550000.0, 462052.64666666667),\n (550000.0, 455649.95),\n (550000.0, 453919.45),\n (550000.0, 450340.91),\n (550000.0, 414385.095),\n (549950.0, 532295.75),\n (549950.0, 511689.25),\n (549000.0, 427449.75),\n (546250.0, 479052.745),\n (545500.0, 515105.65),\n (545000.0, 453327.25),\n (540000.0, 543519.32),\n (539950.0, 532916.72),\n (537500.0, 534758.5),\n (535000.0, 535677.975),\n (535000.0, 531156.5),\n (535000.0, 461629.455),\n (535000.0, 454395.745),\n (535000.0, 409108.86),\n (534995.0, 502547.975),\n (534995.0, 456397.2),\n (530000.0, 523739.25),\n (530000.0, 522703.45),\n (530000.0, 513326.995),\n (530000.0, 511982.75),\n (530000.0, 500983.735),\n (525000.0, 544756.325),\n (525000.0, 543693.915),\n (525000.0, 540674.235),\n (525000.0, 536509.45),\n (525000.0, 535874.475),\n (525000.0, 535108.025),\n (525000.0, 529222.15),\n (525000.0, 526517.245),\n (525000.0, 524858.625),\n (525000.0, 523772.2),\n (525000.0, 522496.3452380952),\n (525000.0, 517543.75),\n (525000.0, 514548.25),\n (525000.0, 509540.49),\n (525000.0, 509243.735),\n (525000.0, 507203.5),\n (525000.0, 507109.315),\n (525000.0, 504826.25),\n (525000.0, 502872.975),\n (525000.0, 499201.745),\n (525000.0, 496217.75),\n (525000.0, 491074.95),\n (525000.0, 489898.0),\n (525000.0, 489117.95),\n (525000.0, 485676.49),\n (525000.0, 478818.975),\n (525000.0, 478053.495),\n (525000.0, 474723.495),\n (525000.0, 464355.75),\n (525000.0, 463673.4),\n (525000.0, 448851.5),\n (525000.0, 421613.97),\n (525000.0, 342173.475),\n (520000.0, 558199.41),\n (520000.0, 510421.95),\n (515000.0, 568444.73),\n (515000.0, 538028.94),\n (515000.0, 535064.725),\n (515000.0, 522417.375),\n (515000.0, 514791.75),\n (515000.0, 511574.475),\n (510000.0, 540879.745),\n (510000.0, 535478.625),\n (509950.0, 563074.21),\n (500000.0, 555104.5),\n (500000.0, 531175.225),\n (500000.0, 520591.47),\n (500000.0, 520569.0),\n (500000.0, 520422.25),\n (500000.0, 516398.74),\n (500000.0, 516198.25),\n (500000.0, 514694.75),\n (500000.0, 513085.225),\n (500000.0, 512769.0),\n (500000.0, 508746.75),\n (500000.0, 507807.72),\n (500000.0, 506960.89),\n (500000.0, 506848.7),\n (500000.0, 506282.0),\n (500000.0, 496075.0),\n (500000.0, 494719.725),\n (500000.0, 486870.49),\n (500000.0, 484399.275),\n (500000.0, 480042.0),\n (500000.0, 479960.975),\n (500000.0, 477759.495),\n (500000.0, 477199.975),\n (500000.0, 471025.0),\n (500000.0, 466300.0),\n (500000.0, 459024.33333333326),\n (500000.0, 457075.0),\n (500000.0, 449322.475),\n (500000.0, 425023.2),\n (500000.0, 404858.955),\n (500000.0, 381519.22),\n (499995.0, 464620.1083333333),\n (499995.0, 446073.93),\n (499950.0, 501174.25),\n (499950.0, 499382.925),\n (499950.0, 448104.795),\n (499000.0, 444761.2227272727),\n (497500.0, 484434.65),\n (495000.0, 517789.225),\n (492500.0, 292133.41269841266),\n (485000.0, 528024.725),\n (485000.0, 394204.5),\n (480000.0, 541653.5),\n (480000.0, 530545.725),\n (475000.0, 541899.24),\n (475000.0, 538514.145),\n (475000.0, 536639.3),\n (475000.0, 511959.24),\n (475000.0, 509599.95),\n (475000.0, 501307.0),\n (475000.0, 493976.575),\n (475000.0, 474637.475),\n (475000.0, 473488.925),\n (475000.0, 461009.725),\n (475000.0, 454857.895),\n (475000.0, 454834.725),\n (475000.0, 448691.2),\n (475000.0, 427514.74),\n (475000.0, 412705.5),\n (475000.0, 385811.40166666673),\n (470000.0, 438482.75),\n (469950.0, 421179.0),\n (465000.0, 522761.0),\n (465000.0, 464814.5),\n (460000.0, 491497.0),\n (460000.0, 481593.49),\n (460000.0, 456729.02),\n (460000.0, 455304.35),\n (460000.0, 439944.75),\n (460000.0, 407148.04),\n (455000.0, 470216.945),\n (450000.0, 533462.99),\n (450000.0, 523145.75),\n (450000.0, 519958.97),\n (450000.0, 518623.72),\n (450000.0, 502324.475),\n (450000.0, 501715.0),\n (450000.0, 497973.75),\n (450000.0, 493224.75),\n (450000.0, 487899.375),\n (450000.0, 483100.0),\n (450000.0, 479716.0),\n (450000.0, 479699.5),\n (450000.0, 475368.235),\n (450000.0, 474278.995),\n (450000.0, 472900.3),\n (450000.0, 470704.0),\n (450000.0, 469049.5),\n (450000.0, 466615.5),\n (450000.0, 466463.75),\n (450000.0, 457749.925),\n (450000.0, 454874.2),\n (450000.0, 447529.95),\n (450000.0, 443389.445),\n (450000.0, 428340.0),\n (450000.0, 420901.655),\n (450000.0, 416004.89166666666),\n (450000.0, 404917.0),\n (450000.0, 400093.71666666673),\n (450000.0, 394217.48),\n (449950.0, 515766.475),\n (445000.0, 501391.25),\n (440000.0, 486204.475),\n (440000.0, 433722.07666666666),\n (440000.0, 433320.6654761905),\n (439950.0, 476269.73),\n (435000.0, 531875.475),\n (435000.0, 502339.75),\n (435000.0, 464170.925),\n (435000.0, 431685.33),\n (430000.0, 419089.954047619),\n (425000.0, 519929.495),\n (425000.0, 515379.3),\n (425000.0, 509324.925),\n (425000.0, 500780.75),\n (425000.0, 491383.16666666674),\n (425000.0, 485533.445),\n (425000.0, 484604.475),\n (425000.0, 483065.83166666667),\n (425000.0, 465602.5),\n (425000.0, 461125.0),\n (425000.0, 457492.725),\n (425000.0, 453614.24),\n (425000.0, 452259.75),\n (425000.0, 438339.49),\n (425000.0, 436720.745),\n (425000.0, 421389.0),\n (425000.0, 402855.74),\n (425000.0, 400926.615),\n (425000.0, 399203.95),\n (425000.0, 388599.495),\n (425000.0, 360483.22),\n (420000.0, 501341.43),\n (419950.0, 469190.195),\n (415000.0, 482275.68),\n (415000.0, 463418.695),\n (410000.0, 435986.68),\n (407995.0, 420068.3066017317),\n (400000.0, 541523.7),\n (400000.0, 504921.84),\n (400000.0, 497497.99),\n (400000.0, 482517.995),\n (400000.0, 479331.4833333333),\n (400000.0, 479070.64),\n (400000.0, 472159.0),\n (400000.0, 442357.83333333326),\n (400000.0, 440096.225),\n (400000.0, 437706.1421428572),\n (400000.0, 430755.09285714285),\n (400000.0, 429581.0),\n (400000.0, 424190.4066666666),\n (400000.0, 420906.925),\n (400000.0, 420796.75),\n (400000.0, 419758.45),\n (400000.0, 417739.20333333337),\n (400000.0, 416103.47),\n (400000.0, 413971.745),\n (400000.0, 413725.51),\n (400000.0, 413140.74),\n (400000.0, 405468.4),\n (400000.0, 403166.95),\n (400000.0, 337107.0),\n (399999.0, 473088.225),\n (399999.0, 360875.725),\n (399999.0, 331283.52),\n (399995.0, 450594.215),\n (399000.0, 409888.945),\n (395000.0, 450567.225),\n (395000.0, 448005.16666666674),\n (395000.0, 405762.995),\n (390000.0, 543596.49),\n (390000.0, 474251.13),\n (390000.0, 404030.225),\n (386000.0, 423019.75),\n (385000.0, 410055.54),\n (385000.0, 369046.72),\n (380000.0, 455566.975),\n (380000.0, 419874.94),\n (380000.0, 411265.0),\n (380000.0, 383109.225),\n (380000.0, 376704.47),\n (380000.0, 345739.49),\n (379995.0, 428146.345),\n (379950.0, 463671.0),\n (375000.0, 495484.495),\n (375000.0, 493629.2),\n (375000.0, 458777.955),\n (375000.0, 456743.75),\n (375000.0, 456598.975),\n (375000.0, 455304.205),\n (375000.0, 446525.715),\n (375000.0, 437264.475),\n (375000.0, 433203.2),\n (375000.0, 419643.915),\n (375000.0, 406736.12),\n (375000.0, 395274.5),\n (375000.0, 393430.205),\n (375000.0, 378209.975),\n (375000.0, 374279.86),\n (375000.0, 373577.435),\n (370000.0, 403012.5833333334),\n (365000.0, 425073.22),\n (365000.0, 424189.245),\n (360000.0, 416267.24),\n (360000.0, 390379.5),\n (350000.0, 447026.175),\n (350000.0, 439680.25),\n (350000.0, 435696.0),\n (350000.0, 430724.49),\n (350000.0, 423119.925),\n (350000.0, 418346.125),\n (350000.0, 413555.495),\n (350000.0, 409033.91333333333),\n (350000.0, 407911.9116666666),\n (350000.0, 400866.7916666666),\n (350000.0, 391097.97666666674),\n (350000.0, 366795.98),\n (350000.0, 362748.65),\n (350000.0, 336563.16),\n (350000.0, 316961.945),\n (343000.0, 333955.7),\n (340000.0, 441119.8647619047),\n (340000.0, 352334.955),\n (339000.0, 507326.75),\n (325000.0, 375496.7),\n (325000.0, 374392.925),\n (325000.0, 361848.69),\n (325000.0, 361669.25),\n (320000.0, 300424.975),\n (315000.0, 427523.75),\n (315000.0, 299582.4166666667),\n (315000.0, 283969.975),\n (310000.0, 309620.725),\n (307500.0, 396547.945),\n (300000.0, 382148.965),\n (300000.0, 373485.75),\n (300000.0, 361617.685),\n (300000.0, 314269.725),\n (300000.0, 291183.25),\n (300000.0, 277655.75),\n (300000.0, 266199.75),\n (300000.0, 221705.0),\n (299995.0, 385815.525),\n (294995.0, 299724.475),\n (290000.0, 334102.105),\n (285000.0, 336732.2),\n (280000.0, 285223.925),\n (279950.0, 288645.0),\n (279000.0, 347500.365),\n (278000.0, 315269.425),\n (275000.0, 260439.25),\n (270000.0, 293768.65),\n (266750.0, 343635.725),\n (259950.0, 387741.0),\n (250000.0, 414207.0),\n (250000.0, 279349.75),\n (250000.0, 270679.425),\n (250000.0, 247419.9),\n (240000.0, 358508.955),\n (240000.0, 247327.075),\n (240000.0, 231234.97),\n (235000.0, 292572.25),\n (229950.0, 246255.32333333333),\n (220000.0, 239760.185),\n (220000.0, 226009.0),\n (220000.0, 224293.7),\n (215000.0, 250405.5),\n (215000.0, 236218.185),\n (210000.0, 287932.15),\n (210000.0, 280449.875),\n (200000.0, 259746.475),\n (200000.0, 230812.405),\n (200000.0, 221534.98),\n (199000.0, 257972.495),\n (190000.0, 303066.44166666665),\n (180000.0, 263097.475),\n (166250.0, 380196.85),\n (159250.0, 432556.745),\n (142500.0, 447391.945),\n (136875.0, 294034.4642857143),\n (129000.0, 496111.945)]"
     },
     "execution_count": 19,
     "metadata": {},
     "output_type": "execute_result"
    }
   ],
   "source": [
    "sorted(zip(y_test,y_pred),reverse=True)"
   ],
   "metadata": {
    "collapsed": false,
    "pycharm": {
     "name": "#%%\n"
    }
   }
  },
  {
   "cell_type": "markdown",
   "source": [],
   "metadata": {
    "collapsed": false,
    "pycharm": {
     "name": "#%% md\n"
    }
   }
  },
  {
   "cell_type": "code",
   "execution_count": 20,
   "outputs": [
    {
     "data": {
      "text/plain": "       actual      predicted\n0    600000.0  597364.925000\n1    600000.0  592160.000000\n2    600000.0  591974.125000\n3    600000.0  564481.695000\n4    600000.0  562594.225000\n5    600000.0  562024.660000\n6    600000.0  561276.295000\n7    600000.0  559652.000000\n8    600000.0  546307.720000\n9    600000.0  545877.475000\n10   600000.0  544068.200000\n11   600000.0  542767.350000\n12   600000.0  530118.770000\n13   600000.0  529017.425000\n14   600000.0  524653.525000\n15   600000.0  522632.245000\n16   600000.0  510524.225000\n17   600000.0  505131.500000\n18   600000.0  504036.820000\n19   600000.0  499849.950000\n20   600000.0  474971.750000\n21   600000.0  461017.740000\n22   600000.0  430101.745000\n23   600000.0  304600.500000\n24   599995.0  562283.650000\n25   599950.0  549762.250000\n26   599950.0  529873.445000\n27   599950.0  513429.465000\n28   599950.0  493937.920000\n29   599950.0  493303.750000\n30   595000.0  559418.955000\n31   595000.0  554219.245000\n32   595000.0  406736.945000\n33   585000.0  486270.220000\n34   583000.0  564999.735000\n35   580000.0  496464.745000\n36   580000.0  451591.000000\n37   579500.0  512664.090000\n38   575000.0  578037.150000\n39   575000.0  574124.925000\n40   575000.0  572087.450000\n41   575000.0  560644.950000\n42   575000.0  560338.675000\n43   575000.0  555149.480000\n44   575000.0  545704.205000\n45   575000.0  536650.475000\n46   575000.0  536413.920000\n47   575000.0  534597.995000\n48   575000.0  532089.725000\n49   575000.0  531736.725000\n50   575000.0  529536.500000\n51   575000.0  518308.000000\n52   575000.0  514849.975000\n53   575000.0  513074.225000\n54   575000.0  495260.485000\n55   575000.0  488928.700000\n56   575000.0  484873.641667\n57   575000.0  480523.478333\n58   575000.0  439424.225000\n59   575000.0  432930.495000\n60   572500.0  421878.770000\n61   565000.0  494730.960000\n62   560000.0  545819.445000\n63   560000.0  477987.250000\n64   559950.0  507818.980000\n65   550000.0  562072.570000\n66   550000.0  553338.915000\n67   550000.0  543450.195000\n68   550000.0  542859.965000\n69   550000.0  539974.000000\n70   550000.0  537798.975000\n71   550000.0  534944.475000\n72   550000.0  533674.395000\n73   550000.0  533665.320000\n74   550000.0  533589.100000\n75   550000.0  531969.250000\n76   550000.0  527274.500000\n77   550000.0  525302.490000\n78   550000.0  523398.475000\n79   550000.0  511763.920000\n80   550000.0  510655.600000\n81   550000.0  508028.245000\n82   550000.0  506767.150000\n83   550000.0  505213.225000\n84   550000.0  504771.000000\n85   550000.0  503849.975000\n86   550000.0  503274.750000\n87   550000.0  499259.750000\n88   550000.0  498541.750000\n89   550000.0  497419.250000\n90   550000.0  495790.460000\n91   550000.0  492374.950000\n92   550000.0  489876.985000\n93   550000.0  486199.450000\n94   550000.0  483905.575000\n95   550000.0  482151.715000\n96   550000.0  462052.646667\n97   550000.0  455649.950000\n98   550000.0  453919.450000\n99   550000.0  450340.910000\n100  550000.0  414385.095000\n101  549950.0  532295.750000\n102  549950.0  511689.250000\n103  549000.0  427449.750000\n104  546250.0  479052.745000\n105  545500.0  515105.650000\n106  545000.0  453327.250000\n107  540000.0  543519.320000\n108  539950.0  532916.720000\n109  537500.0  534758.500000\n110  535000.0  535677.975000\n111  535000.0  531156.500000\n112  535000.0  461629.455000\n113  535000.0  454395.745000\n114  535000.0  409108.860000\n115  534995.0  502547.975000\n116  534995.0  456397.200000\n117  530000.0  523739.250000\n118  530000.0  522703.450000\n119  530000.0  513326.995000\n120  530000.0  511982.750000\n121  530000.0  500983.735000\n122  525000.0  544756.325000\n123  525000.0  543693.915000\n124  525000.0  540674.235000\n125  525000.0  536509.450000\n126  525000.0  535874.475000\n127  525000.0  535108.025000\n128  525000.0  529222.150000\n129  525000.0  526517.245000\n130  525000.0  524858.625000\n131  525000.0  523772.200000\n132  525000.0  522496.345238\n133  525000.0  517543.750000\n134  525000.0  514548.250000\n135  525000.0  509540.490000\n136  525000.0  509243.735000\n137  525000.0  507203.500000\n138  525000.0  507109.315000\n139  525000.0  504826.250000\n140  525000.0  502872.975000\n141  525000.0  499201.745000\n142  525000.0  496217.750000\n143  525000.0  491074.950000\n144  525000.0  489898.000000\n145  525000.0  489117.950000\n146  525000.0  485676.490000\n147  525000.0  478818.975000\n148  525000.0  478053.495000\n149  525000.0  474723.495000\n150  525000.0  464355.750000\n151  525000.0  463673.400000\n152  525000.0  448851.500000\n153  525000.0  421613.970000\n154  525000.0  342173.475000\n155  520000.0  558199.410000\n156  520000.0  510421.950000\n157  515000.0  568444.730000\n158  515000.0  538028.940000\n159  515000.0  535064.725000\n160  515000.0  522417.375000\n161  515000.0  514791.750000\n162  515000.0  511574.475000\n163  510000.0  540879.745000\n164  510000.0  535478.625000\n165  509950.0  563074.210000\n166  500000.0  555104.500000\n167  500000.0  531175.225000\n168  500000.0  520591.470000\n169  500000.0  520569.000000\n170  500000.0  520422.250000\n171  500000.0  516398.740000\n172  500000.0  516198.250000\n173  500000.0  514694.750000\n174  500000.0  513085.225000\n175  500000.0  512769.000000\n176  500000.0  508746.750000\n177  500000.0  507807.720000\n178  500000.0  506960.890000\n179  500000.0  506848.700000\n180  500000.0  506282.000000\n181  500000.0  496075.000000\n182  500000.0  494719.725000\n183  500000.0  486870.490000\n184  500000.0  484399.275000\n185  500000.0  480042.000000\n186  500000.0  479960.975000\n187  500000.0  477759.495000\n188  500000.0  477199.975000\n189  500000.0  471025.000000\n190  500000.0  466300.000000\n191  500000.0  459024.333333\n192  500000.0  457075.000000\n193  500000.0  449322.475000\n194  500000.0  425023.200000\n195  500000.0  404858.955000\n196  500000.0  381519.220000\n197  499995.0  464620.108333\n198  499995.0  446073.930000\n199  499950.0  501174.250000\n200  499950.0  499382.925000\n201  499950.0  448104.795000\n202  499000.0  444761.222727\n203  497500.0  484434.650000\n204  495000.0  517789.225000\n205  492500.0  292133.412698\n206  485000.0  528024.725000\n207  485000.0  394204.500000\n208  480000.0  541653.500000\n209  480000.0  530545.725000\n210  475000.0  541899.240000\n211  475000.0  538514.145000\n212  475000.0  536639.300000\n213  475000.0  511959.240000\n214  475000.0  509599.950000\n215  475000.0  501307.000000\n216  475000.0  493976.575000\n217  475000.0  474637.475000\n218  475000.0  473488.925000\n219  475000.0  461009.725000\n220  475000.0  454857.895000\n221  475000.0  454834.725000\n222  475000.0  448691.200000\n223  475000.0  427514.740000\n224  475000.0  412705.500000\n225  475000.0  385811.401667\n226  470000.0  438482.750000\n227  469950.0  421179.000000\n228  465000.0  522761.000000\n229  465000.0  464814.500000\n230  460000.0  491497.000000\n231  460000.0  481593.490000\n232  460000.0  456729.020000\n233  460000.0  455304.350000\n234  460000.0  439944.750000\n235  460000.0  407148.040000\n236  455000.0  470216.945000\n237  450000.0  533462.990000\n238  450000.0  523145.750000\n239  450000.0  519958.970000\n240  450000.0  518623.720000\n241  450000.0  502324.475000\n242  450000.0  501715.000000\n243  450000.0  497973.750000\n244  450000.0  493224.750000\n245  450000.0  487899.375000\n246  450000.0  483100.000000\n247  450000.0  479716.000000\n248  450000.0  479699.500000\n249  450000.0  475368.235000\n250  450000.0  474278.995000\n251  450000.0  472900.300000\n252  450000.0  470704.000000\n253  450000.0  469049.500000\n254  450000.0  466615.500000\n255  450000.0  466463.750000\n256  450000.0  457749.925000\n257  450000.0  454874.200000\n258  450000.0  447529.950000\n259  450000.0  443389.445000\n260  450000.0  428340.000000\n261  450000.0  420901.655000\n262  450000.0  416004.891667\n263  450000.0  404917.000000\n264  450000.0  400093.716667\n265  450000.0  394217.480000\n266  449950.0  515766.475000\n267  445000.0  501391.250000\n268  440000.0  486204.475000\n269  440000.0  433722.076667\n270  440000.0  433320.665476\n271  439950.0  476269.730000\n272  435000.0  531875.475000\n273  435000.0  502339.750000\n274  435000.0  464170.925000\n275  435000.0  431685.330000\n276  430000.0  419089.954048\n277  425000.0  519929.495000\n278  425000.0  515379.300000\n279  425000.0  509324.925000\n280  425000.0  500780.750000\n281  425000.0  491383.166667\n282  425000.0  485533.445000\n283  425000.0  484604.475000\n284  425000.0  483065.831667\n285  425000.0  465602.500000\n286  425000.0  461125.000000\n287  425000.0  457492.725000\n288  425000.0  453614.240000\n289  425000.0  452259.750000\n290  425000.0  438339.490000\n291  425000.0  436720.745000\n292  425000.0  421389.000000\n293  425000.0  402855.740000\n294  425000.0  400926.615000\n295  425000.0  399203.950000\n296  425000.0  388599.495000\n297  425000.0  360483.220000\n298  420000.0  501341.430000\n299  419950.0  469190.195000\n300  415000.0  482275.680000\n301  415000.0  463418.695000\n302  410000.0  435986.680000\n303  407995.0  420068.306602\n304  400000.0  541523.700000\n305  400000.0  504921.840000\n306  400000.0  497497.990000\n307  400000.0  482517.995000\n308  400000.0  479331.483333\n309  400000.0  479070.640000\n310  400000.0  472159.000000\n311  400000.0  442357.833333\n312  400000.0  440096.225000\n313  400000.0  437706.142143\n314  400000.0  430755.092857\n315  400000.0  429581.000000\n316  400000.0  424190.406667\n317  400000.0  420906.925000\n318  400000.0  420796.750000\n319  400000.0  419758.450000\n320  400000.0  417739.203333\n321  400000.0  416103.470000\n322  400000.0  413971.745000\n323  400000.0  413725.510000\n324  400000.0  413140.740000\n325  400000.0  405468.400000\n326  400000.0  403166.950000\n327  400000.0  337107.000000\n328  399999.0  473088.225000\n329  399999.0  360875.725000\n330  399999.0  331283.520000\n331  399995.0  450594.215000\n332  399000.0  409888.945000\n333  395000.0  450567.225000\n334  395000.0  448005.166667\n335  395000.0  405762.995000\n336  390000.0  543596.490000\n337  390000.0  474251.130000\n338  390000.0  404030.225000\n339  386000.0  423019.750000\n340  385000.0  410055.540000\n341  385000.0  369046.720000\n342  380000.0  455566.975000\n343  380000.0  419874.940000\n344  380000.0  411265.000000\n345  380000.0  383109.225000\n346  380000.0  376704.470000\n347  380000.0  345739.490000\n348  379995.0  428146.345000\n349  379950.0  463671.000000\n350  375000.0  495484.495000\n351  375000.0  493629.200000\n352  375000.0  458777.955000\n353  375000.0  456743.750000\n354  375000.0  456598.975000\n355  375000.0  455304.205000\n356  375000.0  446525.715000\n357  375000.0  437264.475000\n358  375000.0  433203.200000\n359  375000.0  419643.915000\n360  375000.0  406736.120000\n361  375000.0  395274.500000\n362  375000.0  393430.205000\n363  375000.0  378209.975000\n364  375000.0  374279.860000\n365  375000.0  373577.435000\n366  370000.0  403012.583333\n367  365000.0  425073.220000\n368  365000.0  424189.245000\n369  360000.0  416267.240000\n370  360000.0  390379.500000\n371  350000.0  447026.175000\n372  350000.0  439680.250000\n373  350000.0  435696.000000\n374  350000.0  430724.490000\n375  350000.0  423119.925000\n376  350000.0  418346.125000\n377  350000.0  413555.495000\n378  350000.0  409033.913333\n379  350000.0  407911.911667\n380  350000.0  400866.791667\n381  350000.0  391097.976667\n382  350000.0  366795.980000\n383  350000.0  362748.650000\n384  350000.0  336563.160000\n385  350000.0  316961.945000\n386  343000.0  333955.700000\n387  340000.0  441119.864762\n388  340000.0  352334.955000\n389  339000.0  507326.750000\n390  325000.0  375496.700000\n391  325000.0  374392.925000\n392  325000.0  361848.690000\n393  325000.0  361669.250000\n394  320000.0  300424.975000\n395  315000.0  427523.750000\n396  315000.0  299582.416667\n397  315000.0  283969.975000\n398  310000.0  309620.725000\n399  307500.0  396547.945000\n400  300000.0  382148.965000\n401  300000.0  373485.750000\n402  300000.0  361617.685000\n403  300000.0  314269.725000\n404  300000.0  291183.250000\n405  300000.0  277655.750000\n406  300000.0  266199.750000\n407  300000.0  221705.000000\n408  299995.0  385815.525000\n409  294995.0  299724.475000\n410  290000.0  334102.105000\n411  285000.0  336732.200000\n412  280000.0  285223.925000\n413  279950.0  288645.000000\n414  279000.0  347500.365000\n415  278000.0  315269.425000\n416  275000.0  260439.250000\n417  270000.0  293768.650000\n418  266750.0  343635.725000\n419  259950.0  387741.000000\n420  250000.0  414207.000000\n421  250000.0  279349.750000\n422  250000.0  270679.425000\n423  250000.0  247419.900000\n424  240000.0  358508.955000\n425  240000.0  247327.075000\n426  240000.0  231234.970000\n427  235000.0  292572.250000\n428  229950.0  246255.323333\n429  220000.0  239760.185000\n430  220000.0  226009.000000\n431  220000.0  224293.700000\n432  215000.0  250405.500000\n433  215000.0  236218.185000\n434  210000.0  287932.150000\n435  210000.0  280449.875000\n436  200000.0  259746.475000\n437  200000.0  230812.405000\n438  200000.0  221534.980000\n439  199000.0  257972.495000\n440  190000.0  303066.441667\n441  180000.0  263097.475000\n442  166250.0  380196.850000\n443  159250.0  432556.745000\n444  142500.0  447391.945000\n445  136875.0  294034.464286\n446  129000.0  496111.945000",
      "text/html": "<div>\n<style scoped>\n    .dataframe tbody tr th:only-of-type {\n        vertical-align: middle;\n    }\n\n    .dataframe tbody tr th {\n        vertical-align: top;\n    }\n\n    .dataframe thead th {\n        text-align: right;\n    }\n</style>\n<table border=\"1\" class=\"dataframe\">\n  <thead>\n    <tr style=\"text-align: right;\">\n      <th></th>\n      <th>actual</th>\n      <th>predicted</th>\n    </tr>\n  </thead>\n  <tbody>\n    <tr>\n      <th>0</th>\n      <td>600000.0</td>\n      <td>597364.925000</td>\n    </tr>\n    <tr>\n      <th>1</th>\n      <td>600000.0</td>\n      <td>592160.000000</td>\n    </tr>\n    <tr>\n      <th>2</th>\n      <td>600000.0</td>\n      <td>591974.125000</td>\n    </tr>\n    <tr>\n      <th>3</th>\n      <td>600000.0</td>\n      <td>564481.695000</td>\n    </tr>\n    <tr>\n      <th>4</th>\n      <td>600000.0</td>\n      <td>562594.225000</td>\n    </tr>\n    <tr>\n      <th>5</th>\n      <td>600000.0</td>\n      <td>562024.660000</td>\n    </tr>\n    <tr>\n      <th>6</th>\n      <td>600000.0</td>\n      <td>561276.295000</td>\n    </tr>\n    <tr>\n      <th>7</th>\n      <td>600000.0</td>\n      <td>559652.000000</td>\n    </tr>\n    <tr>\n      <th>8</th>\n      <td>600000.0</td>\n      <td>546307.720000</td>\n    </tr>\n    <tr>\n      <th>9</th>\n      <td>600000.0</td>\n      <td>545877.475000</td>\n    </tr>\n    <tr>\n      <th>10</th>\n      <td>600000.0</td>\n      <td>544068.200000</td>\n    </tr>\n    <tr>\n      <th>11</th>\n      <td>600000.0</td>\n      <td>542767.350000</td>\n    </tr>\n    <tr>\n      <th>12</th>\n      <td>600000.0</td>\n      <td>530118.770000</td>\n    </tr>\n    <tr>\n      <th>13</th>\n      <td>600000.0</td>\n      <td>529017.425000</td>\n    </tr>\n    <tr>\n      <th>14</th>\n      <td>600000.0</td>\n      <td>524653.525000</td>\n    </tr>\n    <tr>\n      <th>15</th>\n      <td>600000.0</td>\n      <td>522632.245000</td>\n    </tr>\n    <tr>\n      <th>16</th>\n      <td>600000.0</td>\n      <td>510524.225000</td>\n    </tr>\n    <tr>\n      <th>17</th>\n      <td>600000.0</td>\n      <td>505131.500000</td>\n    </tr>\n    <tr>\n      <th>18</th>\n      <td>600000.0</td>\n      <td>504036.820000</td>\n    </tr>\n    <tr>\n      <th>19</th>\n      <td>600000.0</td>\n      <td>499849.950000</td>\n    </tr>\n    <tr>\n      <th>20</th>\n      <td>600000.0</td>\n      <td>474971.750000</td>\n    </tr>\n    <tr>\n      <th>21</th>\n      <td>600000.0</td>\n      <td>461017.740000</td>\n    </tr>\n    <tr>\n      <th>22</th>\n      <td>600000.0</td>\n      <td>430101.745000</td>\n    </tr>\n    <tr>\n      <th>23</th>\n      <td>600000.0</td>\n      <td>304600.500000</td>\n    </tr>\n    <tr>\n      <th>24</th>\n      <td>599995.0</td>\n      <td>562283.650000</td>\n    </tr>\n    <tr>\n      <th>25</th>\n      <td>599950.0</td>\n      <td>549762.250000</td>\n    </tr>\n    <tr>\n      <th>26</th>\n      <td>599950.0</td>\n      <td>529873.445000</td>\n    </tr>\n    <tr>\n      <th>27</th>\n      <td>599950.0</td>\n      <td>513429.465000</td>\n    </tr>\n    <tr>\n      <th>28</th>\n      <td>599950.0</td>\n      <td>493937.920000</td>\n    </tr>\n    <tr>\n      <th>29</th>\n      <td>599950.0</td>\n      <td>493303.750000</td>\n    </tr>\n    <tr>\n      <th>30</th>\n      <td>595000.0</td>\n      <td>559418.955000</td>\n    </tr>\n    <tr>\n      <th>31</th>\n      <td>595000.0</td>\n      <td>554219.245000</td>\n    </tr>\n    <tr>\n      <th>32</th>\n      <td>595000.0</td>\n      <td>406736.945000</td>\n    </tr>\n    <tr>\n      <th>33</th>\n      <td>585000.0</td>\n      <td>486270.220000</td>\n    </tr>\n    <tr>\n      <th>34</th>\n      <td>583000.0</td>\n      <td>564999.735000</td>\n    </tr>\n    <tr>\n      <th>35</th>\n      <td>580000.0</td>\n      <td>496464.745000</td>\n    </tr>\n    <tr>\n      <th>36</th>\n      <td>580000.0</td>\n      <td>451591.000000</td>\n    </tr>\n    <tr>\n      <th>37</th>\n      <td>579500.0</td>\n      <td>512664.090000</td>\n    </tr>\n    <tr>\n      <th>38</th>\n      <td>575000.0</td>\n      <td>578037.150000</td>\n    </tr>\n    <tr>\n      <th>39</th>\n      <td>575000.0</td>\n      <td>574124.925000</td>\n    </tr>\n    <tr>\n      <th>40</th>\n      <td>575000.0</td>\n      <td>572087.450000</td>\n    </tr>\n    <tr>\n      <th>41</th>\n      <td>575000.0</td>\n      <td>560644.950000</td>\n    </tr>\n    <tr>\n      <th>42</th>\n      <td>575000.0</td>\n      <td>560338.675000</td>\n    </tr>\n    <tr>\n      <th>43</th>\n      <td>575000.0</td>\n      <td>555149.480000</td>\n    </tr>\n    <tr>\n      <th>44</th>\n      <td>575000.0</td>\n      <td>545704.205000</td>\n    </tr>\n    <tr>\n      <th>45</th>\n      <td>575000.0</td>\n      <td>536650.475000</td>\n    </tr>\n    <tr>\n      <th>46</th>\n      <td>575000.0</td>\n      <td>536413.920000</td>\n    </tr>\n    <tr>\n      <th>47</th>\n      <td>575000.0</td>\n      <td>534597.995000</td>\n    </tr>\n    <tr>\n      <th>48</th>\n      <td>575000.0</td>\n      <td>532089.725000</td>\n    </tr>\n    <tr>\n      <th>49</th>\n      <td>575000.0</td>\n      <td>531736.725000</td>\n    </tr>\n    <tr>\n      <th>50</th>\n      <td>575000.0</td>\n      <td>529536.500000</td>\n    </tr>\n    <tr>\n      <th>51</th>\n      <td>575000.0</td>\n      <td>518308.000000</td>\n    </tr>\n    <tr>\n      <th>52</th>\n      <td>575000.0</td>\n      <td>514849.975000</td>\n    </tr>\n    <tr>\n      <th>53</th>\n      <td>575000.0</td>\n      <td>513074.225000</td>\n    </tr>\n    <tr>\n      <th>54</th>\n      <td>575000.0</td>\n      <td>495260.485000</td>\n    </tr>\n    <tr>\n      <th>55</th>\n      <td>575000.0</td>\n      <td>488928.700000</td>\n    </tr>\n    <tr>\n      <th>56</th>\n      <td>575000.0</td>\n      <td>484873.641667</td>\n    </tr>\n    <tr>\n      <th>57</th>\n      <td>575000.0</td>\n      <td>480523.478333</td>\n    </tr>\n    <tr>\n      <th>58</th>\n      <td>575000.0</td>\n      <td>439424.225000</td>\n    </tr>\n    <tr>\n      <th>59</th>\n      <td>575000.0</td>\n      <td>432930.495000</td>\n    </tr>\n    <tr>\n      <th>60</th>\n      <td>572500.0</td>\n      <td>421878.770000</td>\n    </tr>\n    <tr>\n      <th>61</th>\n      <td>565000.0</td>\n      <td>494730.960000</td>\n    </tr>\n    <tr>\n      <th>62</th>\n      <td>560000.0</td>\n      <td>545819.445000</td>\n    </tr>\n    <tr>\n      <th>63</th>\n      <td>560000.0</td>\n      <td>477987.250000</td>\n    </tr>\n    <tr>\n      <th>64</th>\n      <td>559950.0</td>\n      <td>507818.980000</td>\n    </tr>\n    <tr>\n      <th>65</th>\n      <td>550000.0</td>\n      <td>562072.570000</td>\n    </tr>\n    <tr>\n      <th>66</th>\n      <td>550000.0</td>\n      <td>553338.915000</td>\n    </tr>\n    <tr>\n      <th>67</th>\n      <td>550000.0</td>\n      <td>543450.195000</td>\n    </tr>\n    <tr>\n      <th>68</th>\n      <td>550000.0</td>\n      <td>542859.965000</td>\n    </tr>\n    <tr>\n      <th>69</th>\n      <td>550000.0</td>\n      <td>539974.000000</td>\n    </tr>\n    <tr>\n      <th>70</th>\n      <td>550000.0</td>\n      <td>537798.975000</td>\n    </tr>\n    <tr>\n      <th>71</th>\n      <td>550000.0</td>\n      <td>534944.475000</td>\n    </tr>\n    <tr>\n      <th>72</th>\n      <td>550000.0</td>\n      <td>533674.395000</td>\n    </tr>\n    <tr>\n      <th>73</th>\n      <td>550000.0</td>\n      <td>533665.320000</td>\n    </tr>\n    <tr>\n      <th>74</th>\n      <td>550000.0</td>\n      <td>533589.100000</td>\n    </tr>\n    <tr>\n      <th>75</th>\n      <td>550000.0</td>\n      <td>531969.250000</td>\n    </tr>\n    <tr>\n      <th>76</th>\n      <td>550000.0</td>\n      <td>527274.500000</td>\n    </tr>\n    <tr>\n      <th>77</th>\n      <td>550000.0</td>\n      <td>525302.490000</td>\n    </tr>\n    <tr>\n      <th>78</th>\n      <td>550000.0</td>\n      <td>523398.475000</td>\n    </tr>\n    <tr>\n      <th>79</th>\n      <td>550000.0</td>\n      <td>511763.920000</td>\n    </tr>\n    <tr>\n      <th>80</th>\n      <td>550000.0</td>\n      <td>510655.600000</td>\n    </tr>\n    <tr>\n      <th>81</th>\n      <td>550000.0</td>\n      <td>508028.245000</td>\n    </tr>\n    <tr>\n      <th>82</th>\n      <td>550000.0</td>\n      <td>506767.150000</td>\n    </tr>\n    <tr>\n      <th>83</th>\n      <td>550000.0</td>\n      <td>505213.225000</td>\n    </tr>\n    <tr>\n      <th>84</th>\n      <td>550000.0</td>\n      <td>504771.000000</td>\n    </tr>\n    <tr>\n      <th>85</th>\n      <td>550000.0</td>\n      <td>503849.975000</td>\n    </tr>\n    <tr>\n      <th>86</th>\n      <td>550000.0</td>\n      <td>503274.750000</td>\n    </tr>\n    <tr>\n      <th>87</th>\n      <td>550000.0</td>\n      <td>499259.750000</td>\n    </tr>\n    <tr>\n      <th>88</th>\n      <td>550000.0</td>\n      <td>498541.750000</td>\n    </tr>\n    <tr>\n      <th>89</th>\n      <td>550000.0</td>\n      <td>497419.250000</td>\n    </tr>\n    <tr>\n      <th>90</th>\n      <td>550000.0</td>\n      <td>495790.460000</td>\n    </tr>\n    <tr>\n      <th>91</th>\n      <td>550000.0</td>\n      <td>492374.950000</td>\n    </tr>\n    <tr>\n      <th>92</th>\n      <td>550000.0</td>\n      <td>489876.985000</td>\n    </tr>\n    <tr>\n      <th>93</th>\n      <td>550000.0</td>\n      <td>486199.450000</td>\n    </tr>\n    <tr>\n      <th>94</th>\n      <td>550000.0</td>\n      <td>483905.575000</td>\n    </tr>\n    <tr>\n      <th>95</th>\n      <td>550000.0</td>\n      <td>482151.715000</td>\n    </tr>\n    <tr>\n      <th>96</th>\n      <td>550000.0</td>\n      <td>462052.646667</td>\n    </tr>\n    <tr>\n      <th>97</th>\n      <td>550000.0</td>\n      <td>455649.950000</td>\n    </tr>\n    <tr>\n      <th>98</th>\n      <td>550000.0</td>\n      <td>453919.450000</td>\n    </tr>\n    <tr>\n      <th>99</th>\n      <td>550000.0</td>\n      <td>450340.910000</td>\n    </tr>\n    <tr>\n      <th>100</th>\n      <td>550000.0</td>\n      <td>414385.095000</td>\n    </tr>\n    <tr>\n      <th>101</th>\n      <td>549950.0</td>\n      <td>532295.750000</td>\n    </tr>\n    <tr>\n      <th>102</th>\n      <td>549950.0</td>\n      <td>511689.250000</td>\n    </tr>\n    <tr>\n      <th>103</th>\n      <td>549000.0</td>\n      <td>427449.750000</td>\n    </tr>\n    <tr>\n      <th>104</th>\n      <td>546250.0</td>\n      <td>479052.745000</td>\n    </tr>\n    <tr>\n      <th>105</th>\n      <td>545500.0</td>\n      <td>515105.650000</td>\n    </tr>\n    <tr>\n      <th>106</th>\n      <td>545000.0</td>\n      <td>453327.250000</td>\n    </tr>\n    <tr>\n      <th>107</th>\n      <td>540000.0</td>\n      <td>543519.320000</td>\n    </tr>\n    <tr>\n      <th>108</th>\n      <td>539950.0</td>\n      <td>532916.720000</td>\n    </tr>\n    <tr>\n      <th>109</th>\n      <td>537500.0</td>\n      <td>534758.500000</td>\n    </tr>\n    <tr>\n      <th>110</th>\n      <td>535000.0</td>\n      <td>535677.975000</td>\n    </tr>\n    <tr>\n      <th>111</th>\n      <td>535000.0</td>\n      <td>531156.500000</td>\n    </tr>\n    <tr>\n      <th>112</th>\n      <td>535000.0</td>\n      <td>461629.455000</td>\n    </tr>\n    <tr>\n      <th>113</th>\n      <td>535000.0</td>\n      <td>454395.745000</td>\n    </tr>\n    <tr>\n      <th>114</th>\n      <td>535000.0</td>\n      <td>409108.860000</td>\n    </tr>\n    <tr>\n      <th>115</th>\n      <td>534995.0</td>\n      <td>502547.975000</td>\n    </tr>\n    <tr>\n      <th>116</th>\n      <td>534995.0</td>\n      <td>456397.200000</td>\n    </tr>\n    <tr>\n      <th>117</th>\n      <td>530000.0</td>\n      <td>523739.250000</td>\n    </tr>\n    <tr>\n      <th>118</th>\n      <td>530000.0</td>\n      <td>522703.450000</td>\n    </tr>\n    <tr>\n      <th>119</th>\n      <td>530000.0</td>\n      <td>513326.995000</td>\n    </tr>\n    <tr>\n      <th>120</th>\n      <td>530000.0</td>\n      <td>511982.750000</td>\n    </tr>\n    <tr>\n      <th>121</th>\n      <td>530000.0</td>\n      <td>500983.735000</td>\n    </tr>\n    <tr>\n      <th>122</th>\n      <td>525000.0</td>\n      <td>544756.325000</td>\n    </tr>\n    <tr>\n      <th>123</th>\n      <td>525000.0</td>\n      <td>543693.915000</td>\n    </tr>\n    <tr>\n      <th>124</th>\n      <td>525000.0</td>\n      <td>540674.235000</td>\n    </tr>\n    <tr>\n      <th>125</th>\n      <td>525000.0</td>\n      <td>536509.450000</td>\n    </tr>\n    <tr>\n      <th>126</th>\n      <td>525000.0</td>\n      <td>535874.475000</td>\n    </tr>\n    <tr>\n      <th>127</th>\n      <td>525000.0</td>\n      <td>535108.025000</td>\n    </tr>\n    <tr>\n      <th>128</th>\n      <td>525000.0</td>\n      <td>529222.150000</td>\n    </tr>\n    <tr>\n      <th>129</th>\n      <td>525000.0</td>\n      <td>526517.245000</td>\n    </tr>\n    <tr>\n      <th>130</th>\n      <td>525000.0</td>\n      <td>524858.625000</td>\n    </tr>\n    <tr>\n      <th>131</th>\n      <td>525000.0</td>\n      <td>523772.200000</td>\n    </tr>\n    <tr>\n      <th>132</th>\n      <td>525000.0</td>\n      <td>522496.345238</td>\n    </tr>\n    <tr>\n      <th>133</th>\n      <td>525000.0</td>\n      <td>517543.750000</td>\n    </tr>\n    <tr>\n      <th>134</th>\n      <td>525000.0</td>\n      <td>514548.250000</td>\n    </tr>\n    <tr>\n      <th>135</th>\n      <td>525000.0</td>\n      <td>509540.490000</td>\n    </tr>\n    <tr>\n      <th>136</th>\n      <td>525000.0</td>\n      <td>509243.735000</td>\n    </tr>\n    <tr>\n      <th>137</th>\n      <td>525000.0</td>\n      <td>507203.500000</td>\n    </tr>\n    <tr>\n      <th>138</th>\n      <td>525000.0</td>\n      <td>507109.315000</td>\n    </tr>\n    <tr>\n      <th>139</th>\n      <td>525000.0</td>\n      <td>504826.250000</td>\n    </tr>\n    <tr>\n      <th>140</th>\n      <td>525000.0</td>\n      <td>502872.975000</td>\n    </tr>\n    <tr>\n      <th>141</th>\n      <td>525000.0</td>\n      <td>499201.745000</td>\n    </tr>\n    <tr>\n      <th>142</th>\n      <td>525000.0</td>\n      <td>496217.750000</td>\n    </tr>\n    <tr>\n      <th>143</th>\n      <td>525000.0</td>\n      <td>491074.950000</td>\n    </tr>\n    <tr>\n      <th>144</th>\n      <td>525000.0</td>\n      <td>489898.000000</td>\n    </tr>\n    <tr>\n      <th>145</th>\n      <td>525000.0</td>\n      <td>489117.950000</td>\n    </tr>\n    <tr>\n      <th>146</th>\n      <td>525000.0</td>\n      <td>485676.490000</td>\n    </tr>\n    <tr>\n      <th>147</th>\n      <td>525000.0</td>\n      <td>478818.975000</td>\n    </tr>\n    <tr>\n      <th>148</th>\n      <td>525000.0</td>\n      <td>478053.495000</td>\n    </tr>\n    <tr>\n      <th>149</th>\n      <td>525000.0</td>\n      <td>474723.495000</td>\n    </tr>\n    <tr>\n      <th>150</th>\n      <td>525000.0</td>\n      <td>464355.750000</td>\n    </tr>\n    <tr>\n      <th>151</th>\n      <td>525000.0</td>\n      <td>463673.400000</td>\n    </tr>\n    <tr>\n      <th>152</th>\n      <td>525000.0</td>\n      <td>448851.500000</td>\n    </tr>\n    <tr>\n      <th>153</th>\n      <td>525000.0</td>\n      <td>421613.970000</td>\n    </tr>\n    <tr>\n      <th>154</th>\n      <td>525000.0</td>\n      <td>342173.475000</td>\n    </tr>\n    <tr>\n      <th>155</th>\n      <td>520000.0</td>\n      <td>558199.410000</td>\n    </tr>\n    <tr>\n      <th>156</th>\n      <td>520000.0</td>\n      <td>510421.950000</td>\n    </tr>\n    <tr>\n      <th>157</th>\n      <td>515000.0</td>\n      <td>568444.730000</td>\n    </tr>\n    <tr>\n      <th>158</th>\n      <td>515000.0</td>\n      <td>538028.940000</td>\n    </tr>\n    <tr>\n      <th>159</th>\n      <td>515000.0</td>\n      <td>535064.725000</td>\n    </tr>\n    <tr>\n      <th>160</th>\n      <td>515000.0</td>\n      <td>522417.375000</td>\n    </tr>\n    <tr>\n      <th>161</th>\n      <td>515000.0</td>\n      <td>514791.750000</td>\n    </tr>\n    <tr>\n      <th>162</th>\n      <td>515000.0</td>\n      <td>511574.475000</td>\n    </tr>\n    <tr>\n      <th>163</th>\n      <td>510000.0</td>\n      <td>540879.745000</td>\n    </tr>\n    <tr>\n      <th>164</th>\n      <td>510000.0</td>\n      <td>535478.625000</td>\n    </tr>\n    <tr>\n      <th>165</th>\n      <td>509950.0</td>\n      <td>563074.210000</td>\n    </tr>\n    <tr>\n      <th>166</th>\n      <td>500000.0</td>\n      <td>555104.500000</td>\n    </tr>\n    <tr>\n      <th>167</th>\n      <td>500000.0</td>\n      <td>531175.225000</td>\n    </tr>\n    <tr>\n      <th>168</th>\n      <td>500000.0</td>\n      <td>520591.470000</td>\n    </tr>\n    <tr>\n      <th>169</th>\n      <td>500000.0</td>\n      <td>520569.000000</td>\n    </tr>\n    <tr>\n      <th>170</th>\n      <td>500000.0</td>\n      <td>520422.250000</td>\n    </tr>\n    <tr>\n      <th>171</th>\n      <td>500000.0</td>\n      <td>516398.740000</td>\n    </tr>\n    <tr>\n      <th>172</th>\n      <td>500000.0</td>\n      <td>516198.250000</td>\n    </tr>\n    <tr>\n      <th>173</th>\n      <td>500000.0</td>\n      <td>514694.750000</td>\n    </tr>\n    <tr>\n      <th>174</th>\n      <td>500000.0</td>\n      <td>513085.225000</td>\n    </tr>\n    <tr>\n      <th>175</th>\n      <td>500000.0</td>\n      <td>512769.000000</td>\n    </tr>\n    <tr>\n      <th>176</th>\n      <td>500000.0</td>\n      <td>508746.750000</td>\n    </tr>\n    <tr>\n      <th>177</th>\n      <td>500000.0</td>\n      <td>507807.720000</td>\n    </tr>\n    <tr>\n      <th>178</th>\n      <td>500000.0</td>\n      <td>506960.890000</td>\n    </tr>\n    <tr>\n      <th>179</th>\n      <td>500000.0</td>\n      <td>506848.700000</td>\n    </tr>\n    <tr>\n      <th>180</th>\n      <td>500000.0</td>\n      <td>506282.000000</td>\n    </tr>\n    <tr>\n      <th>181</th>\n      <td>500000.0</td>\n      <td>496075.000000</td>\n    </tr>\n    <tr>\n      <th>182</th>\n      <td>500000.0</td>\n      <td>494719.725000</td>\n    </tr>\n    <tr>\n      <th>183</th>\n      <td>500000.0</td>\n      <td>486870.490000</td>\n    </tr>\n    <tr>\n      <th>184</th>\n      <td>500000.0</td>\n      <td>484399.275000</td>\n    </tr>\n    <tr>\n      <th>185</th>\n      <td>500000.0</td>\n      <td>480042.000000</td>\n    </tr>\n    <tr>\n      <th>186</th>\n      <td>500000.0</td>\n      <td>479960.975000</td>\n    </tr>\n    <tr>\n      <th>187</th>\n      <td>500000.0</td>\n      <td>477759.495000</td>\n    </tr>\n    <tr>\n      <th>188</th>\n      <td>500000.0</td>\n      <td>477199.975000</td>\n    </tr>\n    <tr>\n      <th>189</th>\n      <td>500000.0</td>\n      <td>471025.000000</td>\n    </tr>\n    <tr>\n      <th>190</th>\n      <td>500000.0</td>\n      <td>466300.000000</td>\n    </tr>\n    <tr>\n      <th>191</th>\n      <td>500000.0</td>\n      <td>459024.333333</td>\n    </tr>\n    <tr>\n      <th>192</th>\n      <td>500000.0</td>\n      <td>457075.000000</td>\n    </tr>\n    <tr>\n      <th>193</th>\n      <td>500000.0</td>\n      <td>449322.475000</td>\n    </tr>\n    <tr>\n      <th>194</th>\n      <td>500000.0</td>\n      <td>425023.200000</td>\n    </tr>\n    <tr>\n      <th>195</th>\n      <td>500000.0</td>\n      <td>404858.955000</td>\n    </tr>\n    <tr>\n      <th>196</th>\n      <td>500000.0</td>\n      <td>381519.220000</td>\n    </tr>\n    <tr>\n      <th>197</th>\n      <td>499995.0</td>\n      <td>464620.108333</td>\n    </tr>\n    <tr>\n      <th>198</th>\n      <td>499995.0</td>\n      <td>446073.930000</td>\n    </tr>\n    <tr>\n      <th>199</th>\n      <td>499950.0</td>\n      <td>501174.250000</td>\n    </tr>\n    <tr>\n      <th>200</th>\n      <td>499950.0</td>\n      <td>499382.925000</td>\n    </tr>\n    <tr>\n      <th>201</th>\n      <td>499950.0</td>\n      <td>448104.795000</td>\n    </tr>\n    <tr>\n      <th>202</th>\n      <td>499000.0</td>\n      <td>444761.222727</td>\n    </tr>\n    <tr>\n      <th>203</th>\n      <td>497500.0</td>\n      <td>484434.650000</td>\n    </tr>\n    <tr>\n      <th>204</th>\n      <td>495000.0</td>\n      <td>517789.225000</td>\n    </tr>\n    <tr>\n      <th>205</th>\n      <td>492500.0</td>\n      <td>292133.412698</td>\n    </tr>\n    <tr>\n      <th>206</th>\n      <td>485000.0</td>\n      <td>528024.725000</td>\n    </tr>\n    <tr>\n      <th>207</th>\n      <td>485000.0</td>\n      <td>394204.500000</td>\n    </tr>\n    <tr>\n      <th>208</th>\n      <td>480000.0</td>\n      <td>541653.500000</td>\n    </tr>\n    <tr>\n      <th>209</th>\n      <td>480000.0</td>\n      <td>530545.725000</td>\n    </tr>\n    <tr>\n      <th>210</th>\n      <td>475000.0</td>\n      <td>541899.240000</td>\n    </tr>\n    <tr>\n      <th>211</th>\n      <td>475000.0</td>\n      <td>538514.145000</td>\n    </tr>\n    <tr>\n      <th>212</th>\n      <td>475000.0</td>\n      <td>536639.300000</td>\n    </tr>\n    <tr>\n      <th>213</th>\n      <td>475000.0</td>\n      <td>511959.240000</td>\n    </tr>\n    <tr>\n      <th>214</th>\n      <td>475000.0</td>\n      <td>509599.950000</td>\n    </tr>\n    <tr>\n      <th>215</th>\n      <td>475000.0</td>\n      <td>501307.000000</td>\n    </tr>\n    <tr>\n      <th>216</th>\n      <td>475000.0</td>\n      <td>493976.575000</td>\n    </tr>\n    <tr>\n      <th>217</th>\n      <td>475000.0</td>\n      <td>474637.475000</td>\n    </tr>\n    <tr>\n      <th>218</th>\n      <td>475000.0</td>\n      <td>473488.925000</td>\n    </tr>\n    <tr>\n      <th>219</th>\n      <td>475000.0</td>\n      <td>461009.725000</td>\n    </tr>\n    <tr>\n      <th>220</th>\n      <td>475000.0</td>\n      <td>454857.895000</td>\n    </tr>\n    <tr>\n      <th>221</th>\n      <td>475000.0</td>\n      <td>454834.725000</td>\n    </tr>\n    <tr>\n      <th>222</th>\n      <td>475000.0</td>\n      <td>448691.200000</td>\n    </tr>\n    <tr>\n      <th>223</th>\n      <td>475000.0</td>\n      <td>427514.740000</td>\n    </tr>\n    <tr>\n      <th>224</th>\n      <td>475000.0</td>\n      <td>412705.500000</td>\n    </tr>\n    <tr>\n      <th>225</th>\n      <td>475000.0</td>\n      <td>385811.401667</td>\n    </tr>\n    <tr>\n      <th>226</th>\n      <td>470000.0</td>\n      <td>438482.750000</td>\n    </tr>\n    <tr>\n      <th>227</th>\n      <td>469950.0</td>\n      <td>421179.000000</td>\n    </tr>\n    <tr>\n      <th>228</th>\n      <td>465000.0</td>\n      <td>522761.000000</td>\n    </tr>\n    <tr>\n      <th>229</th>\n      <td>465000.0</td>\n      <td>464814.500000</td>\n    </tr>\n    <tr>\n      <th>230</th>\n      <td>460000.0</td>\n      <td>491497.000000</td>\n    </tr>\n    <tr>\n      <th>231</th>\n      <td>460000.0</td>\n      <td>481593.490000</td>\n    </tr>\n    <tr>\n      <th>232</th>\n      <td>460000.0</td>\n      <td>456729.020000</td>\n    </tr>\n    <tr>\n      <th>233</th>\n      <td>460000.0</td>\n      <td>455304.350000</td>\n    </tr>\n    <tr>\n      <th>234</th>\n      <td>460000.0</td>\n      <td>439944.750000</td>\n    </tr>\n    <tr>\n      <th>235</th>\n      <td>460000.0</td>\n      <td>407148.040000</td>\n    </tr>\n    <tr>\n      <th>236</th>\n      <td>455000.0</td>\n      <td>470216.945000</td>\n    </tr>\n    <tr>\n      <th>237</th>\n      <td>450000.0</td>\n      <td>533462.990000</td>\n    </tr>\n    <tr>\n      <th>238</th>\n      <td>450000.0</td>\n      <td>523145.750000</td>\n    </tr>\n    <tr>\n      <th>239</th>\n      <td>450000.0</td>\n      <td>519958.970000</td>\n    </tr>\n    <tr>\n      <th>240</th>\n      <td>450000.0</td>\n      <td>518623.720000</td>\n    </tr>\n    <tr>\n      <th>241</th>\n      <td>450000.0</td>\n      <td>502324.475000</td>\n    </tr>\n    <tr>\n      <th>242</th>\n      <td>450000.0</td>\n      <td>501715.000000</td>\n    </tr>\n    <tr>\n      <th>243</th>\n      <td>450000.0</td>\n      <td>497973.750000</td>\n    </tr>\n    <tr>\n      <th>244</th>\n      <td>450000.0</td>\n      <td>493224.750000</td>\n    </tr>\n    <tr>\n      <th>245</th>\n      <td>450000.0</td>\n      <td>487899.375000</td>\n    </tr>\n    <tr>\n      <th>246</th>\n      <td>450000.0</td>\n      <td>483100.000000</td>\n    </tr>\n    <tr>\n      <th>247</th>\n      <td>450000.0</td>\n      <td>479716.000000</td>\n    </tr>\n    <tr>\n      <th>248</th>\n      <td>450000.0</td>\n      <td>479699.500000</td>\n    </tr>\n    <tr>\n      <th>249</th>\n      <td>450000.0</td>\n      <td>475368.235000</td>\n    </tr>\n    <tr>\n      <th>250</th>\n      <td>450000.0</td>\n      <td>474278.995000</td>\n    </tr>\n    <tr>\n      <th>251</th>\n      <td>450000.0</td>\n      <td>472900.300000</td>\n    </tr>\n    <tr>\n      <th>252</th>\n      <td>450000.0</td>\n      <td>470704.000000</td>\n    </tr>\n    <tr>\n      <th>253</th>\n      <td>450000.0</td>\n      <td>469049.500000</td>\n    </tr>\n    <tr>\n      <th>254</th>\n      <td>450000.0</td>\n      <td>466615.500000</td>\n    </tr>\n    <tr>\n      <th>255</th>\n      <td>450000.0</td>\n      <td>466463.750000</td>\n    </tr>\n    <tr>\n      <th>256</th>\n      <td>450000.0</td>\n      <td>457749.925000</td>\n    </tr>\n    <tr>\n      <th>257</th>\n      <td>450000.0</td>\n      <td>454874.200000</td>\n    </tr>\n    <tr>\n      <th>258</th>\n      <td>450000.0</td>\n      <td>447529.950000</td>\n    </tr>\n    <tr>\n      <th>259</th>\n      <td>450000.0</td>\n      <td>443389.445000</td>\n    </tr>\n    <tr>\n      <th>260</th>\n      <td>450000.0</td>\n      <td>428340.000000</td>\n    </tr>\n    <tr>\n      <th>261</th>\n      <td>450000.0</td>\n      <td>420901.655000</td>\n    </tr>\n    <tr>\n      <th>262</th>\n      <td>450000.0</td>\n      <td>416004.891667</td>\n    </tr>\n    <tr>\n      <th>263</th>\n      <td>450000.0</td>\n      <td>404917.000000</td>\n    </tr>\n    <tr>\n      <th>264</th>\n      <td>450000.0</td>\n      <td>400093.716667</td>\n    </tr>\n    <tr>\n      <th>265</th>\n      <td>450000.0</td>\n      <td>394217.480000</td>\n    </tr>\n    <tr>\n      <th>266</th>\n      <td>449950.0</td>\n      <td>515766.475000</td>\n    </tr>\n    <tr>\n      <th>267</th>\n      <td>445000.0</td>\n      <td>501391.250000</td>\n    </tr>\n    <tr>\n      <th>268</th>\n      <td>440000.0</td>\n      <td>486204.475000</td>\n    </tr>\n    <tr>\n      <th>269</th>\n      <td>440000.0</td>\n      <td>433722.076667</td>\n    </tr>\n    <tr>\n      <th>270</th>\n      <td>440000.0</td>\n      <td>433320.665476</td>\n    </tr>\n    <tr>\n      <th>271</th>\n      <td>439950.0</td>\n      <td>476269.730000</td>\n    </tr>\n    <tr>\n      <th>272</th>\n      <td>435000.0</td>\n      <td>531875.475000</td>\n    </tr>\n    <tr>\n      <th>273</th>\n      <td>435000.0</td>\n      <td>502339.750000</td>\n    </tr>\n    <tr>\n      <th>274</th>\n      <td>435000.0</td>\n      <td>464170.925000</td>\n    </tr>\n    <tr>\n      <th>275</th>\n      <td>435000.0</td>\n      <td>431685.330000</td>\n    </tr>\n    <tr>\n      <th>276</th>\n      <td>430000.0</td>\n      <td>419089.954048</td>\n    </tr>\n    <tr>\n      <th>277</th>\n      <td>425000.0</td>\n      <td>519929.495000</td>\n    </tr>\n    <tr>\n      <th>278</th>\n      <td>425000.0</td>\n      <td>515379.300000</td>\n    </tr>\n    <tr>\n      <th>279</th>\n      <td>425000.0</td>\n      <td>509324.925000</td>\n    </tr>\n    <tr>\n      <th>280</th>\n      <td>425000.0</td>\n      <td>500780.750000</td>\n    </tr>\n    <tr>\n      <th>281</th>\n      <td>425000.0</td>\n      <td>491383.166667</td>\n    </tr>\n    <tr>\n      <th>282</th>\n      <td>425000.0</td>\n      <td>485533.445000</td>\n    </tr>\n    <tr>\n      <th>283</th>\n      <td>425000.0</td>\n      <td>484604.475000</td>\n    </tr>\n    <tr>\n      <th>284</th>\n      <td>425000.0</td>\n      <td>483065.831667</td>\n    </tr>\n    <tr>\n      <th>285</th>\n      <td>425000.0</td>\n      <td>465602.500000</td>\n    </tr>\n    <tr>\n      <th>286</th>\n      <td>425000.0</td>\n      <td>461125.000000</td>\n    </tr>\n    <tr>\n      <th>287</th>\n      <td>425000.0</td>\n      <td>457492.725000</td>\n    </tr>\n    <tr>\n      <th>288</th>\n      <td>425000.0</td>\n      <td>453614.240000</td>\n    </tr>\n    <tr>\n      <th>289</th>\n      <td>425000.0</td>\n      <td>452259.750000</td>\n    </tr>\n    <tr>\n      <th>290</th>\n      <td>425000.0</td>\n      <td>438339.490000</td>\n    </tr>\n    <tr>\n      <th>291</th>\n      <td>425000.0</td>\n      <td>436720.745000</td>\n    </tr>\n    <tr>\n      <th>292</th>\n      <td>425000.0</td>\n      <td>421389.000000</td>\n    </tr>\n    <tr>\n      <th>293</th>\n      <td>425000.0</td>\n      <td>402855.740000</td>\n    </tr>\n    <tr>\n      <th>294</th>\n      <td>425000.0</td>\n      <td>400926.615000</td>\n    </tr>\n    <tr>\n      <th>295</th>\n      <td>425000.0</td>\n      <td>399203.950000</td>\n    </tr>\n    <tr>\n      <th>296</th>\n      <td>425000.0</td>\n      <td>388599.495000</td>\n    </tr>\n    <tr>\n      <th>297</th>\n      <td>425000.0</td>\n      <td>360483.220000</td>\n    </tr>\n    <tr>\n      <th>298</th>\n      <td>420000.0</td>\n      <td>501341.430000</td>\n    </tr>\n    <tr>\n      <th>299</th>\n      <td>419950.0</td>\n      <td>469190.195000</td>\n    </tr>\n    <tr>\n      <th>300</th>\n      <td>415000.0</td>\n      <td>482275.680000</td>\n    </tr>\n    <tr>\n      <th>301</th>\n      <td>415000.0</td>\n      <td>463418.695000</td>\n    </tr>\n    <tr>\n      <th>302</th>\n      <td>410000.0</td>\n      <td>435986.680000</td>\n    </tr>\n    <tr>\n      <th>303</th>\n      <td>407995.0</td>\n      <td>420068.306602</td>\n    </tr>\n    <tr>\n      <th>304</th>\n      <td>400000.0</td>\n      <td>541523.700000</td>\n    </tr>\n    <tr>\n      <th>305</th>\n      <td>400000.0</td>\n      <td>504921.840000</td>\n    </tr>\n    <tr>\n      <th>306</th>\n      <td>400000.0</td>\n      <td>497497.990000</td>\n    </tr>\n    <tr>\n      <th>307</th>\n      <td>400000.0</td>\n      <td>482517.995000</td>\n    </tr>\n    <tr>\n      <th>308</th>\n      <td>400000.0</td>\n      <td>479331.483333</td>\n    </tr>\n    <tr>\n      <th>309</th>\n      <td>400000.0</td>\n      <td>479070.640000</td>\n    </tr>\n    <tr>\n      <th>310</th>\n      <td>400000.0</td>\n      <td>472159.000000</td>\n    </tr>\n    <tr>\n      <th>311</th>\n      <td>400000.0</td>\n      <td>442357.833333</td>\n    </tr>\n    <tr>\n      <th>312</th>\n      <td>400000.0</td>\n      <td>440096.225000</td>\n    </tr>\n    <tr>\n      <th>313</th>\n      <td>400000.0</td>\n      <td>437706.142143</td>\n    </tr>\n    <tr>\n      <th>314</th>\n      <td>400000.0</td>\n      <td>430755.092857</td>\n    </tr>\n    <tr>\n      <th>315</th>\n      <td>400000.0</td>\n      <td>429581.000000</td>\n    </tr>\n    <tr>\n      <th>316</th>\n      <td>400000.0</td>\n      <td>424190.406667</td>\n    </tr>\n    <tr>\n      <th>317</th>\n      <td>400000.0</td>\n      <td>420906.925000</td>\n    </tr>\n    <tr>\n      <th>318</th>\n      <td>400000.0</td>\n      <td>420796.750000</td>\n    </tr>\n    <tr>\n      <th>319</th>\n      <td>400000.0</td>\n      <td>419758.450000</td>\n    </tr>\n    <tr>\n      <th>320</th>\n      <td>400000.0</td>\n      <td>417739.203333</td>\n    </tr>\n    <tr>\n      <th>321</th>\n      <td>400000.0</td>\n      <td>416103.470000</td>\n    </tr>\n    <tr>\n      <th>322</th>\n      <td>400000.0</td>\n      <td>413971.745000</td>\n    </tr>\n    <tr>\n      <th>323</th>\n      <td>400000.0</td>\n      <td>413725.510000</td>\n    </tr>\n    <tr>\n      <th>324</th>\n      <td>400000.0</td>\n      <td>413140.740000</td>\n    </tr>\n    <tr>\n      <th>325</th>\n      <td>400000.0</td>\n      <td>405468.400000</td>\n    </tr>\n    <tr>\n      <th>326</th>\n      <td>400000.0</td>\n      <td>403166.950000</td>\n    </tr>\n    <tr>\n      <th>327</th>\n      <td>400000.0</td>\n      <td>337107.000000</td>\n    </tr>\n    <tr>\n      <th>328</th>\n      <td>399999.0</td>\n      <td>473088.225000</td>\n    </tr>\n    <tr>\n      <th>329</th>\n      <td>399999.0</td>\n      <td>360875.725000</td>\n    </tr>\n    <tr>\n      <th>330</th>\n      <td>399999.0</td>\n      <td>331283.520000</td>\n    </tr>\n    <tr>\n      <th>331</th>\n      <td>399995.0</td>\n      <td>450594.215000</td>\n    </tr>\n    <tr>\n      <th>332</th>\n      <td>399000.0</td>\n      <td>409888.945000</td>\n    </tr>\n    <tr>\n      <th>333</th>\n      <td>395000.0</td>\n      <td>450567.225000</td>\n    </tr>\n    <tr>\n      <th>334</th>\n      <td>395000.0</td>\n      <td>448005.166667</td>\n    </tr>\n    <tr>\n      <th>335</th>\n      <td>395000.0</td>\n      <td>405762.995000</td>\n    </tr>\n    <tr>\n      <th>336</th>\n      <td>390000.0</td>\n      <td>543596.490000</td>\n    </tr>\n    <tr>\n      <th>337</th>\n      <td>390000.0</td>\n      <td>474251.130000</td>\n    </tr>\n    <tr>\n      <th>338</th>\n      <td>390000.0</td>\n      <td>404030.225000</td>\n    </tr>\n    <tr>\n      <th>339</th>\n      <td>386000.0</td>\n      <td>423019.750000</td>\n    </tr>\n    <tr>\n      <th>340</th>\n      <td>385000.0</td>\n      <td>410055.540000</td>\n    </tr>\n    <tr>\n      <th>341</th>\n      <td>385000.0</td>\n      <td>369046.720000</td>\n    </tr>\n    <tr>\n      <th>342</th>\n      <td>380000.0</td>\n      <td>455566.975000</td>\n    </tr>\n    <tr>\n      <th>343</th>\n      <td>380000.0</td>\n      <td>419874.940000</td>\n    </tr>\n    <tr>\n      <th>344</th>\n      <td>380000.0</td>\n      <td>411265.000000</td>\n    </tr>\n    <tr>\n      <th>345</th>\n      <td>380000.0</td>\n      <td>383109.225000</td>\n    </tr>\n    <tr>\n      <th>346</th>\n      <td>380000.0</td>\n      <td>376704.470000</td>\n    </tr>\n    <tr>\n      <th>347</th>\n      <td>380000.0</td>\n      <td>345739.490000</td>\n    </tr>\n    <tr>\n      <th>348</th>\n      <td>379995.0</td>\n      <td>428146.345000</td>\n    </tr>\n    <tr>\n      <th>349</th>\n      <td>379950.0</td>\n      <td>463671.000000</td>\n    </tr>\n    <tr>\n      <th>350</th>\n      <td>375000.0</td>\n      <td>495484.495000</td>\n    </tr>\n    <tr>\n      <th>351</th>\n      <td>375000.0</td>\n      <td>493629.200000</td>\n    </tr>\n    <tr>\n      <th>352</th>\n      <td>375000.0</td>\n      <td>458777.955000</td>\n    </tr>\n    <tr>\n      <th>353</th>\n      <td>375000.0</td>\n      <td>456743.750000</td>\n    </tr>\n    <tr>\n      <th>354</th>\n      <td>375000.0</td>\n      <td>456598.975000</td>\n    </tr>\n    <tr>\n      <th>355</th>\n      <td>375000.0</td>\n      <td>455304.205000</td>\n    </tr>\n    <tr>\n      <th>356</th>\n      <td>375000.0</td>\n      <td>446525.715000</td>\n    </tr>\n    <tr>\n      <th>357</th>\n      <td>375000.0</td>\n      <td>437264.475000</td>\n    </tr>\n    <tr>\n      <th>358</th>\n      <td>375000.0</td>\n      <td>433203.200000</td>\n    </tr>\n    <tr>\n      <th>359</th>\n      <td>375000.0</td>\n      <td>419643.915000</td>\n    </tr>\n    <tr>\n      <th>360</th>\n      <td>375000.0</td>\n      <td>406736.120000</td>\n    </tr>\n    <tr>\n      <th>361</th>\n      <td>375000.0</td>\n      <td>395274.500000</td>\n    </tr>\n    <tr>\n      <th>362</th>\n      <td>375000.0</td>\n      <td>393430.205000</td>\n    </tr>\n    <tr>\n      <th>363</th>\n      <td>375000.0</td>\n      <td>378209.975000</td>\n    </tr>\n    <tr>\n      <th>364</th>\n      <td>375000.0</td>\n      <td>374279.860000</td>\n    </tr>\n    <tr>\n      <th>365</th>\n      <td>375000.0</td>\n      <td>373577.435000</td>\n    </tr>\n    <tr>\n      <th>366</th>\n      <td>370000.0</td>\n      <td>403012.583333</td>\n    </tr>\n    <tr>\n      <th>367</th>\n      <td>365000.0</td>\n      <td>425073.220000</td>\n    </tr>\n    <tr>\n      <th>368</th>\n      <td>365000.0</td>\n      <td>424189.245000</td>\n    </tr>\n    <tr>\n      <th>369</th>\n      <td>360000.0</td>\n      <td>416267.240000</td>\n    </tr>\n    <tr>\n      <th>370</th>\n      <td>360000.0</td>\n      <td>390379.500000</td>\n    </tr>\n    <tr>\n      <th>371</th>\n      <td>350000.0</td>\n      <td>447026.175000</td>\n    </tr>\n    <tr>\n      <th>372</th>\n      <td>350000.0</td>\n      <td>439680.250000</td>\n    </tr>\n    <tr>\n      <th>373</th>\n      <td>350000.0</td>\n      <td>435696.000000</td>\n    </tr>\n    <tr>\n      <th>374</th>\n      <td>350000.0</td>\n      <td>430724.490000</td>\n    </tr>\n    <tr>\n      <th>375</th>\n      <td>350000.0</td>\n      <td>423119.925000</td>\n    </tr>\n    <tr>\n      <th>376</th>\n      <td>350000.0</td>\n      <td>418346.125000</td>\n    </tr>\n    <tr>\n      <th>377</th>\n      <td>350000.0</td>\n      <td>413555.495000</td>\n    </tr>\n    <tr>\n      <th>378</th>\n      <td>350000.0</td>\n      <td>409033.913333</td>\n    </tr>\n    <tr>\n      <th>379</th>\n      <td>350000.0</td>\n      <td>407911.911667</td>\n    </tr>\n    <tr>\n      <th>380</th>\n      <td>350000.0</td>\n      <td>400866.791667</td>\n    </tr>\n    <tr>\n      <th>381</th>\n      <td>350000.0</td>\n      <td>391097.976667</td>\n    </tr>\n    <tr>\n      <th>382</th>\n      <td>350000.0</td>\n      <td>366795.980000</td>\n    </tr>\n    <tr>\n      <th>383</th>\n      <td>350000.0</td>\n      <td>362748.650000</td>\n    </tr>\n    <tr>\n      <th>384</th>\n      <td>350000.0</td>\n      <td>336563.160000</td>\n    </tr>\n    <tr>\n      <th>385</th>\n      <td>350000.0</td>\n      <td>316961.945000</td>\n    </tr>\n    <tr>\n      <th>386</th>\n      <td>343000.0</td>\n      <td>333955.700000</td>\n    </tr>\n    <tr>\n      <th>387</th>\n      <td>340000.0</td>\n      <td>441119.864762</td>\n    </tr>\n    <tr>\n      <th>388</th>\n      <td>340000.0</td>\n      <td>352334.955000</td>\n    </tr>\n    <tr>\n      <th>389</th>\n      <td>339000.0</td>\n      <td>507326.750000</td>\n    </tr>\n    <tr>\n      <th>390</th>\n      <td>325000.0</td>\n      <td>375496.700000</td>\n    </tr>\n    <tr>\n      <th>391</th>\n      <td>325000.0</td>\n      <td>374392.925000</td>\n    </tr>\n    <tr>\n      <th>392</th>\n      <td>325000.0</td>\n      <td>361848.690000</td>\n    </tr>\n    <tr>\n      <th>393</th>\n      <td>325000.0</td>\n      <td>361669.250000</td>\n    </tr>\n    <tr>\n      <th>394</th>\n      <td>320000.0</td>\n      <td>300424.975000</td>\n    </tr>\n    <tr>\n      <th>395</th>\n      <td>315000.0</td>\n      <td>427523.750000</td>\n    </tr>\n    <tr>\n      <th>396</th>\n      <td>315000.0</td>\n      <td>299582.416667</td>\n    </tr>\n    <tr>\n      <th>397</th>\n      <td>315000.0</td>\n      <td>283969.975000</td>\n    </tr>\n    <tr>\n      <th>398</th>\n      <td>310000.0</td>\n      <td>309620.725000</td>\n    </tr>\n    <tr>\n      <th>399</th>\n      <td>307500.0</td>\n      <td>396547.945000</td>\n    </tr>\n    <tr>\n      <th>400</th>\n      <td>300000.0</td>\n      <td>382148.965000</td>\n    </tr>\n    <tr>\n      <th>401</th>\n      <td>300000.0</td>\n      <td>373485.750000</td>\n    </tr>\n    <tr>\n      <th>402</th>\n      <td>300000.0</td>\n      <td>361617.685000</td>\n    </tr>\n    <tr>\n      <th>403</th>\n      <td>300000.0</td>\n      <td>314269.725000</td>\n    </tr>\n    <tr>\n      <th>404</th>\n      <td>300000.0</td>\n      <td>291183.250000</td>\n    </tr>\n    <tr>\n      <th>405</th>\n      <td>300000.0</td>\n      <td>277655.750000</td>\n    </tr>\n    <tr>\n      <th>406</th>\n      <td>300000.0</td>\n      <td>266199.750000</td>\n    </tr>\n    <tr>\n      <th>407</th>\n      <td>300000.0</td>\n      <td>221705.000000</td>\n    </tr>\n    <tr>\n      <th>408</th>\n      <td>299995.0</td>\n      <td>385815.525000</td>\n    </tr>\n    <tr>\n      <th>409</th>\n      <td>294995.0</td>\n      <td>299724.475000</td>\n    </tr>\n    <tr>\n      <th>410</th>\n      <td>290000.0</td>\n      <td>334102.105000</td>\n    </tr>\n    <tr>\n      <th>411</th>\n      <td>285000.0</td>\n      <td>336732.200000</td>\n    </tr>\n    <tr>\n      <th>412</th>\n      <td>280000.0</td>\n      <td>285223.925000</td>\n    </tr>\n    <tr>\n      <th>413</th>\n      <td>279950.0</td>\n      <td>288645.000000</td>\n    </tr>\n    <tr>\n      <th>414</th>\n      <td>279000.0</td>\n      <td>347500.365000</td>\n    </tr>\n    <tr>\n      <th>415</th>\n      <td>278000.0</td>\n      <td>315269.425000</td>\n    </tr>\n    <tr>\n      <th>416</th>\n      <td>275000.0</td>\n      <td>260439.250000</td>\n    </tr>\n    <tr>\n      <th>417</th>\n      <td>270000.0</td>\n      <td>293768.650000</td>\n    </tr>\n    <tr>\n      <th>418</th>\n      <td>266750.0</td>\n      <td>343635.725000</td>\n    </tr>\n    <tr>\n      <th>419</th>\n      <td>259950.0</td>\n      <td>387741.000000</td>\n    </tr>\n    <tr>\n      <th>420</th>\n      <td>250000.0</td>\n      <td>414207.000000</td>\n    </tr>\n    <tr>\n      <th>421</th>\n      <td>250000.0</td>\n      <td>279349.750000</td>\n    </tr>\n    <tr>\n      <th>422</th>\n      <td>250000.0</td>\n      <td>270679.425000</td>\n    </tr>\n    <tr>\n      <th>423</th>\n      <td>250000.0</td>\n      <td>247419.900000</td>\n    </tr>\n    <tr>\n      <th>424</th>\n      <td>240000.0</td>\n      <td>358508.955000</td>\n    </tr>\n    <tr>\n      <th>425</th>\n      <td>240000.0</td>\n      <td>247327.075000</td>\n    </tr>\n    <tr>\n      <th>426</th>\n      <td>240000.0</td>\n      <td>231234.970000</td>\n    </tr>\n    <tr>\n      <th>427</th>\n      <td>235000.0</td>\n      <td>292572.250000</td>\n    </tr>\n    <tr>\n      <th>428</th>\n      <td>229950.0</td>\n      <td>246255.323333</td>\n    </tr>\n    <tr>\n      <th>429</th>\n      <td>220000.0</td>\n      <td>239760.185000</td>\n    </tr>\n    <tr>\n      <th>430</th>\n      <td>220000.0</td>\n      <td>226009.000000</td>\n    </tr>\n    <tr>\n      <th>431</th>\n      <td>220000.0</td>\n      <td>224293.700000</td>\n    </tr>\n    <tr>\n      <th>432</th>\n      <td>215000.0</td>\n      <td>250405.500000</td>\n    </tr>\n    <tr>\n      <th>433</th>\n      <td>215000.0</td>\n      <td>236218.185000</td>\n    </tr>\n    <tr>\n      <th>434</th>\n      <td>210000.0</td>\n      <td>287932.150000</td>\n    </tr>\n    <tr>\n      <th>435</th>\n      <td>210000.0</td>\n      <td>280449.875000</td>\n    </tr>\n    <tr>\n      <th>436</th>\n      <td>200000.0</td>\n      <td>259746.475000</td>\n    </tr>\n    <tr>\n      <th>437</th>\n      <td>200000.0</td>\n      <td>230812.405000</td>\n    </tr>\n    <tr>\n      <th>438</th>\n      <td>200000.0</td>\n      <td>221534.980000</td>\n    </tr>\n    <tr>\n      <th>439</th>\n      <td>199000.0</td>\n      <td>257972.495000</td>\n    </tr>\n    <tr>\n      <th>440</th>\n      <td>190000.0</td>\n      <td>303066.441667</td>\n    </tr>\n    <tr>\n      <th>441</th>\n      <td>180000.0</td>\n      <td>263097.475000</td>\n    </tr>\n    <tr>\n      <th>442</th>\n      <td>166250.0</td>\n      <td>380196.850000</td>\n    </tr>\n    <tr>\n      <th>443</th>\n      <td>159250.0</td>\n      <td>432556.745000</td>\n    </tr>\n    <tr>\n      <th>444</th>\n      <td>142500.0</td>\n      <td>447391.945000</td>\n    </tr>\n    <tr>\n      <th>445</th>\n      <td>136875.0</td>\n      <td>294034.464286</td>\n    </tr>\n    <tr>\n      <th>446</th>\n      <td>129000.0</td>\n      <td>496111.945000</td>\n    </tr>\n  </tbody>\n</table>\n</div>"
     },
     "execution_count": 20,
     "metadata": {},
     "output_type": "execute_result"
    }
   ],
   "source": [
    "y_pred = regressor.predict(X_test)\n",
    "true_vs_pred = pd.DataFrame(sorted(zip(y_test, y_pred), reverse=True),columns=['actual','predicted'])\n",
    "true_vs_pred"
   ],
   "metadata": {
    "collapsed": false,
    "pycharm": {
     "name": "#%%\n"
    }
   }
  },
  {
   "cell_type": "code",
   "execution_count": 21,
   "outputs": [
    {
     "data": {
      "text/plain": "4298512536.950683"
     },
     "execution_count": 21,
     "metadata": {},
     "output_type": "execute_result"
    }
   ],
   "source": [
    "sklearn.metrics.mean_squared_error(y_test, y_pred)"
   ],
   "metadata": {
    "collapsed": false,
    "pycharm": {
     "name": "#%%\n"
    }
   }
  },
  {
   "cell_type": "code",
   "execution_count": 22,
   "outputs": [
    {
     "data": {
      "text/plain": "<AxesSubplot:xlabel='actual', ylabel='predicted'>"
     },
     "execution_count": 22,
     "metadata": {},
     "output_type": "execute_result"
    },
    {
     "data": {
      "text/plain": "<Figure size 864x864 with 1 Axes>",
      "image/png": "[encoded data removed]"
     },
     "metadata": {
      "needs_background": "light"
     },
     "output_type": "display_data"
    }
   ],
   "source": [
    "true_vs_pred.plot(kind='scatter',x=0,y=1,figsize=(12,12))"
   ],
   "metadata": {
    "collapsed": false,
    "pycharm": {
     "name": "#%%\n"
    }
   }
  },
  {
   "cell_type": "code",
   "execution_count": 22,
   "outputs": [],
   "source": [],
   "metadata": {
    "collapsed": false,
    "pycharm": {
     "name": "#%%\n"
    }
   }
  }
 ],
 "metadata": {
  "kernelspec": {
   "display_name": "Python 3",
   "language": "python",
   "name": "python3"
  },
  "language_info": {
   "codemirror_mode": {
    "name": "ipython",
    "version": 2
   },
   "file_extension": ".py",
   "mimetype": "text/x-python",
   "name": "python",
   "nbconvert_exporter": "python",
   "pygments_lexer": "ipython2",
   "version": "2.7.6"
  }
 },
 "nbformat": 4,
 "nbformat_minor": 0
}