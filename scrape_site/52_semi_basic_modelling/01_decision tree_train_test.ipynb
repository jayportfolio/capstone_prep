{
 "cells": [
  {
   "cell_type": "code",
   "execution_count": 3,
   "metadata": {
    "collapsed": true,
    "pycharm": {
     "name": "#%%\n"
    }
   },
   "outputs": [],
   "source": [
    "from sklearn.model_selection import train_test_split\n",
    "from sklearn.tree import DecisionTreeRegressor\n",
    "import sys\n",
    "sys.path.append('../../globalfunction')  # setting path\n",
    "import globalfunction.vv as vv  # importing\n",
    "\n",
    "import pandas as pd"
   ]
  },
  {
   "cell_type": "code",
   "execution_count": 4,
   "outputs": [
    {
     "name": "stderr",
     "output_type": "stream",
     "text": [
      "/media/sf_shared_files/Springboard_III/capstone_prep/globalfunction/vv.py:331: DtypeWarning: Columns (23,25,28,31,40,43,44,47,51,56,59,61,62,63) have mixed types. Specify dtype option on import or set low_memory=False.\n",
      "  df_json1 = pd.read_csv(LISTING_JSON_MODEL_FILE)  # EDIT 29-06-2022: There are bid listings and regular listings. I scrape them seporately and join them here.\n"
     ]
    },
    {
     "name": "stdout",
     "output_type": "stream",
     "text": [
      "remove duplicates: 16093/41841/36288/36761 ==> 16093/32312/32109/32118\n",
      "dataframe length: 16036\n",
      "allowing Price to pass with 28 nulls/NANs\n",
      "allowing type to pass with 72 nulls/NANs\n",
      "dropping size because 13457 nulls/NANs is too many\n",
      "dropping other_key_info because 16035 nulls/NANs is too many\n",
      "allowing bullet_points to pass with 1402 nulls/NANs\n",
      "allowing hold_type to pass with 5193 nulls/NANs\n",
      "allowing virtualTours to pass with 8 nulls/NANs\n",
      "allowing rooms to pass with 8 nulls/NANs\n",
      "allowing nearestAirports to pass with 8 nulls/NANs\n",
      "allowing nearestStations to pass with 8 nulls/NANs\n",
      "allowing showSchoolInfo to pass with 8 nulls/NANs\n",
      "allowing channel to pass with 8 nulls/NANs\n",
      "allowing sizings to pass with 8 nulls/NANs\n",
      "allowing bedrooms_model to pass with 732 nulls/NANs\n",
      "allowing bathrooms_model to pass with 1233 nulls/NANs\n",
      "allowing transactionType to pass with 8 nulls/NANs\n",
      "allowing tags to pass with 8 nulls/NANs\n",
      "allowing infoReelItems to pass with 9 nulls/NANs\n",
      "allowing soldPropertyType to pass with 8 nulls/NANs\n",
      "dropping auctionProvider because 16035 nulls/NANs is too many\n",
      "allowing propertySubType to pass with 9 nulls/NANs\n",
      "allowing businessForSale to pass with 8 nulls/NANs\n",
      "allowing commercial to pass with 8 nulls/NANs\n",
      "allowing commercialUseClasses to pass with 8 nulls/NANs\n",
      "dropping affordableBuyingScheme because 16035 nulls/NANs is too many\n",
      "allowing status.published to pass with 8 nulls/NANs\n",
      "allowing status.archived to pass with 8 nulls/NANs\n",
      "allowing text.description to pass with 8 nulls/NANs\n",
      "allowing text.propertyPhrase to pass with 8 nulls/NANs\n",
      "allowing text.shareText to pass with 8 nulls/NANs\n",
      "allowing text.shareDescription to pass with 8 nulls/NANs\n",
      "allowing text.pageTitle to pass with 8 nulls/NANs\n",
      "allowing text.shortDescription to pass with 8 nulls/NANs\n",
      "allowing prices.primaryPrice to pass with 8 nulls/NANs\n",
      "dropping prices.secondaryPrice because 16035 nulls/NANs is too many\n",
      "dropping prices.displayPriceQualifier because 8643 nulls/NANs is too many\n",
      "dropping prices.pricePerSqFt because 13458 nulls/NANs is too many\n",
      "dropping prices.exchangeRate because 16035 nulls/NANs is too many\n",
      "allowing address.displayAddress to pass with 9 nulls/NANs\n",
      "allowing address.countryCode to pass with 8 nulls/NANs\n",
      "dropping address.deliveryPointId because 5353 nulls/NANs is too many\n",
      "allowing address.ukCountry to pass with 9 nulls/NANs\n",
      "allowing address.outcode to pass with 8 nulls/NANs\n",
      "allowing address.incode to pass with 8 nulls/NANs\n",
      "allowing location.latitude to pass with 8 nulls/NANs\n",
      "allowing location.longitude to pass with 8 nulls/NANs\n",
      "allowing location.circleRadiusOnMap to pass with 8 nulls/NANs\n",
      "allowing location.zoomLevel to pass with 8 nulls/NANs\n",
      "allowing location.pinType to pass with 8 nulls/NANs\n",
      "allowing location.showMap to pass with 8 nulls/NANs\n",
      "allowing misInfo.branchId to pass with 8 nulls/NANs\n",
      "dropping misInfo.offerAdvertStampTypeId because 15947 nulls/NANs is too many\n",
      "allowing misInfo.premiumDisplay to pass with 9 nulls/NANs\n",
      "dropping misInfo.premiumDisplayStampId because 11848 nulls/NANs is too many\n",
      "allowing misInfo.brandPlus to pass with 9 nulls/NANs\n",
      "allowing misInfo.featuredProperty to pass with 8 nulls/NANs\n",
      "allowing listingHistory.listingUpdateReason to pass with 10 nulls/NANs\n",
      "allowing broadband.broadbandCheckerUrl to pass with 10 nulls/NANs\n",
      "allowing contactInfo.contactMethod to pass with 8 nulls/NANs\n",
      "allowing contactInfo.telephoneNumbers.localNumber to pass with 9 nulls/NANs\n",
      "dropping contactInfo.telephoneNumbers.internationalNumber because 16036 nulls/NANs is too many\n",
      "dropping contactInfo.telephoneNumbers.disclaimerText because 16036 nulls/NANs is too many\n",
      "dropping contactInfo.telephoneNumbers.disclaimerTitle because 16036 nulls/NANs is too many\n",
      "dropping contactInfo.telephoneNumbers.disclaimerDescription because 16036 nulls/NANs is too many\n",
      "allowing tenure.tenureType to pass with 1117 nulls/NANs\n",
      "dropping tenure.yearsRemainingOnLease because 15095 nulls/NANs is too many\n",
      "dropping tenure.message because 14936 nulls/NANs is too many\n",
      "allowing sharedOwnership.sharedOwnership to pass with 8 nulls/NANs\n",
      "dropping sharedOwnership.ownershipPercentage because 15951 nulls/NANs is too many\n",
      "dropping sharedOwnership.rentPrice because 15955 nulls/NANs is too many\n",
      "allowing sharedOwnership.rentFrequency to pass with 2106 nulls/NANs\n",
      "allowing livingCosts.councilTaxExempt to pass with 8 nulls/NANs\n",
      "allowing livingCosts.councilTaxIncluded to pass with 8 nulls/NANs\n",
      "dropping livingCosts.annualGroundRent because 15837 nulls/NANs is too many\n",
      "dropping livingCosts.groundRentReviewPeriodInYears because 15994 nulls/NANs is too many\n",
      "dropping livingCosts.groundRentPercentageIncrease because 16008 nulls/NANs is too many\n",
      "dropping livingCosts.annualServiceCharge because 15814 nulls/NANs is too many\n",
      "dropping livingCosts.councilTaxBand because 15738 nulls/NANs is too many\n",
      "dropping auctionProvider.endDate because 16029 nulls/NANs is too many\n",
      "dropping auctionProvider.auctionTimeRemaining because 16029 nulls/NANs is too many\n",
      "dropping auctionProvider.bid because 16035 nulls/NANs is too many\n",
      "allowing date_scraped_meta to pass with 1 nulls/NANs\n",
      "allowing analyticsBranch.agentType to pass with 1 nulls/NANs\n",
      "allowing analyticsBranch.branchId to pass with 1 nulls/NANs\n",
      "allowing analyticsBranch.branchName to pass with 1 nulls/NANs\n",
      "allowing analyticsBranch.brandName to pass with 1 nulls/NANs\n",
      "allowing analyticsBranch.companyName to pass with 1 nulls/NANs\n",
      "allowing analyticsBranch.companyTradingName to pass with 3775 nulls/NANs\n",
      "allowing analyticsBranch.companyType to pass with 1 nulls/NANs\n",
      "allowing analyticsBranch.pageType to pass with 1 nulls/NANs\n",
      "allowing analyticsProperty.added to pass with 1 nulls/NANs\n",
      "allowing analyticsProperty.auctionOnly to pass with 1 nulls/NANs\n",
      "allowing analyticsProperty.beds to pass with 1 nulls/NANs\n",
      "allowing analyticsProperty.businessForSale to pass with 1 nulls/NANs\n",
      "allowing analyticsProperty.country to pass with 1 nulls/NANs\n",
      "allowing analyticsProperty.currency to pass with 1 nulls/NANs\n",
      "allowing analyticsProperty.floorplanCount to pass with 1 nulls/NANs\n",
      "allowing analyticsProperty.furnishedType to pass with 1 nulls/NANs\n",
      "allowing analyticsProperty.hasOnlineViewing to pass with 1 nulls/NANs\n",
      "allowing analyticsProperty.imageCount to pass with 1 nulls/NANs\n",
      "allowing analyticsProperty.latitude to pass with 1 nulls/NANs\n",
      "allowing analyticsProperty.longitude to pass with 1 nulls/NANs\n",
      "allowing analyticsProperty.letAgreed to pass with 1 nulls/NANs\n",
      "allowing analyticsProperty.lettingType to pass with 1 nulls/NANs\n",
      "dropping analyticsProperty.maxSizeAc because 13457 nulls/NANs is too many\n",
      "dropping analyticsProperty.maxSizeFt because 13457 nulls/NANs is too many\n",
      "dropping analyticsProperty.minSizeAc because 13457 nulls/NANs is too many\n",
      "dropping analyticsProperty.minSizeFt because 13457 nulls/NANs is too many\n",
      "allowing analyticsProperty.ownership to pass with 1 nulls/NANs\n",
      "allowing analyticsProperty.preOwned to pass with 1 nulls/NANs\n",
      "allowing analyticsProperty.priceQualifier to pass with 1 nulls/NANs\n",
      "allowing analyticsProperty.propertyId to pass with 1 nulls/NANs\n",
      "allowing analyticsProperty.propertySubType to pass with 1 nulls/NANs\n",
      "allowing analyticsProperty.propertyType to pass with 1 nulls/NANs\n",
      "allowing analyticsProperty.retirement to pass with 1 nulls/NANs\n",
      "dropping analyticsProperty.selectedCurrency because 16036 nulls/NANs is too many\n",
      "allowing analyticsProperty.soldSTC to pass with 1 nulls/NANs\n",
      "allowing analyticsProperty.videoProvider to pass with 1 nulls/NANs\n",
      "allowing analyticsProperty.viewType to pass with 1 nulls/NANs\n",
      "dropping Unnamed: 46 because 16036 nulls/NANs is too many\n",
      "allowing floorplan_count to pass with 8 nulls/NANs\n",
      "(6087, 16)\n"
     ]
    },
    {
     "data": {
      "text/plain": "              Price  distance_to_any_train  bedrooms  bathrooms  \\\nids                                                               \n111309926  205000.0                    0.5       1.0        1.0   \n114491630  210000.0                    0.4       2.0        1.0   \n108468728  215000.0                    0.6       1.0        1.0   \n119759102  216000.0                    0.4       2.0        1.0   \n117676556  220000.0                    0.3       2.0        1.0   \n\n           bedrooms_model  bathrooms_model  location.longitude  \\\nids                                                              \n111309926             1.0              1.0            0.003685   \n114491630             2.0              1.0           -0.060820   \n108468728             1.0              1.0            0.013220   \n119759102             2.0              1.0           -0.037020   \n117676556             2.0              1.0           -0.030918   \n\n           analyticsBranch.branchId  analyticsProperty.added  \\\nids                                                            \n111309926                  160727.0               20210802.0   \n114491630                  166511.0               20211007.0   \n108468728                   50665.0               20210609.0   \n119759102                  166511.0               20220209.0   \n117676556                   91850.0               20211216.0   \n\n           analyticsProperty.beds  analyticsProperty.floorplanCount  \\\nids                                                                   \n111309926                     1.0                               1.0   \n114491630                     2.0                               1.0   \n108468728                     1.0                               1.0   \n119759102                     2.0                               1.0   \n117676556                     2.0                               1.0   \n\n           analyticsProperty.imageCount  analyticsProperty.latitude  \\\nids                                                                   \n111309926                           7.0                   51.458589   \n114491630                           8.0                   51.431580   \n108468728                          11.0                   51.437080   \n119759102                          11.0                   51.429660   \n117676556                           1.0                   51.481903   \n\n           analyticsProperty.longitude  analyticsProperty.propertyId  \\\nids                                                                    \n111309926                     0.003685                   111309926.0   \n114491630                    -0.060820                   114491630.0   \n108468728                     0.013220                   108468728.0   \n119759102                    -0.037020                   119759102.0   \n117676556                    -0.030918                   117676556.0   \n\n           floorplan_count  \nids                         \n111309926              4.0  \n114491630              4.0  \n108468728              4.0  \n119759102              4.0  \n117676556              4.0  ",
      "text/html": "<div>\n<style scoped>\n    .dataframe tbody tr th:only-of-type {\n        vertical-align: middle;\n    }\n\n    .dataframe tbody tr th {\n        vertical-align: top;\n    }\n\n    .dataframe thead th {\n        text-align: right;\n    }\n</style>\n<table border=\"1\" class=\"dataframe\">\n  <thead>\n    <tr style=\"text-align: right;\">\n      <th></th>\n      <th>Price</th>\n      <th>distance_to_any_train</th>\n      <th>bedrooms</th>\n      <th>bathrooms</th>\n      <th>bedrooms_model</th>\n      <th>bathrooms_model</th>\n      <th>location.longitude</th>\n      <th>analyticsBranch.branchId</th>\n      <th>analyticsProperty.added</th>\n      <th>analyticsProperty.beds</th>\n      <th>analyticsProperty.floorplanCount</th>\n      <th>analyticsProperty.imageCount</th>\n      <th>analyticsProperty.latitude</th>\n      <th>analyticsProperty.longitude</th>\n      <th>analyticsProperty.propertyId</th>\n      <th>floorplan_count</th>\n    </tr>\n    <tr>\n      <th>ids</th>\n      <th></th>\n      <th></th>\n      <th></th>\n      <th></th>\n      <th></th>\n      <th></th>\n      <th></th>\n      <th></th>\n      <th></th>\n      <th></th>\n      <th></th>\n      <th></th>\n      <th></th>\n      <th></th>\n      <th></th>\n      <th></th>\n    </tr>\n  </thead>\n  <tbody>\n    <tr>\n      <th>111309926</th>\n      <td>205000.0</td>\n      <td>0.5</td>\n      <td>1.0</td>\n      <td>1.0</td>\n      <td>1.0</td>\n      <td>1.0</td>\n      <td>0.003685</td>\n      <td>160727.0</td>\n      <td>20210802.0</td>\n      <td>1.0</td>\n      <td>1.0</td>\n      <td>7.0</td>\n      <td>51.458589</td>\n      <td>0.003685</td>\n      <td>111309926.0</td>\n      <td>4.0</td>\n    </tr>\n    <tr>\n      <th>114491630</th>\n      <td>210000.0</td>\n      <td>0.4</td>\n      <td>2.0</td>\n      <td>1.0</td>\n      <td>2.0</td>\n      <td>1.0</td>\n      <td>-0.060820</td>\n      <td>166511.0</td>\n      <td>20211007.0</td>\n      <td>2.0</td>\n      <td>1.0</td>\n      <td>8.0</td>\n      <td>51.431580</td>\n      <td>-0.060820</td>\n      <td>114491630.0</td>\n      <td>4.0</td>\n    </tr>\n    <tr>\n      <th>108468728</th>\n      <td>215000.0</td>\n      <td>0.6</td>\n      <td>1.0</td>\n      <td>1.0</td>\n      <td>1.0</td>\n      <td>1.0</td>\n      <td>0.013220</td>\n      <td>50665.0</td>\n      <td>20210609.0</td>\n      <td>1.0</td>\n      <td>1.0</td>\n      <td>11.0</td>\n      <td>51.437080</td>\n      <td>0.013220</td>\n      <td>108468728.0</td>\n      <td>4.0</td>\n    </tr>\n    <tr>\n      <th>119759102</th>\n      <td>216000.0</td>\n      <td>0.4</td>\n      <td>2.0</td>\n      <td>1.0</td>\n      <td>2.0</td>\n      <td>1.0</td>\n      <td>-0.037020</td>\n      <td>166511.0</td>\n      <td>20220209.0</td>\n      <td>2.0</td>\n      <td>1.0</td>\n      <td>11.0</td>\n      <td>51.429660</td>\n      <td>-0.037020</td>\n      <td>119759102.0</td>\n      <td>4.0</td>\n    </tr>\n    <tr>\n      <th>117676556</th>\n      <td>220000.0</td>\n      <td>0.3</td>\n      <td>2.0</td>\n      <td>1.0</td>\n      <td>2.0</td>\n      <td>1.0</td>\n      <td>-0.030918</td>\n      <td>91850.0</td>\n      <td>20211216.0</td>\n      <td>2.0</td>\n      <td>1.0</td>\n      <td>1.0</td>\n      <td>51.481903</td>\n      <td>-0.030918</td>\n      <td>117676556.0</td>\n      <td>4.0</td>\n    </tr>\n  </tbody>\n</table>\n</div>"
     },
     "execution_count": 4,
     "metadata": {},
     "output_type": "execute_result"
    }
   ],
   "source": [
    "df_original = vv.quick_data(separate_Xy=False,\n",
    "                  numeric_values_only=True, nans_forbidden=True, exceptional_nans=['bedrooms', 'bathrooms'])\n",
    "#X, y = quick_data(separate_Xy=True,\n",
    "#                  numeric_values_only=True, nans_forbidden=True, exceptional_nans=['bedrooms', 'bathrooms'])\n",
    "print(df_original.shape)\n",
    "df_original.head()"
   ],
   "metadata": {
    "collapsed": false,
    "pycharm": {
     "name": "#%%\n"
    }
   }
  },
  {
   "cell_type": "code",
   "execution_count": 5,
   "outputs": [
    {
     "name": "stdout",
     "output_type": "stream",
     "text": [
      "(6087, 16)\n"
     ]
    },
    {
     "data": {
      "text/plain": "              Price  distance_to_any_train  bedrooms  bathrooms  \\\nids                                                               \n111309926  205000.0                    0.5       1.0        1.0   \n114491630  210000.0                    0.4       2.0        1.0   \n108468728  215000.0                    0.6       1.0        1.0   \n119759102  216000.0                    0.4       2.0        1.0   \n117676556  220000.0                    0.3       2.0        1.0   \n\n           bedrooms_model  bathrooms_model  location.longitude  \\\nids                                                              \n111309926             1.0              1.0            0.003685   \n114491630             2.0              1.0           -0.060820   \n108468728             1.0              1.0            0.013220   \n119759102             2.0              1.0           -0.037020   \n117676556             2.0              1.0           -0.030918   \n\n           analyticsBranch.branchId  analyticsProperty.added  \\\nids                                                            \n111309926                  160727.0               20210802.0   \n114491630                  166511.0               20211007.0   \n108468728                   50665.0               20210609.0   \n119759102                  166511.0               20220209.0   \n117676556                   91850.0               20211216.0   \n\n           analyticsProperty.beds  analyticsProperty.floorplanCount  \\\nids                                                                   \n111309926                     1.0                               1.0   \n114491630                     2.0                               1.0   \n108468728                     1.0                               1.0   \n119759102                     2.0                               1.0   \n117676556                     2.0                               1.0   \n\n           analyticsProperty.imageCount  analyticsProperty.latitude  \\\nids                                                                   \n111309926                           7.0                   51.458589   \n114491630                           8.0                   51.431580   \n108468728                          11.0                   51.437080   \n119759102                          11.0                   51.429660   \n117676556                           1.0                   51.481903   \n\n           analyticsProperty.longitude  analyticsProperty.propertyId  \\\nids                                                                    \n111309926                     0.003685                   111309926.0   \n114491630                    -0.060820                   114491630.0   \n108468728                     0.013220                   108468728.0   \n119759102                    -0.037020                   119759102.0   \n117676556                    -0.030918                   117676556.0   \n\n           floorplan_count  \nids                         \n111309926              4.0  \n114491630              4.0  \n108468728              4.0  \n119759102              4.0  \n117676556              4.0  ",
      "text/html": "<div>\n<style scoped>\n    .dataframe tbody tr th:only-of-type {\n        vertical-align: middle;\n    }\n\n    .dataframe tbody tr th {\n        vertical-align: top;\n    }\n\n    .dataframe thead th {\n        text-align: right;\n    }\n</style>\n<table border=\"1\" class=\"dataframe\">\n  <thead>\n    <tr style=\"text-align: right;\">\n      <th></th>\n      <th>Price</th>\n      <th>distance_to_any_train</th>\n      <th>bedrooms</th>\n      <th>bathrooms</th>\n      <th>bedrooms_model</th>\n      <th>bathrooms_model</th>\n      <th>location.longitude</th>\n      <th>analyticsBranch.branchId</th>\n      <th>analyticsProperty.added</th>\n      <th>analyticsProperty.beds</th>\n      <th>analyticsProperty.floorplanCount</th>\n      <th>analyticsProperty.imageCount</th>\n      <th>analyticsProperty.latitude</th>\n      <th>analyticsProperty.longitude</th>\n      <th>analyticsProperty.propertyId</th>\n      <th>floorplan_count</th>\n    </tr>\n    <tr>\n      <th>ids</th>\n      <th></th>\n      <th></th>\n      <th></th>\n      <th></th>\n      <th></th>\n      <th></th>\n      <th></th>\n      <th></th>\n      <th></th>\n      <th></th>\n      <th></th>\n      <th></th>\n      <th></th>\n      <th></th>\n      <th></th>\n      <th></th>\n    </tr>\n  </thead>\n  <tbody>\n    <tr>\n      <th>111309926</th>\n      <td>205000.0</td>\n      <td>0.5</td>\n      <td>1.0</td>\n      <td>1.0</td>\n      <td>1.0</td>\n      <td>1.0</td>\n      <td>0.003685</td>\n      <td>160727.0</td>\n      <td>20210802.0</td>\n      <td>1.0</td>\n      <td>1.0</td>\n      <td>7.0</td>\n      <td>51.458589</td>\n      <td>0.003685</td>\n      <td>111309926.0</td>\n      <td>4.0</td>\n    </tr>\n    <tr>\n      <th>114491630</th>\n      <td>210000.0</td>\n      <td>0.4</td>\n      <td>2.0</td>\n      <td>1.0</td>\n      <td>2.0</td>\n      <td>1.0</td>\n      <td>-0.060820</td>\n      <td>166511.0</td>\n      <td>20211007.0</td>\n      <td>2.0</td>\n      <td>1.0</td>\n      <td>8.0</td>\n      <td>51.431580</td>\n      <td>-0.060820</td>\n      <td>114491630.0</td>\n      <td>4.0</td>\n    </tr>\n    <tr>\n      <th>108468728</th>\n      <td>215000.0</td>\n      <td>0.6</td>\n      <td>1.0</td>\n      <td>1.0</td>\n      <td>1.0</td>\n      <td>1.0</td>\n      <td>0.013220</td>\n      <td>50665.0</td>\n      <td>20210609.0</td>\n      <td>1.0</td>\n      <td>1.0</td>\n      <td>11.0</td>\n      <td>51.437080</td>\n      <td>0.013220</td>\n      <td>108468728.0</td>\n      <td>4.0</td>\n    </tr>\n    <tr>\n      <th>119759102</th>\n      <td>216000.0</td>\n      <td>0.4</td>\n      <td>2.0</td>\n      <td>1.0</td>\n      <td>2.0</td>\n      <td>1.0</td>\n      <td>-0.037020</td>\n      <td>166511.0</td>\n      <td>20220209.0</td>\n      <td>2.0</td>\n      <td>1.0</td>\n      <td>11.0</td>\n      <td>51.429660</td>\n      <td>-0.037020</td>\n      <td>119759102.0</td>\n      <td>4.0</td>\n    </tr>\n    <tr>\n      <th>117676556</th>\n      <td>220000.0</td>\n      <td>0.3</td>\n      <td>2.0</td>\n      <td>1.0</td>\n      <td>2.0</td>\n      <td>1.0</td>\n      <td>-0.030918</td>\n      <td>91850.0</td>\n      <td>20211216.0</td>\n      <td>2.0</td>\n      <td>1.0</td>\n      <td>1.0</td>\n      <td>51.481903</td>\n      <td>-0.030918</td>\n      <td>117676556.0</td>\n      <td>4.0</td>\n    </tr>\n  </tbody>\n</table>\n</div>"
     },
     "execution_count": 5,
     "metadata": {},
     "output_type": "execute_result"
    }
   ],
   "source": [
    "df_original = df_original[~df_original.index.duplicated(keep='last')]\n",
    "print(df_original.shape)\n",
    "df_original.head()"
   ],
   "metadata": {
    "collapsed": false,
    "pycharm": {
     "name": "#%%\n"
    }
   }
  },
  {
   "cell_type": "code",
   "execution_count": 6,
   "outputs": [
    {
     "data": {
      "text/plain": "Empty DataFrame\nColumns: [Price, distance_to_any_train, bedrooms, bathrooms, bedrooms_model, bathrooms_model, location.longitude, analyticsBranch.branchId, analyticsProperty.added, analyticsProperty.beds, analyticsProperty.floorplanCount, analyticsProperty.imageCount, analyticsProperty.latitude, analyticsProperty.longitude, analyticsProperty.propertyId, floorplan_count]\nIndex: []",
      "text/html": "<div>\n<style scoped>\n    .dataframe tbody tr th:only-of-type {\n        vertical-align: middle;\n    }\n\n    .dataframe tbody tr th {\n        vertical-align: top;\n    }\n\n    .dataframe thead th {\n        text-align: right;\n    }\n</style>\n<table border=\"1\" class=\"dataframe\">\n  <thead>\n    <tr style=\"text-align: right;\">\n      <th></th>\n      <th>Price</th>\n      <th>distance_to_any_train</th>\n      <th>bedrooms</th>\n      <th>bathrooms</th>\n      <th>bedrooms_model</th>\n      <th>bathrooms_model</th>\n      <th>location.longitude</th>\n      <th>analyticsBranch.branchId</th>\n      <th>analyticsProperty.added</th>\n      <th>analyticsProperty.beds</th>\n      <th>analyticsProperty.floorplanCount</th>\n      <th>analyticsProperty.imageCount</th>\n      <th>analyticsProperty.latitude</th>\n      <th>analyticsProperty.longitude</th>\n      <th>analyticsProperty.propertyId</th>\n      <th>floorplan_count</th>\n    </tr>\n    <tr>\n      <th>ids</th>\n      <th></th>\n      <th></th>\n      <th></th>\n      <th></th>\n      <th></th>\n      <th></th>\n      <th></th>\n      <th></th>\n      <th></th>\n      <th></th>\n      <th></th>\n      <th></th>\n      <th></th>\n      <th></th>\n      <th></th>\n      <th></th>\n    </tr>\n  </thead>\n  <tbody>\n  </tbody>\n</table>\n</div>"
     },
     "execution_count": 6,
     "metadata": {},
     "output_type": "execute_result"
    }
   ],
   "source": [
    "sample_incomplete_rows = df_original[df_original.isnull().any(axis=1)].head()\n",
    "sample_incomplete_rows"
   ],
   "metadata": {
    "collapsed": false,
    "pycharm": {
     "name": "#%%\n"
    }
   }
  },
  {
   "cell_type": "code",
   "execution_count": 7,
   "outputs": [
    {
     "name": "stdout",
     "output_type": "stream",
     "text": [
      "(6087, 16)\n",
      "(6087, 16)\n"
     ]
    },
    {
     "data": {
      "text/plain": "            Price  distance_to_any_train  bedrooms  bathrooms  bedrooms_model  \\\nids                                                                             \n111309926  205000                    0.5       1.0        1.0             1.0   \n114491630  210000                    0.4       2.0        1.0             2.0   \n108468728  215000                    0.6       1.0        1.0             1.0   \n119759102  216000                    0.4       2.0        1.0             2.0   \n117676556  220000                    0.3       2.0        1.0             2.0   \n...           ...                    ...       ...        ...             ...   \n82452681   450000                    0.7       3.0        1.0             3.0   \n84705516   440000                    0.5       2.0        1.0             2.0   \n120100592  440000                    0.4       2.0        1.0             2.0   \n121041542  440000                    1.0       3.0        1.0             3.0   \n120696125  440000                    1.1       3.0        1.0             3.0   \n\n           bathrooms_model  location.longitude  analyticsBranch.branchId  \\\nids                                                                        \n111309926              1.0            0.003685                  160727.0   \n114491630              1.0           -0.060820                  166511.0   \n108468728              1.0            0.013220                   50665.0   \n119759102              1.0           -0.037020                  166511.0   \n117676556              1.0           -0.030918                   91850.0   \n...                    ...                 ...                       ...   \n82452681               1.0           -0.443819                   36963.0   \n84705516               1.0           -0.479194                   36963.0   \n120100592              1.0           -0.432817                   12872.0   \n121041542              1.0           -0.453880                   49645.0   \n120696125              1.0           -0.451470                    3211.0   \n\n           analyticsProperty.added  analyticsProperty.beds  \\\nids                                                          \n111309926               20210802.0                     1.0   \n114491630               20211007.0                     2.0   \n108468728               20210609.0                     1.0   \n119759102               20220209.0                     2.0   \n117676556               20211216.0                     2.0   \n...                            ...                     ...   \n82452681                20211110.0                     3.0   \n84705516                20220419.0                     2.0   \n120100592               20220217.0                     2.0   \n121041542               20220314.0                     3.0   \n120696125               20220305.0                     3.0   \n\n           analyticsProperty.floorplanCount  analyticsProperty.imageCount  \\\nids                                                                         \n111309926                               1.0                           7.0   \n114491630                               1.0                           8.0   \n108468728                               1.0                          11.0   \n119759102                               1.0                          11.0   \n117676556                               1.0                           1.0   \n...                                     ...                           ...   \n82452681                                1.0                          10.0   \n84705516                                1.0                          12.0   \n120100592                               1.0                          10.0   \n121041542                               1.0                          11.0   \n120696125                               1.0                          13.0   \n\n           analyticsProperty.latitude  analyticsProperty.longitude  \\\nids                                                                  \n111309926                   51.458589                     0.003685   \n114491630                   51.431580                    -0.060820   \n108468728                   51.437080                     0.013220   \n119759102                   51.429660                    -0.037020   \n117676556                   51.481903                    -0.030918   \n...                               ...                          ...   \n82452681                    51.543754                    -0.443819   \n84705516                    51.552982                    -0.479194   \n120100592                   51.573702                    -0.432817   \n121041542                   51.519344                    -0.453880   \n120696125                   51.537901                    -0.451470   \n\n           analyticsProperty.propertyId  floorplan_count  \nids                                                       \n111309926                   111309926.0              4.0  \n114491630                   114491630.0              4.0  \n108468728                   108468728.0              4.0  \n119759102                   119759102.0              4.0  \n117676556                   117676556.0              4.0  \n...                                 ...              ...  \n82452681                     82452681.0              4.0  \n84705516                     84705516.0              4.0  \n120100592                   120100592.0              4.0  \n121041542                   121041542.0              4.0  \n120696125                   120696125.0              4.0  \n\n[6087 rows x 16 columns]",
      "text/html": "<div>\n<style scoped>\n    .dataframe tbody tr th:only-of-type {\n        vertical-align: middle;\n    }\n\n    .dataframe tbody tr th {\n        vertical-align: top;\n    }\n\n    .dataframe thead th {\n        text-align: right;\n    }\n</style>\n<table border=\"1\" class=\"dataframe\">\n  <thead>\n    <tr style=\"text-align: right;\">\n      <th></th>\n      <th>Price</th>\n      <th>distance_to_any_train</th>\n      <th>bedrooms</th>\n      <th>bathrooms</th>\n      <th>bedrooms_model</th>\n      <th>bathrooms_model</th>\n      <th>location.longitude</th>\n      <th>analyticsBranch.branchId</th>\n      <th>analyticsProperty.added</th>\n      <th>analyticsProperty.beds</th>\n      <th>analyticsProperty.floorplanCount</th>\n      <th>analyticsProperty.imageCount</th>\n      <th>analyticsProperty.latitude</th>\n      <th>analyticsProperty.longitude</th>\n      <th>analyticsProperty.propertyId</th>\n      <th>floorplan_count</th>\n    </tr>\n    <tr>\n      <th>ids</th>\n      <th></th>\n      <th></th>\n      <th></th>\n      <th></th>\n      <th></th>\n      <th></th>\n      <th></th>\n      <th></th>\n      <th></th>\n      <th></th>\n      <th></th>\n      <th></th>\n      <th></th>\n      <th></th>\n      <th></th>\n      <th></th>\n    </tr>\n  </thead>\n  <tbody>\n    <tr>\n      <th>111309926</th>\n      <td>205000</td>\n      <td>0.5</td>\n      <td>1.0</td>\n      <td>1.0</td>\n      <td>1.0</td>\n      <td>1.0</td>\n      <td>0.003685</td>\n      <td>160727.0</td>\n      <td>20210802.0</td>\n      <td>1.0</td>\n      <td>1.0</td>\n      <td>7.0</td>\n      <td>51.458589</td>\n      <td>0.003685</td>\n      <td>111309926.0</td>\n      <td>4.0</td>\n    </tr>\n    <tr>\n      <th>114491630</th>\n      <td>210000</td>\n      <td>0.4</td>\n      <td>2.0</td>\n      <td>1.0</td>\n      <td>2.0</td>\n      <td>1.0</td>\n      <td>-0.060820</td>\n      <td>166511.0</td>\n      <td>20211007.0</td>\n      <td>2.0</td>\n      <td>1.0</td>\n      <td>8.0</td>\n      <td>51.431580</td>\n      <td>-0.060820</td>\n      <td>114491630.0</td>\n      <td>4.0</td>\n    </tr>\n    <tr>\n      <th>108468728</th>\n      <td>215000</td>\n      <td>0.6</td>\n      <td>1.0</td>\n      <td>1.0</td>\n      <td>1.0</td>\n      <td>1.0</td>\n      <td>0.013220</td>\n      <td>50665.0</td>\n      <td>20210609.0</td>\n      <td>1.0</td>\n      <td>1.0</td>\n      <td>11.0</td>\n      <td>51.437080</td>\n      <td>0.013220</td>\n      <td>108468728.0</td>\n      <td>4.0</td>\n    </tr>\n    <tr>\n      <th>119759102</th>\n      <td>216000</td>\n      <td>0.4</td>\n      <td>2.0</td>\n      <td>1.0</td>\n      <td>2.0</td>\n      <td>1.0</td>\n      <td>-0.037020</td>\n      <td>166511.0</td>\n      <td>20220209.0</td>\n      <td>2.0</td>\n      <td>1.0</td>\n      <td>11.0</td>\n      <td>51.429660</td>\n      <td>-0.037020</td>\n      <td>119759102.0</td>\n      <td>4.0</td>\n    </tr>\n    <tr>\n      <th>117676556</th>\n      <td>220000</td>\n      <td>0.3</td>\n      <td>2.0</td>\n      <td>1.0</td>\n      <td>2.0</td>\n      <td>1.0</td>\n      <td>-0.030918</td>\n      <td>91850.0</td>\n      <td>20211216.0</td>\n      <td>2.0</td>\n      <td>1.0</td>\n      <td>1.0</td>\n      <td>51.481903</td>\n      <td>-0.030918</td>\n      <td>117676556.0</td>\n      <td>4.0</td>\n    </tr>\n    <tr>\n      <th>...</th>\n      <td>...</td>\n      <td>...</td>\n      <td>...</td>\n      <td>...</td>\n      <td>...</td>\n      <td>...</td>\n      <td>...</td>\n      <td>...</td>\n      <td>...</td>\n      <td>...</td>\n      <td>...</td>\n      <td>...</td>\n      <td>...</td>\n      <td>...</td>\n      <td>...</td>\n      <td>...</td>\n    </tr>\n    <tr>\n      <th>82452681</th>\n      <td>450000</td>\n      <td>0.7</td>\n      <td>3.0</td>\n      <td>1.0</td>\n      <td>3.0</td>\n      <td>1.0</td>\n      <td>-0.443819</td>\n      <td>36963.0</td>\n      <td>20211110.0</td>\n      <td>3.0</td>\n      <td>1.0</td>\n      <td>10.0</td>\n      <td>51.543754</td>\n      <td>-0.443819</td>\n      <td>82452681.0</td>\n      <td>4.0</td>\n    </tr>\n    <tr>\n      <th>84705516</th>\n      <td>440000</td>\n      <td>0.5</td>\n      <td>2.0</td>\n      <td>1.0</td>\n      <td>2.0</td>\n      <td>1.0</td>\n      <td>-0.479194</td>\n      <td>36963.0</td>\n      <td>20220419.0</td>\n      <td>2.0</td>\n      <td>1.0</td>\n      <td>12.0</td>\n      <td>51.552982</td>\n      <td>-0.479194</td>\n      <td>84705516.0</td>\n      <td>4.0</td>\n    </tr>\n    <tr>\n      <th>120100592</th>\n      <td>440000</td>\n      <td>0.4</td>\n      <td>2.0</td>\n      <td>1.0</td>\n      <td>2.0</td>\n      <td>1.0</td>\n      <td>-0.432817</td>\n      <td>12872.0</td>\n      <td>20220217.0</td>\n      <td>2.0</td>\n      <td>1.0</td>\n      <td>10.0</td>\n      <td>51.573702</td>\n      <td>-0.432817</td>\n      <td>120100592.0</td>\n      <td>4.0</td>\n    </tr>\n    <tr>\n      <th>121041542</th>\n      <td>440000</td>\n      <td>1.0</td>\n      <td>3.0</td>\n      <td>1.0</td>\n      <td>3.0</td>\n      <td>1.0</td>\n      <td>-0.453880</td>\n      <td>49645.0</td>\n      <td>20220314.0</td>\n      <td>3.0</td>\n      <td>1.0</td>\n      <td>11.0</td>\n      <td>51.519344</td>\n      <td>-0.453880</td>\n      <td>121041542.0</td>\n      <td>4.0</td>\n    </tr>\n    <tr>\n      <th>120696125</th>\n      <td>440000</td>\n      <td>1.1</td>\n      <td>3.0</td>\n      <td>1.0</td>\n      <td>3.0</td>\n      <td>1.0</td>\n      <td>-0.451470</td>\n      <td>3211.0</td>\n      <td>20220305.0</td>\n      <td>3.0</td>\n      <td>1.0</td>\n      <td>13.0</td>\n      <td>51.537901</td>\n      <td>-0.451470</td>\n      <td>120696125.0</td>\n      <td>4.0</td>\n    </tr>\n  </tbody>\n</table>\n<p>6087 rows × 16 columns</p>\n</div>"
     },
     "execution_count": 7,
     "metadata": {},
     "output_type": "execute_result"
    }
   ],
   "source": [
    "print(df_original.shape)\n",
    "df_original['bedrooms'] = df_original['bedrooms'].fillna(-1)\n",
    "df_original['bathrooms'] = df_original['bathrooms'].fillna(-1)\n",
    "df_original['Price'] = pd.to_numeric(df_original['Price'], 'coerce').dropna().astype(int)\n",
    "df_original = df_original[df_original['Price'].notna()]\n",
    "print(df_original.shape)\n",
    "df_original"
   ],
   "metadata": {
    "collapsed": false,
    "pycharm": {
     "name": "#%%\n"
    }
   }
  },
  {
   "cell_type": "code",
   "execution_count": 8,
   "outputs": [],
   "source": [
    "y = df_original['Price']\n",
    "X = df_original.drop(['Price'],axis=1)\n",
    "X_train, X_test, y_train, y_test = train_test_split(X, y)"
   ],
   "metadata": {
    "collapsed": false,
    "pycharm": {
     "name": "#%%\n"
    }
   }
  },
  {
   "cell_type": "code",
   "execution_count": 9,
   "outputs": [
    {
     "data": {
      "text/plain": "Series([], Name: Price, dtype: int64)"
     },
     "execution_count": 9,
     "metadata": {},
     "output_type": "execute_result"
    }
   ],
   "source": [
    "df_original[df_original['Price'].isna()]\n",
    "#y[y['Price'].isna()]\n",
    "y.dtype\n",
    "type(y)\n",
    "y[y.isna()]"
   ],
   "metadata": {
    "collapsed": false,
    "pycharm": {
     "name": "#%%\n"
    }
   }
  },
  {
   "cell_type": "code",
   "execution_count": 10,
   "outputs": [
    {
     "data": {
      "text/plain": "DecisionTreeRegressor(max_depth=4)",
      "text/html": "<style>#sk-container-id-1 {color: black;background-color: white;}#sk-container-id-1 pre{padding: 0;}#sk-container-id-1 div.sk-toggleable {background-color: white;}#sk-container-id-1 label.sk-toggleable__label {cursor: pointer;display: block;width: 100%;margin-bottom: 0;padding: 0.3em;box-sizing: border-box;text-align: center;}#sk-container-id-1 label.sk-toggleable__label-arrow:before {content: \"▸\";float: left;margin-right: 0.25em;color: #696969;}#sk-container-id-1 label.sk-toggleable__label-arrow:hover:before {color: black;}#sk-container-id-1 div.sk-estimator:hover label.sk-toggleable__label-arrow:before {color: black;}#sk-container-id-1 div.sk-toggleable__content {max-height: 0;max-width: 0;overflow: hidden;text-align: left;background-color: #f0f8ff;}#sk-container-id-1 div.sk-toggleable__content pre {margin: 0.2em;color: black;border-radius: 0.25em;background-color: #f0f8ff;}#sk-container-id-1 input.sk-toggleable__control:checked~div.sk-toggleable__content {max-height: 200px;max-width: 100%;overflow: auto;}#sk-container-id-1 input.sk-toggleable__control:checked~label.sk-toggleable__label-arrow:before {content: \"▾\";}#sk-container-id-1 div.sk-estimator input.sk-toggleable__control:checked~label.sk-toggleable__label {background-color: #d4ebff;}#sk-container-id-1 div.sk-label input.sk-toggleable__control:checked~label.sk-toggleable__label {background-color: #d4ebff;}#sk-container-id-1 input.sk-hidden--visually {border: 0;clip: rect(1px 1px 1px 1px);clip: rect(1px, 1px, 1px, 1px);height: 1px;margin: -1px;overflow: hidden;padding: 0;position: absolute;width: 1px;}#sk-container-id-1 div.sk-estimator {font-family: monospace;background-color: #f0f8ff;border: 1px dotted black;border-radius: 0.25em;box-sizing: border-box;margin-bottom: 0.5em;}#sk-container-id-1 div.sk-estimator:hover {background-color: #d4ebff;}#sk-container-id-1 div.sk-parallel-item::after {content: \"\";width: 100%;border-bottom: 1px solid gray;flex-grow: 1;}#sk-container-id-1 div.sk-label:hover label.sk-toggleable__label {background-color: #d4ebff;}#sk-container-id-1 div.sk-serial::before {content: \"\";position: absolute;border-left: 1px solid gray;box-sizing: border-box;top: 0;bottom: 0;left: 50%;z-index: 0;}#sk-container-id-1 div.sk-serial {display: flex;flex-direction: column;align-items: center;background-color: white;padding-right: 0.2em;padding-left: 0.2em;position: relative;}#sk-container-id-1 div.sk-item {position: relative;z-index: 1;}#sk-container-id-1 div.sk-parallel {display: flex;align-items: stretch;justify-content: center;background-color: white;position: relative;}#sk-container-id-1 div.sk-item::before, #sk-container-id-1 div.sk-parallel-item::before {content: \"\";position: absolute;border-left: 1px solid gray;box-sizing: border-box;top: 0;bottom: 0;left: 50%;z-index: -1;}#sk-container-id-1 div.sk-parallel-item {display: flex;flex-direction: column;z-index: 1;position: relative;background-color: white;}#sk-container-id-1 div.sk-parallel-item:first-child::after {align-self: flex-end;width: 50%;}#sk-container-id-1 div.sk-parallel-item:last-child::after {align-self: flex-start;width: 50%;}#sk-container-id-1 div.sk-parallel-item:only-child::after {width: 0;}#sk-container-id-1 div.sk-dashed-wrapped {border: 1px dashed gray;margin: 0 0.4em 0.5em 0.4em;box-sizing: border-box;padding-bottom: 0.4em;background-color: white;}#sk-container-id-1 div.sk-label label {font-family: monospace;font-weight: bold;display: inline-block;line-height: 1.2em;}#sk-container-id-1 div.sk-label-container {text-align: center;}#sk-container-id-1 div.sk-container {/* jupyter's `normalize.less` sets `[hidden] { display: none; }` but bootstrap.min.css set `[hidden] { display: none !important; }` so we also need the `!important` here to be able to override the default hidden behavior on the sphinx rendered scikit-learn.org. See: https://github.com/scikit-learn/scikit-learn/issues/21755 */display: inline-block !important;position: relative;}#sk-container-id-1 div.sk-text-repr-fallback {display: none;}</style><div id=\"sk-container-id-1\" class=\"sk-top-container\"><div class=\"sk-text-repr-fallback\"><pre>DecisionTreeRegressor(max_depth=4)</pre><b>In a Jupyter environment, please rerun this cell to show the HTML representation or trust the notebook. <br />On GitHub, the HTML representation is unable to render, please try loading this page with nbviewer.org.</b></div><div class=\"sk-container\" hidden><div class=\"sk-item\"><div class=\"sk-estimator sk-toggleable\"><input class=\"sk-toggleable__control sk-hidden--visually\" id=\"sk-estimator-id-1\" type=\"checkbox\" checked><label for=\"sk-estimator-id-1\" class=\"sk-toggleable__label sk-toggleable__label-arrow\">DecisionTreeRegressor</label><div class=\"sk-toggleable__content\"><pre>DecisionTreeRegressor(max_depth=4)</pre></div></div></div></div></div>"
     },
     "execution_count": 10,
     "metadata": {},
     "output_type": "execute_result"
    }
   ],
   "source": [
    "tree_reg = DecisionTreeRegressor(max_depth=4)\n",
    "#tree_reg.fit(X, y)\n",
    "tree_reg.fit(X_train, y_train)"
   ],
   "metadata": {
    "collapsed": false,
    "pycharm": {
     "name": "#%%\n"
    }
   }
  },
  {
   "cell_type": "code",
   "execution_count": 11,
   "outputs": [],
   "source": [
    "from sklearn.tree import export_graphviz"
   ],
   "metadata": {
    "collapsed": false,
    "pycharm": {
     "name": "#%%\n"
    }
   }
  },
  {
   "cell_type": "code",
   "execution_count": 12,
   "outputs": [],
   "source": [
    "export_graphviz(tree_reg,\n",
    "                out_file=\"property_price-03.dot\",\n",
    "                feature_names=X.columns,\n",
    "                class_names='Price',\n",
    "                rounded=True,\n",
    "                filled=True)\n",
    "\n",
    "# dot -Tpng property_price-03.dot -o property_price-03.png"
   ],
   "metadata": {
    "collapsed": false,
    "pycharm": {
     "name": "#%%\n"
    }
   }
  },
  {
   "cell_type": "code",
   "execution_count": 13,
   "outputs": [
    {
     "data": {
      "text/plain": "0.37603209799453463"
     },
     "execution_count": 13,
     "metadata": {},
     "output_type": "execute_result"
    }
   ],
   "source": [
    "tree_reg.score(X,y)"
   ],
   "metadata": {
    "collapsed": false,
    "pycharm": {
     "name": "#%%\n"
    }
   }
  },
  {
   "cell_type": "code",
   "execution_count": 14,
   "outputs": [
    {
     "name": "stdout",
     "output_type": "stream",
     "text": [
      "['distance_to_any_train' 'bedrooms' 'bathrooms' 'bedrooms_model'\n",
      " 'bathrooms_model' 'location.longitude' 'analyticsBranch.branchId'\n",
      " 'analyticsProperty.added' 'analyticsProperty.beds'\n",
      " 'analyticsProperty.floorplanCount' 'analyticsProperty.imageCount'\n",
      " 'analyticsProperty.latitude' 'analyticsProperty.longitude'\n",
      " 'analyticsProperty.propertyId' 'floorplan_count']\n",
      "[0.         0.38747637 0.         0.         0.         0.11990708\n",
      " 0.         0.         0.14048983 0.         0.0037802  0.31451708\n",
      " 0.03382945 0.         0.        ]\n"
     ]
    },
    {
     "data": {
      "text/plain": "                                         0\nbedrooms                          0.387476\nanalyticsProperty.latitude        0.314517\nanalyticsProperty.beds            0.140490\nlocation.longitude                0.119907\nanalyticsProperty.longitude       0.033829\nanalyticsProperty.imageCount      0.003780\ndistance_to_any_train             0.000000\nbathrooms                         0.000000\nbedrooms_model                    0.000000\nbathrooms_model                   0.000000\nanalyticsBranch.branchId          0.000000\nanalyticsProperty.added           0.000000\nanalyticsProperty.floorplanCount  0.000000\nanalyticsProperty.propertyId      0.000000\nfloorplan_count                   0.000000",
      "text/html": "<div>\n<style scoped>\n    .dataframe tbody tr th:only-of-type {\n        vertical-align: middle;\n    }\n\n    .dataframe tbody tr th {\n        vertical-align: top;\n    }\n\n    .dataframe thead th {\n        text-align: right;\n    }\n</style>\n<table border=\"1\" class=\"dataframe\">\n  <thead>\n    <tr style=\"text-align: right;\">\n      <th></th>\n      <th>0</th>\n    </tr>\n  </thead>\n  <tbody>\n    <tr>\n      <th>bedrooms</th>\n      <td>0.387476</td>\n    </tr>\n    <tr>\n      <th>analyticsProperty.latitude</th>\n      <td>0.314517</td>\n    </tr>\n    <tr>\n      <th>analyticsProperty.beds</th>\n      <td>0.140490</td>\n    </tr>\n    <tr>\n      <th>location.longitude</th>\n      <td>0.119907</td>\n    </tr>\n    <tr>\n      <th>analyticsProperty.longitude</th>\n      <td>0.033829</td>\n    </tr>\n    <tr>\n      <th>analyticsProperty.imageCount</th>\n      <td>0.003780</td>\n    </tr>\n    <tr>\n      <th>distance_to_any_train</th>\n      <td>0.000000</td>\n    </tr>\n    <tr>\n      <th>bathrooms</th>\n      <td>0.000000</td>\n    </tr>\n    <tr>\n      <th>bedrooms_model</th>\n      <td>0.000000</td>\n    </tr>\n    <tr>\n      <th>bathrooms_model</th>\n      <td>0.000000</td>\n    </tr>\n    <tr>\n      <th>analyticsBranch.branchId</th>\n      <td>0.000000</td>\n    </tr>\n    <tr>\n      <th>analyticsProperty.added</th>\n      <td>0.000000</td>\n    </tr>\n    <tr>\n      <th>analyticsProperty.floorplanCount</th>\n      <td>0.000000</td>\n    </tr>\n    <tr>\n      <th>analyticsProperty.propertyId</th>\n      <td>0.000000</td>\n    </tr>\n    <tr>\n      <th>floorplan_count</th>\n      <td>0.000000</td>\n    </tr>\n  </tbody>\n</table>\n</div>"
     },
     "execution_count": 14,
     "metadata": {},
     "output_type": "execute_result"
    }
   ],
   "source": [
    "print(tree_reg.feature_names_in_)\n",
    "print(tree_reg.feature_importances_)\n",
    "pd.DataFrame(tree_reg.feature_importances_,tree_reg.feature_names_in_).sort_values(by=0,ascending=False)"
   ],
   "metadata": {
    "collapsed": false,
    "pycharm": {
     "name": "#%%\n"
    }
   }
  },
  {
   "cell_type": "code",
   "execution_count": 15,
   "outputs": [
    {
     "data": {
      "text/plain": "[(0.3874763672532156, 'bedrooms'),\n (0.3145170822471733, 'analyticsProperty.latitude'),\n (0.14048982518414652, 'analyticsProperty.beds'),\n (0.11990707852392253, 'location.longitude'),\n (0.033829445222768734, 'analyticsProperty.longitude'),\n (0.0037802015687734064, 'analyticsProperty.imageCount'),\n (0.0, 'floorplan_count'),\n (0.0, 'distance_to_any_train'),\n (0.0, 'bedrooms_model'),\n (0.0, 'bathrooms_model'),\n (0.0, 'bathrooms'),\n (0.0, 'analyticsProperty.propertyId'),\n (0.0, 'analyticsProperty.floorplanCount'),\n (0.0, 'analyticsProperty.added'),\n (0.0, 'analyticsBranch.branchId')]"
     },
     "execution_count": 15,
     "metadata": {},
     "output_type": "execute_result"
    }
   ],
   "source": [
    "sorted(zip(tree_reg.feature_importances_,tree_reg.feature_names_in_),reverse=True)"
   ],
   "metadata": {
    "collapsed": false,
    "pycharm": {
     "name": "#%%\n"
    }
   }
  },
  {
   "cell_type": "code",
   "execution_count": 16,
   "outputs": [],
   "source": [
    "from sklearn.metrics import mean_squared_error\n",
    "\n"
   ],
   "metadata": {
    "collapsed": false,
    "pycharm": {
     "name": "#%%\n"
    }
   }
  },
  {
   "cell_type": "code",
   "execution_count": 17,
   "outputs": [
    {
     "name": "stdout",
     "output_type": "stream",
     "text": [
      "Scores: [142603.21257683  67862.63825745  59441.95572248  78945.71414321\n",
      " 115897.8650411  130347.21851237  96672.76725664 127796.59484505\n",
      " 134547.71389303 116648.90828858]\n",
      "Mean: 107076.458853673\n",
      "Standard deviation: 28041.87329791547\n"
     ]
    }
   ],
   "source": [
    "import numpy as np\n",
    "\n",
    "from sklearn.model_selection import cross_val_score\n",
    "\n",
    "scores = cross_val_score(tree_reg, X, y,\n",
    "                         scoring=\"neg_mean_squared_error\", cv=10)\n",
    "tree_rmse_scores = np.sqrt(-scores)\n",
    "\n",
    "def display_scores(scores):\n",
    "    print(\"Scores:\", scores)\n",
    "    print(\"Mean:\", scores.mean())\n",
    "    print(\"Standard deviation:\", scores.std())\n",
    "\n",
    "display_scores(tree_rmse_scores)"
   ],
   "metadata": {
    "collapsed": false,
    "pycharm": {
     "name": "#%%\n"
    }
   }
  },
  {
   "cell_type": "code",
   "execution_count": 18,
   "outputs": [
    {
     "data": {
      "text/plain": "      actual      predicted\n0     695000  372103.383275\n1     650000  372103.383275\n2     630000  372103.383275\n3     615000  456065.085357\n4     610000  456065.085357\n...      ...            ...\n1517  154000  491110.954693\n1518  150000  372103.383275\n1519  150000  372103.383275\n1520  145000  544424.996324\n1521  120625  456065.085357\n\n[1522 rows x 2 columns]",
      "text/html": "<div>\n<style scoped>\n    .dataframe tbody tr th:only-of-type {\n        vertical-align: middle;\n    }\n\n    .dataframe tbody tr th {\n        vertical-align: top;\n    }\n\n    .dataframe thead th {\n        text-align: right;\n    }\n</style>\n<table border=\"1\" class=\"dataframe\">\n  <thead>\n    <tr style=\"text-align: right;\">\n      <th></th>\n      <th>actual</th>\n      <th>predicted</th>\n    </tr>\n  </thead>\n  <tbody>\n    <tr>\n      <th>0</th>\n      <td>695000</td>\n      <td>372103.383275</td>\n    </tr>\n    <tr>\n      <th>1</th>\n      <td>650000</td>\n      <td>372103.383275</td>\n    </tr>\n    <tr>\n      <th>2</th>\n      <td>630000</td>\n      <td>372103.383275</td>\n    </tr>\n    <tr>\n      <th>3</th>\n      <td>615000</td>\n      <td>456065.085357</td>\n    </tr>\n    <tr>\n      <th>4</th>\n      <td>610000</td>\n      <td>456065.085357</td>\n    </tr>\n    <tr>\n      <th>...</th>\n      <td>...</td>\n      <td>...</td>\n    </tr>\n    <tr>\n      <th>1517</th>\n      <td>154000</td>\n      <td>491110.954693</td>\n    </tr>\n    <tr>\n      <th>1518</th>\n      <td>150000</td>\n      <td>372103.383275</td>\n    </tr>\n    <tr>\n      <th>1519</th>\n      <td>150000</td>\n      <td>372103.383275</td>\n    </tr>\n    <tr>\n      <th>1520</th>\n      <td>145000</td>\n      <td>544424.996324</td>\n    </tr>\n    <tr>\n      <th>1521</th>\n      <td>120625</td>\n      <td>456065.085357</td>\n    </tr>\n  </tbody>\n</table>\n<p>1522 rows × 2 columns</p>\n</div>"
     },
     "execution_count": 18,
     "metadata": {},
     "output_type": "execute_result"
    }
   ],
   "source": [
    "y_pred = tree_reg.predict(X_test)\n",
    "true_vs_pred = pd.DataFrame(sorted(zip(y_test, y_pred), reverse=True),columns=['actual','predicted'])\n",
    "true_vs_pred"
   ],
   "metadata": {
    "collapsed": false,
    "pycharm": {
     "name": "#%%\n"
    }
   }
  },
  {
   "cell_type": "code",
   "execution_count": 19,
   "outputs": [
    {
     "data": {
      "text/plain": "<AxesSubplot:xlabel='actual', ylabel='predicted'>"
     },
     "execution_count": 19,
     "metadata": {},
     "output_type": "execute_result"
    },
    {
     "data": {
      "text/plain": "<Figure size 864x864 with 1 Axes>",
      "image/png": "[encoded data removed]"
     },
     "metadata": {
      "needs_background": "light"
     },
     "output_type": "display_data"
    }
   ],
   "source": [
    "true_vs_pred.plot(kind='scatter',x=0,y=1,figsize=(12,12))"
   ],
   "metadata": {
    "collapsed": false,
    "pycharm": {
     "name": "#%%\n"
    }
   }
  }
 ],
 "metadata": {
  "kernelspec": {
   "display_name": "Python 3",
   "language": "python",
   "name": "python3"
  },
  "language_info": {
   "codemirror_mode": {
    "name": "ipython",
    "version": 2
   },
   "file_extension": ".py",
   "mimetype": "text/x-python",
   "name": "python",
   "nbconvert_exporter": "python",
   "pygments_lexer": "ipython2",
   "version": "2.7.6"
  }
 },
 "nbformat": 4,
 "nbformat_minor": 0
}