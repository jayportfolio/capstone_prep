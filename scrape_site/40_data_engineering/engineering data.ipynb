{
 "cells": [
  {
   "cell_type": "code",
   "execution_count": 1,
   "metadata": {
    "collapsed": true,
    "pycharm": {
     "name": "#%%\n"
    }
   },
   "outputs": [],
   "source": [
    "import sys\n",
    "import pandas as pd\n",
    "import numpy as np\n",
    "\n",
    "sys.path.append('../../globalfunction')  # setting path\n",
    "import globalfunction.vv as vv  # importing\n",
    "import globalfunction.pp as pp  # importing"
   ]
  },
  {
   "cell_type": "code",
   "execution_count": 2,
   "outputs": [
    {
     "name": "stdout",
     "output_type": "stream",
     "text": [
      "remove duplicates: 20925/29984/22089/24047 ==> 20925/20520/18445/20297\n",
      "dataframe length: 20255\n",
      "(20255, 146)\n"
     ]
    },
    {
     "data": {
      "text/plain": "                                      Description     Price  \\\nids                                                           \n119380301            1 bedroom apartment for sale  585000.0   \n85089531   3 bedroom semi-detached house for sale  585000.0   \n122728412  4 bedroom semi-detached house for sale  585000.0   \n123588773                 4 bedroom flat for sale  585000.0   \n96584980             2 bedroom apartment for sale  585000.0   \n\n                                                    add_info  \\\nids                                                            \n119380301  Added on 01/02/2022 by MyLondonHome, Central L...   \n85089531   Reduced on 01/07/2022 by Stirling Ackroyd, Whi...   \n122728412  Added on 22/04/2022 by Foxtons, Covering Hounslow   \n123588773           Added on 23/05/2022 by Rolfe East, Acton   \n96584980          Added on 19/05/2022 by JOHNS&CO, Brentford   \n\n                  date_scraped  distance_to_any_train           type  \\\nids                                                                    \n119380301  2022-07-03 19:38:39                    0.4      Apartment   \n85089531   2022-07-03 19:38:40                    0.6  Semi-Detached   \n122728412  2022-07-03 19:38:40                    0.5  Semi-Detached   \n123588773  2022-07-03 19:38:40                    0.6           Flat   \n96584980   2022-07-03 19:38:40                    0.4      Apartment   \n\n           bedrooms  bathrooms                        size other_key_info  \\\nids                                                                         \n119380301       1.0        1.0     539 sq. ft.;(50 sq. m.)            NaN   \n85089531        3.0        1.0                         NaN            NaN   \n122728412       4.0        1.0  1,912 sq. ft.;(178 sq. m.)            NaN   \n123588773       4.0        1.0                         NaN            NaN   \n96584980        2.0        2.0                         NaN            NaN   \n\n           ... analyticsProperty.propertyType analyticsProperty.retirement  \\\nids        ...                                                               \n119380301  ...             Flats / Apartments                        False   \n85089531   ...                         Houses                        False   \n122728412  ...                         Houses                        False   \n123588773  ...             Flats / Apartments                        False   \n96584980   ...             Flats / Apartments                        False   \n\n          analyticsProperty.selectedCurrency analyticsProperty.selectedPrice  \\\nids                                                                            \n119380301                                NaN                             NaN   \n85089531                                 NaN                             NaN   \n122728412                                NaN                             NaN   \n123588773                                NaN                             NaN   \n96584980                                 NaN                             NaN   \n\n          analyticsProperty.soldSTC analyticsProperty.videoProvider  \\\nids                                                                   \n119380301                     False                        No Video   \n85089531                      False                        No Video   \n122728412                     False                        No Video   \n123588773                     False                        No Video   \n96584980                      False                        No Video   \n\n          analyticsProperty.viewType Unnamed: 46 floorplan_count borough_name  \nids                                                                            \n119380301                    Current         NaN             NaN     Hounslow  \n85089531                     Current         NaN             NaN     Hounslow  \n122728412                    Current         NaN             NaN     Hounslow  \n123588773                    Current         NaN             NaN     Hounslow  \n96584980                     Current         NaN             NaN     Hounslow  \n\n[5 rows x 146 columns]",
      "text/html": "<div>\n<style scoped>\n    .dataframe tbody tr th:only-of-type {\n        vertical-align: middle;\n    }\n\n    .dataframe tbody tr th {\n        vertical-align: top;\n    }\n\n    .dataframe thead th {\n        text-align: right;\n    }\n</style>\n<table border=\"1\" class=\"dataframe\">\n  <thead>\n    <tr style=\"text-align: right;\">\n      <th></th>\n      <th>Description</th>\n      <th>Price</th>\n      <th>add_info</th>\n      <th>date_scraped</th>\n      <th>distance_to_any_train</th>\n      <th>type</th>\n      <th>bedrooms</th>\n      <th>bathrooms</th>\n      <th>size</th>\n      <th>other_key_info</th>\n      <th>...</th>\n      <th>analyticsProperty.propertyType</th>\n      <th>analyticsProperty.retirement</th>\n      <th>analyticsProperty.selectedCurrency</th>\n      <th>analyticsProperty.selectedPrice</th>\n      <th>analyticsProperty.soldSTC</th>\n      <th>analyticsProperty.videoProvider</th>\n      <th>analyticsProperty.viewType</th>\n      <th>Unnamed: 46</th>\n      <th>floorplan_count</th>\n      <th>borough_name</th>\n    </tr>\n    <tr>\n      <th>ids</th>\n      <th></th>\n      <th></th>\n      <th></th>\n      <th></th>\n      <th></th>\n      <th></th>\n      <th></th>\n      <th></th>\n      <th></th>\n      <th></th>\n      <th></th>\n      <th></th>\n      <th></th>\n      <th></th>\n      <th></th>\n      <th></th>\n      <th></th>\n      <th></th>\n      <th></th>\n      <th></th>\n      <th></th>\n    </tr>\n  </thead>\n  <tbody>\n    <tr>\n      <th>119380301</th>\n      <td>1 bedroom apartment for sale</td>\n      <td>585000.0</td>\n      <td>Added on 01/02/2022 by MyLondonHome, Central L...</td>\n      <td>2022-07-03 19:38:39</td>\n      <td>0.4</td>\n      <td>Apartment</td>\n      <td>1.0</td>\n      <td>1.0</td>\n      <td>539 sq. ft.;(50 sq. m.)</td>\n      <td>NaN</td>\n      <td>...</td>\n      <td>Flats / Apartments</td>\n      <td>False</td>\n      <td>NaN</td>\n      <td>NaN</td>\n      <td>False</td>\n      <td>No Video</td>\n      <td>Current</td>\n      <td>NaN</td>\n      <td>NaN</td>\n      <td>Hounslow</td>\n    </tr>\n    <tr>\n      <th>85089531</th>\n      <td>3 bedroom semi-detached house for sale</td>\n      <td>585000.0</td>\n      <td>Reduced on 01/07/2022 by Stirling Ackroyd, Whi...</td>\n      <td>2022-07-03 19:38:40</td>\n      <td>0.6</td>\n      <td>Semi-Detached</td>\n      <td>3.0</td>\n      <td>1.0</td>\n      <td>NaN</td>\n      <td>NaN</td>\n      <td>...</td>\n      <td>Houses</td>\n      <td>False</td>\n      <td>NaN</td>\n      <td>NaN</td>\n      <td>False</td>\n      <td>No Video</td>\n      <td>Current</td>\n      <td>NaN</td>\n      <td>NaN</td>\n      <td>Hounslow</td>\n    </tr>\n    <tr>\n      <th>122728412</th>\n      <td>4 bedroom semi-detached house for sale</td>\n      <td>585000.0</td>\n      <td>Added on 22/04/2022 by Foxtons, Covering Hounslow</td>\n      <td>2022-07-03 19:38:40</td>\n      <td>0.5</td>\n      <td>Semi-Detached</td>\n      <td>4.0</td>\n      <td>1.0</td>\n      <td>1,912 sq. ft.;(178 sq. m.)</td>\n      <td>NaN</td>\n      <td>...</td>\n      <td>Houses</td>\n      <td>False</td>\n      <td>NaN</td>\n      <td>NaN</td>\n      <td>False</td>\n      <td>No Video</td>\n      <td>Current</td>\n      <td>NaN</td>\n      <td>NaN</td>\n      <td>Hounslow</td>\n    </tr>\n    <tr>\n      <th>123588773</th>\n      <td>4 bedroom flat for sale</td>\n      <td>585000.0</td>\n      <td>Added on 23/05/2022 by Rolfe East, Acton</td>\n      <td>2022-07-03 19:38:40</td>\n      <td>0.6</td>\n      <td>Flat</td>\n      <td>4.0</td>\n      <td>1.0</td>\n      <td>NaN</td>\n      <td>NaN</td>\n      <td>...</td>\n      <td>Flats / Apartments</td>\n      <td>False</td>\n      <td>NaN</td>\n      <td>NaN</td>\n      <td>False</td>\n      <td>No Video</td>\n      <td>Current</td>\n      <td>NaN</td>\n      <td>NaN</td>\n      <td>Hounslow</td>\n    </tr>\n    <tr>\n      <th>96584980</th>\n      <td>2 bedroom apartment for sale</td>\n      <td>585000.0</td>\n      <td>Added on 19/05/2022 by JOHNS&amp;CO, Brentford</td>\n      <td>2022-07-03 19:38:40</td>\n      <td>0.4</td>\n      <td>Apartment</td>\n      <td>2.0</td>\n      <td>2.0</td>\n      <td>NaN</td>\n      <td>NaN</td>\n      <td>...</td>\n      <td>Flats / Apartments</td>\n      <td>False</td>\n      <td>NaN</td>\n      <td>NaN</td>\n      <td>False</td>\n      <td>No Video</td>\n      <td>Current</td>\n      <td>NaN</td>\n      <td>NaN</td>\n      <td>Hounslow</td>\n    </tr>\n  </tbody>\n</table>\n<p>5 rows × 146 columns</p>\n</div>"
     },
     "execution_count": 2,
     "metadata": {},
     "output_type": "execute_result"
    }
   ],
   "source": [
    "df_engineer = vv.quick_data(no_cuts=True,publish=True,early_duplicates=True)\n",
    "\n",
    "print(df_engineer.shape)\n",
    "df_engineer.head()"
   ],
   "metadata": {
    "collapsed": false,
    "pycharm": {
     "name": "#%%\n"
    }
   }
  },
  {
   "cell_type": "code",
   "execution_count": 3,
   "outputs": [
    {
     "data": {
      "text/plain": "Description                                             1 bedroom apartment for sale\nPrice                                                                       585000.0\nadd_info                           Added on 01/02/2022 by MyLondonHome, Central L...\ndate_scraped                                                     2022-07-03 19:38:39\ndistance_to_any_train                                                            0.4\n                                                         ...                        \nanalyticsProperty.videoProvider                                             No Video\nanalyticsProperty.viewType                                                   Current\nUnnamed: 46                                                                      NaN\nfloorplan_count                                                                  NaN\nborough_name                                                                Hounslow\nName: 119380301, Length: 146, dtype: object"
     },
     "execution_count": 3,
     "metadata": {},
     "output_type": "execute_result"
    }
   ],
   "source": [
    "df_engineer.iloc[0, :]"
   ],
   "metadata": {
    "collapsed": false,
    "pycharm": {
     "name": "#%%\n"
    }
   }
  },
  {
   "cell_type": "markdown",
   "source": [
    "### Make list of all the columns I've reviewed"
   ],
   "metadata": {
    "collapsed": false,
    "pycharm": {
     "name": "#%% md\n"
    }
   },
   "outputs": []
  },
  {
   "cell_type": "code",
   "execution_count": 4,
   "outputs": [],
   "source": [
    "sections = [pp.potential, pp.useful_numeric, pp.engineerable_numeric, pp.countable_numeric, pp.useful_non_numeric, pp.boolean, pp.categorical, pp.engineerable_text,\n",
    "            pp.engineerable, pp.long_text, pp.redundancies, pp.commercial, pp.admin, pp.gdpr, pp.ids,\n",
    "            pp.uninteresting, pp.last]\n",
    "section_names = [\"potential\", \"useful_numeric\", \"engineerable_numeric\", \"countable_numeric\", \"useful_non_numeric\", \"boolean\", \"categorical\", \"engineerable_text\", \"engineerable\",\n",
    "                 \"long_text\", \"redundancies\", \"commercial\", 'admin','gdpr','ids'\n",
    "                 \"uninteresting\", \"last\"]\n",
    "\n",
    "section_list = []\n",
    "for each in sections:\n",
    "    #print(each)\n",
    "    for key, values in each.items():\n",
    "        #print(\"   \",key)\n",
    "        #print(\"       \",value)\n",
    "        section_list.append(key)\n",
    "        section_list.extend(values)\n",
    "#section_list"
   ],
   "metadata": {
    "collapsed": false,
    "pycharm": {
     "name": "#%%\n"
    }
   }
  },
  {
   "cell_type": "markdown",
   "source": [
    "\n",
    "### Are any columns unaccounted for?"
   ],
   "metadata": {
    "collapsed": false,
    "pycharm": {
     "name": "#%% md\n"
    }
   }
  },
  {
   "cell_type": "code",
   "execution_count": 5,
   "outputs": [
    {
     "name": "stdout",
     "output_type": "stream",
     "text": [
      "<class 'numpy.ndarray'>\n",
      "146 None\n",
      "3 None\n"
     ]
    },
    {
     "data": {
      "text/plain": "['auctionProvider.endDate',\n 'auctionProvider.auctionTimeRemaining',\n 'auctionProvider.bid']"
     },
     "execution_count": 5,
     "metadata": {},
     "output_type": "execute_result"
    }
   ],
   "source": [
    "all_columns = df_engineer.columns.to_numpy()\n",
    "print(type(all_columns))\n",
    "each = None\n",
    "print(len(all_columns), each)\n",
    "\n",
    "#for each in section_list:\n",
    "all_columns = [a for a in all_columns if a not in section_list]\n",
    "print(len(all_columns), each)\n",
    "\n",
    "#all_columns = [all_columns[ (each not in all_columns)]\n",
    "#\tprint(len(all_columns), each)\n",
    "#\tall_columns.pop(each)\n",
    "all_columns"
   ],
   "metadata": {
    "collapsed": false,
    "pycharm": {
     "name": "#%%\n"
    }
   }
  },
  {
   "cell_type": "code",
   "execution_count": 6,
   "outputs": [
    {
     "name": "stdout",
     "output_type": "stream",
     "text": [
      "location.latitude\n",
      "ids\n",
      "119380301          NaN\n",
      "85089531           NaN\n",
      "122728412          NaN\n",
      "123588773          NaN\n",
      "96584980           NaN\n",
      "               ...    \n",
      "96654763     51.383175\n",
      "96654973     51.425121\n",
      "96655021     51.420468\n",
      "97404863     51.369314\n",
      "97494416     51.355790\n",
      "Name: location.latitude, Length: 20255, dtype: float64\n",
      "location.longitude\n",
      "ids\n",
      "119380301         NaN\n",
      "85089531          NaN\n",
      "122728412         NaN\n",
      "123588773         NaN\n",
      "96584980          NaN\n",
      "               ...   \n",
      "96654763    -0.157464\n",
      "96654973    -0.189844\n",
      "96655021    -0.139815\n",
      "97404863    -0.229459\n",
      "97494416    -0.190990\n",
      "Name: location.longitude, Length: 20255, dtype: float64\n",
      "distance_to_any_train\n",
      "ids\n",
      "119380301    0.4\n",
      "85089531     0.6\n",
      "122728412    0.5\n",
      "123588773    0.6\n",
      "96584980     0.4\n",
      "            ... \n",
      "96654763     0.4\n",
      "96654973     0.0\n",
      "96655021     0.2\n",
      "97404863     0.9\n",
      "97494416     0.3\n",
      "Name: distance_to_any_train, Length: 20255, dtype: float64\n",
      "Price\n",
      "ids\n",
      "119380301    585000.0\n",
      "85089531     585000.0\n",
      "122728412    585000.0\n",
      "123588773    585000.0\n",
      "96584980     585000.0\n",
      "               ...   \n",
      "96654763     500000.0\n",
      "96654973     650000.0\n",
      "96655021     675000.0\n",
      "97404863     175000.0\n",
      "97494416     120000.0\n",
      "Name: Price, Length: 20255, dtype: float64\n",
      "bedrooms_model\n",
      "ids\n",
      "119380301    NaN\n",
      "85089531     NaN\n",
      "122728412    NaN\n",
      "123588773    NaN\n",
      "96584980     NaN\n",
      "            ... \n",
      "96654763     3.0\n",
      "96654973     3.0\n",
      "96655021     3.0\n",
      "97404863     1.0\n",
      "97494416     1.0\n",
      "Name: bedrooms_model, Length: 20255, dtype: float64\n",
      "bathrooms_model\n",
      "ids\n",
      "119380301    NaN\n",
      "85089531     NaN\n",
      "122728412    NaN\n",
      "123588773    NaN\n",
      "96584980     NaN\n",
      "            ... \n",
      "96654763     1.0\n",
      "96654973     2.0\n",
      "96655021     2.0\n",
      "97404863     1.0\n",
      "97494416     1.0\n",
      "Name: bathrooms_model, Length: 20255, dtype: float64\n",
      "analyticsProperty.imageCount\n",
      "ids\n",
      "119380301     6.0\n",
      "85089531     18.0\n",
      "122728412     9.0\n",
      "123588773    11.0\n",
      "96584980      6.0\n",
      "             ... \n",
      "96654763     32.0\n",
      "96654973      8.0\n",
      "96655021      8.0\n",
      "97404863     14.0\n",
      "97494416      9.0\n",
      "Name: analyticsProperty.imageCount, Length: 20255, dtype: float64\n",
      "analyticsProperty.added\n",
      "ids\n",
      "119380301    20220201.0\n",
      "85089531     20220429.0\n",
      "122728412    20220422.0\n",
      "123588773    20220523.0\n",
      "96584980     20220519.0\n",
      "                ...    \n",
      "96654763     20220530.0\n",
      "96654973     20220530.0\n",
      "96655021     20220530.0\n",
      "97404863     20200919.0\n",
      "97494416     20200921.0\n",
      "Name: analyticsProperty.added, Length: 20255, dtype: float64\n",
      "floorplan_count\n",
      "ids\n",
      "119380301    NaN\n",
      "85089531     NaN\n",
      "122728412    NaN\n",
      "123588773    NaN\n",
      "96584980     NaN\n",
      "            ... \n",
      "96654763     8.0\n",
      "96654973     4.0\n",
      "96655021     4.0\n",
      "97404863     4.0\n",
      "97494416     4.0\n",
      "Name: floorplan_count, Length: 20255, dtype: float64\n"
     ]
    }
   ],
   "source": [
    "df_engineer\n",
    "\n",
    "for each in pp.useful_numeric:\n",
    "    print(each)\n",
    "    print(df_engineer[each])"
   ],
   "metadata": {
    "collapsed": false,
    "pycharm": {
     "name": "#%%\n"
    }
   }
  },
  {
   "cell_type": "code",
   "execution_count": 7,
   "outputs": [],
   "source": [
    "df_engineer\n",
    "\n",
    "\n",
    "def display_column(index):\n",
    "    #df_engineer[useful_numeric[index]]\n",
    "    #return useful_numeric[useful_numeric.keys().get(index)]\n",
    "    l = list(pp.useful_numeric)\n",
    "    return df_engineer[l[index]]\n",
    "\n",
    "\n",
    "iterator_index = -1\n",
    "section__value_count_index = -1\n",
    "section_describe_index = -1\n",
    "section_isnull_index = -1"
   ],
   "metadata": {
    "collapsed": false,
    "pycharm": {
     "name": "#%%\n"
    }
   }
  },
  {
   "cell_type": "code",
   "execution_count": 8,
   "outputs": [
    {
     "data": {
      "text/plain": "51.581933    30\n51.485270    17\n51.508650    14\n51.596550    13\n51.535760    13\n             ..\n51.601215     1\n51.593373     1\n51.600230     1\n51.599468     1\n51.420468     1\nName: location.latitude, Length: 15329, dtype: int64"
     },
     "execution_count": 8,
     "metadata": {},
     "output_type": "execute_result"
    }
   ],
   "source": [
    "section__value_count_index = (section__value_count_index + 1) % len(sections)\n",
    "column = display_column(section__value_count_index)\n",
    "column.value_counts()"
   ],
   "metadata": {
    "collapsed": false,
    "pycharm": {
     "name": "#%%\n"
    }
   }
  },
  {
   "cell_type": "code",
   "execution_count": 9,
   "outputs": [
    {
     "name": "stderr",
     "output_type": "stream",
     "text": [
      "/tmp/ipykernel_3744/1038519996.py:2: FutureWarning: Passing a dict as an indexer is deprecated and will raise in a future version. Use a list instead.\n",
      "  df_engineer[sections[section_describe_index]].describe()\n"
     ]
    },
    {
     "data": {
      "text/plain": "       tenure.yearsRemainingOnLease  sharedOwnership.ownershipPercentage  \\\ncount                   1203.000000                             6.000000   \nmean                     283.457190                            49.166667   \nstd                      340.123725                            16.857244   \nmin                        0.000000                            25.000000   \n25%                      100.000000                            40.000000   \n50%                      121.000000                            50.000000   \n75%                      239.000000                            60.000000   \nmax                      999.000000                            70.000000   \n\n       livingCosts.annualGroundRent  \\\ncount                     47.000000   \nmean                     154.936170   \nstd                      155.486251   \nmin                        0.000000   \n25%                       10.000000   \n50%                      150.000000   \n75%                      250.000000   \nmax                      700.000000   \n\n       livingCosts.groundRentReviewPeriodInYears  \\\ncount                                  13.000000   \nmean                                   82.307692   \nstd                                   275.623954   \nmin                                     0.000000   \n25%                                     0.000000   \n50%                                     0.000000   \n75%                                    21.000000   \nmax                                   999.000000   \n\n       livingCosts.groundRentPercentageIncrease  \\\ncount                                       6.0   \nmean                                        0.0   \nstd                                         0.0   \nmin                                         0.0   \n25%                                         0.0   \n50%                                         0.0   \n75%                                         0.0   \nmax                                         0.0   \n\n       livingCosts.annualServiceCharge  \ncount                        61.000000  \nmean                       1186.573115  \nstd                        1023.081541  \nmin                           0.000000  \n25%                         100.000000  \n50%                        1188.000000  \n75%                        1756.800000  \nmax                        3694.000000  ",
      "text/html": "<div>\n<style scoped>\n    .dataframe tbody tr th:only-of-type {\n        vertical-align: middle;\n    }\n\n    .dataframe tbody tr th {\n        vertical-align: top;\n    }\n\n    .dataframe thead th {\n        text-align: right;\n    }\n</style>\n<table border=\"1\" class=\"dataframe\">\n  <thead>\n    <tr style=\"text-align: right;\">\n      <th></th>\n      <th>tenure.yearsRemainingOnLease</th>\n      <th>sharedOwnership.ownershipPercentage</th>\n      <th>livingCosts.annualGroundRent</th>\n      <th>livingCosts.groundRentReviewPeriodInYears</th>\n      <th>livingCosts.groundRentPercentageIncrease</th>\n      <th>livingCosts.annualServiceCharge</th>\n    </tr>\n  </thead>\n  <tbody>\n    <tr>\n      <th>count</th>\n      <td>1203.000000</td>\n      <td>6.000000</td>\n      <td>47.000000</td>\n      <td>13.000000</td>\n      <td>6.0</td>\n      <td>61.000000</td>\n    </tr>\n    <tr>\n      <th>mean</th>\n      <td>283.457190</td>\n      <td>49.166667</td>\n      <td>154.936170</td>\n      <td>82.307692</td>\n      <td>0.0</td>\n      <td>1186.573115</td>\n    </tr>\n    <tr>\n      <th>std</th>\n      <td>340.123725</td>\n      <td>16.857244</td>\n      <td>155.486251</td>\n      <td>275.623954</td>\n      <td>0.0</td>\n      <td>1023.081541</td>\n    </tr>\n    <tr>\n      <th>min</th>\n      <td>0.000000</td>\n      <td>25.000000</td>\n      <td>0.000000</td>\n      <td>0.000000</td>\n      <td>0.0</td>\n      <td>0.000000</td>\n    </tr>\n    <tr>\n      <th>25%</th>\n      <td>100.000000</td>\n      <td>40.000000</td>\n      <td>10.000000</td>\n      <td>0.000000</td>\n      <td>0.0</td>\n      <td>100.000000</td>\n    </tr>\n    <tr>\n      <th>50%</th>\n      <td>121.000000</td>\n      <td>50.000000</td>\n      <td>150.000000</td>\n      <td>0.000000</td>\n      <td>0.0</td>\n      <td>1188.000000</td>\n    </tr>\n    <tr>\n      <th>75%</th>\n      <td>239.000000</td>\n      <td>60.000000</td>\n      <td>250.000000</td>\n      <td>21.000000</td>\n      <td>0.0</td>\n      <td>1756.800000</td>\n    </tr>\n    <tr>\n      <th>max</th>\n      <td>999.000000</td>\n      <td>70.000000</td>\n      <td>700.000000</td>\n      <td>999.000000</td>\n      <td>0.0</td>\n      <td>3694.000000</td>\n    </tr>\n  </tbody>\n</table>\n</div>"
     },
     "execution_count": 9,
     "metadata": {},
     "output_type": "execute_result"
    }
   ],
   "source": [
    "section_describe_index = (section_describe_index + 1) % len(sections)\n",
    "df_engineer[sections[section_describe_index]].describe()"
   ],
   "metadata": {
    "collapsed": false,
    "pycharm": {
     "name": "#%%\n"
    }
   }
  },
  {
   "cell_type": "code",
   "execution_count": 10,
   "outputs": [
    {
     "name": "stdout",
     "output_type": "stream",
     "text": [
      "DATAFRAME for potential -> (1/17 [total=20255])\n"
     ]
    },
    {
     "data": {
      "text/plain": "                                                       rooms  \\\nids                                                            \n119380301                                                NaN   \n85089531                                                 NaN   \n122728412                                                NaN   \n123588773                                                NaN   \n96584980                                                 NaN   \n...                                                      ...   \n96654763                                                  []   \n96654973                                                  []   \n96655021                                                  []   \n97404863   [{'name': 'Entrance Hall', 'description': None...   \n97494416                                                  []   \n\n           tenure.yearsRemainingOnLease tenure.message  \\\nids                                                      \n119380301                           NaN            NaN   \n85089531                            NaN            NaN   \n122728412                           NaN            NaN   \n123588773                           NaN            NaN   \n96584980                            NaN            NaN   \n...                                 ...            ...   \n96654763                            NaN            NaN   \n96654973                            NaN            NaN   \n96655021                            NaN            NaN   \n97404863                            NaN            NaN   \n97494416                            NaN            NaN   \n\n          sharedOwnership.sharedOwnership  \\\nids                                         \n119380301                             NaN   \n85089531                              NaN   \n122728412                             NaN   \n123588773                             NaN   \n96584980                              NaN   \n...                                   ...   \n96654763                            False   \n96654973                            False   \n96655021                            False   \n97404863                            False   \n97494416                            False   \n\n           sharedOwnership.ownershipPercentage  livingCosts.annualGroundRent  \\\nids                                                                            \n119380301                                  NaN                           NaN   \n85089531                                   NaN                           NaN   \n122728412                                  NaN                           NaN   \n123588773                                  NaN                           NaN   \n96584980                                   NaN                           NaN   \n...                                        ...                           ...   \n96654763                                   NaN                           NaN   \n96654973                                   NaN                           NaN   \n96655021                                   NaN                           NaN   \n97404863                                   NaN                           NaN   \n97494416                                   NaN                           NaN   \n\n           livingCosts.groundRentReviewPeriodInYears  \\\nids                                                    \n119380301                                        NaN   \n85089531                                         NaN   \n122728412                                        NaN   \n123588773                                        NaN   \n96584980                                         NaN   \n...                                              ...   \n96654763                                         NaN   \n96654973                                         NaN   \n96655021                                         NaN   \n97404863                                         NaN   \n97494416                                         NaN   \n\n           livingCosts.groundRentPercentageIncrease  \\\nids                                                   \n119380301                                       NaN   \n85089531                                        NaN   \n122728412                                       NaN   \n123588773                                       NaN   \n96584980                                        NaN   \n...                                             ...   \n96654763                                        NaN   \n96654973                                        NaN   \n96655021                                        NaN   \n97404863                                        NaN   \n97494416                                        NaN   \n\n           livingCosts.annualServiceCharge livingCosts.councilTaxBand  \\\nids                                                                     \n119380301                              NaN                        NaN   \n85089531                               NaN                        NaN   \n122728412                              NaN                        NaN   \n123588773                              NaN                        NaN   \n96584980                               NaN                        NaN   \n...                                    ...                        ...   \n96654763                               NaN                        NaN   \n96654973                               NaN                        NaN   \n96655021                               NaN                        NaN   \n97404863                               NaN                        NaN   \n97494416                               NaN                        NaN   \n\n          analyticsBranch.brandName analyticsProperty.auctionOnly  \\\nids                                                                 \n119380301              MyLondonHome                         False   \n85089531           Stirling Ackroyd                         False   \n122728412                   Foxtons                         False   \n123588773                Rolfe East                         False   \n96584980                   JOHNS&CO                         False   \n...                             ...                           ...   \n96654763                Paul Graham                         False   \n96654973                    Dexters                         False   \n96655021                    Dexters                         False   \n97404863      Andrews Estate Agents                         False   \n97494416             Barnard Marcus                         False   \n\n                                                      images  \nids                                                           \n119380301                                                NaN  \n85089531                                                 NaN  \n122728412                                                NaN  \n123588773                                                NaN  \n96584980                                                 NaN  \n...                                                      ...  \n96654763   [{'url': 'https://media.rightmove.co.uk/31k/30...  \n96654973   [{'url': 'https://media.rightmove.co.uk/85k/84...  \n96655021   [{'url': 'https://media.rightmove.co.uk/101k/1...  \n97404863   [{'url': 'https://media.rightmove.co.uk/5k/456...  \n97494416   [{'url': 'https://media.rightmove.co.uk/2k/193...  \n\n[20255 rows x 13 columns]",
      "text/html": "<div>\n<style scoped>\n    .dataframe tbody tr th:only-of-type {\n        vertical-align: middle;\n    }\n\n    .dataframe tbody tr th {\n        vertical-align: top;\n    }\n\n    .dataframe thead th {\n        text-align: right;\n    }\n</style>\n<table border=\"1\" class=\"dataframe\">\n  <thead>\n    <tr style=\"text-align: right;\">\n      <th></th>\n      <th>rooms</th>\n      <th>tenure.yearsRemainingOnLease</th>\n      <th>tenure.message</th>\n      <th>sharedOwnership.sharedOwnership</th>\n      <th>sharedOwnership.ownershipPercentage</th>\n      <th>livingCosts.annualGroundRent</th>\n      <th>livingCosts.groundRentReviewPeriodInYears</th>\n      <th>livingCosts.groundRentPercentageIncrease</th>\n      <th>livingCosts.annualServiceCharge</th>\n      <th>livingCosts.councilTaxBand</th>\n      <th>analyticsBranch.brandName</th>\n      <th>analyticsProperty.auctionOnly</th>\n      <th>images</th>\n    </tr>\n    <tr>\n      <th>ids</th>\n      <th></th>\n      <th></th>\n      <th></th>\n      <th></th>\n      <th></th>\n      <th></th>\n      <th></th>\n      <th></th>\n      <th></th>\n      <th></th>\n      <th></th>\n      <th></th>\n      <th></th>\n    </tr>\n  </thead>\n  <tbody>\n    <tr>\n      <th>119380301</th>\n      <td>NaN</td>\n      <td>NaN</td>\n      <td>NaN</td>\n      <td>NaN</td>\n      <td>NaN</td>\n      <td>NaN</td>\n      <td>NaN</td>\n      <td>NaN</td>\n      <td>NaN</td>\n      <td>NaN</td>\n      <td>MyLondonHome</td>\n      <td>False</td>\n      <td>NaN</td>\n    </tr>\n    <tr>\n      <th>85089531</th>\n      <td>NaN</td>\n      <td>NaN</td>\n      <td>NaN</td>\n      <td>NaN</td>\n      <td>NaN</td>\n      <td>NaN</td>\n      <td>NaN</td>\n      <td>NaN</td>\n      <td>NaN</td>\n      <td>NaN</td>\n      <td>Stirling Ackroyd</td>\n      <td>False</td>\n      <td>NaN</td>\n    </tr>\n    <tr>\n      <th>122728412</th>\n      <td>NaN</td>\n      <td>NaN</td>\n      <td>NaN</td>\n      <td>NaN</td>\n      <td>NaN</td>\n      <td>NaN</td>\n      <td>NaN</td>\n      <td>NaN</td>\n      <td>NaN</td>\n      <td>NaN</td>\n      <td>Foxtons</td>\n      <td>False</td>\n      <td>NaN</td>\n    </tr>\n    <tr>\n      <th>123588773</th>\n      <td>NaN</td>\n      <td>NaN</td>\n      <td>NaN</td>\n      <td>NaN</td>\n      <td>NaN</td>\n      <td>NaN</td>\n      <td>NaN</td>\n      <td>NaN</td>\n      <td>NaN</td>\n      <td>NaN</td>\n      <td>Rolfe East</td>\n      <td>False</td>\n      <td>NaN</td>\n    </tr>\n    <tr>\n      <th>96584980</th>\n      <td>NaN</td>\n      <td>NaN</td>\n      <td>NaN</td>\n      <td>NaN</td>\n      <td>NaN</td>\n      <td>NaN</td>\n      <td>NaN</td>\n      <td>NaN</td>\n      <td>NaN</td>\n      <td>NaN</td>\n      <td>JOHNS&amp;CO</td>\n      <td>False</td>\n      <td>NaN</td>\n    </tr>\n    <tr>\n      <th>...</th>\n      <td>...</td>\n      <td>...</td>\n      <td>...</td>\n      <td>...</td>\n      <td>...</td>\n      <td>...</td>\n      <td>...</td>\n      <td>...</td>\n      <td>...</td>\n      <td>...</td>\n      <td>...</td>\n      <td>...</td>\n      <td>...</td>\n    </tr>\n    <tr>\n      <th>96654763</th>\n      <td>[]</td>\n      <td>NaN</td>\n      <td>NaN</td>\n      <td>False</td>\n      <td>NaN</td>\n      <td>NaN</td>\n      <td>NaN</td>\n      <td>NaN</td>\n      <td>NaN</td>\n      <td>NaN</td>\n      <td>Paul Graham</td>\n      <td>False</td>\n      <td>[{'url': 'https://media.rightmove.co.uk/31k/30...</td>\n    </tr>\n    <tr>\n      <th>96654973</th>\n      <td>[]</td>\n      <td>NaN</td>\n      <td>NaN</td>\n      <td>False</td>\n      <td>NaN</td>\n      <td>NaN</td>\n      <td>NaN</td>\n      <td>NaN</td>\n      <td>NaN</td>\n      <td>NaN</td>\n      <td>Dexters</td>\n      <td>False</td>\n      <td>[{'url': 'https://media.rightmove.co.uk/85k/84...</td>\n    </tr>\n    <tr>\n      <th>96655021</th>\n      <td>[]</td>\n      <td>NaN</td>\n      <td>NaN</td>\n      <td>False</td>\n      <td>NaN</td>\n      <td>NaN</td>\n      <td>NaN</td>\n      <td>NaN</td>\n      <td>NaN</td>\n      <td>NaN</td>\n      <td>Dexters</td>\n      <td>False</td>\n      <td>[{'url': 'https://media.rightmove.co.uk/101k/1...</td>\n    </tr>\n    <tr>\n      <th>97404863</th>\n      <td>[{'name': 'Entrance Hall', 'description': None...</td>\n      <td>NaN</td>\n      <td>NaN</td>\n      <td>False</td>\n      <td>NaN</td>\n      <td>NaN</td>\n      <td>NaN</td>\n      <td>NaN</td>\n      <td>NaN</td>\n      <td>NaN</td>\n      <td>Andrews Estate Agents</td>\n      <td>False</td>\n      <td>[{'url': 'https://media.rightmove.co.uk/5k/456...</td>\n    </tr>\n    <tr>\n      <th>97494416</th>\n      <td>[]</td>\n      <td>NaN</td>\n      <td>NaN</td>\n      <td>False</td>\n      <td>NaN</td>\n      <td>NaN</td>\n      <td>NaN</td>\n      <td>NaN</td>\n      <td>NaN</td>\n      <td>NaN</td>\n      <td>Barnard Marcus</td>\n      <td>False</td>\n      <td>[{'url': 'https://media.rightmove.co.uk/2k/193...</td>\n    </tr>\n  </tbody>\n</table>\n<p>20255 rows × 13 columns</p>\n</div>"
     },
     "execution_count": 10,
     "metadata": {},
     "output_type": "execute_result"
    }
   ],
   "source": [
    "def data_across_columns_across_sections(which_data='nulls', show_alternatives=False):\n",
    "    global section_isnull_index\n",
    "    section_isnull_index = (section_isnull_index + 1) % len(sections)\n",
    "\n",
    "    keyvalues = sections[section_isnull_index]\n",
    "    list_plus = []\n",
    "    for key, value in keyvalues.items():\n",
    "        #print(key)\n",
    "        list_plus.append(key)\n",
    "        if show_alternatives:\n",
    "            list_plus.extend(value)\n",
    "\n",
    "    if which_data == 'nulls':\n",
    "        print(f'IS NULL for {section_names[sections.index(keyvalues)]} -> ({section_isnull_index + 1}/{len(sections)} [total={len(df_engineer)}])')\n",
    "        return df_engineer[list_plus].isnull().sum()\n",
    "    elif which_data == 'describe':\n",
    "        print(f'DESCRIBE for {section_names[sections.index(keyvalues)]} -> ({section_isnull_index + 1}/{len(sections)} [total={len(df_engineer)}])')\n",
    "        return df_engineer[list_plus].describe()\n",
    "    elif which_data == 'count':\n",
    "        print(f'VALUE COUNTS for {section_names[sections.index(keyvalues)]} -> ({section_isnull_index + 1}/{len(sections)} [total={len(df_engineer)}])')\n",
    "        return df_engineer[list_plus].value_counts()\n",
    "    elif which_data == 'dataframe':\n",
    "        print(f'DATAFRAME for {section_names[sections.index(keyvalues)]} -> ({section_isnull_index + 1}/{len(sections)} [total={len(df_engineer)}])')\n",
    "        return df_engineer[list_plus]\n",
    "\n",
    "\n",
    "#data_across_columns_across_sections(show_alternatives=False)\n",
    "data_across_columns_across_sections(show_alternatives=False, which_data='dataframe')"
   ],
   "metadata": {
    "collapsed": false,
    "pycharm": {
     "name": "#%%\n"
    }
   }
  },
  {
   "cell_type": "code",
   "execution_count": 13,
   "outputs": [
    {
     "data": {
      "text/plain": "           analyticsProperty.maxSizeAc  analyticsProperty.maxSizeFt  \\\nids                                                                   \n119380301                     0.012374                        539.0   \n122728412                     0.043893                       1912.0   \n124210436                     0.012466                        543.0   \n118700414                     0.018939                        825.0   \n114175946                     0.033609                       1464.0   \n...                                ...                          ...   \n96594331                      0.018411                        802.0   \n96634957                      0.017424                        759.0   \n96639031                      0.014325                        624.0   \n96650071                      0.034343                       1496.0   \n96651034                      0.028765                       1253.0   \n\n           analyticsProperty.minSizeAc  analyticsProperty.minSizeFt  \\\nids                                                                   \n119380301                     0.012374                        539.0   \n122728412                     0.043893                       1912.0   \n124210436                     0.012466                        543.0   \n118700414                     0.018939                        825.0   \n114175946                     0.033609                       1464.0   \n...                                ...                          ...   \n96594331                      0.018411                        802.0   \n96634957                      0.017424                        759.0   \n96639031                      0.014325                        624.0   \n96650071                      0.034343                       1496.0   \n96651034                      0.028765                       1253.0   \n\n                  date_scraped    date_scraped_meta  \nids                                                  \n119380301  2022-07-03 19:38:39  2022-07-03 19:49:16  \n122728412  2022-07-03 19:38:40  2022-07-03 19:43:20  \n124210436  2022-07-03 19:38:42  2022-07-03 19:39:26  \n118700414  2022-07-03 19:38:40  2022-07-03 19:45:12  \n114175946  2022-07-03 19:38:40  2022-07-03 19:44:25  \n...                        ...                  ...  \n96594331                   NaN  2022-06-26 10:40:29  \n96634957                   NaN  2022-06-26 14:14:15  \n96639031                   NaN  2022-06-26 14:14:37  \n96650071                   NaN  2022-06-26 14:16:10  \n96651034                   NaN  2022-06-26 14:16:24  \n\n[3184 rows x 6 columns]",
      "text/html": "<div>\n<style scoped>\n    .dataframe tbody tr th:only-of-type {\n        vertical-align: middle;\n    }\n\n    .dataframe tbody tr th {\n        vertical-align: top;\n    }\n\n    .dataframe thead th {\n        text-align: right;\n    }\n</style>\n<table border=\"1\" class=\"dataframe\">\n  <thead>\n    <tr style=\"text-align: right;\">\n      <th></th>\n      <th>analyticsProperty.maxSizeAc</th>\n      <th>analyticsProperty.maxSizeFt</th>\n      <th>analyticsProperty.minSizeAc</th>\n      <th>analyticsProperty.minSizeFt</th>\n      <th>date_scraped</th>\n      <th>date_scraped_meta</th>\n    </tr>\n    <tr>\n      <th>ids</th>\n      <th></th>\n      <th></th>\n      <th></th>\n      <th></th>\n      <th></th>\n      <th></th>\n    </tr>\n  </thead>\n  <tbody>\n    <tr>\n      <th>119380301</th>\n      <td>0.012374</td>\n      <td>539.0</td>\n      <td>0.012374</td>\n      <td>539.0</td>\n      <td>2022-07-03 19:38:39</td>\n      <td>2022-07-03 19:49:16</td>\n    </tr>\n    <tr>\n      <th>122728412</th>\n      <td>0.043893</td>\n      <td>1912.0</td>\n      <td>0.043893</td>\n      <td>1912.0</td>\n      <td>2022-07-03 19:38:40</td>\n      <td>2022-07-03 19:43:20</td>\n    </tr>\n    <tr>\n      <th>124210436</th>\n      <td>0.012466</td>\n      <td>543.0</td>\n      <td>0.012466</td>\n      <td>543.0</td>\n      <td>2022-07-03 19:38:42</td>\n      <td>2022-07-03 19:39:26</td>\n    </tr>\n    <tr>\n      <th>118700414</th>\n      <td>0.018939</td>\n      <td>825.0</td>\n      <td>0.018939</td>\n      <td>825.0</td>\n      <td>2022-07-03 19:38:40</td>\n      <td>2022-07-03 19:45:12</td>\n    </tr>\n    <tr>\n      <th>114175946</th>\n      <td>0.033609</td>\n      <td>1464.0</td>\n      <td>0.033609</td>\n      <td>1464.0</td>\n      <td>2022-07-03 19:38:40</td>\n      <td>2022-07-03 19:44:25</td>\n    </tr>\n    <tr>\n      <th>...</th>\n      <td>...</td>\n      <td>...</td>\n      <td>...</td>\n      <td>...</td>\n      <td>...</td>\n      <td>...</td>\n    </tr>\n    <tr>\n      <th>96594331</th>\n      <td>0.018411</td>\n      <td>802.0</td>\n      <td>0.018411</td>\n      <td>802.0</td>\n      <td>NaN</td>\n      <td>2022-06-26 10:40:29</td>\n    </tr>\n    <tr>\n      <th>96634957</th>\n      <td>0.017424</td>\n      <td>759.0</td>\n      <td>0.017424</td>\n      <td>759.0</td>\n      <td>NaN</td>\n      <td>2022-06-26 14:14:15</td>\n    </tr>\n    <tr>\n      <th>96639031</th>\n      <td>0.014325</td>\n      <td>624.0</td>\n      <td>0.014325</td>\n      <td>624.0</td>\n      <td>NaN</td>\n      <td>2022-06-26 14:14:37</td>\n    </tr>\n    <tr>\n      <th>96650071</th>\n      <td>0.034343</td>\n      <td>1496.0</td>\n      <td>0.034343</td>\n      <td>1496.0</td>\n      <td>NaN</td>\n      <td>2022-06-26 14:16:10</td>\n    </tr>\n    <tr>\n      <th>96651034</th>\n      <td>0.028765</td>\n      <td>1253.0</td>\n      <td>0.028765</td>\n      <td>1253.0</td>\n      <td>NaN</td>\n      <td>2022-06-26 14:16:24</td>\n    </tr>\n  </tbody>\n</table>\n<p>3184 rows × 6 columns</p>\n</div>"
     },
     "execution_count": 13,
     "metadata": {},
     "output_type": "execute_result"
    }
   ],
   "source": [
    "df_engineer[\n",
    "    ['analyticsProperty.maxSizeAc', 'analyticsProperty.maxSizeFt', 'analyticsProperty.minSizeAc', 'analyticsProperty.minSizeFt', 'date_scraped',\n",
    "     'date_scraped_meta']][df_engineer['analyticsProperty.maxSizeAc'].notnull()]"
   ],
   "metadata": {
    "collapsed": false,
    "pycharm": {
     "name": "#%%\n"
    }
   }
  },
  {
   "cell_type": "code",
   "execution_count": 14,
   "outputs": [
    {
     "name": "stdout",
     "output_type": "stream",
     "text": [
      "20255\n",
      "20255\n"
     ]
    }
   ],
   "source": [
    "print(len(df_engineer))\n",
    "new_df_engineer = df_engineer.copy()\n",
    "#new_df_engineer.set_index(\"ids\", inplace=True)\n",
    "new_df_engineer = new_df_engineer[~new_df_engineer.index.duplicated(keep='last')]\n",
    "print(len(new_df_engineer))"
   ],
   "metadata": {
    "collapsed": false,
    "pycharm": {
     "name": "#%%\n"
    }
   }
  },
  {
   "cell_type": "code",
   "execution_count": null,
   "outputs": [],
   "source": [],
   "metadata": {
    "collapsed": false,
    "pycharm": {
     "name": "#%%\n"
    }
   }
  }
 ],
 "metadata": {
  "kernelspec": {
   "display_name": "Python 3",
   "language": "python",
   "name": "python3"
  },
  "language_info": {
   "codemirror_mode": {
    "name": "ipython",
    "version": 2
   },
   "file_extension": ".py",
   "mimetype": "text/x-python",
   "name": "python",
   "nbconvert_exporter": "python",
   "pygments_lexer": "ipython2",
   "version": "2.7.6"
  }
 },
 "nbformat": 4,
 "nbformat_minor": 0
}